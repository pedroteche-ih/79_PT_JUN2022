{
  "nbformat": 4,
  "nbformat_minor": 0,
  "metadata": {
    "colab": {
      "provenance": [],
      "authorship_tag": "ABX9TyP8RrSU9Nod0ylQnNViA8kN",
      "include_colab_link": true
    },
    "kernelspec": {
      "name": "python3",
      "display_name": "Python 3"
    },
    "language_info": {
      "name": "python"
    }
  },
  "cells": [
    {
      "cell_type": "markdown",
      "metadata": {
        "id": "view-in-github",
        "colab_type": "text"
      },
      "source": [
        "<a href=\"https://colab.research.google.com/github/pedroteche-ih/79_PT_JUN2022/blob/main/aulas/79_DA_PT_JUN_2022_Desafio_Python.ipynb\" target=\"_parent\"><img src=\"https://colab.research.google.com/assets/colab-badge.svg\" alt=\"Open In Colab\"/></a>"
      ]
    },
    {
      "cell_type": "code",
      "execution_count": 1,
      "metadata": {
        "id": "uyC1BngF_8q-"
      },
      "outputs": [],
      "source": [
        "import numpy as np"
      ]
    },
    {
      "cell_type": "markdown",
      "source": [
        "Dada uma `array` numérica de tamanho NxM e uma posiçao inicial `(i, j)`, encontre todos os elementos da região contígua à `(i, j)` cujos valores tenham no máximo uma diferença de `k` para o valor de `(i, j)`.\n",
        "\n",
        "Retorne o resultado como uma `array` de tamanho NxM com 1s indicando a região contínua e 0 nos pontos restantes.\n",
        "\n",
        "Por exemplo, se o `array` original é:"
      ],
      "metadata": {
        "id": "-E2xv3VwAuXI"
      }
    },
    {
      "cell_type": "code",
      "source": [
        "np.array([[1,1,1,1,1],[1,2,1,3,3], [1,4,4,4,4], [5,5,5,5,5]])"
      ],
      "metadata": {
        "colab": {
          "base_uri": "https://localhost:8080/"
        },
        "id": "cYElgQq__-DE",
        "outputId": "c073d7f7-454f-4b2b-fa61-f37da6a96866"
      },
      "execution_count": 13,
      "outputs": [
        {
          "output_type": "execute_result",
          "data": {
            "text/plain": [
              "array([[1, 1, 1, 1, 1],\n",
              "       [1, 2, 1, 3, 3],\n",
              "       [1, 4, 4, 4, 4],\n",
              "       [5, 5, 5, 5, 5]])"
            ]
          },
          "metadata": {},
          "execution_count": 13
        }
      ]
    },
    {
      "cell_type": "markdown",
      "source": [
        "com `(i, j) = (0, 2)` e `k = 1` o resultado seria:"
      ],
      "metadata": {
        "id": "MPFAALMyA2M9"
      }
    },
    {
      "cell_type": "code",
      "source": [
        "np.array([[1,1,1,1,1],[1,1,1,0,0], [1,0,0,0,0], [0,0,0,0,0]])"
      ],
      "metadata": {
        "colab": {
          "base_uri": "https://localhost:8080/"
        },
        "id": "eJmS9-v1AGeA",
        "outputId": "c7287aa6-c930-4a19-9fce-d6047e4b0823"
      },
      "execution_count": 8,
      "outputs": [
        {
          "output_type": "execute_result",
          "data": {
            "text/plain": [
              "array([[1, 1, 1, 1, 1],\n",
              "       [1, 1, 1, 0, 0],\n",
              "       [1, 0, 0, 0, 0],\n",
              "       [0, 0, 0, 0, 0]])"
            ]
          },
          "metadata": {},
          "execution_count": 8
        }
      ]
    },
    {
      "cell_type": "markdown",
      "source": [
        "com `(i, j) = (2, 1)` e `k = 0` o resultado seria:"
      ],
      "metadata": {
        "id": "2Rj_jEk_BCoy"
      }
    },
    {
      "cell_type": "code",
      "source": [
        "np.array([[0,0,0,0,0],[0,0,0,0,0], [0,1,1,1,1], [0,0,0,0,0]])"
      ],
      "metadata": {
        "colab": {
          "base_uri": "https://localhost:8080/"
        },
        "id": "gn4bMcenAOyl",
        "outputId": "89d15d5d-5fc4-475d-9ef8-f219810baf10"
      },
      "execution_count": 14,
      "outputs": [
        {
          "output_type": "execute_result",
          "data": {
            "text/plain": [
              "array([[0, 0, 0, 0, 0],\n",
              "       [0, 0, 0, 0, 0],\n",
              "       [0, 1, 1, 1, 1],\n",
              "       [0, 0, 0, 0, 0]])"
            ]
          },
          "metadata": {},
          "execution_count": 14
        }
      ]
    },
    {
      "cell_type": "code",
      "source": [
        "# SEU CÓDIGO AQUI"
      ],
      "metadata": {
        "id": "K_Gbl9_LBSAG"
      },
      "execution_count": 15,
      "outputs": []
    }
  ]
}

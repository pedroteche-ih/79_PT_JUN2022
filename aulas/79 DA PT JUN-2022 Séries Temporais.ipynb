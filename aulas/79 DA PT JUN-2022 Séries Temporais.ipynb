{
 "cells": [
  {
   "cell_type": "code",
   "execution_count": null,
   "metadata": {},
   "outputs": [],
   "source": [
    "import pandas as pd\n",
    "import numpy as np\n",
    "import seaborn as sns\n",
    "import matplotlib.pyplot as plt\n",
    "import catboost as cat\n",
    "from sklearn import linear_model as lm\n",
    "from sklearn.preprocessing import SplineTransformer, OneHotEncoder, StandardScaler\n",
    "from sklearn.metrics import mean_squared_error\n"
   ]
  },
  {
   "cell_type": "markdown",
   "metadata": {},
   "source": [
    "# Séries Temporais\n",
    "No contexto de análise e ciência de dados, séries temporais são dados observados de forma sequencial, em intervalos regulares ou irregulares. Muitas vezes esses dados são resultado de agregações feitas por um campo de data: podemos construir a série temporal do número de itens vendidos pelo Olist por dia, ou então o número de ataques de tubarão for mês."
   ]
  },
  {
   "cell_type": "markdown",
   "metadata": {},
   "source": [
    "# Dataset\n",
    "\n",
    "Vamos continuar a análise do conjunto de dados de cancelamentos de reservas em 2 hotéis europeus. No entanto, enquanto no case de sábado passado fizemos uma análise baseada no dado transacional (cada individuo de nossa tabela era uma reserva) hoje agregaremos este dado e analisaremos o resultado agregado diário para um dos hotéis.\n",
    "\n",
    "Primeiro vamos carregar o conjunto de dados de hotéis e transformar a informação de data em campos datetime. Isso nos permitirá calcular a data na qual a reserva foi feita."
   ]
  },
  {
   "cell_type": "code",
   "execution_count": null,
   "metadata": {},
   "outputs": [],
   "source": [
    "tb_hotel = pd.read_csv(\"data/tb_hotel_bookings_full.csv\")\n",
    "tb_hotel[\"arrival_dt\"] = pd.to_datetime(tb_hotel[\"arrival_date\"])\n",
    "tb_hotel[\"update_dt\"] = pd.to_datetime(tb_hotel[\"reservation_status_date\"])\n",
    "tb_hotel[\"reserva_dt\"] = tb_hotel[\"arrival_dt\"] - pd.to_timedelta(\n",
    "    tb_hotel[\"lead_time\"], unit=\"d\"\n",
    ")\n"
   ]
  },
  {
   "cell_type": "markdown",
   "metadata": {},
   "source": [
    "Para construir a série temporal de cancelamentos e reservas precisamos decidir por qual campo de data agregaremos nossos dados:\n",
    "\n",
    "1. **Data de Chegada**\n",
    "1. **Data da Reserva**\n",
    "1. **Data da Última Atualização da Reserva**\n",
    "\n",
    "Essa opção é algo comum quando construímos séries temporais (no âmbito de produtos por exemplo podemos ver as datas de compra, de faturamento e de entrega por exemplo). Por enquanto limitaremos a análise à **data de chegada**."
   ]
  },
  {
   "cell_type": "code",
   "execution_count": null,
   "metadata": {},
   "outputs": [],
   "source": [
    "tb_resort = tb_hotel[tb_hotel[\"hotel\"] == \"Resort Hotel\"]\n",
    "tb_resort_ts = (\n",
    "    tb_resort.groupby(\"arrival_dt\")\n",
    "    .agg(\n",
    "        num_reservas=pd.NamedAgg(\"id_booking\", \"count\"),\n",
    "        num_canceladas=pd.NamedAgg(\"is_canceled\", \"sum\"),\n",
    "    )\n",
    "    .reset_index()\n",
    ")\n",
    "tb_resort_ts[\"per_canceladas\"] = (\n",
    "    tb_resort_ts[\"num_canceladas\"] / tb_resort_ts[\"num_reservas\"]\n",
    ")\n"
   ]
  },
  {
   "cell_type": "markdown",
   "metadata": {},
   "source": [
    "A forma mais comum de visualizar dados de série temporal é através de **lineplots** onde o tempo é colocado no eixo X e as variáveis a serem analisadas no eixo Y."
   ]
  },
  {
   "cell_type": "code",
   "execution_count": null,
   "metadata": {},
   "outputs": [],
   "source": [
    "fig, ax = plt.subplots(3, 1, figsize=(15, 8))\n",
    "sns.lineplot(data=tb_resort_ts, x=\"arrival_dt\", y=\"num_reservas\", ax=ax[0])\n",
    "sns.lineplot(data=tb_resort_ts, x=\"arrival_dt\", y=\"num_canceladas\", ax=ax[1])\n",
    "sns.lineplot(data=tb_resort_ts, x=\"arrival_dt\", y=\"per_canceladas\", ax=ax[2])\n",
    "ax[0].set_xlabel(\"\")\n",
    "ax[1].set_xlabel(\"\")\n",
    "fig.suptitle(\"Evolução de Reservas por Data de Chegada\", y=0.95);\n"
   ]
  },
  {
   "cell_type": "markdown",
   "metadata": {},
   "source": [
    "## Train & Test para séries temporais\n",
    "A nossa estratégia tradicional para divisão de um dataset em train e test não funciona em séries temporais: como elas são definidas pela sequencialidade das observações, remover pontos aleatórios de dentro da série seria estranho... A forma mais simples e tradicional de se fazer essa divisão é selecionando pontos no fim da série como nosso conjunto teste. No exemplo acima optei por formar o conjunto de train a partir dos dois primeiros anos continuos que temos na série (veremos porque quando olharmos componentes sazonais)."
   ]
  },
  {
   "cell_type": "code",
   "execution_count": null,
   "metadata": {},
   "outputs": [],
   "source": [
    "tb_resort_ts[\"arrival_dt\"].describe()\n"
   ]
  },
  {
   "cell_type": "markdown",
   "metadata": {},
   "source": [
    "Ao invés de realizar a transformação agora, vamos definir uma função que realiza essa divisão para nós. Dessa forma não precisamos replicar nosso feature engineering em 2 datasets o tempo todo."
   ]
  },
  {
   "cell_type": "code",
   "execution_count": null,
   "metadata": {},
   "outputs": [],
   "source": [
    "def split_hotel_ts(hotel_data, break_date):\n",
    "    train_data = hotel_data[hotel_data[\"arrival_dt\"] < break_date].copy()\n",
    "    test_data = hotel_data[hotel_data[\"arrival_dt\"] >= break_date].copy()\n",
    "    return train_data, test_data\n"
   ]
  },
  {
   "cell_type": "markdown",
   "metadata": {},
   "source": [
    "# Decomposição TCSI\n",
    "\n",
    "A forma mais tradicional de se analisar um série temporal é através da decomposição TCSI:\n",
    "\n",
    "1. **T - Componente de Tendência (Trend):** representação da evolução a longo prazo da série (*a taxa de cancelamento está crescendo ou caindo?*)\n",
    "1. **C - Componente Ciclico (Cyclic)** representação da evolução ciclica não periódicas (*tivemos momentos com mais (ou menos) cancelamentos de forma estrutural?*)\n",
    "1. **S - Componente Sazonal (Seasonal)** representação da peridiocidade sazonal (ciclo regular) (*temos mais cancelamento para reservas em junho? ou para reservas de segunda-feira? ou da última semana do mês?*)\n",
    "1. **I - Componente de Ruído (Irregular/Noise)** o que não é representado pelos três componentes acima."
   ]
  },
  {
   "cell_type": "markdown",
   "metadata": {},
   "source": [
    "## Componente de Tendência (Trend)"
   ]
  },
  {
   "cell_type": "code",
   "execution_count": null,
   "metadata": {},
   "outputs": [],
   "source": [
    "tb_resort_ts[\"t_dias\"] = (\n",
    "    tb_resort_ts[\"arrival_dt\"] - min(tb_resort_ts[\"arrival_dt\"])\n",
    ").dt.total_seconds() / (24 * 60 * 60)\n",
    "tb_resort_ts.head()"
   ]
  },
  {
   "cell_type": "markdown",
   "metadata": {},
   "source": [
    "### Estimativa de tendência linear"
   ]
  },
  {
   "cell_type": "code",
   "execution_count": null,
   "metadata": {},
   "outputs": [],
   "source": [
    "train_data, test_data = split_hotel_ts(tb_resort_ts, \"2017-08-01\")\n",
    "trend_fit = lm.LinearRegression()\n",
    "trend_fit.fit(train_data[[\"t_dias\"]], train_data[\"per_canceladas\"])\n"
   ]
  },
  {
   "cell_type": "code",
   "execution_count": null,
   "metadata": {},
   "outputs": [],
   "source": [
    "trend_fit.coef_"
   ]
  },
  {
   "cell_type": "code",
   "execution_count": null,
   "metadata": {},
   "outputs": [],
   "source": [
    "tb_resort_ts[\"pred_trend_linear\"] = trend_fit.predict(tb_resort_ts[[\"t_dias\"]])\n"
   ]
  },
  {
   "cell_type": "code",
   "execution_count": null,
   "metadata": {},
   "outputs": [],
   "source": [
    "fig, ax = plt.subplots(1, 1, figsize=(15, 3))\n",
    "sns.lineplot(data=tb_resort_ts, x=\"arrival_dt\", y=\"per_canceladas\")\n",
    "sns.lineplot(data=tb_resort_ts, x=\"arrival_dt\", y=\"pred_trend_linear\", color=\"red\")\n",
    "fig.suptitle(\"Evolução de Reservas por Data de Chegada\", y=0.95)\n"
   ]
  },
  {
   "cell_type": "markdown",
   "metadata": {},
   "source": [
    "## Componente Cíclico (Cycle)\n",
    "\n",
    "Como os ciclos representam variações não-periódicas é dificil separa-los da avaliação de tendência (principalmente em séries curtas). Vamos utilizar três técnicas para estimar variações em relação a tendência."
   ]
  },
  {
   "cell_type": "markdown",
   "metadata": {},
   "source": [
    "### Tendência Polinomial"
   ]
  },
  {
   "cell_type": "code",
   "execution_count": null,
   "metadata": {},
   "outputs": [],
   "source": [
    "from sklearn.preprocessing import PolynomialFeatures\n"
   ]
  },
  {
   "cell_type": "code",
   "execution_count": null,
   "metadata": {},
   "outputs": [],
   "source": [
    "poly_trans = PolynomialFeatures(degree=2)\n",
    "poly_trans.fit(train_data[[\"t_dias\"]])\n"
   ]
  },
  {
   "cell_type": "code",
   "execution_count": null,
   "metadata": {},
   "outputs": [],
   "source": [
    "poly_trans.n_output_features_\n"
   ]
  },
  {
   "cell_type": "code",
   "execution_count": null,
   "metadata": {},
   "outputs": [],
   "source": [
    "tb_resort_ts"
   ]
  },
  {
   "cell_type": "code",
   "execution_count": null,
   "metadata": {},
   "outputs": [],
   "source": [
    "poly_names = [\"P\" + str(i) for i in range(poly_trans.n_output_features_)]\n",
    "pd.DataFrame(\n",
    "            poly_trans.transform(tb_resort_ts[[\"t_dias\"]]),\n",
    "            columns=poly_names,\n",
    "        )"
   ]
  },
  {
   "cell_type": "code",
   "execution_count": null,
   "metadata": {},
   "outputs": [],
   "source": [
    "poly_trans.transform(tb_resort_ts[[\"t_dias\"]])"
   ]
  },
  {
   "cell_type": "code",
   "execution_count": null,
   "metadata": {},
   "outputs": [],
   "source": [
    "poly_names = [\"P\" + str(i) for i in range(poly_trans.n_output_features_)]\n",
    "tb_resort_ts_p = pd.concat(\n",
    "    [\n",
    "        tb_resort_ts,\n",
    "        pd.DataFrame(\n",
    "            poly_trans.transform(tb_resort_ts[[\"t_dias\"]]),\n",
    "            columns=poly_names,\n",
    "        ),\n",
    "    ],\n",
    "    axis=1,\n",
    ")\n",
    "tb_resort_ts_p.head()\n"
   ]
  },
  {
   "cell_type": "code",
   "execution_count": null,
   "metadata": {},
   "outputs": [],
   "source": [
    "train_data, test_data = split_hotel_ts(tb_resort_ts_p, \"2017-08-01\")\n",
    "\n",
    "poly_trend_fit = lm.LinearRegression()\n",
    "poly_trend_fit.fit(train_data[poly_names], train_data[\"per_canceladas\"])\n",
    "\n",
    "\n",
    "\n",
    "tb_resort_ts_p[\"pred_trend_poly\"] = poly_trend_fit.predict(tb_resort_ts_p[poly_names])\n",
    "\n",
    "fig, ax = plt.subplots(1, 1, figsize=(15, 3))\n",
    "sns.lineplot(data=tb_resort_ts_p, x=\"arrival_dt\", y=\"per_canceladas\")\n",
    "sns.lineplot(data=tb_resort_ts_p, x=\"arrival_dt\", y=\"pred_trend_linear\", color=\"red\")\n",
    "sns.lineplot(data=tb_resort_ts_p, x=\"arrival_dt\", y=\"pred_trend_poly\", color=\"black\")\n",
    "fig.suptitle(\n",
    "    f\"Evolução da Taxa de Cancelamentos\\ncom Tendências Linear e Polinomial de grau {poly_trans.degree}\",\n",
    "    y=1.05,\n",
    ")\n"
   ]
  },
  {
   "cell_type": "code",
   "execution_count": null,
   "metadata": {},
   "outputs": [],
   "source": [
    "test_data[\"pred_trend_linear\"] = trend_fit.predict(test_data[[\"t_dias\"]])\n",
    "test_data[\"pred_trend_poly\"] = poly_trend_fit.predict(test_data[poly_names])\n",
    "rmse_lin = np.sqrt(\n",
    "    mean_squared_error(test_data[\"per_canceladas\"], test_data[\"pred_trend_linear\"])\n",
    ")\n",
    "rmse_poly = np.sqrt(\n",
    "    mean_squared_error(test_data[\"per_canceladas\"], test_data[\"pred_trend_poly\"])\n",
    ")\n",
    "print(f\"Trend Lin.: {round(rmse_lin, 2)}\")\n",
    "print(f\"Trend Poly.: {round(rmse_poly, 2)}\")\n"
   ]
  },
  {
   "cell_type": "markdown",
   "metadata": {},
   "source": [
    "### B-Splines"
   ]
  },
  {
   "cell_type": "code",
   "execution_count": null,
   "metadata": {},
   "outputs": [],
   "source": [
    "spl_trans = SplineTransformer(n_knots=24, extrapolation=\"constant\")\n",
    "spl_trans.fit(train_data[[\"t_dias\"]])\n",
    "spl_names = [\"S\" + str(i) for i in range(spl_trans.n_features_out_)]\n",
    "tb_resort_ts_b = pd.concat(\n",
    "    [\n",
    "        tb_resort_ts,\n",
    "        pd.DataFrame(\n",
    "            spl_trans.transform(tb_resort_ts[[\"t_dias\"]]),\n",
    "            columns=spl_names,\n",
    "        ),\n",
    "    ],\n",
    "    axis=1,\n",
    ")\n",
    "tb_resort_ts_b.head()\n",
    "sns.scatterplot(data = tb_resort_ts_b, x = 't_dias', y = 'S22');\n",
    "sns.scatterplot(data = tb_resort_ts_b, x = 't_dias', y = 'S23');\n",
    "sns.scatterplot(data = tb_resort_ts_b, x = 't_dias', y = 'S24');\n"
   ]
  },
  {
   "cell_type": "code",
   "execution_count": null,
   "metadata": {},
   "outputs": [],
   "source": [
    "train_data, test_data = split_hotel_ts(tb_resort_ts_b, \"2017-08-01\")\n",
    "spline_fit = lm.LinearRegression()\n",
    "spline_fit.fit(train_data[spl_names], train_data[\"per_canceladas\"])\n",
    "tb_resort_ts_b[\"pred_spline\"] = spline_fit.predict(tb_resort_ts_b[spl_names])\n",
    "\n",
    "fig, ax = plt.subplots(1, 1, figsize=(15, 3))\n",
    "sns.lineplot(data=tb_resort_ts_b, x=\"arrival_dt\", y=\"per_canceladas\")\n",
    "sns.lineplot(data=tb_resort_ts_b, x=\"arrival_dt\", y=\"pred_trend_linear\", color=\"red\")\n",
    "sns.lineplot(data=tb_resort_ts_b, x=\"arrival_dt\", y=\"pred_spline\", color=\"black\")\n",
    "fig.suptitle(\n",
    "    f\"Evolução da Taxa de Cancelamentos\\ncom Tendências Linear e de Splines\",\n",
    "    y=1.05,\n",
    ")\n"
   ]
  },
  {
   "cell_type": "code",
   "execution_count": null,
   "metadata": {},
   "outputs": [],
   "source": [
    "test_data[\"pred_trend_linear\"] = trend_fit.predict(test_data[[\"t_dias\"]])\n",
    "test_data[\"pred_trend_spline\"] = spline_fit.predict(test_data[spl_names])\n",
    "rmse_lin = np.sqrt(\n",
    "    mean_squared_error(test_data[\"per_canceladas\"], test_data[\"pred_trend_linear\"])\n",
    ")\n",
    "rmse_spl = np.sqrt(\n",
    "    mean_squared_error(test_data[\"per_canceladas\"], test_data[\"pred_trend_spline\"])\n",
    ")\n",
    "print(f\"Trend Lin.: {round(rmse_lin, 2)}\")\n",
    "print(f\"Trend Spline: {round(rmse_spl, 2)}\")\n"
   ]
  },
  {
   "cell_type": "markdown",
   "metadata": {},
   "source": [
    "O que podemos melhorar aqui?"
   ]
  },
  {
   "cell_type": "code",
   "execution_count": null,
   "metadata": {},
   "outputs": [],
   "source": [
    "train_data, test_data = split_hotel_ts(tb_resort_ts_b, \"2017-08-01\")\n",
    "spline_fit = lm.RidgeCV(cv = 5)\n",
    "spline_fit.fit(train_data[spl_names], train_data[\"per_canceladas\"])\n",
    "tb_resort_ts_b[\"pred_spline\"] = spline_fit.predict(tb_resort_ts_b[spl_names])\n",
    "\n",
    "fig, ax = plt.subplots(1, 1, figsize=(15, 3))\n",
    "sns.lineplot(data=tb_resort_ts_b, x=\"arrival_dt\", y=\"per_canceladas\")\n",
    "sns.lineplot(data=tb_resort_ts_b, x=\"arrival_dt\", y=\"pred_trend_linear\", color=\"red\")\n",
    "sns.lineplot(data=tb_resort_ts_b, x=\"arrival_dt\", y=\"pred_spline\", color=\"black\")\n",
    "fig.suptitle(\n",
    "    f\"Evolução da Taxa de Cancelamentos\\ncom Tendências Linear e de Splines\",\n",
    "    y=1.05,\n",
    ");\n"
   ]
  },
  {
   "cell_type": "code",
   "execution_count": null,
   "metadata": {},
   "outputs": [],
   "source": [
    "test_data[\"pred_trend_linear\"] = trend_fit.predict(test_data[[\"t_dias\"]])\n",
    "test_data[\"pred_trend_spline\"] = spline_fit.predict(test_data[spl_names])\n",
    "rmse_lin = np.sqrt(\n",
    "    mean_squared_error(test_data[\"per_canceladas\"], test_data[\"pred_trend_linear\"])\n",
    ")\n",
    "rmse_spl = np.sqrt(\n",
    "    mean_squared_error(test_data[\"per_canceladas\"], test_data[\"pred_trend_spline\"])\n",
    ")\n",
    "print(f\"Trend Lin.: {round(rmse_lin, 2)}\")\n",
    "print(f\"Trend Spline.: {round(rmse_spl, 2)}\")\n"
   ]
  },
  {
   "cell_type": "markdown",
   "metadata": {},
   "source": [
    "## Componente Sazonal"
   ]
  },
  {
   "cell_type": "markdown",
   "metadata": {},
   "source": [
    "### Variáveis Sazonais Dummy"
   ]
  },
  {
   "cell_type": "code",
   "execution_count": null,
   "metadata": {},
   "outputs": [],
   "source": [
    "tb_resort_ts_b[\"mes\"] = tb_resort_ts_b[\"arrival_dt\"].dt.month.astype(str)\n",
    "tb_resort_ts_b[\"dia_semana\"] = tb_resort_ts_b[\"arrival_dt\"].dt.weekday.astype(str)\n"
   ]
  },
  {
   "cell_type": "code",
   "execution_count": null,
   "metadata": {},
   "outputs": [],
   "source": [
    "tb_resort_ts_b[[\"mes\", \"dia_semana\"]]\n"
   ]
  },
  {
   "cell_type": "code",
   "execution_count": null,
   "metadata": {},
   "outputs": [],
   "source": [
    "ohe_fit = OneHotEncoder(drop=\"first\", sparse=False)\n",
    "ohe_fit.fit(tb_resort_ts_b[[\"mes\", \"dia_semana\"]])\n",
    "tb_resort_ts_d = pd.concat(\n",
    "    [\n",
    "        tb_resort_ts_b,\n",
    "        pd.DataFrame(\n",
    "            ohe_fit.transform(tb_resort_ts_b[[\"mes\", \"dia_semana\"]]),\n",
    "            columns=ohe_fit.get_feature_names_out(),\n",
    "        ),\n",
    "    ],\n",
    "    axis=1,\n",
    ")\n"
   ]
  },
  {
   "cell_type": "code",
   "execution_count": null,
   "metadata": {},
   "outputs": [],
   "source": [
    "tb_resort_ts_d.head()\n"
   ]
  },
  {
   "cell_type": "code",
   "execution_count": null,
   "metadata": {},
   "outputs": [],
   "source": [
    "train_data, test_data = split_hotel_ts(tb_resort_ts_d, \"2017-08-01\")\n",
    "dummy_names = list(ohe_fit.get_feature_names_out())\n",
    "var_names = [\"t_dias\"] + dummy_names\n",
    "season_trend_fit = lm.LinearRegression()\n",
    "season_trend_fit.fit(train_data[var_names], train_data[\"per_canceladas\"])\n",
    "\n",
    "tb_resort_ts_d[\"pred_trend_season\"] = season_trend_fit.predict(\n",
    "    tb_resort_ts_d[var_names]\n",
    ")\n",
    "\n",
    "fig, ax = plt.subplots(1, 1, figsize=(15, 3))\n",
    "sns.lineplot(data=tb_resort_ts_d, x=\"arrival_dt\", y=\"per_canceladas\")\n",
    "sns.lineplot(data=tb_resort_ts_d, x=\"arrival_dt\", y=\"pred_trend_linear\", color=\"red\")\n",
    "sns.lineplot(data=tb_resort_ts_d, x=\"arrival_dt\", y=\"pred_trend_season\", color=\"black\")\n",
    "fig.suptitle(\n",
    "    f\"Evolução da Taxa de Cancelamentos\\ncom Tendências Linear e Índices Sazonais\",\n",
    "    y=1.05,\n",
    ")\n"
   ]
  },
  {
   "cell_type": "code",
   "execution_count": null,
   "metadata": {},
   "outputs": [],
   "source": [
    "fig, ax = plt.subplots(1, 1, figsize=(15, 3))\n",
    "sns.lineplot(data=tb_resort_ts_d[tb_resort_ts_d['arrival_dt'] >= \"2017-08-01\"], x=\"arrival_dt\", y=\"per_canceladas\")\n",
    "sns.lineplot(data=tb_resort_ts_d[tb_resort_ts_d['arrival_dt'] >= \"2017-08-01\"], x=\"arrival_dt\", y=\"pred_trend_linear\", color=\"red\")\n",
    "sns.lineplot(data=tb_resort_ts_d[tb_resort_ts_d['arrival_dt'] >= \"2017-08-01\"], x=\"arrival_dt\", y=\"pred_trend_season\", color=\"black\")\n",
    "fig.suptitle(\n",
    "    f\"Evolução da Taxa de Cancelamentos\\ncom Tendências Linear e Índices Sazonais\",\n",
    "    y=1.05,\n",
    ")"
   ]
  },
  {
   "cell_type": "code",
   "execution_count": null,
   "metadata": {},
   "outputs": [],
   "source": [
    "test_data[\"pred_trend_linear\"] = trend_fit.predict(test_data[[\"t_dias\"]])\n",
    "test_data[\"pred_trend_season\"] = season_trend_fit.predict(test_data[var_names])\n",
    "rmse_lin = np.sqrt(\n",
    "    mean_squared_error(test_data[\"per_canceladas\"], test_data[\"pred_trend_linear\"])\n",
    ")\n",
    "rmse_cycle = np.sqrt(\n",
    "    mean_squared_error(test_data[\"per_canceladas\"], test_data[\"pred_trend_season\"])\n",
    ")\n",
    "print(f\"Trend Lin.: {round(rmse_lin, 2)}\")\n",
    "print(f\"Trend + Season: {round(rmse_cycle, 2)}\")\n"
   ]
  },
  {
   "cell_type": "markdown",
   "metadata": {},
   "source": [
    "# Criando nosso modelo final"
   ]
  },
  {
   "cell_type": "code",
   "execution_count": null,
   "metadata": {},
   "outputs": [],
   "source": [
    "final_list = spl_names + dummy_names + [\"t_dias\"]\n",
    "X_train = train_data[final_list]\n",
    "X_test = test_data[final_list]\n",
    "y_train = train_data[\"per_canceladas\"]\n",
    "y_test = test_data[\"per_canceladas\"]\n",
    "scaler = StandardScaler()\n",
    "scaler.fit(X_train)\n",
    "\n",
    "cat_fit = cat.CatBoostRegressor(iterations=20000, depth=9, od_type=\"Iter\", od_wait=1500, verbose = False)\n",
    "cat_fit.fit(\n",
    "    scaler.transform(X_train), y_train, eval_set=(scaler.transform(X_test), y_test)\n",
    ")"
   ]
  },
  {
   "cell_type": "code",
   "execution_count": null,
   "metadata": {},
   "outputs": [],
   "source": [
    "tb_resort_ts_d[\"pred_boosting\"] = cat_fit.predict(\n",
    "    scaler.transform(tb_resort_ts_d[final_list])\n",
    ")\n",
    "\n",
    "fig, ax = plt.subplots(1, 1, figsize=(15, 3))\n",
    "sns.lineplot(data=tb_resort_ts_d, x=\"arrival_dt\", y=\"per_canceladas\")\n",
    "sns.lineplot(data=tb_resort_ts_d, x=\"arrival_dt\", y=\"pred_boosting\", color=\"red\")\n",
    "fig.suptitle(\n",
    "    f\"Evolução da Taxa de Cancelamentos\\ncom Tendências Linear e Índices Sazonais utilizando Boosting\",\n",
    "    y=1.05,\n",
    ");\n",
    "\n",
    "pred_boosting = cat_fit.predict(\n",
    "    scaler.transform(X_test[final_list])\n",
    ")\n",
    "rmse_cat = np.sqrt(\n",
    "    mean_squared_error(y_test, pred_boosting)\n",
    ")\n",
    "print(f\"Trend Lin.: {round(rmse_lin, 2)}\")\n",
    "print(f\"Trend Spline.: {round(rmse_spl, 2)}\")\n",
    "print(f'Trend+Sazonal: {round(rmse_cycle, 2)}')\n",
    "print(f\"Trend+Spline+Seazonal: {round(rmse_cat, 2)}\")\n"
   ]
  },
  {
   "cell_type": "code",
   "execution_count": null,
   "metadata": {},
   "outputs": [],
   "source": [
    "fig, ax = plt.subplots(1, 1, figsize=(15, 3))\n",
    "sns.lineplot(data=tb_resort_ts_d[tb_resort_ts_d['arrival_dt'] >= \"2017-08-01\"], x=\"arrival_dt\", y=\"per_canceladas\")\n",
    "sns.lineplot(data=tb_resort_ts_d[tb_resort_ts_d['arrival_dt'] >= \"2017-08-01\"], x=\"arrival_dt\", y=\"pred_boosting\", color=\"red\")\n",
    "fig.suptitle(\n",
    "    f\"Evolução da Taxa de Cancelamentos\\ncom Tendências Linear e Índices Sazonais utilizando Boosting\",\n",
    "    y=1.05,\n",
    ");"
   ]
  },
  {
   "cell_type": "code",
   "execution_count": null,
   "metadata": {},
   "outputs": [],
   "source": [
    "len(pred_boosting)"
   ]
  },
  {
   "cell_type": "markdown",
   "metadata": {},
   "source": [
    "# Processos Auto-regressivos"
   ]
  },
  {
   "cell_type": "markdown",
   "metadata": {},
   "source": [
    "## Autocorrelação e Autocorrelação Parcial"
   ]
  },
  {
   "cell_type": "code",
   "execution_count": null,
   "metadata": {},
   "outputs": [],
   "source": [
    "fig, ax = plt.subplots(1, 1, figsize=(15, 3))\n",
    "sns.lineplot(data=tb_resort_ts_d, x=\"arrival_dt\", y=\"per_canceladas\")\n",
    "fig.suptitle(\n",
    "    f\"Evolução do Número de Reservas\",\n",
    "    y=1.05,\n",
    ")\n"
   ]
  },
  {
   "cell_type": "markdown",
   "metadata": {},
   "source": [
    "O método `.shift()` retorna uma série *atrasada* (ou *adiantada*) em relação a série original:"
   ]
  },
  {
   "cell_type": "code",
   "execution_count": null,
   "metadata": {},
   "outputs": [],
   "source": [
    "tb_resort_ts_d[\"per_canceladas_lag\"] = tb_resort_ts_d[\"per_canceladas\"].shift(1)\n",
    "tb_resort_ts_d[[\"per_canceladas\", \"per_canceladas_lag\"]].head()\n"
   ]
  },
  {
   "cell_type": "markdown",
   "metadata": {},
   "source": [
    "Com esta nova coluna (`per_canceladas_lag`) podemos **visualizar** a auto-correlação (no horizonte de 1 dia) da série `per_canceladas`: a auto-correlação é a correlação de uma série temporal com seu **passado**!"
   ]
  },
  {
   "cell_type": "code",
   "execution_count": null,
   "metadata": {},
   "outputs": [],
   "source": [
    "fig, ax = plt.subplots(1,1, figsize = (7, 7))\n",
    "sns.kdeplot(\n",
    "    data=tb_resort_ts_d,\n",
    "    x=\"per_canceladas_lag\",\n",
    "    y=\"per_canceladas\",\n",
    ")\n",
    "ax.set_title(f\"Diagrama de Fase dos Resíduos\\n L=1\", y=1.05);\n"
   ]
  },
  {
   "cell_type": "markdown",
   "metadata": {},
   "source": [
    "O diagrama de fase nos permite visualizar de forma simples a correlação para alguns (no caso acima um) período de lag - mas podemos ter autocorrelação em diversos atrasos (especialmente se nossa série tem sazonalidade).\n",
    "\n",
    "Temos duas ferramentas disponíveis para entender a estrutura de auto-correlação de uma série temporal: a ACF e a PACF."
   ]
  },
  {
   "cell_type": "code",
   "execution_count": null,
   "metadata": {},
   "outputs": [],
   "source": [
    "from statsmodels.graphics.tsaplots import plot_acf\n",
    "from statsmodels.graphics.tsaplots import plot_pacf"
   ]
  },
  {
   "cell_type": "code",
   "execution_count": null,
   "metadata": {},
   "outputs": [],
   "source": [
    "plot_acf(tb_resort_ts_d[\"per_canceladas\"], lags = range(1, 15));"
   ]
  },
  {
   "cell_type": "code",
   "execution_count": null,
   "metadata": {},
   "outputs": [],
   "source": [
    "plot_pacf(tb_resort_ts_d[\"per_canceladas\"], lags = range(1, 15), method = 'ywm');"
   ]
  },
  {
   "cell_type": "markdown",
   "metadata": {},
   "source": [
    "## Os métodos Shift e Diff\n",
    "\n",
    "Uma forma de tratar a auto-correlação é utilizar o histórico da propria variável modelada como variável de entrada. Podemos fazer isso neutralizando essa autocorrelação através da diferenças (Hoje - Ontem), ou então adicionar a variável *Ontem* ao modelo. **Devemos tomar cuidado pois isso muda o horizonte preditivo de nosso modelo!!**"
   ]
  },
  {
   "cell_type": "code",
   "execution_count": null,
   "metadata": {},
   "outputs": [],
   "source": [
    "from statsmodels.tsa.seasonal import STL"
   ]
  },
  {
   "cell_type": "code",
   "execution_count": null,
   "metadata": {},
   "outputs": [],
   "source": [
    "stl_fit = STL(tb_resort_ts_d['per_canceladas'], period = 7).fit()\n",
    "stl_fit.plot()\n",
    "plt.show()"
   ]
  },
  {
   "cell_type": "markdown",
   "metadata": {},
   "source": [
    "## Modelos **S**(easonal)**A**(uto)**R**(egressive)**I**(ntegrated)**M**(oving)**A**(average)\n",
    "\n",
    "Os modelos ARIMA são modelos lineares que incorporam as idéias apresentadas acima em um framework único de modelagem."
   ]
  },
  {
   "cell_type": "code",
   "execution_count": null,
   "metadata": {},
   "outputs": [],
   "source": [
    "from statsmodels.tsa.statespace.sarimax import SARIMAX"
   ]
  },
  {
   "cell_type": "code",
   "execution_count": null,
   "metadata": {},
   "outputs": [],
   "source": [
    "arima_model = SARIMAX(train_data['per_canceladas'], order = (1,0,1), seasonal_order = (1, 0, 0, 7))\n",
    "arima_fit = arima_model.fit()\n",
    "arima_fit.summary()"
   ]
  },
  {
   "cell_type": "code",
   "execution_count": null,
   "metadata": {},
   "outputs": [],
   "source": [
    "print(\n",
    "    f'Erro RMSE Modelo SARIMA: {round(np.sqrt(mean_squared_error(y_test, arima_fit.forecast(31))), 2)}'\n",
    "    )"
   ]
  },
  {
   "cell_type": "markdown",
   "metadata": {},
   "source": [
    "# Apêndice"
   ]
  },
  {
   "cell_type": "markdown",
   "metadata": {},
   "source": [
    "### Variáveis Sazonais Contínuas"
   ]
  },
  {
   "cell_type": "code",
   "execution_count": null,
   "metadata": {},
   "outputs": [],
   "source": [
    "tb_resort_ts_b[\"s_semana\"] = np.sin(tb_resort_ts_b[\"t_dias\"] / (7 / np.pi))\n",
    "tb_resort_ts_b[\"c_semana\"] = np.cos(tb_resort_ts_b[\"t_dias\"] / (7 / np.pi))\n",
    "\n",
    "tb_resort_ts_b[\"s_mes\"] = np.sin(tb_resort_ts_b[\"t_dias\"] / (30.4 / np.pi))\n",
    "tb_resort_ts_b[\"c_mes\"] = np.cos(tb_resort_ts_b[\"t_dias\"] / (30.4 / np.pi))\n",
    "\n",
    "tb_resort_ts_b[\"s_ano\"] = np.sin(tb_resort_ts_b[\"t_dias\"] / (365 / np.pi))\n",
    "tb_resort_ts_b[\"c_ano\"] = np.cos(tb_resort_ts_b[\"t_dias\"] / (365 / np.pi))\n"
   ]
  },
  {
   "cell_type": "code",
   "execution_count": null,
   "metadata": {},
   "outputs": [],
   "source": [
    "fig, ax = plt.subplots(3, 1, figsize=(15, 8))\n",
    "sns.lineplot(data=tb_resort_ts_b, x=\"arrival_dt\", y=\"s_semana\", ax=ax[0])\n",
    "sns.lineplot(data=tb_resort_ts_b, x=\"arrival_dt\", y=\"c_semana\", ax=ax[0])\n",
    "\n",
    "sns.lineplot(data=tb_resort_ts_b, x=\"arrival_dt\", y=\"s_mes\", ax=ax[1])\n",
    "sns.lineplot(data=tb_resort_ts_b, x=\"arrival_dt\", y=\"c_mes\", ax=ax[1])\n",
    "\n",
    "sns.lineplot(data=tb_resort_ts_b, x=\"arrival_dt\", y=\"s_ano\", ax=ax[2])\n",
    "sns.lineplot(data=tb_resort_ts_b, x=\"arrival_dt\", y=\"c_ano\", ax=ax[2])\n",
    "\n",
    "ax[0].set_xlabel(\"\")\n",
    "ax[1].set_xlabel(\"\")\n",
    "fig.suptitle(\"Variáveis Contínuas Ciclicas\", y=0.95)\n"
   ]
  },
  {
   "cell_type": "code",
   "execution_count": null,
   "metadata": {},
   "outputs": [],
   "source": [
    "c_names = [\"c_semana\", \"s_semana\", \"c_mes\", \"s_mes\", \"c_ano\", \"s_ano\"]\n",
    "spl_cycle = spl_names + c_names\n",
    "train_data, test_data = split_hotel_ts(tb_resort_ts_b)\n",
    "spl_cycle_fit = lm.Ridge()\n",
    "spl_cycle_fit.fit(train_data[spl_cycle], train_data[\"per_canceladas\"])\n",
    "tb_resort_ts_b[\"pred_cycle_poly\"] = spl_cycle_fit.predict(tb_resort_ts_b[spl_cycle])\n",
    "\n",
    "fig, ax = plt.subplots(1, 1, figsize=(15, 3))\n",
    "sns.lineplot(data=tb_resort_ts_b, x=\"arrival_dt\", y=\"per_canceladas\")\n",
    "sns.lineplot(data=tb_resort_ts_b, x=\"arrival_dt\", y=\"pred_cycle_poly\", color=\"red\")\n",
    "sns.lineplot(data=tb_resort_ts_b, x=\"arrival_dt\", y=\"pred_spline\", color=\"black\")\n",
    "fig.suptitle(\n",
    "    f\"Evolução da Taxa de Cancelamentos\\ncom Tendências Linear e Polinomial de grau {poly_trans.degree}\",\n",
    "    y=1.05,\n",
    ")\n"
   ]
  },
  {
   "cell_type": "code",
   "execution_count": null,
   "metadata": {},
   "outputs": [],
   "source": [
    "test_data[\"pred_trend_linear\"] = trend_fit.predict(test_data[[\"t_dias\"]])\n",
    "test_data[\"pred_trend_spline\"] = spline_fit.predict(test_data[spl_names])\n",
    "test_data[\"pred_trend_cycle\"] = spl_cycle_fit.predict(test_data[spl_cycle])\n",
    "rmse_lin = np.sqrt(\n",
    "    mean_squared_error(test_data[\"per_canceladas\"], test_data[\"pred_trend_linear\"])\n",
    ")\n",
    "rmse_spline = np.sqrt(\n",
    "    mean_squared_error(test_data[\"per_canceladas\"], test_data[\"pred_trend_spline\"])\n",
    ")\n",
    "rmse_cycle = np.sqrt(\n",
    "    mean_squared_error(test_data[\"per_canceladas\"], test_data[\"pred_trend_cycle\"])\n",
    ")\n",
    "print(f\"Trend Lin.: {round(rmse_lin, 2)}\")\n",
    "print(f\"Trend Poly.: {round(rmse_spline, 2)}\")\n",
    "print(f\"Trend + Cycle: {round(rmse_cycle, 2)}\")\n"
   ]
  },
  {
   "cell_type": "markdown",
   "metadata": {},
   "source": [
    "## Fazendo previsões"
   ]
  },
  {
   "cell_type": "code",
   "execution_count": null,
   "metadata": {},
   "outputs": [],
   "source": [
    "tb_resort_ts_b = tb_resort_ts.copy()\n",
    "tb_resort_ts_b[\"mes\"] = tb_resort_ts_b[\"arrival_dt\"].dt.month.astype(str)\n",
    "tb_resort_ts_b[\"dia_semana\"] = tb_resort_ts_b[\"arrival_dt\"].dt.weekday.astype(str)\n",
    "\n",
    "ohe_fit = OneHotEncoder(drop=\"first\", sparse=False)\n",
    "ohe_fit.fit(tb_resort_ts_b[[\"mes\", \"dia_semana\"]])\n",
    "dummy_names = list(ohe_fit.get_feature_names_out())\n",
    "tb_resort_ts_b = pd.concat(\n",
    "    [\n",
    "        tb_resort_ts_b,\n",
    "        pd.DataFrame(\n",
    "            ohe_fit.transform(tb_resort_ts_b[[\"mes\", \"dia_semana\"]]),\n",
    "            columns=dummy_names,\n",
    "        ),\n",
    "    ],\n",
    "    axis=1,\n",
    ")\n",
    "\n",
    "spl_trans = SplineTransformer(n_knots=24, extrapolation=\"constant\")\n",
    "spl_trans.fit(tb_resort_ts_b[[\"t_dias\"]])\n",
    "spl_names = [\"S\" + str(i) for i in range(spl_trans.n_features_out_)]\n",
    "tb_resort_ts_b = pd.concat(\n",
    "    [\n",
    "        tb_resort_ts_b,\n",
    "        pd.DataFrame(\n",
    "            spl_trans.transform(tb_resort_ts_b[[\"t_dias\"]]),\n",
    "            columns=spl_names,\n",
    "        ),\n",
    "    ],\n",
    "    axis=1,\n",
    ")\n",
    "\n",
    "final_list = spl_names + dummy_names + [\"t_dias\"]\n",
    "X = tb_resort_ts_b[final_list]\n",
    "y = tb_resort_ts_b['num_reservas']\n",
    "scaler = StandardScaler()\n",
    "scaler.fit(X)\n",
    "cat_fit = cat.CatBoostRegressor(iterations=1708, depth=9)\n",
    "cat_fit.fit(scaler.transform(X), y)\n"
   ]
  },
  {
   "cell_type": "code",
   "execution_count": null,
   "metadata": {},
   "outputs": [],
   "source": [
    "X_pred = range(int(max(X['t_dias'])), int(max(X['t_dias'])) + 31)\n",
    "min_date = min(tb_resort_ts_b['arrival_dt'])\n",
    "tb_pred = pd.DataFrame({'t_dias' : X_pred})\n",
    "tb_pred['arrival_dt'] = pd.to_timedelta(tb_pred['t_dias'], 'd') + min_date"
   ]
  },
  {
   "cell_type": "code",
   "execution_count": null,
   "metadata": {},
   "outputs": [],
   "source": [
    "tb_pred"
   ]
  },
  {
   "cell_type": "code",
   "execution_count": null,
   "metadata": {},
   "outputs": [],
   "source": [
    "X_pred = range(int(max(X['t_dias'])), int(max(X['t_dias'])) + 31)\n",
    "min_date = min(tb_resort_ts_b['arrival_dt'])\n",
    "tb_pred = pd.DataFrame({'t_dias' : X_pred})\n",
    "tb_pred['arrival_dt'] = pd.to_timedelta(tb_pred['t_dias'], 'd') + min_date\n",
    "tb_pred[\"mes\"] = tb_pred[\"arrival_dt\"].dt.month.astype(str)\n",
    "tb_pred[\"dia_semana\"] = tb_pred[\"arrival_dt\"].dt.weekday.astype(str)\n",
    "\n",
    "tb_pred = pd.concat(\n",
    "    [\n",
    "        tb_pred,\n",
    "        pd.DataFrame(\n",
    "            ohe_fit.transform(tb_pred[[\"mes\", \"dia_semana\"]]),\n",
    "            columns=dummy_names,\n",
    "        ),\n",
    "    ],\n",
    "    axis=1,\n",
    ")\n",
    "\n",
    "tb_pred = pd.concat(\n",
    "    [\n",
    "        tb_pred,\n",
    "        pd.DataFrame(\n",
    "            spl_trans.transform(tb_pred[[\"t_dias\"]]),\n",
    "            columns=spl_names,\n",
    "        ),\n",
    "    ],\n",
    "    axis=1,\n",
    ")"
   ]
  },
  {
   "cell_type": "code",
   "execution_count": null,
   "metadata": {},
   "outputs": [],
   "source": [
    "tb_pred"
   ]
  },
  {
   "cell_type": "code",
   "execution_count": null,
   "metadata": {},
   "outputs": [],
   "source": [
    "tb_pred['pred'] = cat_fit.predict(scaler.transform(tb_pred[final_list]))"
   ]
  },
  {
   "cell_type": "code",
   "execution_count": null,
   "metadata": {},
   "outputs": [],
   "source": [
    "tb_pred['lim_inf_cancelamento'] = tb_pred['pred'] - 0.076\n",
    "tb_pred['lim_sup_cancelamento'] = tb_pred['pred'] + 0.076"
   ]
  },
  {
   "cell_type": "code",
   "execution_count": null,
   "metadata": {},
   "outputs": [],
   "source": [
    "tb_pred[['arrival_dt', 'pred', 'lim_inf_cancelamento', 'lim_sup_cancelamento']]"
   ]
  }
 ],
 "metadata": {
  "kernelspec": {
   "display_name": "Python 3.9.11 ('base')",
   "language": "python",
   "name": "python3"
  },
  "language_info": {
   "codemirror_mode": {
    "name": "ipython",
    "version": 3
   },
   "file_extension": ".py",
   "mimetype": "text/x-python",
   "name": "python",
   "nbconvert_exporter": "python",
   "pygments_lexer": "ipython3",
   "version": "3.9.11"
  },
  "toc": {
   "base_numbering": 1,
   "nav_menu": {},
   "number_sections": true,
   "sideBar": true,
   "skip_h1_title": false,
   "title_cell": "Table of Contents",
   "title_sidebar": "Contents",
   "toc_cell": false,
   "toc_position": {},
   "toc_section_display": true,
   "toc_window_display": false
  },
  "vscode": {
   "interpreter": {
    "hash": "014f4a4a5af8f0104b12c029e500f4146d6d785e8cf714d2a35b7a9514230cd3"
   }
  }
 },
 "nbformat": 4,
 "nbformat_minor": 2
}

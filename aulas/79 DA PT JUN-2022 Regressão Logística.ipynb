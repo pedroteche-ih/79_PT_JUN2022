{
 "cells": [
  {
   "cell_type": "code",
   "execution_count": 1,
   "metadata": {},
   "outputs": [],
   "source": [
    "import numpy as np\n",
    "import pandas as pd\n",
    "import seaborn as sns\n",
    "\n",
    "import matplotlib.pyplot as plt"
   ]
  },
  {
   "cell_type": "code",
   "execution_count": 2,
   "metadata": {},
   "outputs": [],
   "source": [
    "tb_hotel = pd.read_csv('data/tb_hotel_aula.csv')\n",
    "tb_test = pd.read_csv('data/tb_hotel_test_clean.csv')\n",
    "tb_train = pd.read_csv('data/tb_hotel_train_clean.csv')"
   ]
  },
  {
   "cell_type": "code",
   "execution_count": 6,
   "metadata": {},
   "outputs": [
    {
     "data": {
      "text/plain": [
       "BB           92310\n",
       "HB           14463\n",
       "SC           10650\n",
       "Undefined     1169\n",
       "FB             798\n",
       "Name: meal, dtype: int64"
      ]
     },
     "execution_count": 6,
     "metadata": {},
     "output_type": "execute_result"
    }
   ],
   "source": [
    "tb_hotel['meal'].value_counts()"
   ]
  },
  {
   "cell_type": "code",
   "execution_count": 4,
   "metadata": {},
   "outputs": [
    {
     "data": {
      "text/html": [
       "<div>\n",
       "<style scoped>\n",
       "    .dataframe tbody tr th:only-of-type {\n",
       "        vertical-align: middle;\n",
       "    }\n",
       "\n",
       "    .dataframe tbody tr th {\n",
       "        vertical-align: top;\n",
       "    }\n",
       "\n",
       "    .dataframe thead th {\n",
       "        text-align: right;\n",
       "    }\n",
       "</style>\n",
       "<table border=\"1\" class=\"dataframe\">\n",
       "  <thead>\n",
       "    <tr style=\"text-align: right;\">\n",
       "      <th></th>\n",
       "      <th>lead_time</th>\n",
       "      <th>adults</th>\n",
       "      <th>children_imp</th>\n",
       "      <th>num_meal</th>\n",
       "      <th>country_grp_BEL</th>\n",
       "      <th>country_grp_BRA</th>\n",
       "      <th>country_grp_CHE</th>\n",
       "      <th>country_grp_CHN</th>\n",
       "      <th>country_grp_CN</th>\n",
       "      <th>country_grp_DEU</th>\n",
       "      <th>...</th>\n",
       "      <th>country_grp_ISR</th>\n",
       "      <th>country_grp_ITA</th>\n",
       "      <th>country_grp_NLD</th>\n",
       "      <th>country_grp_Others</th>\n",
       "      <th>country_grp_POL</th>\n",
       "      <th>country_grp_PRT</th>\n",
       "      <th>country_grp_SWE</th>\n",
       "      <th>country_grp_USA</th>\n",
       "      <th>is_company</th>\n",
       "      <th>is_cancelled</th>\n",
       "    </tr>\n",
       "  </thead>\n",
       "  <tbody>\n",
       "    <tr>\n",
       "      <th>0</th>\n",
       "      <td>0.667408</td>\n",
       "      <td>0.242367</td>\n",
       "      <td>-0.260384</td>\n",
       "      <td>-0.073565</td>\n",
       "      <td>0.0</td>\n",
       "      <td>0.0</td>\n",
       "      <td>0.0</td>\n",
       "      <td>0.0</td>\n",
       "      <td>0.0</td>\n",
       "      <td>0.0</td>\n",
       "      <td>...</td>\n",
       "      <td>0.0</td>\n",
       "      <td>0.0</td>\n",
       "      <td>0.0</td>\n",
       "      <td>0.0</td>\n",
       "      <td>0.0</td>\n",
       "      <td>0.0</td>\n",
       "      <td>0.0</td>\n",
       "      <td>0.0</td>\n",
       "      <td>0.0</td>\n",
       "      <td>1</td>\n",
       "    </tr>\n",
       "    <tr>\n",
       "      <th>1</th>\n",
       "      <td>-0.334738</td>\n",
       "      <td>0.242367</td>\n",
       "      <td>-0.260384</td>\n",
       "      <td>-0.073565</td>\n",
       "      <td>0.0</td>\n",
       "      <td>0.0</td>\n",
       "      <td>0.0</td>\n",
       "      <td>0.0</td>\n",
       "      <td>0.0</td>\n",
       "      <td>0.0</td>\n",
       "      <td>...</td>\n",
       "      <td>0.0</td>\n",
       "      <td>0.0</td>\n",
       "      <td>0.0</td>\n",
       "      <td>0.0</td>\n",
       "      <td>0.0</td>\n",
       "      <td>0.0</td>\n",
       "      <td>0.0</td>\n",
       "      <td>0.0</td>\n",
       "      <td>0.0</td>\n",
       "      <td>0</td>\n",
       "    </tr>\n",
       "    <tr>\n",
       "      <th>2</th>\n",
       "      <td>-0.700005</td>\n",
       "      <td>0.242367</td>\n",
       "      <td>-0.260384</td>\n",
       "      <td>-0.073565</td>\n",
       "      <td>0.0</td>\n",
       "      <td>0.0</td>\n",
       "      <td>0.0</td>\n",
       "      <td>0.0</td>\n",
       "      <td>0.0</td>\n",
       "      <td>0.0</td>\n",
       "      <td>...</td>\n",
       "      <td>0.0</td>\n",
       "      <td>0.0</td>\n",
       "      <td>0.0</td>\n",
       "      <td>0.0</td>\n",
       "      <td>0.0</td>\n",
       "      <td>1.0</td>\n",
       "      <td>0.0</td>\n",
       "      <td>0.0</td>\n",
       "      <td>0.0</td>\n",
       "      <td>1</td>\n",
       "    </tr>\n",
       "    <tr>\n",
       "      <th>3</th>\n",
       "      <td>0.817261</td>\n",
       "      <td>0.242367</td>\n",
       "      <td>-0.260384</td>\n",
       "      <td>-0.073565</td>\n",
       "      <td>0.0</td>\n",
       "      <td>0.0</td>\n",
       "      <td>0.0</td>\n",
       "      <td>0.0</td>\n",
       "      <td>0.0</td>\n",
       "      <td>0.0</td>\n",
       "      <td>...</td>\n",
       "      <td>0.0</td>\n",
       "      <td>0.0</td>\n",
       "      <td>0.0</td>\n",
       "      <td>0.0</td>\n",
       "      <td>0.0</td>\n",
       "      <td>1.0</td>\n",
       "      <td>0.0</td>\n",
       "      <td>0.0</td>\n",
       "      <td>0.0</td>\n",
       "      <td>1</td>\n",
       "    </tr>\n",
       "    <tr>\n",
       "      <th>4</th>\n",
       "      <td>-0.531420</td>\n",
       "      <td>0.242367</td>\n",
       "      <td>-0.260384</td>\n",
       "      <td>1.947038</td>\n",
       "      <td>0.0</td>\n",
       "      <td>0.0</td>\n",
       "      <td>0.0</td>\n",
       "      <td>0.0</td>\n",
       "      <td>0.0</td>\n",
       "      <td>0.0</td>\n",
       "      <td>...</td>\n",
       "      <td>0.0</td>\n",
       "      <td>0.0</td>\n",
       "      <td>0.0</td>\n",
       "      <td>0.0</td>\n",
       "      <td>0.0</td>\n",
       "      <td>1.0</td>\n",
       "      <td>0.0</td>\n",
       "      <td>0.0</td>\n",
       "      <td>0.0</td>\n",
       "      <td>0</td>\n",
       "    </tr>\n",
       "    <tr>\n",
       "      <th>...</th>\n",
       "      <td>...</td>\n",
       "      <td>...</td>\n",
       "      <td>...</td>\n",
       "      <td>...</td>\n",
       "      <td>...</td>\n",
       "      <td>...</td>\n",
       "      <td>...</td>\n",
       "      <td>...</td>\n",
       "      <td>...</td>\n",
       "      <td>...</td>\n",
       "      <td>...</td>\n",
       "      <td>...</td>\n",
       "      <td>...</td>\n",
       "      <td>...</td>\n",
       "      <td>...</td>\n",
       "      <td>...</td>\n",
       "      <td>...</td>\n",
       "      <td>...</td>\n",
       "      <td>...</td>\n",
       "      <td>...</td>\n",
       "      <td>...</td>\n",
       "    </tr>\n",
       "    <tr>\n",
       "      <th>87211</th>\n",
       "      <td>-0.774932</td>\n",
       "      <td>-1.442963</td>\n",
       "      <td>-0.260384</td>\n",
       "      <td>-0.073565</td>\n",
       "      <td>0.0</td>\n",
       "      <td>0.0</td>\n",
       "      <td>0.0</td>\n",
       "      <td>0.0</td>\n",
       "      <td>0.0</td>\n",
       "      <td>0.0</td>\n",
       "      <td>...</td>\n",
       "      <td>0.0</td>\n",
       "      <td>0.0</td>\n",
       "      <td>0.0</td>\n",
       "      <td>0.0</td>\n",
       "      <td>0.0</td>\n",
       "      <td>0.0</td>\n",
       "      <td>0.0</td>\n",
       "      <td>0.0</td>\n",
       "      <td>0.0</td>\n",
       "      <td>0</td>\n",
       "    </tr>\n",
       "    <tr>\n",
       "      <th>87212</th>\n",
       "      <td>1.491602</td>\n",
       "      <td>0.242367</td>\n",
       "      <td>-0.260384</td>\n",
       "      <td>-0.073565</td>\n",
       "      <td>0.0</td>\n",
       "      <td>0.0</td>\n",
       "      <td>0.0</td>\n",
       "      <td>0.0</td>\n",
       "      <td>0.0</td>\n",
       "      <td>0.0</td>\n",
       "      <td>...</td>\n",
       "      <td>0.0</td>\n",
       "      <td>0.0</td>\n",
       "      <td>0.0</td>\n",
       "      <td>0.0</td>\n",
       "      <td>0.0</td>\n",
       "      <td>0.0</td>\n",
       "      <td>0.0</td>\n",
       "      <td>0.0</td>\n",
       "      <td>0.0</td>\n",
       "      <td>1</td>\n",
       "    </tr>\n",
       "    <tr>\n",
       "      <th>87213</th>\n",
       "      <td>-0.962249</td>\n",
       "      <td>-1.442963</td>\n",
       "      <td>-0.260384</td>\n",
       "      <td>-0.073565</td>\n",
       "      <td>0.0</td>\n",
       "      <td>0.0</td>\n",
       "      <td>0.0</td>\n",
       "      <td>0.0</td>\n",
       "      <td>0.0</td>\n",
       "      <td>0.0</td>\n",
       "      <td>...</td>\n",
       "      <td>0.0</td>\n",
       "      <td>0.0</td>\n",
       "      <td>0.0</td>\n",
       "      <td>0.0</td>\n",
       "      <td>0.0</td>\n",
       "      <td>1.0</td>\n",
       "      <td>0.0</td>\n",
       "      <td>0.0</td>\n",
       "      <td>1.0</td>\n",
       "      <td>1</td>\n",
       "    </tr>\n",
       "    <tr>\n",
       "      <th>87214</th>\n",
       "      <td>-0.915420</td>\n",
       "      <td>-1.442963</td>\n",
       "      <td>4.754730</td>\n",
       "      <td>-0.073565</td>\n",
       "      <td>0.0</td>\n",
       "      <td>0.0</td>\n",
       "      <td>0.0</td>\n",
       "      <td>0.0</td>\n",
       "      <td>0.0</td>\n",
       "      <td>0.0</td>\n",
       "      <td>...</td>\n",
       "      <td>0.0</td>\n",
       "      <td>0.0</td>\n",
       "      <td>0.0</td>\n",
       "      <td>0.0</td>\n",
       "      <td>0.0</td>\n",
       "      <td>1.0</td>\n",
       "      <td>0.0</td>\n",
       "      <td>0.0</td>\n",
       "      <td>0.0</td>\n",
       "      <td>0</td>\n",
       "    </tr>\n",
       "    <tr>\n",
       "      <th>87215</th>\n",
       "      <td>0.386432</td>\n",
       "      <td>0.242367</td>\n",
       "      <td>-0.260384</td>\n",
       "      <td>-0.073565</td>\n",
       "      <td>0.0</td>\n",
       "      <td>0.0</td>\n",
       "      <td>0.0</td>\n",
       "      <td>0.0</td>\n",
       "      <td>0.0</td>\n",
       "      <td>1.0</td>\n",
       "      <td>...</td>\n",
       "      <td>0.0</td>\n",
       "      <td>0.0</td>\n",
       "      <td>0.0</td>\n",
       "      <td>0.0</td>\n",
       "      <td>0.0</td>\n",
       "      <td>0.0</td>\n",
       "      <td>0.0</td>\n",
       "      <td>0.0</td>\n",
       "      <td>0.0</td>\n",
       "      <td>0</td>\n",
       "    </tr>\n",
       "  </tbody>\n",
       "</table>\n",
       "<p>87216 rows × 24 columns</p>\n",
       "</div>"
      ],
      "text/plain": [
       "       lead_time    adults  children_imp  num_meal  country_grp_BEL  \\\n",
       "0       0.667408  0.242367     -0.260384 -0.073565              0.0   \n",
       "1      -0.334738  0.242367     -0.260384 -0.073565              0.0   \n",
       "2      -0.700005  0.242367     -0.260384 -0.073565              0.0   \n",
       "3       0.817261  0.242367     -0.260384 -0.073565              0.0   \n",
       "4      -0.531420  0.242367     -0.260384  1.947038              0.0   \n",
       "...          ...       ...           ...       ...              ...   \n",
       "87211  -0.774932 -1.442963     -0.260384 -0.073565              0.0   \n",
       "87212   1.491602  0.242367     -0.260384 -0.073565              0.0   \n",
       "87213  -0.962249 -1.442963     -0.260384 -0.073565              0.0   \n",
       "87214  -0.915420 -1.442963      4.754730 -0.073565              0.0   \n",
       "87215   0.386432  0.242367     -0.260384 -0.073565              0.0   \n",
       "\n",
       "       country_grp_BRA  country_grp_CHE  country_grp_CHN  country_grp_CN  \\\n",
       "0                  0.0              0.0              0.0             0.0   \n",
       "1                  0.0              0.0              0.0             0.0   \n",
       "2                  0.0              0.0              0.0             0.0   \n",
       "3                  0.0              0.0              0.0             0.0   \n",
       "4                  0.0              0.0              0.0             0.0   \n",
       "...                ...              ...              ...             ...   \n",
       "87211              0.0              0.0              0.0             0.0   \n",
       "87212              0.0              0.0              0.0             0.0   \n",
       "87213              0.0              0.0              0.0             0.0   \n",
       "87214              0.0              0.0              0.0             0.0   \n",
       "87215              0.0              0.0              0.0             0.0   \n",
       "\n",
       "       country_grp_DEU  ...  country_grp_ISR  country_grp_ITA  \\\n",
       "0                  0.0  ...              0.0              0.0   \n",
       "1                  0.0  ...              0.0              0.0   \n",
       "2                  0.0  ...              0.0              0.0   \n",
       "3                  0.0  ...              0.0              0.0   \n",
       "4                  0.0  ...              0.0              0.0   \n",
       "...                ...  ...              ...              ...   \n",
       "87211              0.0  ...              0.0              0.0   \n",
       "87212              0.0  ...              0.0              0.0   \n",
       "87213              0.0  ...              0.0              0.0   \n",
       "87214              0.0  ...              0.0              0.0   \n",
       "87215              1.0  ...              0.0              0.0   \n",
       "\n",
       "       country_grp_NLD  country_grp_Others  country_grp_POL  country_grp_PRT  \\\n",
       "0                  0.0                 0.0              0.0              0.0   \n",
       "1                  0.0                 0.0              0.0              0.0   \n",
       "2                  0.0                 0.0              0.0              1.0   \n",
       "3                  0.0                 0.0              0.0              1.0   \n",
       "4                  0.0                 0.0              0.0              1.0   \n",
       "...                ...                 ...              ...              ...   \n",
       "87211              0.0                 0.0              0.0              0.0   \n",
       "87212              0.0                 0.0              0.0              0.0   \n",
       "87213              0.0                 0.0              0.0              1.0   \n",
       "87214              0.0                 0.0              0.0              1.0   \n",
       "87215              0.0                 0.0              0.0              0.0   \n",
       "\n",
       "       country_grp_SWE  country_grp_USA  is_company  is_cancelled  \n",
       "0                  0.0              0.0         0.0             1  \n",
       "1                  0.0              0.0         0.0             0  \n",
       "2                  0.0              0.0         0.0             1  \n",
       "3                  0.0              0.0         0.0             1  \n",
       "4                  0.0              0.0         0.0             0  \n",
       "...                ...              ...         ...           ...  \n",
       "87211              0.0              0.0         0.0             0  \n",
       "87212              0.0              0.0         0.0             1  \n",
       "87213              0.0              0.0         1.0             1  \n",
       "87214              0.0              0.0         0.0             0  \n",
       "87215              0.0              0.0         0.0             0  \n",
       "\n",
       "[87216 rows x 24 columns]"
      ]
     },
     "execution_count": 4,
     "metadata": {},
     "output_type": "execute_result"
    }
   ],
   "source": [
    "tb_train"
   ]
  },
  {
   "cell_type": "markdown",
   "metadata": {},
   "source": [
    "# Modelos de Classificação\n",
    "\n",
    "## Estimando Probabilidades Condicionais"
   ]
  },
  {
   "cell_type": "code",
   "execution_count": 7,
   "metadata": {},
   "outputs": [
    {
     "data": {
      "text/plain": [
       "meal\n",
       "BB           0.373849\n",
       "FB           0.598997\n",
       "HB           0.344603\n",
       "SC           0.372394\n",
       "Undefined    0.244654\n",
       "Name: is_cancelled, dtype: float64"
      ]
     },
     "execution_count": 7,
     "metadata": {},
     "output_type": "execute_result"
    }
   ],
   "source": [
    "tb_hotel.groupby('meal')['is_cancelled'].mean()"
   ]
  },
  {
   "cell_type": "code",
   "execution_count": 8,
   "metadata": {},
   "outputs": [
    {
     "data": {
      "text/plain": [
       "0    342\n",
       "1    737\n",
       "2      7\n",
       "3     13\n",
       "4     14\n",
       "Name: lead_time, dtype: int64"
      ]
     },
     "execution_count": 8,
     "metadata": {},
     "output_type": "execute_result"
    }
   ],
   "source": [
    "tb_hotel['lead_time'].head()"
   ]
  },
  {
   "cell_type": "code",
   "execution_count": 11,
   "metadata": {},
   "outputs": [],
   "source": [
    "tb_hotel['grp_lead_time'] = pd.qcut(tb_hotel['lead_time'], 5)"
   ]
  },
  {
   "cell_type": "code",
   "execution_count": 12,
   "metadata": {},
   "outputs": [
    {
     "data": {
      "text/plain": [
       "grp_lead_time\n",
       "(-0.001, 11.0]    0.116577\n",
       "(11.0, 45.0]      0.321015\n",
       "(45.0, 99.0]      0.394542\n",
       "(99.0, 184.0]     0.449833\n",
       "(184.0, 737.0]    0.572620\n",
       "Name: is_cancelled, dtype: float64"
      ]
     },
     "execution_count": 12,
     "metadata": {},
     "output_type": "execute_result"
    }
   ],
   "source": [
    "tb_hotel.groupby('grp_lead_time')['is_cancelled'].mean()"
   ]
  },
  {
   "cell_type": "markdown",
   "metadata": {},
   "source": [
    "## Regressão Logística Simples"
   ]
  },
  {
   "cell_type": "code",
   "execution_count": 15,
   "metadata": {},
   "outputs": [],
   "source": [
    "from sklearn.linear_model import LogisticRegression"
   ]
  },
  {
   "cell_type": "code",
   "execution_count": 16,
   "metadata": {},
   "outputs": [
    {
     "name": "stdout",
     "output_type": "stream",
     "text": [
      "<class 'pandas.core.frame.DataFrame'>\n",
      "RangeIndex: 87216 entries, 0 to 87215\n",
      "Data columns (total 24 columns):\n",
      " #   Column              Non-Null Count  Dtype  \n",
      "---  ------              --------------  -----  \n",
      " 0   lead_time           87216 non-null  float64\n",
      " 1   adults              87216 non-null  float64\n",
      " 2   children_imp        87216 non-null  float64\n",
      " 3   num_meal            87216 non-null  float64\n",
      " 4   country_grp_BEL     87216 non-null  float64\n",
      " 5   country_grp_BRA     87216 non-null  float64\n",
      " 6   country_grp_CHE     87216 non-null  float64\n",
      " 7   country_grp_CHN     87216 non-null  float64\n",
      " 8   country_grp_CN      87216 non-null  float64\n",
      " 9   country_grp_DEU     87216 non-null  float64\n",
      " 10  country_grp_ESP     87216 non-null  float64\n",
      " 11  country_grp_FRA     87216 non-null  float64\n",
      " 12  country_grp_GBR     87216 non-null  float64\n",
      " 13  country_grp_IRL     87216 non-null  float64\n",
      " 14  country_grp_ISR     87216 non-null  float64\n",
      " 15  country_grp_ITA     87216 non-null  float64\n",
      " 16  country_grp_NLD     87216 non-null  float64\n",
      " 17  country_grp_Others  87216 non-null  float64\n",
      " 18  country_grp_POL     87216 non-null  float64\n",
      " 19  country_grp_PRT     87216 non-null  float64\n",
      " 20  country_grp_SWE     87216 non-null  float64\n",
      " 21  country_grp_USA     87216 non-null  float64\n",
      " 22  is_company          87216 non-null  float64\n",
      " 23  is_cancelled        87216 non-null  int64  \n",
      "dtypes: float64(23), int64(1)\n",
      "memory usage: 16.0 MB\n"
     ]
    }
   ],
   "source": [
    "tb_train.info()"
   ]
  },
  {
   "cell_type": "code",
   "execution_count": 17,
   "metadata": {},
   "outputs": [
    {
     "data": {
      "text/plain": [
       "LogisticRegression()"
      ]
     },
     "execution_count": 17,
     "metadata": {},
     "output_type": "execute_result"
    }
   ],
   "source": [
    "X_train = tb_train[['lead_time']]\n",
    "y_train = tb_train['is_cancelled']\n",
    "\n",
    "m1 = LogisticRegression()\n",
    "m1.fit(X_train, y_train)"
   ]
  },
  {
   "cell_type": "markdown",
   "metadata": {},
   "source": [
    "### Visualizando as probabilidades estimadas"
   ]
  },
  {
   "cell_type": "code",
   "execution_count": 18,
   "metadata": {},
   "outputs": [
    {
     "data": {
      "text/plain": [
       "array([[0.5196441 , 0.4803559 ],\n",
       "       [0.68479066, 0.31520934],\n",
       "       [0.73691928, 0.26308072],\n",
       "       ...,\n",
       "       [0.77073708, 0.22926292],\n",
       "       [0.76492903, 0.23507097],\n",
       "       [0.56810166, 0.43189834]])"
      ]
     },
     "execution_count": 18,
     "metadata": {},
     "output_type": "execute_result"
    }
   ],
   "source": [
    "m1.predict_proba(X_train)"
   ]
  },
  {
   "cell_type": "code",
   "execution_count": 19,
   "metadata": {},
   "outputs": [
    {
     "data": {
      "text/plain": [
       "array([0.4803559 , 0.31520934, 0.26308072, ..., 0.22926292, 0.23507097,\n",
       "       0.43189834])"
      ]
     },
     "execution_count": 19,
     "metadata": {},
     "output_type": "execute_result"
    }
   ],
   "source": [
    "m1.predict_proba(X_train)[:,1]"
   ]
  },
  {
   "cell_type": "code",
   "execution_count": 20,
   "metadata": {},
   "outputs": [],
   "source": [
    "tb_train['pred_prob_m1'] = m1.predict_proba(X_train)[:,1]"
   ]
  },
  {
   "cell_type": "code",
   "execution_count": 22,
   "metadata": {},
   "outputs": [
    {
     "data": {
      "text/plain": [
       "<AxesSubplot:xlabel='lead_time', ylabel='pred_prob_m1'>"
      ]
     },
     "execution_count": 22,
     "metadata": {},
     "output_type": "execute_result"
    },
    {
     "data": {
      "image/png": "[encoded data removed]",
      "text/plain": [
       "<Figure size 432x288 with 1 Axes>"
      ]
     },
     "metadata": {
      "needs_background": "light"
     },
     "output_type": "display_data"
    }
   ],
   "source": [
    "sns.lineplot(data = tb_train, x = 'lead_time', y = 'pred_prob_m1')"
   ]
  },
  {
   "cell_type": "code",
   "execution_count": 23,
   "metadata": {},
   "outputs": [
    {
     "data": {
      "text/plain": [
       "array([[0.69576674]])"
      ]
     },
     "execution_count": 23,
     "metadata": {},
     "output_type": "execute_result"
    }
   ],
   "source": [
    "m1.coef_"
   ]
  },
  {
   "cell_type": "code",
   "execution_count": 24,
   "metadata": {},
   "outputs": [
    {
     "data": {
      "text/plain": [
       "array([-0.54297695])"
      ]
     },
     "execution_count": 24,
     "metadata": {},
     "output_type": "execute_result"
    }
   ],
   "source": [
    "m1.intercept_"
   ]
  },
  {
   "cell_type": "markdown",
   "metadata": {},
   "source": [
    "## Aumentando o # de Variáveis"
   ]
  },
  {
   "cell_type": "code",
   "execution_count": 25,
   "metadata": {},
   "outputs": [
    {
     "data": {
      "text/plain": [
       "LogisticRegression()"
      ]
     },
     "execution_count": 25,
     "metadata": {},
     "output_type": "execute_result"
    }
   ],
   "source": [
    "X_train = tb_train[['lead_time', 'adults']]\n",
    "y_train = tb_train['is_cancelled']\n",
    "\n",
    "m2 = LogisticRegression()\n",
    "m2.fit(X_train, y_train)"
   ]
  },
  {
   "cell_type": "code",
   "execution_count": 26,
   "metadata": {},
   "outputs": [],
   "source": [
    "tb_train['pred_prob_m2'] = m2.predict_proba(X_train)[:,1]"
   ]
  },
  {
   "cell_type": "code",
   "execution_count": 27,
   "metadata": {},
   "outputs": [
    {
     "data": {
      "image/png": "[encoded data removed]",
      "text/plain": [
       "<Figure size 432x288 with 1 Axes>"
      ]
     },
     "metadata": {
      "needs_background": "light"
     },
     "output_type": "display_data"
    }
   ],
   "source": [
    "sns.scatterplot(data = tb_train, x = 'lead_time', y = 'pred_prob_m2', hue = 'adults', palette = 'Spectral');"
   ]
  },
  {
   "cell_type": "code",
   "execution_count": 28,
   "metadata": {},
   "outputs": [
    {
     "data": {
      "text/html": [
       "<div>\n",
       "<style scoped>\n",
       "    .dataframe tbody tr th:only-of-type {\n",
       "        vertical-align: middle;\n",
       "    }\n",
       "\n",
       "    .dataframe tbody tr th {\n",
       "        vertical-align: top;\n",
       "    }\n",
       "\n",
       "    .dataframe thead th {\n",
       "        text-align: right;\n",
       "    }\n",
       "</style>\n",
       "<table border=\"1\" class=\"dataframe\">\n",
       "  <thead>\n",
       "    <tr style=\"text-align: right;\">\n",
       "      <th></th>\n",
       "      <th>lead_time</th>\n",
       "      <th>adults</th>\n",
       "      <th>children_imp</th>\n",
       "      <th>num_meal</th>\n",
       "      <th>country_grp_BEL</th>\n",
       "      <th>country_grp_BRA</th>\n",
       "      <th>country_grp_CHE</th>\n",
       "      <th>country_grp_CHN</th>\n",
       "      <th>country_grp_CN</th>\n",
       "      <th>country_grp_DEU</th>\n",
       "      <th>...</th>\n",
       "      <th>country_grp_NLD</th>\n",
       "      <th>country_grp_Others</th>\n",
       "      <th>country_grp_POL</th>\n",
       "      <th>country_grp_PRT</th>\n",
       "      <th>country_grp_SWE</th>\n",
       "      <th>country_grp_USA</th>\n",
       "      <th>is_company</th>\n",
       "      <th>is_cancelled</th>\n",
       "      <th>pred_prob_m1</th>\n",
       "      <th>pred_prob_m2</th>\n",
       "    </tr>\n",
       "  </thead>\n",
       "  <tbody>\n",
       "    <tr>\n",
       "      <th>count</th>\n",
       "      <td>87216.000000</td>\n",
       "      <td>87216.000000</td>\n",
       "      <td>87216.000000</td>\n",
       "      <td>87216.000000</td>\n",
       "      <td>87216.000000</td>\n",
       "      <td>87216.000000</td>\n",
       "      <td>87216.000000</td>\n",
       "      <td>87216.000000</td>\n",
       "      <td>87216.000000</td>\n",
       "      <td>87216.000000</td>\n",
       "      <td>...</td>\n",
       "      <td>87216.000000</td>\n",
       "      <td>87216.000000</td>\n",
       "      <td>87216.000000</td>\n",
       "      <td>87216.000000</td>\n",
       "      <td>87216.000000</td>\n",
       "      <td>87216.000000</td>\n",
       "      <td>87216.000000</td>\n",
       "      <td>87216.000000</td>\n",
       "      <td>87216.000000</td>\n",
       "      <td>87216.000000</td>\n",
       "    </tr>\n",
       "    <tr>\n",
       "      <th>mean</th>\n",
       "      <td>-0.082553</td>\n",
       "      <td>-0.007295</td>\n",
       "      <td>0.001798</td>\n",
       "      <td>-0.009135</td>\n",
       "      <td>0.019973</td>\n",
       "      <td>0.018999</td>\n",
       "      <td>0.014963</td>\n",
       "      <td>0.008542</td>\n",
       "      <td>0.010480</td>\n",
       "      <td>0.059083</td>\n",
       "      <td>...</td>\n",
       "      <td>0.018093</td>\n",
       "      <td>0.068772</td>\n",
       "      <td>0.007694</td>\n",
       "      <td>0.404341</td>\n",
       "      <td>0.009012</td>\n",
       "      <td>0.017932</td>\n",
       "      <td>0.058372</td>\n",
       "      <td>0.361986</td>\n",
       "      <td>0.361986</td>\n",
       "      <td>0.361986</td>\n",
       "    </tr>\n",
       "    <tr>\n",
       "      <th>std</th>\n",
       "      <td>0.864923</td>\n",
       "      <td>0.831779</td>\n",
       "      <td>0.992297</td>\n",
       "      <td>1.002641</td>\n",
       "      <td>0.139910</td>\n",
       "      <td>0.136521</td>\n",
       "      <td>0.121405</td>\n",
       "      <td>0.092028</td>\n",
       "      <td>0.101833</td>\n",
       "      <td>0.235782</td>\n",
       "      <td>...</td>\n",
       "      <td>0.133289</td>\n",
       "      <td>0.253067</td>\n",
       "      <td>0.087375</td>\n",
       "      <td>0.490767</td>\n",
       "      <td>0.094504</td>\n",
       "      <td>0.132707</td>\n",
       "      <td>0.234447</td>\n",
       "      <td>0.480578</td>\n",
       "      <td>0.138126</td>\n",
       "      <td>0.138532</td>\n",
       "    </tr>\n",
       "    <tr>\n",
       "      <th>min</th>\n",
       "      <td>-0.971615</td>\n",
       "      <td>-3.128292</td>\n",
       "      <td>-0.260384</td>\n",
       "      <td>-2.094169</td>\n",
       "      <td>0.000000</td>\n",
       "      <td>0.000000</td>\n",
       "      <td>0.000000</td>\n",
       "      <td>0.000000</td>\n",
       "      <td>0.000000</td>\n",
       "      <td>0.000000</td>\n",
       "      <td>...</td>\n",
       "      <td>0.000000</td>\n",
       "      <td>0.000000</td>\n",
       "      <td>0.000000</td>\n",
       "      <td>0.000000</td>\n",
       "      <td>0.000000</td>\n",
       "      <td>0.000000</td>\n",
       "      <td>0.000000</td>\n",
       "      <td>0.000000</td>\n",
       "      <td>0.228113</td>\n",
       "      <td>0.194543</td>\n",
       "    </tr>\n",
       "    <tr>\n",
       "      <th>25%</th>\n",
       "      <td>-0.812396</td>\n",
       "      <td>0.242367</td>\n",
       "      <td>-0.260384</td>\n",
       "      <td>-0.073565</td>\n",
       "      <td>0.000000</td>\n",
       "      <td>0.000000</td>\n",
       "      <td>0.000000</td>\n",
       "      <td>0.000000</td>\n",
       "      <td>0.000000</td>\n",
       "      <td>0.000000</td>\n",
       "      <td>...</td>\n",
       "      <td>0.000000</td>\n",
       "      <td>0.000000</td>\n",
       "      <td>0.000000</td>\n",
       "      <td>0.000000</td>\n",
       "      <td>0.000000</td>\n",
       "      <td>0.000000</td>\n",
       "      <td>0.000000</td>\n",
       "      <td>0.000000</td>\n",
       "      <td>0.248204</td>\n",
       "      <td>0.249788</td>\n",
       "    </tr>\n",
       "    <tr>\n",
       "      <th>50%</th>\n",
       "      <td>-0.353469</td>\n",
       "      <td>0.242367</td>\n",
       "      <td>-0.260384</td>\n",
       "      <td>-0.073565</td>\n",
       "      <td>0.000000</td>\n",
       "      <td>0.000000</td>\n",
       "      <td>0.000000</td>\n",
       "      <td>0.000000</td>\n",
       "      <td>0.000000</td>\n",
       "      <td>0.000000</td>\n",
       "      <td>...</td>\n",
       "      <td>0.000000</td>\n",
       "      <td>0.000000</td>\n",
       "      <td>0.000000</td>\n",
       "      <td>0.000000</td>\n",
       "      <td>0.000000</td>\n",
       "      <td>0.000000</td>\n",
       "      <td>0.000000</td>\n",
       "      <td>0.000000</td>\n",
       "      <td>0.312403</td>\n",
       "      <td>0.314825</td>\n",
       "    </tr>\n",
       "    <tr>\n",
       "      <th>75%</th>\n",
       "      <td>0.442627</td>\n",
       "      <td>0.242367</td>\n",
       "      <td>-0.260384</td>\n",
       "      <td>-0.073565</td>\n",
       "      <td>0.000000</td>\n",
       "      <td>0.000000</td>\n",
       "      <td>0.000000</td>\n",
       "      <td>0.000000</td>\n",
       "      <td>0.000000</td>\n",
       "      <td>0.000000</td>\n",
       "      <td>...</td>\n",
       "      <td>0.000000</td>\n",
       "      <td>0.000000</td>\n",
       "      <td>0.000000</td>\n",
       "      <td>1.000000</td>\n",
       "      <td>0.000000</td>\n",
       "      <td>0.000000</td>\n",
       "      <td>0.000000</td>\n",
       "      <td>1.000000</td>\n",
       "      <td>0.441516</td>\n",
       "      <td>0.442724</td>\n",
       "    </tr>\n",
       "    <tr>\n",
       "      <th>max</th>\n",
       "      <td>2.512479</td>\n",
       "      <td>3.613025</td>\n",
       "      <td>4.754730</td>\n",
       "      <td>3.967642</td>\n",
       "      <td>1.000000</td>\n",
       "      <td>1.000000</td>\n",
       "      <td>1.000000</td>\n",
       "      <td>1.000000</td>\n",
       "      <td>1.000000</td>\n",
       "      <td>1.000000</td>\n",
       "      <td>...</td>\n",
       "      <td>1.000000</td>\n",
       "      <td>1.000000</td>\n",
       "      <td>1.000000</td>\n",
       "      <td>1.000000</td>\n",
       "      <td>1.000000</td>\n",
       "      <td>1.000000</td>\n",
       "      <td>1.000000</td>\n",
       "      <td>1.000000</td>\n",
       "      <td>0.769435</td>\n",
       "      <td>0.779131</td>\n",
       "    </tr>\n",
       "  </tbody>\n",
       "</table>\n",
       "<p>8 rows × 26 columns</p>\n",
       "</div>"
      ],
      "text/plain": [
       "          lead_time        adults  children_imp      num_meal  \\\n",
       "count  87216.000000  87216.000000  87216.000000  87216.000000   \n",
       "mean      -0.082553     -0.007295      0.001798     -0.009135   \n",
       "std        0.864923      0.831779      0.992297      1.002641   \n",
       "min       -0.971615     -3.128292     -0.260384     -2.094169   \n",
       "25%       -0.812396      0.242367     -0.260384     -0.073565   \n",
       "50%       -0.353469      0.242367     -0.260384     -0.073565   \n",
       "75%        0.442627      0.242367     -0.260384     -0.073565   \n",
       "max        2.512479      3.613025      4.754730      3.967642   \n",
       "\n",
       "       country_grp_BEL  country_grp_BRA  country_grp_CHE  country_grp_CHN  \\\n",
       "count     87216.000000     87216.000000     87216.000000     87216.000000   \n",
       "mean          0.019973         0.018999         0.014963         0.008542   \n",
       "std           0.139910         0.136521         0.121405         0.092028   \n",
       "min           0.000000         0.000000         0.000000         0.000000   \n",
       "25%           0.000000         0.000000         0.000000         0.000000   \n",
       "50%           0.000000         0.000000         0.000000         0.000000   \n",
       "75%           0.000000         0.000000         0.000000         0.000000   \n",
       "max           1.000000         1.000000         1.000000         1.000000   \n",
       "\n",
       "       country_grp_CN  country_grp_DEU  ...  country_grp_NLD  \\\n",
       "count    87216.000000     87216.000000  ...     87216.000000   \n",
       "mean         0.010480         0.059083  ...         0.018093   \n",
       "std          0.101833         0.235782  ...         0.133289   \n",
       "min          0.000000         0.000000  ...         0.000000   \n",
       "25%          0.000000         0.000000  ...         0.000000   \n",
       "50%          0.000000         0.000000  ...         0.000000   \n",
       "75%          0.000000         0.000000  ...         0.000000   \n",
       "max          1.000000         1.000000  ...         1.000000   \n",
       "\n",
       "       country_grp_Others  country_grp_POL  country_grp_PRT  country_grp_SWE  \\\n",
       "count        87216.000000     87216.000000     87216.000000     87216.000000   \n",
       "mean             0.068772         0.007694         0.404341         0.009012   \n",
       "std              0.253067         0.087375         0.490767         0.094504   \n",
       "min              0.000000         0.000000         0.000000         0.000000   \n",
       "25%              0.000000         0.000000         0.000000         0.000000   \n",
       "50%              0.000000         0.000000         0.000000         0.000000   \n",
       "75%              0.000000         0.000000         1.000000         0.000000   \n",
       "max              1.000000         1.000000         1.000000         1.000000   \n",
       "\n",
       "       country_grp_USA    is_company  is_cancelled  pred_prob_m1  pred_prob_m2  \n",
       "count     87216.000000  87216.000000  87216.000000  87216.000000  87216.000000  \n",
       "mean          0.017932      0.058372      0.361986      0.361986      0.361986  \n",
       "std           0.132707      0.234447      0.480578      0.138126      0.138532  \n",
       "min           0.000000      0.000000      0.000000      0.228113      0.194543  \n",
       "25%           0.000000      0.000000      0.000000      0.248204      0.249788  \n",
       "50%           0.000000      0.000000      0.000000      0.312403      0.314825  \n",
       "75%           0.000000      0.000000      1.000000      0.441516      0.442724  \n",
       "max           1.000000      1.000000      1.000000      0.769435      0.779131  \n",
       "\n",
       "[8 rows x 26 columns]"
      ]
     },
     "execution_count": 28,
     "metadata": {},
     "output_type": "execute_result"
    }
   ],
   "source": [
    "tb_train.describe()"
   ]
  },
  {
   "cell_type": "markdown",
   "metadata": {},
   "source": [
    "#### Visualizando através de Simulações"
   ]
  },
  {
   "cell_type": "code",
   "execution_count": 32,
   "metadata": {},
   "outputs": [
    {
     "data": {
      "text/plain": [
       "[1, 3, 5, 7, 9]"
      ]
     },
     "execution_count": 32,
     "metadata": {},
     "output_type": "execute_result"
    }
   ],
   "source": [
    "list(range(1,10,2))"
   ]
  },
  {
   "cell_type": "code",
   "execution_count": 30,
   "metadata": {},
   "outputs": [
    {
     "data": {
      "text/plain": [
       "array([-3.12829169, -3.05628874, -2.98428579, -2.91228285, -2.8402799 ,\n",
       "       -2.76827695, -2.69627401, -2.62427106, -2.55226812, -2.48026517,\n",
       "       -2.40826222, -2.33625928, -2.26425633, -2.19225338, -2.12025044,\n",
       "       -2.04824749, -1.97624454, -1.9042416 , -1.83223865, -1.76023571,\n",
       "       -1.68823276, -1.61622981, -1.54422687, -1.47222392, -1.40022097,\n",
       "       -1.32821803, -1.25621508, -1.18421214, -1.11220919, -1.04020624,\n",
       "       -0.9682033 , -0.89620035, -0.8241974 , -0.75219446, -0.68019151,\n",
       "       -0.60818856, -0.53618562, -0.46418267, -0.39217973, -0.32017678,\n",
       "       -0.24817383, -0.17617089, -0.10416794, -0.03216499,  0.03983795,\n",
       "        0.1118409 ,  0.18384385,  0.25584679,  0.32784974,  0.39985268,\n",
       "        0.47185563,  0.54385858,  0.61586152,  0.68786447,  0.75986742,\n",
       "        0.83187036,  0.90387331,  0.97587625,  1.0478792 ,  1.11988215,\n",
       "        1.19188509,  1.26388804,  1.33589099,  1.40789393,  1.47989688,\n",
       "        1.55189983,  1.62390277,  1.69590572,  1.76790866,  1.83991161,\n",
       "        1.91191456,  1.9839175 ,  2.05592045,  2.1279234 ,  2.19992634,\n",
       "        2.27192929,  2.34393223,  2.41593518,  2.48793813,  2.55994107,\n",
       "        2.63194402,  2.70394697,  2.77594991,  2.84795286,  2.91995581,\n",
       "        2.99195875,  3.0639617 ,  3.13596464,  3.20796759,  3.27997054,\n",
       "        3.35197348,  3.42397643,  3.49597938,  3.56798232,  3.63998527,\n",
       "        3.71198821,  3.78399116,  3.85599411,  3.92799705,  4.        ])"
      ]
     },
     "execution_count": 30,
     "metadata": {},
     "output_type": "execute_result"
    }
   ],
   "source": [
    "np.linspace(tb_train['adults'].min(), 4, 100)"
   ]
  },
  {
   "cell_type": "code",
   "execution_count": 39,
   "metadata": {},
   "outputs": [
    {
     "data": {
      "text/html": [
       "<div>\n",
       "<style scoped>\n",
       "    .dataframe tbody tr th:only-of-type {\n",
       "        vertical-align: middle;\n",
       "    }\n",
       "\n",
       "    .dataframe tbody tr th {\n",
       "        vertical-align: top;\n",
       "    }\n",
       "\n",
       "    .dataframe thead th {\n",
       "        text-align: right;\n",
       "    }\n",
       "</style>\n",
       "<table border=\"1\" class=\"dataframe\">\n",
       "  <thead>\n",
       "    <tr style=\"text-align: right;\">\n",
       "      <th></th>\n",
       "      <th>lead_time</th>\n",
       "      <th>adults</th>\n",
       "    </tr>\n",
       "  </thead>\n",
       "  <tbody>\n",
       "    <tr>\n",
       "      <th>0</th>\n",
       "      <td>0</td>\n",
       "      <td>-1.000000</td>\n",
       "    </tr>\n",
       "    <tr>\n",
       "      <th>1</th>\n",
       "      <td>0</td>\n",
       "      <td>-0.979798</td>\n",
       "    </tr>\n",
       "    <tr>\n",
       "      <th>2</th>\n",
       "      <td>0</td>\n",
       "      <td>-0.959596</td>\n",
       "    </tr>\n",
       "    <tr>\n",
       "      <th>3</th>\n",
       "      <td>0</td>\n",
       "      <td>-0.939394</td>\n",
       "    </tr>\n",
       "    <tr>\n",
       "      <th>4</th>\n",
       "      <td>0</td>\n",
       "      <td>-0.919192</td>\n",
       "    </tr>\n",
       "  </tbody>\n",
       "</table>\n",
       "</div>"
      ],
      "text/plain": [
       "   lead_time    adults\n",
       "0          0 -1.000000\n",
       "1          0 -0.979798\n",
       "2          0 -0.959596\n",
       "3          0 -0.939394\n",
       "4          0 -0.919192"
      ]
     },
     "execution_count": 39,
     "metadata": {},
     "output_type": "execute_result"
    }
   ],
   "source": [
    "adults_simul = list(np.linspace(-1, 1, 100))\n",
    "lead_time_simul = [0] * 100\n",
    "tb_simul_adults = pd.DataFrame({'lead_time' : lead_time_simul, 'adults' : adults_simul})\n",
    "tb_simul_adults.head()"
   ]
  },
  {
   "cell_type": "code",
   "execution_count": 40,
   "metadata": {},
   "outputs": [],
   "source": [
    "tb_simul_adults['prob_cancelled'] = m2.predict_proba(tb_simul_adults[['lead_time', 'adults']])[:,1]"
   ]
  },
  {
   "cell_type": "code",
   "execution_count": 41,
   "metadata": {},
   "outputs": [
    {
     "data": {
      "image/png": "[encoded data removed]",
      "text/plain": [
       "<Figure size 432x288 with 1 Axes>"
      ]
     },
     "metadata": {
      "needs_background": "light"
     },
     "output_type": "display_data"
    }
   ],
   "source": [
    "sns.lineplot(data = tb_simul_adults, x = 'adults', y = 'prob_cancelled');"
   ]
  },
  {
   "cell_type": "code",
   "execution_count": 45,
   "metadata": {},
   "outputs": [
    {
     "data": {
      "text/html": [
       "<div>\n",
       "<style scoped>\n",
       "    .dataframe tbody tr th:only-of-type {\n",
       "        vertical-align: middle;\n",
       "    }\n",
       "\n",
       "    .dataframe tbody tr th {\n",
       "        vertical-align: top;\n",
       "    }\n",
       "\n",
       "    .dataframe thead th {\n",
       "        text-align: right;\n",
       "    }\n",
       "</style>\n",
       "<table border=\"1\" class=\"dataframe\">\n",
       "  <thead>\n",
       "    <tr style=\"text-align: right;\">\n",
       "      <th></th>\n",
       "      <th>lead_time</th>\n",
       "      <th>adults</th>\n",
       "    </tr>\n",
       "  </thead>\n",
       "  <tbody>\n",
       "    <tr>\n",
       "      <th>0</th>\n",
       "      <td>-0.971615</td>\n",
       "      <td>0</td>\n",
       "    </tr>\n",
       "    <tr>\n",
       "      <th>1</th>\n",
       "      <td>-0.951700</td>\n",
       "      <td>0</td>\n",
       "    </tr>\n",
       "    <tr>\n",
       "      <th>2</th>\n",
       "      <td>-0.931784</td>\n",
       "      <td>0</td>\n",
       "    </tr>\n",
       "    <tr>\n",
       "      <th>3</th>\n",
       "      <td>-0.911869</td>\n",
       "      <td>0</td>\n",
       "    </tr>\n",
       "    <tr>\n",
       "      <th>4</th>\n",
       "      <td>-0.891954</td>\n",
       "      <td>0</td>\n",
       "    </tr>\n",
       "  </tbody>\n",
       "</table>\n",
       "</div>"
      ],
      "text/plain": [
       "   lead_time  adults\n",
       "0  -0.971615       0\n",
       "1  -0.951700       0\n",
       "2  -0.931784       0\n",
       "3  -0.911869       0\n",
       "4  -0.891954       0"
      ]
     },
     "execution_count": 45,
     "metadata": {},
     "output_type": "execute_result"
    }
   ],
   "source": [
    "lead_time_simul = list(np.linspace(tb_train['lead_time'].min(), 1, 100))\n",
    "adults_simul = [0] * 100\n",
    "tb_simul_lead_time= pd.DataFrame({'lead_time' : lead_time_simul, 'adults' : adults_simul})\n",
    "tb_simul_lead_time.head()"
   ]
  },
  {
   "cell_type": "code",
   "execution_count": 46,
   "metadata": {},
   "outputs": [],
   "source": [
    "tb_simul_lead_time['prob_cancelled'] = m2.predict_proba(tb_simul_lead_time[['lead_time', 'adults']])[:,1]"
   ]
  },
  {
   "cell_type": "code",
   "execution_count": 47,
   "metadata": {},
   "outputs": [
    {
     "data": {
      "image/png": "[encoded data removed]",
      "text/plain": [
       "<Figure size 1080x504 with 2 Axes>"
      ]
     },
     "metadata": {
      "needs_background": "light"
     },
     "output_type": "display_data"
    }
   ],
   "source": [
    "fig, ax = plt.subplots(1,2, figsize = (15,7))\n",
    "sns.lineplot(data = tb_simul_lead_time, x = 'lead_time', y = 'prob_cancelled', ax = ax[0])\n",
    "sns.lineplot(data = tb_simul_adults, x = 'adults', y = 'prob_cancelled', ax = ax[1])\n",
    "ax[0].set_ylim(0,1)\n",
    "ax[1].set_ylim(0,1);"
   ]
  },
  {
   "cell_type": "code",
   "execution_count": 52,
   "metadata": {},
   "outputs": [
    {
     "data": {
      "text/html": [
       "<div>\n",
       "<style scoped>\n",
       "    .dataframe tbody tr th:only-of-type {\n",
       "        vertical-align: middle;\n",
       "    }\n",
       "\n",
       "    .dataframe tbody tr th {\n",
       "        vertical-align: top;\n",
       "    }\n",
       "\n",
       "    .dataframe thead th {\n",
       "        text-align: right;\n",
       "    }\n",
       "</style>\n",
       "<table border=\"1\" class=\"dataframe\">\n",
       "  <thead>\n",
       "    <tr style=\"text-align: right;\">\n",
       "      <th></th>\n",
       "      <th>lead_time</th>\n",
       "      <th>adults</th>\n",
       "      <th>children_imp</th>\n",
       "      <th>num_meal</th>\n",
       "      <th>country_grp_BEL</th>\n",
       "      <th>country_grp_BRA</th>\n",
       "      <th>country_grp_CHE</th>\n",
       "      <th>country_grp_CHN</th>\n",
       "      <th>country_grp_CN</th>\n",
       "      <th>country_grp_DEU</th>\n",
       "      <th>...</th>\n",
       "      <th>country_grp_NLD</th>\n",
       "      <th>country_grp_Others</th>\n",
       "      <th>country_grp_POL</th>\n",
       "      <th>country_grp_PRT</th>\n",
       "      <th>country_grp_SWE</th>\n",
       "      <th>country_grp_USA</th>\n",
       "      <th>is_company</th>\n",
       "      <th>is_cancelled</th>\n",
       "      <th>pred_prob_m1</th>\n",
       "      <th>pred_prob_m2</th>\n",
       "    </tr>\n",
       "  </thead>\n",
       "  <tbody>\n",
       "    <tr>\n",
       "      <th>count</th>\n",
       "      <td>87216.000000</td>\n",
       "      <td>87216.000000</td>\n",
       "      <td>87216.000000</td>\n",
       "      <td>87216.000000</td>\n",
       "      <td>87216.000000</td>\n",
       "      <td>87216.000000</td>\n",
       "      <td>87216.000000</td>\n",
       "      <td>87216.000000</td>\n",
       "      <td>87216.000000</td>\n",
       "      <td>87216.000000</td>\n",
       "      <td>...</td>\n",
       "      <td>87216.000000</td>\n",
       "      <td>87216.000000</td>\n",
       "      <td>87216.000000</td>\n",
       "      <td>87216.000000</td>\n",
       "      <td>87216.000000</td>\n",
       "      <td>87216.000000</td>\n",
       "      <td>87216.000000</td>\n",
       "      <td>87216.000000</td>\n",
       "      <td>87216.000000</td>\n",
       "      <td>87216.000000</td>\n",
       "    </tr>\n",
       "    <tr>\n",
       "      <th>mean</th>\n",
       "      <td>-0.082553</td>\n",
       "      <td>-0.007295</td>\n",
       "      <td>0.001798</td>\n",
       "      <td>-0.009135</td>\n",
       "      <td>0.019973</td>\n",
       "      <td>0.018999</td>\n",
       "      <td>0.014963</td>\n",
       "      <td>0.008542</td>\n",
       "      <td>0.010480</td>\n",
       "      <td>0.059083</td>\n",
       "      <td>...</td>\n",
       "      <td>0.018093</td>\n",
       "      <td>0.068772</td>\n",
       "      <td>0.007694</td>\n",
       "      <td>0.404341</td>\n",
       "      <td>0.009012</td>\n",
       "      <td>0.017932</td>\n",
       "      <td>0.058372</td>\n",
       "      <td>0.361986</td>\n",
       "      <td>0.361986</td>\n",
       "      <td>0.361986</td>\n",
       "    </tr>\n",
       "    <tr>\n",
       "      <th>std</th>\n",
       "      <td>0.864923</td>\n",
       "      <td>0.831779</td>\n",
       "      <td>0.992297</td>\n",
       "      <td>1.002641</td>\n",
       "      <td>0.139910</td>\n",
       "      <td>0.136521</td>\n",
       "      <td>0.121405</td>\n",
       "      <td>0.092028</td>\n",
       "      <td>0.101833</td>\n",
       "      <td>0.235782</td>\n",
       "      <td>...</td>\n",
       "      <td>0.133289</td>\n",
       "      <td>0.253067</td>\n",
       "      <td>0.087375</td>\n",
       "      <td>0.490767</td>\n",
       "      <td>0.094504</td>\n",
       "      <td>0.132707</td>\n",
       "      <td>0.234447</td>\n",
       "      <td>0.480578</td>\n",
       "      <td>0.138126</td>\n",
       "      <td>0.138532</td>\n",
       "    </tr>\n",
       "    <tr>\n",
       "      <th>min</th>\n",
       "      <td>-0.971615</td>\n",
       "      <td>-3.128292</td>\n",
       "      <td>-0.260384</td>\n",
       "      <td>-2.094169</td>\n",
       "      <td>0.000000</td>\n",
       "      <td>0.000000</td>\n",
       "      <td>0.000000</td>\n",
       "      <td>0.000000</td>\n",
       "      <td>0.000000</td>\n",
       "      <td>0.000000</td>\n",
       "      <td>...</td>\n",
       "      <td>0.000000</td>\n",
       "      <td>0.000000</td>\n",
       "      <td>0.000000</td>\n",
       "      <td>0.000000</td>\n",
       "      <td>0.000000</td>\n",
       "      <td>0.000000</td>\n",
       "      <td>0.000000</td>\n",
       "      <td>0.000000</td>\n",
       "      <td>0.228113</td>\n",
       "      <td>0.194543</td>\n",
       "    </tr>\n",
       "    <tr>\n",
       "      <th>25%</th>\n",
       "      <td>-0.812396</td>\n",
       "      <td>0.242367</td>\n",
       "      <td>-0.260384</td>\n",
       "      <td>-0.073565</td>\n",
       "      <td>0.000000</td>\n",
       "      <td>0.000000</td>\n",
       "      <td>0.000000</td>\n",
       "      <td>0.000000</td>\n",
       "      <td>0.000000</td>\n",
       "      <td>0.000000</td>\n",
       "      <td>...</td>\n",
       "      <td>0.000000</td>\n",
       "      <td>0.000000</td>\n",
       "      <td>0.000000</td>\n",
       "      <td>0.000000</td>\n",
       "      <td>0.000000</td>\n",
       "      <td>0.000000</td>\n",
       "      <td>0.000000</td>\n",
       "      <td>0.000000</td>\n",
       "      <td>0.248204</td>\n",
       "      <td>0.249788</td>\n",
       "    </tr>\n",
       "    <tr>\n",
       "      <th>50%</th>\n",
       "      <td>-0.353469</td>\n",
       "      <td>0.242367</td>\n",
       "      <td>-0.260384</td>\n",
       "      <td>-0.073565</td>\n",
       "      <td>0.000000</td>\n",
       "      <td>0.000000</td>\n",
       "      <td>0.000000</td>\n",
       "      <td>0.000000</td>\n",
       "      <td>0.000000</td>\n",
       "      <td>0.000000</td>\n",
       "      <td>...</td>\n",
       "      <td>0.000000</td>\n",
       "      <td>0.000000</td>\n",
       "      <td>0.000000</td>\n",
       "      <td>0.000000</td>\n",
       "      <td>0.000000</td>\n",
       "      <td>0.000000</td>\n",
       "      <td>0.000000</td>\n",
       "      <td>0.000000</td>\n",
       "      <td>0.312403</td>\n",
       "      <td>0.314825</td>\n",
       "    </tr>\n",
       "    <tr>\n",
       "      <th>75%</th>\n",
       "      <td>0.442627</td>\n",
       "      <td>0.242367</td>\n",
       "      <td>-0.260384</td>\n",
       "      <td>-0.073565</td>\n",
       "      <td>0.000000</td>\n",
       "      <td>0.000000</td>\n",
       "      <td>0.000000</td>\n",
       "      <td>0.000000</td>\n",
       "      <td>0.000000</td>\n",
       "      <td>0.000000</td>\n",
       "      <td>...</td>\n",
       "      <td>0.000000</td>\n",
       "      <td>0.000000</td>\n",
       "      <td>0.000000</td>\n",
       "      <td>1.000000</td>\n",
       "      <td>0.000000</td>\n",
       "      <td>0.000000</td>\n",
       "      <td>0.000000</td>\n",
       "      <td>1.000000</td>\n",
       "      <td>0.441516</td>\n",
       "      <td>0.442724</td>\n",
       "    </tr>\n",
       "    <tr>\n",
       "      <th>max</th>\n",
       "      <td>2.512479</td>\n",
       "      <td>3.613025</td>\n",
       "      <td>4.754730</td>\n",
       "      <td>3.967642</td>\n",
       "      <td>1.000000</td>\n",
       "      <td>1.000000</td>\n",
       "      <td>1.000000</td>\n",
       "      <td>1.000000</td>\n",
       "      <td>1.000000</td>\n",
       "      <td>1.000000</td>\n",
       "      <td>...</td>\n",
       "      <td>1.000000</td>\n",
       "      <td>1.000000</td>\n",
       "      <td>1.000000</td>\n",
       "      <td>1.000000</td>\n",
       "      <td>1.000000</td>\n",
       "      <td>1.000000</td>\n",
       "      <td>1.000000</td>\n",
       "      <td>1.000000</td>\n",
       "      <td>0.769435</td>\n",
       "      <td>0.779131</td>\n",
       "    </tr>\n",
       "  </tbody>\n",
       "</table>\n",
       "<p>8 rows × 26 columns</p>\n",
       "</div>"
      ],
      "text/plain": [
       "          lead_time        adults  children_imp      num_meal  \\\n",
       "count  87216.000000  87216.000000  87216.000000  87216.000000   \n",
       "mean      -0.082553     -0.007295      0.001798     -0.009135   \n",
       "std        0.864923      0.831779      0.992297      1.002641   \n",
       "min       -0.971615     -3.128292     -0.260384     -2.094169   \n",
       "25%       -0.812396      0.242367     -0.260384     -0.073565   \n",
       "50%       -0.353469      0.242367     -0.260384     -0.073565   \n",
       "75%        0.442627      0.242367     -0.260384     -0.073565   \n",
       "max        2.512479      3.613025      4.754730      3.967642   \n",
       "\n",
       "       country_grp_BEL  country_grp_BRA  country_grp_CHE  country_grp_CHN  \\\n",
       "count     87216.000000     87216.000000     87216.000000     87216.000000   \n",
       "mean          0.019973         0.018999         0.014963         0.008542   \n",
       "std           0.139910         0.136521         0.121405         0.092028   \n",
       "min           0.000000         0.000000         0.000000         0.000000   \n",
       "25%           0.000000         0.000000         0.000000         0.000000   \n",
       "50%           0.000000         0.000000         0.000000         0.000000   \n",
       "75%           0.000000         0.000000         0.000000         0.000000   \n",
       "max           1.000000         1.000000         1.000000         1.000000   \n",
       "\n",
       "       country_grp_CN  country_grp_DEU  ...  country_grp_NLD  \\\n",
       "count    87216.000000     87216.000000  ...     87216.000000   \n",
       "mean         0.010480         0.059083  ...         0.018093   \n",
       "std          0.101833         0.235782  ...         0.133289   \n",
       "min          0.000000         0.000000  ...         0.000000   \n",
       "25%          0.000000         0.000000  ...         0.000000   \n",
       "50%          0.000000         0.000000  ...         0.000000   \n",
       "75%          0.000000         0.000000  ...         0.000000   \n",
       "max          1.000000         1.000000  ...         1.000000   \n",
       "\n",
       "       country_grp_Others  country_grp_POL  country_grp_PRT  country_grp_SWE  \\\n",
       "count        87216.000000     87216.000000     87216.000000     87216.000000   \n",
       "mean             0.068772         0.007694         0.404341         0.009012   \n",
       "std              0.253067         0.087375         0.490767         0.094504   \n",
       "min              0.000000         0.000000         0.000000         0.000000   \n",
       "25%              0.000000         0.000000         0.000000         0.000000   \n",
       "50%              0.000000         0.000000         0.000000         0.000000   \n",
       "75%              0.000000         0.000000         1.000000         0.000000   \n",
       "max              1.000000         1.000000         1.000000         1.000000   \n",
       "\n",
       "       country_grp_USA    is_company  is_cancelled  pred_prob_m1  pred_prob_m2  \n",
       "count     87216.000000  87216.000000  87216.000000  87216.000000  87216.000000  \n",
       "mean          0.017932      0.058372      0.361986      0.361986      0.361986  \n",
       "std           0.132707      0.234447      0.480578      0.138126      0.138532  \n",
       "min           0.000000      0.000000      0.000000      0.228113      0.194543  \n",
       "25%           0.000000      0.000000      0.000000      0.248204      0.249788  \n",
       "50%           0.000000      0.000000      0.000000      0.312403      0.314825  \n",
       "75%           0.000000      0.000000      1.000000      0.441516      0.442724  \n",
       "max           1.000000      1.000000      1.000000      0.769435      0.779131  \n",
       "\n",
       "[8 rows x 26 columns]"
      ]
     },
     "execution_count": 52,
     "metadata": {},
     "output_type": "execute_result"
    }
   ],
   "source": [
    "tb_train.describe()"
   ]
  },
  {
   "cell_type": "code",
   "execution_count": 48,
   "metadata": {},
   "outputs": [
    {
     "data": {
      "text/html": [
       "<div>\n",
       "<style scoped>\n",
       "    .dataframe tbody tr th:only-of-type {\n",
       "        vertical-align: middle;\n",
       "    }\n",
       "\n",
       "    .dataframe tbody tr th {\n",
       "        vertical-align: top;\n",
       "    }\n",
       "\n",
       "    .dataframe thead th {\n",
       "        text-align: right;\n",
       "    }\n",
       "</style>\n",
       "<table border=\"1\" class=\"dataframe\">\n",
       "  <thead>\n",
       "    <tr style=\"text-align: right;\">\n",
       "      <th></th>\n",
       "      <th>lead_time</th>\n",
       "      <th>adults</th>\n",
       "    </tr>\n",
       "  </thead>\n",
       "  <tbody>\n",
       "    <tr>\n",
       "      <th>0</th>\n",
       "      <td>-0.971615</td>\n",
       "      <td>-1.0</td>\n",
       "    </tr>\n",
       "    <tr>\n",
       "      <th>1</th>\n",
       "      <td>-0.941599</td>\n",
       "      <td>-1.0</td>\n",
       "    </tr>\n",
       "    <tr>\n",
       "      <th>2</th>\n",
       "      <td>-0.911582</td>\n",
       "      <td>-1.0</td>\n",
       "    </tr>\n",
       "    <tr>\n",
       "      <th>3</th>\n",
       "      <td>-0.881566</td>\n",
       "      <td>-1.0</td>\n",
       "    </tr>\n",
       "    <tr>\n",
       "      <th>4</th>\n",
       "      <td>-0.851550</td>\n",
       "      <td>-1.0</td>\n",
       "    </tr>\n",
       "  </tbody>\n",
       "</table>\n",
       "</div>"
      ],
      "text/plain": [
       "   lead_time  adults\n",
       "0  -0.971615    -1.0\n",
       "1  -0.941599    -1.0\n",
       "2  -0.911582    -1.0\n",
       "3  -0.881566    -1.0\n",
       "4  -0.851550    -1.0"
      ]
     },
     "execution_count": 48,
     "metadata": {},
     "output_type": "execute_result"
    }
   ],
   "source": [
    "lead_time_simul = list(np.linspace(tb_train['lead_time'].min(), 2, 100)) * 5\n",
    "adults_simul = [-1] * 100 + [-0.5] * 100  + [0] * 100 + [0.5] * 100 + [1] * 100\n",
    "tb_simul = pd.DataFrame({'lead_time' : lead_time_simul, 'adults' : adults_simul})\n",
    "tb_simul.head()"
   ]
  },
  {
   "cell_type": "code",
   "execution_count": 49,
   "metadata": {},
   "outputs": [
    {
     "data": {
      "text/html": [
       "<div>\n",
       "<style scoped>\n",
       "    .dataframe tbody tr th:only-of-type {\n",
       "        vertical-align: middle;\n",
       "    }\n",
       "\n",
       "    .dataframe tbody tr th {\n",
       "        vertical-align: top;\n",
       "    }\n",
       "\n",
       "    .dataframe thead th {\n",
       "        text-align: right;\n",
       "    }\n",
       "</style>\n",
       "<table border=\"1\" class=\"dataframe\">\n",
       "  <thead>\n",
       "    <tr style=\"text-align: right;\">\n",
       "      <th></th>\n",
       "      <th>lead_time</th>\n",
       "      <th>adults</th>\n",
       "    </tr>\n",
       "  </thead>\n",
       "  <tbody>\n",
       "    <tr>\n",
       "      <th>0</th>\n",
       "      <td>-0.971615</td>\n",
       "      <td>-1.0</td>\n",
       "    </tr>\n",
       "    <tr>\n",
       "      <th>1</th>\n",
       "      <td>-0.941599</td>\n",
       "      <td>-1.0</td>\n",
       "    </tr>\n",
       "    <tr>\n",
       "      <th>2</th>\n",
       "      <td>-0.911582</td>\n",
       "      <td>-1.0</td>\n",
       "    </tr>\n",
       "    <tr>\n",
       "      <th>3</th>\n",
       "      <td>-0.881566</td>\n",
       "      <td>-1.0</td>\n",
       "    </tr>\n",
       "    <tr>\n",
       "      <th>4</th>\n",
       "      <td>-0.851550</td>\n",
       "      <td>-1.0</td>\n",
       "    </tr>\n",
       "  </tbody>\n",
       "</table>\n",
       "</div>"
      ],
      "text/plain": [
       "   lead_time  adults\n",
       "0  -0.971615    -1.0\n",
       "1  -0.941599    -1.0\n",
       "2  -0.911582    -1.0\n",
       "3  -0.881566    -1.0\n",
       "4  -0.851550    -1.0"
      ]
     },
     "execution_count": 49,
     "metadata": {},
     "output_type": "execute_result"
    }
   ],
   "source": [
    "lead_time_simul = list(np.linspace(tb_train['lead_time'].min(), 2, 100)) * 5\n",
    "adults_simul = [-1] * 100 + [-0.5] * 100  + [0] * 100 + [0.5] * 100 + [1] * 100\n",
    "tb_simul = pd.DataFrame({'lead_time' : lead_time_simul, 'adults' : adults_simul})\n",
    "tb_simul.head()"
   ]
  },
  {
   "cell_type": "code",
   "execution_count": 50,
   "metadata": {},
   "outputs": [],
   "source": [
    "tb_simul['prob_cancelled'] = m2.predict_proba(tb_simul[['lead_time', 'adults']])[:,1]"
   ]
  },
  {
   "cell_type": "code",
   "execution_count": 51,
   "metadata": {},
   "outputs": [
    {
     "data": {
      "image/png": "[encoded data removed]",
      "text/plain": [
       "<Figure size 432x288 with 1 Axes>"
      ]
     },
     "metadata": {
      "needs_background": "light"
     },
     "output_type": "display_data"
    }
   ],
   "source": [
    "sns.lineplot(data = tb_simul, x = 'lead_time', y = 'prob_cancelled', hue = 'adults', palette='Spectral');"
   ]
  },
  {
   "cell_type": "markdown",
   "metadata": {},
   "source": [
    "## *Thresholding* para Classificação"
   ]
  },
  {
   "cell_type": "code",
   "execution_count": 57,
   "metadata": {},
   "outputs": [],
   "source": [
    "from collections import Counter"
   ]
  },
  {
   "cell_type": "code",
   "execution_count": 58,
   "metadata": {},
   "outputs": [
    {
     "data": {
      "text/plain": [
       "Counter({0: 72167, 1: 15049})"
      ]
     },
     "execution_count": 58,
     "metadata": {},
     "output_type": "execute_result"
    }
   ],
   "source": [
    "Counter(m1.predict(tb_train[['lead_time']]))"
   ]
  },
  {
   "cell_type": "code",
   "execution_count": 59,
   "metadata": {},
   "outputs": [
    {
     "data": {
      "text/plain": [
       "0    55645\n",
       "1    31571\n",
       "Name: is_cancelled, dtype: int64"
      ]
     },
     "execution_count": 59,
     "metadata": {},
     "output_type": "execute_result"
    }
   ],
   "source": [
    "tb_train['is_cancelled'].value_counts()"
   ]
  },
  {
   "cell_type": "code",
   "execution_count": 60,
   "metadata": {},
   "outputs": [
    {
     "data": {
      "text/html": [
       "<div>\n",
       "<style scoped>\n",
       "    .dataframe tbody tr th:only-of-type {\n",
       "        vertical-align: middle;\n",
       "    }\n",
       "\n",
       "    .dataframe tbody tr th {\n",
       "        vertical-align: top;\n",
       "    }\n",
       "\n",
       "    .dataframe thead th {\n",
       "        text-align: right;\n",
       "    }\n",
       "</style>\n",
       "<table border=\"1\" class=\"dataframe\">\n",
       "  <thead>\n",
       "    <tr style=\"text-align: right;\">\n",
       "      <th></th>\n",
       "      <th>is_cancelled</th>\n",
       "      <th>pred_canc_m1</th>\n",
       "    </tr>\n",
       "  </thead>\n",
       "  <tbody>\n",
       "    <tr>\n",
       "      <th>0</th>\n",
       "      <td>1</td>\n",
       "      <td>0</td>\n",
       "    </tr>\n",
       "    <tr>\n",
       "      <th>1</th>\n",
       "      <td>0</td>\n",
       "      <td>0</td>\n",
       "    </tr>\n",
       "    <tr>\n",
       "      <th>2</th>\n",
       "      <td>1</td>\n",
       "      <td>0</td>\n",
       "    </tr>\n",
       "    <tr>\n",
       "      <th>3</th>\n",
       "      <td>1</td>\n",
       "      <td>1</td>\n",
       "    </tr>\n",
       "    <tr>\n",
       "      <th>4</th>\n",
       "      <td>0</td>\n",
       "      <td>0</td>\n",
       "    </tr>\n",
       "    <tr>\n",
       "      <th>...</th>\n",
       "      <td>...</td>\n",
       "      <td>...</td>\n",
       "    </tr>\n",
       "    <tr>\n",
       "      <th>87211</th>\n",
       "      <td>0</td>\n",
       "      <td>0</td>\n",
       "    </tr>\n",
       "    <tr>\n",
       "      <th>87212</th>\n",
       "      <td>1</td>\n",
       "      <td>1</td>\n",
       "    </tr>\n",
       "    <tr>\n",
       "      <th>87213</th>\n",
       "      <td>1</td>\n",
       "      <td>0</td>\n",
       "    </tr>\n",
       "    <tr>\n",
       "      <th>87214</th>\n",
       "      <td>0</td>\n",
       "      <td>0</td>\n",
       "    </tr>\n",
       "    <tr>\n",
       "      <th>87215</th>\n",
       "      <td>0</td>\n",
       "      <td>0</td>\n",
       "    </tr>\n",
       "  </tbody>\n",
       "</table>\n",
       "<p>87216 rows × 2 columns</p>\n",
       "</div>"
      ],
      "text/plain": [
       "       is_cancelled  pred_canc_m1\n",
       "0                 1             0\n",
       "1                 0             0\n",
       "2                 1             0\n",
       "3                 1             1\n",
       "4                 0             0\n",
       "...             ...           ...\n",
       "87211             0             0\n",
       "87212             1             1\n",
       "87213             1             0\n",
       "87214             0             0\n",
       "87215             0             0\n",
       "\n",
       "[87216 rows x 2 columns]"
      ]
     },
     "execution_count": 60,
     "metadata": {},
     "output_type": "execute_result"
    }
   ],
   "source": [
    "tb_train['pred_canc_m1'] = m1.predict(tb_train[['lead_time']])\n",
    "tb_train[['is_cancelled', 'pred_canc_m1']]"
   ]
  },
  {
   "cell_type": "code",
   "execution_count": 61,
   "metadata": {},
   "outputs": [
    {
     "data": {
      "image/png": "[encoded data removed]",
      "text/plain": [
       "<Figure size 432x288 with 1 Axes>"
      ]
     },
     "metadata": {
      "needs_background": "light"
     },
     "output_type": "display_data"
    }
   ],
   "source": [
    "sns.scatterplot(data = tb_train, x = 'lead_time', y = 'pred_prob_m1');\n",
    "sns.scatterplot(data = tb_train, x = 'lead_time', y = 'pred_canc_m1');"
   ]
  },
  {
   "cell_type": "code",
   "execution_count": 64,
   "metadata": {},
   "outputs": [
    {
     "data": {
      "text/html": [
       "<div>\n",
       "<style scoped>\n",
       "    .dataframe tbody tr th:only-of-type {\n",
       "        vertical-align: middle;\n",
       "    }\n",
       "\n",
       "    .dataframe tbody tr th {\n",
       "        vertical-align: top;\n",
       "    }\n",
       "\n",
       "    .dataframe thead th {\n",
       "        text-align: right;\n",
       "    }\n",
       "</style>\n",
       "<table border=\"1\" class=\"dataframe\">\n",
       "  <thead>\n",
       "    <tr style=\"text-align: right;\">\n",
       "      <th></th>\n",
       "      <th>is_cancelled</th>\n",
       "      <th>pred_prob_m1</th>\n",
       "      <th>pred_canc_m1</th>\n",
       "    </tr>\n",
       "  </thead>\n",
       "  <tbody>\n",
       "    <tr>\n",
       "      <th>0</th>\n",
       "      <td>1</td>\n",
       "      <td>0.480356</td>\n",
       "      <td>0</td>\n",
       "    </tr>\n",
       "    <tr>\n",
       "      <th>1</th>\n",
       "      <td>0</td>\n",
       "      <td>0.315209</td>\n",
       "      <td>0</td>\n",
       "    </tr>\n",
       "    <tr>\n",
       "      <th>2</th>\n",
       "      <td>1</td>\n",
       "      <td>0.263081</td>\n",
       "      <td>0</td>\n",
       "    </tr>\n",
       "    <tr>\n",
       "      <th>3</th>\n",
       "      <td>1</td>\n",
       "      <td>0.506411</td>\n",
       "      <td>1</td>\n",
       "    </tr>\n",
       "    <tr>\n",
       "      <th>4</th>\n",
       "      <td>0</td>\n",
       "      <td>0.286443</td>\n",
       "      <td>0</td>\n",
       "    </tr>\n",
       "    <tr>\n",
       "      <th>5</th>\n",
       "      <td>0</td>\n",
       "      <td>0.643956</td>\n",
       "      <td>1</td>\n",
       "    </tr>\n",
       "    <tr>\n",
       "      <th>6</th>\n",
       "      <td>0</td>\n",
       "      <td>0.490122</td>\n",
       "      <td>0</td>\n",
       "    </tr>\n",
       "    <tr>\n",
       "      <th>7</th>\n",
       "      <td>0</td>\n",
       "      <td>0.228113</td>\n",
       "      <td>0</td>\n",
       "    </tr>\n",
       "    <tr>\n",
       "      <th>8</th>\n",
       "      <td>0</td>\n",
       "      <td>0.265615</td>\n",
       "      <td>0</td>\n",
       "    </tr>\n",
       "    <tr>\n",
       "      <th>9</th>\n",
       "      <td>0</td>\n",
       "      <td>0.232736</td>\n",
       "      <td>0</td>\n",
       "    </tr>\n",
       "    <tr>\n",
       "      <th>10</th>\n",
       "      <td>0</td>\n",
       "      <td>0.470605</td>\n",
       "      <td>0</td>\n",
       "    </tr>\n",
       "    <tr>\n",
       "      <th>11</th>\n",
       "      <td>0</td>\n",
       "      <td>0.232736</td>\n",
       "      <td>0</td>\n",
       "    </tr>\n",
       "    <tr>\n",
       "      <th>12</th>\n",
       "      <td>0</td>\n",
       "      <td>0.230416</td>\n",
       "      <td>0</td>\n",
       "    </tr>\n",
       "    <tr>\n",
       "      <th>13</th>\n",
       "      <td>0</td>\n",
       "      <td>0.514553</td>\n",
       "      <td>1</td>\n",
       "    </tr>\n",
       "    <tr>\n",
       "      <th>14</th>\n",
       "      <td>0</td>\n",
       "      <td>0.281145</td>\n",
       "      <td>0</td>\n",
       "    </tr>\n",
       "    <tr>\n",
       "      <th>15</th>\n",
       "      <td>1</td>\n",
       "      <td>0.409667</td>\n",
       "      <td>0</td>\n",
       "    </tr>\n",
       "    <tr>\n",
       "      <th>16</th>\n",
       "      <td>1</td>\n",
       "      <td>0.326569</td>\n",
       "      <td>0</td>\n",
       "    </tr>\n",
       "    <tr>\n",
       "      <th>17</th>\n",
       "      <td>1</td>\n",
       "      <td>0.661676</td>\n",
       "      <td>1</td>\n",
       "    </tr>\n",
       "    <tr>\n",
       "      <th>18</th>\n",
       "      <td>0</td>\n",
       "      <td>0.230416</td>\n",
       "      <td>0</td>\n",
       "    </tr>\n",
       "    <tr>\n",
       "      <th>19</th>\n",
       "      <td>0</td>\n",
       "      <td>0.233901</td>\n",
       "      <td>0</td>\n",
       "    </tr>\n",
       "  </tbody>\n",
       "</table>\n",
       "</div>"
      ],
      "text/plain": [
       "    is_cancelled  pred_prob_m1  pred_canc_m1\n",
       "0              1      0.480356             0\n",
       "1              0      0.315209             0\n",
       "2              1      0.263081             0\n",
       "3              1      0.506411             1\n",
       "4              0      0.286443             0\n",
       "5              0      0.643956             1\n",
       "6              0      0.490122             0\n",
       "7              0      0.228113             0\n",
       "8              0      0.265615             0\n",
       "9              0      0.232736             0\n",
       "10             0      0.470605             0\n",
       "11             0      0.232736             0\n",
       "12             0      0.230416             0\n",
       "13             0      0.514553             1\n",
       "14             0      0.281145             0\n",
       "15             1      0.409667             0\n",
       "16             1      0.326569             0\n",
       "17             1      0.661676             1\n",
       "18             0      0.230416             0\n",
       "19             0      0.233901             0"
      ]
     },
     "execution_count": 64,
     "metadata": {},
     "output_type": "execute_result"
    }
   ],
   "source": [
    "tb_train[['is_cancelled', 'pred_prob_m1', 'pred_canc_m1']].head(20)"
   ]
  },
  {
   "cell_type": "markdown",
   "metadata": {},
   "source": [
    "### Visualizando a Superficie de Decisão"
   ]
  },
  {
   "cell_type": "code",
   "execution_count": 65,
   "metadata": {},
   "outputs": [],
   "source": [
    "from mlxtend.plotting import plot_decision_regions"
   ]
  },
  {
   "cell_type": "code",
   "execution_count": 66,
   "metadata": {},
   "outputs": [
    {
     "name": "stderr",
     "output_type": "stream",
     "text": [
      "/Users/pedroteche/opt/anaconda3/lib/python3.9/site-packages/sklearn/base.py:450: UserWarning: X does not have valid feature names, but LogisticRegression was fitted with feature names\n",
      "  warnings.warn(\n"
     ]
    },
    {
     "data": {
      "text/plain": [
       "<AxesSubplot:>"
      ]
     },
     "execution_count": 66,
     "metadata": {},
     "output_type": "execute_result"
    },
    {
     "data": {
      "image/png": "[encoded data removed]",
      "text/plain": [
       "<Figure size 432x288 with 1 Axes>"
      ]
     },
     "metadata": {
      "needs_background": "light"
     },
     "output_type": "display_data"
    }
   ],
   "source": [
    "plot_decision_regions(np.array(tb_train[['lead_time']]), \n",
    "                      np.array(tb_train['is_cancelled']), \n",
    "                      m1, scatter_kwargs={'alpha':0.01})"
   ]
  },
  {
   "cell_type": "code",
   "execution_count": 69,
   "metadata": {},
   "outputs": [
    {
     "name": "stderr",
     "output_type": "stream",
     "text": [
      "/Users/pedroteche/opt/anaconda3/lib/python3.9/site-packages/sklearn/base.py:450: UserWarning: X does not have valid feature names, but LogisticRegression was fitted with feature names\n",
      "  warnings.warn(\n"
     ]
    },
    {
     "data": {
      "text/plain": [
       "<AxesSubplot:>"
      ]
     },
     "execution_count": 69,
     "metadata": {},
     "output_type": "execute_result"
    },
    {
     "data": {
      "image/png": "[encoded data removed]",
      "text/plain": [
       "<Figure size 432x288 with 1 Axes>"
      ]
     },
     "metadata": {
      "needs_background": "light"
     },
     "output_type": "display_data"
    }
   ],
   "source": [
    "plot_decision_regions(np.array(tb_train[['lead_time', 'adults']]), \n",
    "                      np.array(tb_train['is_cancelled']), \n",
    "                      m2, scatter_kwargs={'alpha':0.2})"
   ]
  },
  {
   "cell_type": "markdown",
   "metadata": {},
   "source": [
    "## Modelo Completo"
   ]
  },
  {
   "cell_type": "code",
   "execution_count": 70,
   "metadata": {},
   "outputs": [
    {
     "data": {
      "text/plain": [
       "Index(['lead_time', 'adults', 'children_imp', 'num_meal', 'country_grp_BEL',\n",
       "       'country_grp_BRA', 'country_grp_CHE', 'country_grp_CHN',\n",
       "       'country_grp_CN', 'country_grp_DEU', 'country_grp_ESP',\n",
       "       'country_grp_FRA', 'country_grp_GBR', 'country_grp_IRL',\n",
       "       'country_grp_ISR', 'country_grp_ITA', 'country_grp_NLD',\n",
       "       'country_grp_Others', 'country_grp_POL', 'country_grp_PRT',\n",
       "       'country_grp_SWE', 'country_grp_USA', 'is_company', 'is_cancelled',\n",
       "       'pred_prob_m1', 'pred_prob_m2', 'pred_canc_m1'],\n",
       "      dtype='object')"
      ]
     },
     "execution_count": 70,
     "metadata": {},
     "output_type": "execute_result"
    }
   ],
   "source": [
    "tb_train.columns"
   ]
  },
  {
   "cell_type": "code",
   "execution_count": 71,
   "metadata": {},
   "outputs": [],
   "source": [
    "X_train = tb_train.drop(['is_cancelled', 'pred_prob_m1', 'pred_prob_m2', 'pred_canc_m1'], axis = 1)\n",
    "y_train = tb_train['is_cancelled']\n",
    "X_test = tb_test.drop('is_cancelled', axis = 1)\n",
    "y_test = tb_test['is_cancelled']"
   ]
  },
  {
   "cell_type": "code",
   "execution_count": 72,
   "metadata": {},
   "outputs": [
    {
     "data": {
      "text/plain": [
       "LogisticRegression()"
      ]
     },
     "execution_count": 72,
     "metadata": {},
     "output_type": "execute_result"
    }
   ],
   "source": [
    "m3 = LogisticRegression()\n",
    "m3.fit(X_train, y_train)"
   ]
  },
  {
   "cell_type": "code",
   "execution_count": 74,
   "metadata": {},
   "outputs": [
    {
     "data": {
      "text/plain": [
       "Index(['lead_time', 'adults', 'children_imp', 'num_meal', 'country_grp_BEL',\n",
       "       'country_grp_BRA', 'country_grp_CHE', 'country_grp_CHN',\n",
       "       'country_grp_CN', 'country_grp_DEU', 'country_grp_ESP',\n",
       "       'country_grp_FRA', 'country_grp_GBR', 'country_grp_IRL',\n",
       "       'country_grp_ISR', 'country_grp_ITA', 'country_grp_NLD',\n",
       "       'country_grp_Others', 'country_grp_POL', 'country_grp_PRT',\n",
       "       'country_grp_SWE', 'country_grp_USA', 'is_company'],\n",
       "      dtype='object')"
      ]
     },
     "execution_count": 74,
     "metadata": {},
     "output_type": "execute_result"
    }
   ],
   "source": [
    "X_train.columns"
   ]
  },
  {
   "cell_type": "code",
   "execution_count": 75,
   "metadata": {},
   "outputs": [],
   "source": [
    "import shap"
   ]
  },
  {
   "cell_type": "code",
   "execution_count": 76,
   "metadata": {},
   "outputs": [],
   "source": [
    "explainer = shap.explainers.Linear(m3, X_train)"
   ]
  },
  {
   "cell_type": "code",
   "execution_count": 77,
   "metadata": {},
   "outputs": [],
   "source": [
    "shap_values = explainer(X_train)"
   ]
  },
  {
   "cell_type": "code",
   "execution_count": 78,
   "metadata": {},
   "outputs": [
    {
     "data": {
      "image/png": "[encoded data removed]",
      "text/plain": [
       "<Figure size 576x396 with 2 Axes>"
      ]
     },
     "metadata": {
      "needs_background": "light"
     },
     "output_type": "display_data"
    }
   ],
   "source": [
    "shap.plots.beeswarm(shap_values)"
   ]
  },
  {
   "cell_type": "code",
   "execution_count": null,
   "metadata": {},
   "outputs": [],
   "source": []
  }
 ],
 "metadata": {
  "kernelspec": {
   "display_name": "Python 3 (ipykernel)",
   "language": "python",
   "name": "python3"
  },
  "language_info": {
   "codemirror_mode": {
    "name": "ipython",
    "version": 3
   },
   "file_extension": ".py",
   "mimetype": "text/x-python",
   "name": "python",
   "nbconvert_exporter": "python",
   "pygments_lexer": "ipython3",
   "version": "3.9.11"
  },
  "toc": {
   "base_numbering": 1,
   "nav_menu": {},
   "number_sections": true,
   "sideBar": true,
   "skip_h1_title": false,
   "title_cell": "Table of Contents",
   "title_sidebar": "Contents",
   "toc_cell": false,
   "toc_position": {},
   "toc_section_display": true,
   "toc_window_display": false
  },
  "vscode": {
   "interpreter": {
    "hash": "014f4a4a5af8f0104b12c029e500f4146d6d785e8cf714d2a35b7a9514230cd3"
   }
  }
 },
 "nbformat": 4,
 "nbformat_minor": 2
}

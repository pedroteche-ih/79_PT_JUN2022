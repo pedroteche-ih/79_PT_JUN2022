{
 "cells": [
  {
   "cell_type": "code",
   "execution_count": 211,
   "metadata": {},
   "outputs": [],
   "source": [
    "import numpy as np\n",
    "import pandas as pd\n",
    "import seaborn as sns\n",
    "\n",
    "import matplotlib.pyplot as plt"
   ]
  },
  {
   "cell_type": "code",
   "execution_count": 212,
   "metadata": {},
   "outputs": [],
   "source": [
    "tb_hotel = pd.read_csv('data/tb_hotel_aula.csv')\n",
    "tb_test = pd.read_csv('data/tb_hotel_test_clean.csv')\n",
    "tb_train = pd.read_csv('data/tb_hotel_train_clean.csv')"
   ]
  },
  {
   "cell_type": "markdown",
   "metadata": {},
   "source": [
    "# Modelos de Classificação\n",
    "\n",
    "## Estimando Probabilidades Condicionais"
   ]
  },
  {
   "cell_type": "code",
   "execution_count": 213,
   "metadata": {},
   "outputs": [
    {
     "data": {
      "text/plain": [
       "meal\n",
       "BB           0.373849\n",
       "FB           0.598997\n",
       "HB           0.344603\n",
       "SC           0.372394\n",
       "Undefined    0.244654\n",
       "Name: is_cancelled, dtype: float64"
      ]
     },
     "execution_count": 213,
     "metadata": {},
     "output_type": "execute_result"
    }
   ],
   "source": [
    "tb_hotel.groupby('meal')['is_cancelled'].mean()"
   ]
  },
  {
   "cell_type": "code",
   "execution_count": 214,
   "metadata": {},
   "outputs": [],
   "source": [
    "tb_hotel['grp_lead_time'] = pd.qcut(tb_hotel['lead_time'], 4)"
   ]
  },
  {
   "cell_type": "code",
   "execution_count": 215,
   "metadata": {},
   "outputs": [
    {
     "data": {
      "text/plain": [
       "grp_lead_time\n",
       "(-0.001, 18.0]    0.146365\n",
       "(18.0, 69.0]      0.358649\n",
       "(69.0, 160.0]     0.425764\n",
       "(160.0, 737.0]    0.554389\n",
       "Name: is_cancelled, dtype: float64"
      ]
     },
     "execution_count": 215,
     "metadata": {},
     "output_type": "execute_result"
    }
   ],
   "source": [
    "tb_hotel.groupby('grp_lead_time')['is_cancelled'].mean()"
   ]
  },
  {
   "cell_type": "markdown",
   "metadata": {},
   "source": [
    "## Regressão Logística Simples"
   ]
  },
  {
   "cell_type": "code",
   "execution_count": 216,
   "metadata": {},
   "outputs": [],
   "source": [
    "from sklearn.linear_model import LogisticRegression"
   ]
  },
  {
   "cell_type": "code",
   "execution_count": 217,
   "metadata": {},
   "outputs": [
    {
     "name": "stdout",
     "output_type": "stream",
     "text": [
      "<class 'pandas.core.frame.DataFrame'>\n",
      "RangeIndex: 87204 entries, 0 to 87203\n",
      "Data columns (total 20 columns):\n",
      " #   Column              Non-Null Count  Dtype  \n",
      "---  ------              --------------  -----  \n",
      " 0   lead_time           87204 non-null  float64\n",
      " 1   adults              87204 non-null  float64\n",
      " 2   children_imp        87204 non-null  float64\n",
      " 3   num_meal            87204 non-null  float64\n",
      " 4   country_grp_BEL     87204 non-null  float64\n",
      " 5   country_grp_BRA     87204 non-null  float64\n",
      " 6   country_grp_CHE     87204 non-null  float64\n",
      " 7   country_grp_CN      87204 non-null  float64\n",
      " 8   country_grp_DEU     87204 non-null  float64\n",
      " 9   country_grp_ESP     87204 non-null  float64\n",
      " 10  country_grp_FRA     87204 non-null  float64\n",
      " 11  country_grp_GBR     87204 non-null  float64\n",
      " 12  country_grp_IRL     87204 non-null  float64\n",
      " 13  country_grp_ITA     87204 non-null  float64\n",
      " 14  country_grp_NLD     87204 non-null  float64\n",
      " 15  country_grp_Others  87204 non-null  float64\n",
      " 16  country_grp_PRT     87204 non-null  float64\n",
      " 17  country_grp_USA     87204 non-null  float64\n",
      " 18  is_company          87204 non-null  float64\n",
      " 19  is_cancelled        87204 non-null  int64  \n",
      "dtypes: float64(19), int64(1)\n",
      "memory usage: 13.3 MB\n"
     ]
    }
   ],
   "source": [
    "tb_train.info()"
   ]
  },
  {
   "cell_type": "code",
   "execution_count": 218,
   "metadata": {},
   "outputs": [
    {
     "data": {
      "text/plain": [
       "LogisticRegression()"
      ]
     },
     "execution_count": 218,
     "metadata": {},
     "output_type": "execute_result"
    }
   ],
   "source": [
    "X_train = tb_train[['lead_time']]\n",
    "y_train = tb_train['is_cancelled']\n",
    "m1 = LogisticRegression()\n",
    "m1.fit(X_train, y_train)"
   ]
  },
  {
   "cell_type": "markdown",
   "metadata": {},
   "source": [
    "### Visualizando as probabilidades estimadas"
   ]
  },
  {
   "cell_type": "code",
   "execution_count": 219,
   "metadata": {},
   "outputs": [
    {
     "data": {
      "text/plain": [
       "array([[0.64551946, 0.35448054],\n",
       "       [0.68693539, 0.31306461],\n",
       "       [0.508421  , 0.491579  ],\n",
       "       ...,\n",
       "       [0.76918023, 0.23081977],\n",
       "       [0.59096913, 0.40903087],\n",
       "       [0.45550406, 0.54449594]])"
      ]
     },
     "execution_count": 219,
     "metadata": {},
     "output_type": "execute_result"
    }
   ],
   "source": [
    "m1.predict_proba(X_train)"
   ]
  },
  {
   "cell_type": "code",
   "execution_count": 220,
   "metadata": {},
   "outputs": [],
   "source": [
    "tb_train['pred_prob_m1'] = m1.predict_proba(X_train)[:,1]"
   ]
  },
  {
   "cell_type": "code",
   "execution_count": 221,
   "metadata": {},
   "outputs": [
    {
     "data": {
      "text/plain": [
       "<AxesSubplot:xlabel='lead_time', ylabel='pred_prob_m1'>"
      ]
     },
     "execution_count": 221,
     "metadata": {},
     "output_type": "execute_result"
    },
    {
     "data": {
      "image/png": "[encoded data removed]",
      "text/plain": [
       "<Figure size 432x288 with 1 Axes>"
      ]
     },
     "metadata": {
      "needs_background": "light"
     },
     "output_type": "display_data"
    }
   ],
   "source": [
    "sns.scatterplot(data = tb_train, x = 'lead_time', y = 'pred_prob_m1')"
   ]
  },
  {
   "cell_type": "markdown",
   "metadata": {},
   "source": [
    "## Aumentando o # de Variáveis"
   ]
  },
  {
   "cell_type": "code",
   "execution_count": 222,
   "metadata": {},
   "outputs": [
    {
     "data": {
      "text/plain": [
       "LogisticRegression()"
      ]
     },
     "execution_count": 222,
     "metadata": {},
     "output_type": "execute_result"
    }
   ],
   "source": [
    "X_train = tb_train[['lead_time', 'adults']]\n",
    "y_train = tb_train['is_cancelled']\n",
    "m2 = LogisticRegression()\n",
    "m2.fit(X_train, y_train)"
   ]
  },
  {
   "cell_type": "code",
   "execution_count": 223,
   "metadata": {},
   "outputs": [],
   "source": [
    "tb_train['pred_prob_m2'] = m2.predict_proba(X_train)[:,1]"
   ]
  },
  {
   "cell_type": "code",
   "execution_count": 224,
   "metadata": {},
   "outputs": [
    {
     "data": {
      "image/png": "[encoded data removed]",
      "text/plain": [
       "<Figure size 432x288 with 1 Axes>"
      ]
     },
     "metadata": {
      "needs_background": "light"
     },
     "output_type": "display_data"
    }
   ],
   "source": [
    "sns.scatterplot(data = tb_train, x = 'lead_time', y = 'pred_prob_m2', hue = 'adults', palette = 'Spectral');"
   ]
  },
  {
   "cell_type": "code",
   "execution_count": 225,
   "metadata": {},
   "outputs": [
    {
     "data": {
      "text/html": [
       "<div>\n",
       "<style scoped>\n",
       "    .dataframe tbody tr th:only-of-type {\n",
       "        vertical-align: middle;\n",
       "    }\n",
       "\n",
       "    .dataframe tbody tr th {\n",
       "        vertical-align: top;\n",
       "    }\n",
       "\n",
       "    .dataframe thead th {\n",
       "        text-align: right;\n",
       "    }\n",
       "</style>\n",
       "<table border=\"1\" class=\"dataframe\">\n",
       "  <thead>\n",
       "    <tr style=\"text-align: right;\">\n",
       "      <th></th>\n",
       "      <th>lead_time</th>\n",
       "      <th>adults</th>\n",
       "      <th>children_imp</th>\n",
       "      <th>num_meal</th>\n",
       "      <th>country_grp_BEL</th>\n",
       "      <th>country_grp_BRA</th>\n",
       "      <th>country_grp_CHE</th>\n",
       "      <th>country_grp_CN</th>\n",
       "      <th>country_grp_DEU</th>\n",
       "      <th>country_grp_ESP</th>\n",
       "      <th>...</th>\n",
       "      <th>country_grp_IRL</th>\n",
       "      <th>country_grp_ITA</th>\n",
       "      <th>country_grp_NLD</th>\n",
       "      <th>country_grp_Others</th>\n",
       "      <th>country_grp_PRT</th>\n",
       "      <th>country_grp_USA</th>\n",
       "      <th>is_company</th>\n",
       "      <th>is_cancelled</th>\n",
       "      <th>pred_prob_m1</th>\n",
       "      <th>pred_prob_m2</th>\n",
       "    </tr>\n",
       "  </thead>\n",
       "  <tbody>\n",
       "    <tr>\n",
       "      <th>count</th>\n",
       "      <td>87204.000000</td>\n",
       "      <td>87204.000000</td>\n",
       "      <td>87204.000000</td>\n",
       "      <td>87204.000000</td>\n",
       "      <td>87204.000000</td>\n",
       "      <td>87204.000000</td>\n",
       "      <td>87204.000000</td>\n",
       "      <td>87204.000000</td>\n",
       "      <td>87204.000000</td>\n",
       "      <td>87204.000000</td>\n",
       "      <td>...</td>\n",
       "      <td>87204.000000</td>\n",
       "      <td>87204.000000</td>\n",
       "      <td>87204.000000</td>\n",
       "      <td>87204.000000</td>\n",
       "      <td>87204.000000</td>\n",
       "      <td>87204.000000</td>\n",
       "      <td>87204.000000</td>\n",
       "      <td>87204.000000</td>\n",
       "      <td>87204.000000</td>\n",
       "      <td>87204.000000</td>\n",
       "    </tr>\n",
       "    <tr>\n",
       "      <th>mean</th>\n",
       "      <td>-0.083123</td>\n",
       "      <td>-0.005828</td>\n",
       "      <td>0.001803</td>\n",
       "      <td>-0.009401</td>\n",
       "      <td>0.019609</td>\n",
       "      <td>0.018612</td>\n",
       "      <td>0.014804</td>\n",
       "      <td>0.010389</td>\n",
       "      <td>0.058736</td>\n",
       "      <td>0.073643</td>\n",
       "      <td>...</td>\n",
       "      <td>0.029196</td>\n",
       "      <td>0.032590</td>\n",
       "      <td>0.018176</td>\n",
       "      <td>0.100339</td>\n",
       "      <td>0.404339</td>\n",
       "      <td>0.018130</td>\n",
       "      <td>0.058839</td>\n",
       "      <td>0.362025</td>\n",
       "      <td>0.362025</td>\n",
       "      <td>0.362025</td>\n",
       "    </tr>\n",
       "    <tr>\n",
       "      <th>std</th>\n",
       "      <td>0.863278</td>\n",
       "      <td>0.886970</td>\n",
       "      <td>0.992094</td>\n",
       "      <td>1.003455</td>\n",
       "      <td>0.138654</td>\n",
       "      <td>0.135149</td>\n",
       "      <td>0.120770</td>\n",
       "      <td>0.101398</td>\n",
       "      <td>0.235131</td>\n",
       "      <td>0.261191</td>\n",
       "      <td>...</td>\n",
       "      <td>0.168356</td>\n",
       "      <td>0.177563</td>\n",
       "      <td>0.133587</td>\n",
       "      <td>0.300454</td>\n",
       "      <td>0.490767</td>\n",
       "      <td>0.133422</td>\n",
       "      <td>0.235325</td>\n",
       "      <td>0.480589</td>\n",
       "      <td>0.136322</td>\n",
       "      <td>0.136813</td>\n",
       "    </tr>\n",
       "    <tr>\n",
       "      <th>min</th>\n",
       "      <td>-0.971606</td>\n",
       "      <td>-3.336848</td>\n",
       "      <td>-0.260392</td>\n",
       "      <td>-3.864457</td>\n",
       "      <td>0.000000</td>\n",
       "      <td>0.000000</td>\n",
       "      <td>0.000000</td>\n",
       "      <td>0.000000</td>\n",
       "      <td>0.000000</td>\n",
       "      <td>0.000000</td>\n",
       "      <td>...</td>\n",
       "      <td>0.000000</td>\n",
       "      <td>0.000000</td>\n",
       "      <td>0.000000</td>\n",
       "      <td>0.000000</td>\n",
       "      <td>0.000000</td>\n",
       "      <td>0.000000</td>\n",
       "      <td>0.000000</td>\n",
       "      <td>0.000000</td>\n",
       "      <td>0.229680</td>\n",
       "      <td>0.193238</td>\n",
       "    </tr>\n",
       "    <tr>\n",
       "      <th>25%</th>\n",
       "      <td>-0.812567</td>\n",
       "      <td>0.259693</td>\n",
       "      <td>-0.260392</td>\n",
       "      <td>-0.049886</td>\n",
       "      <td>0.000000</td>\n",
       "      <td>0.000000</td>\n",
       "      <td>0.000000</td>\n",
       "      <td>0.000000</td>\n",
       "      <td>0.000000</td>\n",
       "      <td>0.000000</td>\n",
       "      <td>...</td>\n",
       "      <td>0.000000</td>\n",
       "      <td>0.000000</td>\n",
       "      <td>0.000000</td>\n",
       "      <td>0.000000</td>\n",
       "      <td>0.000000</td>\n",
       "      <td>0.000000</td>\n",
       "      <td>0.000000</td>\n",
       "      <td>0.000000</td>\n",
       "      <td>0.249584</td>\n",
       "      <td>0.251317</td>\n",
       "    </tr>\n",
       "    <tr>\n",
       "      <th>50%</th>\n",
       "      <td>-0.354163</td>\n",
       "      <td>0.259693</td>\n",
       "      <td>-0.260392</td>\n",
       "      <td>-0.049886</td>\n",
       "      <td>0.000000</td>\n",
       "      <td>0.000000</td>\n",
       "      <td>0.000000</td>\n",
       "      <td>0.000000</td>\n",
       "      <td>0.000000</td>\n",
       "      <td>0.000000</td>\n",
       "      <td>...</td>\n",
       "      <td>0.000000</td>\n",
       "      <td>0.000000</td>\n",
       "      <td>0.000000</td>\n",
       "      <td>0.000000</td>\n",
       "      <td>0.000000</td>\n",
       "      <td>0.000000</td>\n",
       "      <td>0.000000</td>\n",
       "      <td>0.000000</td>\n",
       "      <td>0.313065</td>\n",
       "      <td>0.315799</td>\n",
       "    </tr>\n",
       "    <tr>\n",
       "      <th>75%</th>\n",
       "      <td>0.441029</td>\n",
       "      <td>0.259693</td>\n",
       "      <td>-0.260392</td>\n",
       "      <td>-0.049886</td>\n",
       "      <td>0.000000</td>\n",
       "      <td>0.000000</td>\n",
       "      <td>0.000000</td>\n",
       "      <td>0.000000</td>\n",
       "      <td>0.000000</td>\n",
       "      <td>0.000000</td>\n",
       "      <td>...</td>\n",
       "      <td>0.000000</td>\n",
       "      <td>0.000000</td>\n",
       "      <td>0.000000</td>\n",
       "      <td>0.000000</td>\n",
       "      <td>1.000000</td>\n",
       "      <td>0.000000</td>\n",
       "      <td>0.000000</td>\n",
       "      <td>1.000000</td>\n",
       "      <td>0.440434</td>\n",
       "      <td>0.441908</td>\n",
       "    </tr>\n",
       "    <tr>\n",
       "      <th>max</th>\n",
       "      <td>2.508527</td>\n",
       "      <td>3.856234</td>\n",
       "      <td>4.757042</td>\n",
       "      <td>3.764686</td>\n",
       "      <td>1.000000</td>\n",
       "      <td>1.000000</td>\n",
       "      <td>1.000000</td>\n",
       "      <td>1.000000</td>\n",
       "      <td>1.000000</td>\n",
       "      <td>1.000000</td>\n",
       "      <td>...</td>\n",
       "      <td>1.000000</td>\n",
       "      <td>1.000000</td>\n",
       "      <td>1.000000</td>\n",
       "      <td>1.000000</td>\n",
       "      <td>1.000000</td>\n",
       "      <td>1.000000</td>\n",
       "      <td>1.000000</td>\n",
       "      <td>1.000000</td>\n",
       "      <td>0.765184</td>\n",
       "      <td>0.776784</td>\n",
       "    </tr>\n",
       "  </tbody>\n",
       "</table>\n",
       "<p>8 rows × 22 columns</p>\n",
       "</div>"
      ],
      "text/plain": [
       "          lead_time        adults  children_imp      num_meal  \\\n",
       "count  87204.000000  87204.000000  87204.000000  87204.000000   \n",
       "mean      -0.083123     -0.005828      0.001803     -0.009401   \n",
       "std        0.863278      0.886970      0.992094      1.003455   \n",
       "min       -0.971606     -3.336848     -0.260392     -3.864457   \n",
       "25%       -0.812567      0.259693     -0.260392     -0.049886   \n",
       "50%       -0.354163      0.259693     -0.260392     -0.049886   \n",
       "75%        0.441029      0.259693     -0.260392     -0.049886   \n",
       "max        2.508527      3.856234      4.757042      3.764686   \n",
       "\n",
       "       country_grp_BEL  country_grp_BRA  country_grp_CHE  country_grp_CN  \\\n",
       "count     87204.000000     87204.000000     87204.000000    87204.000000   \n",
       "mean          0.019609         0.018612         0.014804        0.010389   \n",
       "std           0.138654         0.135149         0.120770        0.101398   \n",
       "min           0.000000         0.000000         0.000000        0.000000   \n",
       "25%           0.000000         0.000000         0.000000        0.000000   \n",
       "50%           0.000000         0.000000         0.000000        0.000000   \n",
       "75%           0.000000         0.000000         0.000000        0.000000   \n",
       "max           1.000000         1.000000         1.000000        1.000000   \n",
       "\n",
       "       country_grp_DEU  country_grp_ESP  ...  country_grp_IRL  \\\n",
       "count     87204.000000     87204.000000  ...     87204.000000   \n",
       "mean          0.058736         0.073643  ...         0.029196   \n",
       "std           0.235131         0.261191  ...         0.168356   \n",
       "min           0.000000         0.000000  ...         0.000000   \n",
       "25%           0.000000         0.000000  ...         0.000000   \n",
       "50%           0.000000         0.000000  ...         0.000000   \n",
       "75%           0.000000         0.000000  ...         0.000000   \n",
       "max           1.000000         1.000000  ...         1.000000   \n",
       "\n",
       "       country_grp_ITA  country_grp_NLD  country_grp_Others  country_grp_PRT  \\\n",
       "count     87204.000000     87204.000000        87204.000000     87204.000000   \n",
       "mean          0.032590         0.018176            0.100339         0.404339   \n",
       "std           0.177563         0.133587            0.300454         0.490767   \n",
       "min           0.000000         0.000000            0.000000         0.000000   \n",
       "25%           0.000000         0.000000            0.000000         0.000000   \n",
       "50%           0.000000         0.000000            0.000000         0.000000   \n",
       "75%           0.000000         0.000000            0.000000         1.000000   \n",
       "max           1.000000         1.000000            1.000000         1.000000   \n",
       "\n",
       "       country_grp_USA    is_company  is_cancelled  pred_prob_m1  pred_prob_m2  \n",
       "count     87204.000000  87204.000000  87204.000000  87204.000000  87204.000000  \n",
       "mean          0.018130      0.058839      0.362025      0.362025      0.362025  \n",
       "std           0.133422      0.235325      0.480589      0.136322      0.136813  \n",
       "min           0.000000      0.000000      0.000000      0.229680      0.193238  \n",
       "25%           0.000000      0.000000      0.000000      0.249584      0.251317  \n",
       "50%           0.000000      0.000000      0.000000      0.313065      0.315799  \n",
       "75%           0.000000      0.000000      1.000000      0.440434      0.441908  \n",
       "max           1.000000      1.000000      1.000000      0.765184      0.776784  \n",
       "\n",
       "[8 rows x 22 columns]"
      ]
     },
     "execution_count": 225,
     "metadata": {},
     "output_type": "execute_result"
    }
   ],
   "source": [
    "tb_train.describe()"
   ]
  },
  {
   "cell_type": "markdown",
   "metadata": {},
   "source": [
    "#### Visualizando através de Simulações"
   ]
  },
  {
   "cell_type": "code",
   "execution_count": 226,
   "metadata": {},
   "outputs": [
    {
     "data": {
      "text/html": [
       "<div>\n",
       "<style scoped>\n",
       "    .dataframe tbody tr th:only-of-type {\n",
       "        vertical-align: middle;\n",
       "    }\n",
       "\n",
       "    .dataframe tbody tr th {\n",
       "        vertical-align: top;\n",
       "    }\n",
       "\n",
       "    .dataframe thead th {\n",
       "        text-align: right;\n",
       "    }\n",
       "</style>\n",
       "<table border=\"1\" class=\"dataframe\">\n",
       "  <thead>\n",
       "    <tr style=\"text-align: right;\">\n",
       "      <th></th>\n",
       "      <th>lead_time</th>\n",
       "      <th>adults</th>\n",
       "    </tr>\n",
       "  </thead>\n",
       "  <tbody>\n",
       "    <tr>\n",
       "      <th>0</th>\n",
       "      <td>0</td>\n",
       "      <td>-3.336848</td>\n",
       "    </tr>\n",
       "    <tr>\n",
       "      <th>1</th>\n",
       "      <td>0</td>\n",
       "      <td>-3.262739</td>\n",
       "    </tr>\n",
       "    <tr>\n",
       "      <th>2</th>\n",
       "      <td>0</td>\n",
       "      <td>-3.188629</td>\n",
       "    </tr>\n",
       "    <tr>\n",
       "      <th>3</th>\n",
       "      <td>0</td>\n",
       "      <td>-3.114519</td>\n",
       "    </tr>\n",
       "    <tr>\n",
       "      <th>4</th>\n",
       "      <td>0</td>\n",
       "      <td>-3.040410</td>\n",
       "    </tr>\n",
       "  </tbody>\n",
       "</table>\n",
       "</div>"
      ],
      "text/plain": [
       "   lead_time    adults\n",
       "0          0 -3.336848\n",
       "1          0 -3.262739\n",
       "2          0 -3.188629\n",
       "3          0 -3.114519\n",
       "4          0 -3.040410"
      ]
     },
     "execution_count": 226,
     "metadata": {},
     "output_type": "execute_result"
    }
   ],
   "source": [
    "adults_simul = list(np.linspace(tb_train['adults'].min(), 4, 100))\n",
    "lead_time_simul = [0] * 100\n",
    "tb_simul_adults = pd.DataFrame({'lead_time' : lead_time_simul, 'adults' : adults_simul})\n",
    "tb_simul_adults.head()"
   ]
  },
  {
   "cell_type": "code",
   "execution_count": 227,
   "metadata": {},
   "outputs": [],
   "source": [
    "tb_simul_adults['prob_cancelled'] = m2.predict_proba(tb_simul_adults[['lead_time', 'adults']])[:,1]"
   ]
  },
  {
   "cell_type": "code",
   "execution_count": 228,
   "metadata": {},
   "outputs": [
    {
     "data": {
      "image/png": "[encoded data removed]",
      "text/plain": [
       "<Figure size 432x288 with 1 Axes>"
      ]
     },
     "metadata": {
      "needs_background": "light"
     },
     "output_type": "display_data"
    }
   ],
   "source": [
    "sns.lineplot(data = tb_simul_adults, x = 'adults', y = 'prob_cancelled');"
   ]
  },
  {
   "cell_type": "code",
   "execution_count": 229,
   "metadata": {},
   "outputs": [],
   "source": [
    "lead_time_simul = list(np.linspace(tb_train['lead_time'].min(), 4, 100))\n",
    "adults_simul = [0] * 100\n",
    "tb_simul_lead_time= pd.DataFrame({'lead_time' : lead_time_simul, 'adults' : adults_simul})\n",
    "tb_simul_lead_time.head()\n",
    "tb_simul_lead_time['prob_cancelled'] = m2.predict_proba(tb_simul_lead_time[['lead_time', 'adults']])[:,1]"
   ]
  },
  {
   "cell_type": "code",
   "execution_count": 230,
   "metadata": {},
   "outputs": [
    {
     "data": {
      "image/png": "[encoded data removed]",
      "text/plain": [
       "<Figure size 1080x504 with 2 Axes>"
      ]
     },
     "metadata": {
      "needs_background": "light"
     },
     "output_type": "display_data"
    }
   ],
   "source": [
    "fig, ax = plt.subplots(1,2, figsize = (15,7))\n",
    "sns.lineplot(data = tb_simul_lead_time, x = 'lead_time', y = 'prob_cancelled', ax = ax[0])\n",
    "sns.lineplot(data = tb_simul_adults, x = 'adults', y = 'prob_cancelled', ax = ax[1])\n",
    "ax[0].set_ylim(0,1)\n",
    "ax[1].set_ylim(0,1);"
   ]
  },
  {
   "cell_type": "code",
   "execution_count": 231,
   "metadata": {},
   "outputs": [
    {
     "data": {
      "text/html": [
       "<div>\n",
       "<style scoped>\n",
       "    .dataframe tbody tr th:only-of-type {\n",
       "        vertical-align: middle;\n",
       "    }\n",
       "\n",
       "    .dataframe tbody tr th {\n",
       "        vertical-align: top;\n",
       "    }\n",
       "\n",
       "    .dataframe thead th {\n",
       "        text-align: right;\n",
       "    }\n",
       "</style>\n",
       "<table border=\"1\" class=\"dataframe\">\n",
       "  <thead>\n",
       "    <tr style=\"text-align: right;\">\n",
       "      <th></th>\n",
       "      <th>lead_time</th>\n",
       "      <th>adults</th>\n",
       "    </tr>\n",
       "  </thead>\n",
       "  <tbody>\n",
       "    <tr>\n",
       "      <th>0</th>\n",
       "      <td>-0.971606</td>\n",
       "      <td>-1.0</td>\n",
       "    </tr>\n",
       "    <tr>\n",
       "      <th>1</th>\n",
       "      <td>-0.941590</td>\n",
       "      <td>-1.0</td>\n",
       "    </tr>\n",
       "    <tr>\n",
       "      <th>2</th>\n",
       "      <td>-0.911573</td>\n",
       "      <td>-1.0</td>\n",
       "    </tr>\n",
       "    <tr>\n",
       "      <th>3</th>\n",
       "      <td>-0.881557</td>\n",
       "      <td>-1.0</td>\n",
       "    </tr>\n",
       "    <tr>\n",
       "      <th>4</th>\n",
       "      <td>-0.851541</td>\n",
       "      <td>-1.0</td>\n",
       "    </tr>\n",
       "  </tbody>\n",
       "</table>\n",
       "</div>"
      ],
      "text/plain": [
       "   lead_time  adults\n",
       "0  -0.971606    -1.0\n",
       "1  -0.941590    -1.0\n",
       "2  -0.911573    -1.0\n",
       "3  -0.881557    -1.0\n",
       "4  -0.851541    -1.0"
      ]
     },
     "execution_count": 231,
     "metadata": {},
     "output_type": "execute_result"
    }
   ],
   "source": [
    "lead_time_simul = list(np.linspace(tb_train['lead_time'].min(), 2, 100)) * 5\n",
    "adults_simul = [-1] * 100 + [-0.5] * 100  + [0] * 100 + [0.5] * 100 + [1] * 100\n",
    "tb_simul = pd.DataFrame({'lead_time' : lead_time_simul, 'adults' : adults_simul})\n",
    "tb_simul.head()"
   ]
  },
  {
   "cell_type": "code",
   "execution_count": 232,
   "metadata": {},
   "outputs": [
    {
     "data": {
      "text/html": [
       "<div>\n",
       "<style scoped>\n",
       "    .dataframe tbody tr th:only-of-type {\n",
       "        vertical-align: middle;\n",
       "    }\n",
       "\n",
       "    .dataframe tbody tr th {\n",
       "        vertical-align: top;\n",
       "    }\n",
       "\n",
       "    .dataframe thead th {\n",
       "        text-align: right;\n",
       "    }\n",
       "</style>\n",
       "<table border=\"1\" class=\"dataframe\">\n",
       "  <thead>\n",
       "    <tr style=\"text-align: right;\">\n",
       "      <th></th>\n",
       "      <th>lead_time</th>\n",
       "      <th>adults</th>\n",
       "    </tr>\n",
       "  </thead>\n",
       "  <tbody>\n",
       "    <tr>\n",
       "      <th>0</th>\n",
       "      <td>-0.971606</td>\n",
       "      <td>-1.0</td>\n",
       "    </tr>\n",
       "    <tr>\n",
       "      <th>1</th>\n",
       "      <td>-0.941590</td>\n",
       "      <td>-1.0</td>\n",
       "    </tr>\n",
       "    <tr>\n",
       "      <th>2</th>\n",
       "      <td>-0.911573</td>\n",
       "      <td>-1.0</td>\n",
       "    </tr>\n",
       "    <tr>\n",
       "      <th>3</th>\n",
       "      <td>-0.881557</td>\n",
       "      <td>-1.0</td>\n",
       "    </tr>\n",
       "    <tr>\n",
       "      <th>4</th>\n",
       "      <td>-0.851541</td>\n",
       "      <td>-1.0</td>\n",
       "    </tr>\n",
       "  </tbody>\n",
       "</table>\n",
       "</div>"
      ],
      "text/plain": [
       "   lead_time  adults\n",
       "0  -0.971606    -1.0\n",
       "1  -0.941590    -1.0\n",
       "2  -0.911573    -1.0\n",
       "3  -0.881557    -1.0\n",
       "4  -0.851541    -1.0"
      ]
     },
     "execution_count": 232,
     "metadata": {},
     "output_type": "execute_result"
    }
   ],
   "source": [
    "lead_time_simul = list(np.linspace(tb_train['lead_time'].min(), 2, 100)) * 5\n",
    "adults_simul = [-1] * 100 + [-0.5] * 100  + [0] * 100 + [0.5] * 100 + [1] * 100\n",
    "tb_simul = pd.DataFrame({'lead_time' : lead_time_simul, 'adults' : adults_simul})\n",
    "tb_simul.head()"
   ]
  },
  {
   "cell_type": "code",
   "execution_count": 233,
   "metadata": {},
   "outputs": [],
   "source": [
    "tb_simul['prob_cancelled'] = m2.predict_proba(tb_simul[['lead_time', 'adults']])[:,1]"
   ]
  },
  {
   "cell_type": "code",
   "execution_count": 234,
   "metadata": {},
   "outputs": [
    {
     "data": {
      "image/png": "[encoded data removed]",
      "text/plain": [
       "<Figure size 432x288 with 1 Axes>"
      ]
     },
     "metadata": {
      "needs_background": "light"
     },
     "output_type": "display_data"
    }
   ],
   "source": [
    "sns.lineplot(data = tb_simul, x = 'lead_time', y = 'prob_cancelled', hue = 'adults', palette='Spectral');"
   ]
  },
  {
   "cell_type": "markdown",
   "metadata": {},
   "source": [
    "## *Thresholding* para Classificação"
   ]
  },
  {
   "cell_type": "code",
   "execution_count": 235,
   "metadata": {},
   "outputs": [
    {
     "data": {
      "text/html": [
       "<div>\n",
       "<style scoped>\n",
       "    .dataframe tbody tr th:only-of-type {\n",
       "        vertical-align: middle;\n",
       "    }\n",
       "\n",
       "    .dataframe tbody tr th {\n",
       "        vertical-align: top;\n",
       "    }\n",
       "\n",
       "    .dataframe thead th {\n",
       "        text-align: right;\n",
       "    }\n",
       "</style>\n",
       "<table border=\"1\" class=\"dataframe\">\n",
       "  <thead>\n",
       "    <tr style=\"text-align: right;\">\n",
       "      <th></th>\n",
       "      <th>is_cancelled</th>\n",
       "      <th>pred_canc_m1</th>\n",
       "    </tr>\n",
       "  </thead>\n",
       "  <tbody>\n",
       "    <tr>\n",
       "      <th>0</th>\n",
       "      <td>0</td>\n",
       "      <td>0</td>\n",
       "    </tr>\n",
       "    <tr>\n",
       "      <th>1</th>\n",
       "      <td>1</td>\n",
       "      <td>0</td>\n",
       "    </tr>\n",
       "    <tr>\n",
       "      <th>2</th>\n",
       "      <td>1</td>\n",
       "      <td>0</td>\n",
       "    </tr>\n",
       "    <tr>\n",
       "      <th>3</th>\n",
       "      <td>0</td>\n",
       "      <td>0</td>\n",
       "    </tr>\n",
       "    <tr>\n",
       "      <th>4</th>\n",
       "      <td>1</td>\n",
       "      <td>0</td>\n",
       "    </tr>\n",
       "    <tr>\n",
       "      <th>...</th>\n",
       "      <td>...</td>\n",
       "      <td>...</td>\n",
       "    </tr>\n",
       "    <tr>\n",
       "      <th>87199</th>\n",
       "      <td>1</td>\n",
       "      <td>0</td>\n",
       "    </tr>\n",
       "    <tr>\n",
       "      <th>87200</th>\n",
       "      <td>0</td>\n",
       "      <td>0</td>\n",
       "    </tr>\n",
       "    <tr>\n",
       "      <th>87201</th>\n",
       "      <td>0</td>\n",
       "      <td>0</td>\n",
       "    </tr>\n",
       "    <tr>\n",
       "      <th>87202</th>\n",
       "      <td>1</td>\n",
       "      <td>0</td>\n",
       "    </tr>\n",
       "    <tr>\n",
       "      <th>87203</th>\n",
       "      <td>0</td>\n",
       "      <td>1</td>\n",
       "    </tr>\n",
       "  </tbody>\n",
       "</table>\n",
       "<p>87204 rows × 2 columns</p>\n",
       "</div>"
      ],
      "text/plain": [
       "       is_cancelled  pred_canc_m1\n",
       "0                 0             0\n",
       "1                 1             0\n",
       "2                 1             0\n",
       "3                 0             0\n",
       "4                 1             0\n",
       "...             ...           ...\n",
       "87199             1             0\n",
       "87200             0             0\n",
       "87201             0             0\n",
       "87202             1             0\n",
       "87203             0             1\n",
       "\n",
       "[87204 rows x 2 columns]"
      ]
     },
     "execution_count": 235,
     "metadata": {},
     "output_type": "execute_result"
    }
   ],
   "source": [
    "tb_train['pred_canc_m1'] = m1.predict(tb_train[['lead_time']])\n",
    "tb_train[['is_cancelled', 'pred_canc_m1']]"
   ]
  },
  {
   "cell_type": "code",
   "execution_count": 236,
   "metadata": {},
   "outputs": [
    {
     "data": {
      "image/png": "[encoded data removed]",
      "text/plain": [
       "<Figure size 432x288 with 1 Axes>"
      ]
     },
     "metadata": {
      "needs_background": "light"
     },
     "output_type": "display_data"
    }
   ],
   "source": [
    "sns.scatterplot(data = tb_train, x = 'lead_time', y = 'pred_prob_m1');\n",
    "sns.scatterplot(data = tb_train, x = 'lead_time', y = 'pred_canc_m1');"
   ]
  },
  {
   "cell_type": "markdown",
   "metadata": {},
   "source": [
    "### Visualizando a Superficie de Decisão"
   ]
  },
  {
   "cell_type": "code",
   "execution_count": 237,
   "metadata": {},
   "outputs": [],
   "source": [
    "from mlxtend.plotting import plot_decision_regions"
   ]
  },
  {
   "cell_type": "code",
   "execution_count": 238,
   "metadata": {},
   "outputs": [
    {
     "name": "stderr",
     "output_type": "stream",
     "text": [
      "/Users/pedroteche/opt/anaconda3/lib/python3.9/site-packages/sklearn/base.py:450: UserWarning: X does not have valid feature names, but LogisticRegression was fitted with feature names\n",
      "  warnings.warn(\n"
     ]
    },
    {
     "data": {
      "text/plain": [
       "<AxesSubplot:>"
      ]
     },
     "execution_count": 238,
     "metadata": {},
     "output_type": "execute_result"
    },
    {
     "data": {
      "image/png": "[encoded data removed]",
      "text/plain": [
       "<Figure size 432x288 with 1 Axes>"
      ]
     },
     "metadata": {
      "needs_background": "light"
     },
     "output_type": "display_data"
    }
   ],
   "source": [
    "plot_decision_regions(np.array(tb_train[['lead_time']]), \n",
    "                      np.array(tb_train['is_cancelled']), \n",
    "                      m1, scatter_kwargs={'alpha':0.01})"
   ]
  },
  {
   "cell_type": "code",
   "execution_count": 239,
   "metadata": {},
   "outputs": [
    {
     "name": "stderr",
     "output_type": "stream",
     "text": [
      "/Users/pedroteche/opt/anaconda3/lib/python3.9/site-packages/sklearn/base.py:450: UserWarning: X does not have valid feature names, but LogisticRegression was fitted with feature names\n",
      "  warnings.warn(\n"
     ]
    },
    {
     "data": {
      "text/plain": [
       "<AxesSubplot:>"
      ]
     },
     "execution_count": 239,
     "metadata": {},
     "output_type": "execute_result"
    },
    {
     "data": {
      "image/png": "[encoded data removed]",
      "text/plain": [
       "<Figure size 432x288 with 1 Axes>"
      ]
     },
     "metadata": {
      "needs_background": "light"
     },
     "output_type": "display_data"
    }
   ],
   "source": [
    "plot_decision_regions(np.array(tb_train[['lead_time', 'adults']]), \n",
    "                      np.array(tb_train['is_cancelled']), \n",
    "                      m2, scatter_kwargs={'alpha':0.2})"
   ]
  },
  {
   "cell_type": "markdown",
   "metadata": {},
   "source": [
    "## Modelo Completo"
   ]
  },
  {
   "cell_type": "code",
   "execution_count": 210,
   "metadata": {},
   "outputs": [
    {
     "data": {
      "text/plain": [
       "Index(['lead_time', 'adults', 'children_imp', 'num_meal', 'country_grp_BEL',\n",
       "       'country_grp_BRA', 'country_grp_CHE', 'country_grp_CN',\n",
       "       'country_grp_DEU', 'country_grp_ESP', 'country_grp_FRA',\n",
       "       'country_grp_GBR', 'country_grp_IRL', 'country_grp_ITA',\n",
       "       'country_grp_NLD', 'country_grp_Others', 'country_grp_PRT',\n",
       "       'country_grp_USA', 'is_company', 'is_cancelled', 'pred_prob_m1',\n",
       "       'pred_prob_m2', 'pred_canc_m1'],\n",
       "      dtype='object')"
      ]
     },
     "execution_count": 210,
     "metadata": {},
     "output_type": "execute_result"
    }
   ],
   "source": [
    "tb_train.columns"
   ]
  },
  {
   "cell_type": "code",
   "execution_count": 252,
   "metadata": {},
   "outputs": [],
   "source": [
    "X_train = tb_train.drop(['is_cancelled', 'pred_prob_m1', 'pred_prob_m2', 'pred_canc_m1'], axis = 1)\n",
    "y_train = tb_train['is_cancelled']\n",
    "X_test = tb_test.drop('is_cancelled', axis = 1)\n",
    "y_test = tb_test['is_cancelled']"
   ]
  },
  {
   "cell_type": "code",
   "execution_count": 253,
   "metadata": {},
   "outputs": [
    {
     "data": {
      "text/plain": [
       "LogisticRegression()"
      ]
     },
     "execution_count": 253,
     "metadata": {},
     "output_type": "execute_result"
    }
   ],
   "source": [
    "m3 = LogisticRegression()\n",
    "m3.fit(X_train, y_train)"
   ]
  },
  {
   "cell_type": "code",
   "execution_count": 254,
   "metadata": {},
   "outputs": [],
   "source": [
    "import shap"
   ]
  },
  {
   "cell_type": "code",
   "execution_count": 255,
   "metadata": {},
   "outputs": [],
   "source": [
    "explainer = shap.explainers.Linear(m3, X_train)"
   ]
  },
  {
   "cell_type": "code",
   "execution_count": 265,
   "metadata": {},
   "outputs": [],
   "source": [
    "shap_values = explainer(X_train)"
   ]
  },
  {
   "cell_type": "code",
   "execution_count": 267,
   "metadata": {},
   "outputs": [
    {
     "data": {
      "image/png": "[encoded data removed]",
      "text/plain": [
       "<Figure size 576x396 with 2 Axes>"
      ]
     },
     "metadata": {
      "needs_background": "light"
     },
     "output_type": "display_data"
    }
   ],
   "source": [
    "shap.plots.beeswarm(shap_values)"
   ]
  },
  {
   "cell_type": "code",
   "execution_count": null,
   "metadata": {},
   "outputs": [],
   "source": []
  }
 ],
 "metadata": {
  "kernelspec": {
   "display_name": "Python 3 (ipykernel)",
   "language": "python",
   "name": "python3"
  },
  "language_info": {
   "codemirror_mode": {
    "name": "ipython",
    "version": 3
   },
   "file_extension": ".py",
   "mimetype": "text/x-python",
   "name": "python",
   "nbconvert_exporter": "python",
   "pygments_lexer": "ipython3",
   "version": "3.9.11"
  },
  "toc": {
   "base_numbering": 1,
   "nav_menu": {},
   "number_sections": true,
   "sideBar": true,
   "skip_h1_title": false,
   "title_cell": "Table of Contents",
   "title_sidebar": "Contents",
   "toc_cell": false,
   "toc_position": {},
   "toc_section_display": true,
   "toc_window_display": false
  },
  "vscode": {
   "interpreter": {
    "hash": "014f4a4a5af8f0104b12c029e500f4146d6d785e8cf714d2a35b7a9514230cd3"
   }
  }
 },
 "nbformat": 4,
 "nbformat_minor": 2
}

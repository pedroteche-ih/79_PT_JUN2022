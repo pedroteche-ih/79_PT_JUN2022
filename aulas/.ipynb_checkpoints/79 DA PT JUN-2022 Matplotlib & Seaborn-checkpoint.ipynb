{
 "cells": [
  {
   "cell_type": "markdown",
   "id": "943a1974",
   "metadata": {
    "toc": true
   },
   "source": [
    "<h1>Table of Contents<span class=\"tocSkip\"></span></h1>\n",
    "<div class=\"toc\"><ul class=\"toc-item\"><li><span><a href=\"#Matplotlib-e-Seaborn\" data-toc-modified-id=\"Matplotlib-e-Seaborn-1\"><span class=\"toc-item-num\">1&nbsp;&nbsp;</span>Matplotlib e Seaborn</a></span><ul class=\"toc-item\"><li><span><a href=\"#Figuras-e-Eixos\" data-toc-modified-id=\"Figuras-e-Eixos-1.1\"><span class=\"toc-item-num\">1.1&nbsp;&nbsp;</span>Figuras e Eixos</a></span><ul class=\"toc-item\"><li><span><a href=\"#Um-exemplo-simples\" data-toc-modified-id=\"Um-exemplo-simples-1.1.1\"><span class=\"toc-item-num\">1.1.1&nbsp;&nbsp;</span>Um exemplo simples</a></span></li><li><span><a href=\"#Adicionando-dados\" data-toc-modified-id=\"Adicionando-dados-1.1.2\"><span class=\"toc-item-num\">1.1.2&nbsp;&nbsp;</span>Adicionando dados</a></span></li><li><span><a href=\"#Figure\" data-toc-modified-id=\"Figure-1.1.3\"><span class=\"toc-item-num\">1.1.3&nbsp;&nbsp;</span><code>Figure</code></a></span></li><li><span><a href=\"#Axes\" data-toc-modified-id=\"Axes-1.1.4\"><span class=\"toc-item-num\">1.1.4&nbsp;&nbsp;</span><code>Axes</code></a></span></li><li><span><a href=\"#Axis\" data-toc-modified-id=\"Axis-1.1.5\"><span class=\"toc-item-num\">1.1.5&nbsp;&nbsp;</span><code>Axis</code></a></span></li><li><span><a href=\"#Dois-caminhos\" data-toc-modified-id=\"Dois-caminhos-1.1.6\"><span class=\"toc-item-num\">1.1.6&nbsp;&nbsp;</span>Dois caminhos</a></span><ul class=\"toc-item\"><li><span><a href=\"#O-Caminho-OOP\" data-toc-modified-id=\"O-Caminho-OOP-1.1.6.1\"><span class=\"toc-item-num\">1.1.6.1&nbsp;&nbsp;</span>O Caminho OOP</a></span></li></ul></li></ul></li><li><span><a href=\"#Utilizando-Seaborn\" data-toc-modified-id=\"Utilizando-Seaborn-1.2\"><span class=\"toc-item-num\">1.2&nbsp;&nbsp;</span>Utilizando <code>Seaborn</code></a></span><ul class=\"toc-item\"><li><span><a href=\"#Matplotlib-vs-Seaborn\" data-toc-modified-id=\"Matplotlib-vs-Seaborn-1.2.1\"><span class=\"toc-item-num\">1.2.1&nbsp;&nbsp;</span>Matplotlib vs Seaborn</a></span></li></ul></li><li><span><a href=\"#Conhecendo-alguns-gráficos\" data-toc-modified-id=\"Conhecendo-alguns-gráficos-1.3\"><span class=\"toc-item-num\">1.3&nbsp;&nbsp;</span>Conhecendo alguns gráficos</a></span><ul class=\"toc-item\"><li><span><a href=\"#Visualizando-Relações\" data-toc-modified-id=\"Visualizando-Relações-1.3.1\"><span class=\"toc-item-num\">1.3.1&nbsp;&nbsp;</span>Visualizando Relações</a></span><ul class=\"toc-item\"><li><span><a href=\"#Utilizando-Regressões\" data-toc-modified-id=\"Utilizando-Regressões-1.3.1.1\"><span class=\"toc-item-num\">1.3.1.1&nbsp;&nbsp;</span>Utilizando Regressões</a></span></li></ul></li><li><span><a href=\"#Visualizando-Distribuições\" data-toc-modified-id=\"Visualizando-Distribuições-1.3.2\"><span class=\"toc-item-num\">1.3.2&nbsp;&nbsp;</span>Visualizando Distribuições</a></span><ul class=\"toc-item\"><li><span><a href=\"#Histogramas\" data-toc-modified-id=\"Histogramas-1.3.2.1\"><span class=\"toc-item-num\">1.3.2.1&nbsp;&nbsp;</span>Histogramas</a></span></li><li><span><a href=\"#Boxplots\" data-toc-modified-id=\"Boxplots-1.3.2.2\"><span class=\"toc-item-num\">1.3.2.2&nbsp;&nbsp;</span>Boxplots</a></span></li></ul></li><li><span><a href=\"#Mapas-de-Calor\" data-toc-modified-id=\"Mapas-de-Calor-1.3.3\"><span class=\"toc-item-num\">1.3.3&nbsp;&nbsp;</span>Mapas de Calor</a></span></li></ul></li><li><span><a href=\"#Plotly\" data-toc-modified-id=\"Plotly-1.4\"><span class=\"toc-item-num\">1.4&nbsp;&nbsp;</span>Plotly</a></span></li></ul></li></ul></div>"
   ]
  },
  {
   "cell_type": "markdown",
   "id": "arbitrary-spencer",
   "metadata": {},
   "source": [
    "# Matplotlib e Seaborn\n",
    "\n",
    "Ao longo das últimas aulas utilizamos o Tableau para criar gráficos interativos de uma forma dinâmica e simples. Hoje aprenderemos como podemos criar gráficos semelhantes dentro do Python.\n",
    "\n",
    "Para tanto, utilizaremos as bibliotecas `matplotlib` e `seaborn`. A `matplotlib` é uma das primeiras bibliotecas de visualização de dados do Python: foi criada por John D. Hunter, um neurobiologista estadunidense, **em 2003**! Ainda hoje ela é usada como base para criação de diversas visualizações e é conhecida pela sua capacidade de criar gráficos para publicações científicas.\n",
    "\n",
    "A biblioteca `seaborn` funciona como uma **camada para a biblioteca `matplotlib`** - como esta é muito *low-level*, permitindo todo tipo de customização nos gráficos, é fácil se perder nos inúmeros parâmetros e opções mesmo para criar alguns gráficos simples. **A `seaborn` nasceu para simplificar isto!**. Ela *empacota* diversas tarefas (tipos de gráficos) comuns em funções simples.\n",
    "\n",
    "**Referências**\n",
    "\n",
    "* [Matplotlib Usage Guide](https://matplotlib.org/stable/tutorials/introductory/usage.html)\n",
    "* [Matplotlib Named Colors](https://matplotlib.org/3.1.1/gallery/color/named_colors.html)\n",
    "* [Visualization With Seaborn](https://jakevdp.github.io/PythonDataScienceHandbook/04.14-visualization-with-seaborn.html)\n",
    "----"
   ]
  },
  {
   "cell_type": "code",
   "execution_count": null,
   "id": "satellite-electron",
   "metadata": {},
   "outputs": [],
   "source": [
    "!pip3 install seaborn\n",
    "!pip3 install matplotlib"
   ]
  },
  {
   "cell_type": "code",
   "execution_count": null,
   "id": "dated-stomach",
   "metadata": {
    "ExecuteTime": {
     "end_time": "2022-02-12T13:13:17.917092Z",
     "start_time": "2022-02-12T13:13:17.755524Z"
    }
   },
   "outputs": [],
   "source": [
    "import numpy as np\n",
    "import pandas as pd\n"
   ]
  },
  {
   "cell_type": "code",
   "execution_count": null,
   "id": "returning-determination",
   "metadata": {
    "ExecuteTime": {
     "end_time": "2022-02-12T13:14:33.179973Z",
     "start_time": "2022-02-12T13:14:32.874380Z"
    }
   },
   "outputs": [],
   "source": [
    "# Convenção de importação do matplotlib: plt\n",
    "import matplotlib.pyplot as plt\n"
   ]
  },
  {
   "cell_type": "code",
   "execution_count": null,
   "id": "royal-briefing",
   "metadata": {
    "ExecuteTime": {
     "end_time": "2022-02-12T13:16:33.861388Z",
     "start_time": "2022-02-12T13:16:33.853383Z"
    }
   },
   "outputs": [],
   "source": [
    "# Garante que o plot irá printar na sua tela\n",
    "%matplotlib inline"
   ]
  },
  {
   "cell_type": "markdown",
   "id": "systematic-poultry",
   "metadata": {},
   "source": []
  },
  {
   "cell_type": "markdown",
   "id": "vertical-resistance",
   "metadata": {},
   "source": [
    "## Figuras e Eixos\n",
    "\n",
    "A `matplotlib` funciona com base em alguns objetos básicos para construir gráficos:\n",
    "\n",
    "* `Figure` - a janela, widget ou célula do Jupyter que contém seu gráfico;\n",
    "* `Axis` - a área do próprio gráfico com um sistema de eixos de coordenado, como sistema cartesiano, polar ou 3D.\n",
    "\n",
    "Uma `Figure` pode conter diversos `Axis`, empacotando diversos gráficos distintos em uma região única. A forma mais simples de criar uma `Figure` e alguns `Axis` é através da função `plt.subplots()`.\n",
    "\n",
    "### Um exemplo simples\n",
    "\n",
    "Vamos ver como podemos utilizar a função `plt.subplots()` para construir alguns gráficos simples:\n"
   ]
  },
  {
   "cell_type": "code",
   "execution_count": null,
   "id": "signal-science",
   "metadata": {
    "ExecuteTime": {
     "end_time": "2022-02-12T13:21:25.214829Z",
     "start_time": "2022-02-12T13:21:25.011388Z"
    }
   },
   "outputs": [],
   "source": [
    "fig, axs = plt.subplots(1, 1, figsize=(5, 5))\n",
    "fig.suptitle(\"Meu gráfico\")\n"
   ]
  },
  {
   "cell_type": "code",
   "execution_count": null,
   "id": "fafde6c2",
   "metadata": {
    "ExecuteTime": {
     "end_time": "2022-02-12T13:22:23.773594Z",
     "start_time": "2022-02-12T13:22:23.768609Z"
    }
   },
   "outputs": [],
   "source": [
    "axs\n"
   ]
  },
  {
   "cell_type": "markdown",
   "id": "9e13d702",
   "metadata": {},
   "source": [
    "Agora, vamos criar uma `Figure` com dois `Axis`:"
   ]
  },
  {
   "cell_type": "code",
   "execution_count": null,
   "id": "572e694e",
   "metadata": {},
   "outputs": [],
   "source": [
    "fig, axs = plt.subplots(1, 2, figsize=(5, 5))\n",
    "fig.suptitle(\"Meu gráfico\")\n"
   ]
  },
  {
   "cell_type": "code",
   "execution_count": null,
   "id": "c7465dc4",
   "metadata": {},
   "outputs": [],
   "source": [
    "axs\n"
   ]
  },
  {
   "cell_type": "markdown",
   "id": "elegant-probe",
   "metadata": {},
   "source": [
    "### Adicionando dados\n",
    "\n",
    "Vamos adicionar dados diretamente aos nossos gráficos utilizando os métodos `.bar()` e `.plot()` para criar um gráfico de barras e um gráfico de linhas respectivamente.\n",
    "\n",
    "* Matplotlib Colors: https://matplotlib.org/stable/gallery/color/named_colors.html"
   ]
  },
  {
   "cell_type": "code",
   "execution_count": null,
   "id": "roman-omaha",
   "metadata": {
    "ExecuteTime": {
     "end_time": "2022-02-12T13:26:44.076599Z",
     "start_time": "2022-02-12T13:26:43.822267Z"
    }
   },
   "outputs": [],
   "source": [
    "fig, axs = plt.subplots(1, 2, figsize=(10, 5))\n",
    "axs[0].bar([1, 2, 3, 4], [1, 0, 2, 5], color=\"orange\")\n",
    "axs[0].set_title(\"Titulo axs[0]\")\n",
    "axs[1].plot([1, 2, 3, 4], [1, 0, 2, 5], color=\"red\")\n",
    "axs[1].set_title(\"Titulo axs[1]\")\n",
    "fig.suptitle(\"Titulo Figura\")\n"
   ]
  },
  {
   "cell_type": "markdown",
   "id": "c268c310",
   "metadata": {},
   "source": [
    "Podemos utilizar os dois primeiros argumentos da função `plt.subplots()` para criar `Figures` mais complexas:"
   ]
  },
  {
   "cell_type": "code",
   "execution_count": null,
   "id": "fe2539de",
   "metadata": {
    "ExecuteTime": {
     "end_time": "2022-02-12T13:28:25.357533Z",
     "start_time": "2022-02-12T13:28:24.994492Z"
    }
   },
   "outputs": [],
   "source": [
    "fig, axs = plt.subplots(2, 2, figsize=(10, 5))\n",
    "axs[0][0].bar([1, 2, 3, 4], [1, 0, 2, 5], color=\"orange\")\n",
    "axs[0][0].set_title(\"Titulo axs[0]\")\n",
    "axs[0][1].bar([1, 2, 3, 4], [1, 0, 2, 5], color=\"orange\")\n",
    "axs[0][1].set_title(\"Titulo axs[0]\")\n",
    "axs[1][0].bar([1, 2, 3, 4], [1, 0, 2, 5], color=\"orange\")\n",
    "axs[1][0].set_title(\"Titulo axs[0]\")\n",
    "axs[1][1].bar([1, 2, 3, 4], [1, 0, 2, 5], color=\"orange\")\n",
    "axs[1][1].set_title(\"Titulo axs[0]\")\n"
   ]
  },
  {
   "cell_type": "markdown",
   "id": "banner-intensity",
   "metadata": {},
   "source": [
    "### `Figure`\n",
    "\n",
    "A figura é a região onde nossos gráficos serão criados. Dificilmente utilizamos ela diretamente - mas este objeto (nos exemplos acima, a variável `fig`) é o que contém todas as informações de cada gráfico."
   ]
  },
  {
   "cell_type": "code",
   "execution_count": null,
   "id": "silver-nursing",
   "metadata": {
    "ExecuteTime": {
     "end_time": "2022-02-12T13:29:26.240176Z",
     "start_time": "2022-02-12T13:29:26.218238Z"
    }
   },
   "outputs": [],
   "source": [
    "fig = plt.figure()\n",
    "fig.suptitle(\"Título de um gráfico que não existe\")\n",
    "plt.show()\n"
   ]
  },
  {
   "cell_type": "markdown",
   "id": "commercial-uruguay",
   "metadata": {},
   "source": [
    "### `Axes`\n",
    "* Um `Axes` é o que pensamos como *um gráfico*: é a região da figura que contém um sistema de eixos no qual serão criados nossos gráficos;\n",
    "* Uma `Figure` pode ter múltiplos gráficos, mas um `Axes` só pode estar em uma `Figure`;\n",
    "* Cada `Axes` contém 2 ou 3 objetos `Axis` (os eixos do espaço de coordenada)."
   ]
  },
  {
   "cell_type": "code",
   "execution_count": null,
   "id": "stable-survival",
   "metadata": {
    "ExecuteTime": {
     "end_time": "2022-02-12T13:30:00.474872Z",
     "start_time": "2022-02-12T13:30:00.350276Z"
    }
   },
   "outputs": [],
   "source": [
    "fig, ax = plt.subplots()\n"
   ]
  },
  {
   "cell_type": "markdown",
   "id": "0775bf19",
   "metadata": {},
   "source": [
    "As `Figures` e os `Axes` contém métodos que nos permitem adicionar elementos (como título dos eixos, legendas, formatação numérica, etc) à nossa figura - primeiro vamos adicionar um títutlo geral à `Figure`:"
   ]
  },
  {
   "cell_type": "code",
   "execution_count": null,
   "id": "conditional-westminster",
   "metadata": {
    "ExecuteTime": {
     "end_time": "2022-02-12T13:30:03.912458Z",
     "start_time": "2022-02-12T13:30:03.579662Z"
    }
   },
   "outputs": [],
   "source": [
    "fig, ax = plt.subplots(2, 2, figsize=(10, 10))\n",
    "fig.suptitle(\"Titulo da figura\")\n"
   ]
  },
  {
   "cell_type": "markdown",
   "id": "6ce86566",
   "metadata": {},
   "source": [
    "Agora, vamos adicionar títulos à cada um dos `Axes` de nossa `Figure`:"
   ]
  },
  {
   "cell_type": "code",
   "execution_count": null,
   "id": "3177ac7c",
   "metadata": {},
   "outputs": [],
   "source": [
    "fig, ax = plt.subplots(2, 2, figsize=(10, 10))\n",
    "fig.suptitle(\"Titulo da figura\")\n",
    "ax[1][0].set_title(\"Fig 1 0\")\n",
    "ax[1][1].set_title(\"Fig 1 1\")\n",
    "ax[0][1].set_title(\"Fig 0 1\")\n",
    "ax[0][0].set_title(\"Fig 0 0\")\n"
   ]
  },
  {
   "cell_type": "markdown",
   "id": "lasting-miami",
   "metadata": {},
   "source": [
    "\n",
    "### `Axis`\n",
    "\n",
    "Cada `Axes` contém 2 ou 3 `Axis` representando os eixos de nosso gráfico. Podemos utilizar diferentes métodos para mudar os títutlos dos eixos, sua escala e a formatação dos ticks.\n",
    "\n",
    "\n",
    "![image.png](images/anatomia_matplotlib.jpg)\n",
    "\n",
    "Primeiro, vamos utilizar o método `.set()` para mudar os limites dos `Axis` de um `Axes` específico em nossa `Figure`:"
   ]
  },
  {
   "cell_type": "code",
   "execution_count": null,
   "id": "imperial-surname",
   "metadata": {
    "ExecuteTime": {
     "end_time": "2022-02-12T13:30:41.560133Z",
     "start_time": "2022-02-12T13:30:41.197212Z"
    }
   },
   "outputs": [],
   "source": [
    "fig, ax = plt.subplots(2, 2, figsize=(10, 10))\n",
    "ax[1][0].plot([1, 2, 3, 4], [2, 1, 2, 1], color=\"purple\")\n",
    "ax[1][0].set(ylim=(0, 5), xlim=(0, 5))\n",
    "fig.suptitle(\"Titulo da figura\")\n",
    "ax[1][0].set_title(\"Fig 1 0\")\n",
    "ax[1][1].set_title(\"Fig 1 1\")\n",
    "ax[0][1].set_title(\"Fig 0 1\")\n",
    "ax[0][0].set_title(\"Fig 0 0\")\n"
   ]
  },
  {
   "cell_type": "markdown",
   "id": "seventh-delicious",
   "metadata": {},
   "source": [
    "### Dois caminhos\n",
    "\n",
    "**Interfaces de objetos e funcional**\n",
    "\n",
    "* WAY 1: Crie `Figures` diretamente e utilize métodos para configura-las;\n",
    "* WAY 2: Utilize funções do `pyplot` para criar figuras e *gerenciar* `Axes`, `Axis` e outros elementos gráficos.\n",
    "\n",
    "https://jakevdp.github.io/PythonDataScienceHandbook/04.00-introduction-to-matplotlib.html\n",
    "\n",
    "#### O Caminho OOP\n",
    "\n",
    "A interface mais flexível e que requer *decorar* menos argumentos e funções é a interface OOP da `matplotlib`:"
   ]
  },
  {
   "cell_type": "code",
   "execution_count": null,
   "id": "interior-investigator",
   "metadata": {
    "ExecuteTime": {
     "end_time": "2022-02-12T13:44:03.179781Z",
     "start_time": "2022-02-12T13:44:02.798799Z"
    }
   },
   "outputs": [],
   "source": [
    "numeros = np.linspace(0, 2, 100)\n",
    "\n",
    "fig, ax = plt.subplots(1, 2, figsize=(10, 5))\n",
    "ax[0].plot(numeros, numeros, label=\"linear\")\n",
    "ax[0].plot(numeros, numeros**2, label=\"quadratic\")\n",
    "ax[0].plot(numeros, numeros**3, label=\"cubic\")\n",
    "ax[0].set_xlabel(\"x label\")\n",
    "ax[0].set_ylabel(\"y label\")\n",
    "ax[0].set_title(\"Simple Plot\")\n",
    "ax[0].legend()\n",
    "ax[1].plot(numeros, numeros, label=\"linear\")\n",
    "ax[1].plot(numeros**2, numeros, label=\"quadratic\")\n",
    "ax[1].plot(numeros**3, numeros, label=\"cubic\")\n",
    "ax[1].set_xlabel(\"x label\")\n",
    "ax[1].set_ylabel(\"y label\")\n",
    "ax[1].set_title(\"Simple Plot\")\n",
    "ax[1].legend()\n"
   ]
  },
  {
   "cell_type": "markdown",
   "id": "680fc86f",
   "metadata": {},
   "source": [
    "Para gráficos simples podemos utilizar as funções do `pyplot` para cria-los:"
   ]
  },
  {
   "cell_type": "code",
   "execution_count": null,
   "id": "raised-leather",
   "metadata": {
    "ExecuteTime": {
     "end_time": "2022-02-12T13:35:32.766992Z",
     "start_time": "2022-02-12T13:35:32.533616Z"
    }
   },
   "outputs": [],
   "source": [
    "x = np.linspace(0, 2, 100)\n",
    "\n",
    "plt.plot(x, x, label=\"linear\")\n",
    "plt.plot(x, x**2, label=\"quadratic\")\n",
    "plt.plot(x, x**3, label=\"cubic\")\n",
    "plt.xlabel(\"x label\")\n",
    "plt.ylabel(\"y label\")\n",
    "plt.title(\"Simple Plot\")\n",
    "plt.legend()\n"
   ]
  },
  {
   "cell_type": "markdown",
   "id": "ae419031",
   "metadata": {},
   "source": [
    "Sempre que quisermos construir gráficos mais complexos, ou configurar todos os elementos de nosso gráfico (para uma publicação ou apresentação), é **melhor utilizar a interface OOP**!"
   ]
  },
  {
   "cell_type": "markdown",
   "id": "referenced-coverage",
   "metadata": {},
   "source": [
    "\n",
    "## Utilizando `Seaborn`\n",
    "Seaborn is a Python data visualization library based on matplotlib. It provides a high-level interface for drawing attractive and informative statistical graphics.\n",
    "\n",
    "A biblioteca `seaborn` fornece funções mais simples para criar gráficos utilizando a `matplotlib`: ela é menos flexível mas, para o dia a dia, fornece funções com padrões atraentes e que atendem a maior parte das necessidades na criação de gráficos.\n",
    "\n",
    "**Matplotlib Cons**\n",
    "\n",
    "Embora a `matplotlib` seja a pedra angular de visualização de dados no Python, ela deixa muito a desejar, especificamente com relação a **quantidade de código** que precisamos utilizar mesmo para gráficos simples:\n",
    "\n",
    "> Matplotlib's API is relatively **low level**. Doing sophisticated statistical visualization is possible, but often requires a lot of boilerplate code. \n",
    "\n",
    "> Matplotlib predated Pandas by more than a decade, and thus is **not designed for use with Pandas DataFrames**. In order to visualize data from a Pandas DataFrame, you must extract each Series and often concatenate them together into the right format. It would be nicer to have a plotting library that can intelligently use the DataFrame labels in a plot. \n",
    "\n",
    "[Source](https://jakevdp.github.io/PythonDataScienceHandbook/04.14-visualization-with-seaborn.html)\n",
    "\n",
    "> While you can be productive using only seaborn functions, **full customization of your graphics will require some knowledge of matplotlib’s concepts and API.** \n",
    "\n",
    "> One aspect of the learning curve for new users of seaborn will be knowing when dropping down to the matplotlib layer is necessary to achieve a particular customization. On the other hand, users coming from matplotlib will find that much of their knowledge transfers. \n",
    "\n",
    "[Source](https://seaborn.pydata.org/introduction.html)"
   ]
  },
  {
   "cell_type": "markdown",
   "id": "higher-support",
   "metadata": {},
   "source": [
    "### Matplotlib vs Seaborn"
   ]
  },
  {
   "cell_type": "code",
   "execution_count": null,
   "id": "sharing-dialogue",
   "metadata": {
    "ExecuteTime": {
     "end_time": "2022-02-12T13:57:06.855738Z",
     "start_time": "2022-02-12T13:57:06.842773Z"
    }
   },
   "outputs": [],
   "source": [
    "# Create some data\n",
    "rng = np.random.RandomState(0)\n",
    "\n",
    "x = np.linspace(0, 10, 500)\n",
    "y = np.cumsum(rng.randn(500, 6), 0)\n"
   ]
  },
  {
   "cell_type": "code",
   "execution_count": null,
   "id": "compressed-bookmark",
   "metadata": {
    "ExecuteTime": {
     "end_time": "2022-02-12T13:58:44.813903Z",
     "start_time": "2022-02-12T13:58:44.583519Z"
    }
   },
   "outputs": [],
   "source": [
    "plt.plot(x, y)\n",
    "plt.legend(\"ABCDEF\", ncol=3, loc=\"lower center\")\n"
   ]
  },
  {
   "cell_type": "code",
   "execution_count": null,
   "id": "downtown-gambling",
   "metadata": {
    "ExecuteTime": {
     "end_time": "2022-02-12T13:59:38.320303Z",
     "start_time": "2022-02-12T13:59:37.340364Z"
    }
   },
   "outputs": [],
   "source": [
    "import seaborn as sns\n",
    "\n",
    "sns.set_style(\"darkgrid\")\n"
   ]
  },
  {
   "cell_type": "code",
   "execution_count": null,
   "id": "brilliant-moses",
   "metadata": {
    "ExecuteTime": {
     "end_time": "2022-02-12T13:59:43.860256Z",
     "start_time": "2022-02-12T13:59:43.603915Z"
    }
   },
   "outputs": [],
   "source": [
    "# same plotting code as above!\n",
    "plt.plot(x, y)\n",
    "plt.legend(\"ABCDEF\", ncol=2, loc=\"lower center\")\n"
   ]
  },
  {
   "cell_type": "markdown",
   "id": "advance-delaware",
   "metadata": {},
   "source": [
    "**Importante!**\n",
    "\n",
    "* `sns.set()` utiliza os parâmetros de configuração da própria Matplotlib, logo todos os nossos plots em nosso notebook passarão a ter a mesma *cara* (independente de serem do Seaborn ou da Matplotlib)\n",
    "* Parâmetros de estética na Seaborn: [Aesthetics](https://seaborn.pydata.org/tutorial/aesthetics.html)"
   ]
  },
  {
   "cell_type": "markdown",
   "id": "superior-fifth",
   "metadata": {},
   "source": [
    "## Conhecendo alguns gráficos\n",
    "\n",
    "Neste seção veremos alguns tipos diferentes de gráficos (alguns comuns, outros mais herméticos) e qual função cumprem.\n",
    "\n",
    "Para isso utilizaremos um conjunto de dados sobre gorjetas em um restaurante - [o conjunto Tips]( https://github.com/mwaskom/seaborn-data)"
   ]
  },
  {
   "cell_type": "code",
   "execution_count": null,
   "id": "approximate-musical",
   "metadata": {
    "ExecuteTime": {
     "end_time": "2022-02-12T14:00:31.904685Z",
     "start_time": "2022-02-12T14:00:31.889724Z"
    }
   },
   "outputs": [],
   "source": [
    "tips = sns.load_dataset(\"tips\")\n"
   ]
  },
  {
   "cell_type": "code",
   "execution_count": null,
   "id": "47995c51",
   "metadata": {
    "ExecuteTime": {
     "end_time": "2022-02-12T14:02:42.883354Z",
     "start_time": "2022-02-12T14:02:42.860415Z"
    }
   },
   "outputs": [],
   "source": [
    "tips.info()\n"
   ]
  },
  {
   "cell_type": "code",
   "execution_count": null,
   "id": "82b0833d",
   "metadata": {
    "ExecuteTime": {
     "end_time": "2022-02-12T14:02:34.732102Z",
     "start_time": "2022-02-12T14:02:34.694203Z"
    }
   },
   "outputs": [],
   "source": [
    "tips.describe()\n"
   ]
  },
  {
   "cell_type": "markdown",
   "id": "natural-extraction",
   "metadata": {},
   "source": [
    "### Visualizando Relações\n",
    "\n",
    "Vamos explorar a relação entre `total_bill` e `tips` - condicionando essa relação aos diferentes atributos qualitativos de cada observação (`time`, `smokers`, `size`)"
   ]
  },
  {
   "cell_type": "code",
   "execution_count": null,
   "id": "455b4315",
   "metadata": {
    "ExecuteTime": {
     "end_time": "2022-02-12T14:03:26.222012Z",
     "start_time": "2022-02-12T14:03:25.942759Z"
    }
   },
   "outputs": [],
   "source": [
    "sns.relplot(data=tips, x=\"total_bill\", y=\"tip\")\n"
   ]
  },
  {
   "cell_type": "markdown",
   "id": "0d7bf4e3",
   "metadata": {},
   "source": [
    "Vamos utilizar o argumento `col = ` para separar jantares de almoços:"
   ]
  },
  {
   "cell_type": "code",
   "execution_count": null,
   "id": "88101860",
   "metadata": {},
   "outputs": [],
   "source": [
    "sns.relplot(data=tips, col=\"time\", x=\"total_bill\", y=\"tip\")\n"
   ]
  },
  {
   "cell_type": "markdown",
   "id": "a533f451",
   "metadata": {},
   "source": [
    "Como este atributo possui apenas dois níveis, podemos representa-lo utilizando a cor dos pontos, através do argumento `hue = `:"
   ]
  },
  {
   "cell_type": "code",
   "execution_count": null,
   "id": "76e08432",
   "metadata": {},
   "outputs": [],
   "source": [
    "sns.relplot(data=tips, hue=\"time\", x=\"total_bill\", y=\"tip\")\n"
   ]
  },
  {
   "cell_type": "markdown",
   "id": "37c5de20",
   "metadata": {},
   "source": [
    "Como a variável `day` contém 4 níveis distintos, coloca-la em um elemento gráfico deixará nosso gráfico confuso. Vamos utilizar o argumento `col = ` para criar um gráfico para cada dia da semana:"
   ]
  },
  {
   "cell_type": "code",
   "execution_count": null,
   "id": "abf9e8a8",
   "metadata": {},
   "outputs": [],
   "source": [
    "sns.relplot(data=tips, hue=\"time\", col=\"day\", x=\"total_bill\", y=\"tip\")\n"
   ]
  },
  {
   "cell_type": "markdown",
   "id": "8cdd5695",
   "metadata": {},
   "source": [
    "Podemos utilizar o argumento `col_wrap = ` para delimitar em quantas colunas desejamos inserir cada gráfico:"
   ]
  },
  {
   "cell_type": "code",
   "execution_count": null,
   "id": "b0ccdb31",
   "metadata": {},
   "outputs": [],
   "source": [
    "sns.relplot(data=tips, hue=\"time\", col=\"day\", col_wrap=2, x=\"total_bill\", y=\"tip\")\n"
   ]
  },
  {
   "cell_type": "markdown",
   "id": "793f9f04",
   "metadata": {},
   "source": [
    "A variável `size` é uma variável continua, com o # de pessoas sentadas à mesa. Vamos utilizar o argumento `size = ` para alterar o tamanho de cada símbolo em função dessa variável:"
   ]
  },
  {
   "cell_type": "code",
   "execution_count": null,
   "id": "05a61e9d",
   "metadata": {},
   "outputs": [],
   "source": [
    "sns.relplot(\n",
    "    data=tips, hue=\"time\", size=\"size\", col=\"day\", col_wrap=2, x=\"total_bill\", y=\"tip\"\n",
    ")\n"
   ]
  },
  {
   "cell_type": "markdown",
   "id": "48ba3700",
   "metadata": {},
   "source": [
    "Podemos alterar a banda de tamanhos utilizada para representar os diferentes tamanhos de mesa através do argumento `sizes = ()`:"
   ]
  },
  {
   "cell_type": "code",
   "execution_count": null,
   "id": "30b008db",
   "metadata": {},
   "outputs": [],
   "source": [
    "sns.relplot(\n",
    "    data=tips,\n",
    "    hue=\"time\",\n",
    "    size=\"size\",\n",
    "    sizes=(20, 200),\n",
    "    col=\"day\",\n",
    "    col_wrap=2,\n",
    "    x=\"total_bill\",\n",
    "    y=\"tip\",\n",
    ")\n"
   ]
  },
  {
   "cell_type": "markdown",
   "id": "6ddf5921",
   "metadata": {},
   "source": [
    "Por fim, podemos alterar o marcador utilizado para cada ponto em nosso scatterplot em função da variável `smoker`:"
   ]
  },
  {
   "cell_type": "code",
   "execution_count": null,
   "id": "miniature-motion",
   "metadata": {
    "ExecuteTime": {
     "end_time": "2022-02-12T14:25:49.790715Z",
     "start_time": "2022-02-12T14:25:48.510020Z"
    },
    "scrolled": true
   },
   "outputs": [],
   "source": [
    "sns.relplot(\n",
    "    data=tips,\n",
    "    hue=\"time\",\n",
    "    style=\"smoker\",\n",
    "    size=\"size\",\n",
    "    sizes=(20, 200),\n",
    "    col=\"day\",\n",
    "    col_wrap=2,\n",
    "    x=\"total_bill\",\n",
    "    y=\"tip\",\n",
    ")\n"
   ]
  },
  {
   "cell_type": "markdown",
   "id": "801e8489",
   "metadata": {},
   "source": [
    "##### EXERCICIO\n",
    "A variável `size` representa o número de pessoas em cada almoço/jantar. Crie as variáveis `bill_per_person` representando a conta por pessoa e `percentage_tip` representando a % da conta que foi deixada como gorjeta. Crie um gráfico utilizando as classificações `smoker`, `time` e `sex` (que representa o genêro da pessoa que pagou a conta) para investigar a relação, caso ela exista, entre as duas variáveis criadas"
   ]
  },
  {
   "cell_type": "markdown",
   "id": "alternate-anthropology",
   "metadata": {},
   "source": [
    "#### Utilizando Regressões\n",
    "\n",
    "Podemos estimar a relação entre duas variáveis continuas de um gráfico através de uma **Regressão Linear** - a `seaborn` nos fornece uma função que permite visualizar a relação entre 2 variáveis estimada por uma regressão linear diretamente, através da função `lmplot()`:"
   ]
  },
  {
   "cell_type": "code",
   "execution_count": null,
   "id": "cooked-armor",
   "metadata": {
    "ExecuteTime": {
     "end_time": "2022-02-12T14:58:21.680695Z",
     "start_time": "2022-02-12T14:58:20.959103Z"
    }
   },
   "outputs": [],
   "source": [
    "sns.lmplot(data=tips, x=\"total_bill\", y=\"tip\", hue=\"time\")\n"
   ]
  },
  {
   "cell_type": "markdown",
   "id": "cardiac-biology",
   "metadata": {},
   "source": [
    "### Visualizando Distribuições\n",
    "\n",
    "Além de visualizar relação entre variáveis, podemos utilizar gráficos para visualizar a **distribuição** dela."
   ]
  },
  {
   "cell_type": "code",
   "execution_count": null,
   "id": "finished-executive",
   "metadata": {
    "ExecuteTime": {
     "end_time": "2022-02-12T14:59:30.537067Z",
     "start_time": "2022-02-12T14:59:30.529067Z"
    }
   },
   "outputs": [],
   "source": [
    "tips[\"total_bill\"].describe()\n"
   ]
  },
  {
   "cell_type": "markdown",
   "id": "40afa38b",
   "metadata": {},
   "source": [
    "#### Histogramas\n",
    "\n",
    "Um **histograma** representa uma distribuição *discretizando* nossa variável: a variável é *cortada* para que possamos contar o número de observações em cada faixa:"
   ]
  },
  {
   "cell_type": "code",
   "execution_count": null,
   "id": "cardiac-stranger",
   "metadata": {
    "ExecuteTime": {
     "end_time": "2022-02-12T15:00:37.896511Z",
     "start_time": "2022-02-12T15:00:37.605257Z"
    }
   },
   "outputs": [],
   "source": [
    "sns.displot(data=tips, x=\"total_bill\")\n"
   ]
  },
  {
   "cell_type": "markdown",
   "id": "e326fb28",
   "metadata": {},
   "source": [
    "Podemos *misturar* elementos da `seaborn` com a `matplotlib`!"
   ]
  },
  {
   "cell_type": "code",
   "execution_count": null,
   "id": "293b0f36",
   "metadata": {},
   "outputs": [],
   "source": [
    "sns.displot(data=tips, x=\"total_bill\")\n",
    "plt.axvline(tips[\"total_bill\"].mean(), color=\"red\")\n",
    "plt.axvline(tips[\"total_bill\"].median(), color=\"green\")\n"
   ]
  },
  {
   "cell_type": "markdown",
   "id": "ef741980",
   "metadata": {},
   "source": [
    "Podemos utilizar a cor (argumento `hue = `) para visualizar a **distribuição condicional** de uma variável: por exemplo, a distribuição de `total_bill` por `smoker`:"
   ]
  },
  {
   "cell_type": "code",
   "execution_count": null,
   "id": "209b0528",
   "metadata": {
    "ExecuteTime": {
     "end_time": "2022-02-12T15:03:30.240423Z",
     "start_time": "2022-02-12T15:03:29.782649Z"
    }
   },
   "outputs": [],
   "source": [
    "sns.displot(data=tips, x=\"total_bill\", hue=\"smoker\")\n"
   ]
  },
  {
   "cell_type": "markdown",
   "id": "4b8319e4",
   "metadata": {},
   "source": [
    "O histograma acima tem um problema sério: **desbalanceamento de classes**. O número de fumantes é menor que o número de não-fumantes, dificultando qualquer comparação das duas distribuições.\n",
    "\n",
    "Podemos contornar esse problema utilizando dois argumentos: `stat = 'probability'` e `common_norm = False`."
   ]
  },
  {
   "cell_type": "code",
   "execution_count": null,
   "id": "ceramic-demand",
   "metadata": {
    "ExecuteTime": {
     "end_time": "2022-02-12T15:14:21.745510Z",
     "start_time": "2022-02-12T15:14:21.232266Z"
    }
   },
   "outputs": [],
   "source": [
    "sns.displot(\n",
    "    data=tips, x=\"total_bill\", hue=\"smoker\", stat=\"probability\", common_norm=False\n",
    ")\n"
   ]
  },
  {
   "cell_type": "markdown",
   "id": "17a5953e",
   "metadata": {},
   "source": [
    "Podemos utilizar o argumento `col = ` para adicionar mais variáveis condicionantes:"
   ]
  },
  {
   "cell_type": "code",
   "execution_count": null,
   "id": "d0bc2aa2",
   "metadata": {},
   "outputs": [],
   "source": [
    "sns.displot(\n",
    "    data=tips,\n",
    "    x=\"total_bill\",\n",
    "    col=\"day\",\n",
    "    col_wrap=2,\n",
    "    hue=\"smoker\",\n",
    "    stat=\"probability\",\n",
    "    common_norm=False,\n",
    ")\n"
   ]
  },
  {
   "cell_type": "markdown",
   "id": "03cb6daa",
   "metadata": {
    "ExecuteTime": {
     "end_time": "2022-02-12T12:11:24.419618Z",
     "start_time": "2022-02-12T12:11:24.409645Z"
    }
   },
   "source": [
    "##### EXERCICIO\n",
    "Crie um gráfico para investigar as distribuições condicionais do tamanho da gorjeta ao genêro do pagante e o tipo de refeição (almoço e janta)"
   ]
  },
  {
   "cell_type": "markdown",
   "id": "authorized-rainbow",
   "metadata": {},
   "source": [
    "#### Boxplots\n",
    "\n",
    "Conforme vimos acima, um histograma é uma ferramenta importante para visualizar e comparar distribuições. No entanto, fica muito dificíl realizar comparações entre distribuições conforme aumentamos o número de variáveis condicionantes.\n",
    "\n",
    "Quando precisamos resumir uma distribuição e realizar comparações mais diretamente podemos utilizar um **Boxplot**:"
   ]
  },
  {
   "cell_type": "code",
   "execution_count": null,
   "id": "destroyed-lafayette",
   "metadata": {
    "ExecuteTime": {
     "end_time": "2022-02-12T15:11:44.554709Z",
     "start_time": "2022-02-12T15:11:44.534753Z"
    }
   },
   "outputs": [],
   "source": [
    "tips.groupby(\"day\")[\"total_bill\"].describe()\n"
   ]
  },
  {
   "cell_type": "code",
   "execution_count": null,
   "id": "7a378391",
   "metadata": {},
   "outputs": [],
   "source": [
    "sns.catplot(data=tips, kind=\"box\", x=\"day\", y=\"total_bill\")\n"
   ]
  },
  {
   "cell_type": "markdown",
   "id": "019c8d8d",
   "metadata": {},
   "source": [
    "Um **boxplot** exibe uma distribuição a partir de algumas medidas robustas de localização:\n",
    "\n",
    "![title](images/boxplot-outliers.png)\n",
    "\n",
    "Ao resumir uma distribuição desta forma, conseguimos realizar comparações entre muitas variáveis condicionantes:"
   ]
  },
  {
   "cell_type": "code",
   "execution_count": null,
   "id": "golden-disposition",
   "metadata": {
    "ExecuteTime": {
     "end_time": "2022-02-12T15:17:48.821285Z",
     "start_time": "2022-02-12T15:17:48.391422Z"
    }
   },
   "outputs": [],
   "source": [
    "sns.catplot(data=tips, kind=\"box\", x=\"day\", y=\"total_bill\", hue=\"sex\")\n"
   ]
  },
  {
   "cell_type": "markdown",
   "id": "2649aa41",
   "metadata": {},
   "source": [
    "##### Combinando histogramas e boxplots\n",
    "\n",
    "Violin plots combinam boxplots e histogramas, fornecendo uma forma continua de visualizar a distribuição de uma variável de forma resumida:"
   ]
  },
  {
   "cell_type": "code",
   "execution_count": null,
   "id": "a2c3d255",
   "metadata": {
    "ExecuteTime": {
     "end_time": "2022-02-12T15:20:43.421149Z",
     "start_time": "2022-02-12T15:20:43.199139Z"
    }
   },
   "outputs": [],
   "source": [
    "sns.violinplot(\n",
    "    x=\"smoker\", y=\"total_bill\", hue=\"time\", data=tips, palette=\"muted\", split=True\n",
    ")\n"
   ]
  },
  {
   "cell_type": "markdown",
   "id": "1f530f7a",
   "metadata": {},
   "source": [
    "##### Combinando Scatterplots e Histogramas\n",
    "\n",
    "Podemos utilizar Joint Plots para combinar um scatterplot e dois histogramas, combinando em um único gráfico a visualização das distribuições de duas variáveis e a relação entre estas."
   ]
  },
  {
   "cell_type": "code",
   "execution_count": null,
   "id": "78323cda",
   "metadata": {},
   "outputs": [],
   "source": [
    "sns.jointplot(data=tips, x=\"total_bill\", y=\"tip\", hue=\"sex\")\n"
   ]
  },
  {
   "cell_type": "markdown",
   "id": "further-professional",
   "metadata": {},
   "source": [
    "### Mapas de Calor\n",
    "\n",
    "Mapas de calor nos permitem visualizar graficamente uma matriz. Para entender este conceito, vamos utilizar o conjunto de dados `flights`, contendo informações do número ed vôos nos EUA entre 1949 e 1960"
   ]
  },
  {
   "cell_type": "code",
   "execution_count": null,
   "id": "committed-dimension",
   "metadata": {
    "ExecuteTime": {
     "end_time": "2022-02-12T15:24:41.161261Z",
     "start_time": "2022-02-12T15:24:41.144306Z"
    }
   },
   "outputs": [],
   "source": [
    "flights_long = sns.load_dataset(\"flights\")\n",
    "flights_long.head()\n"
   ]
  },
  {
   "cell_type": "code",
   "execution_count": null,
   "id": "collective-latin",
   "metadata": {
    "ExecuteTime": {
     "end_time": "2022-02-12T15:25:15.329854Z",
     "start_time": "2022-02-12T15:25:15.312877Z"
    }
   },
   "outputs": [],
   "source": [
    "flights_long_pivot = flights_long.pivot(\n",
    "    index=\"month\", columns=\"year\", values=\"passengers\"\n",
    ")\n"
   ]
  },
  {
   "cell_type": "code",
   "execution_count": null,
   "id": "c699160c",
   "metadata": {
    "ExecuteTime": {
     "end_time": "2022-02-12T15:25:16.971348Z",
     "start_time": "2022-02-12T15:25:16.950405Z"
    }
   },
   "outputs": [],
   "source": [
    "flights_long_pivot\n"
   ]
  },
  {
   "cell_type": "code",
   "execution_count": null,
   "id": "13acc59c",
   "metadata": {},
   "outputs": [],
   "source": [
    "sns.heatmap(flights_long_pivot)\n"
   ]
  },
  {
   "cell_type": "markdown",
   "id": "82708a34",
   "metadata": {},
   "source": [
    "Vamos utilizar alguns elementos da `matplotlib` para *melhorar* esse gráfico:"
   ]
  },
  {
   "cell_type": "code",
   "execution_count": null,
   "id": "broke-welding",
   "metadata": {
    "ExecuteTime": {
     "end_time": "2022-02-12T15:29:09.244941Z",
     "start_time": "2022-02-12T15:29:08.871438Z"
    }
   },
   "outputs": [],
   "source": [
    "fig, ax = plt.subplots(figsize=(10, 7))\n",
    "\n",
    "sns.heatmap(flights_long_pivot)\n",
    "\n",
    "fig.suptitle(\n",
    "    \"Total de voos ao longo dos anos e meses\\n\\nObserve que com o passar dos anos esse número vem aumentando\\n especialmente nos meses de Junho e Julho\"\n",
    ")\n"
   ]
  },
  {
   "cell_type": "markdown",
   "id": "9a5a1903",
   "metadata": {},
   "source": [
    "Um uso comum dos mapas de calor é a visualização de uma matriz de correlação:"
   ]
  },
  {
   "cell_type": "code",
   "execution_count": null,
   "id": "ad9bd728",
   "metadata": {},
   "outputs": [],
   "source": [
    "tips.corr()\n"
   ]
  },
  {
   "cell_type": "code",
   "execution_count": null,
   "id": "003e6810",
   "metadata": {},
   "outputs": [],
   "source": [
    "sns.heatmap(tips.corr())\n"
   ]
  },
  {
   "cell_type": "markdown",
   "id": "28edbe3c",
   "metadata": {},
   "source": [
    "A matriz acima é simétrica: a parte acima da diagonal é igual a parte inferior da diagonal. Além disso, a diagonal em si é sempre igual à 1. Além disso sabemos que a correlação é um indicador entre -1 e 1 - vamos utilizar isso para fixar o range de cores que utilizamos.\n",
    "\n",
    "Vamos utilizar uma máscara para remover esses elementos redundantes."
   ]
  },
  {
   "cell_type": "code",
   "execution_count": null,
   "id": "c51aebe0",
   "metadata": {},
   "outputs": [],
   "source": [
    "corr = tips.corr()\n",
    "mask = np.triu(np.ones_like(corr, dtype=bool))\n"
   ]
  },
  {
   "cell_type": "code",
   "execution_count": null,
   "id": "65aabdfa",
   "metadata": {},
   "outputs": [],
   "source": [
    "~mask\n"
   ]
  },
  {
   "cell_type": "code",
   "execution_count": null,
   "id": "4a68f4a2",
   "metadata": {},
   "outputs": [],
   "source": [
    "sns.heatmap(tips.corr(), square=True, mask=mask, center=0, vmin=-1, vmax=1)\n",
    "plt.suptitle(\"Matriz de Correlação\")\n"
   ]
  },
  {
   "cell_type": "markdown",
   "id": "dea0dfd0",
   "metadata": {},
   "source": [
    "## Plotly\n",
    "\n",
    "As bibliotecas `matplotlib` e `seaborn` são excelentes para produzirmos gráficos estáticos - seja para explorar nossos dados seja para utilizar em uma apresentação. No entanto, se desejamos utilizar elementos interativos, como no Tableau, precisamos buscar outras soluções.\n",
    "\n",
    "Felizmente, hoje em dia temos a biblioteca `plotly`, que nos permite construir gráficos interativos de maneira razoavelmente simples através do sub-módulo `plotly.express`.\n",
    "\n",
    "[Biblioteca Plotly](https://plotly.com/python/)"
   ]
  },
  {
   "cell_type": "code",
   "execution_count": null,
   "id": "3d8f4d9e",
   "metadata": {},
   "outputs": [],
   "source": [
    "!pip install plotly"
   ]
  },
  {
   "cell_type": "code",
   "execution_count": null,
   "id": "1ba895ff",
   "metadata": {},
   "outputs": [],
   "source": [
    "import plotly.express as ply\n"
   ]
  },
  {
   "cell_type": "code",
   "execution_count": null,
   "id": "737572cd",
   "metadata": {},
   "outputs": [],
   "source": [
    "ply.scatter(data_frame=tips, x=\"total_bill\", y=\"tip\")\n"
   ]
  },
  {
   "cell_type": "markdown",
   "id": "0bec2c41",
   "metadata": {},
   "source": [
    "Podemos utilizar o argumento `hover_data = []` para adicionar informações na tooltip de cada ponto selecionado:"
   ]
  },
  {
   "cell_type": "code",
   "execution_count": null,
   "id": "dd9cac63",
   "metadata": {},
   "outputs": [],
   "source": [
    "ply.scatter(data_frame=tips,\n",
    "            x=\"total_bill\", y=\"tip\", \n",
    "            color=\"time\", \n",
    "            hover_data=[\"sex\", \"day\"])\n"
   ]
  }
 ],
 "metadata": {
  "hide_input": false,
  "kernelspec": {
   "display_name": "Python 3 (ipykernel)",
   "language": "python",
   "name": "python3"
  },
  "language_info": {
   "codemirror_mode": {
    "name": "ipython",
    "version": 3
   },
   "file_extension": ".py",
   "mimetype": "text/x-python",
   "name": "python",
   "nbconvert_exporter": "python",
   "pygments_lexer": "ipython3",
   "version": "3.9.11"
  },
  "toc": {
   "base_numbering": 1,
   "nav_menu": {},
   "number_sections": true,
   "sideBar": false,
   "skip_h1_title": false,
   "title_cell": "Table of Contents",
   "title_sidebar": "Contents",
   "toc_cell": true,
   "toc_position": {
    "height": "calc(100% - 180px)",
    "left": "10px",
    "top": "150px",
    "width": "212px"
   },
   "toc_section_display": false,
   "toc_window_display": false
  },
  "vscode": {
   "interpreter": {
    "hash": "014f4a4a5af8f0104b12c029e500f4146d6d785e8cf714d2a35b7a9514230cd3"
   }
  }
 },
 "nbformat": 4,
 "nbformat_minor": 5
}

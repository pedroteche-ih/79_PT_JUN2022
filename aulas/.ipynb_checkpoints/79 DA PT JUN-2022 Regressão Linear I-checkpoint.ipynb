{
 "cells": [
  {
   "cell_type": "markdown",
   "id": "fbbe8106",
   "metadata": {
    "toc": true
   },
   "source": [
    "<h1>Table of Contents<span class=\"tocSkip\"></span></h1>\n",
    "<div class=\"toc\"><ul class=\"toc-item\"><li><span><a href=\"#Regressão-Linear\" data-toc-modified-id=\"Regressão-Linear-1\"><span class=\"toc-item-num\">1&nbsp;&nbsp;</span>Regressão Linear</a></span><ul class=\"toc-item\"><li><span><a href=\"#Simulando-dados\" data-toc-modified-id=\"Simulando-dados-1.1\"><span class=\"toc-item-num\">1.1&nbsp;&nbsp;</span>Simulando dados</a></span><ul class=\"toc-item\"><li><span><a href=\"#Construindo-modelo\" data-toc-modified-id=\"Construindo-modelo-1.1.1\"><span class=\"toc-item-num\">1.1.1&nbsp;&nbsp;</span>Construindo modelo</a></span><ul class=\"toc-item\"><li><span><a href=\"#Com-statsmodels\" data-toc-modified-id=\"Com-statsmodels-1.1.1.1\"><span class=\"toc-item-num\">1.1.1.1&nbsp;&nbsp;</span>Com statsmodels</a></span></li><li><span><a href=\"#Com-SKLEARN\" data-toc-modified-id=\"Com-SKLEARN-1.1.1.2\"><span class=\"toc-item-num\">1.1.1.2&nbsp;&nbsp;</span>Com SKLEARN</a></span></li></ul></li><li><span><a href=\"#Fazendo-previsões-com-SKLEARN\" data-toc-modified-id=\"Fazendo-previsões-com-SKLEARN-1.1.2\"><span class=\"toc-item-num\">1.1.2&nbsp;&nbsp;</span>Fazendo previsões com SKLEARN</a></span></li></ul></li><li><span><a href=\"#Com-dados-reais\" data-toc-modified-id=\"Com-dados-reais-1.2\"><span class=\"toc-item-num\">1.2&nbsp;&nbsp;</span>Com dados reais</a></span><ul class=\"toc-item\"><li><span><a href=\"#Utilizando-StatsModels\" data-toc-modified-id=\"Utilizando-StatsModels-1.2.1\"><span class=\"toc-item-num\">1.2.1&nbsp;&nbsp;</span>Utilizando StatsModels</a></span></li><li><span><a href=\"#Utilizando-SKLEARN\" data-toc-modified-id=\"Utilizando-SKLEARN-1.2.2\"><span class=\"toc-item-num\">1.2.2&nbsp;&nbsp;</span>Utilizando SKLEARN</a></span></li><li><span><a href=\"#Avaliando-Erro\" data-toc-modified-id=\"Avaliando-Erro-1.2.3\"><span class=\"toc-item-num\">1.2.3&nbsp;&nbsp;</span>Avaliando Erro</a></span></li></ul></li></ul></li></ul></div>"
   ]
  },
  {
   "cell_type": "code",
   "execution_count": null,
   "id": "989059ea",
   "metadata": {
    "ExecuteTime": {
     "end_time": "2022-03-12T14:49:34.681944Z",
     "start_time": "2022-03-12T14:49:34.251078Z"
    }
   },
   "outputs": [],
   "source": [
    "import numpy as np\n",
    "import pandas as pd\n",
    "import seaborn as sns\n",
    "from matplotlib import pyplot as plt"
   ]
  },
  {
   "cell_type": "markdown",
   "id": "ba6d21e9",
   "metadata": {},
   "source": [
    "# Regressão Linear"
   ]
  },
  {
   "cell_type": "code",
   "execution_count": null,
   "id": "8f471b54",
   "metadata": {
    "ExecuteTime": {
     "end_time": "2022-03-12T14:49:34.248087Z",
     "start_time": "2022-03-12T14:49:31.391825Z"
    }
   },
   "outputs": [],
   "source": [
    "from sklearn.linear_model import LinearRegression\n",
    "import matplotlib.pyplot as plt\n",
    "import statsmodels.api as sm"
   ]
  },
  {
   "cell_type": "markdown",
   "id": "cebd1706",
   "metadata": {},
   "source": [
    "## Simulando dados"
   ]
  },
  {
   "cell_type": "code",
   "execution_count": null,
   "id": "92145547",
   "metadata": {
    "ExecuteTime": {
     "end_time": "2022-03-05T13:32:46.629704Z",
     "start_time": "2022-03-05T13:32:46.615741Z"
    }
   },
   "outputs": [],
   "source": [
    "def simular_dado(media_X, desvpad_X, \n",
    "                 desvpad_E, A, B, \n",
    "                 samples):\n",
    "    x = np.random.normal(loc = media_X, scale = desvpad_X, size = samples)\n",
    "    E = np.random.normal(loc = 0, scale = desvpad_E, size = samples)\n",
    "    y = B + A * x + E\n",
    "    return pd.DataFrame({'x' : x, 'y' : y})"
   ]
  },
  {
   "cell_type": "code",
   "execution_count": null,
   "id": "feee6a00",
   "metadata": {
    "ExecuteTime": {
     "end_time": "2022-03-05T13:33:12.945707Z",
     "start_time": "2022-03-05T13:33:12.925754Z"
    }
   },
   "outputs": [],
   "source": [
    "teste = simular_dado(media_X = 0, desvpad_X = 1, \n",
    "                     desvpad_E = 5, A = 10, B = 50, \n",
    "                     samples = 100)"
   ]
  },
  {
   "cell_type": "code",
   "execution_count": null,
   "id": "60bcb9e7",
   "metadata": {
    "ExecuteTime": {
     "end_time": "2022-03-05T13:33:14.804121Z",
     "start_time": "2022-03-05T13:33:13.710760Z"
    }
   },
   "outputs": [],
   "source": [
    "sns.pairplot(data = teste, diag_kind = 'kde', kind = 'reg',\n",
    "            height = 4)"
   ]
  },
  {
   "cell_type": "markdown",
   "id": "e869845d",
   "metadata": {},
   "source": [
    "### Construindo modelo"
   ]
  },
  {
   "cell_type": "markdown",
   "id": "84d60a60",
   "metadata": {},
   "source": [
    "#### Com statsmodels"
   ]
  },
  {
   "cell_type": "code",
   "execution_count": null,
   "id": "7020080f",
   "metadata": {
    "ExecuteTime": {
     "end_time": "2022-03-05T13:46:21.730043Z",
     "start_time": "2022-03-05T13:46:21.711091Z"
    }
   },
   "outputs": [],
   "source": [
    "teste = simular_dado(media_X = 0, desvpad_X = 1, \n",
    "                     desvpad_E = 0.1, A = 2, B = 10, \n",
    "                     samples = 100)"
   ]
  },
  {
   "cell_type": "code",
   "execution_count": null,
   "id": "cff69cfb",
   "metadata": {
    "ExecuteTime": {
     "end_time": "2022-03-05T13:46:29.556504Z",
     "start_time": "2022-03-05T13:46:28.539692Z"
    }
   },
   "outputs": [],
   "source": [
    "sns.pairplot(data = teste, diag_kind = 'kde', kind = 'reg',\n",
    "            height = 4)"
   ]
  },
  {
   "cell_type": "code",
   "execution_count": null,
   "id": "3aa06877",
   "metadata": {
    "ExecuteTime": {
     "end_time": "2022-03-05T13:46:40.535104Z",
     "start_time": "2022-03-05T13:46:40.524135Z"
    }
   },
   "outputs": [],
   "source": [
    "X = sm.add_constant(teste['x'])\n",
    "y = teste['y']"
   ]
  },
  {
   "cell_type": "code",
   "execution_count": null,
   "id": "80685b13",
   "metadata": {
    "ExecuteTime": {
     "end_time": "2022-03-05T13:46:44.454910Z",
     "start_time": "2022-03-05T13:46:44.435938Z"
    }
   },
   "outputs": [],
   "source": [
    "modelo = sm.OLS(y, X)\n",
    "lm_fit = modelo.fit()"
   ]
  },
  {
   "cell_type": "code",
   "execution_count": null,
   "id": "a5a0817d",
   "metadata": {
    "ExecuteTime": {
     "end_time": "2022-03-05T13:46:49.308123Z",
     "start_time": "2022-03-05T13:46:49.280198Z"
    },
    "scrolled": false
   },
   "outputs": [],
   "source": [
    "lm_fit.summary()"
   ]
  },
  {
   "cell_type": "code",
   "execution_count": null,
   "id": "20ef1ff3",
   "metadata": {
    "ExecuteTime": {
     "end_time": "2022-03-05T13:48:28.615681Z",
     "start_time": "2022-03-05T13:48:28.603712Z"
    }
   },
   "outputs": [],
   "source": [
    "def estimar_lm(data):\n",
    "    X = sm.add_constant(data['x'])\n",
    "    y = data['y']\n",
    "    modelo = sm.OLS(y, X)\n",
    "    lm_fit = modelo.fit()\n",
    "    return lm_fit"
   ]
  },
  {
   "cell_type": "code",
   "execution_count": null,
   "id": "f40a755c",
   "metadata": {
    "ExecuteTime": {
     "end_time": "2022-03-05T13:59:26.088964Z",
     "start_time": "2022-03-05T13:59:25.017299Z"
    }
   },
   "outputs": [],
   "source": [
    "teste_1 = simular_dado(media_X=0,\n",
    "                       desvpad_X=1,\n",
    "                       desvpad_E=10,\n",
    "                       A=1,\n",
    "                       B=0,\n",
    "                       samples=100)\n",
    "\n",
    "teste1_fit = estimar_lm(teste_1)\n",
    "sns.pairplot(data = teste_1, diag_kind = 'kde', kind = 'reg',\n",
    "            height = 4)\n",
    "teste1_fit.summary()"
   ]
  },
  {
   "cell_type": "markdown",
   "id": "7f909241",
   "metadata": {},
   "source": [
    "#### Com SKLEARN"
   ]
  },
  {
   "cell_type": "code",
   "execution_count": null,
   "id": "d90f090b",
   "metadata": {
    "ExecuteTime": {
     "end_time": "2022-03-05T14:21:34.144583Z",
     "start_time": "2022-03-05T14:21:34.140593Z"
    }
   },
   "outputs": [],
   "source": [
    "from sklearn.linear_model import LinearRegression"
   ]
  },
  {
   "cell_type": "code",
   "execution_count": null,
   "id": "307785af",
   "metadata": {
    "ExecuteTime": {
     "end_time": "2022-03-05T14:22:54.848345Z",
     "start_time": "2022-03-05T14:22:54.839371Z"
    }
   },
   "outputs": [],
   "source": [
    "modelo = LinearRegression()"
   ]
  },
  {
   "cell_type": "code",
   "execution_count": null,
   "id": "d959b6a8",
   "metadata": {
    "ExecuteTime": {
     "end_time": "2022-03-05T14:23:30.833033Z",
     "start_time": "2022-03-05T14:23:30.822060Z"
    }
   },
   "outputs": [],
   "source": [
    "X = teste_1[['x']]\n",
    "y = teste_1['y']\n",
    "modelo.fit(X, y)"
   ]
  },
  {
   "cell_type": "code",
   "execution_count": null,
   "id": "e5a40ee9",
   "metadata": {
    "ExecuteTime": {
     "end_time": "2022-03-05T14:24:52.432759Z",
     "start_time": "2022-03-05T14:24:52.416774Z"
    }
   },
   "outputs": [],
   "source": [
    "print(modelo.coef_[0])\n",
    "print(modelo.intercept_)"
   ]
  },
  {
   "cell_type": "markdown",
   "id": "579839fc",
   "metadata": {},
   "source": [
    "### Fazendo previsões com SKLEARN"
   ]
  },
  {
   "cell_type": "code",
   "execution_count": null,
   "id": "6c2c17b8",
   "metadata": {
    "ExecuteTime": {
     "end_time": "2022-03-05T14:25:36.024034Z",
     "start_time": "2022-03-05T14:25:36.016054Z"
    }
   },
   "outputs": [],
   "source": [
    "teste_1['pred'] = modelo.predict(X)"
   ]
  },
  {
   "cell_type": "code",
   "execution_count": null,
   "id": "b3022a46",
   "metadata": {
    "ExecuteTime": {
     "end_time": "2022-03-05T14:25:38.225067Z",
     "start_time": "2022-03-05T14:25:38.210097Z"
    }
   },
   "outputs": [],
   "source": [
    "teste_1"
   ]
  },
  {
   "cell_type": "code",
   "execution_count": null,
   "id": "aef641b1",
   "metadata": {
    "ExecuteTime": {
     "end_time": "2022-03-05T14:25:41.257213Z",
     "start_time": "2022-03-05T14:25:41.078666Z"
    }
   },
   "outputs": [],
   "source": [
    "sns.scatterplot(data=teste_1, x = 'x', y = 'y')\n",
    "sns.lineplot(data=teste_1, x = 'x', y = 'pred', color = 'red')"
   ]
  },
  {
   "cell_type": "markdown",
   "id": "bd932fb0",
   "metadata": {},
   "source": [
    "## Com dados reais\n",
    "\n",
    "### Utilizando StatsModels"
   ]
  },
  {
   "cell_type": "code",
   "execution_count": null,
   "id": "8def4073",
   "metadata": {},
   "outputs": [],
   "source": [
    "tb_olist = pd.read_csv('data/tb_diaria_olist.csv')\n",
    "tb_olist.describe()"
   ]
  },
  {
   "cell_type": "code",
   "execution_count": null,
   "id": "02cfbff3",
   "metadata": {},
   "outputs": [],
   "source": [
    "sns.scatterplot(data = tb_olist, x = 'per_atraso', y = 'avg_review')"
   ]
  },
  {
   "cell_type": "code",
   "execution_count": null,
   "id": "a4da580f",
   "metadata": {},
   "outputs": [],
   "source": [
    "X = sm.add_constant(tb_olist['per_atraso'] * 100)\n",
    "y = tb_olist['avg_review']\n",
    "modelo = sm.OLS(y, X)\n",
    "lm_fit = modelo.fit()\n",
    "lm_fit.summary()"
   ]
  },
  {
   "cell_type": "markdown",
   "id": "66d58161",
   "metadata": {},
   "source": [
    "### Utilizando SKLEARN"
   ]
  },
  {
   "cell_type": "code",
   "execution_count": null,
   "id": "4ad8c24f",
   "metadata": {},
   "outputs": [],
   "source": [
    "lm_fit = LinearRegression()\n",
    "X = tb_olist[['per_atraso']]\n",
    "y = tb_olist['avg_review']\n",
    "lm_fit.fit(X, y)"
   ]
  },
  {
   "cell_type": "code",
   "execution_count": null,
   "id": "3629de66",
   "metadata": {},
   "outputs": [],
   "source": [
    "lm_fit.coef_"
   ]
  },
  {
   "cell_type": "code",
   "execution_count": null,
   "id": "a66e9a46",
   "metadata": {},
   "outputs": [],
   "source": [
    "lm_fit.predict([[0.5]])"
   ]
  },
  {
   "cell_type": "markdown",
   "id": "b176f284",
   "metadata": {},
   "source": [
    "### Avaliando Erro"
   ]
  },
  {
   "cell_type": "code",
   "execution_count": null,
   "id": "91c06d07",
   "metadata": {},
   "outputs": [],
   "source": [
    "from sklearn.model_selection import train_test_split"
   ]
  },
  {
   "cell_type": "code",
   "execution_count": null,
   "id": "5ac9e12a",
   "metadata": {},
   "outputs": [],
   "source": [
    "X_train, X_test, y_train, y_test = train_test_split(X, y)"
   ]
  },
  {
   "cell_type": "code",
   "execution_count": null,
   "id": "ffd74ba6",
   "metadata": {},
   "outputs": [],
   "source": [
    "lm_fit = LinearRegression()\n",
    "lm_fit.fit(X_train, y_train)"
   ]
  },
  {
   "cell_type": "code",
   "execution_count": null,
   "id": "254a077f",
   "metadata": {},
   "outputs": [],
   "source": [
    "X_test['pred_avg_score'] = lm_fit.predict(X_test)\n",
    "X_test['real_avg_score'] = y_test\n",
    "X_test['erro2'] = (X_test['real_avg_score'] - X_test['pred_avg_score'])**2"
   ]
  },
  {
   "cell_type": "code",
   "execution_count": null,
   "id": "83104dd8",
   "metadata": {},
   "outputs": [],
   "source": [
    "np.sqrt(X_test['erro2'].mean())"
   ]
  },
  {
   "cell_type": "code",
   "execution_count": null,
   "id": "28816ddd",
   "metadata": {},
   "outputs": [],
   "source": []
  }
 ],
 "metadata": {
  "hide_input": false,
  "kernelspec": {
   "display_name": "Python 3 (ipykernel)",
   "language": "python",
   "name": "python3"
  },
  "language_info": {
   "codemirror_mode": {
    "name": "ipython",
    "version": 3
   },
   "file_extension": ".py",
   "mimetype": "text/x-python",
   "name": "python",
   "nbconvert_exporter": "python",
   "pygments_lexer": "ipython3",
   "version": "3.9.11"
  },
  "toc": {
   "base_numbering": 1,
   "nav_menu": {},
   "number_sections": true,
   "sideBar": true,
   "skip_h1_title": false,
   "title_cell": "Table of Contents",
   "title_sidebar": "Contents",
   "toc_cell": true,
   "toc_position": {
    "height": "calc(100% - 180px)",
    "left": "10px",
    "top": "150px",
    "width": "307.198px"
   },
   "toc_section_display": true,
   "toc_window_display": true
  },
  "vscode": {
   "interpreter": {
    "hash": "014f4a4a5af8f0104b12c029e500f4146d6d785e8cf714d2a35b7a9514230cd3"
   }
  }
 },
 "nbformat": 4,
 "nbformat_minor": 5
}

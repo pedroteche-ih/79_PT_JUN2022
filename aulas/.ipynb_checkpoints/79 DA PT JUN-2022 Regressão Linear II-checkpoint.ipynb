{
 "cells": [
  {
   "cell_type": "markdown",
   "id": "fbbe8106",
   "metadata": {
    "toc": true
   },
   "source": [
    "<h1>Table of Contents<span class=\"tocSkip\"></span></h1>\n",
    "<div class=\"toc\"><ul class=\"toc-item\"><li><span><a href=\"#Regressão-Linear-Múltipla\" data-toc-modified-id=\"Regressão-Linear-Múltipla-1\"><span class=\"toc-item-num\">1&nbsp;&nbsp;</span>Regressão Linear Múltipla</a></span><ul class=\"toc-item\"><li><span><a href=\"#Simulando-Dados\" data-toc-modified-id=\"Simulando-Dados-1.1\"><span class=\"toc-item-num\">1.1&nbsp;&nbsp;</span>Simulando Dados</a></span><ul class=\"toc-item\"><li><span><a href=\"#Duas-variáveis-continuas\" data-toc-modified-id=\"Duas-variáveis-continuas-1.1.1\"><span class=\"toc-item-num\">1.1.1&nbsp;&nbsp;</span>Duas variáveis continuas</a></span></li><li><span><a href=\"#Simulando-Variáveis-Categóricas\" data-toc-modified-id=\"Simulando-Variáveis-Categóricas-1.1.2\"><span class=\"toc-item-num\">1.1.2&nbsp;&nbsp;</span>Simulando Variáveis Categóricas</a></span><ul class=\"toc-item\"><li><span><a href=\"#Convertendo-variáveis-categóricas-em-variáveis-dummy\" data-toc-modified-id=\"Convertendo-variáveis-categóricas-em-variáveis-dummy-1.1.2.1\"><span class=\"toc-item-num\">1.1.2.1&nbsp;&nbsp;</span>Convertendo variáveis categóricas em variáveis dummy</a></span></li></ul></li></ul></li><li><span><a href=\"#Dados-Reais\" data-toc-modified-id=\"Dados-Reais-1.2\"><span class=\"toc-item-num\">1.2&nbsp;&nbsp;</span>Dados Reais</a></span></li><li><span><a href=\"#Exploração-de-Dados\" data-toc-modified-id=\"Exploração-de-Dados-1.3\"><span class=\"toc-item-num\">1.3&nbsp;&nbsp;</span>Exploração de Dados</a></span></li><li><span><a href=\"#Criando-nossa-regressão\" data-toc-modified-id=\"Criando-nossa-regressão-1.4\"><span class=\"toc-item-num\">1.4&nbsp;&nbsp;</span>Criando nossa regressão</a></span></li></ul></li></ul></div>"
   ]
  },
  {
   "cell_type": "code",
   "execution_count": null,
   "id": "989059ea",
   "metadata": {
    "ExecuteTime": {
     "end_time": "2022-03-08T22:45:32.013683Z",
     "start_time": "2022-03-08T22:45:29.302906Z"
    }
   },
   "outputs": [],
   "source": [
    "import random\n",
    "import numpy as np\n",
    "import seaborn as sns\n",
    "import pandas as pd\n",
    "from matplotlib import pyplot as plt\n",
    "\n",
    "from sklearn.linear_model import LinearRegression\n",
    "import matplotlib.pyplot as plt\n",
    "import statsmodels.api as sm"
   ]
  },
  {
   "cell_type": "markdown",
   "id": "06cf8bff",
   "metadata": {},
   "source": [
    "# Regressão Linear Múltipla"
   ]
  },
  {
   "cell_type": "markdown",
   "id": "5034a83d",
   "metadata": {},
   "source": [
    "## Simulando Dados\n",
    "\n",
    "Começaremos vendo como a entrada de múltiplas variáveis em uma regressão linear funciona a partir de conjuntos de dados sintéticos.\n",
    "\n",
    "### Duas variáveis continuas"
   ]
  },
  {
   "cell_type": "code",
   "execution_count": null,
   "id": "391eb054",
   "metadata": {
    "ExecuteTime": {
     "end_time": "2022-03-05T15:44:28.915425Z",
     "start_time": "2022-03-05T15:44:28.908442Z"
    }
   },
   "outputs": [],
   "source": [
    "def simular_dado_mv(parametros_x1, parametros_x2, desvpad_E, samples):\n",
    "    x1 = np.random.normal(loc=parametros_x1[0],\n",
    "                          scale=parametros_x1[1],\n",
    "                          size=samples)\n",
    "    x2 = np.random.normal(loc=parametros_x2[0],\n",
    "                          scale=parametros_x2[1],\n",
    "                          size=samples)\n",
    "    E = np.random.normal(loc=0, scale=desvpad_E, size=samples)\n",
    "    y = parametros_x1[2] * x1 + parametros_x2[2] * x2 + E\n",
    "    return pd.DataFrame({'x1': x1, 'x2': x2, 'y': y})"
   ]
  },
  {
   "cell_type": "code",
   "execution_count": null,
   "id": "478992d5",
   "metadata": {
    "ExecuteTime": {
     "end_time": "2022-03-05T15:44:29.315621Z",
     "start_time": "2022-03-05T15:44:29.287697Z"
    }
   },
   "outputs": [],
   "source": [
    "simular_dado_mv((2, 5, 10), (10, 8, 5), 12, 100)"
   ]
  },
  {
   "cell_type": "markdown",
   "id": "d2e23855",
   "metadata": {},
   "source": [
    "Podemos criar um DataFrame com nossos dados simulados para utilizarmos nossas ferramentas de EDA buscando visualizar a relação entre X1, X2 e Y"
   ]
  },
  {
   "cell_type": "code",
   "execution_count": null,
   "id": "cf336ed6",
   "metadata": {
    "ExecuteTime": {
     "end_time": "2022-03-05T15:44:31.111104Z",
     "start_time": "2022-03-05T15:44:29.632488Z"
    }
   },
   "outputs": [],
   "source": [
    "teste_mv = simular_dado_mv((0, 1, 10), (0, 1, 5), 2, 100)\n",
    "sns.pairplot(teste_mv)"
   ]
  },
  {
   "cell_type": "markdown",
   "id": "6b04fa26",
   "metadata": {},
   "source": [
    "Agora, vamos utilizar nossa regressão para estimar os coeficientes associados à X1 e X2"
   ]
  },
  {
   "cell_type": "code",
   "execution_count": null,
   "id": "3200ab9e",
   "metadata": {
    "ExecuteTime": {
     "end_time": "2022-03-05T15:44:33.185559Z",
     "start_time": "2022-03-05T15:44:33.165615Z"
    }
   },
   "outputs": [],
   "source": [
    "X = sm.add_constant(teste_mv[['x1', 'x2']])\n",
    "Y = teste_mv['y']\n",
    "modelo = sm.OLS(Y, X)\n",
    "lm_fit = modelo.fit()\n",
    "lm_fit.summary()"
   ]
  },
  {
   "cell_type": "markdown",
   "id": "06206701",
   "metadata": {},
   "source": [
    "Podemos utilizar a biblioteca `sklearn` para conseguir a interface preditiva desta biblioteca:"
   ]
  },
  {
   "cell_type": "code",
   "execution_count": null,
   "id": "c692186b",
   "metadata": {
    "ExecuteTime": {
     "end_time": "2022-03-05T15:44:37.134402Z",
     "start_time": "2022-03-05T15:44:37.125425Z"
    }
   },
   "outputs": [],
   "source": [
    "modelo = LinearRegression()\n",
    "X = teste_mv[['x1', 'x2']]\n",
    "Y = teste_mv['y']\n",
    "modelo.fit(X, Y)\n",
    "print(modelo.coef_)\n",
    "print(modelo.intercept_)"
   ]
  },
  {
   "cell_type": "code",
   "execution_count": null,
   "id": "cbfbd854",
   "metadata": {
    "ExecuteTime": {
     "end_time": "2022-03-05T15:44:37.610161Z",
     "start_time": "2022-03-05T15:44:37.601184Z"
    }
   },
   "outputs": [],
   "source": [
    "teste_mv['pred'] = modelo.predict(teste_mv[['x1', 'x2']])"
   ]
  },
  {
   "cell_type": "markdown",
   "id": "977cd2ab",
   "metadata": {},
   "source": [
    "Agora, vamos comparar as relações de nossa variável resposta e variável prevista contra X1 e X2:"
   ]
  },
  {
   "cell_type": "code",
   "execution_count": null,
   "id": "e8f8b184",
   "metadata": {
    "ExecuteTime": {
     "end_time": "2022-03-05T15:44:40.418047Z",
     "start_time": "2022-03-05T15:44:38.018445Z"
    }
   },
   "outputs": [],
   "source": [
    "sns.pairplot(teste_mv)"
   ]
  },
  {
   "cell_type": "markdown",
   "id": "3f1215a6",
   "metadata": {},
   "source": [
    "### Simulando Variáveis Categóricas\n",
    "\n",
    "Muitas variáveis que encontramos são **categóricas**, ou seja, não são numéricas. Vamos simular uma variável categórica com impacto linear sobre nossa variável Y:"
   ]
  },
  {
   "cell_type": "code",
   "execution_count": null,
   "id": "844e78bb",
   "metadata": {
    "ExecuteTime": {
     "end_time": "2022-03-05T12:32:29.702211Z",
     "start_time": "2022-03-05T12:32:29.684283Z"
    }
   },
   "outputs": [],
   "source": [
    "def simular_dado_mv_cat(parametros_x1, categorias_dict, desvpad_E, samples):\n",
    "    x1 = np.random.normal(loc=parametros_x1[0],\n",
    "                          scale=parametros_x1[1],\n",
    "                          size=samples)\n",
    "    cat = random.choices(list(categorias_dict.keys()), k = samples)\n",
    "    eff_cat = list(map(lambda x: categorias_dict[x], cat))\n",
    "    E = np.random.normal(loc=0, scale=desvpad_E, size=samples)\n",
    "    y = parametros_x1[2] * x1 + eff_cat + E\n",
    "    return pd.DataFrame({'x1': x1, 'categoria': cat, 'y': y})"
   ]
  },
  {
   "cell_type": "code",
   "execution_count": null,
   "id": "51be0274",
   "metadata": {
    "ExecuteTime": {
     "end_time": "2022-03-05T12:34:00.098487Z",
     "start_time": "2022-03-05T12:34:00.086519Z"
    }
   },
   "outputs": [],
   "source": [
    "teste_mv_cat = simular_dado_mv_cat((0, 1, 5), {'A' : 1, 'B' : 5, 'C' : 10}, 1, 100)"
   ]
  },
  {
   "cell_type": "markdown",
   "id": "0b224ddf",
   "metadata": {},
   "source": [
    "Podemos utilizar um BoxPlot para visualizar a relação entre nossa variável categórica e nossa variável resposta:"
   ]
  },
  {
   "cell_type": "code",
   "execution_count": null,
   "id": "05a0d16f",
   "metadata": {
    "ExecuteTime": {
     "end_time": "2022-03-05T12:34:33.711263Z",
     "start_time": "2022-03-05T12:34:33.571602Z"
    }
   },
   "outputs": [],
   "source": [
    "sns.boxplot(data = teste_mv_cat, x = 'categoria', y = 'y');"
   ]
  },
  {
   "cell_type": "markdown",
   "id": "a2100a8d",
   "metadata": {},
   "source": [
    "ou então alterar a cor dos pontos em um scatterplot, visualizando múltiplas relações ao mesmo tempo:"
   ]
  },
  {
   "cell_type": "code",
   "execution_count": null,
   "id": "5e71001b",
   "metadata": {
    "ExecuteTime": {
     "end_time": "2022-03-05T12:44:03.751443Z",
     "start_time": "2022-03-05T12:44:03.523053Z"
    }
   },
   "outputs": [],
   "source": [
    "sns.scatterplot(data = teste_mv_cat, x = 'x1', y = 'y', hue = 'categoria');"
   ]
  },
  {
   "cell_type": "markdown",
   "id": "b76a702a",
   "metadata": {},
   "source": [
    "#### Convertendo variáveis categóricas em variáveis dummy\n",
    "\n",
    "Para utilizarmos variáveis categóricas em um modelo, precisamos transforma-las em variáveis **numéricas**. A forma mais simples de fazê-lo é através de **variáveis dummies**: vamos criar **uma variável binaria nova para cada nível de nossa variável categórica**. Em cada variável, esta terá valor 1 quando a observação for daquela categoria e 0 caso não.\n",
    "\n",
    "Podemos utilizar a função `get_dummies()` para construir as variáveis dummies associadas à uma variável categórica."
   ]
  },
  {
   "cell_type": "code",
   "execution_count": null,
   "id": "bd50e9b2",
   "metadata": {},
   "outputs": [],
   "source": [
    "pd.get_dummies(teste_mv_cat['categoria'])"
   ]
  },
  {
   "cell_type": "code",
   "execution_count": null,
   "id": "a398376a",
   "metadata": {},
   "outputs": [],
   "source": [
    "teste_mv_cat.join(pd.get_dummies(teste_mv_cat['categoria']))"
   ]
  },
  {
   "cell_type": "code",
   "execution_count": null,
   "id": "44ff235e",
   "metadata": {
    "ExecuteTime": {
     "end_time": "2022-03-05T12:40:20.423065Z",
     "start_time": "2022-03-05T12:40:20.410110Z"
    }
   },
   "outputs": [],
   "source": [
    "teste_mv_cat = teste_mv_cat.join(pd.get_dummies(teste_mv_cat['categoria']))"
   ]
  },
  {
   "cell_type": "code",
   "execution_count": null,
   "id": "091518d4",
   "metadata": {
    "ExecuteTime": {
     "end_time": "2022-03-05T12:41:29.007269Z",
     "start_time": "2022-03-05T12:41:28.980332Z"
    }
   },
   "outputs": [],
   "source": [
    "X = sm.add_constant(teste_mv_cat[['x1', 'A' , 'B', 'C']])\n",
    "Y = teste_mv_cat['y']\n",
    "modelo = sm.OLS(Y, X)\n",
    "lm_fit = modelo.fit()\n",
    "lm_fit.summary()"
   ]
  },
  {
   "cell_type": "markdown",
   "id": "e7cac792",
   "metadata": {},
   "source": [
    "A nota 2 do resultado da StatsModels nos diz que temos um problema: nossos dados tem colinearidades! As variáveis dummy **A**, **B** e **C** não são **independentes** - tendo 2 podemos calcular a última.\n",
    "\n",
    "Neste caso, o problema pode ser resolvido removendo um dos níveis da variável categórica:"
   ]
  },
  {
   "cell_type": "code",
   "execution_count": null,
   "id": "5ac74e46",
   "metadata": {
    "ExecuteTime": {
     "end_time": "2022-03-05T12:41:55.713480Z",
     "start_time": "2022-03-05T12:41:55.689522Z"
    }
   },
   "outputs": [],
   "source": [
    "X = sm.add_constant(teste_mv_cat[['x1', 'B', 'C']])\n",
    "Y = teste_mv_cat['y']\n",
    "modelo = sm.OLS(Y, X)\n",
    "lm_fit = modelo.fit()\n",
    "lm_fit.summary()"
   ]
  },
  {
   "cell_type": "markdown",
   "id": "0af1616d",
   "metadata": {},
   "source": [
    "Como podemos interpretar o modelo acima a luz da exclusão da variável dummy de A?"
   ]
  },
  {
   "cell_type": "markdown",
   "id": "cafaab75",
   "metadata": {},
   "source": [
    "## Dados Reais\n",
    "\n",
    "Vamos utilizar um conjunto de dados com valores de seguro cobrado por operadoras americanas. O objetivo deste dataset é ser uma introdução à regressão múltipla.\n"
   ]
  },
  {
   "cell_type": "code",
   "execution_count": null,
   "id": "a569b260",
   "metadata": {
    "ExecuteTime": {
     "end_time": "2022-03-08T22:45:39.872402Z",
     "start_time": "2022-03-08T22:45:39.851456Z"
    }
   },
   "outputs": [],
   "source": [
    "tb_insu = pd.read_csv('data/tb_insurance.csv')"
   ]
  },
  {
   "cell_type": "code",
   "execution_count": null,
   "id": "e1eac42b",
   "metadata": {
    "ExecuteTime": {
     "end_time": "2022-03-08T22:45:41.914533Z",
     "start_time": "2022-03-08T22:45:41.900569Z"
    }
   },
   "outputs": [],
   "source": [
    "tb_insu.info()"
   ]
  },
  {
   "cell_type": "markdown",
   "id": "81a647d7",
   "metadata": {},
   "source": [
    "## Exploração de Dados"
   ]
  },
  {
   "cell_type": "code",
   "execution_count": null,
   "id": "ab572263",
   "metadata": {
    "ExecuteTime": {
     "end_time": "2022-03-08T22:48:07.864852Z",
     "start_time": "2022-03-08T22:48:05.407325Z"
    }
   },
   "outputs": [],
   "source": [
    "sns.pairplot(tb_insu.select_dtypes(include = 'number'))"
   ]
  },
  {
   "cell_type": "code",
   "execution_count": null,
   "id": "1052bde2",
   "metadata": {
    "ExecuteTime": {
     "end_time": "2022-03-08T22:52:27.990745Z",
     "start_time": "2022-03-08T22:52:27.567522Z"
    }
   },
   "outputs": [],
   "source": [
    "fig, ax = plt.subplots(1,3, figsize = (12,4))\n",
    "sns.boxplot(data = tb_insu, x = 'sex', y = 'expenses', ax=ax[0])\n",
    "sns.boxplot(data = tb_insu, x = 'smoker', y = 'expenses', ax=ax[1])\n",
    "sns.boxplot(data = tb_insu, x = 'region', y = 'expenses', ax=ax[2])"
   ]
  },
  {
   "cell_type": "code",
   "execution_count": null,
   "id": "5dbc4ded",
   "metadata": {
    "ExecuteTime": {
     "end_time": "2022-03-08T23:30:00.747585Z",
     "start_time": "2022-03-08T23:30:00.535153Z"
    }
   },
   "outputs": [],
   "source": [
    "sns.scatterplot(data = tb_insu, x = 'bmi', y = 'expenses', color = 'smoker')"
   ]
  },
  {
   "cell_type": "code",
   "execution_count": null,
   "id": "4e92bc8a",
   "metadata": {
    "ExecuteTime": {
     "end_time": "2022-03-08T23:07:54.074444Z",
     "start_time": "2022-03-08T23:07:53.920517Z"
    }
   },
   "outputs": [],
   "source": [
    "sns.scatterplot(data = tb_insu[tb_insu['smoker']=='yes'], x = 'bmi', y = 'expenses')"
   ]
  },
  {
   "cell_type": "code",
   "execution_count": null,
   "id": "d1ed6496",
   "metadata": {
    "ExecuteTime": {
     "end_time": "2022-03-08T23:10:21.575464Z",
     "start_time": "2022-03-08T23:10:21.381959Z"
    }
   },
   "outputs": [],
   "source": [
    "sns.scatterplot(data = tb_insu[tb_insu['smoker']=='no'], x = 'bmi', y = 'expenses')"
   ]
  },
  {
   "cell_type": "code",
   "execution_count": null,
   "id": "f126e943",
   "metadata": {
    "ExecuteTime": {
     "end_time": "2022-03-08T23:08:57.195957Z",
     "start_time": "2022-03-08T23:08:57.179972Z"
    }
   },
   "outputs": [],
   "source": [
    "min(tb_insu[(tb_insu['smoker']=='yes') & (tb_insu['expenses']>45000)]['bmi'])"
   ]
  },
  {
   "cell_type": "code",
   "execution_count": null,
   "id": "fc660228",
   "metadata": {
    "ExecuteTime": {
     "end_time": "2022-03-08T23:10:04.125712Z",
     "start_time": "2022-03-08T23:10:04.119729Z"
    }
   },
   "outputs": [],
   "source": [
    "tb_insu['obese'] = np.where(tb_insu['bmi'] >= 30, 'yes', 'no')"
   ]
  },
  {
   "cell_type": "code",
   "execution_count": null,
   "id": "45f9e171",
   "metadata": {
    "ExecuteTime": {
     "end_time": "2022-03-08T23:14:39.569813Z",
     "start_time": "2022-03-08T23:14:39.549866Z"
    }
   },
   "outputs": [],
   "source": [
    "tb_insu['children']"
   ]
  },
  {
   "cell_type": "code",
   "execution_count": null,
   "id": "99669522",
   "metadata": {
    "ExecuteTime": {
     "end_time": "2022-03-08T23:16:50.337540Z",
     "start_time": "2022-03-08T23:16:50.328552Z"
    }
   },
   "outputs": [],
   "source": [
    "tb_insu = tb_insu.join(pd.get_dummies(tb_insu['obese'], prefix = 'obese'))\n",
    "tb_insu = tb_insu.join(pd.get_dummies(tb_insu['smoker'], prefix = 'smoker'))"
   ]
  },
  {
   "cell_type": "code",
   "execution_count": null,
   "id": "515bc706",
   "metadata": {
    "ExecuteTime": {
     "end_time": "2022-03-08T23:16:51.279604Z",
     "start_time": "2022-03-08T23:16:51.251679Z"
    }
   },
   "outputs": [],
   "source": [
    "tb_insu"
   ]
  },
  {
   "cell_type": "code",
   "execution_count": null,
   "id": "72c47709",
   "metadata": {
    "ExecuteTime": {
     "end_time": "2022-03-08T23:30:58.060002Z",
     "start_time": "2022-03-08T23:30:58.054016Z"
    }
   },
   "outputs": [],
   "source": [
    "tb_insu['obese_smoker'] = tb_insu['obese_yes'] * tb_insu['smoker_yes']"
   ]
  },
  {
   "cell_type": "code",
   "execution_count": null,
   "id": "f5b15436",
   "metadata": {
    "ExecuteTime": {
     "end_time": "2022-03-08T23:32:13.742906Z",
     "start_time": "2022-03-08T23:32:13.711988Z"
    }
   },
   "outputs": [],
   "source": [
    "sm.add_constant(tb_insu[['obese_smoker', 'age', 'smoker_yes']])"
   ]
  },
  {
   "cell_type": "markdown",
   "id": "0e210ccc",
   "metadata": {},
   "source": [
    "## Criando nossa regressão\n",
    "\n",
    "Vamos utilizar as variáveis que criamos em nosso dataset para construir uma regressão linear para os valores dos seguros."
   ]
  },
  {
   "cell_type": "code",
   "execution_count": null,
   "id": "fa64faa0",
   "metadata": {
    "ExecuteTime": {
     "end_time": "2022-03-08T23:30:58.417850Z",
     "start_time": "2022-03-08T23:30:58.376432Z"
    }
   },
   "outputs": [],
   "source": [
    "X = sm.add_constant(tb_insu[['obese_smoker', 'age', 'smoker_yes']])\n",
    "Y = tb_insu['expenses']\n",
    "modelo = sm.OLS(Y, X)\n",
    "\n",
    "lm_fit = modelo.fit()\n",
    "lm_fit.summary()"
   ]
  },
  {
   "cell_type": "markdown",
   "id": "933a4653",
   "metadata": {},
   "source": [
    "Vamos inserir as previsões do nosso modelo em nossa base de dados para visualizarmos as relações capturadas pela nossa regressão:"
   ]
  },
  {
   "cell_type": "code",
   "execution_count": null,
   "id": "248193e7",
   "metadata": {
    "ExecuteTime": {
     "end_time": "2022-03-08T23:36:50.474170Z",
     "start_time": "2022-03-08T23:36:48.012051Z"
    }
   },
   "outputs": [],
   "source": [
    "tb_insu['lm_pred'] = lm_fit.predict()\n",
    "sns.pairplot(tb_insu[['expenses', 'lm_pred', 'age', 'bmi']])"
   ]
  },
  {
   "cell_type": "code",
   "execution_count": null,
   "id": "d0850328",
   "metadata": {
    "ExecuteTime": {
     "end_time": "2022-03-08T23:44:52.141075Z",
     "start_time": "2022-03-08T23:44:48.051805Z"
    }
   },
   "outputs": [],
   "source": [
    "sns.lineplot(data = tb_insu, x = 'age', y='lm_pred', hue = 'smoker', style = 'obese')\n",
    "sns.scatterplot(data = tb_insu, x = 'age', y='expenses', hue = 'smoker', style = 'obese')"
   ]
  },
  {
   "cell_type": "code",
   "execution_count": null,
   "id": "2dd3338d",
   "metadata": {
    "ExecuteTime": {
     "end_time": "2022-03-08T23:45:41.207707Z",
     "start_time": "2022-03-08T23:45:40.884226Z"
    }
   },
   "outputs": [],
   "source": [
    "sns.scatterplot(data = tb_insu, x = 'bmi', y='expenses', hue = 'smoker', style = 'obese')"
   ]
  },
  {
   "cell_type": "code",
   "execution_count": null,
   "id": "4a6d123d",
   "metadata": {
    "ExecuteTime": {
     "end_time": "2022-03-08T23:45:55.755137Z",
     "start_time": "2022-03-08T23:45:55.436165Z"
    }
   },
   "outputs": [],
   "source": [
    "sns.scatterplot(data = tb_insu, x = 'bmi', y='lm_pred', hue = 'smoker', style = 'obese')"
   ]
  }
 ],
 "metadata": {
  "hide_input": false,
  "kernelspec": {
   "display_name": "Python 3 (ipykernel)",
   "language": "python",
   "name": "python3"
  },
  "language_info": {
   "codemirror_mode": {
    "name": "ipython",
    "version": 3
   },
   "file_extension": ".py",
   "mimetype": "text/x-python",
   "name": "python",
   "nbconvert_exporter": "python",
   "pygments_lexer": "ipython3",
   "version": "3.9.11"
  },
  "toc": {
   "base_numbering": 1,
   "nav_menu": {},
   "number_sections": true,
   "sideBar": true,
   "skip_h1_title": false,
   "title_cell": "Table of Contents",
   "title_sidebar": "Contents",
   "toc_cell": true,
   "toc_position": {
    "height": "calc(100% - 180px)",
    "left": "10px",
    "top": "150px",
    "width": "165px"
   },
   "toc_section_display": true,
   "toc_window_display": true
  },
  "vscode": {
   "interpreter": {
    "hash": "014f4a4a5af8f0104b12c029e500f4146d6d785e8cf714d2a35b7a9514230cd3"
   }
  }
 },
 "nbformat": 4,
 "nbformat_minor": 5
}

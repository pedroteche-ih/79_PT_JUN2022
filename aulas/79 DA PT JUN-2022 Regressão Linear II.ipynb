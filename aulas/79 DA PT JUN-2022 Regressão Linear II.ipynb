{
 "cells": [
  {
   "cell_type": "markdown",
   "id": "fbbe8106",
   "metadata": {
    "toc": true
   },
   "source": [
    "<h1>Table of Contents<span class=\"tocSkip\"></span></h1>\n",
    "<div class=\"toc\"><ul class=\"toc-item\"><li><span><a href=\"#Regressão-Linear-Múltipla\" data-toc-modified-id=\"Regressão-Linear-Múltipla-1\"><span class=\"toc-item-num\">1&nbsp;&nbsp;</span>Regressão Linear Múltipla</a></span><ul class=\"toc-item\"><li><span><a href=\"#Simulando-Dados\" data-toc-modified-id=\"Simulando-Dados-1.1\"><span class=\"toc-item-num\">1.1&nbsp;&nbsp;</span>Simulando Dados</a></span><ul class=\"toc-item\"><li><span><a href=\"#Duas-variáveis-continuas\" data-toc-modified-id=\"Duas-variáveis-continuas-1.1.1\"><span class=\"toc-item-num\">1.1.1&nbsp;&nbsp;</span>Duas variáveis continuas</a></span></li><li><span><a href=\"#Simulando-Variáveis-Categóricas\" data-toc-modified-id=\"Simulando-Variáveis-Categóricas-1.1.2\"><span class=\"toc-item-num\">1.1.2&nbsp;&nbsp;</span>Simulando Variáveis Categóricas</a></span><ul class=\"toc-item\"><li><span><a href=\"#Convertendo-variáveis-categóricas-em-variáveis-dummy\" data-toc-modified-id=\"Convertendo-variáveis-categóricas-em-variáveis-dummy-1.1.2.1\"><span class=\"toc-item-num\">1.1.2.1&nbsp;&nbsp;</span>Convertendo variáveis categóricas em variáveis dummy</a></span></li></ul></li></ul></li></ul></li><li><span><a href=\"#Voltamos-20h20\" data-toc-modified-id=\"Voltamos-20h20-2\"><span class=\"toc-item-num\">2&nbsp;&nbsp;</span>Voltamos 20h20</a></span><ul class=\"toc-item\"><li><span><a href=\"#Dados-Reais\" data-toc-modified-id=\"Dados-Reais-2.1\"><span class=\"toc-item-num\">2.1&nbsp;&nbsp;</span>Dados Reais</a></span></li><li><span><a href=\"#Exploração-de-Dados\" data-toc-modified-id=\"Exploração-de-Dados-2.2\"><span class=\"toc-item-num\">2.2&nbsp;&nbsp;</span>Exploração de Dados</a></span></li><li><span><a href=\"#Criando-nossa-regressão\" data-toc-modified-id=\"Criando-nossa-regressão-2.3\"><span class=\"toc-item-num\">2.3&nbsp;&nbsp;</span>Criando nossa regressão</a></span></li></ul></li></ul></div>"
   ]
  },
  {
   "cell_type": "code",
   "execution_count": 1,
   "id": "989059ea",
   "metadata": {
    "ExecuteTime": {
     "end_time": "2022-03-08T22:45:32.013683Z",
     "start_time": "2022-03-08T22:45:29.302906Z"
    }
   },
   "outputs": [],
   "source": [
    "import random\n",
    "import numpy as np\n",
    "import seaborn as sns\n",
    "import pandas as pd\n",
    "from matplotlib import pyplot as plt\n",
    "\n",
    "from sklearn.linear_model import LinearRegression\n",
    "import matplotlib.pyplot as plt\n",
    "import statsmodels.api as sm"
   ]
  },
  {
   "cell_type": "markdown",
   "id": "06cf8bff",
   "metadata": {},
   "source": [
    "# Regressão Linear Múltipla"
   ]
  },
  {
   "cell_type": "markdown",
   "id": "5034a83d",
   "metadata": {},
   "source": [
    "## Simulando Dados\n",
    "\n",
    "Começaremos vendo como a entrada de múltiplas variáveis em uma regressão linear funciona a partir de conjuntos de dados sintéticos.\n",
    "\n",
    "### Duas variáveis continuas"
   ]
  },
  {
   "cell_type": "code",
   "execution_count": 2,
   "id": "391eb054",
   "metadata": {
    "ExecuteTime": {
     "end_time": "2022-03-05T15:44:28.915425Z",
     "start_time": "2022-03-05T15:44:28.908442Z"
    }
   },
   "outputs": [],
   "source": [
    "def simular_dado_mv(parametros_x1, parametros_x2, desvpad_E, samples):\n",
    "    \n",
    "    x1 = np.random.normal(loc=parametros_x1[0],\n",
    "                          scale=parametros_x1[1],\n",
    "                          size=samples)\n",
    "    \n",
    "    x2 = np.random.normal(loc=parametros_x2[0],\n",
    "                          scale=parametros_x2[1],\n",
    "                          size=samples)\n",
    "    \n",
    "    E = np.random.normal(loc=0, scale=desvpad_E, size=samples)\n",
    "    \n",
    "    y = parametros_x1[2] * x1 + parametros_x2[2] * x2 + E\n",
    "    \n",
    "    return pd.DataFrame({'x1': x1, 'x2': x2, 'y': y})"
   ]
  },
  {
   "cell_type": "code",
   "execution_count": 3,
   "id": "478992d5",
   "metadata": {
    "ExecuteTime": {
     "end_time": "2022-03-05T15:44:29.315621Z",
     "start_time": "2022-03-05T15:44:29.287697Z"
    }
   },
   "outputs": [
    {
     "data": {
      "text/html": [
       "<div>\n",
       "<style scoped>\n",
       "    .dataframe tbody tr th:only-of-type {\n",
       "        vertical-align: middle;\n",
       "    }\n",
       "\n",
       "    .dataframe tbody tr th {\n",
       "        vertical-align: top;\n",
       "    }\n",
       "\n",
       "    .dataframe thead th {\n",
       "        text-align: right;\n",
       "    }\n",
       "</style>\n",
       "<table border=\"1\" class=\"dataframe\">\n",
       "  <thead>\n",
       "    <tr style=\"text-align: right;\">\n",
       "      <th></th>\n",
       "      <th>x1</th>\n",
       "      <th>x2</th>\n",
       "      <th>y</th>\n",
       "    </tr>\n",
       "  </thead>\n",
       "  <tbody>\n",
       "    <tr>\n",
       "      <th>0</th>\n",
       "      <td>-3.882659</td>\n",
       "      <td>25.800732</td>\n",
       "      <td>85.901768</td>\n",
       "    </tr>\n",
       "    <tr>\n",
       "      <th>1</th>\n",
       "      <td>-1.040302</td>\n",
       "      <td>9.043098</td>\n",
       "      <td>33.660414</td>\n",
       "    </tr>\n",
       "    <tr>\n",
       "      <th>2</th>\n",
       "      <td>5.715843</td>\n",
       "      <td>5.929961</td>\n",
       "      <td>88.847534</td>\n",
       "    </tr>\n",
       "    <tr>\n",
       "      <th>3</th>\n",
       "      <td>0.502136</td>\n",
       "      <td>-3.062302</td>\n",
       "      <td>-4.502761</td>\n",
       "    </tr>\n",
       "    <tr>\n",
       "      <th>4</th>\n",
       "      <td>1.448399</td>\n",
       "      <td>-0.411917</td>\n",
       "      <td>1.963142</td>\n",
       "    </tr>\n",
       "    <tr>\n",
       "      <th>...</th>\n",
       "      <td>...</td>\n",
       "      <td>...</td>\n",
       "      <td>...</td>\n",
       "    </tr>\n",
       "    <tr>\n",
       "      <th>95</th>\n",
       "      <td>-0.923002</td>\n",
       "      <td>10.990221</td>\n",
       "      <td>40.654032</td>\n",
       "    </tr>\n",
       "    <tr>\n",
       "      <th>96</th>\n",
       "      <td>9.994075</td>\n",
       "      <td>1.234808</td>\n",
       "      <td>89.211851</td>\n",
       "    </tr>\n",
       "    <tr>\n",
       "      <th>97</th>\n",
       "      <td>1.225547</td>\n",
       "      <td>-0.072956</td>\n",
       "      <td>12.471792</td>\n",
       "    </tr>\n",
       "    <tr>\n",
       "      <th>98</th>\n",
       "      <td>-2.710716</td>\n",
       "      <td>15.867246</td>\n",
       "      <td>46.615772</td>\n",
       "    </tr>\n",
       "    <tr>\n",
       "      <th>99</th>\n",
       "      <td>7.257706</td>\n",
       "      <td>-1.072200</td>\n",
       "      <td>65.485679</td>\n",
       "    </tr>\n",
       "  </tbody>\n",
       "</table>\n",
       "<p>100 rows × 3 columns</p>\n",
       "</div>"
      ],
      "text/plain": [
       "          x1         x2          y\n",
       "0  -3.882659  25.800732  85.901768\n",
       "1  -1.040302   9.043098  33.660414\n",
       "2   5.715843   5.929961  88.847534\n",
       "3   0.502136  -3.062302  -4.502761\n",
       "4   1.448399  -0.411917   1.963142\n",
       "..       ...        ...        ...\n",
       "95 -0.923002  10.990221  40.654032\n",
       "96  9.994075   1.234808  89.211851\n",
       "97  1.225547  -0.072956  12.471792\n",
       "98 -2.710716  15.867246  46.615772\n",
       "99  7.257706  -1.072200  65.485679\n",
       "\n",
       "[100 rows x 3 columns]"
      ]
     },
     "execution_count": 3,
     "metadata": {},
     "output_type": "execute_result"
    }
   ],
   "source": [
    "simular_dado_mv((2, 5, 10), (10, 8, 5), 12, 100)"
   ]
  },
  {
   "cell_type": "markdown",
   "id": "d2e23855",
   "metadata": {},
   "source": [
    "Podemos criar um DataFrame com nossos dados simulados para utilizarmos nossas ferramentas de EDA buscando visualizar a relação entre X1, X2 e Y"
   ]
  },
  {
   "cell_type": "code",
   "execution_count": 11,
   "id": "cf336ed6",
   "metadata": {
    "ExecuteTime": {
     "end_time": "2022-03-05T15:44:31.111104Z",
     "start_time": "2022-03-05T15:44:29.632488Z"
    }
   },
   "outputs": [
    {
     "data": {
      "text/plain": [
       "<seaborn.axisgrid.PairGrid at 0x7f98a1819d90>"
      ]
     },
     "execution_count": 11,
     "metadata": {},
     "output_type": "execute_result"
    },
    {
     "data": {
      "image/png": "[encoded data removed]",
      "text/plain": [
       "<Figure size 540x540 with 12 Axes>"
      ]
     },
     "metadata": {
      "needs_background": "light"
     },
     "output_type": "display_data"
    }
   ],
   "source": [
    "teste_mv = simular_dado_mv((0, 1, 10), (0, 1, 5), 1, 100)\n",
    "sns.pairplot(teste_mv)"
   ]
  },
  {
   "cell_type": "markdown",
   "id": "6b04fa26",
   "metadata": {},
   "source": [
    "Agora, vamos utilizar nossa regressão para estimar os coeficientes associados à X1 e X2"
   ]
  },
  {
   "cell_type": "code",
   "execution_count": 12,
   "id": "3200ab9e",
   "metadata": {
    "ExecuteTime": {
     "end_time": "2022-03-05T15:44:33.185559Z",
     "start_time": "2022-03-05T15:44:33.165615Z"
    }
   },
   "outputs": [
    {
     "data": {
      "text/html": [
       "<table class=\"simpletable\">\n",
       "<caption>OLS Regression Results</caption>\n",
       "<tr>\n",
       "  <th>Dep. Variable:</th>            <td>y</td>        <th>  R-squared:         </th> <td>   0.993</td> \n",
       "</tr>\n",
       "<tr>\n",
       "  <th>Model:</th>                   <td>OLS</td>       <th>  Adj. R-squared:    </th> <td>   0.993</td> \n",
       "</tr>\n",
       "<tr>\n",
       "  <th>Method:</th>             <td>Least Squares</td>  <th>  F-statistic:       </th> <td>   6902.</td> \n",
       "</tr>\n",
       "<tr>\n",
       "  <th>Date:</th>             <td>Thu, 22 Sep 2022</td> <th>  Prob (F-statistic):</th> <td>2.63e-105</td>\n",
       "</tr>\n",
       "<tr>\n",
       "  <th>Time:</th>                 <td>19:48:34</td>     <th>  Log-Likelihood:    </th> <td> -141.23</td> \n",
       "</tr>\n",
       "<tr>\n",
       "  <th>No. Observations:</th>      <td>   100</td>      <th>  AIC:               </th> <td>   288.5</td> \n",
       "</tr>\n",
       "<tr>\n",
       "  <th>Df Residuals:</th>          <td>    97</td>      <th>  BIC:               </th> <td>   296.3</td> \n",
       "</tr>\n",
       "<tr>\n",
       "  <th>Df Model:</th>              <td>     2</td>      <th>                     </th>     <td> </td>    \n",
       "</tr>\n",
       "<tr>\n",
       "  <th>Covariance Type:</th>      <td>nonrobust</td>    <th>                     </th>     <td> </td>    \n",
       "</tr>\n",
       "</table>\n",
       "<table class=\"simpletable\">\n",
       "<tr>\n",
       "    <td></td>       <th>coef</th>     <th>std err</th>      <th>t</th>      <th>P>|t|</th>  <th>[0.025</th>    <th>0.975]</th>  \n",
       "</tr>\n",
       "<tr>\n",
       "  <th>const</th> <td>    0.1817</td> <td>    0.101</td> <td>    1.799</td> <td> 0.075</td> <td>   -0.019</td> <td>    0.382</td>\n",
       "</tr>\n",
       "<tr>\n",
       "  <th>x1</th>    <td>   10.1207</td> <td>    0.096</td> <td>  105.326</td> <td> 0.000</td> <td>    9.930</td> <td>   10.311</td>\n",
       "</tr>\n",
       "<tr>\n",
       "  <th>x2</th>    <td>    4.8879</td> <td>    0.096</td> <td>   50.683</td> <td> 0.000</td> <td>    4.696</td> <td>    5.079</td>\n",
       "</tr>\n",
       "</table>\n",
       "<table class=\"simpletable\">\n",
       "<tr>\n",
       "  <th>Omnibus:</th>       <td> 2.333</td> <th>  Durbin-Watson:     </th> <td>   2.108</td>\n",
       "</tr>\n",
       "<tr>\n",
       "  <th>Prob(Omnibus):</th> <td> 0.311</td> <th>  Jarque-Bera (JB):  </th> <td>   1.866</td>\n",
       "</tr>\n",
       "<tr>\n",
       "  <th>Skew:</th>          <td> 0.326</td> <th>  Prob(JB):          </th> <td>   0.393</td>\n",
       "</tr>\n",
       "<tr>\n",
       "  <th>Kurtosis:</th>      <td> 3.155</td> <th>  Cond. No.          </th> <td>    1.07</td>\n",
       "</tr>\n",
       "</table><br/><br/>Notes:<br/>[1] Standard Errors assume that the covariance matrix of the errors is correctly specified."
      ],
      "text/plain": [
       "<class 'statsmodels.iolib.summary.Summary'>\n",
       "\"\"\"\n",
       "                            OLS Regression Results                            \n",
       "==============================================================================\n",
       "Dep. Variable:                      y   R-squared:                       0.993\n",
       "Model:                            OLS   Adj. R-squared:                  0.993\n",
       "Method:                 Least Squares   F-statistic:                     6902.\n",
       "Date:                Thu, 22 Sep 2022   Prob (F-statistic):          2.63e-105\n",
       "Time:                        19:48:34   Log-Likelihood:                -141.23\n",
       "No. Observations:                 100   AIC:                             288.5\n",
       "Df Residuals:                      97   BIC:                             296.3\n",
       "Df Model:                           2                                         \n",
       "Covariance Type:            nonrobust                                         \n",
       "==============================================================================\n",
       "                 coef    std err          t      P>|t|      [0.025      0.975]\n",
       "------------------------------------------------------------------------------\n",
       "const          0.1817      0.101      1.799      0.075      -0.019       0.382\n",
       "x1            10.1207      0.096    105.326      0.000       9.930      10.311\n",
       "x2             4.8879      0.096     50.683      0.000       4.696       5.079\n",
       "==============================================================================\n",
       "Omnibus:                        2.333   Durbin-Watson:                   2.108\n",
       "Prob(Omnibus):                  0.311   Jarque-Bera (JB):                1.866\n",
       "Skew:                           0.326   Prob(JB):                        0.393\n",
       "Kurtosis:                       3.155   Cond. No.                         1.07\n",
       "==============================================================================\n",
       "\n",
       "Notes:\n",
       "[1] Standard Errors assume that the covariance matrix of the errors is correctly specified.\n",
       "\"\"\""
      ]
     },
     "execution_count": 12,
     "metadata": {},
     "output_type": "execute_result"
    }
   ],
   "source": [
    "X = sm.add_constant(teste_mv[['x1', 'x2']])\n",
    "Y = teste_mv['y']\n",
    "modelo = sm.OLS(Y, X)\n",
    "lm_fit = modelo.fit()\n",
    "lm_fit.summary()"
   ]
  },
  {
   "cell_type": "markdown",
   "id": "06206701",
   "metadata": {},
   "source": [
    "Podemos utilizar a biblioteca `sklearn` para conseguir a interface preditiva desta biblioteca:"
   ]
  },
  {
   "cell_type": "code",
   "execution_count": 13,
   "id": "c692186b",
   "metadata": {
    "ExecuteTime": {
     "end_time": "2022-03-05T15:44:37.134402Z",
     "start_time": "2022-03-05T15:44:37.125425Z"
    }
   },
   "outputs": [
    {
     "name": "stdout",
     "output_type": "stream",
     "text": [
      "[10.12073261  4.88787609]\n",
      "0.18167804257410872\n"
     ]
    }
   ],
   "source": [
    "modelo = LinearRegression()\n",
    "\n",
    "X = teste_mv[['x1', 'x2']]\n",
    "\n",
    "y = teste_mv['y']\n",
    "\n",
    "modelo.fit(X, y)\n",
    "\n",
    "print(modelo.coef_)\n",
    "print(modelo.intercept_)"
   ]
  },
  {
   "cell_type": "code",
   "execution_count": 15,
   "id": "45f02098",
   "metadata": {},
   "outputs": [
    {
     "data": {
      "text/plain": [
       "array([  6.27588316,  -6.28937976,  11.68717598, -33.69451502,\n",
       "        17.15721132,   8.33701647,   2.83273062,   5.43834385,\n",
       "       -13.13280563, -14.05074192,  -7.84700417,   7.68547163,\n",
       "         2.32722845,  -5.72745021,  -1.95763367,  13.00931062,\n",
       "        -8.29081056,   3.15021185,  -7.685836  , -29.6034992 ,\n",
       "         4.13371907,  12.16670052,   3.39256037,   5.64855903,\n",
       "         1.01806387,   9.85217105,   4.89275868, -11.46980754,\n",
       "        -1.69524112,  -7.42587817, -12.79968032, -12.50332233,\n",
       "        -3.53952206,  12.44681893,  13.81729238, -19.73473161,\n",
       "       -10.26403995,  10.23118234,  -4.49898899,  12.67660233,\n",
       "         8.10533725,  -7.6373765 ,  -5.67990242,   3.23900478,\n",
       "        -2.33364495,  -9.09980984,   1.92097498,  -0.27857669,\n",
       "        10.88223417, -10.69437261,  -4.63072939,  17.20107487,\n",
       "        -9.12142794,  10.13974189,  25.67550227,  -9.53247028,\n",
       "         1.03801618,   3.26994028,  17.42073722,  -8.23445296,\n",
       "        20.42851373,   0.80647652,  17.95283855,   7.88418   ,\n",
       "        -6.91949   ,  14.2237132 ,   3.60800506, -21.04080857,\n",
       "        14.21254149,  -5.72238868,  15.74201533,  -5.316824  ,\n",
       "        10.98971852,  12.07663524, -17.12809626,   4.40088102,\n",
       "         8.36170686,  19.19741148, -13.68525908,  11.22927361,\n",
       "        -8.70711356,  -9.29472119,  -9.3280177 , -20.29284151,\n",
       "         4.64184882,  -3.33805772,   3.05572655, -14.040929  ,\n",
       "       -13.77029587,   9.81653843,  -3.72777595,  26.07795646,\n",
       "        10.28641203, -13.97043072,  18.9188692 , -20.16756133,\n",
       "         2.61014724, -11.22723127,   1.50539303,  -6.44689555])"
      ]
     },
     "execution_count": 15,
     "metadata": {},
     "output_type": "execute_result"
    }
   ],
   "source": [
    "modelo.predict(teste_mv[['x1', 'x2']])"
   ]
  },
  {
   "cell_type": "code",
   "execution_count": 16,
   "id": "cbfbd854",
   "metadata": {
    "ExecuteTime": {
     "end_time": "2022-03-05T15:44:37.610161Z",
     "start_time": "2022-03-05T15:44:37.601184Z"
    }
   },
   "outputs": [],
   "source": [
    "teste_mv['pred'] = modelo.predict(teste_mv[['x1', 'x2']])"
   ]
  },
  {
   "cell_type": "code",
   "execution_count": 17,
   "id": "e43538ee",
   "metadata": {},
   "outputs": [
    {
     "data": {
      "text/html": [
       "<div>\n",
       "<style scoped>\n",
       "    .dataframe tbody tr th:only-of-type {\n",
       "        vertical-align: middle;\n",
       "    }\n",
       "\n",
       "    .dataframe tbody tr th {\n",
       "        vertical-align: top;\n",
       "    }\n",
       "\n",
       "    .dataframe thead th {\n",
       "        text-align: right;\n",
       "    }\n",
       "</style>\n",
       "<table border=\"1\" class=\"dataframe\">\n",
       "  <thead>\n",
       "    <tr style=\"text-align: right;\">\n",
       "      <th></th>\n",
       "      <th>x1</th>\n",
       "      <th>x2</th>\n",
       "      <th>y</th>\n",
       "      <th>pred</th>\n",
       "    </tr>\n",
       "  </thead>\n",
       "  <tbody>\n",
       "    <tr>\n",
       "      <th>0</th>\n",
       "      <td>1.045954</td>\n",
       "      <td>-0.918930</td>\n",
       "      <td>6.922857</td>\n",
       "      <td>6.275883</td>\n",
       "    </tr>\n",
       "    <tr>\n",
       "      <th>1</th>\n",
       "      <td>-0.913574</td>\n",
       "      <td>0.567727</td>\n",
       "      <td>-7.246401</td>\n",
       "      <td>-6.289380</td>\n",
       "    </tr>\n",
       "    <tr>\n",
       "      <th>2</th>\n",
       "      <td>0.959404</td>\n",
       "      <td>0.367363</td>\n",
       "      <td>11.258720</td>\n",
       "      <td>11.687176</td>\n",
       "    </tr>\n",
       "    <tr>\n",
       "      <th>3</th>\n",
       "      <td>-2.254047</td>\n",
       "      <td>-2.263476</td>\n",
       "      <td>-36.080209</td>\n",
       "      <td>-33.694515</td>\n",
       "    </tr>\n",
       "    <tr>\n",
       "      <th>4</th>\n",
       "      <td>2.257374</td>\n",
       "      <td>-1.201083</td>\n",
       "      <td>16.006228</td>\n",
       "      <td>17.157211</td>\n",
       "    </tr>\n",
       "    <tr>\n",
       "      <th>...</th>\n",
       "      <td>...</td>\n",
       "      <td>...</td>\n",
       "      <td>...</td>\n",
       "      <td>...</td>\n",
       "    </tr>\n",
       "    <tr>\n",
       "      <th>95</th>\n",
       "      <td>-1.564632</td>\n",
       "      <td>-0.923514</td>\n",
       "      <td>-20.766308</td>\n",
       "      <td>-20.167561</td>\n",
       "    </tr>\n",
       "    <tr>\n",
       "      <th>96</th>\n",
       "      <td>0.504757</td>\n",
       "      <td>-0.548304</td>\n",
       "      <td>1.687646</td>\n",
       "      <td>2.610147</td>\n",
       "    </tr>\n",
       "    <tr>\n",
       "      <th>97</th>\n",
       "      <td>-1.029974</td>\n",
       "      <td>-0.201482</td>\n",
       "      <td>-10.894607</td>\n",
       "      <td>-11.227231</td>\n",
       "    </tr>\n",
       "    <tr>\n",
       "      <th>98</th>\n",
       "      <td>0.216052</td>\n",
       "      <td>-0.176537</td>\n",
       "      <td>1.945367</td>\n",
       "      <td>1.505393</td>\n",
       "    </tr>\n",
       "    <tr>\n",
       "      <th>99</th>\n",
       "      <td>-0.046781</td>\n",
       "      <td>-1.259261</td>\n",
       "      <td>-8.221549</td>\n",
       "      <td>-6.446896</td>\n",
       "    </tr>\n",
       "  </tbody>\n",
       "</table>\n",
       "<p>100 rows × 4 columns</p>\n",
       "</div>"
      ],
      "text/plain": [
       "          x1        x2          y       pred\n",
       "0   1.045954 -0.918930   6.922857   6.275883\n",
       "1  -0.913574  0.567727  -7.246401  -6.289380\n",
       "2   0.959404  0.367363  11.258720  11.687176\n",
       "3  -2.254047 -2.263476 -36.080209 -33.694515\n",
       "4   2.257374 -1.201083  16.006228  17.157211\n",
       "..       ...       ...        ...        ...\n",
       "95 -1.564632 -0.923514 -20.766308 -20.167561\n",
       "96  0.504757 -0.548304   1.687646   2.610147\n",
       "97 -1.029974 -0.201482 -10.894607 -11.227231\n",
       "98  0.216052 -0.176537   1.945367   1.505393\n",
       "99 -0.046781 -1.259261  -8.221549  -6.446896\n",
       "\n",
       "[100 rows x 4 columns]"
      ]
     },
     "execution_count": 17,
     "metadata": {},
     "output_type": "execute_result"
    }
   ],
   "source": [
    "teste_mv"
   ]
  },
  {
   "cell_type": "markdown",
   "id": "977cd2ab",
   "metadata": {},
   "source": [
    "Agora, vamos comparar as relações de nossa variável resposta e variável prevista contra X1 e X2:"
   ]
  },
  {
   "cell_type": "code",
   "execution_count": 18,
   "id": "e8f8b184",
   "metadata": {
    "ExecuteTime": {
     "end_time": "2022-03-05T15:44:40.418047Z",
     "start_time": "2022-03-05T15:44:38.018445Z"
    }
   },
   "outputs": [
    {
     "data": {
      "text/plain": [
       "<seaborn.axisgrid.PairGrid at 0x7f987388ea00>"
      ]
     },
     "execution_count": 18,
     "metadata": {},
     "output_type": "execute_result"
    },
    {
     "data": {
      "image/png": "[encoded data removed]",
      "text/plain": [
       "<Figure size 720x720 with 20 Axes>"
      ]
     },
     "metadata": {
      "needs_background": "light"
     },
     "output_type": "display_data"
    }
   ],
   "source": [
    "sns.pairplot(teste_mv)"
   ]
  },
  {
   "cell_type": "markdown",
   "id": "3f1215a6",
   "metadata": {},
   "source": [
    "### Simulando Variáveis Categóricas\n",
    "\n",
    "Muitas variáveis que encontramos são **categóricas**, ou seja, não são numéricas. Vamos simular uma variável categórica com impacto linear sobre nossa variável Y:"
   ]
  },
  {
   "cell_type": "code",
   "execution_count": 19,
   "id": "844e78bb",
   "metadata": {
    "ExecuteTime": {
     "end_time": "2022-03-05T12:32:29.702211Z",
     "start_time": "2022-03-05T12:32:29.684283Z"
    }
   },
   "outputs": [],
   "source": [
    "def simular_dado_mv_cat(parametros_x1, categorias_dict, desvpad_E, samples):\n",
    "    \n",
    "    x1 = np.random.normal(loc=parametros_x1[0],\n",
    "                          scale=parametros_x1[1],\n",
    "                          size=samples)\n",
    "    \n",
    "    cat = random.choices(list(categorias_dict.keys()), k = samples)\n",
    "    eff_cat = list(map(lambda x: categorias_dict[x], cat))\n",
    "    \n",
    "    E = np.random.normal(loc=0, scale=desvpad_E, size=samples)\n",
    "    \n",
    "    y = parametros_x1[2] * x1 + eff_cat + E\n",
    "    return pd.DataFrame({'x1': x1, 'categoria': cat, 'y': y})"
   ]
  },
  {
   "cell_type": "code",
   "execution_count": 20,
   "id": "2c5028af",
   "metadata": {},
   "outputs": [
    {
     "data": {
      "text/html": [
       "<div>\n",
       "<style scoped>\n",
       "    .dataframe tbody tr th:only-of-type {\n",
       "        vertical-align: middle;\n",
       "    }\n",
       "\n",
       "    .dataframe tbody tr th {\n",
       "        vertical-align: top;\n",
       "    }\n",
       "\n",
       "    .dataframe thead th {\n",
       "        text-align: right;\n",
       "    }\n",
       "</style>\n",
       "<table border=\"1\" class=\"dataframe\">\n",
       "  <thead>\n",
       "    <tr style=\"text-align: right;\">\n",
       "      <th></th>\n",
       "      <th>x1</th>\n",
       "      <th>categoria</th>\n",
       "      <th>y</th>\n",
       "    </tr>\n",
       "  </thead>\n",
       "  <tbody>\n",
       "    <tr>\n",
       "      <th>0</th>\n",
       "      <td>0.645793</td>\n",
       "      <td>B</td>\n",
       "      <td>10.116152</td>\n",
       "    </tr>\n",
       "    <tr>\n",
       "      <th>1</th>\n",
       "      <td>0.087213</td>\n",
       "      <td>A</td>\n",
       "      <td>2.111946</td>\n",
       "    </tr>\n",
       "    <tr>\n",
       "      <th>2</th>\n",
       "      <td>0.436640</td>\n",
       "      <td>A</td>\n",
       "      <td>4.840326</td>\n",
       "    </tr>\n",
       "    <tr>\n",
       "      <th>3</th>\n",
       "      <td>-0.504967</td>\n",
       "      <td>C</td>\n",
       "      <td>8.391566</td>\n",
       "    </tr>\n",
       "    <tr>\n",
       "      <th>4</th>\n",
       "      <td>0.414500</td>\n",
       "      <td>A</td>\n",
       "      <td>2.020361</td>\n",
       "    </tr>\n",
       "    <tr>\n",
       "      <th>...</th>\n",
       "      <td>...</td>\n",
       "      <td>...</td>\n",
       "      <td>...</td>\n",
       "    </tr>\n",
       "    <tr>\n",
       "      <th>95</th>\n",
       "      <td>1.396410</td>\n",
       "      <td>A</td>\n",
       "      <td>8.303878</td>\n",
       "    </tr>\n",
       "    <tr>\n",
       "      <th>96</th>\n",
       "      <td>0.466746</td>\n",
       "      <td>B</td>\n",
       "      <td>9.254842</td>\n",
       "    </tr>\n",
       "    <tr>\n",
       "      <th>97</th>\n",
       "      <td>-0.948891</td>\n",
       "      <td>A</td>\n",
       "      <td>-2.725097</td>\n",
       "    </tr>\n",
       "    <tr>\n",
       "      <th>98</th>\n",
       "      <td>-1.158274</td>\n",
       "      <td>A</td>\n",
       "      <td>-4.897902</td>\n",
       "    </tr>\n",
       "    <tr>\n",
       "      <th>99</th>\n",
       "      <td>0.269620</td>\n",
       "      <td>C</td>\n",
       "      <td>11.848026</td>\n",
       "    </tr>\n",
       "  </tbody>\n",
       "</table>\n",
       "<p>100 rows × 3 columns</p>\n",
       "</div>"
      ],
      "text/plain": [
       "          x1 categoria          y\n",
       "0   0.645793         B  10.116152\n",
       "1   0.087213         A   2.111946\n",
       "2   0.436640         A   4.840326\n",
       "3  -0.504967         C   8.391566\n",
       "4   0.414500         A   2.020361\n",
       "..       ...       ...        ...\n",
       "95  1.396410         A   8.303878\n",
       "96  0.466746         B   9.254842\n",
       "97 -0.948891         A  -2.725097\n",
       "98 -1.158274         A  -4.897902\n",
       "99  0.269620         C  11.848026\n",
       "\n",
       "[100 rows x 3 columns]"
      ]
     },
     "execution_count": 20,
     "metadata": {},
     "output_type": "execute_result"
    }
   ],
   "source": [
    "simular_dado_mv_cat((0, 1, 5), {'A' : 1, 'B' : 5, 'C' : 10}, 1, 100)"
   ]
  },
  {
   "cell_type": "code",
   "execution_count": 21,
   "id": "51be0274",
   "metadata": {
    "ExecuteTime": {
     "end_time": "2022-03-05T12:34:00.098487Z",
     "start_time": "2022-03-05T12:34:00.086519Z"
    }
   },
   "outputs": [],
   "source": [
    "teste_mv_cat = simular_dado_mv_cat((0, 1, 5), {'A' : 1, 'B' : 5, 'C' : 10}, 1, 100)"
   ]
  },
  {
   "cell_type": "markdown",
   "id": "0b224ddf",
   "metadata": {},
   "source": [
    "Podemos utilizar um BoxPlot para visualizar a relação entre nossa variável categórica e nossa variável resposta:"
   ]
  },
  {
   "cell_type": "code",
   "execution_count": 22,
   "id": "05a0d16f",
   "metadata": {
    "ExecuteTime": {
     "end_time": "2022-03-05T12:34:33.711263Z",
     "start_time": "2022-03-05T12:34:33.571602Z"
    }
   },
   "outputs": [
    {
     "data": {
      "image/png": "[encoded data removed]",
      "text/plain": [
       "<Figure size 432x288 with 1 Axes>"
      ]
     },
     "metadata": {
      "needs_background": "light"
     },
     "output_type": "display_data"
    }
   ],
   "source": [
    "sns.boxplot(data = teste_mv_cat, x = 'categoria', y = 'y');"
   ]
  },
  {
   "cell_type": "markdown",
   "id": "a2100a8d",
   "metadata": {},
   "source": [
    "ou então alterar a cor dos pontos em um scatterplot, visualizando múltiplas relações ao mesmo tempo:"
   ]
  },
  {
   "cell_type": "code",
   "execution_count": 25,
   "id": "5e71001b",
   "metadata": {
    "ExecuteTime": {
     "end_time": "2022-03-05T12:44:03.751443Z",
     "start_time": "2022-03-05T12:44:03.523053Z"
    }
   },
   "outputs": [
    {
     "data": {
      "image/png": "[encoded data removed]",
      "text/plain": [
       "<Figure size 432x288 with 1 Axes>"
      ]
     },
     "metadata": {
      "needs_background": "light"
     },
     "output_type": "display_data"
    }
   ],
   "source": [
    "sns.scatterplot(data = teste_mv_cat, x = 'x1', y = 'y', hue = 'categoria');"
   ]
  },
  {
   "cell_type": "code",
   "execution_count": 26,
   "id": "7cf7a01f",
   "metadata": {},
   "outputs": [
    {
     "data": {
      "text/html": [
       "<div>\n",
       "<style scoped>\n",
       "    .dataframe tbody tr th:only-of-type {\n",
       "        vertical-align: middle;\n",
       "    }\n",
       "\n",
       "    .dataframe tbody tr th {\n",
       "        vertical-align: top;\n",
       "    }\n",
       "\n",
       "    .dataframe thead th {\n",
       "        text-align: right;\n",
       "    }\n",
       "</style>\n",
       "<table border=\"1\" class=\"dataframe\">\n",
       "  <thead>\n",
       "    <tr style=\"text-align: right;\">\n",
       "      <th></th>\n",
       "      <th>x1</th>\n",
       "      <th>categoria</th>\n",
       "      <th>y</th>\n",
       "    </tr>\n",
       "  </thead>\n",
       "  <tbody>\n",
       "    <tr>\n",
       "      <th>0</th>\n",
       "      <td>1.076503</td>\n",
       "      <td>B</td>\n",
       "      <td>9.771484</td>\n",
       "    </tr>\n",
       "    <tr>\n",
       "      <th>1</th>\n",
       "      <td>1.081456</td>\n",
       "      <td>A</td>\n",
       "      <td>6.769058</td>\n",
       "    </tr>\n",
       "    <tr>\n",
       "      <th>2</th>\n",
       "      <td>-0.596576</td>\n",
       "      <td>C</td>\n",
       "      <td>7.625061</td>\n",
       "    </tr>\n",
       "    <tr>\n",
       "      <th>3</th>\n",
       "      <td>-0.890395</td>\n",
       "      <td>A</td>\n",
       "      <td>-5.065678</td>\n",
       "    </tr>\n",
       "    <tr>\n",
       "      <th>4</th>\n",
       "      <td>1.427283</td>\n",
       "      <td>A</td>\n",
       "      <td>7.791117</td>\n",
       "    </tr>\n",
       "    <tr>\n",
       "      <th>...</th>\n",
       "      <td>...</td>\n",
       "      <td>...</td>\n",
       "      <td>...</td>\n",
       "    </tr>\n",
       "    <tr>\n",
       "      <th>95</th>\n",
       "      <td>-0.764308</td>\n",
       "      <td>C</td>\n",
       "      <td>5.987385</td>\n",
       "    </tr>\n",
       "    <tr>\n",
       "      <th>96</th>\n",
       "      <td>-0.363960</td>\n",
       "      <td>C</td>\n",
       "      <td>9.470446</td>\n",
       "    </tr>\n",
       "    <tr>\n",
       "      <th>97</th>\n",
       "      <td>0.700363</td>\n",
       "      <td>A</td>\n",
       "      <td>6.667793</td>\n",
       "    </tr>\n",
       "    <tr>\n",
       "      <th>98</th>\n",
       "      <td>-0.587418</td>\n",
       "      <td>B</td>\n",
       "      <td>2.720161</td>\n",
       "    </tr>\n",
       "    <tr>\n",
       "      <th>99</th>\n",
       "      <td>0.088727</td>\n",
       "      <td>C</td>\n",
       "      <td>10.403432</td>\n",
       "    </tr>\n",
       "  </tbody>\n",
       "</table>\n",
       "<p>100 rows × 3 columns</p>\n",
       "</div>"
      ],
      "text/plain": [
       "          x1 categoria          y\n",
       "0   1.076503         B   9.771484\n",
       "1   1.081456         A   6.769058\n",
       "2  -0.596576         C   7.625061\n",
       "3  -0.890395         A  -5.065678\n",
       "4   1.427283         A   7.791117\n",
       "..       ...       ...        ...\n",
       "95 -0.764308         C   5.987385\n",
       "96 -0.363960         C   9.470446\n",
       "97  0.700363         A   6.667793\n",
       "98 -0.587418         B   2.720161\n",
       "99  0.088727         C  10.403432\n",
       "\n",
       "[100 rows x 3 columns]"
      ]
     },
     "execution_count": 26,
     "metadata": {},
     "output_type": "execute_result"
    }
   ],
   "source": [
    "teste_mv_cat"
   ]
  },
  {
   "cell_type": "markdown",
   "id": "b76a702a",
   "metadata": {},
   "source": [
    "#### Convertendo variáveis categóricas em variáveis dummy\n",
    "\n",
    "Para utilizarmos variáveis categóricas em um modelo, precisamos transforma-las em variáveis **numéricas**. A forma mais simples de fazê-lo é através de **variáveis dummies**: vamos criar **uma variável binaria nova para cada nível de nossa variável categórica**. Em cada variável, esta terá valor 1 quando a observação for daquela categoria e 0 caso não.\n",
    "\n",
    "Podemos utilizar a função `get_dummies()` para construir as variáveis dummies associadas à uma variável categórica."
   ]
  },
  {
   "cell_type": "code",
   "execution_count": 27,
   "id": "bd50e9b2",
   "metadata": {},
   "outputs": [
    {
     "data": {
      "text/html": [
       "<div>\n",
       "<style scoped>\n",
       "    .dataframe tbody tr th:only-of-type {\n",
       "        vertical-align: middle;\n",
       "    }\n",
       "\n",
       "    .dataframe tbody tr th {\n",
       "        vertical-align: top;\n",
       "    }\n",
       "\n",
       "    .dataframe thead th {\n",
       "        text-align: right;\n",
       "    }\n",
       "</style>\n",
       "<table border=\"1\" class=\"dataframe\">\n",
       "  <thead>\n",
       "    <tr style=\"text-align: right;\">\n",
       "      <th></th>\n",
       "      <th>A</th>\n",
       "      <th>B</th>\n",
       "      <th>C</th>\n",
       "    </tr>\n",
       "  </thead>\n",
       "  <tbody>\n",
       "    <tr>\n",
       "      <th>0</th>\n",
       "      <td>0</td>\n",
       "      <td>1</td>\n",
       "      <td>0</td>\n",
       "    </tr>\n",
       "    <tr>\n",
       "      <th>1</th>\n",
       "      <td>1</td>\n",
       "      <td>0</td>\n",
       "      <td>0</td>\n",
       "    </tr>\n",
       "    <tr>\n",
       "      <th>2</th>\n",
       "      <td>0</td>\n",
       "      <td>0</td>\n",
       "      <td>1</td>\n",
       "    </tr>\n",
       "    <tr>\n",
       "      <th>3</th>\n",
       "      <td>1</td>\n",
       "      <td>0</td>\n",
       "      <td>0</td>\n",
       "    </tr>\n",
       "    <tr>\n",
       "      <th>4</th>\n",
       "      <td>1</td>\n",
       "      <td>0</td>\n",
       "      <td>0</td>\n",
       "    </tr>\n",
       "    <tr>\n",
       "      <th>...</th>\n",
       "      <td>...</td>\n",
       "      <td>...</td>\n",
       "      <td>...</td>\n",
       "    </tr>\n",
       "    <tr>\n",
       "      <th>95</th>\n",
       "      <td>0</td>\n",
       "      <td>0</td>\n",
       "      <td>1</td>\n",
       "    </tr>\n",
       "    <tr>\n",
       "      <th>96</th>\n",
       "      <td>0</td>\n",
       "      <td>0</td>\n",
       "      <td>1</td>\n",
       "    </tr>\n",
       "    <tr>\n",
       "      <th>97</th>\n",
       "      <td>1</td>\n",
       "      <td>0</td>\n",
       "      <td>0</td>\n",
       "    </tr>\n",
       "    <tr>\n",
       "      <th>98</th>\n",
       "      <td>0</td>\n",
       "      <td>1</td>\n",
       "      <td>0</td>\n",
       "    </tr>\n",
       "    <tr>\n",
       "      <th>99</th>\n",
       "      <td>0</td>\n",
       "      <td>0</td>\n",
       "      <td>1</td>\n",
       "    </tr>\n",
       "  </tbody>\n",
       "</table>\n",
       "<p>100 rows × 3 columns</p>\n",
       "</div>"
      ],
      "text/plain": [
       "    A  B  C\n",
       "0   0  1  0\n",
       "1   1  0  0\n",
       "2   0  0  1\n",
       "3   1  0  0\n",
       "4   1  0  0\n",
       ".. .. .. ..\n",
       "95  0  0  1\n",
       "96  0  0  1\n",
       "97  1  0  0\n",
       "98  0  1  0\n",
       "99  0  0  1\n",
       "\n",
       "[100 rows x 3 columns]"
      ]
     },
     "execution_count": 27,
     "metadata": {},
     "output_type": "execute_result"
    }
   ],
   "source": [
    "pd.get_dummies(teste_mv_cat['categoria'])"
   ]
  },
  {
   "cell_type": "code",
   "execution_count": 28,
   "id": "a398376a",
   "metadata": {},
   "outputs": [
    {
     "data": {
      "text/html": [
       "<div>\n",
       "<style scoped>\n",
       "    .dataframe tbody tr th:only-of-type {\n",
       "        vertical-align: middle;\n",
       "    }\n",
       "\n",
       "    .dataframe tbody tr th {\n",
       "        vertical-align: top;\n",
       "    }\n",
       "\n",
       "    .dataframe thead th {\n",
       "        text-align: right;\n",
       "    }\n",
       "</style>\n",
       "<table border=\"1\" class=\"dataframe\">\n",
       "  <thead>\n",
       "    <tr style=\"text-align: right;\">\n",
       "      <th></th>\n",
       "      <th>x1</th>\n",
       "      <th>categoria</th>\n",
       "      <th>y</th>\n",
       "      <th>A</th>\n",
       "      <th>B</th>\n",
       "      <th>C</th>\n",
       "    </tr>\n",
       "  </thead>\n",
       "  <tbody>\n",
       "    <tr>\n",
       "      <th>0</th>\n",
       "      <td>1.076503</td>\n",
       "      <td>B</td>\n",
       "      <td>9.771484</td>\n",
       "      <td>0</td>\n",
       "      <td>1</td>\n",
       "      <td>0</td>\n",
       "    </tr>\n",
       "    <tr>\n",
       "      <th>1</th>\n",
       "      <td>1.081456</td>\n",
       "      <td>A</td>\n",
       "      <td>6.769058</td>\n",
       "      <td>1</td>\n",
       "      <td>0</td>\n",
       "      <td>0</td>\n",
       "    </tr>\n",
       "    <tr>\n",
       "      <th>2</th>\n",
       "      <td>-0.596576</td>\n",
       "      <td>C</td>\n",
       "      <td>7.625061</td>\n",
       "      <td>0</td>\n",
       "      <td>0</td>\n",
       "      <td>1</td>\n",
       "    </tr>\n",
       "    <tr>\n",
       "      <th>3</th>\n",
       "      <td>-0.890395</td>\n",
       "      <td>A</td>\n",
       "      <td>-5.065678</td>\n",
       "      <td>1</td>\n",
       "      <td>0</td>\n",
       "      <td>0</td>\n",
       "    </tr>\n",
       "    <tr>\n",
       "      <th>4</th>\n",
       "      <td>1.427283</td>\n",
       "      <td>A</td>\n",
       "      <td>7.791117</td>\n",
       "      <td>1</td>\n",
       "      <td>0</td>\n",
       "      <td>0</td>\n",
       "    </tr>\n",
       "    <tr>\n",
       "      <th>...</th>\n",
       "      <td>...</td>\n",
       "      <td>...</td>\n",
       "      <td>...</td>\n",
       "      <td>...</td>\n",
       "      <td>...</td>\n",
       "      <td>...</td>\n",
       "    </tr>\n",
       "    <tr>\n",
       "      <th>95</th>\n",
       "      <td>-0.764308</td>\n",
       "      <td>C</td>\n",
       "      <td>5.987385</td>\n",
       "      <td>0</td>\n",
       "      <td>0</td>\n",
       "      <td>1</td>\n",
       "    </tr>\n",
       "    <tr>\n",
       "      <th>96</th>\n",
       "      <td>-0.363960</td>\n",
       "      <td>C</td>\n",
       "      <td>9.470446</td>\n",
       "      <td>0</td>\n",
       "      <td>0</td>\n",
       "      <td>1</td>\n",
       "    </tr>\n",
       "    <tr>\n",
       "      <th>97</th>\n",
       "      <td>0.700363</td>\n",
       "      <td>A</td>\n",
       "      <td>6.667793</td>\n",
       "      <td>1</td>\n",
       "      <td>0</td>\n",
       "      <td>0</td>\n",
       "    </tr>\n",
       "    <tr>\n",
       "      <th>98</th>\n",
       "      <td>-0.587418</td>\n",
       "      <td>B</td>\n",
       "      <td>2.720161</td>\n",
       "      <td>0</td>\n",
       "      <td>1</td>\n",
       "      <td>0</td>\n",
       "    </tr>\n",
       "    <tr>\n",
       "      <th>99</th>\n",
       "      <td>0.088727</td>\n",
       "      <td>C</td>\n",
       "      <td>10.403432</td>\n",
       "      <td>0</td>\n",
       "      <td>0</td>\n",
       "      <td>1</td>\n",
       "    </tr>\n",
       "  </tbody>\n",
       "</table>\n",
       "<p>100 rows × 6 columns</p>\n",
       "</div>"
      ],
      "text/plain": [
       "          x1 categoria          y  A  B  C\n",
       "0   1.076503         B   9.771484  0  1  0\n",
       "1   1.081456         A   6.769058  1  0  0\n",
       "2  -0.596576         C   7.625061  0  0  1\n",
       "3  -0.890395         A  -5.065678  1  0  0\n",
       "4   1.427283         A   7.791117  1  0  0\n",
       "..       ...       ...        ... .. .. ..\n",
       "95 -0.764308         C   5.987385  0  0  1\n",
       "96 -0.363960         C   9.470446  0  0  1\n",
       "97  0.700363         A   6.667793  1  0  0\n",
       "98 -0.587418         B   2.720161  0  1  0\n",
       "99  0.088727         C  10.403432  0  0  1\n",
       "\n",
       "[100 rows x 6 columns]"
      ]
     },
     "execution_count": 28,
     "metadata": {},
     "output_type": "execute_result"
    }
   ],
   "source": [
    "teste_mv_cat.join(pd.get_dummies(teste_mv_cat['categoria']))"
   ]
  },
  {
   "cell_type": "code",
   "execution_count": 29,
   "id": "44ff235e",
   "metadata": {
    "ExecuteTime": {
     "end_time": "2022-03-05T12:40:20.423065Z",
     "start_time": "2022-03-05T12:40:20.410110Z"
    }
   },
   "outputs": [],
   "source": [
    "teste_mv_cat = teste_mv_cat.join(pd.get_dummies(teste_mv_cat['categoria']))"
   ]
  },
  {
   "cell_type": "code",
   "execution_count": 30,
   "id": "acbc2af2",
   "metadata": {},
   "outputs": [
    {
     "data": {
      "text/html": [
       "<div>\n",
       "<style scoped>\n",
       "    .dataframe tbody tr th:only-of-type {\n",
       "        vertical-align: middle;\n",
       "    }\n",
       "\n",
       "    .dataframe tbody tr th {\n",
       "        vertical-align: top;\n",
       "    }\n",
       "\n",
       "    .dataframe thead th {\n",
       "        text-align: right;\n",
       "    }\n",
       "</style>\n",
       "<table border=\"1\" class=\"dataframe\">\n",
       "  <thead>\n",
       "    <tr style=\"text-align: right;\">\n",
       "      <th></th>\n",
       "      <th>x1</th>\n",
       "      <th>categoria</th>\n",
       "      <th>y</th>\n",
       "      <th>A</th>\n",
       "      <th>B</th>\n",
       "      <th>C</th>\n",
       "    </tr>\n",
       "  </thead>\n",
       "  <tbody>\n",
       "    <tr>\n",
       "      <th>0</th>\n",
       "      <td>1.076503</td>\n",
       "      <td>B</td>\n",
       "      <td>9.771484</td>\n",
       "      <td>0</td>\n",
       "      <td>1</td>\n",
       "      <td>0</td>\n",
       "    </tr>\n",
       "    <tr>\n",
       "      <th>1</th>\n",
       "      <td>1.081456</td>\n",
       "      <td>A</td>\n",
       "      <td>6.769058</td>\n",
       "      <td>1</td>\n",
       "      <td>0</td>\n",
       "      <td>0</td>\n",
       "    </tr>\n",
       "    <tr>\n",
       "      <th>2</th>\n",
       "      <td>-0.596576</td>\n",
       "      <td>C</td>\n",
       "      <td>7.625061</td>\n",
       "      <td>0</td>\n",
       "      <td>0</td>\n",
       "      <td>1</td>\n",
       "    </tr>\n",
       "    <tr>\n",
       "      <th>3</th>\n",
       "      <td>-0.890395</td>\n",
       "      <td>A</td>\n",
       "      <td>-5.065678</td>\n",
       "      <td>1</td>\n",
       "      <td>0</td>\n",
       "      <td>0</td>\n",
       "    </tr>\n",
       "    <tr>\n",
       "      <th>4</th>\n",
       "      <td>1.427283</td>\n",
       "      <td>A</td>\n",
       "      <td>7.791117</td>\n",
       "      <td>1</td>\n",
       "      <td>0</td>\n",
       "      <td>0</td>\n",
       "    </tr>\n",
       "    <tr>\n",
       "      <th>...</th>\n",
       "      <td>...</td>\n",
       "      <td>...</td>\n",
       "      <td>...</td>\n",
       "      <td>...</td>\n",
       "      <td>...</td>\n",
       "      <td>...</td>\n",
       "    </tr>\n",
       "    <tr>\n",
       "      <th>95</th>\n",
       "      <td>-0.764308</td>\n",
       "      <td>C</td>\n",
       "      <td>5.987385</td>\n",
       "      <td>0</td>\n",
       "      <td>0</td>\n",
       "      <td>1</td>\n",
       "    </tr>\n",
       "    <tr>\n",
       "      <th>96</th>\n",
       "      <td>-0.363960</td>\n",
       "      <td>C</td>\n",
       "      <td>9.470446</td>\n",
       "      <td>0</td>\n",
       "      <td>0</td>\n",
       "      <td>1</td>\n",
       "    </tr>\n",
       "    <tr>\n",
       "      <th>97</th>\n",
       "      <td>0.700363</td>\n",
       "      <td>A</td>\n",
       "      <td>6.667793</td>\n",
       "      <td>1</td>\n",
       "      <td>0</td>\n",
       "      <td>0</td>\n",
       "    </tr>\n",
       "    <tr>\n",
       "      <th>98</th>\n",
       "      <td>-0.587418</td>\n",
       "      <td>B</td>\n",
       "      <td>2.720161</td>\n",
       "      <td>0</td>\n",
       "      <td>1</td>\n",
       "      <td>0</td>\n",
       "    </tr>\n",
       "    <tr>\n",
       "      <th>99</th>\n",
       "      <td>0.088727</td>\n",
       "      <td>C</td>\n",
       "      <td>10.403432</td>\n",
       "      <td>0</td>\n",
       "      <td>0</td>\n",
       "      <td>1</td>\n",
       "    </tr>\n",
       "  </tbody>\n",
       "</table>\n",
       "<p>100 rows × 6 columns</p>\n",
       "</div>"
      ],
      "text/plain": [
       "          x1 categoria          y  A  B  C\n",
       "0   1.076503         B   9.771484  0  1  0\n",
       "1   1.081456         A   6.769058  1  0  0\n",
       "2  -0.596576         C   7.625061  0  0  1\n",
       "3  -0.890395         A  -5.065678  1  0  0\n",
       "4   1.427283         A   7.791117  1  0  0\n",
       "..       ...       ...        ... .. .. ..\n",
       "95 -0.764308         C   5.987385  0  0  1\n",
       "96 -0.363960         C   9.470446  0  0  1\n",
       "97  0.700363         A   6.667793  1  0  0\n",
       "98 -0.587418         B   2.720161  0  1  0\n",
       "99  0.088727         C  10.403432  0  0  1\n",
       "\n",
       "[100 rows x 6 columns]"
      ]
     },
     "execution_count": 30,
     "metadata": {},
     "output_type": "execute_result"
    }
   ],
   "source": [
    "teste_mv_cat"
   ]
  },
  {
   "cell_type": "code",
   "execution_count": 32,
   "id": "091518d4",
   "metadata": {
    "ExecuteTime": {
     "end_time": "2022-03-05T12:41:29.007269Z",
     "start_time": "2022-03-05T12:41:28.980332Z"
    }
   },
   "outputs": [
    {
     "data": {
      "text/html": [
       "<table class=\"simpletable\">\n",
       "<caption>OLS Regression Results</caption>\n",
       "<tr>\n",
       "  <th>Dep. Variable:</th>            <td>y</td>        <th>  R-squared:         </th> <td>   0.973</td>\n",
       "</tr>\n",
       "<tr>\n",
       "  <th>Model:</th>                   <td>OLS</td>       <th>  Adj. R-squared:    </th> <td>   0.972</td>\n",
       "</tr>\n",
       "<tr>\n",
       "  <th>Method:</th>             <td>Least Squares</td>  <th>  F-statistic:       </th> <td>   1148.</td>\n",
       "</tr>\n",
       "<tr>\n",
       "  <th>Date:</th>             <td>Thu, 22 Sep 2022</td> <th>  Prob (F-statistic):</th> <td>4.80e-75</td>\n",
       "</tr>\n",
       "<tr>\n",
       "  <th>Time:</th>                 <td>20:02:44</td>     <th>  Log-Likelihood:    </th> <td> -135.57</td>\n",
       "</tr>\n",
       "<tr>\n",
       "  <th>No. Observations:</th>      <td>   100</td>      <th>  AIC:               </th> <td>   279.1</td>\n",
       "</tr>\n",
       "<tr>\n",
       "  <th>Df Residuals:</th>          <td>    96</td>      <th>  BIC:               </th> <td>   289.6</td>\n",
       "</tr>\n",
       "<tr>\n",
       "  <th>Df Model:</th>              <td>     3</td>      <th>                     </th>     <td> </td>   \n",
       "</tr>\n",
       "<tr>\n",
       "  <th>Covariance Type:</th>      <td>nonrobust</td>    <th>                     </th>     <td> </td>   \n",
       "</tr>\n",
       "</table>\n",
       "<table class=\"simpletable\">\n",
       "<tr>\n",
       "    <td></td>       <th>coef</th>     <th>std err</th>      <th>t</th>      <th>P>|t|</th>  <th>[0.025</th>    <th>0.975]</th>  \n",
       "</tr>\n",
       "<tr>\n",
       "  <th>const</th> <td>    4.1359</td> <td>    0.074</td> <td>   56.079</td> <td> 0.000</td> <td>    3.989</td> <td>    4.282</td>\n",
       "</tr>\n",
       "<tr>\n",
       "  <th>x1</th>    <td>    4.9113</td> <td>    0.099</td> <td>   49.507</td> <td> 0.000</td> <td>    4.714</td> <td>    5.108</td>\n",
       "</tr>\n",
       "<tr>\n",
       "  <th>A</th>     <td>   -3.1340</td> <td>    0.133</td> <td>  -23.565</td> <td> 0.000</td> <td>   -3.398</td> <td>   -2.870</td>\n",
       "</tr>\n",
       "<tr>\n",
       "  <th>B</th>     <td>    1.0907</td> <td>    0.136</td> <td>    8.028</td> <td> 0.000</td> <td>    0.821</td> <td>    1.360</td>\n",
       "</tr>\n",
       "<tr>\n",
       "  <th>C</th>     <td>    6.1791</td> <td>    0.150</td> <td>   41.092</td> <td> 0.000</td> <td>    5.881</td> <td>    6.478</td>\n",
       "</tr>\n",
       "</table>\n",
       "<table class=\"simpletable\">\n",
       "<tr>\n",
       "  <th>Omnibus:</th>       <td> 0.098</td> <th>  Durbin-Watson:     </th> <td>   2.199</td>\n",
       "</tr>\n",
       "<tr>\n",
       "  <th>Prob(Omnibus):</th> <td> 0.952</td> <th>  Jarque-Bera (JB):  </th> <td>   0.268</td>\n",
       "</tr>\n",
       "<tr>\n",
       "  <th>Skew:</th>          <td>-0.029</td> <th>  Prob(JB):          </th> <td>   0.875</td>\n",
       "</tr>\n",
       "<tr>\n",
       "  <th>Kurtosis:</th>      <td> 2.753</td> <th>  Cond. No.          </th> <td>1.27e+16</td>\n",
       "</tr>\n",
       "</table><br/><br/>Notes:<br/>[1] Standard Errors assume that the covariance matrix of the errors is correctly specified.<br/>[2] The smallest eigenvalue is 8.77e-31. This might indicate that there are<br/>strong multicollinearity problems or that the design matrix is singular."
      ],
      "text/plain": [
       "<class 'statsmodels.iolib.summary.Summary'>\n",
       "\"\"\"\n",
       "                            OLS Regression Results                            \n",
       "==============================================================================\n",
       "Dep. Variable:                      y   R-squared:                       0.973\n",
       "Model:                            OLS   Adj. R-squared:                  0.972\n",
       "Method:                 Least Squares   F-statistic:                     1148.\n",
       "Date:                Thu, 22 Sep 2022   Prob (F-statistic):           4.80e-75\n",
       "Time:                        20:02:44   Log-Likelihood:                -135.57\n",
       "No. Observations:                 100   AIC:                             279.1\n",
       "Df Residuals:                      96   BIC:                             289.6\n",
       "Df Model:                           3                                         \n",
       "Covariance Type:            nonrobust                                         \n",
       "==============================================================================\n",
       "                 coef    std err          t      P>|t|      [0.025      0.975]\n",
       "------------------------------------------------------------------------------\n",
       "const          4.1359      0.074     56.079      0.000       3.989       4.282\n",
       "x1             4.9113      0.099     49.507      0.000       4.714       5.108\n",
       "A             -3.1340      0.133    -23.565      0.000      -3.398      -2.870\n",
       "B              1.0907      0.136      8.028      0.000       0.821       1.360\n",
       "C              6.1791      0.150     41.092      0.000       5.881       6.478\n",
       "==============================================================================\n",
       "Omnibus:                        0.098   Durbin-Watson:                   2.199\n",
       "Prob(Omnibus):                  0.952   Jarque-Bera (JB):                0.268\n",
       "Skew:                          -0.029   Prob(JB):                        0.875\n",
       "Kurtosis:                       2.753   Cond. No.                     1.27e+16\n",
       "==============================================================================\n",
       "\n",
       "Notes:\n",
       "[1] Standard Errors assume that the covariance matrix of the errors is correctly specified.\n",
       "[2] The smallest eigenvalue is 8.77e-31. This might indicate that there are\n",
       "strong multicollinearity problems or that the design matrix is singular.\n",
       "\"\"\""
      ]
     },
     "execution_count": 32,
     "metadata": {},
     "output_type": "execute_result"
    }
   ],
   "source": [
    "X = sm.add_constant(teste_mv_cat[['x1', 'A' , 'B', 'C']])\n",
    "Y = teste_mv_cat['y']\n",
    "modelo = sm.OLS(Y, X)\n",
    "lm_fit = modelo.fit()\n",
    "lm_fit.summary()"
   ]
  },
  {
   "cell_type": "code",
   "execution_count": 33,
   "id": "151f0647",
   "metadata": {},
   "outputs": [
    {
     "data": {
      "image/png": "[encoded data removed]",
      "text/plain": [
       "<Figure size 432x288 with 1 Axes>"
      ]
     },
     "metadata": {
      "needs_background": "light"
     },
     "output_type": "display_data"
    }
   ],
   "source": [
    "sns.boxplot(data = teste_mv_cat, x = 'categoria', y = 'y');"
   ]
  },
  {
   "cell_type": "markdown",
   "id": "e7cac792",
   "metadata": {},
   "source": [
    "A nota 2 do resultado da StatsModels nos diz que temos um problema: nossos dados tem colinearidades! As variáveis dummy **A**, **B** e **C** não são **independentes** - tendo 2 podemos calcular a última.\n",
    "\n",
    "Neste caso, o problema pode ser resolvido removendo um dos níveis da variável categórica:"
   ]
  },
  {
   "cell_type": "code",
   "execution_count": 34,
   "id": "5ac74e46",
   "metadata": {
    "ExecuteTime": {
     "end_time": "2022-03-05T12:41:55.713480Z",
     "start_time": "2022-03-05T12:41:55.689522Z"
    }
   },
   "outputs": [
    {
     "data": {
      "text/html": [
       "<table class=\"simpletable\">\n",
       "<caption>OLS Regression Results</caption>\n",
       "<tr>\n",
       "  <th>Dep. Variable:</th>            <td>y</td>        <th>  R-squared:         </th> <td>   0.973</td>\n",
       "</tr>\n",
       "<tr>\n",
       "  <th>Model:</th>                   <td>OLS</td>       <th>  Adj. R-squared:    </th> <td>   0.972</td>\n",
       "</tr>\n",
       "<tr>\n",
       "  <th>Method:</th>             <td>Least Squares</td>  <th>  F-statistic:       </th> <td>   1148.</td>\n",
       "</tr>\n",
       "<tr>\n",
       "  <th>Date:</th>             <td>Thu, 22 Sep 2022</td> <th>  Prob (F-statistic):</th> <td>4.80e-75</td>\n",
       "</tr>\n",
       "<tr>\n",
       "  <th>Time:</th>                 <td>20:08:56</td>     <th>  Log-Likelihood:    </th> <td> -135.57</td>\n",
       "</tr>\n",
       "<tr>\n",
       "  <th>No. Observations:</th>      <td>   100</td>      <th>  AIC:               </th> <td>   279.1</td>\n",
       "</tr>\n",
       "<tr>\n",
       "  <th>Df Residuals:</th>          <td>    96</td>      <th>  BIC:               </th> <td>   289.6</td>\n",
       "</tr>\n",
       "<tr>\n",
       "  <th>Df Model:</th>              <td>     3</td>      <th>                     </th>     <td> </td>   \n",
       "</tr>\n",
       "<tr>\n",
       "  <th>Covariance Type:</th>      <td>nonrobust</td>    <th>                     </th>     <td> </td>   \n",
       "</tr>\n",
       "</table>\n",
       "<table class=\"simpletable\">\n",
       "<tr>\n",
       "    <td></td>       <th>coef</th>     <th>std err</th>      <th>t</th>      <th>P>|t|</th>  <th>[0.025</th>    <th>0.975]</th>  \n",
       "</tr>\n",
       "<tr>\n",
       "  <th>const</th> <td>   10.3150</td> <td>    0.187</td> <td>   55.250</td> <td> 0.000</td> <td>    9.944</td> <td>   10.686</td>\n",
       "</tr>\n",
       "<tr>\n",
       "  <th>x1</th>    <td>    4.9113</td> <td>    0.099</td> <td>   49.507</td> <td> 0.000</td> <td>    4.714</td> <td>    5.108</td>\n",
       "</tr>\n",
       "<tr>\n",
       "  <th>B</th>     <td>   -5.0884</td> <td>    0.246</td> <td>  -20.644</td> <td> 0.000</td> <td>   -5.578</td> <td>   -4.599</td>\n",
       "</tr>\n",
       "<tr>\n",
       "  <th>A</th>     <td>   -9.3131</td> <td>    0.243</td> <td>  -38.329</td> <td> 0.000</td> <td>   -9.795</td> <td>   -8.831</td>\n",
       "</tr>\n",
       "</table>\n",
       "<table class=\"simpletable\">\n",
       "<tr>\n",
       "  <th>Omnibus:</th>       <td> 0.098</td> <th>  Durbin-Watson:     </th> <td>   2.199</td>\n",
       "</tr>\n",
       "<tr>\n",
       "  <th>Prob(Omnibus):</th> <td> 0.952</td> <th>  Jarque-Bera (JB):  </th> <td>   0.268</td>\n",
       "</tr>\n",
       "<tr>\n",
       "  <th>Skew:</th>          <td>-0.029</td> <th>  Prob(JB):          </th> <td>   0.875</td>\n",
       "</tr>\n",
       "<tr>\n",
       "  <th>Kurtosis:</th>      <td> 2.753</td> <th>  Cond. No.          </th> <td>    4.25</td>\n",
       "</tr>\n",
       "</table><br/><br/>Notes:<br/>[1] Standard Errors assume that the covariance matrix of the errors is correctly specified."
      ],
      "text/plain": [
       "<class 'statsmodels.iolib.summary.Summary'>\n",
       "\"\"\"\n",
       "                            OLS Regression Results                            \n",
       "==============================================================================\n",
       "Dep. Variable:                      y   R-squared:                       0.973\n",
       "Model:                            OLS   Adj. R-squared:                  0.972\n",
       "Method:                 Least Squares   F-statistic:                     1148.\n",
       "Date:                Thu, 22 Sep 2022   Prob (F-statistic):           4.80e-75\n",
       "Time:                        20:08:56   Log-Likelihood:                -135.57\n",
       "No. Observations:                 100   AIC:                             279.1\n",
       "Df Residuals:                      96   BIC:                             289.6\n",
       "Df Model:                           3                                         \n",
       "Covariance Type:            nonrobust                                         \n",
       "==============================================================================\n",
       "                 coef    std err          t      P>|t|      [0.025      0.975]\n",
       "------------------------------------------------------------------------------\n",
       "const         10.3150      0.187     55.250      0.000       9.944      10.686\n",
       "x1             4.9113      0.099     49.507      0.000       4.714       5.108\n",
       "B             -5.0884      0.246    -20.644      0.000      -5.578      -4.599\n",
       "A             -9.3131      0.243    -38.329      0.000      -9.795      -8.831\n",
       "==============================================================================\n",
       "Omnibus:                        0.098   Durbin-Watson:                   2.199\n",
       "Prob(Omnibus):                  0.952   Jarque-Bera (JB):                0.268\n",
       "Skew:                          -0.029   Prob(JB):                        0.875\n",
       "Kurtosis:                       2.753   Cond. No.                         4.25\n",
       "==============================================================================\n",
       "\n",
       "Notes:\n",
       "[1] Standard Errors assume that the covariance matrix of the errors is correctly specified.\n",
       "\"\"\""
      ]
     },
     "execution_count": 34,
     "metadata": {},
     "output_type": "execute_result"
    }
   ],
   "source": [
    "X = sm.add_constant(teste_mv_cat[['x1', 'B', 'A']])\n",
    "Y = teste_mv_cat['y']\n",
    "modelo = sm.OLS(Y, X)\n",
    "lm_fit = modelo.fit()\n",
    "lm_fit.summary()"
   ]
  },
  {
   "cell_type": "code",
   "execution_count": 35,
   "id": "2686fc3f",
   "metadata": {},
   "outputs": [],
   "source": [
    "teste_mv_cat['pred'] = lm_fit.predict(sm.add_constant(teste_mv_cat[['x1', 'B', 'A']]))"
   ]
  },
  {
   "cell_type": "code",
   "execution_count": 36,
   "id": "eac1e6c6",
   "metadata": {},
   "outputs": [
    {
     "data": {
      "text/plain": [
       "<AxesSubplot:xlabel='categoria', ylabel='pred'>"
      ]
     },
     "execution_count": 36,
     "metadata": {},
     "output_type": "execute_result"
    },
    {
     "data": {
      "image/png": "[encoded data removed]",
      "text/plain": [
       "<Figure size 432x288 with 1 Axes>"
      ]
     },
     "metadata": {
      "needs_background": "light"
     },
     "output_type": "display_data"
    }
   ],
   "source": [
    "sns.boxplot(data = teste_mv_cat, x = 'categoria', y = 'pred')"
   ]
  },
  {
   "cell_type": "code",
   "execution_count": 37,
   "id": "64176a25",
   "metadata": {},
   "outputs": [
    {
     "data": {
      "text/plain": [
       "<AxesSubplot:xlabel='categoria', ylabel='y'>"
      ]
     },
     "execution_count": 37,
     "metadata": {},
     "output_type": "execute_result"
    },
    {
     "data": {
      "image/png": "[encoded data removed]",
      "text/plain": [
       "<Figure size 432x288 with 1 Axes>"
      ]
     },
     "metadata": {
      "needs_background": "light"
     },
     "output_type": "display_data"
    }
   ],
   "source": [
    "sns.boxplot(data = teste_mv_cat, x = 'categoria', y = 'y')"
   ]
  },
  {
   "cell_type": "code",
   "execution_count": 40,
   "id": "3367f919",
   "metadata": {},
   "outputs": [
    {
     "data": {
      "text/plain": [
       "<AxesSubplot:xlabel='x1', ylabel='y'>"
      ]
     },
     "execution_count": 40,
     "metadata": {},
     "output_type": "execute_result"
    },
    {
     "data": {
      "image/png": "[encoded data removed]",
      "text/plain": [
       "<Figure size 432x288 with 1 Axes>"
      ]
     },
     "metadata": {
      "needs_background": "light"
     },
     "output_type": "display_data"
    }
   ],
   "source": [
    "sns.scatterplot(data = teste_mv_cat, x = 'x1', y = 'y', hue = 'categoria')\n",
    "sns.lineplot(data = teste_mv_cat, x = 'x1', y = 'pred', hue = 'categoria')"
   ]
  },
  {
   "cell_type": "code",
   "execution_count": 41,
   "id": "cfa89fed",
   "metadata": {},
   "outputs": [
    {
     "data": {
      "text/html": [
       "<div>\n",
       "<style scoped>\n",
       "    .dataframe tbody tr th:only-of-type {\n",
       "        vertical-align: middle;\n",
       "    }\n",
       "\n",
       "    .dataframe tbody tr th {\n",
       "        vertical-align: top;\n",
       "    }\n",
       "\n",
       "    .dataframe thead th {\n",
       "        text-align: right;\n",
       "    }\n",
       "</style>\n",
       "<table border=\"1\" class=\"dataframe\">\n",
       "  <thead>\n",
       "    <tr style=\"text-align: right;\">\n",
       "      <th></th>\n",
       "      <th>B</th>\n",
       "      <th>C</th>\n",
       "    </tr>\n",
       "  </thead>\n",
       "  <tbody>\n",
       "    <tr>\n",
       "      <th>0</th>\n",
       "      <td>1</td>\n",
       "      <td>0</td>\n",
       "    </tr>\n",
       "    <tr>\n",
       "      <th>1</th>\n",
       "      <td>0</td>\n",
       "      <td>0</td>\n",
       "    </tr>\n",
       "    <tr>\n",
       "      <th>2</th>\n",
       "      <td>0</td>\n",
       "      <td>1</td>\n",
       "    </tr>\n",
       "    <tr>\n",
       "      <th>3</th>\n",
       "      <td>0</td>\n",
       "      <td>0</td>\n",
       "    </tr>\n",
       "    <tr>\n",
       "      <th>4</th>\n",
       "      <td>0</td>\n",
       "      <td>0</td>\n",
       "    </tr>\n",
       "    <tr>\n",
       "      <th>...</th>\n",
       "      <td>...</td>\n",
       "      <td>...</td>\n",
       "    </tr>\n",
       "    <tr>\n",
       "      <th>95</th>\n",
       "      <td>0</td>\n",
       "      <td>1</td>\n",
       "    </tr>\n",
       "    <tr>\n",
       "      <th>96</th>\n",
       "      <td>0</td>\n",
       "      <td>1</td>\n",
       "    </tr>\n",
       "    <tr>\n",
       "      <th>97</th>\n",
       "      <td>0</td>\n",
       "      <td>0</td>\n",
       "    </tr>\n",
       "    <tr>\n",
       "      <th>98</th>\n",
       "      <td>1</td>\n",
       "      <td>0</td>\n",
       "    </tr>\n",
       "    <tr>\n",
       "      <th>99</th>\n",
       "      <td>0</td>\n",
       "      <td>1</td>\n",
       "    </tr>\n",
       "  </tbody>\n",
       "</table>\n",
       "<p>100 rows × 2 columns</p>\n",
       "</div>"
      ],
      "text/plain": [
       "    B  C\n",
       "0   1  0\n",
       "1   0  0\n",
       "2   0  1\n",
       "3   0  0\n",
       "4   0  0\n",
       ".. .. ..\n",
       "95  0  1\n",
       "96  0  1\n",
       "97  0  0\n",
       "98  1  0\n",
       "99  0  1\n",
       "\n",
       "[100 rows x 2 columns]"
      ]
     },
     "execution_count": 41,
     "metadata": {},
     "output_type": "execute_result"
    }
   ],
   "source": [
    "pd.get_dummies(teste_mv_cat['categoria'], drop_first = True)"
   ]
  },
  {
   "cell_type": "markdown",
   "id": "0af1616d",
   "metadata": {},
   "source": [
    "Como podemos interpretar o modelo acima a luz da exclusão da variável dummy de A?"
   ]
  },
  {
   "cell_type": "markdown",
   "id": "0f87b3c4",
   "metadata": {},
   "source": [
    "# Voltamos 20h20"
   ]
  },
  {
   "cell_type": "markdown",
   "id": "cafaab75",
   "metadata": {},
   "source": [
    "## Dados Reais\n",
    "\n",
    "Vamos utilizar um conjunto de dados com valores de seguro cobrado por operadoras americanas. O objetivo deste dataset é ser uma introdução à regressão múltipla.\n"
   ]
  },
  {
   "cell_type": "code",
   "execution_count": 42,
   "id": "a569b260",
   "metadata": {
    "ExecuteTime": {
     "end_time": "2022-03-08T22:45:39.872402Z",
     "start_time": "2022-03-08T22:45:39.851456Z"
    }
   },
   "outputs": [
    {
     "ename": "FileNotFoundError",
     "evalue": "[Errno 2] No such file or directory: 'data/tb_insurance.csv'",
     "output_type": "error",
     "traceback": [
      "\u001b[0;31m---------------------------------------------------------------------------\u001b[0m",
      "\u001b[0;31mFileNotFoundError\u001b[0m                         Traceback (most recent call last)",
      "Input \u001b[0;32mIn [42]\u001b[0m, in \u001b[0;36m<cell line: 1>\u001b[0;34m()\u001b[0m\n\u001b[0;32m----> 1\u001b[0m tb_insu \u001b[38;5;241m=\u001b[39m \u001b[43mpd\u001b[49m\u001b[38;5;241;43m.\u001b[39;49m\u001b[43mread_csv\u001b[49m\u001b[43m(\u001b[49m\u001b[38;5;124;43m'\u001b[39;49m\u001b[38;5;124;43mdata/tb_insurance.csv\u001b[39;49m\u001b[38;5;124;43m'\u001b[39;49m\u001b[43m)\u001b[49m\n",
      "File \u001b[0;32m~/opt/anaconda3/lib/python3.9/site-packages/pandas/util/_decorators.py:311\u001b[0m, in \u001b[0;36mdeprecate_nonkeyword_arguments.<locals>.decorate.<locals>.wrapper\u001b[0;34m(*args, **kwargs)\u001b[0m\n\u001b[1;32m    305\u001b[0m \u001b[38;5;28;01mif\u001b[39;00m \u001b[38;5;28mlen\u001b[39m(args) \u001b[38;5;241m>\u001b[39m num_allow_args:\n\u001b[1;32m    306\u001b[0m     warnings\u001b[38;5;241m.\u001b[39mwarn(\n\u001b[1;32m    307\u001b[0m         msg\u001b[38;5;241m.\u001b[39mformat(arguments\u001b[38;5;241m=\u001b[39marguments),\n\u001b[1;32m    308\u001b[0m         \u001b[38;5;167;01mFutureWarning\u001b[39;00m,\n\u001b[1;32m    309\u001b[0m         stacklevel\u001b[38;5;241m=\u001b[39mstacklevel,\n\u001b[1;32m    310\u001b[0m     )\n\u001b[0;32m--> 311\u001b[0m \u001b[38;5;28;01mreturn\u001b[39;00m \u001b[43mfunc\u001b[49m\u001b[43m(\u001b[49m\u001b[38;5;241;43m*\u001b[39;49m\u001b[43margs\u001b[49m\u001b[43m,\u001b[49m\u001b[43m \u001b[49m\u001b[38;5;241;43m*\u001b[39;49m\u001b[38;5;241;43m*\u001b[39;49m\u001b[43mkwargs\u001b[49m\u001b[43m)\u001b[49m\n",
      "File \u001b[0;32m~/opt/anaconda3/lib/python3.9/site-packages/pandas/io/parsers/readers.py:680\u001b[0m, in \u001b[0;36mread_csv\u001b[0;34m(filepath_or_buffer, sep, delimiter, header, names, index_col, usecols, squeeze, prefix, mangle_dupe_cols, dtype, engine, converters, true_values, false_values, skipinitialspace, skiprows, skipfooter, nrows, na_values, keep_default_na, na_filter, verbose, skip_blank_lines, parse_dates, infer_datetime_format, keep_date_col, date_parser, dayfirst, cache_dates, iterator, chunksize, compression, thousands, decimal, lineterminator, quotechar, quoting, doublequote, escapechar, comment, encoding, encoding_errors, dialect, error_bad_lines, warn_bad_lines, on_bad_lines, delim_whitespace, low_memory, memory_map, float_precision, storage_options)\u001b[0m\n\u001b[1;32m    665\u001b[0m kwds_defaults \u001b[38;5;241m=\u001b[39m _refine_defaults_read(\n\u001b[1;32m    666\u001b[0m     dialect,\n\u001b[1;32m    667\u001b[0m     delimiter,\n\u001b[0;32m   (...)\u001b[0m\n\u001b[1;32m    676\u001b[0m     defaults\u001b[38;5;241m=\u001b[39m{\u001b[38;5;124m\"\u001b[39m\u001b[38;5;124mdelimiter\u001b[39m\u001b[38;5;124m\"\u001b[39m: \u001b[38;5;124m\"\u001b[39m\u001b[38;5;124m,\u001b[39m\u001b[38;5;124m\"\u001b[39m},\n\u001b[1;32m    677\u001b[0m )\n\u001b[1;32m    678\u001b[0m kwds\u001b[38;5;241m.\u001b[39mupdate(kwds_defaults)\n\u001b[0;32m--> 680\u001b[0m \u001b[38;5;28;01mreturn\u001b[39;00m \u001b[43m_read\u001b[49m\u001b[43m(\u001b[49m\u001b[43mfilepath_or_buffer\u001b[49m\u001b[43m,\u001b[49m\u001b[43m \u001b[49m\u001b[43mkwds\u001b[49m\u001b[43m)\u001b[49m\n",
      "File \u001b[0;32m~/opt/anaconda3/lib/python3.9/site-packages/pandas/io/parsers/readers.py:575\u001b[0m, in \u001b[0;36m_read\u001b[0;34m(filepath_or_buffer, kwds)\u001b[0m\n\u001b[1;32m    572\u001b[0m _validate_names(kwds\u001b[38;5;241m.\u001b[39mget(\u001b[38;5;124m\"\u001b[39m\u001b[38;5;124mnames\u001b[39m\u001b[38;5;124m\"\u001b[39m, \u001b[38;5;28;01mNone\u001b[39;00m))\n\u001b[1;32m    574\u001b[0m \u001b[38;5;66;03m# Create the parser.\u001b[39;00m\n\u001b[0;32m--> 575\u001b[0m parser \u001b[38;5;241m=\u001b[39m \u001b[43mTextFileReader\u001b[49m\u001b[43m(\u001b[49m\u001b[43mfilepath_or_buffer\u001b[49m\u001b[43m,\u001b[49m\u001b[43m \u001b[49m\u001b[38;5;241;43m*\u001b[39;49m\u001b[38;5;241;43m*\u001b[39;49m\u001b[43mkwds\u001b[49m\u001b[43m)\u001b[49m\n\u001b[1;32m    577\u001b[0m \u001b[38;5;28;01mif\u001b[39;00m chunksize \u001b[38;5;129;01mor\u001b[39;00m iterator:\n\u001b[1;32m    578\u001b[0m     \u001b[38;5;28;01mreturn\u001b[39;00m parser\n",
      "File \u001b[0;32m~/opt/anaconda3/lib/python3.9/site-packages/pandas/io/parsers/readers.py:933\u001b[0m, in \u001b[0;36mTextFileReader.__init__\u001b[0;34m(self, f, engine, **kwds)\u001b[0m\n\u001b[1;32m    930\u001b[0m     \u001b[38;5;28mself\u001b[39m\u001b[38;5;241m.\u001b[39moptions[\u001b[38;5;124m\"\u001b[39m\u001b[38;5;124mhas_index_names\u001b[39m\u001b[38;5;124m\"\u001b[39m] \u001b[38;5;241m=\u001b[39m kwds[\u001b[38;5;124m\"\u001b[39m\u001b[38;5;124mhas_index_names\u001b[39m\u001b[38;5;124m\"\u001b[39m]\n\u001b[1;32m    932\u001b[0m \u001b[38;5;28mself\u001b[39m\u001b[38;5;241m.\u001b[39mhandles: IOHandles \u001b[38;5;241m|\u001b[39m \u001b[38;5;28;01mNone\u001b[39;00m \u001b[38;5;241m=\u001b[39m \u001b[38;5;28;01mNone\u001b[39;00m\n\u001b[0;32m--> 933\u001b[0m \u001b[38;5;28mself\u001b[39m\u001b[38;5;241m.\u001b[39m_engine \u001b[38;5;241m=\u001b[39m \u001b[38;5;28;43mself\u001b[39;49m\u001b[38;5;241;43m.\u001b[39;49m\u001b[43m_make_engine\u001b[49m\u001b[43m(\u001b[49m\u001b[43mf\u001b[49m\u001b[43m,\u001b[49m\u001b[43m \u001b[49m\u001b[38;5;28;43mself\u001b[39;49m\u001b[38;5;241;43m.\u001b[39;49m\u001b[43mengine\u001b[49m\u001b[43m)\u001b[49m\n",
      "File \u001b[0;32m~/opt/anaconda3/lib/python3.9/site-packages/pandas/io/parsers/readers.py:1217\u001b[0m, in \u001b[0;36mTextFileReader._make_engine\u001b[0;34m(self, f, engine)\u001b[0m\n\u001b[1;32m   1213\u001b[0m     mode \u001b[38;5;241m=\u001b[39m \u001b[38;5;124m\"\u001b[39m\u001b[38;5;124mrb\u001b[39m\u001b[38;5;124m\"\u001b[39m\n\u001b[1;32m   1214\u001b[0m \u001b[38;5;66;03m# error: No overload variant of \"get_handle\" matches argument types\u001b[39;00m\n\u001b[1;32m   1215\u001b[0m \u001b[38;5;66;03m# \"Union[str, PathLike[str], ReadCsvBuffer[bytes], ReadCsvBuffer[str]]\"\u001b[39;00m\n\u001b[1;32m   1216\u001b[0m \u001b[38;5;66;03m# , \"str\", \"bool\", \"Any\", \"Any\", \"Any\", \"Any\", \"Any\"\u001b[39;00m\n\u001b[0;32m-> 1217\u001b[0m \u001b[38;5;28mself\u001b[39m\u001b[38;5;241m.\u001b[39mhandles \u001b[38;5;241m=\u001b[39m \u001b[43mget_handle\u001b[49m\u001b[43m(\u001b[49m\u001b[43m  \u001b[49m\u001b[38;5;66;43;03m# type: ignore[call-overload]\u001b[39;49;00m\n\u001b[1;32m   1218\u001b[0m \u001b[43m    \u001b[49m\u001b[43mf\u001b[49m\u001b[43m,\u001b[49m\n\u001b[1;32m   1219\u001b[0m \u001b[43m    \u001b[49m\u001b[43mmode\u001b[49m\u001b[43m,\u001b[49m\n\u001b[1;32m   1220\u001b[0m \u001b[43m    \u001b[49m\u001b[43mencoding\u001b[49m\u001b[38;5;241;43m=\u001b[39;49m\u001b[38;5;28;43mself\u001b[39;49m\u001b[38;5;241;43m.\u001b[39;49m\u001b[43moptions\u001b[49m\u001b[38;5;241;43m.\u001b[39;49m\u001b[43mget\u001b[49m\u001b[43m(\u001b[49m\u001b[38;5;124;43m\"\u001b[39;49m\u001b[38;5;124;43mencoding\u001b[39;49m\u001b[38;5;124;43m\"\u001b[39;49m\u001b[43m,\u001b[49m\u001b[43m \u001b[49m\u001b[38;5;28;43;01mNone\u001b[39;49;00m\u001b[43m)\u001b[49m\u001b[43m,\u001b[49m\n\u001b[1;32m   1221\u001b[0m \u001b[43m    \u001b[49m\u001b[43mcompression\u001b[49m\u001b[38;5;241;43m=\u001b[39;49m\u001b[38;5;28;43mself\u001b[39;49m\u001b[38;5;241;43m.\u001b[39;49m\u001b[43moptions\u001b[49m\u001b[38;5;241;43m.\u001b[39;49m\u001b[43mget\u001b[49m\u001b[43m(\u001b[49m\u001b[38;5;124;43m\"\u001b[39;49m\u001b[38;5;124;43mcompression\u001b[39;49m\u001b[38;5;124;43m\"\u001b[39;49m\u001b[43m,\u001b[49m\u001b[43m \u001b[49m\u001b[38;5;28;43;01mNone\u001b[39;49;00m\u001b[43m)\u001b[49m\u001b[43m,\u001b[49m\n\u001b[1;32m   1222\u001b[0m \u001b[43m    \u001b[49m\u001b[43mmemory_map\u001b[49m\u001b[38;5;241;43m=\u001b[39;49m\u001b[38;5;28;43mself\u001b[39;49m\u001b[38;5;241;43m.\u001b[39;49m\u001b[43moptions\u001b[49m\u001b[38;5;241;43m.\u001b[39;49m\u001b[43mget\u001b[49m\u001b[43m(\u001b[49m\u001b[38;5;124;43m\"\u001b[39;49m\u001b[38;5;124;43mmemory_map\u001b[39;49m\u001b[38;5;124;43m\"\u001b[39;49m\u001b[43m,\u001b[49m\u001b[43m \u001b[49m\u001b[38;5;28;43;01mFalse\u001b[39;49;00m\u001b[43m)\u001b[49m\u001b[43m,\u001b[49m\n\u001b[1;32m   1223\u001b[0m \u001b[43m    \u001b[49m\u001b[43mis_text\u001b[49m\u001b[38;5;241;43m=\u001b[39;49m\u001b[43mis_text\u001b[49m\u001b[43m,\u001b[49m\n\u001b[1;32m   1224\u001b[0m \u001b[43m    \u001b[49m\u001b[43merrors\u001b[49m\u001b[38;5;241;43m=\u001b[39;49m\u001b[38;5;28;43mself\u001b[39;49m\u001b[38;5;241;43m.\u001b[39;49m\u001b[43moptions\u001b[49m\u001b[38;5;241;43m.\u001b[39;49m\u001b[43mget\u001b[49m\u001b[43m(\u001b[49m\u001b[38;5;124;43m\"\u001b[39;49m\u001b[38;5;124;43mencoding_errors\u001b[39;49m\u001b[38;5;124;43m\"\u001b[39;49m\u001b[43m,\u001b[49m\u001b[43m \u001b[49m\u001b[38;5;124;43m\"\u001b[39;49m\u001b[38;5;124;43mstrict\u001b[39;49m\u001b[38;5;124;43m\"\u001b[39;49m\u001b[43m)\u001b[49m\u001b[43m,\u001b[49m\n\u001b[1;32m   1225\u001b[0m \u001b[43m    \u001b[49m\u001b[43mstorage_options\u001b[49m\u001b[38;5;241;43m=\u001b[39;49m\u001b[38;5;28;43mself\u001b[39;49m\u001b[38;5;241;43m.\u001b[39;49m\u001b[43moptions\u001b[49m\u001b[38;5;241;43m.\u001b[39;49m\u001b[43mget\u001b[49m\u001b[43m(\u001b[49m\u001b[38;5;124;43m\"\u001b[39;49m\u001b[38;5;124;43mstorage_options\u001b[39;49m\u001b[38;5;124;43m\"\u001b[39;49m\u001b[43m,\u001b[49m\u001b[43m \u001b[49m\u001b[38;5;28;43;01mNone\u001b[39;49;00m\u001b[43m)\u001b[49m\u001b[43m,\u001b[49m\n\u001b[1;32m   1226\u001b[0m \u001b[43m\u001b[49m\u001b[43m)\u001b[49m\n\u001b[1;32m   1227\u001b[0m \u001b[38;5;28;01massert\u001b[39;00m \u001b[38;5;28mself\u001b[39m\u001b[38;5;241m.\u001b[39mhandles \u001b[38;5;129;01mis\u001b[39;00m \u001b[38;5;129;01mnot\u001b[39;00m \u001b[38;5;28;01mNone\u001b[39;00m\n\u001b[1;32m   1228\u001b[0m f \u001b[38;5;241m=\u001b[39m \u001b[38;5;28mself\u001b[39m\u001b[38;5;241m.\u001b[39mhandles\u001b[38;5;241m.\u001b[39mhandle\n",
      "File \u001b[0;32m~/opt/anaconda3/lib/python3.9/site-packages/pandas/io/common.py:789\u001b[0m, in \u001b[0;36mget_handle\u001b[0;34m(path_or_buf, mode, encoding, compression, memory_map, is_text, errors, storage_options)\u001b[0m\n\u001b[1;32m    784\u001b[0m \u001b[38;5;28;01melif\u001b[39;00m \u001b[38;5;28misinstance\u001b[39m(handle, \u001b[38;5;28mstr\u001b[39m):\n\u001b[1;32m    785\u001b[0m     \u001b[38;5;66;03m# Check whether the filename is to be opened in binary mode.\u001b[39;00m\n\u001b[1;32m    786\u001b[0m     \u001b[38;5;66;03m# Binary mode does not support 'encoding' and 'newline'.\u001b[39;00m\n\u001b[1;32m    787\u001b[0m     \u001b[38;5;28;01mif\u001b[39;00m ioargs\u001b[38;5;241m.\u001b[39mencoding \u001b[38;5;129;01mand\u001b[39;00m \u001b[38;5;124m\"\u001b[39m\u001b[38;5;124mb\u001b[39m\u001b[38;5;124m\"\u001b[39m \u001b[38;5;129;01mnot\u001b[39;00m \u001b[38;5;129;01min\u001b[39;00m ioargs\u001b[38;5;241m.\u001b[39mmode:\n\u001b[1;32m    788\u001b[0m         \u001b[38;5;66;03m# Encoding\u001b[39;00m\n\u001b[0;32m--> 789\u001b[0m         handle \u001b[38;5;241m=\u001b[39m \u001b[38;5;28;43mopen\u001b[39;49m\u001b[43m(\u001b[49m\n\u001b[1;32m    790\u001b[0m \u001b[43m            \u001b[49m\u001b[43mhandle\u001b[49m\u001b[43m,\u001b[49m\n\u001b[1;32m    791\u001b[0m \u001b[43m            \u001b[49m\u001b[43mioargs\u001b[49m\u001b[38;5;241;43m.\u001b[39;49m\u001b[43mmode\u001b[49m\u001b[43m,\u001b[49m\n\u001b[1;32m    792\u001b[0m \u001b[43m            \u001b[49m\u001b[43mencoding\u001b[49m\u001b[38;5;241;43m=\u001b[39;49m\u001b[43mioargs\u001b[49m\u001b[38;5;241;43m.\u001b[39;49m\u001b[43mencoding\u001b[49m\u001b[43m,\u001b[49m\n\u001b[1;32m    793\u001b[0m \u001b[43m            \u001b[49m\u001b[43merrors\u001b[49m\u001b[38;5;241;43m=\u001b[39;49m\u001b[43merrors\u001b[49m\u001b[43m,\u001b[49m\n\u001b[1;32m    794\u001b[0m \u001b[43m            \u001b[49m\u001b[43mnewline\u001b[49m\u001b[38;5;241;43m=\u001b[39;49m\u001b[38;5;124;43m\"\u001b[39;49m\u001b[38;5;124;43m\"\u001b[39;49m\u001b[43m,\u001b[49m\n\u001b[1;32m    795\u001b[0m \u001b[43m        \u001b[49m\u001b[43m)\u001b[49m\n\u001b[1;32m    796\u001b[0m     \u001b[38;5;28;01melse\u001b[39;00m:\n\u001b[1;32m    797\u001b[0m         \u001b[38;5;66;03m# Binary mode\u001b[39;00m\n\u001b[1;32m    798\u001b[0m         handle \u001b[38;5;241m=\u001b[39m \u001b[38;5;28mopen\u001b[39m(handle, ioargs\u001b[38;5;241m.\u001b[39mmode)\n",
      "\u001b[0;31mFileNotFoundError\u001b[0m: [Errno 2] No such file or directory: 'data/tb_insurance.csv'"
     ]
    }
   ],
   "source": [
    "tb_insu = pd.read_csv('data/tb_insurance.csv')"
   ]
  },
  {
   "cell_type": "code",
   "execution_count": null,
   "id": "e1eac42b",
   "metadata": {
    "ExecuteTime": {
     "end_time": "2022-03-08T22:45:41.914533Z",
     "start_time": "2022-03-08T22:45:41.900569Z"
    }
   },
   "outputs": [],
   "source": [
    "tb_insu.info()"
   ]
  },
  {
   "cell_type": "markdown",
   "id": "81a647d7",
   "metadata": {},
   "source": [
    "## Exploração de Dados"
   ]
  },
  {
   "cell_type": "code",
   "execution_count": null,
   "id": "ab572263",
   "metadata": {
    "ExecuteTime": {
     "end_time": "2022-03-08T22:48:07.864852Z",
     "start_time": "2022-03-08T22:48:05.407325Z"
    }
   },
   "outputs": [],
   "source": [
    "sns.pairplot(tb_insu.select_dtypes(include = 'number'))"
   ]
  },
  {
   "cell_type": "code",
   "execution_count": null,
   "id": "1052bde2",
   "metadata": {
    "ExecuteTime": {
     "end_time": "2022-03-08T22:52:27.990745Z",
     "start_time": "2022-03-08T22:52:27.567522Z"
    }
   },
   "outputs": [],
   "source": [
    "fig, ax = plt.subplots(1,3, figsize = (12,4))\n",
    "sns.boxplot(data = tb_insu, x = 'sex', y = 'expenses', ax=ax[0])\n",
    "sns.boxplot(data = tb_insu, x = 'smoker', y = 'expenses', ax=ax[1])\n",
    "sns.boxplot(data = tb_insu, x = 'region', y = 'expenses', ax=ax[2])"
   ]
  },
  {
   "cell_type": "code",
   "execution_count": null,
   "id": "5dbc4ded",
   "metadata": {
    "ExecuteTime": {
     "end_time": "2022-03-08T23:30:00.747585Z",
     "start_time": "2022-03-08T23:30:00.535153Z"
    }
   },
   "outputs": [],
   "source": [
    "sns.scatterplot(data = tb_insu, x = 'bmi', y = 'expenses', color = 'smoker')"
   ]
  },
  {
   "cell_type": "code",
   "execution_count": null,
   "id": "4e92bc8a",
   "metadata": {
    "ExecuteTime": {
     "end_time": "2022-03-08T23:07:54.074444Z",
     "start_time": "2022-03-08T23:07:53.920517Z"
    }
   },
   "outputs": [],
   "source": [
    "sns.scatterplot(data = tb_insu[tb_insu['smoker']=='yes'], x = 'bmi', y = 'expenses')"
   ]
  },
  {
   "cell_type": "code",
   "execution_count": null,
   "id": "d1ed6496",
   "metadata": {
    "ExecuteTime": {
     "end_time": "2022-03-08T23:10:21.575464Z",
     "start_time": "2022-03-08T23:10:21.381959Z"
    }
   },
   "outputs": [],
   "source": [
    "sns.scatterplot(data = tb_insu[tb_insu['smoker']=='no'], x = 'bmi', y = 'expenses')"
   ]
  },
  {
   "cell_type": "code",
   "execution_count": null,
   "id": "f126e943",
   "metadata": {
    "ExecuteTime": {
     "end_time": "2022-03-08T23:08:57.195957Z",
     "start_time": "2022-03-08T23:08:57.179972Z"
    }
   },
   "outputs": [],
   "source": [
    "min(tb_insu[(tb_insu['smoker']=='yes') & (tb_insu['expenses']>45000)]['bmi'])"
   ]
  },
  {
   "cell_type": "code",
   "execution_count": null,
   "id": "fc660228",
   "metadata": {
    "ExecuteTime": {
     "end_time": "2022-03-08T23:10:04.125712Z",
     "start_time": "2022-03-08T23:10:04.119729Z"
    }
   },
   "outputs": [],
   "source": [
    "tb_insu['obese'] = np.where(tb_insu['bmi'] >= 30, 'yes', 'no')"
   ]
  },
  {
   "cell_type": "code",
   "execution_count": null,
   "id": "45f9e171",
   "metadata": {
    "ExecuteTime": {
     "end_time": "2022-03-08T23:14:39.569813Z",
     "start_time": "2022-03-08T23:14:39.549866Z"
    }
   },
   "outputs": [],
   "source": [
    "tb_insu['children']"
   ]
  },
  {
   "cell_type": "code",
   "execution_count": null,
   "id": "99669522",
   "metadata": {
    "ExecuteTime": {
     "end_time": "2022-03-08T23:16:50.337540Z",
     "start_time": "2022-03-08T23:16:50.328552Z"
    }
   },
   "outputs": [],
   "source": [
    "tb_insu = tb_insu.join(pd.get_dummies(tb_insu['obese'], prefix = 'obese'))\n",
    "tb_insu = tb_insu.join(pd.get_dummies(tb_insu['smoker'], prefix = 'smoker'))"
   ]
  },
  {
   "cell_type": "code",
   "execution_count": null,
   "id": "515bc706",
   "metadata": {
    "ExecuteTime": {
     "end_time": "2022-03-08T23:16:51.279604Z",
     "start_time": "2022-03-08T23:16:51.251679Z"
    }
   },
   "outputs": [],
   "source": [
    "tb_insu"
   ]
  },
  {
   "cell_type": "code",
   "execution_count": null,
   "id": "72c47709",
   "metadata": {
    "ExecuteTime": {
     "end_time": "2022-03-08T23:30:58.060002Z",
     "start_time": "2022-03-08T23:30:58.054016Z"
    }
   },
   "outputs": [],
   "source": [
    "tb_insu['obese_smoker'] = tb_insu['obese_yes'] * tb_insu['smoker_yes']"
   ]
  },
  {
   "cell_type": "code",
   "execution_count": null,
   "id": "f5b15436",
   "metadata": {
    "ExecuteTime": {
     "end_time": "2022-03-08T23:32:13.742906Z",
     "start_time": "2022-03-08T23:32:13.711988Z"
    }
   },
   "outputs": [],
   "source": [
    "sm.add_constant(tb_insu[['obese_smoker', 'age', 'smoker_yes']])"
   ]
  },
  {
   "cell_type": "markdown",
   "id": "0e210ccc",
   "metadata": {},
   "source": [
    "## Criando nossa regressão\n",
    "\n",
    "Vamos utilizar as variáveis que criamos em nosso dataset para construir uma regressão linear para os valores dos seguros."
   ]
  },
  {
   "cell_type": "code",
   "execution_count": null,
   "id": "fa64faa0",
   "metadata": {
    "ExecuteTime": {
     "end_time": "2022-03-08T23:30:58.417850Z",
     "start_time": "2022-03-08T23:30:58.376432Z"
    }
   },
   "outputs": [],
   "source": [
    "X = sm.add_constant(tb_insu[['obese_smoker', 'age', 'smoker_yes']])\n",
    "Y = tb_insu['expenses']\n",
    "modelo = sm.OLS(Y, X)\n",
    "\n",
    "lm_fit = modelo.fit()\n",
    "lm_fit.summary()"
   ]
  },
  {
   "cell_type": "markdown",
   "id": "933a4653",
   "metadata": {},
   "source": [
    "Vamos inserir as previsões do nosso modelo em nossa base de dados para visualizarmos as relações capturadas pela nossa regressão:"
   ]
  },
  {
   "cell_type": "code",
   "execution_count": null,
   "id": "248193e7",
   "metadata": {
    "ExecuteTime": {
     "end_time": "2022-03-08T23:36:50.474170Z",
     "start_time": "2022-03-08T23:36:48.012051Z"
    }
   },
   "outputs": [],
   "source": [
    "tb_insu['lm_pred'] = lm_fit.predict()\n",
    "sns.pairplot(tb_insu[['expenses', 'lm_pred', 'age', 'bmi']])"
   ]
  },
  {
   "cell_type": "code",
   "execution_count": null,
   "id": "d0850328",
   "metadata": {
    "ExecuteTime": {
     "end_time": "2022-03-08T23:44:52.141075Z",
     "start_time": "2022-03-08T23:44:48.051805Z"
    }
   },
   "outputs": [],
   "source": [
    "sns.lineplot(data = tb_insu, x = 'age', y='lm_pred', hue = 'smoker', style = 'obese')\n",
    "sns.scatterplot(data = tb_insu, x = 'age', y='expenses', hue = 'smoker', style = 'obese')"
   ]
  },
  {
   "cell_type": "code",
   "execution_count": null,
   "id": "2dd3338d",
   "metadata": {
    "ExecuteTime": {
     "end_time": "2022-03-08T23:45:41.207707Z",
     "start_time": "2022-03-08T23:45:40.884226Z"
    }
   },
   "outputs": [],
   "source": [
    "sns.scatterplot(data = tb_insu, x = 'bmi', y='expenses', hue = 'smoker', style = 'obese')"
   ]
  },
  {
   "cell_type": "code",
   "execution_count": null,
   "id": "4a6d123d",
   "metadata": {
    "ExecuteTime": {
     "end_time": "2022-03-08T23:45:55.755137Z",
     "start_time": "2022-03-08T23:45:55.436165Z"
    }
   },
   "outputs": [],
   "source": [
    "sns.scatterplot(data = tb_insu, x = 'bmi', y='lm_pred', hue = 'smoker', style = 'obese')"
   ]
  }
 ],
 "metadata": {
  "hide_input": false,
  "kernelspec": {
   "display_name": "Python 3 (ipykernel)",
   "language": "python",
   "name": "python3"
  },
  "language_info": {
   "codemirror_mode": {
    "name": "ipython",
    "version": 3
   },
   "file_extension": ".py",
   "mimetype": "text/x-python",
   "name": "python",
   "nbconvert_exporter": "python",
   "pygments_lexer": "ipython3",
   "version": "3.9.11"
  },
  "toc": {
   "base_numbering": 1,
   "nav_menu": {},
   "number_sections": true,
   "sideBar": true,
   "skip_h1_title": false,
   "title_cell": "Table of Contents",
   "title_sidebar": "Contents",
   "toc_cell": true,
   "toc_position": {
    "height": "calc(100% - 180px)",
    "left": "10px",
    "top": "150px",
    "width": "165px"
   },
   "toc_section_display": true,
   "toc_window_display": true
  },
  "vscode": {
   "interpreter": {
    "hash": "014f4a4a5af8f0104b12c029e500f4146d6d785e8cf714d2a35b7a9514230cd3"
   }
  }
 },
 "nbformat": 4,
 "nbformat_minor": 5
}

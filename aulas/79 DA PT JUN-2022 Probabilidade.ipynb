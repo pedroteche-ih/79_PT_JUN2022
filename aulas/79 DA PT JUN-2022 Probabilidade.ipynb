{
 "cells": [
  {
   "cell_type": "markdown",
   "id": "0326173d",
   "metadata": {
    "toc": true
   },
   "source": [
    "<h1>Table of Contents<span class=\"tocSkip\"></span></h1>\n",
    "<div class=\"toc\"><ul class=\"toc-item\"><li><span><a href=\"#Probabilidade\" data-toc-modified-id=\"Probabilidade-1\"><span class=\"toc-item-num\">1&nbsp;&nbsp;</span>Probabilidade</a></span><ul class=\"toc-item\"><li><span><a href=\"#Espaço-Amostral\" data-toc-modified-id=\"Espaço-Amostral-1.1\"><span class=\"toc-item-num\">1.1&nbsp;&nbsp;</span>Espaço Amostral</a></span></li><li><span><a href=\"#Amostragem\" data-toc-modified-id=\"Amostragem-1.2\"><span class=\"toc-item-num\">1.2&nbsp;&nbsp;</span>Amostragem</a></span></li><li><span><a href=\"#Amostra\" data-toc-modified-id=\"Amostra-1.3\"><span class=\"toc-item-num\">1.3&nbsp;&nbsp;</span>Amostra</a></span></li><li><span><a href=\"#Distribuições-de-Probabilidade\" data-toc-modified-id=\"Distribuições-de-Probabilidade-1.4\"><span class=\"toc-item-num\">1.4&nbsp;&nbsp;</span>Distribuições de Probabilidade</a></span><ul class=\"toc-item\"><li><span><a href=\"#Distribuição-de-Bernoulli\" data-toc-modified-id=\"Distribuição-de-Bernoulli-1.4.1\"><span class=\"toc-item-num\">1.4.1&nbsp;&nbsp;</span>Distribuição de Bernoulli</a></span></li><li><span><a href=\"#Distribuição-Binomial\" data-toc-modified-id=\"Distribuição-Binomial-1.4.2\"><span class=\"toc-item-num\">1.4.2&nbsp;&nbsp;</span>Distribuição Binomial</a></span></li><li><span><a href=\"#Distribuição-Geométrica\" data-toc-modified-id=\"Distribuição-Geométrica-1.4.3\"><span class=\"toc-item-num\">1.4.3&nbsp;&nbsp;</span>Distribuição Geométrica</a></span></li><li><span><a href=\"#Distribuição-de-Poisson\" data-toc-modified-id=\"Distribuição-de-Poisson-1.4.4\"><span class=\"toc-item-num\">1.4.4&nbsp;&nbsp;</span>Distribuição de Poisson</a></span></li><li><span><a href=\"#Distribuição-Exponencial\" data-toc-modified-id=\"Distribuição-Exponencial-1.4.5\"><span class=\"toc-item-num\">1.4.5&nbsp;&nbsp;</span>Distribuição Exponencial</a></span></li><li><span><a href=\"#Teorema-do-Limite-Central\" data-toc-modified-id=\"Teorema-do-Limite-Central-1.4.6\"><span class=\"toc-item-num\">1.4.6&nbsp;&nbsp;</span>Teorema do Limite Central</a></span></li></ul></li></ul></li><li><span><a href=\"#Intervalo-de-Confiaça-e-RMSE\" data-toc-modified-id=\"Intervalo-de-Confiaça-e-RMSE-2\"><span class=\"toc-item-num\">2&nbsp;&nbsp;</span>Intervalo de Confiaça e RMSE</a></span><ul class=\"toc-item\"><li><span><a href=\"#RMSE-e-Complexidade\" data-toc-modified-id=\"RMSE-e-Complexidade-2.1\"><span class=\"toc-item-num\">2.1&nbsp;&nbsp;</span>RMSE e Complexidade</a></span></li></ul></li></ul></div>"
   ]
  },
  {
   "cell_type": "code",
   "execution_count": null,
   "id": "9bbd534b",
   "metadata": {
    "ExecuteTime": {
     "end_time": "2022-03-11T00:33:42.171820Z",
     "start_time": "2022-03-11T00:33:42.160867Z"
    }
   },
   "outputs": [],
   "source": [
    "import numpy as np\n",
    "import scipy as sp\n",
    "import pandas as pd\n",
    "import seaborn as sns\n",
    "import matplotlib.pyplot as plt\n",
    "from collections import Counter\n",
    "\n",
    "sns.set_theme(context=\"notebook\", style=\"darkgrid\", palette=sns.color_palette(\"Set2\"))\n",
    "bc = sns.color_palette(\"Set2\")[0]\n"
   ]
  },
  {
   "cell_type": "markdown",
   "id": "18589366",
   "metadata": {},
   "source": [
    "# Probabilidade\n",
    "\n",
    "Como vimos na aula de estatíticas descritivas, probabilidade é o estudo de fenômenos aleatórios a partir da construção de modelos probabilísticos (no sentido contrário da estatística, que estima modelos probabílisticos a partir de observações/dados).\n",
    "\n",
    "Mas o que são **modelos probabilísticos**? Para entender este conceito, vamos olhar primeiro para alguns conceitos fundamentais em probabilidade: **variáveis aleatórias**, **espaço amostral** e **função de probabilidade**.\n",
    "\n",
    "## V.A. e Espaço Amostral\n",
    "\n",
    "*Uma variável aleatória é uma variável quantitativa, cujo resultado (valor) depende de fatores aleatórios*. Por exemplo, o **resultado** do lance de uma moeda é uma variável aleatória. O espaço amostral é o conjunto de valores que nossa variável aleatória pode assumir: no exemplo da moeda, o espaço amostral é o conjunto `{cara, coroa}`.\n",
    "\n",
    "Vamos representar o espaço amostral acima através de uma lista:"
   ]
  },
  {
   "cell_type": "code",
   "execution_count": null,
   "id": "ead06f29",
   "metadata": {
    "ExecuteTime": {
     "end_time": "2022-03-10T22:41:12.131999Z",
     "start_time": "2022-03-10T22:41:12.123998Z"
    }
   },
   "outputs": [],
   "source": [
    "moeda = [\"cara\", \"coroa\"]\n"
   ]
  },
  {
   "cell_type": "markdown",
   "id": "5436d93e",
   "metadata": {},
   "source": [
    "## Função de Probabilidade\n",
    "\n",
    "A segunda parte de um modelo probabilístico é a **função de probabilidade**: esta função **atribui** à cada elemento do nosso **espaço amostral** uma probabilidade tal que a somatória da probabilidade de todos os eventos de nosso espaço amostra é sempre 1.\n",
    "\n",
    "No nosso exemplo da moeda, caso esta seja justa, a função de probabilidade atribuirá 0,5 ao elemento `cara` e 0,5 ao elemento `coroa`. Vamos utilizar a função `choice()` do submódulo `random` da biblioteca `numpy` para representar nossa função de probabilidade. Esta função nos permite mapear um vetor de probabilidades, através do argumento `p = [...]`, à um espaço amostral:"
   ]
  },
  {
   "cell_type": "code",
   "execution_count": null,
   "id": "a796daca",
   "metadata": {},
   "outputs": [],
   "source": [
    "np.random.choice(moeda, p=[0.5, 0.5])\n"
   ]
  },
  {
   "cell_type": "markdown",
   "id": "a994712d",
   "metadata": {},
   "source": [
    "## Amostragem\n",
    "\n",
    "Toda vez que executamos a função acima estamos **amostrando** nossa variável aleatória, ou seja, estamos *criando* uma observação a partir do nosso modelo probabilístico. Vamos definir duas funções de probabilidade (dois modelos distintos descrevendo duas variáveis aleatórias diferentes): uma para uma moeda justa e outra para uma moeda injusta:"
   ]
  },
  {
   "cell_type": "code",
   "execution_count": null,
   "id": "26d12bc5",
   "metadata": {
    "ExecuteTime": {
     "end_time": "2022-03-10T22:42:21.333929Z",
     "start_time": "2022-03-10T22:42:21.320961Z"
    }
   },
   "outputs": [],
   "source": [
    "def jogar_moeda_justa():\n",
    "    return np.random.choice(moeda)\n"
   ]
  },
  {
   "cell_type": "code",
   "execution_count": null,
   "id": "83347a1c",
   "metadata": {
    "ExecuteTime": {
     "end_time": "2022-03-10T22:42:29.971373Z",
     "start_time": "2022-03-10T22:42:29.951426Z"
    }
   },
   "outputs": [],
   "source": [
    "jogar_moeda_justa()\n"
   ]
  },
  {
   "cell_type": "code",
   "execution_count": null,
   "id": "9942ec6c",
   "metadata": {
    "ExecuteTime": {
     "end_time": "2022-03-10T22:43:50.393011Z",
     "start_time": "2022-03-10T22:43:50.390018Z"
    }
   },
   "outputs": [],
   "source": [
    "def jogar_moeda_injusta():\n",
    "    return np.random.choice(moeda, p=[0.1, 0.9])\n"
   ]
  },
  {
   "cell_type": "code",
   "execution_count": null,
   "id": "d0cbdb86",
   "metadata": {
    "ExecuteTime": {
     "end_time": "2022-03-10T22:43:59.783148Z",
     "start_time": "2022-03-10T22:43:59.772179Z"
    }
   },
   "outputs": [],
   "source": [
    "jogar_moeda_injusta()\n"
   ]
  },
  {
   "cell_type": "markdown",
   "id": "6e080910",
   "metadata": {},
   "source": [
    "## Amostra\n",
    "\n",
    "Uma **amostra** é um conjunto de observações da nossa variável aleatória. Por exemplo, se lançarmos 100 moedas justas, teremos uma amostra de tamanho 100 da nossa variável. Vamos utilizar um `list comprehesion` para simular este processo:"
   ]
  },
  {
   "cell_type": "code",
   "execution_count": null,
   "id": "8b79083b",
   "metadata": {
    "ExecuteTime": {
     "end_time": "2022-03-10T22:45:49.006880Z",
     "start_time": "2022-03-10T22:45:48.985937Z"
    }
   },
   "outputs": [],
   "source": [
    "amostra_100 = [jogar_moeda_injusta() for i in range(100)]\n"
   ]
  },
  {
   "cell_type": "code",
   "execution_count": null,
   "id": "86d8f9f5",
   "metadata": {
    "ExecuteTime": {
     "end_time": "2022-03-10T22:45:53.432948Z",
     "start_time": "2022-03-10T22:45:53.419986Z"
    }
   },
   "outputs": [],
   "source": [
    "amostra_100[0:5]\n"
   ]
  },
  {
   "cell_type": "code",
   "execution_count": null,
   "id": "6564d8e4",
   "metadata": {
    "ExecuteTime": {
     "end_time": "2022-03-10T22:45:57.227886Z",
     "start_time": "2022-03-10T22:45:57.209912Z"
    }
   },
   "outputs": [],
   "source": [
    "from collections import Counter\n"
   ]
  },
  {
   "cell_type": "code",
   "execution_count": null,
   "id": "1bf0062b",
   "metadata": {
    "ExecuteTime": {
     "end_time": "2022-03-10T22:46:01.448612Z",
     "start_time": "2022-03-10T22:46:01.442636Z"
    }
   },
   "outputs": [],
   "source": [
    "Counter(amostra_100)\n"
   ]
  },
  {
   "cell_type": "markdown",
   "id": "952c34ad",
   "metadata": {},
   "source": [
    "## Extendendo Variáveis Aleatórias\n",
    "\n",
    "O exemplo acima trata um tipo de fenômeno aleatório extremamente simples: um lance de moeda. No entanto, podemos construir variáveis aleatórias mais complexas a partir da realização do processo de amostragem. Por exemplo, podemos definir uma variável aleatória para mensurar a probabilidade de ter **N caras** em **M lances de uma moeda justa**.\n",
    "\n",
    "Esta nova função tem um espaço amostral composto por vetores de cara e coroa com **comprimento M** e nos permite medir a probabilidade de observarmos **2 caras em 3 lances de uma moeda justa**. O espaço amostral dessa variável aleatória:\n",
    "\n",
    "```\n",
    "['cara', 'cara', 'cara']\n",
    "\n",
    "['cara', 'cara', 'coroa']\n",
    "['cara', 'coroa', 'cara']\n",
    "['coroa', 'cara', 'cara']\n",
    "\n",
    "['cara', 'coroa', 'coroa']\n",
    "['coroa', 'cara', 'coroa']\n",
    "['coroa', 'coroa', 'cara']\n",
    "\n",
    "['coroa', 'coroa', 'coroa']\n",
    "```\n",
    "\n",
    "Ou seja, nosso espaço amostral contém todos os resultados possíveis de 3 lances de uma moeda justa - e a probabilidade de observar 2 caras em 3 lances de uma moeda justa é 3/8. No exemplo acima fica claro que a construção manual do espaço amostral, mesmo quando ele é simples, é inviável! Temos duas formas de contornar este problema:\n",
    "\n",
    "1. Diversos problemas, como o descrito acima, tem equações que nos permitem calcular, a partir da formulação do problema, a probabilidade de um certo tipo de evento;\n",
    "1. Utilizando amostragem e a **lei dos grandes números**!\n",
    "\n",
    "\n",
    "A **lei dos grandes números** é um teorema fundamental da probabilidade que garante que conforme aumentamos o tamanho de uma amostra a **% de eventos observada converge para a probabilidade daquele evento**!\n",
    "\n",
    "Vamos alavancar o poder computacional e utilizar a função `jogar_moeda_justa()` para ver a **lei dos grandes números** em operação. Primeiro, vamos definir uma nova função de amostragem para nosso novo espaço amostral:"
   ]
  },
  {
   "cell_type": "code",
   "execution_count": null,
   "id": "d5fede8d",
   "metadata": {},
   "outputs": [],
   "source": [
    "def jogar_3_moedas():\n",
    "    evento = [jogar_moeda_justa() for i in range(3)]\n",
    "    return evento\n"
   ]
  },
  {
   "cell_type": "code",
   "execution_count": null,
   "id": "286fbede",
   "metadata": {},
   "outputs": [],
   "source": [
    "jogar_3_moedas()\n"
   ]
  },
  {
   "cell_type": "markdown",
   "id": "a9efdad9",
   "metadata": {},
   "source": [
    "Agora, vamos criar uma função para construir amostras de tamanho fixo:"
   ]
  },
  {
   "cell_type": "code",
   "execution_count": null,
   "id": "72881175",
   "metadata": {},
   "outputs": [],
   "source": [
    "def amostrar_3_moedas(n_amostras):\n",
    "    amostra = [jogar_3_moedas() for i in range(n_amostras)]\n",
    "    return amostra\n"
   ]
  },
  {
   "cell_type": "code",
   "execution_count": null,
   "id": "d74e926a",
   "metadata": {},
   "outputs": [],
   "source": [
    "amostrar_3_moedas(10)\n"
   ]
  },
  {
   "cell_type": "markdown",
   "id": "754073de",
   "metadata": {},
   "source": [
    "Agora vamos construir uma função para calcular a **% de observações com duas caras** para uma dada amostra:"
   ]
  },
  {
   "cell_type": "code",
   "execution_count": null,
   "id": "dfe642f5",
   "metadata": {},
   "outputs": [],
   "source": [
    "def per_2_caras(amostra):\n",
    "    contagem_caras = [evento.count(\"coroa\") for evento in amostra]\n",
    "    return contagem_caras.count(2) / len(amostra)\n"
   ]
  },
  {
   "cell_type": "code",
   "execution_count": null,
   "id": "be8368c8",
   "metadata": {},
   "outputs": [],
   "source": [
    "per_2_caras(amostrar_3_moedas(10))\n"
   ]
  },
  {
   "cell_type": "markdown",
   "id": "49529fe9",
   "metadata": {},
   "source": [
    "Agora vamos criar um loop para calcular **% de observações com duas caras** para amostras de tamanho de 1 à 1000:"
   ]
  },
  {
   "cell_type": "code",
   "execution_count": null,
   "id": "351fd767",
   "metadata": {},
   "outputs": [],
   "source": [
    "per_observada = []\n",
    "for i in range(1, 2001):\n",
    "    per_observada.append(per_2_caras(amostrar_3_moedas(i)))\n"
   ]
  },
  {
   "cell_type": "markdown",
   "id": "df5c7b60",
   "metadata": {},
   "source": [
    "Agora vamos comparar a **% de observações com 2 caras** com a **probabilidade que calculamos** a partir do espaço amostral:"
   ]
  },
  {
   "cell_type": "code",
   "execution_count": null,
   "id": "c863d89f",
   "metadata": {},
   "outputs": [],
   "source": [
    "tb_simul_moeda = pd.DataFrame({\"tx_obs\": per_observada})\n",
    "tb_simul_moeda[\"tam_amostra\"] = range(1, 2001)\n",
    "tb_simul_moeda[\"desvio\"] = np.abs(3 / 8 - tb_simul_moeda[\"tx_obs\"])\n",
    "tb_simul_moeda[\"mm_desvio\"] = tb_simul_moeda[\"desvio\"].rolling(10).mean()\n"
   ]
  },
  {
   "cell_type": "code",
   "execution_count": null,
   "id": "6daa1630",
   "metadata": {},
   "outputs": [],
   "source": [
    "fig, ax = plt.subplots(2, 1, figsize=(10, 8))\n",
    "sns.scatterplot(\n",
    "    data=tb_simul_moeda,\n",
    "    x=\"tam_amostra\",\n",
    "    y=\"desvio\",\n",
    "    alpha=0.8,\n",
    "    s=2,\n",
    "    color=\"black\",\n",
    "    ax=ax[1],\n",
    ")\n",
    "sns.lineplot(data=tb_simul_moeda, x=\"tam_amostra\", y=\"mm_desvio\", color=\"red\", ax=ax[1])\n",
    "sns.scatterplot(\n",
    "    data=tb_simul_moeda,\n",
    "    x=\"tam_amostra\",\n",
    "    y=\"tx_obs\",\n",
    "    alpha=0.8,\n",
    "    s=2,\n",
    "    color=\"black\",\n",
    "    ax=ax[0],\n",
    ")\n",
    "ax[0].axhline(3 / 8, color=\"red\")\n",
    "ax[1].set_ylim(0, 0.3)\n",
    "fig.suptitle(\"Lei dos Grandes Números\")\n"
   ]
  },
  {
   "cell_type": "markdown",
   "id": "077c87eb",
   "metadata": {},
   "source": [
    "## Distribuições de Probabilidade\n",
    "\n",
    "No problema acima, do lance de 3 moedas, poderíamos construir um modelo mais genérico se considerassemos outro espaço amostral: **o # de caras obtidas**. Neste caso nossa variável aleatória teria como espaço amostral os números `0, 1, 2 e 3` e nossa função de probabilidade teria que ser redefinida a partir deste espaço amostral. Neste caso teríamos construído uma **distribuição de probabilidade** bem conhecida!\n",
    "\n",
    "Vários processos analogos ao que construímos acima já foram estudados pela probabilidade. Vamos conhecer algumas **distribuições probabílisticas** famosas, assim como o processo que ela modelam e seu espaço amostral."
   ]
  },
  {
   "cell_type": "markdown",
   "id": "da22084f",
   "metadata": {},
   "source": [
    "### Distribuição de Bernoulli\n",
    "\n",
    "<img src=\"images/bernoulli.jpg\" alt=\"Drawing\" style=\"width: 200px;\"/>\n",
    "\n",
    "**Espaço amostral**: *Booleano*\n",
    "\n",
    "**Parâmetros**: \n",
    "1. *p*: probabilidade de sucesso.\n",
    "\n",
    "A distribuição de Bernoulli é a distribuição de probabilidade mais simples que existe: ela representa o resultado de um **teste binário**, sua função de probabilidade **atribui a cada resultado, uma probabilidade**. O nosso lance de moedas é uma distribuição de Bernoulli!\n",
    "\n",
    "Vamos utilizar a lei dos grandes números para construir amostras representativas de um variável aleatório seguindo uma distribuição de Bernoulli."
   ]
  },
  {
   "cell_type": "code",
   "execution_count": null,
   "id": "02b7979c",
   "metadata": {
    "ExecuteTime": {
     "end_time": "2022-03-10T22:48:08.159798Z",
     "start_time": "2022-03-10T22:48:07.988275Z"
    }
   },
   "outputs": [],
   "source": [
    "TAMANHO_AMOSTRA = 100\n",
    "\n",
    "amostra_justa = [jogar_moeda_justa() for i in range(TAMANHO_AMOSTRA)]\n",
    "amostra_injusta = [jogar_moeda_injusta() for i in range(TAMANHO_AMOSTRA)]\n",
    "\n",
    "tb_justa = pd.DataFrame({\"justa\": dict(Counter(amostra_justa))}) / TAMANHO_AMOSTRA\n",
    "tb_injusta = pd.DataFrame({\"injusta\": dict(Counter(amostra_injusta))}) / TAMANHO_AMOSTRA\n"
   ]
  },
  {
   "cell_type": "code",
   "execution_count": null,
   "id": "64ae0fc0",
   "metadata": {
    "ExecuteTime": {
     "end_time": "2022-03-10T22:48:33.454281Z",
     "start_time": "2022-03-10T22:48:33.326936Z"
    }
   },
   "outputs": [],
   "source": [
    "fig, ax = plt.subplots(1, 2, figsize=(10, 5))\n",
    "sns.barplot(data=tb_justa, x=tb_justa.index, y=\"justa\", ax=ax[0])\n",
    "ax[0].set_title(\"Moeda Justa\")\n",
    "sns.barplot(data=tb_injusta, x=tb_injusta.index, y=\"injusta\", ax=ax[1])\n",
    "ax[1].set_title(\"Moeda Injusta\")\n"
   ]
  },
  {
   "cell_type": "markdown",
   "id": "7c925586",
   "metadata": {},
   "source": [
    "### Distribuição Binomial\n",
    "\n",
    "**Espaço amostral**: *Números Inteiros >= 0* e *<= n*\n",
    "\n",
    "**Parâmetros**: \n",
    "1. *n*: número de testes;\n",
    "1. *p*: probabilidade de sucesso.\n",
    "\n",
    "**Estatísticas Descritivas**:\n",
    "* *Média* $$\\mu = p*n$$\n",
    "* *Desvio Padrão* $$\\sigma = \\sqrt{n * p * (1-p)}$$\n",
    "\n",
    "A distribuição Binomial (inventada pelo mesmo Jacob Bernoulli...) representa a generalização segunda distribuição que simulamos na primeira parte da aula: dada uma série de ***n*** testes de Bernoulli, com probabilidade de sucesso igual à ***p***, qual a chance de observamos ***k*** sucessos?\n",
    "\n",
    "Vamos construir uma função de amostragem para essa generalização:\n",
    "\n"
   ]
  },
  {
   "cell_type": "code",
   "execution_count": null,
   "id": "1c2c2946",
   "metadata": {
    "ExecuteTime": {
     "end_time": "2022-03-10T22:51:20.315674Z",
     "start_time": "2022-03-10T22:51:20.309739Z"
    }
   },
   "outputs": [],
   "source": [
    "def numero_coroa_justa(amostras):\n",
    "    amostra = [jogar_moeda_justa() for i in range(amostras)]\n",
    "    return Counter(amostra)[\"coroa\"]\n"
   ]
  },
  {
   "cell_type": "code",
   "execution_count": null,
   "id": "d4bd23ab",
   "metadata": {
    "ExecuteTime": {
     "end_time": "2022-03-10T22:52:06.791031Z",
     "start_time": "2022-03-10T22:52:06.780048Z"
    }
   },
   "outputs": [],
   "source": [
    "numero_coroa_justa(10)\n"
   ]
  },
  {
   "cell_type": "markdown",
   "id": "dd8e55bf",
   "metadata": {},
   "source": [
    "A função acima retorna o **número de coroas**, *N*, em *M* lances de uma moeda justa. Vamos utilizar essa função para amostrar a distribuição Binomial através de uma `list comprehension`:"
   ]
  },
  {
   "cell_type": "code",
   "execution_count": null,
   "id": "00b62760",
   "metadata": {
    "ExecuteTime": {
     "end_time": "2022-03-10T23:01:51.140250Z",
     "start_time": "2022-03-10T23:01:49.607772Z"
    }
   },
   "outputs": [],
   "source": [
    "amostra_binomial = [numero_coroa_justa(10) for i in range(100)]\n"
   ]
  },
  {
   "cell_type": "code",
   "execution_count": null,
   "id": "8bc40fa8",
   "metadata": {
    "ExecuteTime": {
     "end_time": "2022-03-10T23:01:52.518068Z",
     "start_time": "2022-03-10T23:01:52.514078Z"
    }
   },
   "outputs": [],
   "source": [
    "amostra_binomial[0:6]\n"
   ]
  },
  {
   "cell_type": "code",
   "execution_count": null,
   "id": "85ce3235",
   "metadata": {
    "ExecuteTime": {
     "end_time": "2022-03-10T23:01:53.107676Z",
     "start_time": "2022-03-10T23:01:53.101692Z"
    }
   },
   "outputs": [],
   "source": [
    "contagem_amostra = Counter(amostra_binomial)\n",
    "contagem_amostra\n"
   ]
  },
  {
   "cell_type": "code",
   "execution_count": null,
   "id": "26902a34",
   "metadata": {
    "ExecuteTime": {
     "end_time": "2022-03-10T23:01:53.652762Z",
     "start_time": "2022-03-10T23:01:53.642758Z"
    }
   },
   "outputs": [],
   "source": [
    "contagem_amostra = Counter(amostra_binomial)\n",
    "tb_binom = pd.DataFrame(\n",
    "    {\"num_coroas\": contagem_amostra.keys(), \"num_eventos\": contagem_amostra.values()}\n",
    ")\n",
    "tb_binom[\"prob_medida\"] = tb_binom[\"num_eventos\"] / sum(tb_binom[\"num_eventos\"])\n",
    "tb_binom = tb_binom.sort_values(\"num_coroas\").reset_index(drop=True)\n",
    "tb_binom\n"
   ]
  },
  {
   "cell_type": "code",
   "execution_count": null,
   "id": "0de16c0f",
   "metadata": {
    "ExecuteTime": {
     "end_time": "2022-03-10T23:01:55.556127Z",
     "start_time": "2022-03-10T23:01:55.346103Z"
    }
   },
   "outputs": [],
   "source": [
    "sns.barplot(data=tb_binom, x=\"num_coroas\", y=\"prob_medida\", color=bc)\n"
   ]
  },
  {
   "cell_type": "markdown",
   "id": "87d89be6",
   "metadata": {},
   "source": [
    "Qual a média de uma distribuição **Binomial**, ou seja, em *n* lances de moeda (*p* = 0,5), quantas **coroas** observaremos em **média**?\n",
    "\n",
    "Uma das grandes vantagem de utilizarmos distribuições de probabilidade conhecidas é que suas **funções de probabilidade** são determinadas. Por exemplo, a função de probabilidade de uma Distribuição Binomial é:\n",
    "\n",
    "$$P(k)   = {n \\choose k} p^k (1-p)^{ n-k} \\$$\n",
    "onde \n",
    "$${n \\choose k} = \\frac{n!}{n! (n! - k!)}$$\n",
    "\n",
    "Essa equação nos permite calcular a probabilida precisa (sem efeitos de amostragem) de observar ***k*** sucessos em ***n*** testes de Bernoulli com probabilidade de sucesso igual à ***p***.\n",
    "\n",
    "O nome desta função é **PMF** - *probability mass function*. A **PMF** nos permite, em distribuições discretas, calcular a **função de probabilidade** a partir dos parâmetros da nossa distribuição.\n",
    "\n",
    "Vamos utilizar o submódulo `stats` da biblioteca `scipy` para acessar diretamente funções pré-programadas para diferentes distribuições."
   ]
  },
  {
   "cell_type": "code",
   "execution_count": null,
   "id": "f60cf26b",
   "metadata": {},
   "outputs": [],
   "source": [
    "import scipy as sp\n"
   ]
  },
  {
   "cell_type": "markdown",
   "id": "8bdff046",
   "metadata": {},
   "source": [
    "A função `binom()` nos permite construir uma distribuição binomial dentro do Python. Seus dois argumentos são os parâmetros da Distribuição Binomial (*n* e *p*):"
   ]
  },
  {
   "cell_type": "code",
   "execution_count": null,
   "id": "f5d18317",
   "metadata": {
    "ExecuteTime": {
     "end_time": "2022-03-10T23:01:56.346281Z",
     "start_time": "2022-03-10T23:01:56.329330Z"
    }
   },
   "outputs": [],
   "source": [
    "dist_binomial = sp.stats.binom(10, 0.5)\n"
   ]
  },
  {
   "cell_type": "code",
   "execution_count": null,
   "id": "fedb88ee",
   "metadata": {},
   "outputs": [],
   "source": [
    "dist_binomial\n"
   ]
  },
  {
   "cell_type": "markdown",
   "id": "2a75ff03",
   "metadata": {},
   "source": [
    "A função `binom()` retorna uma objeto do tipo `rv_frozen`: uma variável aleatória (r.v. = *random variable*) com parâmetros (*n* e *p*) fixos ('congelados').\n",
    "\n",
    "Através desse objeto podemos acessar a **PMF** de nossa variável aleatória:"
   ]
  },
  {
   "cell_type": "code",
   "execution_count": null,
   "id": "7ea03332",
   "metadata": {},
   "outputs": [],
   "source": [
    "dist_binomial.pmf(4)\n"
   ]
  },
  {
   "cell_type": "markdown",
   "id": "ddb75625",
   "metadata": {},
   "source": [
    "Vamos utilizar nossa **PMF** para construir um gráfico da nossa distribuição:"
   ]
  },
  {
   "cell_type": "code",
   "execution_count": null,
   "id": "97385df7",
   "metadata": {
    "ExecuteTime": {
     "end_time": "2022-03-10T23:01:57.171494Z",
     "start_time": "2022-03-10T23:01:56.977151Z"
    }
   },
   "outputs": [],
   "source": [
    "x = np.arange(0, 11)\n",
    "y = dist_binomial.pmf(x)\n",
    "sns.barplot(x=x, y=y, color=bc)\n"
   ]
  },
  {
   "cell_type": "markdown",
   "id": "61229c3b",
   "metadata": {},
   "source": [
    "Utilizando a **PMF** podemos comparar como nossa amostra construída acima se compara com a distribuição teórica:"
   ]
  },
  {
   "cell_type": "code",
   "execution_count": null,
   "id": "dde799fd",
   "metadata": {},
   "outputs": [],
   "source": [
    "tb_binom[\"prob_real\"] = tb_binom[\"num_coroas\"].apply(dist_binomial.pmf)\n"
   ]
  },
  {
   "cell_type": "code",
   "execution_count": null,
   "id": "0f9ed28b",
   "metadata": {},
   "outputs": [],
   "source": [
    "sns.barplot(data=tb_binom, x=\"num_coroas\", y=\"prob_medida\", color=bc)\n",
    "sns.pointplot(data=tb_binom, x=\"num_coroas\", y=\"prob_real\", color=\"red\")\n"
   ]
  },
  {
   "cell_type": "markdown",
   "id": "cf209b37",
   "metadata": {},
   "source": [
    "Por fim, podemos utilizar a **PMF** para calcular a **probabilidade cumulativa**: qual a chance de observamos 2 ou menos coroas em 10 lances de uma moeda justa?"
   ]
  },
  {
   "cell_type": "code",
   "execution_count": null,
   "id": "ec3e493a",
   "metadata": {
    "ExecuteTime": {
     "end_time": "2022-03-10T23:01:59.377707Z",
     "start_time": "2022-03-10T23:01:59.365741Z"
    }
   },
   "outputs": [],
   "source": [
    "sum([dist_binomial.pmf(i) for i in [0, 1, 2]])\n"
   ]
  },
  {
   "cell_type": "markdown",
   "id": "df752522",
   "metadata": {},
   "source": [
    "Essa operação é tão comum que temos um nome para esta função: **CDF**, *cumulative distribution function*. Podemos utilizar o método `.cdf()` da nossa variável aleatória para calcular isto:"
   ]
  },
  {
   "cell_type": "code",
   "execution_count": null,
   "id": "839ed474",
   "metadata": {
    "ExecuteTime": {
     "end_time": "2022-03-10T23:02:00.163109Z",
     "start_time": "2022-03-10T23:02:00.146170Z"
    }
   },
   "outputs": [],
   "source": [
    "dist_binomial.cdf(2)\n"
   ]
  },
  {
   "cell_type": "code",
   "execution_count": null,
   "id": "c9298540",
   "metadata": {
    "ExecuteTime": {
     "end_time": "2022-03-10T23:02:00.665765Z",
     "start_time": "2022-03-10T23:02:00.465300Z"
    }
   },
   "outputs": [],
   "source": [
    "x = np.arange(0, 11)\n",
    "y = dist_binomial.cdf(x)\n",
    "sns.barplot(x=x, y=y, color=bc)\n"
   ]
  },
  {
   "cell_type": "markdown",
   "id": "8f539cd6",
   "metadata": {},
   "source": [
    "### Distribuição Geométrica\n",
    "\n",
    "**Espaço amostral**: *Números Inteiros >= 1*\n",
    "\n",
    "**Parâmetros**: \n",
    "1. *p*: probabilidade de sucesso.\n",
    "\n",
    "**Estatísticas Descritivas**:\n",
    "* *Média* $$\\mu = \\frac{1}{p}$$\n",
    "* *Desvio Padrão* $$\\sigma = \\sqrt{\\frac{(1-p)}{p^2}}$$\n",
    "\n",
    "Uma segunda distribuição diretamente ligada à Distribuição de Bernoulli é a **Distribuição Geométrica**. Enquanto a **Binomial** mede a probabilidade de observamos *k* sucessos em *n* testes, a **Geométrica** me a probabilidade de obtermos o *primeiro sucesso* no *k-ésimo* teste.\n",
    "\n",
    "No nosso exemplo da moeda justa, a distribuição **Geométrica** mede a probabilidade de observarmos a primeira *coroa* no primeiro, segundo, terceiro... teste. Vamos construir uma função de amostragem para distribuição geométrica:"
   ]
  },
  {
   "cell_type": "code",
   "execution_count": null,
   "id": "ef389f67",
   "metadata": {
    "ExecuteTime": {
     "end_time": "2022-03-10T23:05:32.864357Z",
     "start_time": "2022-03-10T23:05:32.858371Z"
    }
   },
   "outputs": [],
   "source": [
    "def primeira_coroa_justa():\n",
    "    i = 0\n",
    "    while True:\n",
    "        if jogar_moeda_justa() == \"coroa\":\n",
    "            i += 1\n",
    "            return i\n",
    "        else:\n",
    "            i += 1\n"
   ]
  },
  {
   "cell_type": "code",
   "execution_count": null,
   "id": "a76eef08",
   "metadata": {
    "ExecuteTime": {
     "end_time": "2022-03-10T23:05:42.395042Z",
     "start_time": "2022-03-10T23:05:42.377089Z"
    }
   },
   "outputs": [],
   "source": [
    "primeira_coroa_justa()\n"
   ]
  },
  {
   "cell_type": "markdown",
   "id": "6ad93bb7",
   "metadata": {},
   "source": [
    "Agora vamos utilizar uma `list comprehension` para construir uma amostra dessa distribuição:"
   ]
  },
  {
   "cell_type": "code",
   "execution_count": null,
   "id": "a456ae97",
   "metadata": {
    "ExecuteTime": {
     "end_time": "2022-03-10T23:09:41.695847Z",
     "start_time": "2022-03-10T23:09:41.682882Z"
    }
   },
   "outputs": [],
   "source": [
    "amostra_geo = [primeira_coroa_justa() for i in range(100)]\n"
   ]
  },
  {
   "cell_type": "code",
   "execution_count": null,
   "id": "60e1c9fc",
   "metadata": {
    "ExecuteTime": {
     "end_time": "2022-03-10T23:09:42.081913Z",
     "start_time": "2022-03-10T23:09:42.070875Z"
    }
   },
   "outputs": [],
   "source": [
    "amostra_geo[1:10]\n"
   ]
  },
  {
   "cell_type": "code",
   "execution_count": null,
   "id": "5c2cbca2",
   "metadata": {
    "ExecuteTime": {
     "end_time": "2022-03-10T23:09:42.456163Z",
     "start_time": "2022-03-10T23:09:42.445188Z"
    }
   },
   "outputs": [],
   "source": [
    "contagem_amostra = Counter(amostra_geo)\n",
    "tb_geo = pd.DataFrame(\n",
    "    {\n",
    "        \"num_primeira_coroa\": contagem_amostra.keys(),\n",
    "        \"num_eventos\": contagem_amostra.values(),\n",
    "    }\n",
    ")\n",
    "tb_geo = tb_geo.sort_values(\"num_primeira_coroa\")\n",
    "tb_geo[\"prob_medida\"] = tb_geo[\"num_eventos\"] / sum(tb_geo[\"num_eventos\"])\n",
    "tb_geo\n"
   ]
  },
  {
   "cell_type": "code",
   "execution_count": null,
   "id": "474a3086",
   "metadata": {
    "ExecuteTime": {
     "end_time": "2022-03-10T23:09:43.330975Z",
     "start_time": "2022-03-10T23:09:43.167902Z"
    }
   },
   "outputs": [],
   "source": [
    "sns.barplot(data=tb_geo, x=\"num_primeira_coroa\", y=\"prob_medida\", color=bc)\n"
   ]
  },
  {
   "cell_type": "markdown",
   "id": "b16bac10",
   "metadata": {},
   "source": [
    "A **PMF** da distribuição **Geométrica** é:\n",
    "\n",
    "$$P(k) = (1 - p)^{k-1}p$$\n",
    "\n",
    "e podemos acessa-la através da função `geom()` do submódulo `stats` da biblioteca `scipy`:"
   ]
  },
  {
   "cell_type": "code",
   "execution_count": null,
   "id": "44bf39e4",
   "metadata": {
    "ExecuteTime": {
     "end_time": "2022-03-10T23:09:43.595828Z",
     "start_time": "2022-03-10T23:09:43.585855Z"
    }
   },
   "outputs": [],
   "source": [
    "dist_geom = sp.stats.geom(0.5)\n"
   ]
  },
  {
   "cell_type": "markdown",
   "id": "818f9a7f",
   "metadata": {},
   "source": [
    "Vamos adicionar a coluna `prob_real` a nossa tabela de amostrar para comparar as taxas medidas e as taxas reais:"
   ]
  },
  {
   "cell_type": "code",
   "execution_count": null,
   "id": "386f83e0",
   "metadata": {
    "ExecuteTime": {
     "end_time": "2022-03-10T23:09:45.109731Z",
     "start_time": "2022-03-10T23:09:45.095771Z"
    }
   },
   "outputs": [],
   "source": [
    "tb_geo[\"prob_real\"] = tb_geo[\"num_primeira_coroa\"].apply(dist_geom.pmf)\n"
   ]
  },
  {
   "cell_type": "code",
   "execution_count": null,
   "id": "542567de",
   "metadata": {
    "ExecuteTime": {
     "end_time": "2022-03-10T23:09:45.685256Z",
     "start_time": "2022-03-10T23:09:45.515709Z"
    }
   },
   "outputs": [],
   "source": [
    "sns.barplot(data=tb_geo, x=\"num_primeira_coroa\", y=\"prob_medida\", color=bc)\n",
    "sns.pointplot(data=tb_geo, x=\"num_primeira_coroa\", y=\"prob_real\", color=\"red\")\n"
   ]
  },
  {
   "cell_type": "markdown",
   "id": "8d0ed8f3",
   "metadata": {},
   "source": [
    "### Distribuição de Poisson\n",
    "**ou Finalmente uma distribuição que não foi inventada por um Bernoulli...**\n",
    "\n",
    "<img src=\"images/poisson.jpg\" alt=\"Drawing\" style=\"width: 200px;\"/>\n",
    "\n",
    "**Espaço amostral**: *Números Inteiros >= 0*\n",
    "\n",
    "**Parâmetros**: \n",
    "1. *lambda*: taxa de eventos.\n",
    "\n",
    "**Estatísticas Descritivas**:\n",
    "* *Média* $$\\mu = \\lambda$$\n",
    "* *Desvio Padrão* $$\\sigma = \\sqrt{\\lambda}$$\n",
    "\n",
    "Simone Poisson foi um matemático francês que estudou, entre outras coisas, a probabilidade de convicções erradas na justiça francesa no séc XVIII.\n",
    "\n",
    "A distribuição que ele inventou é um tipo particular de distribuição **Binomial**: binomiais onde o número de testes é altíssimo e a probabilidade de sucesso baixíssima. Antes da popularização da probabilidade computacional, esse tipo de distribuição era extremamente dificil de se calcular (já que a **PMF** da **Binomial** tem um **n!** em sua fórmula!).\n",
    "\n",
    "Vamos derivar a distribuição de Poisson a partir da distribuição de Bernoulli:"
   ]
  },
  {
   "cell_type": "code",
   "execution_count": null,
   "id": "9b8b1086",
   "metadata": {
    "ExecuteTime": {
     "end_time": "2022-03-10T23:18:04.093281Z",
     "start_time": "2022-03-10T23:18:04.077332Z"
    }
   },
   "outputs": [],
   "source": [
    "evento_raro = [\"raro\", \"comum\"]\n",
    "p = 1 / 1e05\n",
    "n = 2e04\n"
   ]
  },
  {
   "cell_type": "code",
   "execution_count": null,
   "id": "7ccb3d93",
   "metadata": {
    "ExecuteTime": {
     "end_time": "2022-03-10T23:18:04.482261Z",
     "start_time": "2022-03-10T23:18:04.472286Z"
    }
   },
   "outputs": [],
   "source": [
    "def simular_er(p):\n",
    "    return np.random.choice(evento_raro, p=[p, 1 - p])\n"
   ]
  },
  {
   "cell_type": "code",
   "execution_count": null,
   "id": "2a97ce49",
   "metadata": {
    "ExecuteTime": {
     "end_time": "2022-03-10T23:18:05.666834Z",
     "start_time": "2022-03-10T23:18:05.651846Z"
    }
   },
   "outputs": [],
   "source": [
    "def numero_eventos_raros(amostras):\n",
    "    amostra = [simular_er() for i in range(int(amostras))]\n",
    "    return Counter(amostra)[\"raro\"]\n"
   ]
  },
  {
   "cell_type": "code",
   "execution_count": null,
   "id": "e6039a06",
   "metadata": {
    "ExecuteTime": {
     "end_time": "2022-03-10T23:18:11.536053Z",
     "start_time": "2022-03-10T23:18:07.251222Z"
    }
   },
   "outputs": [],
   "source": [
    "numero_eventos_raros(n)\n"
   ]
  },
  {
   "cell_type": "code",
   "execution_count": null,
   "id": "fd9a5d93",
   "metadata": {
    "ExecuteTime": {
     "end_time": "2022-03-10T23:25:21.892476Z",
     "start_time": "2022-03-10T23:18:11.538048Z"
    }
   },
   "outputs": [],
   "source": [
    "amostra_poi = [numero_eventos_raros(n) for i in range(100)]\n"
   ]
  },
  {
   "cell_type": "code",
   "execution_count": null,
   "id": "79dfd93c",
   "metadata": {
    "ExecuteTime": {
     "end_time": "2022-03-10T23:33:37.895932Z",
     "start_time": "2022-03-10T23:33:37.879974Z"
    }
   },
   "outputs": [],
   "source": [
    "contagem_amostra = Counter(amostra_poi)\n",
    "tb_poisson = pd.DataFrame(\n",
    "    {\"num_raros\": contagem_amostra.keys(), \"num_eventos\": contagem_amostra.values()}\n",
    ")\n",
    "tb_poisson = tb_poisson.sort_values(\"num_raros\").reset_index()\n",
    "tb_poisson\n"
   ]
  },
  {
   "cell_type": "code",
   "execution_count": null,
   "id": "5dd722dc",
   "metadata": {
    "ExecuteTime": {
     "end_time": "2022-03-10T23:33:39.348439Z",
     "start_time": "2022-03-10T23:33:39.163931Z"
    }
   },
   "outputs": [],
   "source": [
    "sns.barplot(data=tb_poisson, x=\"num_raros\", y=\"num_eventos\", color=bc)\n"
   ]
  },
  {
   "cell_type": "markdown",
   "id": "f772ede0",
   "metadata": {},
   "source": [
    "A distribuição de Poisson não é parametrizada por *n* e *p* mas sim pelo **número médio de sucessos** - chamada de **lambda**:\n",
    "\n",
    "$$\\lambda = p n$$\n",
    "\n",
    "A **PMF** da distribuição de Poisson é calculada através da equação\n",
    "\n",
    "$$P(k) = \\frac{\\lambda^k e^{-\\lambda}}{k!}$$\n",
    "\n",
    "Vamos utilizar a `scipy` para construir a **PMF** da nossa distribuição de **Poisson**:"
   ]
  },
  {
   "cell_type": "code",
   "execution_count": null,
   "id": "61f0c4b3",
   "metadata": {
    "ExecuteTime": {
     "end_time": "2022-03-10T23:35:09.658068Z",
     "start_time": "2022-03-10T23:35:09.641095Z"
    }
   },
   "outputs": [],
   "source": [
    "lamb = p * n\n",
    "dist_poisson = sp.stats.poisson(p * n)\n"
   ]
  },
  {
   "cell_type": "code",
   "execution_count": null,
   "id": "f672377b",
   "metadata": {
    "ExecuteTime": {
     "end_time": "2022-03-10T23:35:23.658982Z",
     "start_time": "2022-03-10T23:35:23.643042Z"
    }
   },
   "outputs": [],
   "source": [
    "tb_poisson[\"prob_medida\"] = tb_poisson[\"num_eventos\"] / sum(tb_poisson[\"num_eventos\"])\n",
    "tb_poisson[\"prob_real\"] = tb_poisson[\"num_raros\"].apply(dist_poisson.pmf)\n"
   ]
  },
  {
   "cell_type": "code",
   "execution_count": null,
   "id": "6767de20",
   "metadata": {
    "ExecuteTime": {
     "end_time": "2022-03-10T23:35:24.454888Z",
     "start_time": "2022-03-10T23:35:24.257415Z"
    }
   },
   "outputs": [],
   "source": [
    "sns.barplot(data=tb_poisson, x=\"num_raros\", y=\"prob_medida\", color=bc)\n",
    "sns.pointplot(data=tb_poisson, x=\"num_raros\", y=\"prob_real\", color=\"red\")\n"
   ]
  },
  {
   "cell_type": "markdown",
   "id": "581e11c0",
   "metadata": {},
   "source": [
    "Embora no exemplo acima tenhamos construído uma função de amostragem para uma distribuição de Poisson através de uma simulação isto foi feito apenas para ilustrar a conexão entre as distribuições.\n",
    "\n",
    "Quando precisamos amostrar uma distribuição de Poisson podemos utilizar o método `.rvs()` da nossa variável aleatória (definida através do `scipy`). Este método recebe como argumento o **# de eventos que queremos amostrar da nossa distribuição**, e retorna esta amostragem como um vetor:"
   ]
  },
  {
   "cell_type": "code",
   "execution_count": null,
   "id": "f6ba676f",
   "metadata": {},
   "outputs": [],
   "source": [
    "amostra_100 = dist_poisson.rvs(100)\n",
    "amostra_100\n"
   ]
  },
  {
   "cell_type": "markdown",
   "id": "50fe41f7",
   "metadata": {},
   "source": [
    "A distribuição de Poisson é usada habitualmente como uma **distribuição de contagem**: toda vez que noss espaço amostral é composto pelo **# de vezes que algo acontece**. Por exemplo, ela é utilizada para modelar o # de ligações que um call center recebe por hora, ou então o # de clientes que entram em um supermercado por minuto.\n",
    "\n",
    "Em todos estes casos, o parâmetro fundamental da distribuição de Poisson é **lambda**: o número de acontecimentos por *time bucket*. \n",
    "\n",
    "#### Aplicação I - Call Center\n",
    "Vamos utilizar a nossa **PMF** para resolver um problema prático: dado que um call center recebe **4 chamadas em média por minuto** em seu horário de pico, **até quantas ligações ele receberá em 99% dos minutos**?\n",
    "\n",
    "Vamos começar criando os parâmetros de nossa distribuição:"
   ]
  },
  {
   "cell_type": "code",
   "execution_count": null,
   "id": "1d6167ee",
   "metadata": {},
   "outputs": [],
   "source": [
    "lamb = 4\n"
   ]
  },
  {
   "cell_type": "markdown",
   "id": "da97fcab",
   "metadata": {},
   "source": [
    "Agora, vamos inicializar nossa variável aleatória:"
   ]
  },
  {
   "cell_type": "code",
   "execution_count": null,
   "id": "7fbf6bb0",
   "metadata": {},
   "outputs": [],
   "source": [
    "dist_ligacoes = sp.stats.poisson(lamb)\n"
   ]
  },
  {
   "cell_type": "markdown",
   "id": "65114ae7",
   "metadata": {},
   "source": [
    "Podemos utilizar a nossa **PMF** para visualizar a probabilidade do call center receber *k* chamadas em cada minuto:"
   ]
  },
  {
   "cell_type": "code",
   "execution_count": null,
   "id": "859f0a72",
   "metadata": {},
   "outputs": [],
   "source": [
    "tb_ligacoes = pd.DataFrame({\"num_ligacoes\": range(20)})\n",
    "tb_ligacoes[\"prob\"] = tb_ligacoes[\"num_ligacoes\"].map(dist_ligacoes.pmf)\n",
    "sns.barplot(data=tb_ligacoes, x=\"num_ligacoes\", y=\"prob\", color=bc)\n"
   ]
  },
  {
   "cell_type": "markdown",
   "id": "8dfb5dfb",
   "metadata": {},
   "source": [
    "A PMF nos permite calcula a **probabilidade de receber *k* ligações em um minuto** mas o problema nos pede **qual o número *k* de ligações tal que 99% dos minutos recebem menos que *k* ligações**. Podemos utilizar a **CDF** para visualizar a curva acumulada:"
   ]
  },
  {
   "cell_type": "code",
   "execution_count": null,
   "id": "11c7d21a",
   "metadata": {},
   "outputs": [],
   "source": [
    "tb_ligacoes = pd.DataFrame({\"num_ligacoes\": range(20)})\n",
    "tb_ligacoes[\"prob_acum\"] = tb_ligacoes[\"num_ligacoes\"].map(dist_ligacoes.cdf)\n",
    "sns.barplot(data=tb_ligacoes, x=\"num_ligacoes\", y=\"prob_acum\", color=bc)\n"
   ]
  },
  {
   "cell_type": "code",
   "execution_count": null,
   "id": "72dea4cb",
   "metadata": {},
   "outputs": [],
   "source": [
    "tb_ligacoes\n"
   ]
  },
  {
   "cell_type": "markdown",
   "id": "a30fc911",
   "metadata": {},
   "source": [
    "Uma outra forma mais simples é utilizar a **PPF** (*percent point function*) que nos permite calcular a partir de uma **probabilidade** o **k** tal que:\n",
    "\n",
    "$$P(x) < k = p$$"
   ]
  },
  {
   "cell_type": "code",
   "execution_count": null,
   "id": "4b8e62ee",
   "metadata": {},
   "outputs": [],
   "source": [
    "dist_ligacoes.ppf(0.99)\n"
   ]
  },
  {
   "cell_type": "markdown",
   "id": "b338f3d8",
   "metadata": {},
   "source": [
    "### Distribuição Exponencial\n",
    "\n",
    "**Espaço amostral**: *Números Reais >= 0*\n",
    "\n",
    "**Parâmetros**: \n",
    "1. *lambda*: taxa.\n",
    "\n",
    "**Estatísticas Descritivas**:\n",
    "* *Média* $$\\mu = \\frac{1}{\\lambda}$$\n",
    "* *Desvio Padrão* $$\\sigma = \\frac{1}{\\lambda}$$\n",
    "\n",
    "Até agora as variáveis aleatória que vimos são todas **discretas**, ou seja, o seu espaço amostral é composto por um número pequeno de eventos possíveis (`['cara', 'coroa']` por exemplo) ou por um número inteiro.\n",
    "\n",
    "A distribuição exponencial é **contínua**, o que significa que **não podemos calcular a probabilidade em um evento em particular**, apenas de conjuntos de eventos:\n",
    "\n",
    "1. Se uma variável aleatória tem uma distribuição exponencial, não conseguimos calcular a probabilidade de um número *x* (**P**(*x*));\n",
    "1. Para calcular a probabilidade de conjunto de eventos, calculamos a probabilide de intervalos, por exemplo: \n",
    "    * **P**(*x* < *A*) (probabilidade de um evento ter valor menor que A);\n",
    "    * **P**(*x* > *A*) (probabilidade de um evento ter valor maior que A);\n",
    "    * **P**(*A* < *x* < *B*) (probabilidade de um evento ter valor maior que A e menor que B);\n",
    "\n",
    "Vamos inicializar uma variável aleatória com distribuição **Exponencial** através da função `expon()`. \n",
    "\n",
    "Um detalhe **importante** é que essa função não é **parametrizada por lambda** e sim por `scale = 1/lambda` (ou seja, pela média da distribuição)!"
   ]
  },
  {
   "cell_type": "code",
   "execution_count": null,
   "id": "7ccfb456",
   "metadata": {
    "ExecuteTime": {
     "end_time": "2022-03-10T23:38:46.515055Z",
     "start_time": "2022-03-10T23:38:46.508074Z"
    }
   },
   "outputs": [],
   "source": [
    "dist_exp = sp.stats.expon(scale=1 / lamb)\n"
   ]
  },
  {
   "cell_type": "markdown",
   "id": "4845c4de",
   "metadata": {},
   "source": [
    "Como uma distribuição contínua não possui probabilidade associadas à cada evento, precisamos utilizar outra função para `visualizar` a distribuição: a **PDF** ou *probability density function*:"
   ]
  },
  {
   "cell_type": "code",
   "execution_count": null,
   "id": "2c125fc5",
   "metadata": {
    "ExecuteTime": {
     "end_time": "2022-03-10T23:44:56.792986Z",
     "start_time": "2022-03-10T23:44:56.554625Z"
    }
   },
   "outputs": [],
   "source": [
    "tb_expon = pd.DataFrame({\"x\": np.linspace(0.01, 2, 100)})\n",
    "tb_expon[\"pdf\"] = tb_expon[\"x\"].map(dist_exp.pdf)\n",
    "sns.lineplot(x=x, y=y, color=\"red\")\n"
   ]
  },
  {
   "cell_type": "markdown",
   "id": "05ac19d8",
   "metadata": {},
   "source": [
    "Note que a **PDF** tem valores **ACIMA DE 1**! Ela não é uma função de probabilidade!\n",
    "\n",
    "Para calcular a probabilidade de um intervalo devemos utilizar a **CDF**:"
   ]
  },
  {
   "cell_type": "code",
   "execution_count": null,
   "id": "d4f6508b",
   "metadata": {
    "ExecuteTime": {
     "end_time": "2022-03-10T23:42:00.777184Z",
     "start_time": "2022-03-10T23:42:00.568751Z"
    }
   },
   "outputs": [],
   "source": [
    "tb_expon[\"CDF\"] = dist_exp.cdf(x)\n",
    "sns.lineplot(x=x, y=y, color=\"red\")\n",
    "tb_expon.head(10)\n"
   ]
  },
  {
   "cell_type": "markdown",
   "id": "d568b51d",
   "metadata": {},
   "source": [
    "A **CDF** de uma distribuição continua nos da a probabilidade de que um evento tenha valor inferior a X (comunmente escrito **P**(*x* < *X*)). Na distribuição acima vemos que a probabilidade de um evento ter valor menor que 0,07 é de 0,245.\n",
    "\n",
    "Para calcular a probabilidade de intervalos podemos utilizar a diferença entre **CDF**s. Vamos calcular a chance de um enveto com valores entre 0,5 e 1,5:"
   ]
  },
  {
   "cell_type": "code",
   "execution_count": null,
   "id": "eff24762",
   "metadata": {},
   "outputs": [],
   "source": [
    "dist_exp.cdf(1.5) - dist_exp.cdf(0.5)\n"
   ]
  },
  {
   "cell_type": "markdown",
   "id": "61a3b29b",
   "metadata": {},
   "source": [
    "A distribuição exponencial é utilizada para modelar o **tempo entre eventos independentes**, por exemplo, o tempo entre chamadas chegando em um call center. **Eventos independentes** são eventos cuja probabilidades de ocorrer não são relacionadas - por exemplo, em 2 lances de moedas sequencias, a chance de caras no segunda lance não depende do resultado do primeiro!\n",
    "\n",
    "Utilizaremos a distribuição exponencial para simular o tempo entre ligações chegando em um call center - assumindo o mesmo lambda que utilizamos na nossa simulação de Call Center da distribuição de Poisson. **Assim como a distribuição de Poisson**, a distribuição **Exponencial** é parametrizada por **lambda**, *a taxa de chegada de eventos por unidade de tempo*."
   ]
  },
  {
   "cell_type": "code",
   "execution_count": null,
   "id": "3581969d",
   "metadata": {
    "ExecuteTime": {
     "end_time": "2022-03-10T23:49:06.313047Z",
     "start_time": "2022-03-10T23:49:06.305069Z"
    }
   },
   "outputs": [],
   "source": [
    "amostra_exp = dist_exp.rvs(size=1000)\n",
    "amostra_exp\n"
   ]
  },
  {
   "cell_type": "markdown",
   "id": "58db2e54",
   "metadata": {},
   "source": [
    "Agora vamos transformar essa amostra em um `DataFrame` e criar duas colunas:\n",
    "\n",
    "1. `t_acumulado`: quanto tempo passou desde o começo da coleta de dados;\n",
    "1. `minuto`: em qual minuto aconteceu cada evento."
   ]
  },
  {
   "cell_type": "code",
   "execution_count": null,
   "id": "9feee2ca",
   "metadata": {},
   "outputs": [],
   "source": [
    "tb_expon = pd.DataFrame({\"t\": amostra_exp})\n",
    "tb_expon[\"t_acumulado\"] = tb_expon[\"t\"].cumsum()\n",
    "tb_expon[\"minuto\"] = np.floor(tb_expon[\"t_acumulado\"])\n",
    "tb_expon.head(10)\n"
   ]
  },
  {
   "cell_type": "markdown",
   "id": "26eb716c",
   "metadata": {},
   "source": [
    "Agora vamos agrupar nossa tabela de eventos para saber quantos eventos foram observados em cada `minuto`."
   ]
  },
  {
   "cell_type": "code",
   "execution_count": null,
   "id": "5404613a",
   "metadata": {
    "ExecuteTime": {
     "end_time": "2022-03-10T23:50:44.683468Z",
     "start_time": "2022-03-10T23:50:44.675488Z"
    }
   },
   "outputs": [],
   "source": [
    "n_eventos_minuto = (\n",
    "    tb_expon.groupby(\"minuto\")[\"t\"]\n",
    "    .count()\n",
    "    .reset_index()\n",
    "    .rename({\"t\": \"num_eventos\"}, axis=1)\n",
    ")\n",
    "n_eventos_minuto.head()\n"
   ]
  },
  {
   "cell_type": "markdown",
   "id": "911ece79",
   "metadata": {},
   "source": [
    "Como a tabela acima contém apenas os minutos com pelo menos um evento, vamos criar uma tabela auxiliar com todos os minutos possíveis (entre 0 e o máximo da tabela de eventos):"
   ]
  },
  {
   "cell_type": "code",
   "execution_count": null,
   "id": "72b25e5d",
   "metadata": {},
   "outputs": [],
   "source": [
    "lista_minutos = range(int(tb_expon[\"minuto\"].min()), int(tb_expon[\"minuto\"].max()))\n",
    "tb_minutos = pd.DataFrame({\"minuto\": lista_minutos})\n",
    "tb_minutos.head()\n"
   ]
  },
  {
   "cell_type": "markdown",
   "id": "06155cda",
   "metadata": {},
   "source": [
    "Vamos juntar as duas tabelas para ter a contagem de eventos em cada minuto da nossa coleta de dados. "
   ]
  },
  {
   "cell_type": "code",
   "execution_count": null,
   "id": "29259989",
   "metadata": {
    "ExecuteTime": {
     "end_time": "2022-03-10T23:51:29.221152Z",
     "start_time": "2022-03-10T23:51:29.201204Z"
    }
   },
   "outputs": [],
   "source": [
    "tb_num_eventos = pd.merge(tb_minutos, n_eventos_minuto, how=\"left\", on=\"minuto\")\n",
    "tb_num_eventos = tb_num_eventos.fillna(0)\n",
    "tb_num_eventos\n"
   ]
  },
  {
   "cell_type": "markdown",
   "id": "4cb64aa4",
   "metadata": {},
   "source": [
    "Agora podemos visualizar a distribuição do # de ligações por minuto - e veremos que essa distribuição é uma distribuição de Poisson!"
   ]
  },
  {
   "cell_type": "code",
   "execution_count": null,
   "id": "99ec9790",
   "metadata": {},
   "outputs": [],
   "source": [
    "tb_poiss_pro = tb_num_eventos.groupby(\"num_eventos\").count().reset_index()\n",
    "tb_poiss_pro = tb_poiss_pro.rename({\"minuto\": \"contagem\"}, axis=1)\n",
    "tb_poiss_pro\n"
   ]
  },
  {
   "cell_type": "code",
   "execution_count": null,
   "id": "b485c500",
   "metadata": {
    "ExecuteTime": {
     "end_time": "2022-03-10T23:52:07.701158Z",
     "start_time": "2022-03-10T23:52:07.673201Z"
    }
   },
   "outputs": [],
   "source": [
    "tb_poiss_pro[\"prob_real\"] = tb_poiss_pro[\"num_eventos\"].apply(dist_ligacoes.pmf)\n",
    "tb_poiss_pro[\"prob_medida\"] = tb_poiss_pro[\"contagem\"] / sum(tb_poiss_pro[\"contagem\"])\n",
    "tb_poiss_pro\n"
   ]
  },
  {
   "cell_type": "code",
   "execution_count": null,
   "id": "1ac1a0ad",
   "metadata": {
    "ExecuteTime": {
     "end_time": "2022-03-10T23:52:08.725846Z",
     "start_time": "2022-03-10T23:52:08.532365Z"
    }
   },
   "outputs": [],
   "source": [
    "sns.barplot(data=tb_poiss_pro, x=\"num_eventos\", y=\"prob_medida\", color=bc)\n",
    "sns.pointplot(data=tb_poiss_pro, x=\"num_eventos\", y=\"prob_real\", color=\"red\")\n"
   ]
  },
  {
   "cell_type": "markdown",
   "id": "5578e094",
   "metadata": {},
   "source": [
    "O exercício acima nos permite ver como as distribuições de Poisson e Exponencial são conectadas:\n",
    "\n",
    "1. A distribuição de Poisson mede a probabilidade de *x* eventos acontecerem por unidade de tempo;\n",
    "1. A distribuição Exponencial mede a probabilidade do intervalo de tempo entre eventos.\n",
    "\n",
    "### Distribuição Normal \n",
    "**e o Teorema do Limite Central**\n",
    "\n",
    "<img src=\"images/gauss.jpeg\" alt=\"Drawing\" style=\"width: 200px;\"/>\n",
    "\n",
    "**Espaço amostral**: *Números Reais*\n",
    "\n",
    "**Parâmetros**: \n",
    "1. *mu*: média.\n",
    "1. *sigma*: desvio padrão.\n",
    "\n",
    "**Estatísticas Descritivas**:\n",
    "* *Média* $$\\mu$$\n",
    "* *Desvio Padrão* $$\\sigma$$\n",
    "\n",
    "A distribuição **Normal** foi inventada por Carl Gauss (e por isso as vezes é chamada de *Gaussiana*) em 1809 durante seu estudo de erros em medições astronômicas. Gauss descobriou que quando uma variável aleatória é o resultado de muitos processos aleatórios diferentes e independentes ela terá uma distribuição Normal.\n",
    "\n",
    "Essa descoberta, chamada de **Teorema do Limite Central**, é uma das descobertas mais fundamentais na probabilidade. A onipresença da distribuição **Normal** é explicada por este teorema: a maior parte das coisas que mensuramos e quantificamos são resultados de inúmeros processos aleatórios complexos! Uma demonstração do teorema descoberto por Gauss está fora do escopo da aula mas podemos alavancar a probabilidade computacional para *enxergar* este teorema em ação.\n",
    "\n",
    "Até o momento criamos diversas amostras de diferentes distribuições probabilísticas como exemplo. Vamos 'juntar' todas estas amostras em uma amostra única."
   ]
  },
  {
   "cell_type": "code",
   "execution_count": null,
   "id": "a9d8bdde",
   "metadata": {
    "ExecuteTime": {
     "end_time": "2022-03-11T00:02:34.341885Z",
     "start_time": "2022-03-11T00:02:34.326919Z"
    }
   },
   "outputs": [],
   "source": [
    "amostra_binomial_array = np.array(amostra_binomial[0:99])\n",
    "amostra_binomial[0:5]\n"
   ]
  },
  {
   "cell_type": "code",
   "execution_count": null,
   "id": "af7c8f2a",
   "metadata": {
    "ExecuteTime": {
     "end_time": "2022-03-11T00:02:37.222067Z",
     "start_time": "2022-03-11T00:02:37.211123Z"
    }
   },
   "outputs": [],
   "source": [
    "amostra_geo_array = np.array(amostra_geo[0:99])\n",
    "amostra_geo[0:5]\n"
   ]
  },
  {
   "cell_type": "code",
   "execution_count": null,
   "id": "c6a83c62",
   "metadata": {
    "ExecuteTime": {
     "end_time": "2022-03-11T00:02:37.766822Z",
     "start_time": "2022-03-11T00:02:37.752840Z"
    }
   },
   "outputs": [],
   "source": [
    "amostra_poi_array = np.array(amostra_poi[0:99])\n",
    "amostra_poi[0:5]\n"
   ]
  },
  {
   "cell_type": "code",
   "execution_count": null,
   "id": "2de1ad1e",
   "metadata": {
    "ExecuteTime": {
     "end_time": "2022-03-11T00:02:38.326694Z",
     "start_time": "2022-03-11T00:02:38.315722Z"
    }
   },
   "outputs": [],
   "source": [
    "amostra_exp_array = np.array(amostra_exp[0:99])\n",
    "amostra_exp[0:5]\n"
   ]
  },
  {
   "cell_type": "markdown",
   "id": "c41e6421",
   "metadata": {},
   "source": [
    "Vamos consolidar essas amostras em uma matriz de amostras onde cada linha é uma observação, cada coluna é uma distribuição diferente:"
   ]
  },
  {
   "cell_type": "code",
   "execution_count": null,
   "id": "1bba89fe",
   "metadata": {},
   "outputs": [],
   "source": [
    "matriz_amostras = np.array(\n",
    "    [amostra_binomial_array, amostra_geo_array, amostra_poi_array, amostra_exp_array]\n",
    ")\n"
   ]
  },
  {
   "cell_type": "markdown",
   "id": "23dd3665",
   "metadata": {},
   "source": [
    "Agora vamos calcular a média de cada observação, criando um novo vetor de observações:"
   ]
  },
  {
   "cell_type": "code",
   "execution_count": null,
   "id": "e0d0445b",
   "metadata": {},
   "outputs": [],
   "source": [
    "amostra_estranha = matriz_amostras.mean(axis = 0)\n",
    "amostra_estranha"
   ]
  },
  {
   "cell_type": "markdown",
   "id": "49042556",
   "metadata": {},
   "source": [
    "Agora, vamos construir uma variável aleatório com distribuição **Normal** utilizando a função `norm()`. Os parâmetros dessa função são `loc = ` e `scale = `, a média e o desvio padrão respectivamente.\n",
    "\n",
    "Vamos construir nossa R.V. com a média e o desvio padrão do nosso vetor com as médias das outras distribuições."
   ]
  },
  {
   "cell_type": "code",
   "execution_count": null,
   "id": "3891a256",
   "metadata": {},
   "outputs": [],
   "source": [
    "dist_norm = sp.stats.norm(loc=np.mean(amostra_estranha), scale=np.std(amostra_estranha))"
   ]
  },
  {
   "cell_type": "markdown",
   "id": "39397218",
   "metadata": {},
   "source": [
    "Agora vamos construir um `DataFrame` com nossa `amostra_estranha` e criar uma **CDF** *empírica* dessa amostra:"
   ]
  },
  {
   "cell_type": "code",
   "execution_count": null,
   "id": "d49f0240",
   "metadata": {},
   "outputs": [],
   "source": [
    "tb_estranha = pd.DataFrame({'amostra' : amostra_estranha})\n",
    "tb_estranha = tb_estranha.sort_values('amostra', ascending=True).reset_index(drop = True)\n",
    "tb_estranha['cdf_emp'] = (tb_estranha.index + 1)/tb_estranha.shape[0]\n",
    "tb_estranha"
   ]
  },
  {
   "cell_type": "markdown",
   "id": "fbd9a32b",
   "metadata": {},
   "source": [
    "Vamos adicionar a **CDF** de nossa distribuição **Normal** à nossa tabela:"
   ]
  },
  {
   "cell_type": "code",
   "execution_count": null,
   "id": "fab257d9",
   "metadata": {},
   "outputs": [],
   "source": [
    "tb_estranha['cdf_normal'] = tb_estranha['amostra'].map(dist_norm.cdf)"
   ]
  },
  {
   "cell_type": "code",
   "execution_count": null,
   "id": "67fdf59e",
   "metadata": {},
   "outputs": [],
   "source": [
    "sns.scatterplot(data = tb_estranha, x = 'amostra', y = 'cdf_emp', color = 'black')\n",
    "sns.lineplot(data = tb_estranha, x = 'amostra', y = 'cdf_normal', color = 'red');"
   ]
  },
  {
   "cell_type": "markdown",
   "id": "855e03f2",
   "metadata": {},
   "source": [
    "# Intervalos de Confiança\n",
    "\n",
    "O processo de amostragem sempre apresenta desvios em relação à distribuição real. Como vimos ao longo da aula hoje,  a lei dos grandes números garanta que conforme aumentamos uma amostra ela 'converge' para o valor real da distribuição.\n",
    "\n",
    "A estatística utiliza-se de intervalos de confiança para medir a confiabilidade de uma amostra. Vamos aprender como utilizar esses intervalos mais a frente no curso mas podemos utilizar a probabilidade computacional para observar como eles emergem.\n",
    "\n",
    "Vamos simular o pesquisa de intenção de voto entre dois candidatos."
   ]
  },
  {
   "cell_type": "code",
   "execution_count": null,
   "id": "3ad3cace",
   "metadata": {
    "ExecuteTime": {
     "end_time": "2022-03-11T00:39:36.409850Z",
     "start_time": "2022-03-11T00:39:36.402868Z"
    }
   },
   "outputs": [],
   "source": [
    "candidatos = [\"A\", \"B\"]\n",
    "\n",
    "\n",
    "def intencao_voto():\n",
    "    return np.random.choice(candidatos, p=[0.3, 0.7])\n"
   ]
  },
  {
   "cell_type": "code",
   "execution_count": null,
   "id": "af5a328c",
   "metadata": {
    "ExecuteTime": {
     "end_time": "2022-03-11T00:39:36.938581Z",
     "start_time": "2022-03-11T00:39:36.928606Z"
    }
   },
   "outputs": [],
   "source": [
    "intencao_voto()\n"
   ]
  },
  {
   "cell_type": "markdown",
   "id": "1e4671da",
   "metadata": {},
   "source": [
    "Nossa função de amostragem `intencao_voto()` nos permite amostrar **uma pessoa**. Vamos construir uma segunda função para realizar **amostras com tamanho parametrizável**: "
   ]
  },
  {
   "cell_type": "code",
   "execution_count": null,
   "id": "a18f365a",
   "metadata": {
    "ExecuteTime": {
     "end_time": "2022-03-11T00:39:37.437147Z",
     "start_time": "2022-03-11T00:39:37.431162Z"
    }
   },
   "outputs": [],
   "source": [
    "def pesquisa_opiniao(tamanho_amostra):\n",
    "    pesquisa = [intencao_voto() for i in range(tamanho_amostra)]\n",
    "    c_pesq = Counter(pesquisa)\n",
    "    return c_pesq[\"A\"] / tamanho_amostra\n"
   ]
  },
  {
   "cell_type": "code",
   "execution_count": null,
   "id": "71694181",
   "metadata": {
    "ExecuteTime": {
     "end_time": "2022-03-11T00:39:38.023111Z",
     "start_time": "2022-03-11T00:39:37.982221Z"
    }
   },
   "outputs": [],
   "source": [
    "pesquisa_opiniao(1000)\n"
   ]
  },
  {
   "cell_type": "markdown",
   "id": "4c77fbd6",
   "metadata": {},
   "source": [
    "Com essa função definida, podemos analisar **a distribuição de amostragem** da intenção de voto no candidato *A*. A **distribuição de amostragem** é a distribuição, entre pesquisas amostras de tamanho igual, **de uma estatística de interesse**, no caso, a *% de intenção de votos em A*:"
   ]
  },
  {
   "cell_type": "code",
   "execution_count": null,
   "id": "2214a10f",
   "metadata": {
    "ExecuteTime": {
     "end_time": "2022-03-11T00:39:55.415480Z",
     "start_time": "2022-03-11T00:39:53.279139Z"
    }
   },
   "outputs": [],
   "source": [
    "lista_pesquisas = [pesquisa_opiniao(10) for i in range(1000)]\n",
    "lista_pesquisas"
   ]
  },
  {
   "cell_type": "code",
   "execution_count": null,
   "id": "efe6d8d9",
   "metadata": {
    "ExecuteTime": {
     "end_time": "2022-03-11T00:39:55.536663Z",
     "start_time": "2022-03-11T00:39:55.417474Z"
    }
   },
   "outputs": [],
   "source": [
    "sns.boxplot(lista_pesquisas);\n"
   ]
  },
  {
   "cell_type": "markdown",
   "id": "0570c413",
   "metadata": {},
   "source": [
    "Podemos agora comparar o desvio padrão dessa distribuição entre amostras de tamanhos diferentes:"
   ]
  },
  {
   "cell_type": "code",
   "execution_count": null,
   "id": "e70dfb89",
   "metadata": {},
   "outputs": [],
   "source": [
    "resultado_pesquisa = []\n",
    "for tamanho_amostra in range(10, 561, 50):\n",
    "    lista_pesquisas = [pesquisa_opiniao(tamanho_amostra) for i in range(1000)]\n",
    "    desvpad_amostragem = np.std(lista_pesquisas)\n",
    "    resultado_pesquisa.append({'tam_amostra': tamanho_amostra,'sd_amostragem' : desvpad_amostragem})\n",
    "\n",
    "tb_amostragem = pd.DataFrame(resultado_pesquisa)"
   ]
  },
  {
   "cell_type": "code",
   "execution_count": null,
   "id": "2e6dbc71",
   "metadata": {},
   "outputs": [],
   "source": [
    "sns.lineplot(data = tb_amostragem, x = 'tam_amostra', y = 'sd_amostragem', color = 'black')"
   ]
  },
  {
   "cell_type": "code",
   "execution_count": null,
   "id": "5de3373d",
   "metadata": {},
   "outputs": [],
   "source": []
  }
 ],
 "metadata": {
  "hide_input": false,
  "kernelspec": {
   "display_name": "Python 3.9.11 ('base')",
   "language": "python",
   "name": "python3"
  },
  "language_info": {
   "codemirror_mode": {
    "name": "ipython",
    "version": 3
   },
   "file_extension": ".py",
   "mimetype": "text/x-python",
   "name": "python",
   "nbconvert_exporter": "python",
   "pygments_lexer": "ipython3",
   "version": "3.9.11"
  },
  "toc": {
   "base_numbering": 1,
   "nav_menu": {},
   "number_sections": true,
   "sideBar": true,
   "skip_h1_title": false,
   "title_cell": "Table of Contents",
   "title_sidebar": "Contents",
   "toc_cell": true,
   "toc_position": {
    "height": "calc(100% - 180px)",
    "left": "10px",
    "top": "150px",
    "width": "256px"
   },
   "toc_section_display": true,
   "toc_window_display": true
  },
  "vscode": {
   "interpreter": {
    "hash": "014f4a4a5af8f0104b12c029e500f4146d6d785e8cf714d2a35b7a9514230cd3"
   }
  }
 },
 "nbformat": 4,
 "nbformat_minor": 5
}

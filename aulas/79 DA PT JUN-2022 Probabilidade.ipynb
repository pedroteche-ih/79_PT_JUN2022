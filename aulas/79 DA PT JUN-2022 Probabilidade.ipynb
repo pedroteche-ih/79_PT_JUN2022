{
 "cells": [
  {
   "cell_type": "markdown",
   "id": "0326173d",
   "metadata": {
    "toc": true
   },
   "source": [
    "<h1>Table of Contents<span class=\"tocSkip\"></span></h1>\n",
    "<div class=\"toc\"><ul class=\"toc-item\"><li><span><a href=\"#Probabilidade\" data-toc-modified-id=\"Probabilidade-1\"><span class=\"toc-item-num\">1&nbsp;&nbsp;</span>Probabilidade</a></span><ul class=\"toc-item\"><li><span><a href=\"#V.A.-e-Espaço-Amostral\" data-toc-modified-id=\"V.A.-e-Espaço-Amostral-1.1\"><span class=\"toc-item-num\">1.1&nbsp;&nbsp;</span>V.A. e Espaço Amostral</a></span></li><li><span><a href=\"#Função-de-Probabilidade\" data-toc-modified-id=\"Função-de-Probabilidade-1.2\"><span class=\"toc-item-num\">1.2&nbsp;&nbsp;</span>Função de Probabilidade</a></span></li><li><span><a href=\"#Amostragem\" data-toc-modified-id=\"Amostragem-1.3\"><span class=\"toc-item-num\">1.3&nbsp;&nbsp;</span>Amostragem</a></span></li><li><span><a href=\"#Amostra\" data-toc-modified-id=\"Amostra-1.4\"><span class=\"toc-item-num\">1.4&nbsp;&nbsp;</span>Amostra</a></span></li><li><span><a href=\"#Extendendo-Variáveis-Aleatórias\" data-toc-modified-id=\"Extendendo-Variáveis-Aleatórias-1.5\"><span class=\"toc-item-num\">1.5&nbsp;&nbsp;</span>Extendendo Variáveis Aleatórias</a></span></li><li><span><a href=\"#Distribuições-de-Probabilidade\" data-toc-modified-id=\"Distribuições-de-Probabilidade-1.6\"><span class=\"toc-item-num\">1.6&nbsp;&nbsp;</span>Distribuições de Probabilidade</a></span><ul class=\"toc-item\"><li><span><a href=\"#Distribuição-de-Bernoulli\" data-toc-modified-id=\"Distribuição-de-Bernoulli-1.6.1\"><span class=\"toc-item-num\">1.6.1&nbsp;&nbsp;</span>Distribuição de Bernoulli</a></span></li><li><span><a href=\"#Distribuição-Binomial\" data-toc-modified-id=\"Distribuição-Binomial-1.6.2\"><span class=\"toc-item-num\">1.6.2&nbsp;&nbsp;</span>Distribuição Binomial</a></span></li><li><span><a href=\"#Distribuição-Geométrica\" data-toc-modified-id=\"Distribuição-Geométrica-1.6.3\"><span class=\"toc-item-num\">1.6.3&nbsp;&nbsp;</span>Distribuição Geométrica</a></span></li></ul></li></ul></li><li><span><a href=\"#voltamos-11h30\" data-toc-modified-id=\"voltamos-11h30-2\"><span class=\"toc-item-num\">2&nbsp;&nbsp;</span>voltamos 11h30</a></span><ul class=\"toc-item\"><li><ul class=\"toc-item\"><li><span><a href=\"#Distribuição-de-Poisson\" data-toc-modified-id=\"Distribuição-de-Poisson-2.0.1\"><span class=\"toc-item-num\">2.0.1&nbsp;&nbsp;</span>Distribuição de Poisson</a></span><ul class=\"toc-item\"><li><span><a href=\"#Aplicação-I---Call-Center\" data-toc-modified-id=\"Aplicação-I---Call-Center-2.0.1.1\"><span class=\"toc-item-num\">2.0.1.1&nbsp;&nbsp;</span>Aplicação I - Call Center</a></span></li></ul></li><li><span><a href=\"#Distribuição-Exponencial\" data-toc-modified-id=\"Distribuição-Exponencial-2.0.2\"><span class=\"toc-item-num\">2.0.2&nbsp;&nbsp;</span>Distribuição Exponencial</a></span></li><li><span><a href=\"#Distribuição-Normal\" data-toc-modified-id=\"Distribuição-Normal-2.0.3\"><span class=\"toc-item-num\">2.0.3&nbsp;&nbsp;</span>Distribuição Normal</a></span></li></ul></li></ul></li><li><span><a href=\"#Intervalos-de-Confiança\" data-toc-modified-id=\"Intervalos-de-Confiança-3\"><span class=\"toc-item-num\">3&nbsp;&nbsp;</span>Intervalos de Confiança</a></span></li></ul></div>"
   ]
  },
  {
   "cell_type": "code",
   "execution_count": 1,
   "id": "9bbd534b",
   "metadata": {
    "ExecuteTime": {
     "end_time": "2022-03-11T00:33:42.171820Z",
     "start_time": "2022-03-11T00:33:42.160867Z"
    }
   },
   "outputs": [],
   "source": [
    "import numpy as np\n",
    "import scipy as sp\n",
    "import pandas as pd\n",
    "import seaborn as sns\n",
    "import matplotlib.pyplot as plt\n",
    "from collections import Counter\n",
    "\n",
    "sns.set_theme(context=\"notebook\", style=\"darkgrid\", palette=sns.color_palette(\"Set2\"))\n",
    "bc = sns.color_palette(\"Set2\")[0]\n"
   ]
  },
  {
   "cell_type": "markdown",
   "id": "18589366",
   "metadata": {},
   "source": [
    "# Probabilidade\n",
    "\n",
    "Como vimos na aula de estatíticas descritivas, probabilidade é o estudo de fenômenos aleatórios a partir da construção de modelos probabilísticos (no sentido contrário da estatística, que estima modelos probabílisticos a partir de observações/dados).\n",
    "\n",
    "Mas o que são **modelos probabilísticos**? Para entender este conceito, vamos olhar primeiro para alguns conceitos fundamentais em probabilidade: **variáveis aleatórias**, **espaço amostral** e **função de probabilidade**.\n",
    "\n",
    "## V.A. e Espaço Amostral\n",
    "\n",
    "*Uma variável aleatória é uma variável quantitativa, cujo resultado (valor) depende de fatores aleatórios*. Por exemplo, o **resultado** do lance de uma moeda é uma variável aleatória. O espaço amostral é o conjunto de valores que nossa variável aleatória pode assumir: no exemplo da moeda, o espaço amostral é o conjunto `{cara, coroa}`.\n",
    "\n",
    "Vamos representar o espaço amostral acima através de uma lista:"
   ]
  },
  {
   "cell_type": "code",
   "execution_count": 3,
   "id": "ead06f29",
   "metadata": {
    "ExecuteTime": {
     "end_time": "2022-03-10T22:41:12.131999Z",
     "start_time": "2022-03-10T22:41:12.123998Z"
    }
   },
   "outputs": [],
   "source": [
    "moeda = [\"cara\", \"coroa\"]\n"
   ]
  },
  {
   "cell_type": "markdown",
   "id": "5436d93e",
   "metadata": {},
   "source": [
    "## Função de Probabilidade\n",
    "\n",
    "A segunda parte de um modelo probabilístico é a **função de probabilidade**: esta função **atribui** à cada elemento do nosso **espaço amostral** uma probabilidade tal que a somatória da probabilidade de todos os eventos de nosso espaço amostra é sempre 1.\n",
    "\n",
    "No nosso exemplo da moeda, caso esta seja justa, a função de probabilidade atribuirá 0,5 ao elemento `cara` e 0,5 ao elemento `coroa`. Vamos utilizar a função `choice()` do submódulo `random` da biblioteca `numpy` para representar nossa função de probabilidade. Esta função nos permite mapear um vetor de probabilidades, através do argumento `p = [...]`, à um espaço amostral:"
   ]
  },
  {
   "cell_type": "code",
   "execution_count": 14,
   "id": "a796daca",
   "metadata": {},
   "outputs": [
    {
     "data": {
      "text/plain": [
       "'cara'"
      ]
     },
     "execution_count": 14,
     "metadata": {},
     "output_type": "execute_result"
    }
   ],
   "source": [
    "np.random.choice(moeda, p=[0.9, 0.1])\n"
   ]
  },
  {
   "cell_type": "markdown",
   "id": "a994712d",
   "metadata": {},
   "source": [
    "## Amostragem\n",
    "\n",
    "Toda vez que executamos a função acima estamos **amostrando** nossa variável aleatória, ou seja, estamos *criando* uma observação a partir do nosso modelo probabilístico. Vamos definir duas funções de probabilidade (dois modelos distintos descrevendo duas variáveis aleatórias diferentes): uma para uma moeda justa e outra para uma moeda injusta:"
   ]
  },
  {
   "cell_type": "code",
   "execution_count": 15,
   "id": "26d12bc5",
   "metadata": {
    "ExecuteTime": {
     "end_time": "2022-03-10T22:42:21.333929Z",
     "start_time": "2022-03-10T22:42:21.320961Z"
    }
   },
   "outputs": [],
   "source": [
    "def jogar_moeda_justa():\n",
    "    return np.random.choice(moeda)\n"
   ]
  },
  {
   "cell_type": "code",
   "execution_count": 17,
   "id": "83347a1c",
   "metadata": {
    "ExecuteTime": {
     "end_time": "2022-03-10T22:42:29.971373Z",
     "start_time": "2022-03-10T22:42:29.951426Z"
    }
   },
   "outputs": [
    {
     "data": {
      "text/plain": [
       "'coroa'"
      ]
     },
     "execution_count": 17,
     "metadata": {},
     "output_type": "execute_result"
    }
   ],
   "source": [
    "jogar_moeda_justa()\n"
   ]
  },
  {
   "cell_type": "code",
   "execution_count": 18,
   "id": "9942ec6c",
   "metadata": {
    "ExecuteTime": {
     "end_time": "2022-03-10T22:43:50.393011Z",
     "start_time": "2022-03-10T22:43:50.390018Z"
    }
   },
   "outputs": [],
   "source": [
    "def jogar_moeda_injusta():\n",
    "    return np.random.choice(moeda, p=[0.1, 0.9])\n"
   ]
  },
  {
   "cell_type": "code",
   "execution_count": 25,
   "id": "d0cbdb86",
   "metadata": {
    "ExecuteTime": {
     "end_time": "2022-03-10T22:43:59.783148Z",
     "start_time": "2022-03-10T22:43:59.772179Z"
    }
   },
   "outputs": [
    {
     "data": {
      "text/plain": [
       "'coroa'"
      ]
     },
     "execution_count": 25,
     "metadata": {},
     "output_type": "execute_result"
    }
   ],
   "source": [
    "jogar_moeda_injusta()\n"
   ]
  },
  {
   "cell_type": "markdown",
   "id": "6e080910",
   "metadata": {},
   "source": [
    "## Amostra\n",
    "\n",
    "Uma **amostra** é um conjunto de observações da nossa variável aleatória. Por exemplo, se lançarmos 100 moedas justas, teremos uma amostra de tamanho 100 da nossa variável. Vamos utilizar um `list comprehesion` para simular este processo:"
   ]
  },
  {
   "cell_type": "code",
   "execution_count": 31,
   "id": "8b79083b",
   "metadata": {
    "ExecuteTime": {
     "end_time": "2022-03-10T22:45:49.006880Z",
     "start_time": "2022-03-10T22:45:48.985937Z"
    }
   },
   "outputs": [],
   "source": [
    "amostra_100 = [jogar_moeda_injusta() for i in range(100)]\n"
   ]
  },
  {
   "cell_type": "code",
   "execution_count": 28,
   "id": "86d8f9f5",
   "metadata": {
    "ExecuteTime": {
     "end_time": "2022-03-10T22:45:53.432948Z",
     "start_time": "2022-03-10T22:45:53.419986Z"
    }
   },
   "outputs": [
    {
     "data": {
      "text/plain": [
       "100"
      ]
     },
     "execution_count": 28,
     "metadata": {},
     "output_type": "execute_result"
    }
   ],
   "source": [
    "len(amostra_100)"
   ]
  },
  {
   "cell_type": "code",
   "execution_count": 29,
   "id": "6564d8e4",
   "metadata": {
    "ExecuteTime": {
     "end_time": "2022-03-10T22:45:57.227886Z",
     "start_time": "2022-03-10T22:45:57.209912Z"
    }
   },
   "outputs": [],
   "source": [
    "from collections import Counter\n"
   ]
  },
  {
   "cell_type": "code",
   "execution_count": 32,
   "id": "1bf0062b",
   "metadata": {
    "ExecuteTime": {
     "end_time": "2022-03-10T22:46:01.448612Z",
     "start_time": "2022-03-10T22:46:01.442636Z"
    }
   },
   "outputs": [
    {
     "data": {
      "text/plain": [
       "Counter({'coroa': 92, 'cara': 8})"
      ]
     },
     "execution_count": 32,
     "metadata": {},
     "output_type": "execute_result"
    }
   ],
   "source": [
    "Counter(amostra_100)\n"
   ]
  },
  {
   "cell_type": "markdown",
   "id": "952c34ad",
   "metadata": {},
   "source": [
    "## Extendendo Variáveis Aleatórias\n",
    "\n",
    "O exemplo acima trata um tipo de fenômeno aleatório extremamente simples: um lance de moeda. No entanto, podemos construir variáveis aleatórias mais complexas a partir da realização do processo de amostragem. Por exemplo, podemos definir uma variável aleatória para mensurar a probabilidade de ter **N caras** em **M lances de uma moeda justa**.\n",
    "\n",
    "Esta nova função tem um espaço amostral composto por vetores de cara e coroa com **comprimento M** e nos permite medir a probabilidade de observarmos **2 caras em 3 lances de uma moeda justa**. O espaço amostral dessa variável aleatória:\n",
    "\n",
    "```\n",
    "['cara', 'cara', 'cara']\n",
    "\n",
    "['cara', 'cara', 'coroa']\n",
    "['cara', 'coroa', 'cara']\n",
    "['coroa', 'cara', 'cara']\n",
    "\n",
    "['cara', 'coroa', 'coroa']\n",
    "['coroa', 'cara', 'coroa']\n",
    "['coroa', 'coroa', 'cara']\n",
    "\n",
    "['coroa', 'coroa', 'coroa']\n",
    "```\n",
    "\n",
    "Ou seja, nosso espaço amostral contém todos os resultados possíveis de 3 lances de uma moeda justa - e a probabilidade de observar 2 caras em 3 lances de uma moeda justa é 3/8. No exemplo acima fica claro que a construção manual do espaço amostral, mesmo quando ele é simples, é inviável! Temos duas formas de contornar este problema:\n",
    "\n",
    "1. Diversos problemas, como o descrito acima, tem equações que nos permitem calcular, a partir da formulação do problema, a probabilidade de um certo tipo de evento;\n",
    "1. Utilizando amostragem e a **lei dos grandes números**!\n",
    "\n",
    "\n",
    "A **lei dos grandes números** é um teorema fundamental da probabilidade que garante que conforme aumentamos o tamanho de uma amostra a **% de eventos observada converge para a probabilidade daquele evento**!\n",
    "\n",
    "Vamos alavancar o poder computacional e utilizar a função `jogar_moeda_justa()` para ver a **lei dos grandes números** em operação. Primeiro, vamos definir uma nova função de amostragem para nosso novo espaço amostral:"
   ]
  },
  {
   "cell_type": "code",
   "execution_count": 33,
   "id": "d5fede8d",
   "metadata": {},
   "outputs": [],
   "source": [
    "def jogar_3_moedas():\n",
    "    evento = [jogar_moeda_justa() for i in range(3)]\n",
    "    return evento\n"
   ]
  },
  {
   "cell_type": "code",
   "execution_count": 34,
   "id": "286fbede",
   "metadata": {},
   "outputs": [
    {
     "data": {
      "text/plain": [
       "['coroa', 'cara', 'cara']"
      ]
     },
     "execution_count": 34,
     "metadata": {},
     "output_type": "execute_result"
    }
   ],
   "source": [
    "jogar_3_moedas()\n"
   ]
  },
  {
   "cell_type": "markdown",
   "id": "a9efdad9",
   "metadata": {},
   "source": [
    "Agora, vamos criar uma função para construir amostras de tamanho fixo:"
   ]
  },
  {
   "cell_type": "code",
   "execution_count": 35,
   "id": "72881175",
   "metadata": {},
   "outputs": [],
   "source": [
    "def amostrar_3_moedas(n_amostras):\n",
    "    amostra = [jogar_3_moedas() for i in range(n_amostras)]\n",
    "    return amostra\n"
   ]
  },
  {
   "cell_type": "code",
   "execution_count": 36,
   "id": "d74e926a",
   "metadata": {},
   "outputs": [
    {
     "data": {
      "text/plain": [
       "[['cara', 'cara', 'coroa'],\n",
       " ['cara', 'coroa', 'coroa'],\n",
       " ['coroa', 'coroa', 'coroa'],\n",
       " ['cara', 'cara', 'coroa'],\n",
       " ['cara', 'coroa', 'cara'],\n",
       " ['cara', 'cara', 'cara'],\n",
       " ['cara', 'coroa', 'cara'],\n",
       " ['coroa', 'cara', 'coroa'],\n",
       " ['coroa', 'coroa', 'cara'],\n",
       " ['cara', 'cara', 'coroa']]"
      ]
     },
     "execution_count": 36,
     "metadata": {},
     "output_type": "execute_result"
    }
   ],
   "source": [
    "amostrar_3_moedas(10)\n"
   ]
  },
  {
   "cell_type": "markdown",
   "id": "754073de",
   "metadata": {},
   "source": [
    "Agora vamos construir uma função para calcular a **% de observações com duas caras** para uma dada amostra:"
   ]
  },
  {
   "cell_type": "code",
   "execution_count": 38,
   "id": "347707f4",
   "metadata": {},
   "outputs": [
    {
     "data": {
      "text/plain": [
       "2"
      ]
     },
     "execution_count": 38,
     "metadata": {},
     "output_type": "execute_result"
    }
   ],
   "source": [
    "['cara', 'cara', 'coroa'].count('cara')"
   ]
  },
  {
   "cell_type": "code",
   "execution_count": 41,
   "id": "f394d849",
   "metadata": {},
   "outputs": [
    {
     "data": {
      "text/plain": [
       "7"
      ]
     },
     "execution_count": 41,
     "metadata": {},
     "output_type": "execute_result"
    }
   ],
   "source": [
    "contagem_caras = [evento.count(\"cara\") for evento in amostrar_3_moedas(10)]\n",
    "contagem_caras.count(2)"
   ]
  },
  {
   "cell_type": "code",
   "execution_count": 37,
   "id": "dfe642f5",
   "metadata": {},
   "outputs": [],
   "source": [
    "def per_2_caras(amostra):\n",
    "    contagem_caras = [evento.count(\"cara\") for evento in amostra]\n",
    "    return contagem_caras.count(2) / len(amostra)\n"
   ]
  },
  {
   "cell_type": "code",
   "execution_count": 50,
   "id": "be8368c8",
   "metadata": {},
   "outputs": [
    {
     "data": {
      "text/plain": [
       "0.3772"
      ]
     },
     "execution_count": 50,
     "metadata": {},
     "output_type": "execute_result"
    }
   ],
   "source": [
    "per_2_caras(amostrar_3_moedas(5000))\n"
   ]
  },
  {
   "cell_type": "code",
   "execution_count": 45,
   "id": "94c6465d",
   "metadata": {},
   "outputs": [
    {
     "data": {
      "text/plain": [
       "0.375"
      ]
     },
     "execution_count": 45,
     "metadata": {},
     "output_type": "execute_result"
    }
   ],
   "source": [
    "3/8"
   ]
  },
  {
   "cell_type": "markdown",
   "id": "49529fe9",
   "metadata": {},
   "source": [
    "Agora vamos criar um loop para calcular **% de observações com duas caras** para amostras de tamanho de 1 à 1000:"
   ]
  },
  {
   "cell_type": "code",
   "execution_count": 51,
   "id": "351fd767",
   "metadata": {},
   "outputs": [],
   "source": [
    "per_observada = []\n",
    "for i in range(1, 2001):\n",
    "    per_observada.append(per_2_caras(amostrar_3_moedas(i)))\n"
   ]
  },
  {
   "cell_type": "code",
   "execution_count": 52,
   "id": "b9899665",
   "metadata": {},
   "outputs": [
    {
     "data": {
      "text/plain": [
       "[1.0,\n",
       " 1.0,\n",
       " 0.6666666666666666,\n",
       " 0.25,\n",
       " 0.2,\n",
       " 0.3333333333333333,\n",
       " 0.2857142857142857,\n",
       " 0.125,\n",
       " 0.4444444444444444,\n",
       " 0.3]"
      ]
     },
     "execution_count": 52,
     "metadata": {},
     "output_type": "execute_result"
    }
   ],
   "source": [
    "per_observada[0:10]"
   ]
  },
  {
   "cell_type": "markdown",
   "id": "df5c7b60",
   "metadata": {},
   "source": [
    "Agora vamos comparar a **% de observações com 2 caras** com a **probabilidade que calculamos** a partir do espaço amostral:"
   ]
  },
  {
   "cell_type": "code",
   "execution_count": 53,
   "id": "c863d89f",
   "metadata": {},
   "outputs": [
    {
     "data": {
      "text/html": [
       "<div>\n",
       "<style scoped>\n",
       "    .dataframe tbody tr th:only-of-type {\n",
       "        vertical-align: middle;\n",
       "    }\n",
       "\n",
       "    .dataframe tbody tr th {\n",
       "        vertical-align: top;\n",
       "    }\n",
       "\n",
       "    .dataframe thead th {\n",
       "        text-align: right;\n",
       "    }\n",
       "</style>\n",
       "<table border=\"1\" class=\"dataframe\">\n",
       "  <thead>\n",
       "    <tr style=\"text-align: right;\">\n",
       "      <th></th>\n",
       "      <th>tx_obs</th>\n",
       "      <th>tam_amostra</th>\n",
       "      <th>desvio</th>\n",
       "      <th>mm_desvio</th>\n",
       "    </tr>\n",
       "  </thead>\n",
       "  <tbody>\n",
       "    <tr>\n",
       "      <th>0</th>\n",
       "      <td>1.000000</td>\n",
       "      <td>1</td>\n",
       "      <td>0.625000</td>\n",
       "      <td>NaN</td>\n",
       "    </tr>\n",
       "    <tr>\n",
       "      <th>1</th>\n",
       "      <td>1.000000</td>\n",
       "      <td>2</td>\n",
       "      <td>0.625000</td>\n",
       "      <td>NaN</td>\n",
       "    </tr>\n",
       "    <tr>\n",
       "      <th>2</th>\n",
       "      <td>0.666667</td>\n",
       "      <td>3</td>\n",
       "      <td>0.291667</td>\n",
       "      <td>NaN</td>\n",
       "    </tr>\n",
       "    <tr>\n",
       "      <th>3</th>\n",
       "      <td>0.250000</td>\n",
       "      <td>4</td>\n",
       "      <td>0.125000</td>\n",
       "      <td>NaN</td>\n",
       "    </tr>\n",
       "    <tr>\n",
       "      <th>4</th>\n",
       "      <td>0.200000</td>\n",
       "      <td>5</td>\n",
       "      <td>0.175000</td>\n",
       "      <td>NaN</td>\n",
       "    </tr>\n",
       "    <tr>\n",
       "      <th>5</th>\n",
       "      <td>0.333333</td>\n",
       "      <td>6</td>\n",
       "      <td>0.041667</td>\n",
       "      <td>NaN</td>\n",
       "    </tr>\n",
       "    <tr>\n",
       "      <th>6</th>\n",
       "      <td>0.285714</td>\n",
       "      <td>7</td>\n",
       "      <td>0.089286</td>\n",
       "      <td>NaN</td>\n",
       "    </tr>\n",
       "    <tr>\n",
       "      <th>7</th>\n",
       "      <td>0.125000</td>\n",
       "      <td>8</td>\n",
       "      <td>0.250000</td>\n",
       "      <td>NaN</td>\n",
       "    </tr>\n",
       "    <tr>\n",
       "      <th>8</th>\n",
       "      <td>0.444444</td>\n",
       "      <td>9</td>\n",
       "      <td>0.069444</td>\n",
       "      <td>NaN</td>\n",
       "    </tr>\n",
       "    <tr>\n",
       "      <th>9</th>\n",
       "      <td>0.300000</td>\n",
       "      <td>10</td>\n",
       "      <td>0.075000</td>\n",
       "      <td>0.236706</td>\n",
       "    </tr>\n",
       "  </tbody>\n",
       "</table>\n",
       "</div>"
      ],
      "text/plain": [
       "     tx_obs  tam_amostra    desvio  mm_desvio\n",
       "0  1.000000            1  0.625000        NaN\n",
       "1  1.000000            2  0.625000        NaN\n",
       "2  0.666667            3  0.291667        NaN\n",
       "3  0.250000            4  0.125000        NaN\n",
       "4  0.200000            5  0.175000        NaN\n",
       "5  0.333333            6  0.041667        NaN\n",
       "6  0.285714            7  0.089286        NaN\n",
       "7  0.125000            8  0.250000        NaN\n",
       "8  0.444444            9  0.069444        NaN\n",
       "9  0.300000           10  0.075000   0.236706"
      ]
     },
     "execution_count": 53,
     "metadata": {},
     "output_type": "execute_result"
    }
   ],
   "source": [
    "tb_simul_moeda = pd.DataFrame({\"tx_obs\": per_observada})\n",
    "tb_simul_moeda[\"tam_amostra\"] = range(1, 2001)\n",
    "tb_simul_moeda[\"desvio\"] = np.abs(3 / 8 - tb_simul_moeda[\"tx_obs\"])\n",
    "tb_simul_moeda[\"mm_desvio\"] = tb_simul_moeda[\"desvio\"].rolling(10).mean()\n",
    "tb_simul_moeda.head(10)"
   ]
  },
  {
   "cell_type": "code",
   "execution_count": 54,
   "id": "6daa1630",
   "metadata": {},
   "outputs": [
    {
     "data": {
      "text/plain": [
       "Text(0.5, 0.98, 'Lei dos Grandes Números')"
      ]
     },
     "execution_count": 54,
     "metadata": {},
     "output_type": "execute_result"
    },
    {
     "data": {
      "image/png": "[encoded data removed]",
      "text/plain": [
       "<Figure size 720x576 with 2 Axes>"
      ]
     },
     "metadata": {},
     "output_type": "display_data"
    }
   ],
   "source": [
    "fig, ax = plt.subplots(2, 1, figsize=(10, 8))\n",
    "sns.scatterplot(\n",
    "    data=tb_simul_moeda,\n",
    "    x=\"tam_amostra\",\n",
    "    y=\"desvio\",\n",
    "    alpha=0.8,\n",
    "    s=2,\n",
    "    color=\"black\",\n",
    "    ax=ax[1],\n",
    ")\n",
    "sns.lineplot(data=tb_simul_moeda, x=\"tam_amostra\", y=\"mm_desvio\", color=\"red\", ax=ax[1])\n",
    "sns.scatterplot(\n",
    "    data=tb_simul_moeda,\n",
    "    x=\"tam_amostra\",\n",
    "    y=\"tx_obs\",\n",
    "    alpha=0.8,\n",
    "    s=2,\n",
    "    color=\"black\",\n",
    "    ax=ax[0],\n",
    ")\n",
    "ax[0].axhline(3 / 8, color=\"red\")\n",
    "ax[1].set_ylim(0, 0.3)\n",
    "fig.suptitle(\"Lei dos Grandes Números\")\n"
   ]
  },
  {
   "cell_type": "markdown",
   "id": "077c87eb",
   "metadata": {},
   "source": [
    "## Distribuições de Probabilidade\n",
    "\n",
    "No problema acima, do lance de 3 moedas, poderíamos construir um modelo mais genérico se considerassemos outro espaço amostral: **o # de caras obtidas**. Neste caso nossa variável aleatória teria como espaço amostral os números `0, 1, 2 e 3` e nossa função de probabilidade teria que ser redefinida a partir deste espaço amostral. Neste caso teríamos construído uma **distribuição de probabilidade** bem conhecida!\n",
    "\n",
    "Vários processos analogos ao que construímos acima já foram estudados pela probabilidade. Vamos conhecer algumas **distribuições probabílisticas** famosas, assim como o processo que ela modelam e seu espaço amostral."
   ]
  },
  {
   "cell_type": "markdown",
   "id": "da22084f",
   "metadata": {},
   "source": [
    "### Distribuição de Bernoulli\n",
    "\n",
    "<img src=\"images/bernoulli.jpg\" alt=\"Drawing\" style=\"width: 200px;\"/>\n",
    "\n",
    "**Espaço amostral**: *Booleano*\n",
    "\n",
    "**Parâmetros**: \n",
    "1. *p*: probabilidade de sucesso.\n",
    "\n",
    "A distribuição de Bernoulli é a distribuição de probabilidade mais simples que existe: ela representa o resultado de um **teste binário**, sua função de probabilidade **atribui a cada resultado, uma probabilidade**. O nosso lance de moedas é uma distribuição de Bernoulli!\n",
    "\n",
    "Vamos utilizar a lei dos grandes números para construir amostras representativas de um variável aleatório seguindo uma distribuição de Bernoulli."
   ]
  },
  {
   "cell_type": "code",
   "execution_count": 55,
   "id": "02b7979c",
   "metadata": {
    "ExecuteTime": {
     "end_time": "2022-03-10T22:48:08.159798Z",
     "start_time": "2022-03-10T22:48:07.988275Z"
    }
   },
   "outputs": [],
   "source": [
    "TAMANHO_AMOSTRA = 100\n",
    "\n",
    "amostra_justa = [jogar_moeda_justa() for i in range(TAMANHO_AMOSTRA)]\n",
    "amostra_injusta = [jogar_moeda_injusta() for i in range(TAMANHO_AMOSTRA)]\n",
    "\n",
    "tb_justa = pd.DataFrame({\"justa\": dict(Counter(amostra_justa))}) / TAMANHO_AMOSTRA\n",
    "tb_injusta = pd.DataFrame({\"injusta\": dict(Counter(amostra_injusta))}) / TAMANHO_AMOSTRA\n"
   ]
  },
  {
   "cell_type": "code",
   "execution_count": 56,
   "id": "64ae0fc0",
   "metadata": {
    "ExecuteTime": {
     "end_time": "2022-03-10T22:48:33.454281Z",
     "start_time": "2022-03-10T22:48:33.326936Z"
    }
   },
   "outputs": [
    {
     "data": {
      "text/plain": [
       "Text(0.5, 1.0, 'Moeda Injusta')"
      ]
     },
     "execution_count": 56,
     "metadata": {},
     "output_type": "execute_result"
    },
    {
     "data": {
      "image/png": "[encoded data removed]",
      "text/plain": [
       "<Figure size 720x360 with 2 Axes>"
      ]
     },
     "metadata": {},
     "output_type": "display_data"
    }
   ],
   "source": [
    "fig, ax = plt.subplots(1, 2, figsize=(10, 5))\n",
    "sns.barplot(data=tb_justa, x=tb_justa.index, y=\"justa\", ax=ax[0])\n",
    "ax[0].set_title(\"Moeda Justa\")\n",
    "sns.barplot(data=tb_injusta, x=tb_injusta.index, y=\"injusta\", ax=ax[1])\n",
    "ax[1].set_title(\"Moeda Injusta\")\n"
   ]
  },
  {
   "cell_type": "markdown",
   "id": "7c925586",
   "metadata": {},
   "source": [
    "### Distribuição Binomial\n",
    "\n",
    "**Espaço amostral**: *Números Inteiros >= 0* e *<= n*\n",
    "\n",
    "**Parâmetros**: \n",
    "1. *n*: número de testes;\n",
    "1. *p*: probabilidade de sucesso.\n",
    "\n",
    "**Estatísticas Descritivas**:\n",
    "* *Média* $$\\mu = p*n$$\n",
    "* *Desvio Padrão* $$\\sigma = \\sqrt{n * p * (1-p)}$$\n",
    "\n",
    "A distribuição Binomial (inventada pelo mesmo Jacob Bernoulli...) representa a generalização segunda distribuição que simulamos na primeira parte da aula: dada uma série de ***n*** testes de Bernoulli, com probabilidade de sucesso igual à ***p***, qual a chance de observamos ***k*** sucessos?\n",
    "\n",
    "Vamos construir uma função de amostragem para essa generalização:\n",
    "\n"
   ]
  },
  {
   "cell_type": "code",
   "execution_count": 60,
   "id": "3ccadbe5",
   "metadata": {},
   "outputs": [
    {
     "data": {
      "text/plain": [
       "4"
      ]
     },
     "execution_count": 60,
     "metadata": {},
     "output_type": "execute_result"
    }
   ],
   "source": [
    "amostras = 10\n",
    "amostra = [jogar_moeda_justa() for i in range(amostras)]\n",
    "Counter(amostra)[\"coroa\"]"
   ]
  },
  {
   "cell_type": "code",
   "execution_count": 62,
   "id": "1c2c2946",
   "metadata": {
    "ExecuteTime": {
     "end_time": "2022-03-10T22:51:20.315674Z",
     "start_time": "2022-03-10T22:51:20.309739Z"
    }
   },
   "outputs": [],
   "source": [
    "def numero_coroa_justa(amostras):\n",
    "    amostra = [jogar_moeda_justa() for i in range(amostras)]\n",
    "    return Counter(amostra)[\"coroa\"]\n"
   ]
  },
  {
   "cell_type": "code",
   "execution_count": 63,
   "id": "d4bd23ab",
   "metadata": {
    "ExecuteTime": {
     "end_time": "2022-03-10T22:52:06.791031Z",
     "start_time": "2022-03-10T22:52:06.780048Z"
    }
   },
   "outputs": [
    {
     "data": {
      "text/plain": [
       "8"
      ]
     },
     "execution_count": 63,
     "metadata": {},
     "output_type": "execute_result"
    }
   ],
   "source": [
    "numero_coroa_justa(10)\n"
   ]
  },
  {
   "cell_type": "markdown",
   "id": "dd8e55bf",
   "metadata": {},
   "source": [
    "A função acima retorna o **número de coroas**, *N*, em *M* lances de uma moeda justa. Vamos utilizar essa função para amostrar a distribuição Binomial através de uma `list comprehension`:"
   ]
  },
  {
   "cell_type": "code",
   "execution_count": 70,
   "id": "00b62760",
   "metadata": {
    "ExecuteTime": {
     "end_time": "2022-03-10T23:01:51.140250Z",
     "start_time": "2022-03-10T23:01:49.607772Z"
    }
   },
   "outputs": [],
   "source": [
    "amostra_binomial = [numero_coroa_justa(10) for i in range(1000)]\n"
   ]
  },
  {
   "cell_type": "code",
   "execution_count": 71,
   "id": "85ce3235",
   "metadata": {
    "ExecuteTime": {
     "end_time": "2022-03-10T23:01:53.107676Z",
     "start_time": "2022-03-10T23:01:53.101692Z"
    }
   },
   "outputs": [
    {
     "data": {
      "text/plain": [
       "Counter({6: 215,\n",
       "         5: 243,\n",
       "         4: 214,\n",
       "         3: 113,\n",
       "         9: 12,\n",
       "         7: 108,\n",
       "         8: 45,\n",
       "         1: 10,\n",
       "         2: 39,\n",
       "         10: 1})"
      ]
     },
     "execution_count": 71,
     "metadata": {},
     "output_type": "execute_result"
    }
   ],
   "source": [
    "contagem_amostra = Counter(amostra_binomial)\n",
    "contagem_amostra\n"
   ]
  },
  {
   "cell_type": "code",
   "execution_count": 68,
   "id": "b754d695",
   "metadata": {},
   "outputs": [
    {
     "data": {
      "text/plain": [
       "dict_values([24, 11, 24, 22, 11, 1, 3, 2, 2])"
      ]
     },
     "execution_count": 68,
     "metadata": {},
     "output_type": "execute_result"
    }
   ],
   "source": [
    "contagem_amostra.values()"
   ]
  },
  {
   "cell_type": "code",
   "execution_count": 72,
   "id": "26902a34",
   "metadata": {
    "ExecuteTime": {
     "end_time": "2022-03-10T23:01:53.652762Z",
     "start_time": "2022-03-10T23:01:53.642758Z"
    }
   },
   "outputs": [
    {
     "data": {
      "text/html": [
       "<div>\n",
       "<style scoped>\n",
       "    .dataframe tbody tr th:only-of-type {\n",
       "        vertical-align: middle;\n",
       "    }\n",
       "\n",
       "    .dataframe tbody tr th {\n",
       "        vertical-align: top;\n",
       "    }\n",
       "\n",
       "    .dataframe thead th {\n",
       "        text-align: right;\n",
       "    }\n",
       "</style>\n",
       "<table border=\"1\" class=\"dataframe\">\n",
       "  <thead>\n",
       "    <tr style=\"text-align: right;\">\n",
       "      <th></th>\n",
       "      <th>num_coroas</th>\n",
       "      <th>num_eventos</th>\n",
       "    </tr>\n",
       "  </thead>\n",
       "  <tbody>\n",
       "    <tr>\n",
       "      <th>0</th>\n",
       "      <td>6</td>\n",
       "      <td>215</td>\n",
       "    </tr>\n",
       "    <tr>\n",
       "      <th>1</th>\n",
       "      <td>5</td>\n",
       "      <td>243</td>\n",
       "    </tr>\n",
       "    <tr>\n",
       "      <th>2</th>\n",
       "      <td>4</td>\n",
       "      <td>214</td>\n",
       "    </tr>\n",
       "    <tr>\n",
       "      <th>3</th>\n",
       "      <td>3</td>\n",
       "      <td>113</td>\n",
       "    </tr>\n",
       "    <tr>\n",
       "      <th>4</th>\n",
       "      <td>9</td>\n",
       "      <td>12</td>\n",
       "    </tr>\n",
       "    <tr>\n",
       "      <th>5</th>\n",
       "      <td>7</td>\n",
       "      <td>108</td>\n",
       "    </tr>\n",
       "    <tr>\n",
       "      <th>6</th>\n",
       "      <td>8</td>\n",
       "      <td>45</td>\n",
       "    </tr>\n",
       "    <tr>\n",
       "      <th>7</th>\n",
       "      <td>1</td>\n",
       "      <td>10</td>\n",
       "    </tr>\n",
       "    <tr>\n",
       "      <th>8</th>\n",
       "      <td>2</td>\n",
       "      <td>39</td>\n",
       "    </tr>\n",
       "    <tr>\n",
       "      <th>9</th>\n",
       "      <td>10</td>\n",
       "      <td>1</td>\n",
       "    </tr>\n",
       "  </tbody>\n",
       "</table>\n",
       "</div>"
      ],
      "text/plain": [
       "   num_coroas  num_eventos\n",
       "0           6          215\n",
       "1           5          243\n",
       "2           4          214\n",
       "3           3          113\n",
       "4           9           12\n",
       "5           7          108\n",
       "6           8           45\n",
       "7           1           10\n",
       "8           2           39\n",
       "9          10            1"
      ]
     },
     "execution_count": 72,
     "metadata": {},
     "output_type": "execute_result"
    }
   ],
   "source": [
    "contagem_amostra = Counter(amostra_binomial)\n",
    "tb_binom = pd.DataFrame(\n",
    "    {\"num_coroas\": contagem_amostra.keys(), \"num_eventos\": contagem_amostra.values()}\n",
    ")\n",
    "tb_binom\n"
   ]
  },
  {
   "cell_type": "code",
   "execution_count": 73,
   "id": "99eb9599",
   "metadata": {},
   "outputs": [
    {
     "data": {
      "text/html": [
       "<div>\n",
       "<style scoped>\n",
       "    .dataframe tbody tr th:only-of-type {\n",
       "        vertical-align: middle;\n",
       "    }\n",
       "\n",
       "    .dataframe tbody tr th {\n",
       "        vertical-align: top;\n",
       "    }\n",
       "\n",
       "    .dataframe thead th {\n",
       "        text-align: right;\n",
       "    }\n",
       "</style>\n",
       "<table border=\"1\" class=\"dataframe\">\n",
       "  <thead>\n",
       "    <tr style=\"text-align: right;\">\n",
       "      <th></th>\n",
       "      <th>num_coroas</th>\n",
       "      <th>num_eventos</th>\n",
       "      <th>prob_medida</th>\n",
       "    </tr>\n",
       "  </thead>\n",
       "  <tbody>\n",
       "    <tr>\n",
       "      <th>0</th>\n",
       "      <td>1</td>\n",
       "      <td>10</td>\n",
       "      <td>0.010</td>\n",
       "    </tr>\n",
       "    <tr>\n",
       "      <th>1</th>\n",
       "      <td>2</td>\n",
       "      <td>39</td>\n",
       "      <td>0.039</td>\n",
       "    </tr>\n",
       "    <tr>\n",
       "      <th>2</th>\n",
       "      <td>3</td>\n",
       "      <td>113</td>\n",
       "      <td>0.113</td>\n",
       "    </tr>\n",
       "    <tr>\n",
       "      <th>3</th>\n",
       "      <td>4</td>\n",
       "      <td>214</td>\n",
       "      <td>0.214</td>\n",
       "    </tr>\n",
       "    <tr>\n",
       "      <th>4</th>\n",
       "      <td>5</td>\n",
       "      <td>243</td>\n",
       "      <td>0.243</td>\n",
       "    </tr>\n",
       "    <tr>\n",
       "      <th>5</th>\n",
       "      <td>6</td>\n",
       "      <td>215</td>\n",
       "      <td>0.215</td>\n",
       "    </tr>\n",
       "    <tr>\n",
       "      <th>6</th>\n",
       "      <td>7</td>\n",
       "      <td>108</td>\n",
       "      <td>0.108</td>\n",
       "    </tr>\n",
       "    <tr>\n",
       "      <th>7</th>\n",
       "      <td>8</td>\n",
       "      <td>45</td>\n",
       "      <td>0.045</td>\n",
       "    </tr>\n",
       "    <tr>\n",
       "      <th>8</th>\n",
       "      <td>9</td>\n",
       "      <td>12</td>\n",
       "      <td>0.012</td>\n",
       "    </tr>\n",
       "    <tr>\n",
       "      <th>9</th>\n",
       "      <td>10</td>\n",
       "      <td>1</td>\n",
       "      <td>0.001</td>\n",
       "    </tr>\n",
       "  </tbody>\n",
       "</table>\n",
       "</div>"
      ],
      "text/plain": [
       "   num_coroas  num_eventos  prob_medida\n",
       "0           1           10        0.010\n",
       "1           2           39        0.039\n",
       "2           3          113        0.113\n",
       "3           4          214        0.214\n",
       "4           5          243        0.243\n",
       "5           6          215        0.215\n",
       "6           7          108        0.108\n",
       "7           8           45        0.045\n",
       "8           9           12        0.012\n",
       "9          10            1        0.001"
      ]
     },
     "execution_count": 73,
     "metadata": {},
     "output_type": "execute_result"
    }
   ],
   "source": [
    "tb_binom[\"prob_medida\"] = tb_binom[\"num_eventos\"] / sum(tb_binom[\"num_eventos\"])\n",
    "tb_binom = tb_binom.sort_values(\"num_coroas\").reset_index(drop=True)\n",
    "tb_binom"
   ]
  },
  {
   "cell_type": "code",
   "execution_count": 75,
   "id": "0de16c0f",
   "metadata": {
    "ExecuteTime": {
     "end_time": "2022-03-10T23:01:55.556127Z",
     "start_time": "2022-03-10T23:01:55.346103Z"
    }
   },
   "outputs": [
    {
     "data": {
      "image/png": "[encoded data removed]",
      "text/plain": [
       "<Figure size 432x288 with 1 Axes>"
      ]
     },
     "metadata": {},
     "output_type": "display_data"
    }
   ],
   "source": [
    "sns.barplot(data=tb_binom, x=\"num_coroas\", y=\"prob_medida\", color=bc);\n"
   ]
  },
  {
   "cell_type": "markdown",
   "id": "87d89be6",
   "metadata": {},
   "source": [
    "Qual a média de uma distribuição **Binomial**, ou seja, em *n* lances de moeda (*p* = 0,5), quantas **coroas** observaremos em **média**?\n",
    "\n",
    "Uma das grandes vantagem de utilizarmos distribuições de probabilidade conhecidas é que suas **funções de probabilidade** são determinadas. Por exemplo, a função de probabilidade de uma Distribuição Binomial é:\n",
    "\n",
    "$$P(k)   = {n \\choose k} p^k (1-p)^{ n-k} \\$$\n",
    "\n",
    "onde \n",
    "\n",
    "$${n \\choose k} = \\frac{n!}{n! (n! - k!)}$$\n",
    "\n",
    "Essa equação nos permite calcular a probabilida precisa (sem efeitos de amostragem) de observar ***k*** sucessos em ***n*** testes de Bernoulli com probabilidade de sucesso igual à ***p***.\n",
    "\n",
    "O nome desta função é **PMF** - *probability mass function*. A **PMF** nos permite, em distribuições discretas, calcular a **função de probabilidade** a partir dos parâmetros da nossa distribuição.\n",
    "\n",
    "Vamos utilizar o submódulo `stats` da biblioteca `scipy` para acessar diretamente funções pré-programadas para diferentes distribuições."
   ]
  },
  {
   "cell_type": "code",
   "execution_count": 76,
   "id": "f60cf26b",
   "metadata": {},
   "outputs": [],
   "source": [
    "import scipy as sp\n"
   ]
  },
  {
   "cell_type": "markdown",
   "id": "8bdff046",
   "metadata": {},
   "source": [
    "A função `binom()` nos permite construir uma distribuição binomial dentro do Python. Seus dois argumentos são os parâmetros da Distribuição Binomial (*n* e *p*):"
   ]
  },
  {
   "cell_type": "code",
   "execution_count": 77,
   "id": "f5d18317",
   "metadata": {
    "ExecuteTime": {
     "end_time": "2022-03-10T23:01:56.346281Z",
     "start_time": "2022-03-10T23:01:56.329330Z"
    }
   },
   "outputs": [],
   "source": [
    "dist_binomial = sp.stats.binom(10, 0.5)\n"
   ]
  },
  {
   "cell_type": "code",
   "execution_count": 78,
   "id": "fedb88ee",
   "metadata": {},
   "outputs": [
    {
     "data": {
      "text/plain": [
       "<scipy.stats._distn_infrastructure.rv_frozen at 0x7fdd292faf10>"
      ]
     },
     "execution_count": 78,
     "metadata": {},
     "output_type": "execute_result"
    }
   ],
   "source": [
    "dist_binomial\n"
   ]
  },
  {
   "cell_type": "markdown",
   "id": "2a75ff03",
   "metadata": {},
   "source": [
    "A função `binom()` retorna uma objeto do tipo `rv_frozen`: uma variável aleatória (r.v. = *random variable*) com parâmetros (*n* e *p*) fixos ('congelados').\n",
    "\n",
    "Através desse objeto podemos acessar a **PMF** de nossa variável aleatória:"
   ]
  },
  {
   "cell_type": "code",
   "execution_count": 81,
   "id": "7ea03332",
   "metadata": {},
   "outputs": [
    {
     "data": {
      "text/plain": [
       "0.0009765625"
      ]
     },
     "execution_count": 81,
     "metadata": {},
     "output_type": "execute_result"
    }
   ],
   "source": [
    "dist_binomial.pmf(0)\n"
   ]
  },
  {
   "cell_type": "markdown",
   "id": "ddb75625",
   "metadata": {},
   "source": [
    "Vamos utilizar nossa **PMF** para construir um gráfico da nossa distribuição:"
   ]
  },
  {
   "cell_type": "code",
   "execution_count": 89,
   "id": "36b9293a",
   "metadata": {},
   "outputs": [
    {
     "data": {
      "text/plain": [
       "array([0.00097656, 0.00976563, 0.04394531, 0.1171875 , 0.20507812,\n",
       "       0.24609375, 0.20507812, 0.1171875 , 0.04394531, 0.00976563,\n",
       "       0.00097656])"
      ]
     },
     "execution_count": 89,
     "metadata": {},
     "output_type": "execute_result"
    }
   ],
   "source": [
    "dist_binomial.pmf(x)"
   ]
  },
  {
   "cell_type": "code",
   "execution_count": 90,
   "id": "97385df7",
   "metadata": {
    "ExecuteTime": {
     "end_time": "2022-03-10T23:01:57.171494Z",
     "start_time": "2022-03-10T23:01:56.977151Z"
    }
   },
   "outputs": [
    {
     "data": {
      "image/png": "[encoded data removed]",
      "text/plain": [
       "<Figure size 432x288 with 1 Axes>"
      ]
     },
     "metadata": {},
     "output_type": "display_data"
    }
   ],
   "source": [
    "x = np.arange(0, 11)\n",
    "y = dist_binomial.pmf(x)\n",
    "sns.barplot(x=x, y=y, color=bc);\n"
   ]
  },
  {
   "cell_type": "markdown",
   "id": "61229c3b",
   "metadata": {},
   "source": [
    "Utilizando a **PMF** podemos comparar como nossa amostra construída acima se compara com a distribuição teórica:"
   ]
  },
  {
   "cell_type": "code",
   "execution_count": 91,
   "id": "3e2d4190",
   "metadata": {},
   "outputs": [
    {
     "data": {
      "text/html": [
       "<div>\n",
       "<style scoped>\n",
       "    .dataframe tbody tr th:only-of-type {\n",
       "        vertical-align: middle;\n",
       "    }\n",
       "\n",
       "    .dataframe tbody tr th {\n",
       "        vertical-align: top;\n",
       "    }\n",
       "\n",
       "    .dataframe thead th {\n",
       "        text-align: right;\n",
       "    }\n",
       "</style>\n",
       "<table border=\"1\" class=\"dataframe\">\n",
       "  <thead>\n",
       "    <tr style=\"text-align: right;\">\n",
       "      <th></th>\n",
       "      <th>num_coroas</th>\n",
       "      <th>num_eventos</th>\n",
       "      <th>prob_medida</th>\n",
       "    </tr>\n",
       "  </thead>\n",
       "  <tbody>\n",
       "    <tr>\n",
       "      <th>0</th>\n",
       "      <td>1</td>\n",
       "      <td>10</td>\n",
       "      <td>0.010</td>\n",
       "    </tr>\n",
       "    <tr>\n",
       "      <th>1</th>\n",
       "      <td>2</td>\n",
       "      <td>39</td>\n",
       "      <td>0.039</td>\n",
       "    </tr>\n",
       "    <tr>\n",
       "      <th>2</th>\n",
       "      <td>3</td>\n",
       "      <td>113</td>\n",
       "      <td>0.113</td>\n",
       "    </tr>\n",
       "    <tr>\n",
       "      <th>3</th>\n",
       "      <td>4</td>\n",
       "      <td>214</td>\n",
       "      <td>0.214</td>\n",
       "    </tr>\n",
       "    <tr>\n",
       "      <th>4</th>\n",
       "      <td>5</td>\n",
       "      <td>243</td>\n",
       "      <td>0.243</td>\n",
       "    </tr>\n",
       "    <tr>\n",
       "      <th>5</th>\n",
       "      <td>6</td>\n",
       "      <td>215</td>\n",
       "      <td>0.215</td>\n",
       "    </tr>\n",
       "    <tr>\n",
       "      <th>6</th>\n",
       "      <td>7</td>\n",
       "      <td>108</td>\n",
       "      <td>0.108</td>\n",
       "    </tr>\n",
       "    <tr>\n",
       "      <th>7</th>\n",
       "      <td>8</td>\n",
       "      <td>45</td>\n",
       "      <td>0.045</td>\n",
       "    </tr>\n",
       "    <tr>\n",
       "      <th>8</th>\n",
       "      <td>9</td>\n",
       "      <td>12</td>\n",
       "      <td>0.012</td>\n",
       "    </tr>\n",
       "    <tr>\n",
       "      <th>9</th>\n",
       "      <td>10</td>\n",
       "      <td>1</td>\n",
       "      <td>0.001</td>\n",
       "    </tr>\n",
       "  </tbody>\n",
       "</table>\n",
       "</div>"
      ],
      "text/plain": [
       "   num_coroas  num_eventos  prob_medida\n",
       "0           1           10        0.010\n",
       "1           2           39        0.039\n",
       "2           3          113        0.113\n",
       "3           4          214        0.214\n",
       "4           5          243        0.243\n",
       "5           6          215        0.215\n",
       "6           7          108        0.108\n",
       "7           8           45        0.045\n",
       "8           9           12        0.012\n",
       "9          10            1        0.001"
      ]
     },
     "execution_count": 91,
     "metadata": {},
     "output_type": "execute_result"
    }
   ],
   "source": [
    "tb_binom"
   ]
  },
  {
   "cell_type": "code",
   "execution_count": 92,
   "id": "b56c6e67",
   "metadata": {},
   "outputs": [
    {
     "data": {
      "text/plain": [
       "0    0.009766\n",
       "1    0.043945\n",
       "2    0.117188\n",
       "3    0.205078\n",
       "4    0.246094\n",
       "5    0.205078\n",
       "6    0.117187\n",
       "7    0.043945\n",
       "8    0.009766\n",
       "9    0.000977\n",
       "Name: num_coroas, dtype: float64"
      ]
     },
     "execution_count": 92,
     "metadata": {},
     "output_type": "execute_result"
    }
   ],
   "source": [
    "tb_binom[\"num_coroas\"].apply(dist_binomial.pmf)"
   ]
  },
  {
   "cell_type": "code",
   "execution_count": 93,
   "id": "dde799fd",
   "metadata": {},
   "outputs": [],
   "source": [
    "tb_binom[\"prob_real\"] = tb_binom[\"num_coroas\"].apply(dist_binomial.pmf)\n"
   ]
  },
  {
   "cell_type": "code",
   "execution_count": 94,
   "id": "0f9ed28b",
   "metadata": {},
   "outputs": [
    {
     "data": {
      "text/plain": [
       "<AxesSubplot:xlabel='num_coroas', ylabel='prob_real'>"
      ]
     },
     "execution_count": 94,
     "metadata": {},
     "output_type": "execute_result"
    },
    {
     "data": {
      "image/png": "[encoded data removed]",
      "text/plain": [
       "<Figure size 432x288 with 1 Axes>"
      ]
     },
     "metadata": {},
     "output_type": "display_data"
    }
   ],
   "source": [
    "sns.barplot(data=tb_binom, x=\"num_coroas\", y=\"prob_medida\", color=bc)\n",
    "sns.pointplot(data=tb_binom, x=\"num_coroas\", y=\"prob_real\", color=\"red\")\n"
   ]
  },
  {
   "cell_type": "markdown",
   "id": "cf209b37",
   "metadata": {},
   "source": [
    "Por fim, podemos utilizar a **PMF** para calcular a **probabilidade cumulativa**: qual a chance de observamos 2 ou menos coroas em 10 lances de uma moeda justa?"
   ]
  },
  {
   "cell_type": "code",
   "execution_count": 95,
   "id": "ec3e493a",
   "metadata": {
    "ExecuteTime": {
     "end_time": "2022-03-10T23:01:59.377707Z",
     "start_time": "2022-03-10T23:01:59.365741Z"
    }
   },
   "outputs": [
    {
     "data": {
      "text/plain": [
       "0.05468750000000004"
      ]
     },
     "execution_count": 95,
     "metadata": {},
     "output_type": "execute_result"
    }
   ],
   "source": [
    "sum([dist_binomial.pmf(i) for i in [0, 1, 2]])\n"
   ]
  },
  {
   "cell_type": "markdown",
   "id": "df752522",
   "metadata": {},
   "source": [
    "Essa operação é tão comum que temos um nome para esta função: **CDF**, *cumulative distribution function*. Podemos utilizar o método `.cdf()` da nossa variável aleatória para calcular isto:"
   ]
  },
  {
   "cell_type": "code",
   "execution_count": 96,
   "id": "839ed474",
   "metadata": {
    "ExecuteTime": {
     "end_time": "2022-03-10T23:02:00.163109Z",
     "start_time": "2022-03-10T23:02:00.146170Z"
    }
   },
   "outputs": [
    {
     "data": {
      "text/plain": [
       "0.0546875"
      ]
     },
     "execution_count": 96,
     "metadata": {},
     "output_type": "execute_result"
    }
   ],
   "source": [
    "dist_binomial.cdf(2)\n"
   ]
  },
  {
   "cell_type": "code",
   "execution_count": 97,
   "id": "c9298540",
   "metadata": {
    "ExecuteTime": {
     "end_time": "2022-03-10T23:02:00.665765Z",
     "start_time": "2022-03-10T23:02:00.465300Z"
    }
   },
   "outputs": [
    {
     "data": {
      "text/plain": [
       "<AxesSubplot:>"
      ]
     },
     "execution_count": 97,
     "metadata": {},
     "output_type": "execute_result"
    },
    {
     "data": {
      "image/png": "[encoded data removed]",
      "text/plain": [
       "<Figure size 432x288 with 1 Axes>"
      ]
     },
     "metadata": {},
     "output_type": "display_data"
    }
   ],
   "source": [
    "x = np.arange(0, 11)\n",
    "y = dist_binomial.cdf(x)\n",
    "sns.barplot(x=x, y=y, color=bc)\n"
   ]
  },
  {
   "cell_type": "markdown",
   "id": "8f539cd6",
   "metadata": {},
   "source": [
    "### Distribuição Geométrica\n",
    "\n",
    "**Espaço amostral**: *Números Inteiros >= 1*\n",
    "\n",
    "**Parâmetros**: \n",
    "1. *p*: probabilidade de sucesso.\n",
    "\n",
    "**Estatísticas Descritivas**:\n",
    "* *Média* $$\\mu = \\frac{1}{p}$$\n",
    "* *Desvio Padrão* $$\\sigma = \\sqrt{\\frac{(1-p)}{p^2}}$$\n",
    "\n",
    "Uma segunda distribuição diretamente ligada à Distribuição de Bernoulli é a **Distribuição Geométrica**. Enquanto a **Binomial** mede a probabilidade de observamos *k* sucessos em *n* testes, a **Geométrica** me a probabilidade de obtermos o *primeiro sucesso* no *k-ésimo* teste.\n",
    "\n",
    "No nosso exemplo da moeda justa, a distribuição **Geométrica** mede a probabilidade de observarmos a primeira *coroa* no primeiro, segundo, terceiro... teste. Vamos construir uma função de amostragem para distribuição geométrica:"
   ]
  },
  {
   "cell_type": "code",
   "execution_count": 99,
   "id": "ef389f67",
   "metadata": {
    "ExecuteTime": {
     "end_time": "2022-03-10T23:05:32.864357Z",
     "start_time": "2022-03-10T23:05:32.858371Z"
    }
   },
   "outputs": [],
   "source": [
    "def primeira_coroa_justa():\n",
    "    i = 1\n",
    "    while True:\n",
    "        resultado_lance = jogar_moeda_justa()\n",
    "        if resultado_lance == \"coroa\":\n",
    "            return i\n",
    "        else:\n",
    "            i += 1\n"
   ]
  },
  {
   "cell_type": "code",
   "execution_count": 102,
   "id": "a76eef08",
   "metadata": {
    "ExecuteTime": {
     "end_time": "2022-03-10T23:05:42.395042Z",
     "start_time": "2022-03-10T23:05:42.377089Z"
    }
   },
   "outputs": [
    {
     "data": {
      "text/plain": [
       "3"
      ]
     },
     "execution_count": 102,
     "metadata": {},
     "output_type": "execute_result"
    }
   ],
   "source": [
    "primeira_coroa_justa()\n"
   ]
  },
  {
   "cell_type": "markdown",
   "id": "6ad93bb7",
   "metadata": {},
   "source": [
    "Agora vamos utilizar uma `list comprehension` para construir uma amostra dessa distribuição:"
   ]
  },
  {
   "cell_type": "code",
   "execution_count": 112,
   "id": "a456ae97",
   "metadata": {
    "ExecuteTime": {
     "end_time": "2022-03-10T23:09:41.695847Z",
     "start_time": "2022-03-10T23:09:41.682882Z"
    }
   },
   "outputs": [],
   "source": [
    "amostra_geo = [primeira_coroa_justa() for i in range(1000)]\n"
   ]
  },
  {
   "cell_type": "code",
   "execution_count": 113,
   "id": "60e1c9fc",
   "metadata": {
    "ExecuteTime": {
     "end_time": "2022-03-10T23:09:42.081913Z",
     "start_time": "2022-03-10T23:09:42.070875Z"
    }
   },
   "outputs": [
    {
     "data": {
      "text/plain": [
       "[2, 1, 1, 2, 3, 3, 2, 1, 1]"
      ]
     },
     "execution_count": 113,
     "metadata": {},
     "output_type": "execute_result"
    }
   ],
   "source": [
    "amostra_geo[1:10]\n"
   ]
  },
  {
   "cell_type": "code",
   "execution_count": 114,
   "id": "5c2cbca2",
   "metadata": {
    "ExecuteTime": {
     "end_time": "2022-03-10T23:09:42.456163Z",
     "start_time": "2022-03-10T23:09:42.445188Z"
    }
   },
   "outputs": [
    {
     "data": {
      "text/html": [
       "<div>\n",
       "<style scoped>\n",
       "    .dataframe tbody tr th:only-of-type {\n",
       "        vertical-align: middle;\n",
       "    }\n",
       "\n",
       "    .dataframe tbody tr th {\n",
       "        vertical-align: top;\n",
       "    }\n",
       "\n",
       "    .dataframe thead th {\n",
       "        text-align: right;\n",
       "    }\n",
       "</style>\n",
       "<table border=\"1\" class=\"dataframe\">\n",
       "  <thead>\n",
       "    <tr style=\"text-align: right;\">\n",
       "      <th></th>\n",
       "      <th>num_primeira_coroa</th>\n",
       "      <th>num_eventos</th>\n",
       "      <th>prob_medida</th>\n",
       "    </tr>\n",
       "  </thead>\n",
       "  <tbody>\n",
       "    <tr>\n",
       "      <th>0</th>\n",
       "      <td>1</td>\n",
       "      <td>503</td>\n",
       "      <td>0.503</td>\n",
       "    </tr>\n",
       "    <tr>\n",
       "      <th>1</th>\n",
       "      <td>2</td>\n",
       "      <td>236</td>\n",
       "      <td>0.236</td>\n",
       "    </tr>\n",
       "    <tr>\n",
       "      <th>2</th>\n",
       "      <td>3</td>\n",
       "      <td>140</td>\n",
       "      <td>0.140</td>\n",
       "    </tr>\n",
       "    <tr>\n",
       "      <th>5</th>\n",
       "      <td>4</td>\n",
       "      <td>52</td>\n",
       "      <td>0.052</td>\n",
       "    </tr>\n",
       "    <tr>\n",
       "      <th>7</th>\n",
       "      <td>5</td>\n",
       "      <td>24</td>\n",
       "      <td>0.024</td>\n",
       "    </tr>\n",
       "    <tr>\n",
       "      <th>3</th>\n",
       "      <td>6</td>\n",
       "      <td>20</td>\n",
       "      <td>0.020</td>\n",
       "    </tr>\n",
       "    <tr>\n",
       "      <th>6</th>\n",
       "      <td>7</td>\n",
       "      <td>13</td>\n",
       "      <td>0.013</td>\n",
       "    </tr>\n",
       "    <tr>\n",
       "      <th>9</th>\n",
       "      <td>8</td>\n",
       "      <td>5</td>\n",
       "      <td>0.005</td>\n",
       "    </tr>\n",
       "    <tr>\n",
       "      <th>8</th>\n",
       "      <td>9</td>\n",
       "      <td>4</td>\n",
       "      <td>0.004</td>\n",
       "    </tr>\n",
       "    <tr>\n",
       "      <th>4</th>\n",
       "      <td>10</td>\n",
       "      <td>2</td>\n",
       "      <td>0.002</td>\n",
       "    </tr>\n",
       "    <tr>\n",
       "      <th>10</th>\n",
       "      <td>13</td>\n",
       "      <td>1</td>\n",
       "      <td>0.001</td>\n",
       "    </tr>\n",
       "  </tbody>\n",
       "</table>\n",
       "</div>"
      ],
      "text/plain": [
       "    num_primeira_coroa  num_eventos  prob_medida\n",
       "0                    1          503        0.503\n",
       "1                    2          236        0.236\n",
       "2                    3          140        0.140\n",
       "5                    4           52        0.052\n",
       "7                    5           24        0.024\n",
       "3                    6           20        0.020\n",
       "6                    7           13        0.013\n",
       "9                    8            5        0.005\n",
       "8                    9            4        0.004\n",
       "4                   10            2        0.002\n",
       "10                  13            1        0.001"
      ]
     },
     "execution_count": 114,
     "metadata": {},
     "output_type": "execute_result"
    }
   ],
   "source": [
    "contagem_amostra = Counter(amostra_geo)\n",
    "tb_geo = pd.DataFrame(\n",
    "    {\n",
    "        \"num_primeira_coroa\": contagem_amostra.keys(),\n",
    "        \"num_eventos\": contagem_amostra.values(),\n",
    "    }\n",
    ")\n",
    "tb_geo = tb_geo.sort_values(\"num_primeira_coroa\")\n",
    "tb_geo[\"prob_medida\"] = tb_geo[\"num_eventos\"] / sum(tb_geo[\"num_eventos\"])\n",
    "tb_geo\n"
   ]
  },
  {
   "cell_type": "code",
   "execution_count": 115,
   "id": "474a3086",
   "metadata": {
    "ExecuteTime": {
     "end_time": "2022-03-10T23:09:43.330975Z",
     "start_time": "2022-03-10T23:09:43.167902Z"
    }
   },
   "outputs": [
    {
     "data": {
      "text/plain": [
       "<AxesSubplot:xlabel='num_primeira_coroa', ylabel='prob_medida'>"
      ]
     },
     "execution_count": 115,
     "metadata": {},
     "output_type": "execute_result"
    },
    {
     "data": {
      "image/png": "[encoded data removed]",
      "text/plain": [
       "<Figure size 432x288 with 1 Axes>"
      ]
     },
     "metadata": {},
     "output_type": "display_data"
    }
   ],
   "source": [
    "sns.barplot(data=tb_geo, x=\"num_primeira_coroa\", y=\"prob_medida\", color=bc)\n"
   ]
  },
  {
   "cell_type": "markdown",
   "id": "b16bac10",
   "metadata": {},
   "source": [
    "A **PMF** da distribuição **Geométrica** é:\n",
    "\n",
    "$$P(k) = (1 - p)^{k-1}p$$\n",
    "\n",
    "e podemos acessa-la através da função `geom()` do submódulo `stats` da biblioteca `scipy`:"
   ]
  },
  {
   "cell_type": "code",
   "execution_count": 118,
   "id": "44bf39e4",
   "metadata": {
    "ExecuteTime": {
     "end_time": "2022-03-10T23:09:43.595828Z",
     "start_time": "2022-03-10T23:09:43.585855Z"
    }
   },
   "outputs": [],
   "source": [
    "dist_geom = sp.stats.geom(0.5)\n"
   ]
  },
  {
   "cell_type": "markdown",
   "id": "818f9a7f",
   "metadata": {},
   "source": [
    "Vamos adicionar a coluna `prob_real` a nossa tabela de amostrar para comparar as taxas medidas e as taxas reais:"
   ]
  },
  {
   "cell_type": "code",
   "execution_count": 119,
   "id": "386f83e0",
   "metadata": {
    "ExecuteTime": {
     "end_time": "2022-03-10T23:09:45.109731Z",
     "start_time": "2022-03-10T23:09:45.095771Z"
    }
   },
   "outputs": [],
   "source": [
    "tb_geo[\"prob_real\"] = tb_geo[\"num_primeira_coroa\"].apply(dist_geom.pmf)\n"
   ]
  },
  {
   "cell_type": "code",
   "execution_count": 120,
   "id": "542567de",
   "metadata": {
    "ExecuteTime": {
     "end_time": "2022-03-10T23:09:45.685256Z",
     "start_time": "2022-03-10T23:09:45.515709Z"
    }
   },
   "outputs": [
    {
     "data": {
      "text/plain": [
       "<AxesSubplot:xlabel='num_primeira_coroa', ylabel='prob_real'>"
      ]
     },
     "execution_count": 120,
     "metadata": {},
     "output_type": "execute_result"
    },
    {
     "data": {
      "image/png": "[encoded data removed]",
      "text/plain": [
       "<Figure size 432x288 with 1 Axes>"
      ]
     },
     "metadata": {},
     "output_type": "display_data"
    }
   ],
   "source": [
    "sns.barplot(data=tb_geo, x=\"num_primeira_coroa\", y=\"prob_medida\", color=bc)\n",
    "sns.pointplot(data=tb_geo, x=\"num_primeira_coroa\", y=\"prob_real\", color=\"red\")\n"
   ]
  },
  {
   "cell_type": "markdown",
   "id": "d45c374a",
   "metadata": {},
   "source": [
    "# voltamos 11h30"
   ]
  },
  {
   "cell_type": "markdown",
   "id": "8d0ed8f3",
   "metadata": {},
   "source": [
    "### Distribuição de Poisson\n",
    "**ou Finalmente uma distribuição que não foi inventada por um Bernoulli...**\n",
    "\n",
    "<img src=\"images/poisson.jpg\" alt=\"Drawing\" style=\"width: 200px;\"/>\n",
    "\n",
    "**Espaço amostral**: *Números Inteiros >= 0*\n",
    "\n",
    "**Parâmetros**: \n",
    "1. *lambda*: taxa de eventos.\n",
    "\n",
    "**Estatísticas Descritivas**:\n",
    "* *Média* $$\\mu = \\lambda$$\n",
    "* *Desvio Padrão* $$\\sigma = \\sqrt{\\lambda}$$\n",
    "\n",
    "Simone Poisson foi um matemático francês que estudou, entre outras coisas, a probabilidade de convicções erradas na justiça francesa no séc XVIII.\n",
    "\n",
    "A distribuição que ele inventou é um tipo particular de distribuição **Binomial**: binomiais onde o número de testes é altíssimo e a probabilidade de sucesso baixíssima. Antes da popularização da probabilidade computacional, esse tipo de distribuição era extremamente dificil de se calcular (já que a **PMF** da **Binomial** tem um **n!** em sua fórmula!).\n",
    "\n",
    "Vamos derivar a distribuição de Poisson a partir da distribuição de Bernoulli:"
   ]
  },
  {
   "cell_type": "code",
   "execution_count": 121,
   "id": "9b8b1086",
   "metadata": {
    "ExecuteTime": {
     "end_time": "2022-03-10T23:18:04.093281Z",
     "start_time": "2022-03-10T23:18:04.077332Z"
    }
   },
   "outputs": [],
   "source": [
    "evento_raro = [\"raro\", \"comum\"]\n",
    "p = 1 / 1e05\n",
    "n = 2e04\n"
   ]
  },
  {
   "cell_type": "code",
   "execution_count": 122,
   "id": "7ccb3d93",
   "metadata": {
    "ExecuteTime": {
     "end_time": "2022-03-10T23:18:04.482261Z",
     "start_time": "2022-03-10T23:18:04.472286Z"
    }
   },
   "outputs": [],
   "source": [
    "def simular_er(p):\n",
    "    return np.random.choice(evento_raro, p=[p, 1 - p])\n"
   ]
  },
  {
   "cell_type": "code",
   "execution_count": 126,
   "id": "56d36349",
   "metadata": {},
   "outputs": [
    {
     "data": {
      "text/plain": [
       "'comum'"
      ]
     },
     "execution_count": 126,
     "metadata": {},
     "output_type": "execute_result"
    }
   ],
   "source": [
    "simular_er(p)"
   ]
  },
  {
   "cell_type": "code",
   "execution_count": 130,
   "id": "2a97ce49",
   "metadata": {
    "ExecuteTime": {
     "end_time": "2022-03-10T23:18:05.666834Z",
     "start_time": "2022-03-10T23:18:05.651846Z"
    }
   },
   "outputs": [],
   "source": [
    "def numero_eventos_raros(amostras):\n",
    "    amostra = [simular_er(p) for i in range(int(amostras))]\n",
    "    return Counter(amostra)[\"raro\"]\n"
   ]
  },
  {
   "cell_type": "code",
   "execution_count": 136,
   "id": "fd9a5d93",
   "metadata": {
    "ExecuteTime": {
     "end_time": "2022-03-10T23:25:21.892476Z",
     "start_time": "2022-03-10T23:18:11.538048Z"
    }
   },
   "outputs": [],
   "source": [
    "amostra_poi = [numero_eventos_raros(n) for i in range(100)]\n"
   ]
  },
  {
   "cell_type": "code",
   "execution_count": 137,
   "id": "79dfd93c",
   "metadata": {
    "ExecuteTime": {
     "end_time": "2022-03-10T23:33:37.895932Z",
     "start_time": "2022-03-10T23:33:37.879974Z"
    }
   },
   "outputs": [
    {
     "data": {
      "text/html": [
       "<div>\n",
       "<style scoped>\n",
       "    .dataframe tbody tr th:only-of-type {\n",
       "        vertical-align: middle;\n",
       "    }\n",
       "\n",
       "    .dataframe tbody tr th {\n",
       "        vertical-align: top;\n",
       "    }\n",
       "\n",
       "    .dataframe thead th {\n",
       "        text-align: right;\n",
       "    }\n",
       "</style>\n",
       "<table border=\"1\" class=\"dataframe\">\n",
       "  <thead>\n",
       "    <tr style=\"text-align: right;\">\n",
       "      <th></th>\n",
       "      <th>index</th>\n",
       "      <th>num_raros</th>\n",
       "      <th>num_eventos</th>\n",
       "    </tr>\n",
       "  </thead>\n",
       "  <tbody>\n",
       "    <tr>\n",
       "      <th>0</th>\n",
       "      <td>0</td>\n",
       "      <td>0</td>\n",
       "      <td>76</td>\n",
       "    </tr>\n",
       "    <tr>\n",
       "      <th>1</th>\n",
       "      <td>1</td>\n",
       "      <td>1</td>\n",
       "      <td>21</td>\n",
       "    </tr>\n",
       "    <tr>\n",
       "      <th>2</th>\n",
       "      <td>2</td>\n",
       "      <td>2</td>\n",
       "      <td>2</td>\n",
       "    </tr>\n",
       "    <tr>\n",
       "      <th>3</th>\n",
       "      <td>3</td>\n",
       "      <td>3</td>\n",
       "      <td>1</td>\n",
       "    </tr>\n",
       "  </tbody>\n",
       "</table>\n",
       "</div>"
      ],
      "text/plain": [
       "   index  num_raros  num_eventos\n",
       "0      0          0           76\n",
       "1      1          1           21\n",
       "2      2          2            2\n",
       "3      3          3            1"
      ]
     },
     "execution_count": 137,
     "metadata": {},
     "output_type": "execute_result"
    }
   ],
   "source": [
    "contagem_amostra = Counter(amostra_poi)\n",
    "tb_poisson = pd.DataFrame(\n",
    "    {\"num_raros\": contagem_amostra.keys(), \"num_eventos\": contagem_amostra.values()}\n",
    ")\n",
    "tb_poisson = tb_poisson.sort_values(\"num_raros\").reset_index()\n",
    "tb_poisson\n"
   ]
  },
  {
   "cell_type": "code",
   "execution_count": 138,
   "id": "5dd722dc",
   "metadata": {
    "ExecuteTime": {
     "end_time": "2022-03-10T23:33:39.348439Z",
     "start_time": "2022-03-10T23:33:39.163931Z"
    }
   },
   "outputs": [
    {
     "data": {
      "text/plain": [
       "<AxesSubplot:xlabel='num_raros', ylabel='num_eventos'>"
      ]
     },
     "execution_count": 138,
     "metadata": {},
     "output_type": "execute_result"
    },
    {
     "data": {
      "image/png": "[encoded data removed]",
      "text/plain": [
       "<Figure size 432x288 with 1 Axes>"
      ]
     },
     "metadata": {},
     "output_type": "display_data"
    }
   ],
   "source": [
    "sns.barplot(data=tb_poisson, x=\"num_raros\", y=\"num_eventos\", color=bc)\n"
   ]
  },
  {
   "cell_type": "code",
   "execution_count": 141,
   "id": "63e44c0c",
   "metadata": {},
   "outputs": [
    {
     "data": {
      "text/plain": [
       "0.28"
      ]
     },
     "execution_count": 141,
     "metadata": {},
     "output_type": "execute_result"
    }
   ],
   "source": [
    "np.mean(amostra_poi)"
   ]
  },
  {
   "cell_type": "markdown",
   "id": "f772ede0",
   "metadata": {},
   "source": [
    "A distribuição de Poisson não é parametrizada por *n* e *p* mas sim pelo **número médio de sucessos** - chamada de **lambda**:\n",
    "\n",
    "$$\\lambda = p n$$\n",
    "\n",
    "A **PMF** da distribuição de Poisson é calculada através da equação\n",
    "\n",
    "$$P(k) = \\frac{\\lambda^k e^{-\\lambda}}{k!}$$\n",
    "\n",
    "Vamos utilizar a `scipy` para construir a **PMF** da nossa distribuição de **Poisson**:"
   ]
  },
  {
   "cell_type": "code",
   "execution_count": 142,
   "id": "61f0c4b3",
   "metadata": {
    "ExecuteTime": {
     "end_time": "2022-03-10T23:35:09.658068Z",
     "start_time": "2022-03-10T23:35:09.641095Z"
    }
   },
   "outputs": [],
   "source": [
    "lamb = p * n\n",
    "dist_poisson = sp.stats.poisson(lamb)\n"
   ]
  },
  {
   "cell_type": "code",
   "execution_count": 143,
   "id": "f672377b",
   "metadata": {
    "ExecuteTime": {
     "end_time": "2022-03-10T23:35:23.658982Z",
     "start_time": "2022-03-10T23:35:23.643042Z"
    }
   },
   "outputs": [],
   "source": [
    "tb_poisson[\"prob_medida\"] = tb_poisson[\"num_eventos\"] / sum(tb_poisson[\"num_eventos\"])\n",
    "tb_poisson[\"prob_real\"] = tb_poisson[\"num_raros\"].apply(dist_poisson.pmf)\n"
   ]
  },
  {
   "cell_type": "code",
   "execution_count": 144,
   "id": "6767de20",
   "metadata": {
    "ExecuteTime": {
     "end_time": "2022-03-10T23:35:24.454888Z",
     "start_time": "2022-03-10T23:35:24.257415Z"
    }
   },
   "outputs": [
    {
     "data": {
      "text/plain": [
       "<AxesSubplot:xlabel='num_raros', ylabel='prob_real'>"
      ]
     },
     "execution_count": 144,
     "metadata": {},
     "output_type": "execute_result"
    },
    {
     "data": {
      "image/png": "[encoded data removed]",
      "text/plain": [
       "<Figure size 432x288 with 1 Axes>"
      ]
     },
     "metadata": {},
     "output_type": "display_data"
    }
   ],
   "source": [
    "sns.barplot(data=tb_poisson, x=\"num_raros\", y=\"prob_medida\", color=bc)\n",
    "sns.pointplot(data=tb_poisson, x=\"num_raros\", y=\"prob_real\", color=\"red\")\n"
   ]
  },
  {
   "cell_type": "markdown",
   "id": "581e11c0",
   "metadata": {},
   "source": [
    "Embora no exemplo acima tenhamos construído uma função de amostragem para uma distribuição de Poisson através de uma simulação isto foi feito apenas para ilustrar a conexão entre as distribuições.\n",
    "\n",
    "Quando precisamos amostrar uma distribuição de Poisson podemos utilizar o método `.rvs()` da nossa variável aleatória (definida através do `scipy`). Este método recebe como argumento o **# de eventos que queremos amostrar da nossa distribuição**, e retorna esta amostragem como um vetor:"
   ]
  },
  {
   "cell_type": "code",
   "execution_count": 146,
   "id": "f6ba676f",
   "metadata": {},
   "outputs": [
    {
     "data": {
      "text/plain": [
       "array([0, 0, 0, 0, 2, 0, 0, 1, 0, 1, 0, 0, 0, 0, 0, 0, 1, 1, 1, 0, 0, 1,\n",
       "       0, 0, 0, 0, 0, 0, 0, 0, 0, 0, 1, 1, 1, 0, 0, 0, 1, 0, 0, 0, 0, 0,\n",
       "       0, 0, 0, 2, 0, 0, 0, 0, 0, 0, 0, 1, 0, 0, 1, 0, 0, 0, 0, 0, 1, 0,\n",
       "       0, 0, 0, 1, 0, 0, 0, 0, 0, 0, 0, 0, 1, 1, 0, 0, 0, 0, 0, 0, 2, 0,\n",
       "       0, 0, 0, 0, 0, 0, 0, 0, 0, 1, 0, 0, 1, 0, 0, 0, 0, 0, 0, 1, 1, 1,\n",
       "       0, 0, 0, 2, 0, 0, 0, 0, 0, 0, 1, 0, 0, 1, 0, 0, 0, 3, 0, 1, 0, 0,\n",
       "       0, 1, 0, 0, 0, 0, 0, 0, 0, 0, 1, 1, 0, 0, 0, 1, 0, 0, 0, 0, 0, 0,\n",
       "       0, 0, 0, 0, 1, 1, 0, 0, 0, 0, 0, 0, 0, 0, 1, 0, 0, 0, 1, 0, 0, 0,\n",
       "       0, 0, 0, 0, 0, 0, 0, 0, 0, 0, 1, 0, 0, 0, 0, 0, 0, 0, 0, 0, 0, 0,\n",
       "       1, 0, 0, 0, 0, 0, 0, 0, 0, 0, 0, 0, 0, 1, 0, 0, 0, 0, 0, 0, 0, 0,\n",
       "       0, 0, 0, 0, 0, 0, 0, 0, 0, 0, 0, 0, 1, 0, 0, 0, 0, 0, 0, 0, 1, 0,\n",
       "       0, 0, 0, 0, 0, 1, 0, 1, 1, 0, 1, 0, 0, 0, 0, 0, 0, 0, 0, 0, 0, 0,\n",
       "       1, 0, 1, 0, 0, 0, 0, 0, 0, 0, 1, 1, 0, 1, 0, 0, 1, 0, 0, 0, 0, 0,\n",
       "       0, 0, 1, 0, 0, 0, 0, 0, 1, 1, 1, 0, 1, 0, 0, 0, 1, 0, 0, 0, 0, 0,\n",
       "       0, 0, 0, 0, 1, 0, 0, 0, 0, 0, 0, 0, 0, 0, 0, 0, 0, 0, 0, 1, 0, 0,\n",
       "       0, 0, 1, 0, 0, 2, 0, 0, 0, 1, 0, 0, 0, 0, 0, 0, 0, 1, 0, 0, 0, 0,\n",
       "       0, 0, 0, 0, 1, 0, 0, 1, 0, 0, 0, 1, 0, 0, 0, 0, 0, 1, 1, 2, 0, 1,\n",
       "       0, 0, 0, 0, 0, 0, 0, 1, 0, 0, 0, 0, 0, 0, 0, 0, 0, 0, 1, 0, 0, 1,\n",
       "       0, 0, 0, 1, 0, 0, 0, 0, 0, 0, 0, 0, 0, 0, 0, 0, 0, 0, 0, 0, 1, 1,\n",
       "       0, 0, 0, 0, 0, 0, 1, 1, 0, 0, 1, 0, 0, 0, 0, 1, 1, 1, 0, 1, 0, 0,\n",
       "       0, 1, 0, 0, 0, 0, 0, 1, 0, 0, 0, 0, 0, 0, 0, 0, 1, 0, 0, 0, 0, 0,\n",
       "       0, 0, 0, 1, 0, 0, 0, 0, 0, 0, 0, 0, 1, 1, 0, 0, 0, 1, 1, 0, 0, 0,\n",
       "       1, 1, 0, 0, 1, 1, 0, 0, 0, 0, 0, 0, 0, 0, 0, 0, 0, 0, 0, 0, 0, 0,\n",
       "       0, 0, 0, 0, 1, 0, 0, 0, 0, 0, 0, 1, 0, 0, 0, 1, 0, 0, 0, 0, 0, 0,\n",
       "       0, 0, 0, 0, 0, 0, 0, 0, 0, 0, 0, 0, 0, 0, 0, 1, 0, 1, 1, 0, 1, 0,\n",
       "       1, 0, 0, 1, 0, 0, 0, 2, 0, 0, 0, 0, 0, 1, 0, 0, 1, 0, 0, 0, 2, 0,\n",
       "       0, 0, 0, 1, 0, 0, 1, 0, 0, 1, 1, 0, 0, 0, 0, 0, 0, 0, 0, 0, 0, 0,\n",
       "       0, 0, 0, 0, 0, 0, 0, 1, 0, 0, 0, 0, 0, 0, 0, 0, 0, 0, 0, 0, 0, 0,\n",
       "       0, 0, 1, 0, 0, 0, 0, 0, 0, 0, 1, 0, 1, 0, 0, 0, 0, 0, 1, 0, 0, 0,\n",
       "       0, 0, 0, 0, 0, 0, 1, 0, 0, 0, 0, 0, 0, 0, 0, 0, 1, 0, 0, 0, 0, 0,\n",
       "       0, 0, 0, 1, 0, 0, 0, 0, 0, 1, 0, 0, 1, 0, 0, 0, 2, 0, 0, 0, 0, 0,\n",
       "       0, 1, 0, 0, 0, 1, 0, 0, 0, 0, 0, 1, 0, 0, 0, 0, 0, 0, 0, 0, 0, 0,\n",
       "       0, 0, 0, 0, 0, 1, 0, 0, 0, 0, 0, 0, 0, 0, 0, 0, 1, 0, 0, 0, 0, 0,\n",
       "       0, 0, 0, 0, 0, 0, 0, 0, 0, 0, 0, 0, 0, 0, 0, 0, 0, 1, 0, 0, 0, 1,\n",
       "       0, 0, 0, 0, 0, 0, 1, 0, 0, 1, 0, 0, 0, 0, 0, 1, 0, 1, 0, 0, 0, 0,\n",
       "       0, 0, 1, 0, 1, 1, 1, 0, 0, 0, 0, 1, 0, 0, 1, 0, 0, 0, 0, 0, 0, 1,\n",
       "       0, 0, 0, 0, 0, 0, 0, 0, 0, 0, 0, 0, 0, 1, 1, 0, 0, 0, 0, 0, 0, 0,\n",
       "       0, 0, 1, 0, 0, 0, 2, 1, 0, 0, 0, 0, 0, 0, 0, 0, 0, 0, 0, 0, 1, 1,\n",
       "       0, 0, 0, 0, 1, 0, 1, 0, 0, 0, 0, 1, 0, 0, 0, 0, 0, 0, 0, 0, 0, 0,\n",
       "       0, 0, 0, 0, 0, 0, 0, 0, 0, 0, 1, 0, 0, 0, 0, 1, 0, 0, 0, 0, 0, 0,\n",
       "       1, 0, 0, 1, 0, 0, 0, 0, 0, 1, 0, 1, 0, 0, 1, 0, 0, 0, 0, 0, 0, 0,\n",
       "       1, 0, 0, 0, 0, 0, 0, 0, 0, 0, 1, 0, 0, 0, 0, 0, 0, 0, 0, 0, 0, 1,\n",
       "       0, 1, 0, 0, 0, 1, 0, 0, 0, 0, 2, 0, 0, 0, 0, 0, 0, 0, 0, 0, 0, 0,\n",
       "       0, 0, 0, 0, 0, 0, 0, 1, 0, 0, 1, 0, 0, 0, 0, 0, 0, 0, 1, 0, 0, 0,\n",
       "       0, 1, 0, 0, 0, 0, 1, 0, 0, 0, 0, 0, 0, 0, 0, 0, 0, 0, 0, 0, 0, 1,\n",
       "       0, 0, 0, 0, 0, 0, 1, 0, 0, 0])"
      ]
     },
     "execution_count": 146,
     "metadata": {},
     "output_type": "execute_result"
    }
   ],
   "source": [
    "amostra_100 = dist_poisson.rvs(1000)\n",
    "amostra_100\n"
   ]
  },
  {
   "cell_type": "markdown",
   "id": "50fe41f7",
   "metadata": {},
   "source": [
    "A distribuição de Poisson é usada habitualmente como uma **distribuição de contagem**: toda vez que noss espaço amostral é composto pelo **# de vezes que algo acontece**. Por exemplo, ela é utilizada para modelar o # de ligações que um call center recebe por hora, ou então o # de clientes que entram em um supermercado por minuto.\n",
    "\n",
    "Em todos estes casos, o parâmetro fundamental da distribuição de Poisson é **lambda**: o número de acontecimentos por *time bucket*. \n",
    "\n",
    "#### Aplicação I - Call Center\n",
    "Vamos utilizar a nossa **PMF** para resolver um problema prático: dado que um call center recebe **4 chamadas em média por minuto** em seu horário de pico, **até quantas ligações ele receberá em 99% dos minutos**?\n",
    "\n",
    "Vamos começar criando os parâmetros de nossa distribuição:"
   ]
  },
  {
   "cell_type": "code",
   "execution_count": 157,
   "id": "1d6167ee",
   "metadata": {},
   "outputs": [],
   "source": [
    "lamb = 4\n"
   ]
  },
  {
   "cell_type": "markdown",
   "id": "da97fcab",
   "metadata": {},
   "source": [
    "Agora, vamos inicializar nossa variável aleatória:"
   ]
  },
  {
   "cell_type": "code",
   "execution_count": 148,
   "id": "7fbf6bb0",
   "metadata": {},
   "outputs": [],
   "source": [
    "dist_ligacoes = sp.stats.poisson(lamb)\n"
   ]
  },
  {
   "cell_type": "markdown",
   "id": "65114ae7",
   "metadata": {},
   "source": [
    "Podemos utilizar a nossa **PMF** para visualizar a probabilidade do call center receber *k* chamadas em cada minuto:"
   ]
  },
  {
   "cell_type": "code",
   "execution_count": 149,
   "id": "859f0a72",
   "metadata": {},
   "outputs": [
    {
     "data": {
      "text/plain": [
       "<AxesSubplot:xlabel='num_ligacoes', ylabel='prob'>"
      ]
     },
     "execution_count": 149,
     "metadata": {},
     "output_type": "execute_result"
    },
    {
     "data": {
      "image/png": "[encoded data removed]",
      "text/plain": [
       "<Figure size 432x288 with 1 Axes>"
      ]
     },
     "metadata": {},
     "output_type": "display_data"
    }
   ],
   "source": [
    "tb_ligacoes = pd.DataFrame({\"num_ligacoes\": range(20)})\n",
    "tb_ligacoes[\"prob\"] = tb_ligacoes[\"num_ligacoes\"].map(dist_ligacoes.pmf)\n",
    "sns.barplot(data=tb_ligacoes, x=\"num_ligacoes\", y=\"prob\", color=bc)\n"
   ]
  },
  {
   "cell_type": "markdown",
   "id": "8dfb5dfb",
   "metadata": {},
   "source": [
    "A PMF nos permite calcula a **probabilidade de receber *k* ligações em um minuto** mas o problema nos pede **qual o número *k* de ligações tal que 99% dos minutos recebem menos que *k* ligações**. Podemos utilizar a **CDF** para visualizar a curva acumulada:"
   ]
  },
  {
   "cell_type": "code",
   "execution_count": 150,
   "id": "11c7d21a",
   "metadata": {},
   "outputs": [
    {
     "data": {
      "text/plain": [
       "<AxesSubplot:xlabel='num_ligacoes', ylabel='prob_acum'>"
      ]
     },
     "execution_count": 150,
     "metadata": {},
     "output_type": "execute_result"
    },
    {
     "data": {
      "image/png": "[encoded data removed]",
      "text/plain": [
       "<Figure size 432x288 with 1 Axes>"
      ]
     },
     "metadata": {},
     "output_type": "display_data"
    }
   ],
   "source": [
    "tb_ligacoes = pd.DataFrame({\"num_ligacoes\": range(20)})\n",
    "tb_ligacoes[\"prob_acum\"] = tb_ligacoes[\"num_ligacoes\"].map(dist_ligacoes.cdf)\n",
    "sns.barplot(data=tb_ligacoes, x=\"num_ligacoes\", y=\"prob_acum\", color=bc)\n"
   ]
  },
  {
   "cell_type": "code",
   "execution_count": null,
   "id": "72dea4cb",
   "metadata": {},
   "outputs": [],
   "source": [
    "tb_ligacoes\n"
   ]
  },
  {
   "cell_type": "markdown",
   "id": "a30fc911",
   "metadata": {},
   "source": [
    "Uma outra forma mais simples é utilizar a **PPF** (*percent point function*) que nos permite calcular a partir de uma **probabilidade** o **k** tal que:\n",
    "\n",
    "$$P(x) < k = p$$"
   ]
  },
  {
   "cell_type": "code",
   "execution_count": 151,
   "id": "4b8e62ee",
   "metadata": {},
   "outputs": [
    {
     "data": {
      "text/plain": [
       "9.0"
      ]
     },
     "execution_count": 151,
     "metadata": {},
     "output_type": "execute_result"
    }
   ],
   "source": [
    "dist_ligacoes.ppf(0.99)\n"
   ]
  },
  {
   "cell_type": "markdown",
   "id": "b338f3d8",
   "metadata": {},
   "source": [
    "### Distribuição Exponencial\n",
    "\n",
    "**Espaço amostral**: *Números Reais >= 0*\n",
    "\n",
    "**Parâmetros**: \n",
    "1. *lambda*: taxa.\n",
    "\n",
    "**Estatísticas Descritivas**:\n",
    "* *Média* $$\\mu = \\frac{1}{\\lambda}$$\n",
    "* *Desvio Padrão* $$\\sigma = \\frac{1}{\\lambda}$$\n",
    "\n",
    "Até agora as variáveis aleatória que vimos são todas **discretas**, ou seja, o seu espaço amostral é composto por um número pequeno de eventos possíveis (`['cara', 'coroa']` por exemplo) ou por um número inteiro.\n",
    "\n",
    "A distribuição exponencial é **contínua**, o que significa que **não podemos calcular a probabilidade em um evento em particular**, apenas de conjuntos de eventos:\n",
    "\n",
    "1. Se uma variável aleatória tem uma distribuição exponencial, não conseguimos calcular a probabilidade de um número *x* (**P**(*x*));\n",
    "1. Para calcular a probabilidade de conjunto de eventos, calculamos a probabilide de intervalos, por exemplo: \n",
    "    * **P**(*x* < *A*) (probabilidade de um evento ter valor menor que A);\n",
    "    * **P**(*x* > *A*) (probabilidade de um evento ter valor maior que A);\n",
    "    * **P**(*A* < *x* < *B*) (probabilidade de um evento ter valor maior que A e menor que B);\n",
    "\n",
    "Vamos inicializar uma variável aleatória com distribuição **Exponencial** através da função `expon()`. \n",
    "\n",
    "Um detalhe **importante** é que essa função não é **parametrizada por lambda** e sim por `scale = 1/lambda` (ou seja, pela média da distribuição)!"
   ]
  },
  {
   "cell_type": "code",
   "execution_count": 166,
   "id": "7ccfb456",
   "metadata": {
    "ExecuteTime": {
     "end_time": "2022-03-10T23:38:46.515055Z",
     "start_time": "2022-03-10T23:38:46.508074Z"
    }
   },
   "outputs": [],
   "source": [
    "dist_exp = sp.stats.expon(scale=1 / lamb)\n"
   ]
  },
  {
   "cell_type": "code",
   "execution_count": 167,
   "id": "9a7feb59",
   "metadata": {},
   "outputs": [
    {
     "data": {
      "text/plain": [
       "0     3.843158e+00\n",
       "1     2.566795e+00\n",
       "2     1.714329e+00\n",
       "3     1.144978e+00\n",
       "4     7.647157e-01\n",
       "          ...     \n",
       "95    8.540217e-17\n",
       "96    5.703899e-17\n",
       "97    3.809560e-17\n",
       "98    2.544355e-17\n",
       "99    1.699342e-17\n",
       "Name: x, Length: 100, dtype: float64"
      ]
     },
     "execution_count": 167,
     "metadata": {},
     "output_type": "execute_result"
    }
   ],
   "source": [
    "tb_expon[\"x\"].map(dist_exp.pdf)"
   ]
  },
  {
   "cell_type": "markdown",
   "id": "4845c4de",
   "metadata": {},
   "source": [
    "Como uma distribuição contínua não possui probabilidade associadas à cada evento, precisamos utilizar outra função para `visualizar` a distribuição: a **PDF** ou *probability density function*:"
   ]
  },
  {
   "cell_type": "code",
   "execution_count": 170,
   "id": "2c125fc5",
   "metadata": {
    "ExecuteTime": {
     "end_time": "2022-03-10T23:44:56.792986Z",
     "start_time": "2022-03-10T23:44:56.554625Z"
    }
   },
   "outputs": [
    {
     "data": {
      "text/plain": [
       "<AxesSubplot:xlabel='x', ylabel='pdf'>"
      ]
     },
     "execution_count": 170,
     "metadata": {},
     "output_type": "execute_result"
    },
    {
     "data": {
      "image/png": "[encoded data removed]",
      "text/plain": [
       "<Figure size 432x288 with 1 Axes>"
      ]
     },
     "metadata": {},
     "output_type": "display_data"
    }
   ],
   "source": [
    "tb_expon = pd.DataFrame({\"x\": np.linspace(0.01, 3, 100)})\n",
    "tb_expon[\"pdf\"] = tb_expon[\"x\"].map(dist_exp.pdf)\n",
    "sns.lineplot(data = tb_expon, x='x', y='pdf', color=\"red\")\n"
   ]
  },
  {
   "cell_type": "markdown",
   "id": "05ac19d8",
   "metadata": {},
   "source": [
    "Note que a **PDF** tem valores **ACIMA DE 1**! Ela não é uma função de probabilidade!\n",
    "\n",
    "Para calcular a probabilidade de um intervalo devemos utilizar a **CDF**:"
   ]
  },
  {
   "cell_type": "code",
   "execution_count": 173,
   "id": "d4f6508b",
   "metadata": {
    "ExecuteTime": {
     "end_time": "2022-03-10T23:42:00.777184Z",
     "start_time": "2022-03-10T23:42:00.568751Z"
    }
   },
   "outputs": [
    {
     "data": {
      "text/html": [
       "<div>\n",
       "<style scoped>\n",
       "    .dataframe tbody tr th:only-of-type {\n",
       "        vertical-align: middle;\n",
       "    }\n",
       "\n",
       "    .dataframe tbody tr th {\n",
       "        vertical-align: top;\n",
       "    }\n",
       "\n",
       "    .dataframe thead th {\n",
       "        text-align: right;\n",
       "    }\n",
       "</style>\n",
       "<table border=\"1\" class=\"dataframe\">\n",
       "  <thead>\n",
       "    <tr style=\"text-align: right;\">\n",
       "      <th></th>\n",
       "      <th>x</th>\n",
       "      <th>pdf</th>\n",
       "      <th>CDF</th>\n",
       "    </tr>\n",
       "  </thead>\n",
       "  <tbody>\n",
       "    <tr>\n",
       "      <th>0</th>\n",
       "      <td>0.010000</td>\n",
       "      <td>3.843158</td>\n",
       "      <td>0.039211</td>\n",
       "    </tr>\n",
       "    <tr>\n",
       "      <th>1</th>\n",
       "      <td>0.040202</td>\n",
       "      <td>3.405822</td>\n",
       "      <td>0.148545</td>\n",
       "    </tr>\n",
       "    <tr>\n",
       "      <th>2</th>\n",
       "      <td>0.070404</td>\n",
       "      <td>3.018253</td>\n",
       "      <td>0.245437</td>\n",
       "    </tr>\n",
       "    <tr>\n",
       "      <th>3</th>\n",
       "      <td>0.100606</td>\n",
       "      <td>2.674788</td>\n",
       "      <td>0.331303</td>\n",
       "    </tr>\n",
       "    <tr>\n",
       "      <th>4</th>\n",
       "      <td>0.130808</td>\n",
       "      <td>2.370408</td>\n",
       "      <td>0.407398</td>\n",
       "    </tr>\n",
       "    <tr>\n",
       "      <th>5</th>\n",
       "      <td>0.161010</td>\n",
       "      <td>2.100665</td>\n",
       "      <td>0.474834</td>\n",
       "    </tr>\n",
       "    <tr>\n",
       "      <th>6</th>\n",
       "      <td>0.191212</td>\n",
       "      <td>1.861618</td>\n",
       "      <td>0.534596</td>\n",
       "    </tr>\n",
       "    <tr>\n",
       "      <th>7</th>\n",
       "      <td>0.221414</td>\n",
       "      <td>1.649773</td>\n",
       "      <td>0.587557</td>\n",
       "    </tr>\n",
       "    <tr>\n",
       "      <th>8</th>\n",
       "      <td>0.251616</td>\n",
       "      <td>1.462036</td>\n",
       "      <td>0.634491</td>\n",
       "    </tr>\n",
       "    <tr>\n",
       "      <th>9</th>\n",
       "      <td>0.281818</td>\n",
       "      <td>1.295662</td>\n",
       "      <td>0.676085</td>\n",
       "    </tr>\n",
       "  </tbody>\n",
       "</table>\n",
       "</div>"
      ],
      "text/plain": [
       "          x       pdf       CDF\n",
       "0  0.010000  3.843158  0.039211\n",
       "1  0.040202  3.405822  0.148545\n",
       "2  0.070404  3.018253  0.245437\n",
       "3  0.100606  2.674788  0.331303\n",
       "4  0.130808  2.370408  0.407398\n",
       "5  0.161010  2.100665  0.474834\n",
       "6  0.191212  1.861618  0.534596\n",
       "7  0.221414  1.649773  0.587557\n",
       "8  0.251616  1.462036  0.634491\n",
       "9  0.281818  1.295662  0.676085"
      ]
     },
     "execution_count": 173,
     "metadata": {},
     "output_type": "execute_result"
    },
    {
     "data": {
      "image/png": "[encoded data removed]",
      "text/plain": [
       "<Figure size 432x288 with 1 Axes>"
      ]
     },
     "metadata": {},
     "output_type": "display_data"
    }
   ],
   "source": [
    "tb_expon[\"CDF\"] = tb_expon[\"x\"].map(dist_exp.cdf)\n",
    "sns.lineplot(data = tb_expon, x='x', y='CDF', color=\"red\")\n",
    "tb_expon.head(10)\n"
   ]
  },
  {
   "cell_type": "markdown",
   "id": "d568b51d",
   "metadata": {},
   "source": [
    "A **CDF** de uma distribuição continua nos da a probabilidade de que um evento tenha valor inferior a X (comunmente escrito **P**(*x* < *X*)). Na distribuição acima vemos que a probabilidade de um evento ter valor menor que 0,07 é de 0,245.\n",
    "\n",
    "Para calcular a probabilidade de intervalos podemos utilizar a diferença entre **CDF**s. Vamos calcular a chance de um enveto com valores entre 0,5 e 1,5:"
   ]
  },
  {
   "cell_type": "code",
   "execution_count": 177,
   "id": "eff24762",
   "metadata": {},
   "outputs": [
    {
     "data": {
      "text/plain": [
       "0.8646647167633873"
      ]
     },
     "execution_count": 177,
     "metadata": {},
     "output_type": "execute_result"
    }
   ],
   "source": [
    "dist_exp.cdf(0.5) - dist_exp.cdf(0.)\n"
   ]
  },
  {
   "cell_type": "markdown",
   "id": "61a3b29b",
   "metadata": {},
   "source": [
    "A distribuição exponencial é utilizada para modelar o **tempo entre eventos independentes**, por exemplo, o tempo entre chamadas chegando em um call center. **Eventos independentes** são eventos cuja probabilidades de ocorrer não são relacionadas - por exemplo, em 2 lances de moedas sequencias, a chance de caras no segunda lance não depende do resultado do primeiro!\n",
    "\n",
    "Utilizaremos a distribuição exponencial para simular o tempo entre ligações chegando em um call center - assumindo o mesmo lambda que utilizamos na nossa simulação de Call Center da distribuição de Poisson. **Assim como a distribuição de Poisson**, a distribuição **Exponencial** é parametrizada por **lambda**, *a taxa de chegada de eventos por unidade de tempo*."
   ]
  },
  {
   "cell_type": "code",
   "execution_count": 178,
   "id": "3581969d",
   "metadata": {
    "ExecuteTime": {
     "end_time": "2022-03-10T23:49:06.313047Z",
     "start_time": "2022-03-10T23:49:06.305069Z"
    }
   },
   "outputs": [
    {
     "data": {
      "text/plain": [
       "array([3.30077644e-01, 2.27178254e-01, 8.49447220e-01, 1.54556426e-01,\n",
       "       5.65815378e-01, 3.92404626e-01, 3.41266306e-02, 1.23206491e-01,\n",
       "       1.29403331e-01, 5.05280801e-02, 9.61394425e-01, 2.76670056e-01,\n",
       "       6.24833516e-02, 4.82740680e-02, 5.73449233e-03, 2.89917912e-01,\n",
       "       2.88102655e-02, 8.57357392e-02, 2.03106002e-01, 1.38273013e-01,\n",
       "       9.89326071e-02, 2.03833731e-01, 1.56222301e-01, 5.92980560e-01,\n",
       "       1.40114405e-01, 2.53094627e-01, 3.02164528e-02, 3.99494863e-02,\n",
       "       7.26504481e-02, 5.52759245e-01, 7.88389304e-02, 9.28652140e-03,\n",
       "       1.00484345e-03, 5.70525148e-02, 1.64512782e-01, 1.71033578e+00,\n",
       "       6.69607732e-01, 4.63974046e-01, 7.78757424e-02, 3.39718749e-01,\n",
       "       6.34842614e-01, 2.11984095e-02, 1.16277652e-01, 6.70903170e-02,\n",
       "       6.71523395e-01, 1.73768592e-01, 3.62273039e-01, 1.61145806e-02,\n",
       "       3.49449514e-01, 2.20748632e-01, 2.44515412e-01, 1.30588925e-01,\n",
       "       3.51507871e-01, 3.44818481e-02, 3.03454707e-02, 1.04027027e-01,\n",
       "       3.07242240e-01, 9.00897345e-02, 1.08160954e+00, 4.05138782e-01,\n",
       "       4.92501998e-02, 2.05551745e-01, 3.91263981e-01, 5.30817040e-02,\n",
       "       1.83373524e-01, 3.10336934e-01, 4.00760450e-01, 1.53253323e-01,\n",
       "       6.04636417e-01, 1.14935959e-01, 2.91287755e-01, 1.87237945e-01,\n",
       "       6.10606477e-01, 3.15341969e-01, 6.30209995e-02, 2.93346386e-02,\n",
       "       3.75020115e-01, 4.87884607e-01, 2.55235877e-01, 1.39146253e-02,\n",
       "       1.48100015e-01, 4.88204699e-01, 4.61264218e-01, 1.68967378e-01,\n",
       "       7.16802389e-01, 6.69354330e-01, 3.55516934e-02, 1.50178582e-01,\n",
       "       1.47468098e-01, 4.96237395e-01, 2.21397647e-01, 4.72323178e-02,\n",
       "       1.89333459e-01, 1.73549560e-01, 2.89122206e-01, 2.87027292e-01,\n",
       "       3.22638309e-01, 5.49258440e-02, 4.66718853e-03, 4.54753985e-01,\n",
       "       8.33773614e-01, 2.61769142e-01, 3.42660040e-01, 6.52890472e-01,\n",
       "       4.86110686e-01, 1.00326943e-01, 3.28483406e-01, 2.25090191e-02,\n",
       "       1.91420116e-01, 6.63537051e-02, 3.69090180e-02, 1.25882129e-01,\n",
       "       2.22879106e-01, 9.45792472e-02, 4.44774954e-02, 3.51232839e-01,\n",
       "       1.74500272e-01, 1.75427487e-01, 1.28596967e-02, 5.73271703e-02,\n",
       "       1.83544526e-01, 6.26373400e-02, 3.30708188e-02, 6.77681786e-01,\n",
       "       3.31910096e-01, 3.46352327e-01, 1.20296550e-01, 1.79164317e-01,\n",
       "       8.52675525e-01, 1.53286788e-01, 6.80071479e-03, 1.04404540e+00,\n",
       "       2.94322047e-01, 4.72369834e-02, 2.20072322e-01, 3.27423708e-01,\n",
       "       4.59554301e-02, 2.17377240e-01, 6.35417998e-01, 5.54566591e-01,\n",
       "       1.76409670e-03, 4.44436328e-01, 1.74839971e-01, 2.15550813e-01,\n",
       "       1.57513033e-01, 2.63192780e-01, 6.56960561e-02, 6.83716462e-02,\n",
       "       1.53296885e+00, 2.48285476e-01, 5.14620171e-01, 7.62606389e-01,\n",
       "       7.06887065e-02, 2.18598697e-01, 2.07681711e-01, 3.52613055e-01,\n",
       "       1.30401416e-01, 1.82343168e-01, 3.80582951e-02, 9.53669417e-02,\n",
       "       2.13059583e-01, 6.14288094e-01, 6.00584656e-02, 1.68467202e-02,\n",
       "       1.27352180e-01, 1.25408915e-01, 2.41308698e-02, 9.41180271e-02,\n",
       "       3.02612627e-02, 1.44142950e-01, 3.32136763e-01, 6.60738270e-01,\n",
       "       1.74662371e-01, 2.77335292e-02, 4.53049200e-01, 8.96110985e-02,\n",
       "       2.41881190e-02, 4.91547991e-01, 2.97208985e-02, 4.70519615e-01,\n",
       "       3.02282013e-02, 3.83831334e-02, 2.57788675e-01, 6.37784729e-01,\n",
       "       1.75238717e-01, 2.03181168e-02, 2.03939998e-01, 3.74580259e-01,\n",
       "       2.39709877e-01, 3.29516022e-02, 4.60369624e-01, 2.11683766e-01,\n",
       "       2.21487616e-01, 2.28090844e-01, 3.32929863e-01, 7.99501454e-01,\n",
       "       3.15242791e-01, 2.96153761e-01, 5.66222048e-02, 3.52287695e-01,\n",
       "       6.92850800e-01, 9.22809170e-02, 3.87036442e-01, 3.20668284e-01,\n",
       "       3.43993304e-01, 7.37767699e-01, 1.20001705e-01, 7.85570042e-02,\n",
       "       3.59962272e-01, 5.16383889e-01, 2.54175288e-01, 1.54905698e-01,\n",
       "       4.51946725e-01, 2.85975171e-01, 5.11187056e-02, 6.03167035e-02,\n",
       "       4.47369317e-02, 2.34941109e-01, 4.64258957e-01, 6.11548415e-02,\n",
       "       1.05453083e-01, 3.37078670e-01, 5.98380585e-02, 1.34975536e+00,\n",
       "       3.49246202e-01, 7.46012229e-02, 9.52453883e-02, 4.20320819e-01,\n",
       "       1.52460346e-01, 1.71264869e-01, 4.84238950e-03, 1.89866090e-01,\n",
       "       1.43500245e-03, 1.38571304e-01, 4.29897275e-02, 2.02224386e-01,\n",
       "       2.29613380e-01, 1.02036825e+00, 8.71192660e-02, 3.93837460e-01,\n",
       "       2.60923493e-01, 3.09076586e-02, 7.35706230e-02, 2.18576859e-01,\n",
       "       3.56454080e-01, 1.08711736e-02, 1.45863144e-02, 1.99281391e-01,\n",
       "       3.68969653e-01, 1.19361655e-01, 6.94099379e-02, 3.00764474e-01,\n",
       "       4.98741437e-01, 2.73221755e-01, 2.68461037e-01, 2.59030065e-01,\n",
       "       4.00830620e-01, 1.78222141e-01, 8.40846950e-02, 5.59034260e-01,\n",
       "       1.49012462e-01, 3.79620281e-01, 2.89241442e-01, 4.04934524e-01,\n",
       "       7.99517779e-02, 1.61720681e-02, 3.53672464e-01, 5.28040195e-02,\n",
       "       3.37860290e-01, 2.92399755e-01, 1.71480906e-01, 2.65953732e-01,\n",
       "       1.47919953e-01, 1.48231120e-01, 2.46516814e-01, 1.17469321e-01,\n",
       "       3.81251569e-01, 4.14755517e-02, 3.07282480e-01, 2.55752609e-01,\n",
       "       2.05762681e-01, 1.63201799e-01, 1.23973201e-01, 3.82922886e-01,\n",
       "       1.94994556e-02, 3.45141532e-01, 2.75880078e-01, 5.45464766e-01,\n",
       "       9.17989868e-02, 4.48524710e-02, 7.61291224e-02, 1.19453882e-01,\n",
       "       5.69121270e-02, 4.72098418e-01, 4.11952690e-02, 5.18562841e-02,\n",
       "       3.80485562e-01, 3.31112365e-01, 8.99782587e-02, 1.92795883e-01,\n",
       "       2.60070815e+00, 7.14692344e-04, 1.85669747e-01, 4.73166553e-02,\n",
       "       1.32917248e-01, 7.41655728e-01, 1.73657819e-02, 5.02328688e-02,\n",
       "       4.34085265e-01, 5.76907921e-02, 3.44285253e-01, 3.32431633e-02,\n",
       "       4.08703794e-03, 8.76511359e-01, 2.15164987e-01, 3.08180588e-01,\n",
       "       1.98823370e-02, 9.69969862e-01, 9.32298470e-02, 4.25350810e-02,\n",
       "       6.04403936e-01, 1.50843263e-01, 1.33565168e-01, 6.42973828e-02,\n",
       "       5.12427871e-01, 2.30567614e-01, 4.92968883e-01, 8.83547651e-01,\n",
       "       4.77789817e-02, 1.63497668e-02, 1.30247909e-01, 6.38898689e-02,\n",
       "       6.77405789e-01, 2.15903471e-01, 2.93495871e-02, 2.15625087e-01,\n",
       "       5.62371630e-02, 5.14306744e-02, 1.13893875e-01, 2.05628879e-01,\n",
       "       1.33367897e-01, 2.47689650e-01, 5.50683464e-01, 3.51147581e-01,\n",
       "       3.52697541e-01, 1.70739711e-01, 2.14862141e-01, 9.26289306e-02,\n",
       "       6.41391485e-02, 1.11795007e-01, 3.97669731e-01, 9.52615870e-01,\n",
       "       1.36978302e-01, 2.09595506e-01, 5.34463347e-02, 1.22323746e+00,\n",
       "       4.31360226e-02, 1.60320920e-01, 2.60603252e-01, 2.74311939e-01,\n",
       "       9.41456914e-03, 1.72868397e-01, 2.45798698e-02, 5.12493511e-01,\n",
       "       5.04620268e-02, 9.88550054e-02, 1.24962254e-01, 3.16255913e-02,\n",
       "       5.38444993e-02, 4.29750450e-01, 5.71160720e-01, 7.79709444e-01,\n",
       "       2.30788661e-01, 1.57292613e-01, 3.90626528e-01, 4.50008346e-01,\n",
       "       4.01206407e-01, 3.18844715e-01, 1.03695047e-01, 1.66936853e-01,\n",
       "       4.03166511e-02, 8.44533444e-02, 5.90776989e-01, 2.81517381e-01,\n",
       "       9.21936211e-02, 3.32413897e-01, 7.08859540e-01, 1.97038252e-01,\n",
       "       1.40238527e-04, 3.34119462e-01, 6.66839364e-01, 2.05134825e-01,\n",
       "       1.64201878e+00, 8.40036791e-02, 5.39863284e-02, 5.50452504e-01,\n",
       "       4.12857565e-01, 1.73841528e-02, 4.90488059e-02, 2.96616599e-01,\n",
       "       3.72872586e-01, 1.91451845e-01, 3.68717888e-01, 4.22619888e-01,\n",
       "       9.30860235e-01, 6.38651457e-02, 5.84876203e-01, 1.29231592e-01,\n",
       "       3.85470940e-01, 8.61970700e-02, 1.02493092e+00, 5.29121183e-02,\n",
       "       3.92357293e-01, 8.28388103e-02, 2.27222108e-01, 2.33283124e-01,\n",
       "       1.45764978e-01, 9.20108336e-02, 1.52686757e-01, 2.93556630e-01,\n",
       "       5.41252117e-01, 1.11385046e-01, 5.90125815e-01, 8.46462520e-03,\n",
       "       1.93753309e-01, 5.77499926e-02, 5.59421657e-02, 2.70166074e-01,\n",
       "       3.94214801e-02, 8.45440084e-01, 4.42572604e-02, 8.34110784e-02,\n",
       "       8.98910953e-02, 1.30132421e-02, 8.42975716e-01, 1.76150776e-02,\n",
       "       1.10303021e-01, 3.72320656e-01, 3.18211071e-01, 5.74237615e-02,\n",
       "       1.53978824e-01, 3.63610021e-02, 1.30619573e-02, 2.08919530e-01,\n",
       "       1.07882682e-01, 9.55016991e-02, 3.83462504e-02, 7.36088088e-01,\n",
       "       1.29678324e-02, 7.51311900e-02, 2.46156285e-02, 1.83210702e-01,\n",
       "       7.34292813e-01, 2.40148784e-01, 3.41880557e-02, 1.17461970e-01,\n",
       "       1.32132051e-01, 1.70412708e-02, 2.04399512e-01, 2.08397250e-01,\n",
       "       7.26656999e-02, 6.64039823e-02, 3.14410582e-01, 1.26872126e-02,\n",
       "       5.52023938e-01, 9.20638367e-02, 4.98642781e-01, 8.42293614e-02,\n",
       "       3.21771923e-01, 1.65903082e-01, 2.54514075e-02, 1.37700471e-01,\n",
       "       7.07948510e-02, 3.37697188e-02, 7.83335199e-02, 4.01208263e-02,\n",
       "       3.65968414e-01, 4.15731810e-01, 8.26350037e-03, 6.19362578e-02,\n",
       "       3.18705116e-01, 2.86318926e-01, 3.10633822e-02, 3.85067076e-01,\n",
       "       6.34739339e-01, 3.39340385e-01, 2.18666481e-01, 1.11377290e-01,\n",
       "       7.77809614e-02, 6.17638129e-02, 1.82374573e-01, 4.97476628e-02,\n",
       "       5.73808551e-02, 5.48307220e-01, 1.13090139e-01, 6.57978169e-02,\n",
       "       3.10617708e-01, 1.16054613e+00, 8.69657004e-02, 6.49884895e-01,\n",
       "       7.35654427e-01, 1.31910671e-01, 1.58382229e-01, 1.61721263e-02,\n",
       "       4.91187374e-02, 5.20868107e-02, 9.11222158e-03, 6.06352205e-02,\n",
       "       4.38399861e-01, 5.97873958e-02, 8.77876508e-02, 6.35011117e-03,\n",
       "       2.92282518e-01, 1.50993423e-01, 9.68352557e-02, 1.45711228e-02,\n",
       "       1.09611384e-01, 2.34600097e-02, 5.87668475e-01, 9.56463907e-02,\n",
       "       6.71867907e-03, 2.63508187e-02, 5.58727658e-01, 5.09767935e-01,\n",
       "       3.03124136e-01, 1.22621974e-02, 6.79041079e-01, 3.90595174e-01,\n",
       "       1.82876734e-01, 2.70451432e-01, 6.98671133e-02, 2.67536936e-01,\n",
       "       2.43914387e-01, 1.84771763e-03, 1.47941991e-01, 1.17380849e-01,\n",
       "       2.50626957e-03, 3.66085926e-01, 7.66974115e-01, 3.97401967e-01,\n",
       "       1.80602047e-01, 2.79422947e-01, 7.88094443e-02, 6.13420280e-02,\n",
       "       7.92672121e-01, 6.30489915e-01, 3.02908066e-01, 1.50359270e+00,\n",
       "       9.12714125e-01, 9.38809780e-01, 4.19219459e-01, 6.37459381e-02,\n",
       "       2.21579785e-01, 1.44902223e-01, 5.43537639e-02, 2.34756918e-01,\n",
       "       4.58041713e-02, 2.73716326e-01, 2.85234096e-01, 7.59442265e-01,\n",
       "       1.69596139e-01, 1.25723710e+00, 7.66039461e-02, 1.35592267e-01,\n",
       "       1.53879106e-01, 1.32986628e-01, 4.77010984e-01, 7.75101247e-02,\n",
       "       3.42646968e-01, 1.02182534e-01, 9.50037880e-01, 1.82988096e-01,\n",
       "       4.16315472e-01, 5.22461923e-01, 7.22906955e-02, 1.13919649e-01,\n",
       "       5.86990299e-01, 4.57626196e-01, 2.95456757e-01, 7.88637774e-03,\n",
       "       3.60849207e-01, 7.22660926e-02, 6.44499454e-02, 1.86885799e-01,\n",
       "       3.61069492e-01, 5.79778417e-01, 9.25338959e-02, 1.28742482e-02,\n",
       "       1.09603347e-01, 4.95235259e-02, 2.52305130e-01, 7.32803827e-02,\n",
       "       2.79106865e-02, 3.01155760e-01, 1.58474191e-01, 2.04314035e-02,\n",
       "       4.92427746e-01, 8.29439349e-02, 1.37633882e-01, 4.72827570e-01,\n",
       "       6.75723916e-01, 3.28468746e-01, 4.74019821e-01, 5.89311239e-02,\n",
       "       2.56499339e-01, 8.07617347e-03, 2.13584100e-01, 1.83857246e-01,\n",
       "       3.21639631e-01, 2.41617994e-01, 8.87189940e-02, 1.12160208e-01,\n",
       "       7.60400721e-02, 4.68398867e-01, 3.63786581e-01, 2.85749027e-01,\n",
       "       5.93527910e-01, 3.06594531e-02, 6.28680099e-03, 1.48876043e-01,\n",
       "       1.62278862e-01, 8.31191557e-02, 8.11699619e-01, 1.40293736e-01,\n",
       "       1.85777104e-01, 6.31265425e-02, 5.60989332e-03, 4.19566044e-01,\n",
       "       4.23387726e-01, 3.55276724e-01, 1.07498308e+00, 4.80587158e-02,\n",
       "       2.61624052e-01, 4.52801651e-01, 3.91286799e-01, 2.28871930e-01,\n",
       "       3.96070238e-01, 7.58288710e-02, 1.41817935e-01, 1.58310281e-02,\n",
       "       4.03684468e-01, 3.16389720e-01, 3.56551593e-01, 2.62291551e-01,\n",
       "       8.90550141e-01, 1.94975672e-01, 3.03933727e-01, 5.35623880e-03,\n",
       "       6.40330901e-02, 1.41963512e-01, 8.56132784e-02, 3.78022812e-01,\n",
       "       9.50291703e-01, 7.91357650e-01, 7.03819380e-02, 1.22163775e-01,\n",
       "       7.96420311e-02, 3.35385303e-02, 1.72205385e-01, 9.50900436e-01,\n",
       "       1.00180589e-01, 6.29946756e-02, 3.03178350e-01, 5.36770230e-02,\n",
       "       4.07660951e-01, 6.66387829e-02, 6.88805859e-03, 2.39631808e-01,\n",
       "       1.22387800e-02, 2.46602649e-02, 6.34278019e-02, 1.29394066e-01,\n",
       "       5.26922915e-01, 1.84839330e-01, 1.67564842e-01, 1.99442133e-01,\n",
       "       2.98558230e-02, 4.13992526e-01, 2.92688698e-02, 3.44852086e-02,\n",
       "       7.37084903e-01, 5.69811508e-01, 2.79986941e-01, 8.61665478e-02,\n",
       "       2.37844909e-01, 3.24559034e-01, 6.37612344e-01, 5.81479705e-01,\n",
       "       3.48795843e-01, 4.52482384e-02, 8.69080040e-01, 4.08044590e-01,\n",
       "       5.97191301e-02, 5.55935483e-01, 5.49864330e-02, 2.99021792e-01,\n",
       "       9.81984643e-02, 2.28405366e-01, 5.08812541e-02, 7.16682077e-01,\n",
       "       4.65924982e-01, 2.34860628e-03, 4.01083715e-01, 3.32017113e-01,\n",
       "       3.80389847e-02, 1.90182785e-01, 4.17621624e-01, 5.82421176e-01,\n",
       "       3.20765361e-02, 8.44939268e-01, 2.14493265e-02, 5.63746094e-01,\n",
       "       3.40944447e-02, 9.19757389e-02, 2.21063892e-01, 4.66697726e-01,\n",
       "       5.78588852e-01, 4.90226724e-02, 6.22628397e-01, 2.93082140e-01,\n",
       "       1.06390916e+00, 1.20153110e-01, 2.76308971e-01, 1.12992960e+00,\n",
       "       2.13255780e-01, 1.19396709e-01, 7.83272295e-02, 5.44791175e-01,\n",
       "       2.26010466e-01, 3.76735340e-02, 1.59407519e-01, 2.97890374e-01,\n",
       "       2.94286821e-03, 1.94192972e-02, 1.15066774e-01, 1.62485695e-01,\n",
       "       9.13544549e-03, 2.21027820e-01, 9.02513290e-02, 1.82720481e-01,\n",
       "       3.08311413e-02, 5.97525947e-01, 3.65659116e-01, 1.07992915e+00,\n",
       "       6.31268467e-01, 7.02161939e-01, 7.39741902e-01, 9.03353370e-02,\n",
       "       9.95272654e-02, 8.97488354e-02, 3.36310758e-02, 2.43222522e-01,\n",
       "       2.94491856e-01, 9.36079426e-02, 3.09681420e-01, 1.00166594e+00,\n",
       "       4.92275374e-02, 4.76551914e-03, 2.73470346e-01, 1.24468772e-01,\n",
       "       3.12019066e-01, 1.88959642e-01, 1.63357686e-01, 8.89989508e-03,\n",
       "       4.94502420e-01, 6.25676217e-02, 2.85567976e-02, 3.76729578e-01,\n",
       "       3.82017655e-01, 4.99026233e-02, 5.79300075e-01, 8.01135358e-02,\n",
       "       1.66071868e-02, 1.41894308e-01, 2.71633517e-01, 5.92100985e-01,\n",
       "       1.74938074e-01, 1.97578705e-01, 7.41092552e-01, 2.26606832e-01,\n",
       "       8.58694796e-02, 1.76969017e-02, 5.83908639e-01, 1.02949919e-01,\n",
       "       1.56013864e-01, 1.25031553e-01, 3.09406035e-02, 1.63022357e-01,\n",
       "       1.77117657e-01, 1.83456984e-01, 7.03001268e-02, 1.02218983e-01,\n",
       "       1.34546943e-01, 5.74412341e-01, 2.75613389e-02, 3.53051993e-01,\n",
       "       7.65251853e-02, 6.78463183e-01, 1.13651850e-01, 4.57391524e-01,\n",
       "       1.00087770e-01, 5.85957340e-01, 1.62986658e-01, 4.87717303e-02,\n",
       "       3.61244407e-01, 2.19618332e-02, 1.29587759e-01, 2.80719424e-02,\n",
       "       1.59928732e-01, 2.93902984e-02, 1.15131042e-01, 2.60976234e-01,\n",
       "       1.43397102e-02, 1.70830666e-02, 4.27876569e-01, 3.77756903e-01,\n",
       "       2.25384128e-02, 1.92452279e-02, 1.63836122e-02, 9.19415948e-03,\n",
       "       6.00876517e-01, 7.45723216e-02, 5.63114382e-01, 3.40274963e-01,\n",
       "       1.25657895e-02, 7.26901884e-02, 1.85131512e-01, 9.16148877e-02,\n",
       "       3.71483920e-01, 2.66284120e-02, 1.49139267e-01, 8.07495007e-01,\n",
       "       2.27400350e-01, 2.67061237e-02, 4.85677688e-01, 1.35350571e-01,\n",
       "       4.62916929e-01, 1.46402120e-02, 4.60307558e-01, 4.98785742e-01,\n",
       "       9.33784942e-01, 2.26096573e-02, 8.86103250e-02, 1.41208233e-02,\n",
       "       7.93935593e-02, 8.73113656e-02, 1.70322320e-01, 3.27640646e-01,\n",
       "       3.44708114e-01, 2.35308535e-01, 2.87212699e-01, 2.37375208e-01,\n",
       "       4.40252877e-01, 4.01397705e-01, 1.12179889e-01, 6.70441108e-02,\n",
       "       2.24914083e-01, 2.26918793e-01, 3.43875635e-01, 3.81397577e-02,\n",
       "       3.07238441e-01, 4.36806518e-01, 1.12377484e-01, 4.70696537e-01,\n",
       "       2.01185630e-01, 3.62470246e-02, 7.35749216e-02, 2.95630704e-01,\n",
       "       5.07103699e-01, 1.38672313e-01, 2.13077320e-01, 7.14473956e-01,\n",
       "       1.70609642e-01, 5.69443868e-02, 6.63621275e-02, 4.87652491e-01,\n",
       "       1.10865890e-01, 1.61630582e-01, 7.10443851e-03, 3.09790977e-01,\n",
       "       6.67465932e-01, 2.67215924e-02, 3.47340190e-03, 3.66289275e-02,\n",
       "       5.75981253e-01, 8.10103594e-03, 2.14675666e-03, 4.96334558e-01,\n",
       "       6.50976047e-01, 9.10299321e-02, 1.27122860e-01, 8.98812119e-02,\n",
       "       8.51924573e-03, 2.20787167e-01, 3.19833718e-01, 4.54468557e-02,\n",
       "       1.45591160e-02, 6.42326723e-01, 5.94586555e-02, 5.82099726e-02,\n",
       "       8.27704954e-02, 5.06601952e-02, 4.10184822e-01, 2.02959203e-01,\n",
       "       3.03309133e-01, 5.22293483e-01, 8.78807383e-01, 8.08258500e-02,\n",
       "       2.88993745e-03, 2.29469930e-02, 2.51918121e-01, 5.52333052e-02,\n",
       "       2.13399610e-01, 5.03031576e-02, 5.11716411e-01, 6.51425726e-01,\n",
       "       7.76146668e-02, 3.10621539e-01, 3.49773852e-01, 4.04897174e-01,\n",
       "       3.72723908e-01, 3.49042075e-01, 8.88082094e-02, 3.34259728e-01,\n",
       "       3.10345616e-01, 7.71606517e-02, 4.15790702e-01, 3.03644795e-01,\n",
       "       3.04665828e-01, 3.98077354e-01, 9.41579910e-03, 1.03349935e-01,\n",
       "       4.93174549e-01, 8.29249027e-01, 5.99690546e-03, 2.21681660e-01,\n",
       "       1.53072224e-01, 9.41069971e-01, 1.47082035e-01, 1.48247998e-01,\n",
       "       4.67111289e-01, 9.02468493e-02, 1.61492666e-01, 2.22180555e-02,\n",
       "       5.26949386e-03, 1.78587644e-01, 2.99113876e-02, 3.83774719e-01,\n",
       "       7.54509919e-01, 8.81239654e-03, 9.84837609e-02, 3.91502341e-01,\n",
       "       3.32874022e-01, 2.42470293e-01, 3.44292777e-01, 3.05331387e-02,\n",
       "       4.13839669e-01, 2.86137009e-01, 1.15226651e-01, 8.62884682e-01,\n",
       "       5.25747796e-01, 2.97742390e-01, 1.26072640e-01, 2.34723725e-03,\n",
       "       3.60931637e-01, 3.18197626e-01, 6.46205053e-02, 2.05235749e-01,\n",
       "       4.29827201e-02, 3.68952973e-01, 4.93579245e-01, 3.36701728e-02,\n",
       "       5.41554861e-02, 2.72002218e-02, 4.48146487e-03, 1.17521001e-01,\n",
       "       1.10727639e+00, 3.00479239e-02, 2.44054502e-01, 3.55843347e-01,\n",
       "       3.19340019e-01, 3.06659683e-01, 2.89857037e-03, 1.93392881e-01,\n",
       "       4.60785286e-02, 5.99399585e-03, 2.53257329e-01, 2.06837855e-01,\n",
       "       3.41184613e-01, 3.22018304e-01, 4.82645692e-02, 3.49950315e-02,\n",
       "       1.87222999e-01, 3.82088803e-01, 1.96586609e-01, 8.99403123e-02,\n",
       "       6.38985411e-01, 2.59087444e-01, 6.41309566e-02, 4.07887407e-01])"
      ]
     },
     "execution_count": 178,
     "metadata": {},
     "output_type": "execute_result"
    }
   ],
   "source": [
    "amostra_exp = dist_exp.rvs(size=1000)\n",
    "amostra_exp\n"
   ]
  },
  {
   "cell_type": "markdown",
   "id": "58db2e54",
   "metadata": {},
   "source": [
    "Agora vamos transformar essa amostra em um `DataFrame` e criar duas colunas:\n",
    "\n",
    "1. `t_acumulado`: quanto tempo passou desde o começo da coleta de dados;\n",
    "1. `minuto`: em qual minuto aconteceu cada evento."
   ]
  },
  {
   "cell_type": "code",
   "execution_count": 180,
   "id": "9feee2ca",
   "metadata": {},
   "outputs": [
    {
     "data": {
      "text/html": [
       "<div>\n",
       "<style scoped>\n",
       "    .dataframe tbody tr th:only-of-type {\n",
       "        vertical-align: middle;\n",
       "    }\n",
       "\n",
       "    .dataframe tbody tr th {\n",
       "        vertical-align: top;\n",
       "    }\n",
       "\n",
       "    .dataframe thead th {\n",
       "        text-align: right;\n",
       "    }\n",
       "</style>\n",
       "<table border=\"1\" class=\"dataframe\">\n",
       "  <thead>\n",
       "    <tr style=\"text-align: right;\">\n",
       "      <th></th>\n",
       "      <th>t</th>\n",
       "      <th>t_acumulado</th>\n",
       "      <th>minuto</th>\n",
       "    </tr>\n",
       "  </thead>\n",
       "  <tbody>\n",
       "    <tr>\n",
       "      <th>0</th>\n",
       "      <td>0.330078</td>\n",
       "      <td>0.330078</td>\n",
       "      <td>0.0</td>\n",
       "    </tr>\n",
       "    <tr>\n",
       "      <th>1</th>\n",
       "      <td>0.227178</td>\n",
       "      <td>0.557256</td>\n",
       "      <td>0.0</td>\n",
       "    </tr>\n",
       "    <tr>\n",
       "      <th>2</th>\n",
       "      <td>0.849447</td>\n",
       "      <td>1.406703</td>\n",
       "      <td>1.0</td>\n",
       "    </tr>\n",
       "    <tr>\n",
       "      <th>3</th>\n",
       "      <td>0.154556</td>\n",
       "      <td>1.561260</td>\n",
       "      <td>1.0</td>\n",
       "    </tr>\n",
       "    <tr>\n",
       "      <th>4</th>\n",
       "      <td>0.565815</td>\n",
       "      <td>2.127075</td>\n",
       "      <td>2.0</td>\n",
       "    </tr>\n",
       "    <tr>\n",
       "      <th>5</th>\n",
       "      <td>0.392405</td>\n",
       "      <td>2.519480</td>\n",
       "      <td>2.0</td>\n",
       "    </tr>\n",
       "    <tr>\n",
       "      <th>6</th>\n",
       "      <td>0.034127</td>\n",
       "      <td>2.553606</td>\n",
       "      <td>2.0</td>\n",
       "    </tr>\n",
       "    <tr>\n",
       "      <th>7</th>\n",
       "      <td>0.123206</td>\n",
       "      <td>2.676813</td>\n",
       "      <td>2.0</td>\n",
       "    </tr>\n",
       "    <tr>\n",
       "      <th>8</th>\n",
       "      <td>0.129403</td>\n",
       "      <td>2.806216</td>\n",
       "      <td>2.0</td>\n",
       "    </tr>\n",
       "    <tr>\n",
       "      <th>9</th>\n",
       "      <td>0.050528</td>\n",
       "      <td>2.856744</td>\n",
       "      <td>2.0</td>\n",
       "    </tr>\n",
       "    <tr>\n",
       "      <th>10</th>\n",
       "      <td>0.961394</td>\n",
       "      <td>3.818139</td>\n",
       "      <td>3.0</td>\n",
       "    </tr>\n",
       "    <tr>\n",
       "      <th>11</th>\n",
       "      <td>0.276670</td>\n",
       "      <td>4.094809</td>\n",
       "      <td>4.0</td>\n",
       "    </tr>\n",
       "    <tr>\n",
       "      <th>12</th>\n",
       "      <td>0.062483</td>\n",
       "      <td>4.157292</td>\n",
       "      <td>4.0</td>\n",
       "    </tr>\n",
       "    <tr>\n",
       "      <th>13</th>\n",
       "      <td>0.048274</td>\n",
       "      <td>4.205566</td>\n",
       "      <td>4.0</td>\n",
       "    </tr>\n",
       "    <tr>\n",
       "      <th>14</th>\n",
       "      <td>0.005734</td>\n",
       "      <td>4.211300</td>\n",
       "      <td>4.0</td>\n",
       "    </tr>\n",
       "  </tbody>\n",
       "</table>\n",
       "</div>"
      ],
      "text/plain": [
       "           t  t_acumulado  minuto\n",
       "0   0.330078     0.330078     0.0\n",
       "1   0.227178     0.557256     0.0\n",
       "2   0.849447     1.406703     1.0\n",
       "3   0.154556     1.561260     1.0\n",
       "4   0.565815     2.127075     2.0\n",
       "5   0.392405     2.519480     2.0\n",
       "6   0.034127     2.553606     2.0\n",
       "7   0.123206     2.676813     2.0\n",
       "8   0.129403     2.806216     2.0\n",
       "9   0.050528     2.856744     2.0\n",
       "10  0.961394     3.818139     3.0\n",
       "11  0.276670     4.094809     4.0\n",
       "12  0.062483     4.157292     4.0\n",
       "13  0.048274     4.205566     4.0\n",
       "14  0.005734     4.211300     4.0"
      ]
     },
     "execution_count": 180,
     "metadata": {},
     "output_type": "execute_result"
    }
   ],
   "source": [
    "tb_expon = pd.DataFrame({\"t\": amostra_exp})\n",
    "tb_expon[\"t_acumulado\"] = tb_expon[\"t\"].cumsum()\n",
    "tb_expon[\"minuto\"] = np.floor(tb_expon[\"t_acumulado\"])\n",
    "tb_expon.head(15)\n"
   ]
  },
  {
   "cell_type": "markdown",
   "id": "26eb716c",
   "metadata": {},
   "source": [
    "Agora vamos agrupar nossa tabela de eventos para saber quantos eventos foram observados em cada `minuto`."
   ]
  },
  {
   "cell_type": "code",
   "execution_count": 181,
   "id": "5404613a",
   "metadata": {
    "ExecuteTime": {
     "end_time": "2022-03-10T23:50:44.683468Z",
     "start_time": "2022-03-10T23:50:44.675488Z"
    }
   },
   "outputs": [
    {
     "data": {
      "text/html": [
       "<div>\n",
       "<style scoped>\n",
       "    .dataframe tbody tr th:only-of-type {\n",
       "        vertical-align: middle;\n",
       "    }\n",
       "\n",
       "    .dataframe tbody tr th {\n",
       "        vertical-align: top;\n",
       "    }\n",
       "\n",
       "    .dataframe thead th {\n",
       "        text-align: right;\n",
       "    }\n",
       "</style>\n",
       "<table border=\"1\" class=\"dataframe\">\n",
       "  <thead>\n",
       "    <tr style=\"text-align: right;\">\n",
       "      <th></th>\n",
       "      <th>minuto</th>\n",
       "      <th>num_eventos</th>\n",
       "    </tr>\n",
       "  </thead>\n",
       "  <tbody>\n",
       "    <tr>\n",
       "      <th>0</th>\n",
       "      <td>0.0</td>\n",
       "      <td>2</td>\n",
       "    </tr>\n",
       "    <tr>\n",
       "      <th>1</th>\n",
       "      <td>1.0</td>\n",
       "      <td>2</td>\n",
       "    </tr>\n",
       "    <tr>\n",
       "      <th>2</th>\n",
       "      <td>2.0</td>\n",
       "      <td>6</td>\n",
       "    </tr>\n",
       "    <tr>\n",
       "      <th>3</th>\n",
       "      <td>3.0</td>\n",
       "      <td>1</td>\n",
       "    </tr>\n",
       "    <tr>\n",
       "      <th>4</th>\n",
       "      <td>4.0</td>\n",
       "      <td>9</td>\n",
       "    </tr>\n",
       "  </tbody>\n",
       "</table>\n",
       "</div>"
      ],
      "text/plain": [
       "   minuto  num_eventos\n",
       "0     0.0            2\n",
       "1     1.0            2\n",
       "2     2.0            6\n",
       "3     3.0            1\n",
       "4     4.0            9"
      ]
     },
     "execution_count": 181,
     "metadata": {},
     "output_type": "execute_result"
    }
   ],
   "source": [
    "n_eventos_minuto = (\n",
    "    tb_expon.groupby(\"minuto\")[\"t\"]\n",
    "    .count()\n",
    "    .reset_index()\n",
    "    .rename({\"t\": \"num_eventos\"}, axis=1)\n",
    ")\n",
    "n_eventos_minuto.head()\n"
   ]
  },
  {
   "cell_type": "markdown",
   "id": "911ece79",
   "metadata": {},
   "source": [
    "Como a tabela acima contém apenas os minutos com pelo menos um evento, vamos criar uma tabela auxiliar com todos os minutos possíveis (entre 0 e o máximo da tabela de eventos):"
   ]
  },
  {
   "cell_type": "code",
   "execution_count": 182,
   "id": "72b25e5d",
   "metadata": {},
   "outputs": [
    {
     "data": {
      "text/html": [
       "<div>\n",
       "<style scoped>\n",
       "    .dataframe tbody tr th:only-of-type {\n",
       "        vertical-align: middle;\n",
       "    }\n",
       "\n",
       "    .dataframe tbody tr th {\n",
       "        vertical-align: top;\n",
       "    }\n",
       "\n",
       "    .dataframe thead th {\n",
       "        text-align: right;\n",
       "    }\n",
       "</style>\n",
       "<table border=\"1\" class=\"dataframe\">\n",
       "  <thead>\n",
       "    <tr style=\"text-align: right;\">\n",
       "      <th></th>\n",
       "      <th>minuto</th>\n",
       "    </tr>\n",
       "  </thead>\n",
       "  <tbody>\n",
       "    <tr>\n",
       "      <th>0</th>\n",
       "      <td>0</td>\n",
       "    </tr>\n",
       "    <tr>\n",
       "      <th>1</th>\n",
       "      <td>1</td>\n",
       "    </tr>\n",
       "    <tr>\n",
       "      <th>2</th>\n",
       "      <td>2</td>\n",
       "    </tr>\n",
       "    <tr>\n",
       "      <th>3</th>\n",
       "      <td>3</td>\n",
       "    </tr>\n",
       "    <tr>\n",
       "      <th>4</th>\n",
       "      <td>4</td>\n",
       "    </tr>\n",
       "  </tbody>\n",
       "</table>\n",
       "</div>"
      ],
      "text/plain": [
       "   minuto\n",
       "0       0\n",
       "1       1\n",
       "2       2\n",
       "3       3\n",
       "4       4"
      ]
     },
     "execution_count": 182,
     "metadata": {},
     "output_type": "execute_result"
    }
   ],
   "source": [
    "lista_minutos = range(int(tb_expon[\"minuto\"].min()), int(tb_expon[\"minuto\"].max()))\n",
    "tb_minutos = pd.DataFrame({\"minuto\": lista_minutos})\n",
    "tb_minutos.head()\n"
   ]
  },
  {
   "cell_type": "markdown",
   "id": "06155cda",
   "metadata": {},
   "source": [
    "Vamos juntar as duas tabelas para ter a contagem de eventos em cada minuto da nossa coleta de dados. "
   ]
  },
  {
   "cell_type": "code",
   "execution_count": 183,
   "id": "29259989",
   "metadata": {
    "ExecuteTime": {
     "end_time": "2022-03-10T23:51:29.221152Z",
     "start_time": "2022-03-10T23:51:29.201204Z"
    }
   },
   "outputs": [
    {
     "data": {
      "text/html": [
       "<div>\n",
       "<style scoped>\n",
       "    .dataframe tbody tr th:only-of-type {\n",
       "        vertical-align: middle;\n",
       "    }\n",
       "\n",
       "    .dataframe tbody tr th {\n",
       "        vertical-align: top;\n",
       "    }\n",
       "\n",
       "    .dataframe thead th {\n",
       "        text-align: right;\n",
       "    }\n",
       "</style>\n",
       "<table border=\"1\" class=\"dataframe\">\n",
       "  <thead>\n",
       "    <tr style=\"text-align: right;\">\n",
       "      <th></th>\n",
       "      <th>minuto</th>\n",
       "      <th>num_eventos</th>\n",
       "    </tr>\n",
       "  </thead>\n",
       "  <tbody>\n",
       "    <tr>\n",
       "      <th>0</th>\n",
       "      <td>0</td>\n",
       "      <td>2.0</td>\n",
       "    </tr>\n",
       "    <tr>\n",
       "      <th>1</th>\n",
       "      <td>1</td>\n",
       "      <td>2.0</td>\n",
       "    </tr>\n",
       "    <tr>\n",
       "      <th>2</th>\n",
       "      <td>2</td>\n",
       "      <td>6.0</td>\n",
       "    </tr>\n",
       "    <tr>\n",
       "      <th>3</th>\n",
       "      <td>3</td>\n",
       "      <td>1.0</td>\n",
       "    </tr>\n",
       "    <tr>\n",
       "      <th>4</th>\n",
       "      <td>4</td>\n",
       "      <td>9.0</td>\n",
       "    </tr>\n",
       "    <tr>\n",
       "      <th>...</th>\n",
       "      <td>...</td>\n",
       "      <td>...</td>\n",
       "    </tr>\n",
       "    <tr>\n",
       "      <th>255</th>\n",
       "      <td>255</td>\n",
       "      <td>4.0</td>\n",
       "    </tr>\n",
       "    <tr>\n",
       "      <th>256</th>\n",
       "      <td>256</td>\n",
       "      <td>6.0</td>\n",
       "    </tr>\n",
       "    <tr>\n",
       "      <th>257</th>\n",
       "      <td>257</td>\n",
       "      <td>5.0</td>\n",
       "    </tr>\n",
       "    <tr>\n",
       "      <th>258</th>\n",
       "      <td>258</td>\n",
       "      <td>5.0</td>\n",
       "    </tr>\n",
       "    <tr>\n",
       "      <th>259</th>\n",
       "      <td>259</td>\n",
       "      <td>3.0</td>\n",
       "    </tr>\n",
       "  </tbody>\n",
       "</table>\n",
       "<p>260 rows × 2 columns</p>\n",
       "</div>"
      ],
      "text/plain": [
       "     minuto  num_eventos\n",
       "0         0          2.0\n",
       "1         1          2.0\n",
       "2         2          6.0\n",
       "3         3          1.0\n",
       "4         4          9.0\n",
       "..      ...          ...\n",
       "255     255          4.0\n",
       "256     256          6.0\n",
       "257     257          5.0\n",
       "258     258          5.0\n",
       "259     259          3.0\n",
       "\n",
       "[260 rows x 2 columns]"
      ]
     },
     "execution_count": 183,
     "metadata": {},
     "output_type": "execute_result"
    }
   ],
   "source": [
    "tb_num_eventos = pd.merge(tb_minutos, n_eventos_minuto, how=\"left\", on=\"minuto\")\n",
    "tb_num_eventos = tb_num_eventos.fillna(0)\n",
    "tb_num_eventos\n"
   ]
  },
  {
   "cell_type": "markdown",
   "id": "4cb64aa4",
   "metadata": {},
   "source": [
    "Agora podemos visualizar a distribuição do # de ligações por minuto - e veremos que essa distribuição é uma distribuição de Poisson!"
   ]
  },
  {
   "cell_type": "code",
   "execution_count": 184,
   "id": "ed67366b",
   "metadata": {},
   "outputs": [
    {
     "data": {
      "text/html": [
       "<div>\n",
       "<style scoped>\n",
       "    .dataframe tbody tr th:only-of-type {\n",
       "        vertical-align: middle;\n",
       "    }\n",
       "\n",
       "    .dataframe tbody tr th {\n",
       "        vertical-align: top;\n",
       "    }\n",
       "\n",
       "    .dataframe thead th {\n",
       "        text-align: right;\n",
       "    }\n",
       "</style>\n",
       "<table border=\"1\" class=\"dataframe\">\n",
       "  <thead>\n",
       "    <tr style=\"text-align: right;\">\n",
       "      <th></th>\n",
       "      <th>num_eventos</th>\n",
       "      <th>minuto</th>\n",
       "    </tr>\n",
       "  </thead>\n",
       "  <tbody>\n",
       "    <tr>\n",
       "      <th>0</th>\n",
       "      <td>0.0</td>\n",
       "      <td>5</td>\n",
       "    </tr>\n",
       "    <tr>\n",
       "      <th>1</th>\n",
       "      <td>1.0</td>\n",
       "      <td>18</td>\n",
       "    </tr>\n",
       "    <tr>\n",
       "      <th>2</th>\n",
       "      <td>2.0</td>\n",
       "      <td>41</td>\n",
       "    </tr>\n",
       "    <tr>\n",
       "      <th>3</th>\n",
       "      <td>3.0</td>\n",
       "      <td>59</td>\n",
       "    </tr>\n",
       "    <tr>\n",
       "      <th>4</th>\n",
       "      <td>4.0</td>\n",
       "      <td>51</td>\n",
       "    </tr>\n",
       "    <tr>\n",
       "      <th>5</th>\n",
       "      <td>5.0</td>\n",
       "      <td>39</td>\n",
       "    </tr>\n",
       "    <tr>\n",
       "      <th>6</th>\n",
       "      <td>6.0</td>\n",
       "      <td>25</td>\n",
       "    </tr>\n",
       "    <tr>\n",
       "      <th>7</th>\n",
       "      <td>7.0</td>\n",
       "      <td>12</td>\n",
       "    </tr>\n",
       "    <tr>\n",
       "      <th>8</th>\n",
       "      <td>8.0</td>\n",
       "      <td>3</td>\n",
       "    </tr>\n",
       "    <tr>\n",
       "      <th>9</th>\n",
       "      <td>9.0</td>\n",
       "      <td>6</td>\n",
       "    </tr>\n",
       "    <tr>\n",
       "      <th>10</th>\n",
       "      <td>11.0</td>\n",
       "      <td>1</td>\n",
       "    </tr>\n",
       "  </tbody>\n",
       "</table>\n",
       "</div>"
      ],
      "text/plain": [
       "    num_eventos  minuto\n",
       "0           0.0       5\n",
       "1           1.0      18\n",
       "2           2.0      41\n",
       "3           3.0      59\n",
       "4           4.0      51\n",
       "5           5.0      39\n",
       "6           6.0      25\n",
       "7           7.0      12\n",
       "8           8.0       3\n",
       "9           9.0       6\n",
       "10         11.0       1"
      ]
     },
     "execution_count": 184,
     "metadata": {},
     "output_type": "execute_result"
    }
   ],
   "source": [
    "tb_num_eventos.groupby(\"num_eventos\").count().reset_index()"
   ]
  },
  {
   "cell_type": "code",
   "execution_count": 185,
   "id": "99ec9790",
   "metadata": {},
   "outputs": [
    {
     "data": {
      "text/html": [
       "<div>\n",
       "<style scoped>\n",
       "    .dataframe tbody tr th:only-of-type {\n",
       "        vertical-align: middle;\n",
       "    }\n",
       "\n",
       "    .dataframe tbody tr th {\n",
       "        vertical-align: top;\n",
       "    }\n",
       "\n",
       "    .dataframe thead th {\n",
       "        text-align: right;\n",
       "    }\n",
       "</style>\n",
       "<table border=\"1\" class=\"dataframe\">\n",
       "  <thead>\n",
       "    <tr style=\"text-align: right;\">\n",
       "      <th></th>\n",
       "      <th>num_eventos</th>\n",
       "      <th>contagem</th>\n",
       "    </tr>\n",
       "  </thead>\n",
       "  <tbody>\n",
       "    <tr>\n",
       "      <th>0</th>\n",
       "      <td>0.0</td>\n",
       "      <td>5</td>\n",
       "    </tr>\n",
       "    <tr>\n",
       "      <th>1</th>\n",
       "      <td>1.0</td>\n",
       "      <td>18</td>\n",
       "    </tr>\n",
       "    <tr>\n",
       "      <th>2</th>\n",
       "      <td>2.0</td>\n",
       "      <td>41</td>\n",
       "    </tr>\n",
       "    <tr>\n",
       "      <th>3</th>\n",
       "      <td>3.0</td>\n",
       "      <td>59</td>\n",
       "    </tr>\n",
       "    <tr>\n",
       "      <th>4</th>\n",
       "      <td>4.0</td>\n",
       "      <td>51</td>\n",
       "    </tr>\n",
       "    <tr>\n",
       "      <th>5</th>\n",
       "      <td>5.0</td>\n",
       "      <td>39</td>\n",
       "    </tr>\n",
       "    <tr>\n",
       "      <th>6</th>\n",
       "      <td>6.0</td>\n",
       "      <td>25</td>\n",
       "    </tr>\n",
       "    <tr>\n",
       "      <th>7</th>\n",
       "      <td>7.0</td>\n",
       "      <td>12</td>\n",
       "    </tr>\n",
       "    <tr>\n",
       "      <th>8</th>\n",
       "      <td>8.0</td>\n",
       "      <td>3</td>\n",
       "    </tr>\n",
       "    <tr>\n",
       "      <th>9</th>\n",
       "      <td>9.0</td>\n",
       "      <td>6</td>\n",
       "    </tr>\n",
       "    <tr>\n",
       "      <th>10</th>\n",
       "      <td>11.0</td>\n",
       "      <td>1</td>\n",
       "    </tr>\n",
       "  </tbody>\n",
       "</table>\n",
       "</div>"
      ],
      "text/plain": [
       "    num_eventos  contagem\n",
       "0           0.0         5\n",
       "1           1.0        18\n",
       "2           2.0        41\n",
       "3           3.0        59\n",
       "4           4.0        51\n",
       "5           5.0        39\n",
       "6           6.0        25\n",
       "7           7.0        12\n",
       "8           8.0         3\n",
       "9           9.0         6\n",
       "10         11.0         1"
      ]
     },
     "execution_count": 185,
     "metadata": {},
     "output_type": "execute_result"
    }
   ],
   "source": [
    "tb_poiss_pro = tb_num_eventos.groupby(\"num_eventos\").count().reset_index()\n",
    "tb_poiss_pro = tb_poiss_pro.rename({\"minuto\": \"contagem\"}, axis=1)\n",
    "tb_poiss_pro\n"
   ]
  },
  {
   "cell_type": "code",
   "execution_count": 186,
   "id": "b485c500",
   "metadata": {
    "ExecuteTime": {
     "end_time": "2022-03-10T23:52:07.701158Z",
     "start_time": "2022-03-10T23:52:07.673201Z"
    }
   },
   "outputs": [
    {
     "data": {
      "text/html": [
       "<div>\n",
       "<style scoped>\n",
       "    .dataframe tbody tr th:only-of-type {\n",
       "        vertical-align: middle;\n",
       "    }\n",
       "\n",
       "    .dataframe tbody tr th {\n",
       "        vertical-align: top;\n",
       "    }\n",
       "\n",
       "    .dataframe thead th {\n",
       "        text-align: right;\n",
       "    }\n",
       "</style>\n",
       "<table border=\"1\" class=\"dataframe\">\n",
       "  <thead>\n",
       "    <tr style=\"text-align: right;\">\n",
       "      <th></th>\n",
       "      <th>num_eventos</th>\n",
       "      <th>contagem</th>\n",
       "      <th>prob_real</th>\n",
       "      <th>prob_medida</th>\n",
       "    </tr>\n",
       "  </thead>\n",
       "  <tbody>\n",
       "    <tr>\n",
       "      <th>0</th>\n",
       "      <td>0.0</td>\n",
       "      <td>5</td>\n",
       "      <td>0.018316</td>\n",
       "      <td>0.019231</td>\n",
       "    </tr>\n",
       "    <tr>\n",
       "      <th>1</th>\n",
       "      <td>1.0</td>\n",
       "      <td>18</td>\n",
       "      <td>0.073263</td>\n",
       "      <td>0.069231</td>\n",
       "    </tr>\n",
       "    <tr>\n",
       "      <th>2</th>\n",
       "      <td>2.0</td>\n",
       "      <td>41</td>\n",
       "      <td>0.146525</td>\n",
       "      <td>0.157692</td>\n",
       "    </tr>\n",
       "    <tr>\n",
       "      <th>3</th>\n",
       "      <td>3.0</td>\n",
       "      <td>59</td>\n",
       "      <td>0.195367</td>\n",
       "      <td>0.226923</td>\n",
       "    </tr>\n",
       "    <tr>\n",
       "      <th>4</th>\n",
       "      <td>4.0</td>\n",
       "      <td>51</td>\n",
       "      <td>0.195367</td>\n",
       "      <td>0.196154</td>\n",
       "    </tr>\n",
       "    <tr>\n",
       "      <th>5</th>\n",
       "      <td>5.0</td>\n",
       "      <td>39</td>\n",
       "      <td>0.156293</td>\n",
       "      <td>0.150000</td>\n",
       "    </tr>\n",
       "    <tr>\n",
       "      <th>6</th>\n",
       "      <td>6.0</td>\n",
       "      <td>25</td>\n",
       "      <td>0.104196</td>\n",
       "      <td>0.096154</td>\n",
       "    </tr>\n",
       "    <tr>\n",
       "      <th>7</th>\n",
       "      <td>7.0</td>\n",
       "      <td>12</td>\n",
       "      <td>0.059540</td>\n",
       "      <td>0.046154</td>\n",
       "    </tr>\n",
       "    <tr>\n",
       "      <th>8</th>\n",
       "      <td>8.0</td>\n",
       "      <td>3</td>\n",
       "      <td>0.029770</td>\n",
       "      <td>0.011538</td>\n",
       "    </tr>\n",
       "    <tr>\n",
       "      <th>9</th>\n",
       "      <td>9.0</td>\n",
       "      <td>6</td>\n",
       "      <td>0.013231</td>\n",
       "      <td>0.023077</td>\n",
       "    </tr>\n",
       "    <tr>\n",
       "      <th>10</th>\n",
       "      <td>11.0</td>\n",
       "      <td>1</td>\n",
       "      <td>0.001925</td>\n",
       "      <td>0.003846</td>\n",
       "    </tr>\n",
       "  </tbody>\n",
       "</table>\n",
       "</div>"
      ],
      "text/plain": [
       "    num_eventos  contagem  prob_real  prob_medida\n",
       "0           0.0         5   0.018316     0.019231\n",
       "1           1.0        18   0.073263     0.069231\n",
       "2           2.0        41   0.146525     0.157692\n",
       "3           3.0        59   0.195367     0.226923\n",
       "4           4.0        51   0.195367     0.196154\n",
       "5           5.0        39   0.156293     0.150000\n",
       "6           6.0        25   0.104196     0.096154\n",
       "7           7.0        12   0.059540     0.046154\n",
       "8           8.0         3   0.029770     0.011538\n",
       "9           9.0         6   0.013231     0.023077\n",
       "10         11.0         1   0.001925     0.003846"
      ]
     },
     "execution_count": 186,
     "metadata": {},
     "output_type": "execute_result"
    }
   ],
   "source": [
    "tb_poiss_pro[\"prob_real\"] = tb_poiss_pro[\"num_eventos\"].apply(dist_ligacoes.pmf)\n",
    "tb_poiss_pro[\"prob_medida\"] = tb_poiss_pro[\"contagem\"] / sum(tb_poiss_pro[\"contagem\"])\n",
    "tb_poiss_pro\n"
   ]
  },
  {
   "cell_type": "code",
   "execution_count": 187,
   "id": "1ac1a0ad",
   "metadata": {
    "ExecuteTime": {
     "end_time": "2022-03-10T23:52:08.725846Z",
     "start_time": "2022-03-10T23:52:08.532365Z"
    }
   },
   "outputs": [
    {
     "data": {
      "text/plain": [
       "<AxesSubplot:xlabel='num_eventos', ylabel='prob_real'>"
      ]
     },
     "execution_count": 187,
     "metadata": {},
     "output_type": "execute_result"
    },
    {
     "data": {
      "image/png": "[encoded data removed]",
      "text/plain": [
       "<Figure size 432x288 with 1 Axes>"
      ]
     },
     "metadata": {},
     "output_type": "display_data"
    }
   ],
   "source": [
    "sns.barplot(data=tb_poiss_pro, x=\"num_eventos\", y=\"prob_medida\", color=bc)\n",
    "sns.pointplot(data=tb_poiss_pro, x=\"num_eventos\", y=\"prob_real\", color=\"red\")\n"
   ]
  },
  {
   "cell_type": "markdown",
   "id": "5578e094",
   "metadata": {},
   "source": [
    "O exercício acima nos permite ver como as distribuições de Poisson e Exponencial são conectadas:\n",
    "\n",
    "1. A distribuição de Poisson mede a probabilidade de *x* eventos acontecerem por unidade de tempo;\n",
    "1. A distribuição Exponencial mede a probabilidade do intervalo de tempo entre eventos.\n",
    "\n",
    "### Distribuição Normal \n",
    "**e o Teorema do Limite Central**\n",
    "\n",
    "<img src=\"images/gauss.jpeg\" alt=\"Drawing\" style=\"width: 200px;\"/>\n",
    "\n",
    "**Espaço amostral**: *Números Reais*\n",
    "\n",
    "**Parâmetros**: \n",
    "1. *mu*: média.\n",
    "1. *sigma*: desvio padrão.\n",
    "\n",
    "**Estatísticas Descritivas**:\n",
    "* *Média* $$\\mu$$\n",
    "* *Desvio Padrão* $$\\sigma$$\n",
    "\n",
    "A distribuição **Normal** foi inventada por Carl Gauss (e por isso as vezes é chamada de *Gaussiana*) em 1809 durante seu estudo de erros em medições astronômicas. Gauss descobriou que quando uma variável aleatória é o resultado de muitos processos aleatórios diferentes e independentes ela terá uma distribuição Normal.\n",
    "\n",
    "Essa descoberta, chamada de **Teorema do Limite Central**, é uma das descobertas mais fundamentais na probabilidade. A onipresença da distribuição **Normal** é explicada por este teorema: a maior parte das coisas que mensuramos e quantificamos são resultados de inúmeros processos aleatórios complexos! Uma demonstração do teorema descoberto por Gauss está fora do escopo da aula mas podemos alavancar a probabilidade computacional para *enxergar* este teorema em ação.\n",
    "\n",
    "Até o momento criamos diversas amostras de diferentes distribuições probabilísticas como exemplo. Vamos 'juntar' todas estas amostras em uma amostra única."
   ]
  },
  {
   "cell_type": "code",
   "execution_count": 188,
   "id": "a9d8bdde",
   "metadata": {
    "ExecuteTime": {
     "end_time": "2022-03-11T00:02:34.341885Z",
     "start_time": "2022-03-11T00:02:34.326919Z"
    }
   },
   "outputs": [
    {
     "data": {
      "text/plain": [
       "[6, 5, 4, 4, 3]"
      ]
     },
     "execution_count": 188,
     "metadata": {},
     "output_type": "execute_result"
    }
   ],
   "source": [
    "amostra_binomial_array = np.array(amostra_binomial[0:99])\n",
    "amostra_binomial[0:5]\n"
   ]
  },
  {
   "cell_type": "code",
   "execution_count": 189,
   "id": "af7c8f2a",
   "metadata": {
    "ExecuteTime": {
     "end_time": "2022-03-11T00:02:37.222067Z",
     "start_time": "2022-03-11T00:02:37.211123Z"
    }
   },
   "outputs": [
    {
     "data": {
      "text/plain": [
       "[1, 2, 1, 1, 2]"
      ]
     },
     "execution_count": 189,
     "metadata": {},
     "output_type": "execute_result"
    }
   ],
   "source": [
    "amostra_geo_array = np.array(amostra_geo[0:99])\n",
    "amostra_geo[0:5]\n"
   ]
  },
  {
   "cell_type": "code",
   "execution_count": 190,
   "id": "c6a83c62",
   "metadata": {
    "ExecuteTime": {
     "end_time": "2022-03-11T00:02:37.766822Z",
     "start_time": "2022-03-11T00:02:37.752840Z"
    }
   },
   "outputs": [
    {
     "data": {
      "text/plain": [
       "[0, 1, 1, 0, 0]"
      ]
     },
     "execution_count": 190,
     "metadata": {},
     "output_type": "execute_result"
    }
   ],
   "source": [
    "amostra_poi_array = np.array(amostra_poi[0:99])\n",
    "amostra_poi[0:5]\n"
   ]
  },
  {
   "cell_type": "code",
   "execution_count": 191,
   "id": "2de1ad1e",
   "metadata": {
    "ExecuteTime": {
     "end_time": "2022-03-11T00:02:38.326694Z",
     "start_time": "2022-03-11T00:02:38.315722Z"
    }
   },
   "outputs": [
    {
     "data": {
      "text/plain": [
       "array([0.33007764, 0.22717825, 0.84944722, 0.15455643, 0.56581538])"
      ]
     },
     "execution_count": 191,
     "metadata": {},
     "output_type": "execute_result"
    }
   ],
   "source": [
    "amostra_exp_array = np.array(amostra_exp[0:99])\n",
    "amostra_exp[0:5]\n"
   ]
  },
  {
   "cell_type": "markdown",
   "id": "c41e6421",
   "metadata": {},
   "source": [
    "Vamos consolidar essas amostras em uma matriz de amostras onde cada linha é uma observação, cada coluna é uma distribuição diferente:"
   ]
  },
  {
   "cell_type": "code",
   "execution_count": 192,
   "id": "1bba89fe",
   "metadata": {},
   "outputs": [],
   "source": [
    "matriz_amostras = np.array(\n",
    "    [amostra_binomial_array, amostra_geo_array, amostra_poi_array, amostra_exp_array]\n",
    ")\n"
   ]
  },
  {
   "cell_type": "code",
   "execution_count": 193,
   "id": "304e0e3c",
   "metadata": {},
   "outputs": [
    {
     "data": {
      "text/plain": [
       "array([[6.00000000e+00, 5.00000000e+00, 4.00000000e+00, 4.00000000e+00,\n",
       "        3.00000000e+00, 6.00000000e+00, 6.00000000e+00, 5.00000000e+00,\n",
       "        6.00000000e+00, 5.00000000e+00, 6.00000000e+00, 3.00000000e+00,\n",
       "        6.00000000e+00, 6.00000000e+00, 9.00000000e+00, 7.00000000e+00,\n",
       "        8.00000000e+00, 5.00000000e+00, 6.00000000e+00, 4.00000000e+00,\n",
       "        4.00000000e+00, 5.00000000e+00, 3.00000000e+00, 3.00000000e+00,\n",
       "        4.00000000e+00, 4.00000000e+00, 5.00000000e+00, 3.00000000e+00,\n",
       "        4.00000000e+00, 4.00000000e+00, 7.00000000e+00, 5.00000000e+00,\n",
       "        6.00000000e+00, 3.00000000e+00, 6.00000000e+00, 3.00000000e+00,\n",
       "        6.00000000e+00, 6.00000000e+00, 7.00000000e+00, 5.00000000e+00,\n",
       "        3.00000000e+00, 8.00000000e+00, 4.00000000e+00, 3.00000000e+00,\n",
       "        4.00000000e+00, 7.00000000e+00, 7.00000000e+00, 4.00000000e+00,\n",
       "        4.00000000e+00, 7.00000000e+00, 3.00000000e+00, 1.00000000e+00,\n",
       "        6.00000000e+00, 6.00000000e+00, 6.00000000e+00, 5.00000000e+00,\n",
       "        5.00000000e+00, 6.00000000e+00, 6.00000000e+00, 6.00000000e+00,\n",
       "        2.00000000e+00, 6.00000000e+00, 4.00000000e+00, 4.00000000e+00,\n",
       "        6.00000000e+00, 5.00000000e+00, 5.00000000e+00, 5.00000000e+00,\n",
       "        4.00000000e+00, 5.00000000e+00, 4.00000000e+00, 3.00000000e+00,\n",
       "        7.00000000e+00, 3.00000000e+00, 7.00000000e+00, 5.00000000e+00,\n",
       "        8.00000000e+00, 6.00000000e+00, 5.00000000e+00, 4.00000000e+00,\n",
       "        4.00000000e+00, 4.00000000e+00, 4.00000000e+00, 4.00000000e+00,\n",
       "        6.00000000e+00, 5.00000000e+00, 5.00000000e+00, 5.00000000e+00,\n",
       "        4.00000000e+00, 4.00000000e+00, 4.00000000e+00, 4.00000000e+00,\n",
       "        5.00000000e+00, 6.00000000e+00, 6.00000000e+00, 6.00000000e+00,\n",
       "        4.00000000e+00, 6.00000000e+00, 4.00000000e+00],\n",
       "       [1.00000000e+00, 2.00000000e+00, 1.00000000e+00, 1.00000000e+00,\n",
       "        2.00000000e+00, 3.00000000e+00, 3.00000000e+00, 2.00000000e+00,\n",
       "        1.00000000e+00, 1.00000000e+00, 2.00000000e+00, 2.00000000e+00,\n",
       "        6.00000000e+00, 1.00000000e+00, 1.00000000e+00, 1.00000000e+00,\n",
       "        3.00000000e+00, 2.00000000e+00, 1.00000000e+00, 1.00000000e+00,\n",
       "        1.00000000e+00, 1.00000000e+00, 2.00000000e+00, 3.00000000e+00,\n",
       "        2.00000000e+00, 1.00000000e+00, 3.00000000e+00, 1.00000000e+00,\n",
       "        1.00000000e+00, 1.00000000e+01, 1.00000000e+00, 4.00000000e+00,\n",
       "        4.00000000e+00, 3.00000000e+00, 1.00000000e+00, 1.00000000e+00,\n",
       "        1.00000000e+00, 1.00000000e+00, 3.00000000e+00, 2.00000000e+00,\n",
       "        1.00000000e+00, 6.00000000e+00, 1.00000000e+00, 2.00000000e+00,\n",
       "        1.00000000e+00, 3.00000000e+00, 2.00000000e+00, 1.00000000e+00,\n",
       "        2.00000000e+00, 3.00000000e+00, 3.00000000e+00, 1.00000000e+00,\n",
       "        1.00000000e+00, 7.00000000e+00, 1.00000000e+00, 2.00000000e+00,\n",
       "        1.00000000e+00, 6.00000000e+00, 2.00000000e+00, 1.00000000e+00,\n",
       "        1.00000000e+01, 1.00000000e+00, 1.00000000e+00, 1.00000000e+00,\n",
       "        2.00000000e+00, 1.00000000e+00, 1.00000000e+00, 2.00000000e+00,\n",
       "        2.00000000e+00, 1.00000000e+00, 1.00000000e+00, 3.00000000e+00,\n",
       "        1.00000000e+00, 1.00000000e+00, 1.00000000e+00, 2.00000000e+00,\n",
       "        1.00000000e+00, 3.00000000e+00, 1.00000000e+00, 1.00000000e+00,\n",
       "        5.00000000e+00, 1.00000000e+00, 1.00000000e+00, 1.00000000e+00,\n",
       "        5.00000000e+00, 1.00000000e+00, 1.00000000e+00, 1.00000000e+00,\n",
       "        1.00000000e+00, 1.00000000e+00, 1.00000000e+00, 1.00000000e+00,\n",
       "        1.00000000e+00, 1.00000000e+00, 1.00000000e+00, 1.00000000e+00,\n",
       "        3.00000000e+00, 5.00000000e+00, 3.00000000e+00],\n",
       "       [0.00000000e+00, 1.00000000e+00, 1.00000000e+00, 0.00000000e+00,\n",
       "        0.00000000e+00, 0.00000000e+00, 1.00000000e+00, 0.00000000e+00,\n",
       "        0.00000000e+00, 0.00000000e+00, 0.00000000e+00, 1.00000000e+00,\n",
       "        0.00000000e+00, 0.00000000e+00, 0.00000000e+00, 2.00000000e+00,\n",
       "        0.00000000e+00, 1.00000000e+00, 2.00000000e+00, 0.00000000e+00,\n",
       "        0.00000000e+00, 0.00000000e+00, 0.00000000e+00, 1.00000000e+00,\n",
       "        0.00000000e+00, 0.00000000e+00, 0.00000000e+00, 0.00000000e+00,\n",
       "        0.00000000e+00, 1.00000000e+00, 0.00000000e+00, 0.00000000e+00,\n",
       "        0.00000000e+00, 0.00000000e+00, 0.00000000e+00, 0.00000000e+00,\n",
       "        0.00000000e+00, 1.00000000e+00, 0.00000000e+00, 0.00000000e+00,\n",
       "        1.00000000e+00, 0.00000000e+00, 1.00000000e+00, 3.00000000e+00,\n",
       "        1.00000000e+00, 0.00000000e+00, 0.00000000e+00, 0.00000000e+00,\n",
       "        0.00000000e+00, 0.00000000e+00, 0.00000000e+00, 1.00000000e+00,\n",
       "        0.00000000e+00, 0.00000000e+00, 1.00000000e+00, 0.00000000e+00,\n",
       "        0.00000000e+00, 1.00000000e+00, 0.00000000e+00, 0.00000000e+00,\n",
       "        0.00000000e+00, 0.00000000e+00, 0.00000000e+00, 0.00000000e+00,\n",
       "        0.00000000e+00, 0.00000000e+00, 1.00000000e+00, 0.00000000e+00,\n",
       "        0.00000000e+00, 0.00000000e+00, 0.00000000e+00, 0.00000000e+00,\n",
       "        0.00000000e+00, 0.00000000e+00, 1.00000000e+00, 0.00000000e+00,\n",
       "        0.00000000e+00, 0.00000000e+00, 0.00000000e+00, 0.00000000e+00,\n",
       "        0.00000000e+00, 1.00000000e+00, 0.00000000e+00, 0.00000000e+00,\n",
       "        1.00000000e+00, 0.00000000e+00, 0.00000000e+00, 1.00000000e+00,\n",
       "        0.00000000e+00, 0.00000000e+00, 1.00000000e+00, 0.00000000e+00,\n",
       "        0.00000000e+00, 0.00000000e+00, 0.00000000e+00, 0.00000000e+00,\n",
       "        0.00000000e+00, 1.00000000e+00, 0.00000000e+00],\n",
       "       [3.30077644e-01, 2.27178254e-01, 8.49447220e-01, 1.54556426e-01,\n",
       "        5.65815378e-01, 3.92404626e-01, 3.41266306e-02, 1.23206491e-01,\n",
       "        1.29403331e-01, 5.05280801e-02, 9.61394425e-01, 2.76670056e-01,\n",
       "        6.24833516e-02, 4.82740680e-02, 5.73449233e-03, 2.89917912e-01,\n",
       "        2.88102655e-02, 8.57357392e-02, 2.03106002e-01, 1.38273013e-01,\n",
       "        9.89326071e-02, 2.03833731e-01, 1.56222301e-01, 5.92980560e-01,\n",
       "        1.40114405e-01, 2.53094627e-01, 3.02164528e-02, 3.99494863e-02,\n",
       "        7.26504481e-02, 5.52759245e-01, 7.88389304e-02, 9.28652140e-03,\n",
       "        1.00484345e-03, 5.70525148e-02, 1.64512782e-01, 1.71033578e+00,\n",
       "        6.69607732e-01, 4.63974046e-01, 7.78757424e-02, 3.39718749e-01,\n",
       "        6.34842614e-01, 2.11984095e-02, 1.16277652e-01, 6.70903170e-02,\n",
       "        6.71523395e-01, 1.73768592e-01, 3.62273039e-01, 1.61145806e-02,\n",
       "        3.49449514e-01, 2.20748632e-01, 2.44515412e-01, 1.30588925e-01,\n",
       "        3.51507871e-01, 3.44818481e-02, 3.03454707e-02, 1.04027027e-01,\n",
       "        3.07242240e-01, 9.00897345e-02, 1.08160954e+00, 4.05138782e-01,\n",
       "        4.92501998e-02, 2.05551745e-01, 3.91263981e-01, 5.30817040e-02,\n",
       "        1.83373524e-01, 3.10336934e-01, 4.00760450e-01, 1.53253323e-01,\n",
       "        6.04636417e-01, 1.14935959e-01, 2.91287755e-01, 1.87237945e-01,\n",
       "        6.10606477e-01, 3.15341969e-01, 6.30209995e-02, 2.93346386e-02,\n",
       "        3.75020115e-01, 4.87884607e-01, 2.55235877e-01, 1.39146253e-02,\n",
       "        1.48100015e-01, 4.88204699e-01, 4.61264218e-01, 1.68967378e-01,\n",
       "        7.16802389e-01, 6.69354330e-01, 3.55516934e-02, 1.50178582e-01,\n",
       "        1.47468098e-01, 4.96237395e-01, 2.21397647e-01, 4.72323178e-02,\n",
       "        1.89333459e-01, 1.73549560e-01, 2.89122206e-01, 2.87027292e-01,\n",
       "        3.22638309e-01, 5.49258440e-02, 4.66718853e-03]])"
      ]
     },
     "execution_count": 193,
     "metadata": {},
     "output_type": "execute_result"
    }
   ],
   "source": [
    "matriz_amostras"
   ]
  },
  {
   "cell_type": "markdown",
   "id": "23dd3665",
   "metadata": {},
   "source": [
    "Agora vamos calcular a média de cada observação, criando um novo vetor de observações:"
   ]
  },
  {
   "cell_type": "code",
   "execution_count": 194,
   "id": "e0d0445b",
   "metadata": {},
   "outputs": [
    {
     "data": {
      "text/plain": [
       "array([1.83251941, 2.05679456, 1.71236181, 1.28863911, 1.39145384,\n",
       "       2.34810116, 2.50853166, 1.78080162, 1.78235083, 1.51263202,\n",
       "       2.24034861, 1.56916751, 3.01562084, 1.76206852, 2.50143362,\n",
       "       2.57247948, 2.75720257, 2.02143393, 2.3007765 , 1.28456825,\n",
       "       1.27473315, 1.55095843, 1.28905558, 1.89824514, 1.5350286 ,\n",
       "       1.31327366, 2.00755411, 1.00998737, 1.26816261, 3.88818981,\n",
       "       2.01970973, 2.25232163, 2.50025121, 1.51426313, 1.7911282 ,\n",
       "       1.42758395, 1.91740193, 2.11599351, 2.51946894, 1.83492969,\n",
       "       1.40871065, 3.5052996 , 1.52906941, 2.01677258, 1.66788085,\n",
       "       2.54344215, 2.34056826, 1.25402865, 1.58736238, 2.55518716,\n",
       "       1.56112885, 0.78264723, 1.83787697, 3.25862046, 2.00758637,\n",
       "       1.77600676, 1.57681056, 3.27252243, 2.27040238, 1.8512847 ,\n",
       "       3.01231255, 1.80138794, 1.347816  , 1.26327043, 2.04584338,\n",
       "       1.57758423, 1.85019011, 1.78831333, 1.6511591 , 1.52873399,\n",
       "       1.32282194, 1.54680949, 2.15265162, 1.07883549, 2.26575525,\n",
       "       1.75733366, 2.34375503, 2.37197115, 1.56380897, 1.25347866,\n",
       "       2.287025  , 1.62205117, 1.36531605, 1.29224184, 3.1792006 ,\n",
       "       1.66733858, 1.50888792, 1.78754465, 1.28686702, 1.37405935,\n",
       "       1.55534941, 1.26180808, 1.54733336, 1.79338739, 1.82228055,\n",
       "       1.82175682, 1.83065958, 3.01373146, 1.7511668 ])"
      ]
     },
     "execution_count": 194,
     "metadata": {},
     "output_type": "execute_result"
    }
   ],
   "source": [
    "amostra_estranha = matriz_amostras.mean(axis = 0)\n",
    "amostra_estranha"
   ]
  },
  {
   "cell_type": "code",
   "execution_count": 195,
   "id": "b65ac1bf",
   "metadata": {},
   "outputs": [
    {
     "data": {
      "text/plain": [
       "<AxesSubplot:ylabel='Count'>"
      ]
     },
     "execution_count": 195,
     "metadata": {},
     "output_type": "execute_result"
    },
    {
     "data": {
      "image/png": "[encoded data removed]",
      "text/plain": [
       "<Figure size 432x288 with 1 Axes>"
      ]
     },
     "metadata": {},
     "output_type": "display_data"
    }
   ],
   "source": [
    "sns.histplot(amostra_estranha)"
   ]
  },
  {
   "cell_type": "markdown",
   "id": "49042556",
   "metadata": {},
   "source": [
    "Agora, vamos construir uma variável aleatório com distribuição **Normal** utilizando a função `norm()`. Os parâmetros dessa função são `loc = ` e `scale = `, a média e o desvio padrão respectivamente.\n",
    "\n",
    "Vamos construir nossa R.V. com a média e o desvio padrão do nosso vetor com as médias das outras distribuições."
   ]
  },
  {
   "cell_type": "code",
   "execution_count": 196,
   "id": "3891a256",
   "metadata": {},
   "outputs": [],
   "source": [
    "dist_norm = sp.stats.norm(loc=np.mean(amostra_estranha), scale=np.std(amostra_estranha))"
   ]
  },
  {
   "cell_type": "code",
   "execution_count": 199,
   "id": "0e435580",
   "metadata": {},
   "outputs": [
    {
     "data": {
      "text/plain": [
       "0.5750512523547698"
      ]
     },
     "execution_count": 199,
     "metadata": {},
     "output_type": "execute_result"
    }
   ],
   "source": [
    "np.std(amostra_estranha)"
   ]
  },
  {
   "cell_type": "markdown",
   "id": "39397218",
   "metadata": {},
   "source": [
    "Agora vamos construir um `DataFrame` com nossa `amostra_estranha` e criar uma **CDF** *empírica* dessa amostra:"
   ]
  },
  {
   "cell_type": "code",
   "execution_count": 202,
   "id": "97fde202",
   "metadata": {},
   "outputs": [
    {
     "data": {
      "text/html": [
       "<div>\n",
       "<style scoped>\n",
       "    .dataframe tbody tr th:only-of-type {\n",
       "        vertical-align: middle;\n",
       "    }\n",
       "\n",
       "    .dataframe tbody tr th {\n",
       "        vertical-align: top;\n",
       "    }\n",
       "\n",
       "    .dataframe thead th {\n",
       "        text-align: right;\n",
       "    }\n",
       "</style>\n",
       "<table border=\"1\" class=\"dataframe\">\n",
       "  <thead>\n",
       "    <tr style=\"text-align: right;\">\n",
       "      <th></th>\n",
       "      <th>amostra</th>\n",
       "    </tr>\n",
       "  </thead>\n",
       "  <tbody>\n",
       "    <tr>\n",
       "      <th>0</th>\n",
       "      <td>1.832519</td>\n",
       "    </tr>\n",
       "    <tr>\n",
       "      <th>1</th>\n",
       "      <td>2.056795</td>\n",
       "    </tr>\n",
       "    <tr>\n",
       "      <th>2</th>\n",
       "      <td>1.712362</td>\n",
       "    </tr>\n",
       "    <tr>\n",
       "      <th>3</th>\n",
       "      <td>1.288639</td>\n",
       "    </tr>\n",
       "    <tr>\n",
       "      <th>4</th>\n",
       "      <td>1.391454</td>\n",
       "    </tr>\n",
       "    <tr>\n",
       "      <th>...</th>\n",
       "      <td>...</td>\n",
       "    </tr>\n",
       "    <tr>\n",
       "      <th>94</th>\n",
       "      <td>1.822281</td>\n",
       "    </tr>\n",
       "    <tr>\n",
       "      <th>95</th>\n",
       "      <td>1.821757</td>\n",
       "    </tr>\n",
       "    <tr>\n",
       "      <th>96</th>\n",
       "      <td>1.830660</td>\n",
       "    </tr>\n",
       "    <tr>\n",
       "      <th>97</th>\n",
       "      <td>3.013731</td>\n",
       "    </tr>\n",
       "    <tr>\n",
       "      <th>98</th>\n",
       "      <td>1.751167</td>\n",
       "    </tr>\n",
       "  </tbody>\n",
       "</table>\n",
       "<p>99 rows × 1 columns</p>\n",
       "</div>"
      ],
      "text/plain": [
       "     amostra\n",
       "0   1.832519\n",
       "1   2.056795\n",
       "2   1.712362\n",
       "3   1.288639\n",
       "4   1.391454\n",
       "..       ...\n",
       "94  1.822281\n",
       "95  1.821757\n",
       "96  1.830660\n",
       "97  3.013731\n",
       "98  1.751167\n",
       "\n",
       "[99 rows x 1 columns]"
      ]
     },
     "execution_count": 202,
     "metadata": {},
     "output_type": "execute_result"
    }
   ],
   "source": [
    "tb_estranha = pd.DataFrame({'amostra' : amostra_estranha})\n",
    "tb_estranha"
   ]
  },
  {
   "cell_type": "code",
   "execution_count": 205,
   "id": "d49f0240",
   "metadata": {},
   "outputs": [
    {
     "data": {
      "text/html": [
       "<div>\n",
       "<style scoped>\n",
       "    .dataframe tbody tr th:only-of-type {\n",
       "        vertical-align: middle;\n",
       "    }\n",
       "\n",
       "    .dataframe tbody tr th {\n",
       "        vertical-align: top;\n",
       "    }\n",
       "\n",
       "    .dataframe thead th {\n",
       "        text-align: right;\n",
       "    }\n",
       "</style>\n",
       "<table border=\"1\" class=\"dataframe\">\n",
       "  <thead>\n",
       "    <tr style=\"text-align: right;\">\n",
       "      <th></th>\n",
       "      <th>amostra</th>\n",
       "      <th>cdf_emp</th>\n",
       "    </tr>\n",
       "  </thead>\n",
       "  <tbody>\n",
       "    <tr>\n",
       "      <th>0</th>\n",
       "      <td>0.782647</td>\n",
       "      <td>0.010101</td>\n",
       "    </tr>\n",
       "    <tr>\n",
       "      <th>1</th>\n",
       "      <td>1.009987</td>\n",
       "      <td>0.020202</td>\n",
       "    </tr>\n",
       "    <tr>\n",
       "      <th>2</th>\n",
       "      <td>1.078835</td>\n",
       "      <td>0.030303</td>\n",
       "    </tr>\n",
       "    <tr>\n",
       "      <th>3</th>\n",
       "      <td>1.253479</td>\n",
       "      <td>0.040404</td>\n",
       "    </tr>\n",
       "    <tr>\n",
       "      <th>4</th>\n",
       "      <td>1.254029</td>\n",
       "      <td>0.050505</td>\n",
       "    </tr>\n",
       "    <tr>\n",
       "      <th>...</th>\n",
       "      <td>...</td>\n",
       "      <td>...</td>\n",
       "    </tr>\n",
       "    <tr>\n",
       "      <th>94</th>\n",
       "      <td>3.179201</td>\n",
       "      <td>0.959596</td>\n",
       "    </tr>\n",
       "    <tr>\n",
       "      <th>95</th>\n",
       "      <td>3.258620</td>\n",
       "      <td>0.969697</td>\n",
       "    </tr>\n",
       "    <tr>\n",
       "      <th>96</th>\n",
       "      <td>3.272522</td>\n",
       "      <td>0.979798</td>\n",
       "    </tr>\n",
       "    <tr>\n",
       "      <th>97</th>\n",
       "      <td>3.505300</td>\n",
       "      <td>0.989899</td>\n",
       "    </tr>\n",
       "    <tr>\n",
       "      <th>98</th>\n",
       "      <td>3.888190</td>\n",
       "      <td>1.000000</td>\n",
       "    </tr>\n",
       "  </tbody>\n",
       "</table>\n",
       "<p>99 rows × 2 columns</p>\n",
       "</div>"
      ],
      "text/plain": [
       "     amostra   cdf_emp\n",
       "0   0.782647  0.010101\n",
       "1   1.009987  0.020202\n",
       "2   1.078835  0.030303\n",
       "3   1.253479  0.040404\n",
       "4   1.254029  0.050505\n",
       "..       ...       ...\n",
       "94  3.179201  0.959596\n",
       "95  3.258620  0.969697\n",
       "96  3.272522  0.979798\n",
       "97  3.505300  0.989899\n",
       "98  3.888190  1.000000\n",
       "\n",
       "[99 rows x 2 columns]"
      ]
     },
     "execution_count": 205,
     "metadata": {},
     "output_type": "execute_result"
    }
   ],
   "source": [
    "tb_estranha = pd.DataFrame({'amostra' : amostra_estranha})\n",
    "tb_estranha = tb_estranha.sort_values('amostra', ascending=True).reset_index(drop = True)\n",
    "tb_estranha['cdf_emp'] = (tb_estranha.index + 1)/tb_estranha.shape[0]\n",
    "tb_estranha"
   ]
  },
  {
   "cell_type": "markdown",
   "id": "fbd9a32b",
   "metadata": {},
   "source": [
    "Vamos adicionar a **CDF** de nossa distribuição **Normal** à nossa tabela:"
   ]
  },
  {
   "cell_type": "code",
   "execution_count": 206,
   "id": "fab257d9",
   "metadata": {},
   "outputs": [],
   "source": [
    "tb_estranha['cdf_normal'] = tb_estranha['amostra'].map(dist_norm.cdf)"
   ]
  },
  {
   "cell_type": "code",
   "execution_count": 207,
   "id": "67fdf59e",
   "metadata": {},
   "outputs": [
    {
     "data": {
      "image/png": "[encoded data removed]",
      "text/plain": [
       "<Figure size 432x288 with 1 Axes>"
      ]
     },
     "metadata": {},
     "output_type": "display_data"
    }
   ],
   "source": [
    "sns.scatterplot(data = tb_estranha, x = 'amostra', y = 'cdf_emp', color = 'black')\n",
    "sns.lineplot(data = tb_estranha, x = 'amostra', y = 'cdf_normal', color = 'red');"
   ]
  },
  {
   "cell_type": "markdown",
   "id": "855e03f2",
   "metadata": {},
   "source": [
    "# Intervalos de Confiança\n",
    "\n",
    "O processo de amostragem sempre apresenta desvios em relação à distribuição real. Como vimos ao longo da aula hoje,  a lei dos grandes números garanta que conforme aumentamos uma amostra ela 'converge' para o valor real da distribuição.\n",
    "\n",
    "A estatística utiliza-se de intervalos de confiança para medir a confiabilidade de uma amostra. Vamos aprender como utilizar esses intervalos mais a frente no curso mas podemos utilizar a probabilidade computacional para observar como eles emergem.\n",
    "\n",
    "Vamos simular o pesquisa de intenção de voto entre dois candidatos."
   ]
  },
  {
   "cell_type": "code",
   "execution_count": 208,
   "id": "3ad3cace",
   "metadata": {
    "ExecuteTime": {
     "end_time": "2022-03-11T00:39:36.409850Z",
     "start_time": "2022-03-11T00:39:36.402868Z"
    }
   },
   "outputs": [],
   "source": [
    "candidatos = [\"A\", \"B\"]\n",
    "\n",
    "\n",
    "def intencao_voto():\n",
    "    return np.random.choice(candidatos, p=[0.5, 0.5])\n"
   ]
  },
  {
   "cell_type": "code",
   "execution_count": 212,
   "id": "af5a328c",
   "metadata": {
    "ExecuteTime": {
     "end_time": "2022-03-11T00:39:36.938581Z",
     "start_time": "2022-03-11T00:39:36.928606Z"
    }
   },
   "outputs": [
    {
     "data": {
      "text/plain": [
       "'B'"
      ]
     },
     "execution_count": 212,
     "metadata": {},
     "output_type": "execute_result"
    }
   ],
   "source": [
    "intencao_voto()\n"
   ]
  },
  {
   "cell_type": "markdown",
   "id": "1e4671da",
   "metadata": {},
   "source": [
    "Nossa função de amostragem `intencao_voto()` nos permite amostrar **uma pessoa**. Vamos construir uma segunda função para realizar **amostras com tamanho parametrizável**: "
   ]
  },
  {
   "cell_type": "code",
   "execution_count": 213,
   "id": "a18f365a",
   "metadata": {
    "ExecuteTime": {
     "end_time": "2022-03-11T00:39:37.437147Z",
     "start_time": "2022-03-11T00:39:37.431162Z"
    }
   },
   "outputs": [],
   "source": [
    "def pesquisa_opiniao(tamanho_amostra):\n",
    "    pesquisa = [intencao_voto() for i in range(tamanho_amostra)]\n",
    "    c_pesq = Counter(pesquisa)\n",
    "    return c_pesq[\"A\"] / tamanho_amostra\n"
   ]
  },
  {
   "cell_type": "code",
   "execution_count": 217,
   "id": "71694181",
   "metadata": {
    "ExecuteTime": {
     "end_time": "2022-03-11T00:39:38.023111Z",
     "start_time": "2022-03-11T00:39:37.982221Z"
    }
   },
   "outputs": [
    {
     "data": {
      "text/plain": [
       "0.29"
      ]
     },
     "execution_count": 217,
     "metadata": {},
     "output_type": "execute_result"
    }
   ],
   "source": [
    "pesquisa_opiniao(100)\n"
   ]
  },
  {
   "cell_type": "markdown",
   "id": "4c77fbd6",
   "metadata": {},
   "source": [
    "Com essa função definida, podemos analisar **a distribuição de amostragem** da intenção de voto no candidato *A*. A **distribuição de amostragem** é a distribuição, entre pesquisas amostras de tamanho igual, **de uma estatística de interesse**, no caso, a *% de intenção de votos em A*:"
   ]
  },
  {
   "cell_type": "code",
   "execution_count": 218,
   "id": "2214a10f",
   "metadata": {
    "ExecuteTime": {
     "end_time": "2022-03-11T00:39:55.415480Z",
     "start_time": "2022-03-11T00:39:53.279139Z"
    }
   },
   "outputs": [
    {
     "data": {
      "text/plain": [
       "[0.29,\n",
       " 0.34,\n",
       " 0.29,\n",
       " 0.28,\n",
       " 0.32,\n",
       " 0.31,\n",
       " 0.22,\n",
       " 0.35,\n",
       " 0.35,\n",
       " 0.33,\n",
       " 0.27,\n",
       " 0.3,\n",
       " 0.28,\n",
       " 0.26,\n",
       " 0.33,\n",
       " 0.3,\n",
       " 0.29,\n",
       " 0.43,\n",
       " 0.3,\n",
       " 0.2,\n",
       " 0.32,\n",
       " 0.29,\n",
       " 0.25,\n",
       " 0.38,\n",
       " 0.37,\n",
       " 0.35,\n",
       " 0.33,\n",
       " 0.35,\n",
       " 0.32,\n",
       " 0.22,\n",
       " 0.34,\n",
       " 0.25,\n",
       " 0.29,\n",
       " 0.28,\n",
       " 0.3,\n",
       " 0.31,\n",
       " 0.37,\n",
       " 0.35,\n",
       " 0.28,\n",
       " 0.24,\n",
       " 0.3,\n",
       " 0.39,\n",
       " 0.25,\n",
       " 0.29,\n",
       " 0.31,\n",
       " 0.28,\n",
       " 0.28,\n",
       " 0.21,\n",
       " 0.34,\n",
       " 0.34,\n",
       " 0.35,\n",
       " 0.29,\n",
       " 0.27,\n",
       " 0.28,\n",
       " 0.31,\n",
       " 0.24,\n",
       " 0.32,\n",
       " 0.3,\n",
       " 0.32,\n",
       " 0.33,\n",
       " 0.29,\n",
       " 0.27,\n",
       " 0.33,\n",
       " 0.24,\n",
       " 0.24,\n",
       " 0.31,\n",
       " 0.28,\n",
       " 0.26,\n",
       " 0.32,\n",
       " 0.37,\n",
       " 0.22,\n",
       " 0.27,\n",
       " 0.29,\n",
       " 0.27,\n",
       " 0.33,\n",
       " 0.24,\n",
       " 0.27,\n",
       " 0.37,\n",
       " 0.35,\n",
       " 0.3,\n",
       " 0.31,\n",
       " 0.36,\n",
       " 0.32,\n",
       " 0.38,\n",
       " 0.31,\n",
       " 0.22,\n",
       " 0.41,\n",
       " 0.28,\n",
       " 0.28,\n",
       " 0.28,\n",
       " 0.31,\n",
       " 0.33,\n",
       " 0.36,\n",
       " 0.28,\n",
       " 0.23,\n",
       " 0.34,\n",
       " 0.28,\n",
       " 0.26,\n",
       " 0.35,\n",
       " 0.32,\n",
       " 0.34,\n",
       " 0.37,\n",
       " 0.35,\n",
       " 0.37,\n",
       " 0.29,\n",
       " 0.35,\n",
       " 0.27,\n",
       " 0.29,\n",
       " 0.32,\n",
       " 0.3,\n",
       " 0.36,\n",
       " 0.25,\n",
       " 0.32,\n",
       " 0.29,\n",
       " 0.25,\n",
       " 0.2,\n",
       " 0.31,\n",
       " 0.16,\n",
       " 0.26,\n",
       " 0.26,\n",
       " 0.32,\n",
       " 0.33,\n",
       " 0.27,\n",
       " 0.35,\n",
       " 0.28,\n",
       " 0.28,\n",
       " 0.24,\n",
       " 0.35,\n",
       " 0.29,\n",
       " 0.31,\n",
       " 0.32,\n",
       " 0.33,\n",
       " 0.3,\n",
       " 0.29,\n",
       " 0.29,\n",
       " 0.23,\n",
       " 0.31,\n",
       " 0.37,\n",
       " 0.31,\n",
       " 0.25,\n",
       " 0.22,\n",
       " 0.38,\n",
       " 0.38,\n",
       " 0.31,\n",
       " 0.25,\n",
       " 0.23,\n",
       " 0.27,\n",
       " 0.22,\n",
       " 0.35,\n",
       " 0.3,\n",
       " 0.27,\n",
       " 0.32,\n",
       " 0.27,\n",
       " 0.2,\n",
       " 0.26,\n",
       " 0.27,\n",
       " 0.31,\n",
       " 0.25,\n",
       " 0.27,\n",
       " 0.3,\n",
       " 0.25,\n",
       " 0.31,\n",
       " 0.32,\n",
       " 0.32,\n",
       " 0.33,\n",
       " 0.3,\n",
       " 0.35,\n",
       " 0.34,\n",
       " 0.26,\n",
       " 0.34,\n",
       " 0.29,\n",
       " 0.31,\n",
       " 0.28,\n",
       " 0.27,\n",
       " 0.29,\n",
       " 0.31,\n",
       " 0.24,\n",
       " 0.32,\n",
       " 0.39,\n",
       " 0.2,\n",
       " 0.24,\n",
       " 0.28,\n",
       " 0.27,\n",
       " 0.27,\n",
       " 0.29,\n",
       " 0.32,\n",
       " 0.34,\n",
       " 0.3,\n",
       " 0.33,\n",
       " 0.35,\n",
       " 0.32,\n",
       " 0.33,\n",
       " 0.3,\n",
       " 0.29,\n",
       " 0.31,\n",
       " 0.27,\n",
       " 0.4,\n",
       " 0.38,\n",
       " 0.24,\n",
       " 0.3,\n",
       " 0.36,\n",
       " 0.23,\n",
       " 0.28,\n",
       " 0.39,\n",
       " 0.32,\n",
       " 0.26,\n",
       " 0.26,\n",
       " 0.4,\n",
       " 0.31,\n",
       " 0.31,\n",
       " 0.42,\n",
       " 0.31,\n",
       " 0.33,\n",
       " 0.31,\n",
       " 0.23,\n",
       " 0.28,\n",
       " 0.27,\n",
       " 0.29,\n",
       " 0.33,\n",
       " 0.3,\n",
       " 0.3,\n",
       " 0.36,\n",
       " 0.25,\n",
       " 0.3,\n",
       " 0.31,\n",
       " 0.36,\n",
       " 0.32,\n",
       " 0.33,\n",
       " 0.29,\n",
       " 0.33,\n",
       " 0.41,\n",
       " 0.29,\n",
       " 0.39,\n",
       " 0.34,\n",
       " 0.36,\n",
       " 0.32,\n",
       " 0.33,\n",
       " 0.3,\n",
       " 0.24,\n",
       " 0.27,\n",
       " 0.31,\n",
       " 0.33,\n",
       " 0.32,\n",
       " 0.22,\n",
       " 0.33,\n",
       " 0.3,\n",
       " 0.31,\n",
       " 0.34,\n",
       " 0.27,\n",
       " 0.31,\n",
       " 0.34,\n",
       " 0.27,\n",
       " 0.26,\n",
       " 0.22,\n",
       " 0.3,\n",
       " 0.33,\n",
       " 0.23,\n",
       " 0.3,\n",
       " 0.37,\n",
       " 0.26,\n",
       " 0.25,\n",
       " 0.26,\n",
       " 0.31,\n",
       " 0.32,\n",
       " 0.26,\n",
       " 0.36,\n",
       " 0.31,\n",
       " 0.35,\n",
       " 0.34,\n",
       " 0.32,\n",
       " 0.33,\n",
       " 0.22,\n",
       " 0.29,\n",
       " 0.37,\n",
       " 0.26,\n",
       " 0.25,\n",
       " 0.31,\n",
       " 0.24,\n",
       " 0.3,\n",
       " 0.35,\n",
       " 0.4,\n",
       " 0.28,\n",
       " 0.29,\n",
       " 0.34,\n",
       " 0.36,\n",
       " 0.44,\n",
       " 0.4,\n",
       " 0.25,\n",
       " 0.35,\n",
       " 0.33,\n",
       " 0.29,\n",
       " 0.29,\n",
       " 0.32,\n",
       " 0.29,\n",
       " 0.28,\n",
       " 0.26,\n",
       " 0.27,\n",
       " 0.29,\n",
       " 0.29,\n",
       " 0.34,\n",
       " 0.3,\n",
       " 0.3,\n",
       " 0.31,\n",
       " 0.38,\n",
       " 0.24,\n",
       " 0.27,\n",
       " 0.28,\n",
       " 0.27,\n",
       " 0.32,\n",
       " 0.26,\n",
       " 0.2,\n",
       " 0.32,\n",
       " 0.28,\n",
       " 0.36,\n",
       " 0.36,\n",
       " 0.33,\n",
       " 0.25,\n",
       " 0.3,\n",
       " 0.28,\n",
       " 0.28,\n",
       " 0.26,\n",
       " 0.32,\n",
       " 0.32,\n",
       " 0.33,\n",
       " 0.37,\n",
       " 0.26,\n",
       " 0.28,\n",
       " 0.24,\n",
       " 0.28,\n",
       " 0.36,\n",
       " 0.38,\n",
       " 0.31,\n",
       " 0.3,\n",
       " 0.38,\n",
       " 0.24,\n",
       " 0.3,\n",
       " 0.36,\n",
       " 0.22,\n",
       " 0.21,\n",
       " 0.3,\n",
       " 0.27,\n",
       " 0.26,\n",
       " 0.28,\n",
       " 0.31,\n",
       " 0.29,\n",
       " 0.27,\n",
       " 0.26,\n",
       " 0.29,\n",
       " 0.27,\n",
       " 0.35,\n",
       " 0.29,\n",
       " 0.32,\n",
       " 0.38,\n",
       " 0.26,\n",
       " 0.26,\n",
       " 0.35,\n",
       " 0.34,\n",
       " 0.35,\n",
       " 0.34,\n",
       " 0.23,\n",
       " 0.34,\n",
       " 0.25,\n",
       " 0.3,\n",
       " 0.34,\n",
       " 0.27,\n",
       " 0.27,\n",
       " 0.35,\n",
       " 0.33,\n",
       " 0.25,\n",
       " 0.28,\n",
       " 0.35,\n",
       " 0.31,\n",
       " 0.35,\n",
       " 0.26,\n",
       " 0.29,\n",
       " 0.39,\n",
       " 0.28,\n",
       " 0.37,\n",
       " 0.35,\n",
       " 0.31,\n",
       " 0.34,\n",
       " 0.31,\n",
       " 0.3,\n",
       " 0.25,\n",
       " 0.31,\n",
       " 0.35,\n",
       " 0.31,\n",
       " 0.28,\n",
       " 0.23,\n",
       " 0.28,\n",
       " 0.32,\n",
       " 0.34,\n",
       " 0.27,\n",
       " 0.3,\n",
       " 0.38,\n",
       " 0.31,\n",
       " 0.29,\n",
       " 0.3,\n",
       " 0.34,\n",
       " 0.27,\n",
       " 0.34,\n",
       " 0.28,\n",
       " 0.37,\n",
       " 0.23,\n",
       " 0.38,\n",
       " 0.28,\n",
       " 0.25,\n",
       " 0.25,\n",
       " 0.32,\n",
       " 0.39,\n",
       " 0.27,\n",
       " 0.25,\n",
       " 0.35,\n",
       " 0.29,\n",
       " 0.28,\n",
       " 0.28,\n",
       " 0.28,\n",
       " 0.21,\n",
       " 0.34,\n",
       " 0.27,\n",
       " 0.26,\n",
       " 0.27,\n",
       " 0.36,\n",
       " 0.28,\n",
       " 0.28,\n",
       " 0.3,\n",
       " 0.34,\n",
       " 0.31,\n",
       " 0.27,\n",
       " 0.25,\n",
       " 0.28,\n",
       " 0.23,\n",
       " 0.24,\n",
       " 0.32,\n",
       " 0.31,\n",
       " 0.33,\n",
       " 0.4,\n",
       " 0.25,\n",
       " 0.36,\n",
       " 0.27,\n",
       " 0.35,\n",
       " 0.25,\n",
       " 0.29,\n",
       " 0.31,\n",
       " 0.21,\n",
       " 0.32,\n",
       " 0.35,\n",
       " 0.37,\n",
       " 0.29,\n",
       " 0.3,\n",
       " 0.33,\n",
       " 0.34,\n",
       " 0.33,\n",
       " 0.35,\n",
       " 0.28,\n",
       " 0.26,\n",
       " 0.29,\n",
       " 0.28,\n",
       " 0.29,\n",
       " 0.3,\n",
       " 0.31,\n",
       " 0.22,\n",
       " 0.36,\n",
       " 0.26,\n",
       " 0.29,\n",
       " 0.24,\n",
       " 0.29,\n",
       " 0.25,\n",
       " 0.3,\n",
       " 0.27,\n",
       " 0.26,\n",
       " 0.24,\n",
       " 0.28,\n",
       " 0.27,\n",
       " 0.33,\n",
       " 0.25,\n",
       " 0.24,\n",
       " 0.21,\n",
       " 0.25,\n",
       " 0.25,\n",
       " 0.35,\n",
       " 0.34,\n",
       " 0.31,\n",
       " 0.29,\n",
       " 0.32,\n",
       " 0.27,\n",
       " 0.32,\n",
       " 0.26,\n",
       " 0.34,\n",
       " 0.27,\n",
       " 0.22,\n",
       " 0.32,\n",
       " 0.37,\n",
       " 0.26,\n",
       " 0.25,\n",
       " 0.28,\n",
       " 0.35,\n",
       " 0.3,\n",
       " 0.36,\n",
       " 0.24,\n",
       " 0.26,\n",
       " 0.35,\n",
       " 0.25,\n",
       " 0.24,\n",
       " 0.24,\n",
       " 0.4,\n",
       " 0.36,\n",
       " 0.31,\n",
       " 0.37,\n",
       " 0.27,\n",
       " 0.33,\n",
       " 0.29,\n",
       " 0.31,\n",
       " 0.34,\n",
       " 0.28,\n",
       " 0.31,\n",
       " 0.34,\n",
       " 0.25,\n",
       " 0.25,\n",
       " 0.29,\n",
       " 0.34,\n",
       " 0.29,\n",
       " 0.25,\n",
       " 0.25,\n",
       " 0.3,\n",
       " 0.38,\n",
       " 0.33,\n",
       " 0.25,\n",
       " 0.26,\n",
       " 0.29,\n",
       " 0.29,\n",
       " 0.27,\n",
       " 0.3,\n",
       " 0.29,\n",
       " 0.29,\n",
       " 0.29,\n",
       " 0.35,\n",
       " 0.29,\n",
       " 0.3,\n",
       " 0.14,\n",
       " 0.27,\n",
       " 0.18,\n",
       " 0.33,\n",
       " 0.3,\n",
       " 0.32,\n",
       " 0.41,\n",
       " 0.27,\n",
       " 0.36,\n",
       " 0.23,\n",
       " 0.22,\n",
       " 0.24,\n",
       " 0.24,\n",
       " 0.29,\n",
       " 0.22,\n",
       " 0.29,\n",
       " 0.26,\n",
       " 0.28,\n",
       " 0.37,\n",
       " 0.32,\n",
       " 0.31,\n",
       " 0.31,\n",
       " 0.23,\n",
       " 0.31,\n",
       " 0.35,\n",
       " 0.27,\n",
       " 0.28,\n",
       " 0.37,\n",
       " 0.25,\n",
       " 0.29,\n",
       " 0.29,\n",
       " 0.26,\n",
       " 0.33,\n",
       " 0.31,\n",
       " 0.35,\n",
       " 0.22,\n",
       " 0.32,\n",
       " 0.38,\n",
       " 0.32,\n",
       " 0.33,\n",
       " 0.2,\n",
       " 0.33,\n",
       " 0.35,\n",
       " 0.27,\n",
       " 0.23,\n",
       " 0.29,\n",
       " 0.35,\n",
       " 0.33,\n",
       " 0.3,\n",
       " 0.36,\n",
       " 0.19,\n",
       " 0.34,\n",
       " 0.25,\n",
       " 0.29,\n",
       " 0.31,\n",
       " 0.29,\n",
       " 0.29,\n",
       " 0.32,\n",
       " 0.35,\n",
       " 0.22,\n",
       " 0.33,\n",
       " 0.32,\n",
       " 0.34,\n",
       " 0.35,\n",
       " 0.26,\n",
       " 0.33,\n",
       " 0.31,\n",
       " 0.27,\n",
       " 0.37,\n",
       " 0.34,\n",
       " 0.3,\n",
       " 0.32,\n",
       " 0.32,\n",
       " 0.33,\n",
       " 0.29,\n",
       " 0.26,\n",
       " 0.28,\n",
       " 0.35,\n",
       " 0.39,\n",
       " 0.43,\n",
       " 0.27,\n",
       " 0.29,\n",
       " 0.31,\n",
       " 0.22,\n",
       " 0.28,\n",
       " 0.28,\n",
       " 0.31,\n",
       " 0.24,\n",
       " 0.3,\n",
       " 0.3,\n",
       " 0.31,\n",
       " 0.26,\n",
       " 0.31,\n",
       " 0.29,\n",
       " 0.28,\n",
       " 0.33,\n",
       " 0.3,\n",
       " 0.29,\n",
       " 0.29,\n",
       " 0.25,\n",
       " 0.28,\n",
       " 0.37,\n",
       " 0.26,\n",
       " 0.26,\n",
       " 0.23,\n",
       " 0.3,\n",
       " 0.31,\n",
       " 0.36,\n",
       " 0.24,\n",
       " 0.33,\n",
       " 0.27,\n",
       " 0.28,\n",
       " 0.34,\n",
       " 0.32,\n",
       " 0.37,\n",
       " 0.3,\n",
       " 0.3,\n",
       " 0.34,\n",
       " 0.24,\n",
       " 0.29,\n",
       " 0.35,\n",
       " 0.36,\n",
       " 0.35,\n",
       " 0.32,\n",
       " 0.36,\n",
       " 0.33,\n",
       " 0.26,\n",
       " 0.32,\n",
       " 0.38,\n",
       " 0.33,\n",
       " 0.35,\n",
       " 0.35,\n",
       " 0.32,\n",
       " 0.34,\n",
       " 0.28,\n",
       " 0.27,\n",
       " 0.28,\n",
       " 0.37,\n",
       " 0.33,\n",
       " 0.33,\n",
       " 0.23,\n",
       " 0.3,\n",
       " 0.29,\n",
       " 0.28,\n",
       " 0.23,\n",
       " 0.42,\n",
       " 0.26,\n",
       " 0.36,\n",
       " 0.33,\n",
       " 0.37,\n",
       " 0.29,\n",
       " 0.29,\n",
       " 0.3,\n",
       " 0.24,\n",
       " 0.32,\n",
       " 0.3,\n",
       " 0.32,\n",
       " 0.32,\n",
       " 0.24,\n",
       " 0.31,\n",
       " 0.31,\n",
       " 0.3,\n",
       " 0.31,\n",
       " 0.29,\n",
       " 0.26,\n",
       " 0.3,\n",
       " 0.38,\n",
       " 0.38,\n",
       " 0.28,\n",
       " 0.3,\n",
       " 0.27,\n",
       " 0.3,\n",
       " 0.35,\n",
       " 0.33,\n",
       " 0.23,\n",
       " 0.25,\n",
       " 0.36,\n",
       " 0.32,\n",
       " 0.42,\n",
       " 0.3,\n",
       " 0.3,\n",
       " 0.26,\n",
       " 0.3,\n",
       " 0.3,\n",
       " 0.25,\n",
       " 0.35,\n",
       " 0.25,\n",
       " 0.27,\n",
       " 0.35,\n",
       " 0.32,\n",
       " 0.29,\n",
       " 0.36,\n",
       " 0.32,\n",
       " 0.36,\n",
       " 0.35,\n",
       " 0.21,\n",
       " 0.23,\n",
       " 0.31,\n",
       " 0.31,\n",
       " 0.31,\n",
       " 0.31,\n",
       " 0.3,\n",
       " 0.28,\n",
       " 0.31,\n",
       " 0.38,\n",
       " 0.26,\n",
       " 0.32,\n",
       " 0.32,\n",
       " 0.32,\n",
       " 0.25,\n",
       " 0.34,\n",
       " 0.33,\n",
       " 0.25,\n",
       " 0.3,\n",
       " 0.27,\n",
       " 0.39,\n",
       " 0.23,\n",
       " 0.29,\n",
       " 0.22,\n",
       " 0.35,\n",
       " 0.34,\n",
       " 0.35,\n",
       " 0.31,\n",
       " 0.21,\n",
       " 0.24,\n",
       " 0.41,\n",
       " 0.36,\n",
       " 0.3,\n",
       " 0.28,\n",
       " 0.29,\n",
       " 0.34,\n",
       " 0.39,\n",
       " 0.29,\n",
       " 0.3,\n",
       " 0.24,\n",
       " 0.37,\n",
       " 0.35,\n",
       " 0.39,\n",
       " 0.21,\n",
       " 0.3,\n",
       " 0.34,\n",
       " 0.34,\n",
       " 0.35,\n",
       " 0.3,\n",
       " 0.25,\n",
       " 0.3,\n",
       " 0.35,\n",
       " 0.41,\n",
       " 0.29,\n",
       " 0.3,\n",
       " 0.33,\n",
       " 0.41,\n",
       " 0.32,\n",
       " 0.21,\n",
       " 0.28,\n",
       " 0.3,\n",
       " 0.3,\n",
       " 0.29,\n",
       " 0.32,\n",
       " 0.39,\n",
       " 0.3,\n",
       " 0.32,\n",
       " 0.33,\n",
       " 0.4,\n",
       " 0.31,\n",
       " 0.34,\n",
       " 0.31,\n",
       " 0.33,\n",
       " 0.3,\n",
       " 0.28,\n",
       " 0.3,\n",
       " 0.23,\n",
       " 0.28,\n",
       " 0.32,\n",
       " 0.29,\n",
       " 0.33,\n",
       " 0.32,\n",
       " 0.25,\n",
       " 0.33,\n",
       " 0.28,\n",
       " 0.21,\n",
       " 0.33,\n",
       " 0.35,\n",
       " 0.31,\n",
       " 0.31,\n",
       " 0.28,\n",
       " 0.3,\n",
       " 0.37,\n",
       " 0.32,\n",
       " 0.27,\n",
       " 0.35,\n",
       " 0.27,\n",
       " 0.19,\n",
       " 0.34,\n",
       " 0.37,\n",
       " 0.26,\n",
       " 0.28,\n",
       " 0.34,\n",
       " 0.28,\n",
       " 0.27,\n",
       " 0.34,\n",
       " 0.33,\n",
       " 0.31,\n",
       " 0.27,\n",
       " 0.31,\n",
       " 0.36,\n",
       " 0.29,\n",
       " 0.33,\n",
       " 0.3,\n",
       " 0.29,\n",
       " 0.28,\n",
       " 0.32,\n",
       " 0.32,\n",
       " 0.34,\n",
       " 0.35,\n",
       " 0.34,\n",
       " 0.23,\n",
       " 0.38,\n",
       " 0.35,\n",
       " 0.24,\n",
       " 0.38,\n",
       " 0.28,\n",
       " 0.3,\n",
       " 0.32,\n",
       " 0.33,\n",
       " 0.37,\n",
       " 0.31,\n",
       " 0.26,\n",
       " 0.31,\n",
       " 0.34,\n",
       " 0.27,\n",
       " 0.28,\n",
       " 0.24,\n",
       " 0.28,\n",
       " 0.3,\n",
       " 0.31,\n",
       " 0.25,\n",
       " 0.31,\n",
       " 0.31,\n",
       " 0.29,\n",
       " 0.24,\n",
       " 0.23,\n",
       " 0.33,\n",
       " 0.31,\n",
       " 0.28,\n",
       " 0.38,\n",
       " 0.3,\n",
       " 0.33,\n",
       " 0.2,\n",
       " 0.26,\n",
       " 0.23,\n",
       " 0.3,\n",
       " 0.35,\n",
       " 0.4,\n",
       " 0.3,\n",
       " 0.31,\n",
       " 0.28,\n",
       " 0.39,\n",
       " 0.29,\n",
       " 0.31,\n",
       " 0.23,\n",
       " 0.32,\n",
       " 0.33,\n",
       " 0.3,\n",
       " 0.37,\n",
       " 0.38,\n",
       " 0.31,\n",
       " 0.39,\n",
       " 0.22,\n",
       " 0.41,\n",
       " 0.36,\n",
       " 0.28,\n",
       " 0.33,\n",
       " 0.29,\n",
       " 0.28,\n",
       " 0.25,\n",
       " 0.32,\n",
       " 0.32,\n",
       " 0.34,\n",
       " 0.29,\n",
       " 0.32,\n",
       " 0.28,\n",
       " 0.25,\n",
       " 0.33,\n",
       " 0.31,\n",
       " 0.29,\n",
       " 0.4,\n",
       " 0.32,\n",
       " 0.29,\n",
       " 0.26,\n",
       " 0.29,\n",
       " 0.27,\n",
       " 0.43,\n",
       " 0.37,\n",
       " 0.36,\n",
       " 0.28,\n",
       " 0.39,\n",
       " 0.29,\n",
       " 0.3,\n",
       " 0.27,\n",
       " 0.32,\n",
       " 0.31,\n",
       " 0.37,\n",
       " 0.18,\n",
       " 0.32,\n",
       " 0.33,\n",
       " 0.27,\n",
       " 0.4,\n",
       " 0.28,\n",
       " 0.33,\n",
       " 0.33,\n",
       " 0.25,\n",
       " 0.34,\n",
       " 0.3,\n",
       " 0.31,\n",
       " 0.22,\n",
       " 0.25,\n",
       " 0.33,\n",
       " 0.26,\n",
       " 0.35,\n",
       " 0.42,\n",
       " 0.28,\n",
       " 0.41,\n",
       " 0.2,\n",
       " 0.33,\n",
       " 0.25,\n",
       " 0.38,\n",
       " 0.34,\n",
       " 0.27,\n",
       " 0.42,\n",
       " 0.3,\n",
       " 0.23,\n",
       " 0.23,\n",
       " 0.31,\n",
       " 0.34,\n",
       " 0.27,\n",
       " 0.37,\n",
       " 0.29,\n",
       " 0.31,\n",
       " 0.25,\n",
       " 0.3,\n",
       " 0.26,\n",
       " 0.3,\n",
       " 0.34,\n",
       " 0.32,\n",
       " 0.29,\n",
       " 0.35,\n",
       " 0.27,\n",
       " 0.32,\n",
       " 0.31,\n",
       " 0.38,\n",
       " 0.31,\n",
       " 0.31,\n",
       " 0.31,\n",
       " 0.3,\n",
       " 0.29,\n",
       " 0.29,\n",
       " 0.26,\n",
       " 0.34,\n",
       " 0.25,\n",
       " 0.31]"
      ]
     },
     "execution_count": 218,
     "metadata": {},
     "output_type": "execute_result"
    }
   ],
   "source": [
    "lista_pesquisas = [pesquisa_opiniao(100) for i in range(1000)]\n",
    "lista_pesquisas"
   ]
  },
  {
   "cell_type": "code",
   "execution_count": 219,
   "id": "efe6d8d9",
   "metadata": {
    "ExecuteTime": {
     "end_time": "2022-03-11T00:39:55.536663Z",
     "start_time": "2022-03-11T00:39:55.417474Z"
    }
   },
   "outputs": [
    {
     "name": "stderr",
     "output_type": "stream",
     "text": [
      "/Users/pedroteche/opt/anaconda3/lib/python3.9/site-packages/seaborn/_decorators.py:36: FutureWarning: Pass the following variable as a keyword arg: x. From version 0.12, the only valid positional argument will be `data`, and passing other arguments without an explicit keyword will result in an error or misinterpretation.\n",
      "  warnings.warn(\n"
     ]
    },
    {
     "data": {
      "image/png": "[encoded data removed]",
      "text/plain": [
       "<Figure size 432x288 with 1 Axes>"
      ]
     },
     "metadata": {},
     "output_type": "display_data"
    }
   ],
   "source": [
    "sns.boxplot(lista_pesquisas);\n"
   ]
  },
  {
   "cell_type": "markdown",
   "id": "0570c413",
   "metadata": {},
   "source": [
    "Podemos agora comparar o desvio padrão dessa distribuição entre amostras de tamanhos diferentes:"
   ]
  },
  {
   "cell_type": "code",
   "execution_count": 220,
   "id": "e70dfb89",
   "metadata": {},
   "outputs": [],
   "source": [
    "resultado_pesquisa = []\n",
    "for tamanho_amostra in range(10, 561, 50):\n",
    "    lista_pesquisas = [pesquisa_opiniao(tamanho_amostra) for i in range(1000)]\n",
    "    desvpad_amostragem = np.std(lista_pesquisas)\n",
    "    resultado_pesquisa.append({'tam_amostra': tamanho_amostra,'sd_amostragem' : desvpad_amostragem})\n",
    "\n",
    "tb_amostragem = pd.DataFrame(resultado_pesquisa)"
   ]
  },
  {
   "cell_type": "code",
   "execution_count": 222,
   "id": "f8423bc8",
   "metadata": {},
   "outputs": [],
   "source": [
    "tb_amostragem['ci'] = 2 * tb_amostragem['sd_amostragem']"
   ]
  },
  {
   "cell_type": "code",
   "execution_count": 223,
   "id": "2e6dbc71",
   "metadata": {},
   "outputs": [
    {
     "data": {
      "text/plain": [
       "<AxesSubplot:xlabel='tam_amostra', ylabel='ci'>"
      ]
     },
     "execution_count": 223,
     "metadata": {},
     "output_type": "execute_result"
    },
    {
     "data": {
      "image/png": "[encoded data removed]",
      "text/plain": [
       "<Figure size 432x288 with 1 Axes>"
      ]
     },
     "metadata": {},
     "output_type": "display_data"
    }
   ],
   "source": [
    "sns.lineplot(data = tb_amostragem, x = 'tam_amostra', y = 'ci', color = 'black')"
   ]
  },
  {
   "cell_type": "code",
   "execution_count": null,
   "id": "5de3373d",
   "metadata": {},
   "outputs": [],
   "source": []
  }
 ],
 "metadata": {
  "hide_input": false,
  "kernelspec": {
   "display_name": "Python 3 (ipykernel)",
   "language": "python",
   "name": "python3"
  },
  "language_info": {
   "codemirror_mode": {
    "name": "ipython",
    "version": 3
   },
   "file_extension": ".py",
   "mimetype": "text/x-python",
   "name": "python",
   "nbconvert_exporter": "python",
   "pygments_lexer": "ipython3",
   "version": "3.9.11"
  },
  "toc": {
   "base_numbering": 1,
   "nav_menu": {},
   "number_sections": true,
   "sideBar": true,
   "skip_h1_title": false,
   "title_cell": "Table of Contents",
   "title_sidebar": "Contents",
   "toc_cell": true,
   "toc_position": {
    "height": "calc(100% - 180px)",
    "left": "10px",
    "top": "150px",
    "width": "256px"
   },
   "toc_section_display": true,
   "toc_window_display": true
  },
  "vscode": {
   "interpreter": {
    "hash": "014f4a4a5af8f0104b12c029e500f4146d6d785e8cf714d2a35b7a9514230cd3"
   }
  }
 },
 "nbformat": 4,
 "nbformat_minor": 5
}

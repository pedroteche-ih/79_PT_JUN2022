{
 "cells": [
  {
   "cell_type": "markdown",
   "metadata": {},
   "source": [
    "# Paralelização\n",
    "\n",
    "Até agora o código que estamos construindo roda em série em nosso computador. Isso significa que cada instrução em nosso código é processada linearmente, uma após a outra.\n",
    "\n",
    "Por exemplo, no caso de um `loop`, cada **etapa** do loop é executada em série. Vamos ver isso na prática.\n",
    "\n",
    "## Códigos Seriais\n",
    "\n",
    "Vamos começar analisando a **ordem de execução** de um loop simples:"
   ]
  },
  {
   "cell_type": "code",
   "execution_count": null,
   "metadata": {},
   "outputs": [],
   "source": [
    "import time"
   ]
  },
  {
   "cell_type": "code",
   "execution_count": null,
   "metadata": {
    "ExecuteTime": {
     "end_time": "2022-01-25T22:50:13.065981Z",
     "start_time": "2022-01-25T22:50:13.050029Z"
    }
   },
   "outputs": [],
   "source": [
    "def dormir(x):\n",
    "    '''\n",
    "    Dormir x-segundos e retorna x.\n",
    "    '''\n",
    "    \n",
    "    print(f'Dormindo por {x} segundos.')\n",
    "    time.sleep(x)\n",
    "    print(f'Retornando {x}')\n",
    "    return x"
   ]
  },
  {
   "cell_type": "code",
   "execution_count": null,
   "metadata": {
    "ExecuteTime": {
     "end_time": "2022-01-25T22:50:27.836941Z",
     "start_time": "2022-01-25T22:50:22.817973Z"
    },
    "tags": []
   },
   "outputs": [],
   "source": [
    "%%time\n",
    "dormir(5)"
   ]
  },
  {
   "cell_type": "markdown",
   "metadata": {},
   "source": [
    "Vamos construir uma lista e utilizar um `loop` para percorrer nossa lista:"
   ]
  },
  {
   "cell_type": "code",
   "execution_count": null,
   "metadata": {
    "ExecuteTime": {
     "end_time": "2022-01-25T22:51:04.990897Z",
     "start_time": "2022-01-25T22:51:04.976935Z"
    }
   },
   "outputs": [],
   "source": [
    "my_list = [1,2,3,4]"
   ]
  },
  {
   "cell_type": "code",
   "execution_count": null,
   "metadata": {},
   "outputs": [],
   "source": [
    "%%time\n",
    "for x in my_list:\n",
    "    dormir(x)"
   ]
  },
  {
   "cell_type": "markdown",
   "metadata": {},
   "source": [
    "O `loop` levou 10s para percorrer a lista pois percorreu ela em **série**: elemento a elemento, um após o outro.\n",
    "\n",
    "Mesmo as técnicas de *programação funcional* executam o código da mesma maneira:"
   ]
  },
  {
   "cell_type": "code",
   "execution_count": null,
   "metadata": {
    "ExecuteTime": {
     "end_time": "2022-01-25T23:00:15.711016Z",
     "start_time": "2022-01-25T23:00:09.667169Z"
    }
   },
   "outputs": [],
   "source": [
    "%%time\n",
    "list(map(dormir, [1, 2, 3, 4]))"
   ]
  },
  {
   "cell_type": "markdown",
   "metadata": {},
   "source": [
    "## Códigos Paralelos\n",
    "\n",
    "Uma das principais técnicas para aumentar a velocidade dos processadores no séc. XXI são os processadores com múltiplos *cores* (um processador contém múltiplas CPUs).\n",
    "\n",
    "Cada *core* de um computador é linear: ele executa, em altissíma velocidade, instruções de forma linear - uma após a outra.\n",
    "\n",
    "Os programas que construímos até hoje nas aulas são incapazes de utilizar múltiplos *cores* de processamento pois são lineares! Todos os `loops`, `applies`, `requests` ocorreram em série, de forma que, se nosso processador possui mais de um *core* não alavancamos toda sua capacidade computacional.\n",
    "\n",
    "Vamos aprender agora como podemos converter nossos programas seriais em programas paralelos:"
   ]
  },
  {
   "cell_type": "code",
   "execution_count": 3,
   "metadata": {
    "ExecuteTime": {
     "end_time": "2022-01-25T23:02:37.285038Z",
     "start_time": "2022-01-25T23:02:37.279054Z"
    }
   },
   "outputs": [
    {
     "data": {
      "text/plain": [
       "8"
      ]
     },
     "execution_count": 3,
     "metadata": {},
     "output_type": "execute_result"
    }
   ],
   "source": [
    "from multiprocessing import Pool, cpu_count\n",
    "cpu_count()"
   ]
  },
  {
   "cell_type": "markdown",
   "metadata": {},
   "source": [
    "A função `cpu_count()` nos mostra quantos *cores* nosso processador possui. Vamos utilizar a biblioteca `multiprocessing` para parelizar um loop.\n",
    "\n",
    "## Criando um `Pool`\n",
    "\n",
    "Um `Pool` é um objeto que coordena as tarefas que precisam ser executadas (*seu programa*) e como estas são alocadas nos diferentes *cores* do processador (*seu computador*).\n",
    "\n",
    "Antes de mais nada, precisamos criar um `Pool`, determinando quantos *cores* esse *gerente* poderá utilizar."
   ]
  },
  {
   "cell_type": "code",
   "execution_count": 4,
   "metadata": {
    "ExecuteTime": {
     "end_time": "2022-01-25T23:08:05.054402Z",
     "start_time": "2022-01-25T23:08:04.968659Z"
    }
   },
   "outputs": [],
   "source": [
    "pool = Pool(processes=cpu_count()-1)"
   ]
  },
  {
   "cell_type": "code",
   "execution_count": 5,
   "metadata": {
    "ExecuteTime": {
     "end_time": "2022-01-25T23:08:05.517584Z",
     "start_time": "2022-01-25T23:08:05.510605Z"
    }
   },
   "outputs": [
    {
     "data": {
      "text/plain": [
       "<multiprocessing.pool.Pool state=RUN pool_size=7>"
      ]
     },
     "execution_count": 5,
     "metadata": {},
     "output_type": "execute_result"
    }
   ],
   "source": [
    "pool"
   ]
  },
  {
   "cell_type": "markdown",
   "metadata": {},
   "source": [
    "### We'll `%%time` here to measure the velocity of this code in parallel."
   ]
  },
  {
   "cell_type": "markdown",
   "metadata": {},
   "source": [
    "However, if you run this code, watch what happens:"
   ]
  },
  {
   "cell_type": "code",
   "execution_count": null,
   "metadata": {
    "ExecuteTime": {
     "end_time": "2022-01-25T18:54:41.345183Z",
     "start_time": "2022-01-25T18:54:41.331220Z"
    }
   },
   "outputs": [],
   "source": [
    "#%%time\n",
    "\n",
    "result = pool.map(dormir, my_list)\n",
    "pool.terminate()"
   ]
  },
  {
   "cell_type": "markdown",
   "metadata": {},
   "source": [
    "Infelizmente, o Jupyter Notebook tem algumas incosistências quando lidamos com códigos paralelizados. Para utilizar o nosso `Pool` em um Jupyter Notebook vamos apreender como criar uma biblioteca e importa-la!"
   ]
  },
  {
   "cell_type": "code",
   "execution_count": 6,
   "metadata": {
    "ExecuteTime": {
     "end_time": "2022-01-25T23:11:16.807847Z",
     "start_time": "2022-01-25T23:11:16.791891Z"
    }
   },
   "outputs": [],
   "source": [
    "import dormir"
   ]
  },
  {
   "cell_type": "code",
   "execution_count": 7,
   "metadata": {
    "ExecuteTime": {
     "end_time": "2022-01-25T23:11:30.154318Z",
     "start_time": "2022-01-25T23:11:30.138335Z"
    }
   },
   "outputs": [
    {
     "data": {
      "text/plain": [
       "<function dormir.dormir_do_arquivo(x)>"
      ]
     },
     "execution_count": 7,
     "metadata": {},
     "output_type": "execute_result"
    }
   ],
   "source": [
    "dormir.dormir_do_arquivo"
   ]
  },
  {
   "cell_type": "code",
   "execution_count": 8,
   "metadata": {
    "ExecuteTime": {
     "end_time": "2022-01-25T23:12:21.582348Z",
     "start_time": "2022-01-25T23:12:21.571374Z"
    }
   },
   "outputs": [],
   "source": [
    "from dormir import dormir_do_arquivo"
   ]
  },
  {
   "cell_type": "code",
   "execution_count": 9,
   "metadata": {
    "ExecuteTime": {
     "end_time": "2022-01-25T23:13:19.612502Z",
     "start_time": "2022-01-25T23:12:43.503547Z"
    }
   },
   "outputs": [
    {
     "name": "stdout",
     "output_type": "stream",
     "text": [
      "Dormindo por 1 segundos.\n",
      "Retornando 1\n",
      "Dormindo por 2 segundos.\n",
      "Retornando 2\n",
      "Dormindo por 3 segundos.\n",
      "Retornando 3\n",
      "Dormindo por 4 segundos.\n",
      "Retornando 4\n",
      "CPU times: user 4.1 ms, sys: 1.75 ms, total: 5.85 ms\n",
      "Wall time: 10 s\n"
     ]
    },
    {
     "data": {
      "text/plain": [
       "[1, 2, 3, 4]"
      ]
     },
     "execution_count": 9,
     "metadata": {},
     "output_type": "execute_result"
    }
   ],
   "source": [
    "%%time\n",
    "list(map(dormir_do_arquivo, [1, 2, 3, 4]))"
   ]
  },
  {
   "cell_type": "code",
   "execution_count": 16,
   "metadata": {
    "ExecuteTime": {
     "end_time": "2022-01-25T23:14:39.334119Z",
     "start_time": "2022-01-25T23:14:39.234394Z"
    }
   },
   "outputs": [
    {
     "data": {
      "text/plain": [
       "<multiprocessing.pool.Pool state=RUN pool_size=7>"
      ]
     },
     "execution_count": 16,
     "metadata": {},
     "output_type": "execute_result"
    }
   ],
   "source": [
    "pool.terminate()\n",
    "pool = Pool(processes=cpu_count() - 1)\n",
    "pool"
   ]
  },
  {
   "cell_type": "code",
   "execution_count": 17,
   "metadata": {
    "ExecuteTime": {
     "end_time": "2022-01-25T23:15:14.696682Z",
     "start_time": "2022-01-25T23:15:06.663430Z"
    }
   },
   "outputs": [
    {
     "name": "stdout",
     "output_type": "stream",
     "text": [
      "Dormindo por 3 segundos.\n",
      "Dormindo por 4 segundos.\n",
      "Dormindo por 1 segundos.\n",
      "Dormindo por 2 segundos.\n",
      "Retornando 1\n",
      "Retornando 2\n",
      "Retornando 3\n",
      "Retornando 4\n",
      "CPU times: user 3.97 ms, sys: 3.05 ms, total: 7.02 ms\n",
      "Wall time: 4.01 s\n"
     ]
    }
   ],
   "source": [
    "%%time\n",
    "result = pool.map(dormir_do_arquivo, [1, 2, 3, 4])"
   ]
  },
  {
   "cell_type": "code",
   "execution_count": 14,
   "metadata": {
    "ExecuteTime": {
     "end_time": "2022-01-25T23:23:07.736477Z",
     "start_time": "2022-01-25T23:23:07.724510Z"
    }
   },
   "outputs": [
    {
     "name": "stdout",
     "output_type": "stream",
     "text": [
      "[1, 2, 3, 4, 5, 6, 7]\n"
     ]
    }
   ],
   "source": [
    "print(result)\n",
    "pool.terminate()"
   ]
  },
  {
   "cell_type": "markdown",
   "metadata": {
    "ExecuteTime": {
     "end_time": "2022-01-25T23:26:45.849511Z",
     "start_time": "2022-01-25T23:26:45.809627Z"
    }
   },
   "source": [
    "O que aconteceu? O processamento **paralelo terminou em 4s**, comparado aos **10s do processamento em série**! O objeto `Pool` despachou cada uma das aplicações da função para um *core* diferente e as executou simultaneamente:\n",
    "\n",
    "![image](images/parallel_vs_serial.webp)\n",
    "\n",
    "### Nem todos os loops podem ser paralelos...\n",
    "\n",
    "Para que um loop possa ser paralelizado, os resultados de cada *perna* do loop deve ser independente das outras *pernas*. Vamos construir um loop que não pode ser paralelizado:"
   ]
  },
  {
   "cell_type": "code",
   "execution_count": 18,
   "metadata": {},
   "outputs": [
    {
     "name": "stdout",
     "output_type": "stream",
     "text": [
      "120\n"
     ]
    }
   ],
   "source": [
    "minha_lista = [1, 2, 3, 4, 5]\n",
    "fatorial = 1\n",
    "\n",
    "for x in minha_lista:\n",
    "    fatorial *= x\n",
    "\n",
    "print(fatorial)"
   ]
  },
  {
   "cell_type": "markdown",
   "metadata": {},
   "source": [
    "Cada *perna* do nosso `loop` **DEPENDE** da *perna* anterior! Logo, para executar a segunda etapa do `loop` precisamos executar a primeira, para executar a terceira, precisamos executar a segunda, e assim por diante.\n",
    "\n",
    "Quais `loops` conseguimos paralelizar? Todos aqueles que podem ser escritos através de uma `list comprehensions` ou um `apply`."
   ]
  },
  {
   "cell_type": "markdown",
   "metadata": {},
   "source": [
    "## Utilizando `multiprocess`\n",
    "\n",
    "Além de utilizar funções definidas externamente, podemos utilizar a biblioteca `multiprocess` no lugar da biblioteca `multiprocessing` para paralelizar nosso código."
   ]
  },
  {
   "cell_type": "code",
   "execution_count": 1,
   "metadata": {
    "ExecuteTime": {
     "end_time": "2022-01-25T18:43:38.323469Z",
     "start_time": "2022-01-25T18:43:35.563836Z"
    }
   },
   "outputs": [
    {
     "name": "stdout",
     "output_type": "stream",
     "text": [
      "Defaulting to user installation because normal site-packages is not writeable\n",
      "Requirement already satisfied: multiprocess in /Users/pedroteche/Library/Python/3.8/lib/python/site-packages (0.70.13)\n",
      "Requirement already satisfied: dill>=0.3.5.1 in /Users/pedroteche/Library/Python/3.8/lib/python/site-packages (from multiprocess) (0.3.5.1)\n",
      "\u001b[33mWARNING: You are using pip version 20.2.3; however, version 22.2.2 is available.\n",
      "You should consider upgrading via the '/Library/Developer/CommandLineTools/usr/bin/python3 -m pip install --upgrade pip' command.\u001b[0m\n"
     ]
    }
   ],
   "source": [
    "!pip3 install multiprocess"
   ]
  },
  {
   "cell_type": "code",
   "execution_count": 19,
   "metadata": {
    "ExecuteTime": {
     "end_time": "2022-01-25T23:27:31.331007Z",
     "start_time": "2022-01-25T23:27:31.297089Z"
    }
   },
   "outputs": [],
   "source": [
    "from multiprocess import Pool, cpu_count"
   ]
  },
  {
   "cell_type": "markdown",
   "metadata": {},
   "source": [
    "A sintáxe desta biblioteca é idêntica à biblioteca `multiprocessing`!"
   ]
  },
  {
   "cell_type": "code",
   "execution_count": 25,
   "metadata": {
    "ExecuteTime": {
     "end_time": "2022-01-25T23:30:41.468188Z",
     "start_time": "2022-01-25T23:30:41.391405Z"
    }
   },
   "outputs": [],
   "source": [
    "pool = Pool(processes=cpu_count() - 1)"
   ]
  },
  {
   "cell_type": "code",
   "execution_count": 21,
   "metadata": {
    "ExecuteTime": {
     "end_time": "2022-01-25T23:28:07.957745Z",
     "start_time": "2022-01-25T23:27:53.668644Z"
    }
   },
   "outputs": [
    {
     "name": "stdout",
     "output_type": "stream",
     "text": [
      "CPU times: user 15.4 s, sys: 114 ms, total: 15.5 s\n",
      "Wall time: 15.6 s\n"
     ]
    }
   ],
   "source": [
    "%%time\n",
    "result = list(map(lambda x:x**10000000, [1,2,3,4,5,6]))"
   ]
  },
  {
   "cell_type": "code",
   "execution_count": 27,
   "metadata": {
    "ExecuteTime": {
     "end_time": "2022-01-25T23:31:33.438737Z",
     "start_time": "2022-01-25T23:30:43.006943Z"
    }
   },
   "outputs": [
    {
     "name": "stdout",
     "output_type": "stream",
     "text": [
      "CPU times: user 16.4 ms, sys: 13.9 ms, total: 30.3 ms\n",
      "Wall time: 6.18 s\n"
     ]
    }
   ],
   "source": [
    "%%time\n",
    "result = pool.map(lambda x:x**10000000, [1,2,3,4,5,6])"
   ]
  },
  {
   "cell_type": "code",
   "execution_count": 23,
   "metadata": {
    "ExecuteTime": {
     "end_time": "2022-01-25T23:32:49.972418Z",
     "start_time": "2022-01-25T23:32:49.919561Z"
    }
   },
   "outputs": [],
   "source": [
    "pool.terminate()"
   ]
  },
  {
   "cell_type": "markdown",
   "metadata": {},
   "source": [
    "## Códigos Assíncronos\n",
    "\n",
    "Até agora todos os códigos que rodamos, mesmo os paralelos, foram processados de forma **síncrona**: enquanto o código é processado, o Python fica aguardando. Com processamento paralelo podemos construir códigos assíncronos\n",
    "\n",
    "## What is asynchrony?\n",
    "\n",
    "- `result.ready()`\n",
    "- `result.wait()`\n",
    "- `result.get()`"
   ]
  },
  {
   "cell_type": "code",
   "execution_count": null,
   "metadata": {
    "ExecuteTime": {
     "end_time": "2022-01-25T23:38:45.044128Z",
     "start_time": "2022-01-25T23:38:44.942401Z"
    },
    "scrolled": true
   },
   "outputs": [],
   "source": [
    "pool = Pool(processes=cpu_count()-1)"
   ]
  },
  {
   "cell_type": "code",
   "execution_count": null,
   "metadata": {
    "ExecuteTime": {
     "end_time": "2022-01-25T23:38:45.907884Z",
     "start_time": "2022-01-25T23:38:45.892896Z"
    }
   },
   "outputs": [],
   "source": [
    "result = pool.map_async(my_sleep_from_file, [10, 10, 10, 10, 10, 10])"
   ]
  },
  {
   "cell_type": "code",
   "execution_count": null,
   "metadata": {
    "ExecuteTime": {
     "end_time": "2022-01-25T23:38:55.948100Z",
     "start_time": "2022-01-25T23:38:46.390989Z"
    }
   },
   "outputs": [],
   "source": [
    "print('Do something that doesn\"t depend on result')\n",
    "print('...')\n",
    "print('Now the time came when the result is needed.')\n",
    "result.wait()\n",
    "\n",
    "result_list = result.get()\n",
    "pool.terminate()\n",
    "print(f'Now go on and use the results obtained - {result_list}')"
   ]
  },
  {
   "cell_type": "code",
   "execution_count": null,
   "metadata": {
    "ExecuteTime": {
     "end_time": "2022-01-25T23:37:36.622543Z",
     "start_time": "2022-01-25T23:37:36.605504Z"
    }
   },
   "outputs": [],
   "source": [
    "result.ready()"
   ]
  },
  {
   "cell_type": "markdown",
   "metadata": {},
   "source": [
    "# Apêndice - Utilizando Paralelização em WebScrapping"
   ]
  },
  {
   "cell_type": "code",
   "execution_count": null,
   "metadata": {
    "ExecuteTime": {
     "end_time": "2022-01-26T00:23:23.167418Z",
     "start_time": "2022-01-26T00:23:23.150485Z"
    }
   },
   "outputs": [],
   "source": [
    "import pandas as pd"
   ]
  },
  {
   "cell_type": "code",
   "execution_count": null,
   "metadata": {
    "ExecuteTime": {
     "end_time": "2022-01-26T00:23:27.190590Z",
     "start_time": "2022-01-26T00:23:26.916786Z"
    }
   },
   "outputs": [],
   "source": [
    "import requests\n",
    "from bs4 import BeautifulSoup"
   ]
  },
  {
   "cell_type": "code",
   "execution_count": null,
   "metadata": {
    "ExecuteTime": {
     "end_time": "2022-01-26T00:25:48.746563Z",
     "start_time": "2022-01-26T00:25:48.740581Z"
    }
   },
   "outputs": [],
   "source": [
    "n_max = 51\n",
    "my_range = range(1,n_max)"
   ]
  },
  {
   "cell_type": "code",
   "execution_count": null,
   "metadata": {
    "ExecuteTime": {
     "end_time": "2022-01-26T00:26:16.414586Z",
     "start_time": "2022-01-26T00:25:49.968602Z"
    },
    "scrolled": true
   },
   "outputs": [],
   "source": [
    "%%time\n",
    "\n",
    "for i in tqdm(my_range):\n",
    "    response = requests.get(f'http://books.toscrape.com/catalogue/page-{i}.html')\n",
    "    html=response.content\n",
    "    soup = BeautifulSoup(html)\n",
    "    titles=[s.find_all('a')[0]['title'] for s in soup.find_all('h3')]\n",
    "    prices = [s.text for s in soup.find_all('p', attrs={'class':'price_color'})]\n",
    "    stocks = [(True if s.text.strip()=='In stock' else False) for s in soup.find_all('p', attrs={'class':'instock availability'})]\n",
    "    df_temp=pd.DataFrame({'Title':titles,'Price':prices,'Stock Availability':stocks})\n",
    "    df_temp.to_csv(f'tmp/results_{i}.csv', index=False, sep=',')"
   ]
  },
  {
   "cell_type": "code",
   "execution_count": null,
   "metadata": {
    "ExecuteTime": {
     "end_time": "2022-01-26T00:28:11.318835Z",
     "start_time": "2022-01-26T00:28:11.306870Z"
    }
   },
   "outputs": [],
   "source": [
    "import requests\n",
    "from bs4 import BeautifulSoup\n",
    "import pandas as pd\n",
    "\n",
    "def download(i):\n",
    "    '''\n",
    "    \n",
    "    '''\n",
    "    response = requests.get(f'http://books.toscrape.com/catalogue/page-{i}.html')\n",
    "    html=response.content\n",
    "    soup = BeautifulSoup(html)\n",
    "    titles=[s.find_all('a')[0]['title'] for s in soup.find_all('h3')]\n",
    "    prices = [s.text for s in soup.find_all('p', attrs={'class':'price_color'})]\n",
    "    stocks = [(True if s.text.strip()=='In stock' else False) for s in soup.find_all('p', attrs={'class':'instock availability'})]\n",
    "    df_temp=pd.DataFrame({'Title':titles,'Price':prices,'Stock Availability':stocks})\n",
    "    df_temp.to_csv(f'tmp_par/results_{i}.csv', index=False, sep=',')"
   ]
  },
  {
   "cell_type": "code",
   "execution_count": null,
   "metadata": {
    "ExecuteTime": {
     "end_time": "2022-01-26T00:28:12.065308Z",
     "start_time": "2022-01-26T00:28:11.941660Z"
    }
   },
   "outputs": [],
   "source": [
    "pool = Pool(cpu_count())"
   ]
  },
  {
   "cell_type": "code",
   "execution_count": null,
   "metadata": {
    "ExecuteTime": {
     "end_time": "2022-01-26T00:28:18.427695Z",
     "start_time": "2022-01-26T00:28:12.614709Z"
    },
    "scrolled": true
   },
   "outputs": [],
   "source": [
    "%%time\n",
    "\n",
    "results = pool.map(download, tqdm(my_range))"
   ]
  },
  {
   "cell_type": "code",
   "execution_count": null,
   "metadata": {
    "ExecuteTime": {
     "end_time": "2022-01-26T00:32:39.964298Z",
     "start_time": "2022-01-26T00:32:39.884510Z"
    }
   },
   "outputs": [],
   "source": [
    "pool.terminate()"
   ]
  },
  {
   "cell_type": "code",
   "execution_count": null,
   "metadata": {
    "ExecuteTime": {
     "end_time": "2021-02-06T15:25:25.143906Z",
     "start_time": "2021-02-06T15:25:25.133428Z"
    }
   },
   "outputs": [],
   "source": [
    "def download_html(i):\n",
    "    import requests\n",
    "    from bs4 import BeautifulSoup\n",
    "    import pandas as pd\n",
    "    response = requests.get(f'http://books.toscrape.com/catalogue/page-{i}.html')\n",
    "    html=response.content\n",
    "    file = open(f'html_books_{i}.html','wb')\n",
    "    file.write(response.content)"
   ]
  },
  {
   "cell_type": "code",
   "execution_count": null,
   "metadata": {
    "ExecuteTime": {
     "end_time": "2021-02-06T15:27:25.942659Z",
     "start_time": "2021-02-06T15:27:25.936152Z"
    }
   },
   "outputs": [],
   "source": [
    "import os"
   ]
  },
  {
   "cell_type": "code",
   "execution_count": null,
   "metadata": {},
   "outputs": [],
   "source": [
    "os.mkdir('tmp_2')"
   ]
  },
  {
   "cell_type": "code",
   "execution_count": null,
   "metadata": {},
   "outputs": [],
   "source": [
    "os.getcwd()"
   ]
  },
  {
   "cell_type": "code",
   "execution_count": null,
   "metadata": {
    "ExecuteTime": {
     "end_time": "2021-02-06T15:28:01.023735Z",
     "start_time": "2021-02-06T15:28:01.021730Z"
    }
   },
   "outputs": [],
   "source": [
    "os.chdir('tmp_2')"
   ]
  },
  {
   "cell_type": "code",
   "execution_count": null,
   "metadata": {
    "ExecuteTime": {
     "end_time": "2021-02-06T15:28:54.760991Z",
     "start_time": "2021-02-06T15:28:54.750008Z"
    }
   },
   "outputs": [],
   "source": [
    "os.getcwd()"
   ]
  },
  {
   "cell_type": "code",
   "execution_count": null,
   "metadata": {
    "ExecuteTime": {
     "end_time": "2021-02-06T15:29:07.637326Z",
     "start_time": "2021-02-06T15:29:03.138423Z"
    }
   },
   "outputs": [],
   "source": [
    "pool = Pool(cpu_count())\n",
    "results = pool.map(download_html, tqdm(my_range))"
   ]
  },
  {
   "cell_type": "code",
   "execution_count": null,
   "metadata": {},
   "outputs": [],
   "source": []
  }
 ],
 "metadata": {
  "hide_input": false,
  "kernelspec": {
   "display_name": "Python 3.8.9 64-bit",
   "language": "python",
   "name": "python3"
  },
  "language_info": {
   "codemirror_mode": {
    "name": "ipython",
    "version": 3
   },
   "file_extension": ".py",
   "mimetype": "text/x-python",
   "name": "python",
   "nbconvert_exporter": "python",
   "pygments_lexer": "ipython3",
   "version": "3.8.9"
  },
  "toc": {
   "base_numbering": 1,
   "nav_menu": {},
   "number_sections": true,
   "sideBar": true,
   "skip_h1_title": false,
   "title_cell": "Table of Contents",
   "title_sidebar": "Contents",
   "toc_cell": false,
   "toc_position": {},
   "toc_section_display": true,
   "toc_window_display": false
  },
  "varInspector": {
   "cols": {
    "lenName": 16,
    "lenType": 16,
    "lenVar": 40
   },
   "kernels_config": {
    "python": {
     "delete_cmd_postfix": "",
     "delete_cmd_prefix": "del ",
     "library": "var_list.py",
     "varRefreshCmd": "print(var_dic_list())"
    },
    "r": {
     "delete_cmd_postfix": ") ",
     "delete_cmd_prefix": "rm(",
     "library": "var_list.r",
     "varRefreshCmd": "cat(var_dic_list()) "
    }
   },
   "types_to_exclude": [
    "module",
    "function",
    "builtin_function_or_method",
    "instance",
    "_Feature"
   ],
   "window_display": false
  },
  "vscode": {
   "interpreter": {
    "hash": "31f2aee4e71d21fbe5cf8b01ff0e069b9275f58929596ceb00d14d90e3e16cd6"
   }
  }
 },
 "nbformat": 4,
 "nbformat_minor": 4
}

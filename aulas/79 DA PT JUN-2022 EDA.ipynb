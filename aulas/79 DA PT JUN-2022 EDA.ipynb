{
 "cells": [
  {
   "cell_type": "markdown",
   "id": "784ece97",
   "metadata": {
    "toc": true
   },
   "source": [
    "<h1>Table of Contents<span class=\"tocSkip\"></span></h1>\n",
    "<div class=\"toc\"><ul class=\"toc-item\"><li><span><a href=\"#Análise-Exploratória-de-Dados\" data-toc-modified-id=\"Análise-Exploratória-de-Dados-1\"><span class=\"toc-item-num\">1&nbsp;&nbsp;</span>Análise Exploratória de Dados</a></span><ul class=\"toc-item\"><li><span><a href=\"#Séries-temporais\" data-toc-modified-id=\"Séries-temporais-1.1\"><span class=\"toc-item-num\">1.1&nbsp;&nbsp;</span>Séries temporais</a></span></li><li><span><a href=\"#Relação-entre-duas-variáveis-continuas\" data-toc-modified-id=\"Relação-entre-duas-variáveis-continuas-1.2\"><span class=\"toc-item-num\">1.2&nbsp;&nbsp;</span>Relação entre duas variáveis continuas</a></span></li><li><span><a href=\"#Relação-entre-uma-variável-continua-e-uma-categórica\" data-toc-modified-id=\"Relação-entre-uma-variável-continua-e-uma-categórica-1.3\"><span class=\"toc-item-num\">1.3&nbsp;&nbsp;</span>Relação entre uma variável continua e uma categórica</a></span></li><li><span><a href=\"#Relação-entre-múltiplas-variáveis-continuas\" data-toc-modified-id=\"Relação-entre-múltiplas-variáveis-continuas-1.4\"><span class=\"toc-item-num\">1.4&nbsp;&nbsp;</span>Relação entre múltiplas variáveis continuas</a></span></li></ul></li></ul></div>"
   ]
  },
  {
   "cell_type": "code",
   "execution_count": null,
   "id": "d50ece76",
   "metadata": {
    "ExecuteTime": {
     "end_time": "2022-03-03T22:43:37.678173Z",
     "start_time": "2022-03-03T22:43:36.168755Z"
    }
   },
   "outputs": [],
   "source": [
    "import os\n",
    "import numpy as np\n",
    "import seaborn as sns\n",
    "import pandas as pd\n",
    "from matplotlib import pyplot as plt\n",
    "from sqlalchemy import create_engine\n",
    "from dotenv import load_dotenv\n",
    "\n",
    "load_dotenv(\"credentials/mysql.env\")\n",
    "url_banco = \"localhost\"\n",
    "nome_db = \"olist\"\n",
    "conn_str = f\"mysql+pymysql://{os.getenv('MYSQL_USER')}:{os.getenv('MYSQL_PASS')}@{url_banco}/{nome_db}\"\n",
    "engine = create_engine(conn_str)\n"
   ]
  },
  {
   "cell_type": "code",
   "execution_count": null,
   "id": "abc7dcab",
   "metadata": {},
   "outputs": [],
   "source": [
    "sns.set_theme(context=\"notebook\", style=\"darkgrid\")\n"
   ]
  },
  {
   "cell_type": "markdown",
   "id": "aab64840",
   "metadata": {},
   "source": [
    "Para facilitar nosso trabalho na aula de hoje, vamos criar um View com os dados que utilizaremos ao longo da aula."
   ]
  },
  {
   "cell_type": "markdown",
   "id": "ac4fad23",
   "metadata": {},
   "source": [
    "# Análise Exploratória de Dados (EDA)\n",
    "\n",
    "O processo de construção de modelos pode ser dividido em quatro etapas:\n",
    "\n",
    "1. **Definição do Problema e Coleta de Dados**;\n",
    "    * Todo modelo deve ter um **objetivo bem definido**.\n",
    "    * O **tempo disponível** para construção é **parte da definição do problema**!\n",
    "    * A partir desta definição podemos definir *quais dados serão necessários* para **iniciarmos nossa análise**.\n",
    "1. **Análises Exploratórias**;\n",
    "    * O objetivo da análise exploratória é *maximizar o nosso conhecimento* sobre a **estrutura dos dados** disponíveis, mapear as relações entre diferentes variáveis e o objetivo do nosso problema e **avaliar a qualidade dos dados**, eventualmente propondo tratativas para sanar problemas.\n",
    "1. **Definição e construção do modelo**;\n",
    "    * A partir do conhecimento adquirido durante a análise exploratória vamos determinar quais **técnicas são mais apropriadas** para a resolução do nosso problema.\n",
    "    * Para escolher entre diferentes técnicas devemos **implantar uma infra-estrutura rudimentar de testes**, que nos permita *testar diferentes modelos de forma rápida e simples*.\n",
    "1. **Validação e definição de próximos passos**.\n",
    "    * Com a construção do modelo finalizada, conduziremos a validação final do modelo, apresentando os conceitos por trás deste para os diferentes stakeholders do projeto. Além disso conduziremos testes utilizando a infra-estrutura operacional do modelo, garantindo que não houve perda de performance nas condições operacionais.\n",
    "\n",
    "Este processo **não é necessariamente linear**: podemos descobrir na etapa de análises exploratórias que não temos todas as informações necessárias para construir um modelo, ou então que as informações estão comprometidas a ponto de inviabilizar qualquer análise.\n",
    "\n",
    "Hoje nos aprofundaremos na segunda etapa deste fluxo: a análise exploratória de dados!\n",
    "\n",
    "## Definição do Problema\n",
    "\n",
    "Para a aula de hoje utilizaremos o data set da Olist. Foi solicitado ao CoE de Dados que construa um modelo para explicar e prever variações nas avalições que clientes fizeram de nossos pedidos. O objetivo deste modelo é descobrir quais são os principais eixos que impactam estas avaliações para que possamos focar esforços na melhoria das áreas mais críticas.\n",
    "\n",
    "Os dados utilizados serão os dados do case OLIST, disponíveis no nosso DB MySQL.\n",
    "\n",
    "## Fonte de Dados\n",
    "\n",
    "No caso da aula de hoje, utilizaremos o nosso DB MySQL como fonte de dados para nossa análise exploratória."
   ]
  },
  {
   "cell_type": "code",
   "execution_count": null,
   "id": "b18543de",
   "metadata": {},
   "outputs": [],
   "source": [
    "query = \"\"\"\n",
    "\tSELECT\n",
    "\t\toodc.order_id,\n",
    "\t\tooidc.seller_id,\n",
    "\t\tooidc.price,\n",
    "\t\tooidc.freight_value,\n",
    "\t\toodc.order_status,\n",
    "\t\tSTR_TO_DATE(oodc.order_approved_at, '%%Y-%%m-%%d %%H:%%i:%%s') AS order_approved_at,\n",
    "\t\tSTR_TO_DATE(ooidc.shipping_limit_date, '%%Y-%%m-%%d %%H:%%i:%%s') AS shipping_limit_date,\n",
    "\t\tSTR_TO_DATE(oodc.order_delivered_carrier_date, '%%Y-%%m-%%d %%H:%%i:%%s') AS order_delivered_carrier_date,\n",
    "\t\tSTR_TO_DATE(oodc.order_delivered_customer_date, '%%Y-%%m-%%d %%H:%%i:%%s') AS order_delivered_customer_date,\n",
    "\t\tSTR_TO_DATE(oodc.order_estimated_delivery_date, '%%Y-%%m-%%d %%H:%%i:%%s') AS order_estimated_delivery_date,\n",
    "\t\tocdc.customer_state,\n",
    "\t\tosdc.seller_state,\n",
    "\t\topdc.product_category_name,\n",
    "\t\topdc.product_weight_g,\n",
    "\t\toordc.review_score \n",
    "\tFROM \n",
    "\t\tolist_order_items_dataset_csv ooidc JOIN\n",
    "\t\tolist_orders_dataset_csv oodc ON (ooidc.order_id = oodc.order_id) JOIN \n",
    "\t\tolist_customers_dataset_csv ocdc ON (oodc.customer_id = ocdc.customer_id) JOIN \n",
    "\t\tolist_products_dataset_csv opdc ON (ooidc.product_id = opdc.product_id) JOIN\n",
    "\t\tolist_sellers_dataset_csv osdc ON (osdc.seller_id = ooidc.seller_id) LEFT JOIN \n",
    "\t\tolist_order_reviews_dataset_csv oordc ON (oodc.order_id = oordc.order_id) JOIN\n",
    "\t\t(\n",
    "\t\t\tSELECT\n",
    "\t\t\t\toordc.review_id,\n",
    "\t\t\t\tSTR_TO_DATE(oordc.review_creation_date, '%%Y-%%m-%%d %%H:%%i:%%s') AS review_date,\n",
    "\t\t\t\tSUM(1) OVER (PARTITION BY order_id ORDER BY order_id, STR_TO_DATE(oordc.review_creation_date, '%%Y-%%m-%%d %%H:%%i:%%s') DESC) AS cum_review\n",
    "\t\t\tFROM \n",
    "\t\t\t\tolist_order_reviews_dataset_csv oordc\n",
    "\t\t\tORDER BY \n",
    "\t\t\t\toordc.order_id,\n",
    "\t\t\t\tSTR_TO_DATE(oordc.review_creation_date, '%%Y-%%m-%%d %%H:%%i:%%s') DESC\n",
    "\t\t) AS lr ON (oordc.review_id = lr.review_id)\n",
    "\tWHERE\n",
    "\t\tlr.cum_review = 1\n",
    "\tHAVING\n",
    "\t\torder_approved_at >= '2017-08-01' AND\n",
    "\t\torder_approved_at < '2018-08-01'\n",
    "\"\"\"\n",
    "tb_pedidos = pd.read_sql(query, engine)\n"
   ]
  },
  {
   "cell_type": "code",
   "execution_count": null,
   "id": "055bd98d",
   "metadata": {},
   "outputs": [],
   "source": [
    "tb_pedidos.info()\n"
   ]
  },
  {
   "cell_type": "code",
   "execution_count": null,
   "id": "7b551db4",
   "metadata": {},
   "outputs": [],
   "source": [
    "tb_pedidos.describe()\n"
   ]
  },
  {
   "cell_type": "code",
   "execution_count": null,
   "id": "ac1bbab6",
   "metadata": {},
   "outputs": [],
   "source": [
    "tb_pedidos.select_dtypes(include=[\"object\"]).describe()\n"
   ]
  },
  {
   "cell_type": "code",
   "execution_count": null,
   "id": "c58dc222",
   "metadata": {},
   "outputs": [],
   "source": [
    "tb_pedidos.select_dtypes(include=[\"datetime\"]).describe(datetime_is_numeric=True)\n"
   ]
  },
  {
   "cell_type": "code",
   "execution_count": null,
   "id": "b51d9801",
   "metadata": {},
   "outputs": [],
   "source": [
    "colunas_data = tb_pedidos.select_dtypes(include=[\"datetime\"]).columns\n",
    "\n",
    "for coluna in colunas_data:\n",
    "    tb_pedidos[coluna] = tb_pedidos[coluna].dt.normalize()\n",
    "\n",
    "tb_pedidos[\"atraso\"] = (\n",
    "    tb_pedidos[\"order_delivered_customer_date\"]\n",
    "    > tb_pedidos[\"order_estimated_delivery_date\"]\n",
    ")\n",
    "\n",
    "tb_pedidos.loc[tb_pedidos[\"atraso\"], \"dias_atraso\"] = (\n",
    "    tb_pedidos[\"order_delivered_customer_date\"]\n",
    "    - tb_pedidos[\"order_estimated_delivery_date\"]\n",
    ") / np.timedelta64(1, \"D\")\n",
    "tb_pedidos.loc[~tb_pedidos[\"atraso\"], \"dias_atraso\"] = 0\n"
   ]
  },
  {
   "cell_type": "code",
   "execution_count": null,
   "id": "4f251ae1",
   "metadata": {},
   "outputs": [],
   "source": [
    "tb_pedidos = tb_pedidos.dropna()\n",
    "tb_pedidos.info()\n"
   ]
  },
  {
   "cell_type": "markdown",
   "id": "147de9ca",
   "metadata": {},
   "source": [
    "## Usando Paletas de Cor\n",
    "\n",
    "Um dos principais elementos na gramática dos gráficos é a cor. Podemos utilizar a cor de forma gradual (através de **paletas uniformes ou divergentes**) para representar variáveis continuas ou então de forma discreta (através de **paletas qualitativas**).\n",
    "\n",
    "A biblioteca `seaborn` vem com algumas paletas de cores pré-configuradas, as quais podemos investigar e acessar através da função `color_palette()`. Esta função nos permite visualizar os elementos discretos de uma paleta através de seu nome, e acessar cada cor especificamente através de sua indexação."
   ]
  },
  {
   "cell_type": "code",
   "execution_count": null,
   "id": "27475e77",
   "metadata": {},
   "outputs": [],
   "source": [
    "sns.color_palette(\"Paired\")\n"
   ]
  },
  {
   "cell_type": "markdown",
   "id": "71f1f308",
   "metadata": {},
   "source": [
    "Para padronizar a utilização de cores podemos guardar paletas em variáveis para utilização futura:"
   ]
  },
  {
   "cell_type": "code",
   "execution_count": null,
   "id": "f43c98b8",
   "metadata": {},
   "outputs": [],
   "source": [
    "colors_discrete = sns.color_palette(\"Paired\")\n"
   ]
  },
  {
   "cell_type": "markdown",
   "id": "9658c319",
   "metadata": {},
   "source": [
    "Vamos criar um subset desta paleta, mantendo apenas as cores fortes:"
   ]
  },
  {
   "cell_type": "code",
   "execution_count": null,
   "id": "3cca11f9",
   "metadata": {},
   "outputs": [],
   "source": [
    "colors_discrete_strong = [color for color in colors_discrete if colors_discrete.index(color) % 2 != 0]"
   ]
  },
  {
   "cell_type": "code",
   "execution_count": null,
   "id": "67e42dff",
   "metadata": {},
   "outputs": [],
   "source": [
    "sns.color_palette(\"icefire\", as_cmap=True)\n"
   ]
  },
  {
   "cell_type": "code",
   "execution_count": null,
   "id": "2e4d5716",
   "metadata": {},
   "outputs": [],
   "source": [
    "colors_cont = sns.color_palette(\"icefire\", as_cmap=True)\n"
   ]
  },
  {
   "cell_type": "markdown",
   "id": "1e6ebf2e",
   "metadata": {},
   "source": [
    "## Distribuição e Evolução de Avaliações\n",
    "\n",
    "Vamos inicializar nossa análise investigando a distribuição e evolução histórica das avaliações."
   ]
  },
  {
   "cell_type": "code",
   "execution_count": null,
   "id": "9e3e6522",
   "metadata": {},
   "outputs": [],
   "source": [
    "sns.histplot(data=tb_pedidos, x=\"review_score\")\n"
   ]
  },
  {
   "cell_type": "markdown",
   "id": "2f3a76f2",
   "metadata": {},
   "source": [
    "Como as notas dadas pelos clientes são discretas (de 1 à 5 estrelas provavelmente), nosso histograma se parece mais com um barplot. Para facilitar a leitura vamos utilizar um barplot diretamente:"
   ]
  },
  {
   "cell_type": "code",
   "execution_count": null,
   "id": "707c4c64",
   "metadata": {},
   "outputs": [],
   "source": [
    "sns.countplot(data=tb_pedidos, x=\"review_score\", palette = colors_discrete_strong)"
   ]
  },
  {
   "cell_type": "markdown",
   "id": "63cc1e74",
   "metadata": {},
   "source": [
    "Podemos ver que existe uma concentração de avaliações nos valores extremos (1 e 5) - vamos agrupar essas notas em duas categorias, marcando as notas 1, 2 e 3 como `detractor`."
   ]
  },
  {
   "cell_type": "code",
   "execution_count": null,
   "id": "25d468e9",
   "metadata": {},
   "outputs": [],
   "source": [
    "tb_pedidos[\"detractor\"] = np.where(tb_pedidos[\"review_score\"] <= 3, 1, 0)\n"
   ]
  },
  {
   "cell_type": "markdown",
   "id": "aebab8af",
   "metadata": {},
   "source": [
    "Para visualizar a evolução histórica das avaliações precisamos agrupar os pedidos (granularidade do nosso `DataFrame`) em **time buckets**, intervalos de tempo fixos. Vamos utilizar **time buckets** diários para esta análise."
   ]
  },
  {
   "cell_type": "code",
   "execution_count": null,
   "id": "fada65b0",
   "metadata": {
    "ExecuteTime": {
     "end_time": "2022-03-03T22:48:11.013064Z",
     "start_time": "2022-03-03T22:48:10.998107Z"
    }
   },
   "outputs": [],
   "source": [
    "tb_diaria = (\n",
    "    tb_pedidos.groupby(\"order_approved_at\")\n",
    "    .agg(\n",
    "        num_pedidos=pd.NamedAgg(\"order_id\", \"nunique\"),\n",
    "        avg_review=pd.NamedAgg(\"review_score\", \"mean\"),\n",
    "        std_review=pd.NamedAgg(\"review_score\", \"std\"),\n",
    "        per_detractor=pd.NamedAgg(\"detractor\", \"mean\"),\n",
    "        per_atraso=pd.NamedAgg(\"atraso\", \"mean\"),\n",
    "        avg_atraso=pd.NamedAgg(\"dias_atraso\", \"mean\"),\n",
    "    )\n",
    "    .reset_index()\n",
    ")\n"
   ]
  },
  {
   "cell_type": "markdown",
   "id": "93f332f1",
   "metadata": {},
   "source": [
    "Vamos utilizar diferentes gráficos de linha para avaliar a evolução do número de pedidos, atrasos e avaliações:"
   ]
  },
  {
   "cell_type": "code",
   "execution_count": null,
   "id": "2c356e94",
   "metadata": {
    "ExecuteTime": {
     "end_time": "2022-03-03T22:48:12.147141Z",
     "start_time": "2022-03-03T22:48:11.888323Z"
    }
   },
   "outputs": [],
   "source": [
    "plt.figure(figsize=(12, 4))\n",
    "sns.lineplot(data=tb_diaria, x=\"order_approved_at\", y=\"num_pedidos\")\n"
   ]
  },
  {
   "cell_type": "code",
   "execution_count": null,
   "id": "bf3ab0af",
   "metadata": {},
   "outputs": [],
   "source": [
    "plt.figure(figsize=(12, 4))\n",
    "sns.lineplot(data=tb_diaria, x=\"order_approved_at\", y=\"avg_review\")\n"
   ]
  },
  {
   "cell_type": "code",
   "execution_count": null,
   "id": "f3d7cec2",
   "metadata": {},
   "outputs": [],
   "source": [
    "plt.figure(figsize=(12, 4))\n",
    "sns.lineplot(data=tb_diaria, x=\"order_approved_at\", y=\"per_detractor\")\n"
   ]
  },
  {
   "cell_type": "code",
   "execution_count": null,
   "id": "b79c118a",
   "metadata": {},
   "outputs": [],
   "source": [
    "tb_diaria[\"cv_review\"] = tb_diaria[\"std_review\"] / tb_diaria[\"avg_review\"]\n",
    "\n",
    "plt.figure(figsize=(12, 4))\n",
    "sns.lineplot(data=tb_diaria, x=\"order_approved_at\", y=\"cv_review\")\n"
   ]
  },
  {
   "cell_type": "code",
   "execution_count": null,
   "id": "cc3db07c",
   "metadata": {},
   "outputs": [],
   "source": [
    "fig, ax = plt.subplots(4, 1, figsize=(12, 16))\n",
    "\n",
    "sns.lineplot(data=tb_diaria, x=\"order_approved_at\", y=\"num_pedidos\", ax=ax[0])\n",
    "sns.lineplot(data=tb_diaria, x=\"order_approved_at\", y=\"avg_review\", ax=ax[1])\n",
    "sns.lineplot(data=tb_diaria, x=\"order_approved_at\", y=\"cv_review\", ax=ax[2])\n",
    "sns.lineplot(data=tb_diaria, x=\"order_approved_at\", y=\"per_detractor\", ax=ax[3])\n"
   ]
  },
  {
   "cell_type": "markdown",
   "id": "9d1b0205",
   "metadata": {},
   "source": [
    "Embora a análise das séries diárias nos permita ver fenômenos como a sazonalidade de dia da semana e eventuais outliers, a alta frequência da série pode ocultar padrões mais estáveis. Vamos suaziar estas séries utilizando médias móveis:"
   ]
  },
  {
   "cell_type": "code",
   "execution_count": null,
   "id": "10788b44",
   "metadata": {},
   "outputs": [],
   "source": [
    "tb_diaria[\"mm_num_pedidos\"] = tb_diaria[\"num_pedidos\"].rolling(7).mean()\n",
    "tb_diaria[\"mm_avg_review\"] = tb_diaria[\"avg_review\"].rolling(7).mean()\n",
    "tb_diaria[\"mm_cv_review\"] = tb_diaria[\"cv_review\"].rolling(7).mean()\n",
    "tb_diaria[\"mm_per_detractor\"] = tb_diaria[\"per_detractor\"].rolling(7).mean()\n",
    "tb_diaria[\"mm_per_atraso\"] = tb_diaria[\"per_atraso\"].rolling(7).mean()\n",
    "tb_diaria.head(10)\n"
   ]
  },
  {
   "cell_type": "markdown",
   "id": "03931bf6",
   "metadata": {},
   "source": [
    "Agora vamos combinar as visualizações que construímos anteriormente (da visão diária) com as novas variáveis que construímos (médias móveis):"
   ]
  },
  {
   "cell_type": "code",
   "execution_count": null,
   "id": "bb2386e9",
   "metadata": {},
   "outputs": [],
   "source": [
    "fig, ax = plt.subplots(5, 1, figsize=(9, 12))\n",
    "\n",
    "sns.scatterplot(\n",
    "    data=tb_diaria,\n",
    "    x=\"order_approved_at\",\n",
    "    y=\"num_pedidos\",\n",
    "    color=colors_discrete[0],\n",
    "    ax=ax[0],\n",
    "    alpha=0.9,\n",
    ")\n",
    "sns.lineplot(\n",
    "    data=tb_diaria,\n",
    "    x=\"order_approved_at\",\n",
    "    y=\"mm_num_pedidos\",\n",
    "    color=colors_discrete[1],\n",
    "    ax=ax[0],\n",
    ")\n",
    "sns.scatterplot(\n",
    "    data=tb_diaria,\n",
    "    x=\"order_approved_at\",\n",
    "    y=\"avg_review\",\n",
    "    color=colors_discrete[2],\n",
    "    ax=ax[1],\n",
    "    alpha=0.9,\n",
    ")\n",
    "sns.lineplot(\n",
    "    data=tb_diaria,\n",
    "    x=\"order_approved_at\",\n",
    "    y=\"mm_avg_review\",\n",
    "    color=colors_discrete[3],\n",
    "    ax=ax[1],\n",
    ")\n",
    "sns.scatterplot(\n",
    "    data=tb_diaria,\n",
    "    x=\"order_approved_at\",\n",
    "    y=\"cv_review\",\n",
    "    color=colors_discrete[4],\n",
    "    ax=ax[2],\n",
    "    alpha=0.9,\n",
    ")\n",
    "sns.lineplot(\n",
    "    data=tb_diaria,\n",
    "    x=\"order_approved_at\",\n",
    "    y=\"mm_cv_review\",\n",
    "    color=colors_discrete[5],\n",
    "    ax=ax[2],\n",
    ")\n",
    "sns.scatterplot(\n",
    "    data=tb_diaria,\n",
    "    x=\"order_approved_at\",\n",
    "    y=\"per_detractor\",\n",
    "    color=colors_discrete[6],\n",
    "    ax=ax[3],\n",
    "    alpha=0.9,\n",
    ")\n",
    "sns.lineplot(\n",
    "    data=tb_diaria,\n",
    "    x=\"order_approved_at\",\n",
    "    y=\"mm_per_detractor\",\n",
    "    color=colors_discrete[7],\n",
    "    ax=ax[3],\n",
    ")\n",
    "sns.scatterplot(\n",
    "    data=tb_diaria,\n",
    "    x=\"order_approved_at\",\n",
    "    y=\"per_atraso\",\n",
    "    color=colors_discrete[8],\n",
    "    ax=ax[4],\n",
    "    alpha=0.9,\n",
    ")\n",
    "sns.lineplot(\n",
    "    data=tb_diaria,\n",
    "    x=\"order_approved_at\",\n",
    "    y=\"mm_per_atraso\",\n",
    "    color=colors_discrete[9],\n",
    "    ax=ax[4],\n",
    ")\n"
   ]
  },
  {
   "cell_type": "markdown",
   "id": "3915b9e9",
   "metadata": {},
   "source": [
    "## Explorando (co)Relações\n",
    "\n",
    "Através da **análise de séries temporais** conseguimos encontrar correlações temporais (no nível diário, não do pedido) entre alguns indicadores agregados. Vamos avaliar essas relações mais de perto utilizando *scatterplots* para **visualizar diretamente a estrutura de correlação** entre nossas variáveis temporais."
   ]
  },
  {
   "cell_type": "code",
   "execution_count": null,
   "id": "a766d01c",
   "metadata": {},
   "outputs": [],
   "source": [
    "sns.scatterplot(data=tb_diaria, x=\"num_pedidos\", y=\"avg_review\")\n"
   ]
  },
  {
   "cell_type": "code",
   "execution_count": null,
   "id": "2ce77de2",
   "metadata": {},
   "outputs": [],
   "source": [
    "sns.scatterplot(data=tb_diaria, x=\"mm_num_pedidos\", y=\"mm_avg_review\")\n"
   ]
  },
  {
   "cell_type": "markdown",
   "id": "d98a9337",
   "metadata": {},
   "source": [
    "Vamos utilizar o elemento cor para representar a taxa de atraso, permitindo visualizarmos a relação entre 3 variáveis diretamente:"
   ]
  },
  {
   "cell_type": "code",
   "execution_count": null,
   "id": "c71d3b8a",
   "metadata": {},
   "outputs": [],
   "source": [
    "sns.scatterplot(data=tb_diaria, x=\"mm_num_pedidos\", y=\"mm_avg_review\", hue=\"per_atraso\")\n"
   ]
  },
  {
   "cell_type": "markdown",
   "id": "c7b078ec",
   "metadata": {},
   "source": [
    "Uma deficiência dos scatterplots é o **empilhamento de pontos**, que muitas vezes dificulta a visualização de regiões com maior densidade de pontos. Vamos utilizar a função `kdeplot()` para representar curvas de nível da densidade de pontos."
   ]
  },
  {
   "cell_type": "code",
   "execution_count": null,
   "id": "a6e1994b",
   "metadata": {},
   "outputs": [],
   "source": [
    "fig, ax = plt.subplots(1, 2, figsize = (10, 5))\n",
    "sns.kdeplot(data=tb_diaria, x=\"mm_num_pedidos\", y=\"mm_avg_review\", fill = True, ax = ax[0])\n",
    "sns.kdeplot(data=tb_diaria, x=\"mm_per_atraso\", y=\"mm_avg_review\", fill = True, ax = ax[1])"
   ]
  },
  {
   "cell_type": "markdown",
   "id": "c4366cc4",
   "metadata": {},
   "source": [
    "## Relação entre uma variável continua e uma categórica\n",
    "\n",
    "Agora vamos retornar à nossa base original, no nível linha do pedido, para analisarmos quais fatores discretos impactam a **% de atrasos** observada."
   ]
  },
  {
   "cell_type": "code",
   "execution_count": null,
   "id": "0cb278e6",
   "metadata": {},
   "outputs": [],
   "source": [
    "tb_pedidos = tb_pedidos.merge(\n",
    "    tb_diaria[[\"order_approved_at\", \"num_pedidos\"]], on=\"order_approved_at\"\n",
    ")\n"
   ]
  },
  {
   "cell_type": "markdown",
   "id": "7a6d50b1",
   "metadata": {},
   "source": [
    "Vamos começar analisando a distribuição de peso dos itens comprados pela categorização de avaliação que fizemos:"
   ]
  },
  {
   "cell_type": "code",
   "execution_count": null,
   "id": "c49c05d9",
   "metadata": {},
   "outputs": [],
   "source": [
    "sns.boxplot(\n",
    "    data=tb_pedidos,\n",
    "    x=\"detractor\",\n",
    "    y=\"product_weight_g\",\n",
    ")\n"
   ]
  },
  {
   "cell_type": "markdown",
   "id": "9ea7fdec",
   "metadata": {},
   "source": [
    "Que gráfico horrível! Sempre que observamos uma variável (estritamente positiva) cuja distribuição está muito concentrada em valores baixos mas com muitos outliers, podemos considerar uma transformação logaritmíca para facilitar a visualização dos resultados:"
   ]
  },
  {
   "cell_type": "code",
   "execution_count": null,
   "id": "7d1c5794",
   "metadata": {},
   "outputs": [],
   "source": [
    "g = sns.boxplot(\n",
    "    data=tb_pedidos[tb_pedidos[\"product_weight_g\"] > 0],\n",
    "    x=\"detractor\",\n",
    "    y=\"product_weight_g\",\n",
    ")\n",
    "g.set_yscale(\"log\")\n"
   ]
  },
  {
   "cell_type": "markdown",
   "id": "80214a67",
   "metadata": {},
   "source": [
    "Parece que o peso do item comprado não tem impacto sobre a avaliação... Testar variável a variável desta forma pode ser trabalhoso e nem sempre renderá avanços no nosso modelo. Vamos utilizar uma técnica reminescente das regressões lineares para facilitar nossa exploração: a **análise de resíduos (ou erros)**."
   ]
  },
  {
   "cell_type": "code",
   "execution_count": null,
   "id": "e69eb82c",
   "metadata": {},
   "outputs": [],
   "source": [
    "g = sns.boxplot(data=tb_pedidos, x=\"atraso\", y=\"review_score\");\n"
   ]
  },
  {
   "cell_type": "markdown",
   "id": "56828a7c",
   "metadata": {},
   "source": [
    "Claramente o *status* de atraso tem um impacto enorme nas avaliações, mas isso já era um fato conhecido! No entanto temos pedidos com avaliações <= 3 sem que houvesse atraso. Vamos criar uma base filtrada para buscar outros fatores que podem impactar a avaliação do cliente:"
   ]
  },
  {
   "cell_type": "code",
   "execution_count": null,
   "id": "48112808",
   "metadata": {},
   "outputs": [],
   "source": [
    "mask_out = (~tb_pedidos[\"atraso\"]) & (tb_pedidos[\"review_score\"] <= 3)\n",
    "tb_pedidos_out = tb_pedidos[mask_out].copy()\n"
   ]
  },
  {
   "cell_type": "markdown",
   "id": "8cbc6449",
   "metadata": {},
   "source": [
    "Além do atraso, um eixo comum de reclamação é a **qualidade dos produtos** pedidos. Vamos descobrir se existem categorias ofensoras dentro do nosso grupo de pedidos mal-avaliados sem atraso:"
   ]
  },
  {
   "cell_type": "code",
   "execution_count": null,
   "id": "e4c9b7f9",
   "metadata": {},
   "outputs": [],
   "source": [
    "sns.countplot(data=tb_pedidos_out, x=\"product_category_name\");\n"
   ]
  },
  {
   "cell_type": "markdown",
   "id": "61006d83",
   "metadata": {},
   "source": [
    "O que está errado com esse gráfico?"
   ]
  },
  {
   "cell_type": "code",
   "execution_count": null,
   "id": "b3d97123",
   "metadata": {},
   "outputs": [],
   "source": [
    "tb_cat_out = (\n",
    "    tb_pedidos_out.groupby(\"product_category_name\")[\"order_id\"]\n",
    "    .count()\n",
    "    .reset_index()\n",
    "    .rename({\"order_id\": \"num_pedidos_out\"}, axis=1)\n",
    ")\n",
    "\n",
    "tb_cat = (\n",
    "    tb_pedidos.groupby(\"product_category_name\")[\"order_id\"]\n",
    "    .count()\n",
    "    .reset_index()\n",
    "    .rename({\"order_id\": \"num_pedidos_total\"}, axis=1)\n",
    ")\n",
    "\n",
    "tb_cat = tb_cat.merge(tb_cat_out, on=\"product_category_name\")\n",
    "tb_cat[\"prop_total\"] = tb_cat[\"num_pedidos_total\"] / sum(tb_cat[\"num_pedidos_total\"])\n",
    "tb_cat[\"num_pedidos_out_expct\"] = tb_cat[\"prop_total\"] * sum(tb_cat[\"num_pedidos_out\"])\n",
    "tb_cat[\"diff_pedidos_out\"] = tb_cat[\"num_pedidos_out\"] - tb_cat[\"num_pedidos_out_expct\"]\n"
   ]
  },
  {
   "cell_type": "markdown",
   "id": "18822ebb",
   "metadata": {},
   "source": [
    "Agora podemos visualizar se existem categorias cujo # de pedidos dentro do grupo selecionado (sem atraso) é maior do que o esperado:"
   ]
  },
  {
   "cell_type": "code",
   "execution_count": null,
   "id": "aeaf9dcd",
   "metadata": {},
   "outputs": [],
   "source": [
    "sns.histplot(data=tb_cat, x=\"diff_pedidos_out\")\n"
   ]
  },
  {
   "cell_type": "markdown",
   "id": "e4454817",
   "metadata": {},
   "source": [
    "Temos algumas ofensoras claras! Vamos filtrar a tabela acima e selecionar estas categorias:"
   ]
  },
  {
   "cell_type": "code",
   "execution_count": null,
   "id": "9359097b",
   "metadata": {},
   "outputs": [],
   "source": [
    "cat_problema = set(\n",
    "    tb_cat.loc[tb_cat[\"diff_pedidos_out\"] > 100, \"product_category_name\"]\n",
    ")\n",
    "cat_problema\n"
   ]
  },
  {
   "cell_type": "markdown",
   "id": "f4522112",
   "metadata": {},
   "source": [
    "Agora vamos utilizar esse conjunto de categorias para realizar um agrupamento da variável categoria na base original de pedidos:"
   ]
  },
  {
   "cell_type": "code",
   "execution_count": null,
   "id": "8ff1d3d5",
   "metadata": {},
   "outputs": [],
   "source": [
    "mask_cat = tb_pedidos[\"product_category_name\"].map(lambda x: x in cat_problema)\n",
    "tb_pedidos.loc[mask_cat, \"cat_agg\"] = tb_pedidos[\"product_category_name\"]\n",
    "tb_pedidos.loc[~mask_cat, \"cat_agg\"] = \"Outros\"\n",
    "fig, ax = plt.subplots(figsize = (10, 5))\n",
    "sns.boxplot(data=tb_pedidos, x=\"atraso\", y=\"review_score\", hue=\"cat_agg\")\n"
   ]
  },
  {
   "cell_type": "markdown",
   "id": "3792f78f",
   "metadata": {},
   "source": [
    "A natureza discreta do campo de avaliação dificulta a visualização da distribuição através de boxplots. Vamos utilizar um violin plot para aumentar a"
   ]
  },
  {
   "cell_type": "code",
   "execution_count": null,
   "id": "496c2c20",
   "metadata": {},
   "outputs": [],
   "source": [
    "fig = plt.figure(figsize=(10, 5))\n",
    "sns.violinplot(data=tb_pedidos, x=\"cat_agg\", y=\"review_score\", hue=\"atraso\", split=True)\n"
   ]
  },
  {
   "cell_type": "markdown",
   "id": "b772854b",
   "metadata": {},
   "source": [
    "## Análises multi-variáveis"
   ]
  },
  {
   "cell_type": "code",
   "execution_count": null,
   "id": "78b7ca44",
   "metadata": {
    "ExecuteTime": {
     "end_time": "2022-03-04T00:01:35.355398Z",
     "start_time": "2022-03-04T00:01:35.118031Z"
    }
   },
   "outputs": [],
   "source": [
    "tb_diaria.columns\n"
   ]
  },
  {
   "cell_type": "code",
   "execution_count": null,
   "id": "fd77998a",
   "metadata": {},
   "outputs": [],
   "source": [
    "var_original = [\n",
    "    \"num_pedidos\",\n",
    "    \"avg_review\",\n",
    "    \"std_review\",\n",
    "    \"per_detractor\",\n",
    "    \"per_atraso\",\n",
    "    \"avg_atraso\",\n",
    "]\n",
    "var_mm = [\"mm_num_pedidos\", \"mm_avg_review\", \"mm_cv_review\", \"mm_per_detractor\"]\n"
   ]
  },
  {
   "cell_type": "code",
   "execution_count": null,
   "id": "7081f316",
   "metadata": {
    "ExecuteTime": {
     "end_time": "2022-03-04T00:03:21.224901Z",
     "start_time": "2022-03-04T00:03:17.642531Z"
    }
   },
   "outputs": [],
   "source": [
    "sns.pairplot(tb_diaria[var_original])\n"
   ]
  },
  {
   "cell_type": "code",
   "execution_count": null,
   "id": "b709b7d6",
   "metadata": {},
   "outputs": [],
   "source": [
    "sns.pairplot(tb_diaria[var_mm])\n"
   ]
  },
  {
   "cell_type": "code",
   "execution_count": null,
   "id": "9cc55905",
   "metadata": {
    "ExecuteTime": {
     "end_time": "2022-03-03T22:11:14.731089Z",
     "start_time": "2022-03-03T22:11:14.528630Z"
    }
   },
   "outputs": [],
   "source": [
    "plt.figure(figsize=(12, 9))\n",
    "sns.heatmap(tb_diaria[var_original].corr(), vmin=-1, center=0, vmax=1)\n"
   ]
  },
  {
   "cell_type": "code",
   "execution_count": null,
   "id": "cb9ba8d0",
   "metadata": {},
   "outputs": [],
   "source": [
    "plt.figure(figsize=(12, 9))\n",
    "sns.clustermap(tb_diaria[var_mm].corr(), vmin=-1, center=0, vmax=1)\n"
   ]
  }
 ],
 "metadata": {
  "hide_input": false,
  "kernelspec": {
   "display_name": "Python 3.9.11 ('base')",
   "language": "python",
   "name": "python3"
  },
  "language_info": {
   "codemirror_mode": {
    "name": "ipython",
    "version": 3
   },
   "file_extension": ".py",
   "mimetype": "text/x-python",
   "name": "python",
   "nbconvert_exporter": "python",
   "pygments_lexer": "ipython3",
   "version": "3.9.11"
  },
  "toc": {
   "base_numbering": 1,
   "nav_menu": {},
   "number_sections": true,
   "sideBar": true,
   "skip_h1_title": false,
   "title_cell": "Table of Contents",
   "title_sidebar": "Contents",
   "toc_cell": true,
   "toc_position": {},
   "toc_section_display": true,
   "toc_window_display": true
  },
  "vscode": {
   "interpreter": {
    "hash": "014f4a4a5af8f0104b12c029e500f4146d6d785e8cf714d2a35b7a9514230cd3"
   }
  }
 },
 "nbformat": 4,
 "nbformat_minor": 5
}

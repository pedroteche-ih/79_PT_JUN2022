{
 "cells": [
  {
   "cell_type": "code",
   "execution_count": null,
   "id": "81d12b18",
   "metadata": {},
   "outputs": [],
   "source": [
    "import warnings\n",
    "warnings.filterwarnings(\"ignore\")"
   ]
  },
  {
   "cell_type": "code",
   "execution_count": null,
   "id": "7689f436",
   "metadata": {
    "ExecuteTime": {
     "end_time": "2022-03-26T18:14:55.653269Z",
     "start_time": "2022-03-26T18:14:54.225599Z"
    }
   },
   "outputs": [],
   "source": [
    "import pandas as pd\n",
    "import numpy as np\n",
    "import seaborn as sns\n",
    "\n",
    "import matplotlib.pyplot as plt\n",
    "from sklearn.preprocessing import StandardScaler\n",
    "from sklearn.decomposition import PCA\n",
    "sns.set_theme()"
   ]
  },
  {
   "cell_type": "markdown",
   "id": "245cfc14",
   "metadata": {},
   "source": [
    "# Algoritmos Bottom-Up\n",
    "\n",
    "O algoritmo k-means e suas variantes são técnicas *top-down*: clusterizamos os pontos encontrando **centróides** e então realizando a marcação de cada observação de acordo com o centróide mais próximo. Como vimos na aula passada, uma das **principais dificuldades** na utilização do algoritmo k-means é a **determinação de k**: como não temos informações sobre a estrutura de semelhança de nossos pontos através do algoritmo, precisamos **utilizar técnicas como PCA** ou então buscar **a melhoria de indicadores da qualidade de nossa solução de clusterização** (incluindo a usabilidade desta solução).\n",
    "\n",
    "Hoje veremos uma nova classe de algoritmos que nos permite visualizar a estrutura de semelhança de nossas observações (HACs) ou então estimar agrupamentos a partir de outros parâmetros que não o número final de clusters (DBSCAN). \n",
    "\n",
    "## HACs\n",
    "\n",
    "Algoritmos hierarquicos *agrupam* nossas observações em duas etapas:\n",
    "\n",
    "1. Começamos calculando os grupos iniciais agrupando cada ponto com seu vizinho mais próximo;\n",
    "1. Continuamos **agrupando clusters pequenos em clusters maiores**;\n",
    "\n",
    "Este processo começa com cada ponto sendo seu próprio grupo e termina com todos os pontos pertencendo ao mesmo grupo. Para definir um algoritmo HAC precisamos de dois hiperparâmetros\n",
    "\n",
    "### Distância\n",
    "\n",
    "A função de distância nos permite calcular a semelhança entre dois pontos, e, desta forma, encontrar para cada ponto seu vizinho mais próximo (nearest neighbor).\n",
    "\n",
    "### Linkage\n",
    "\n",
    "A função de linkage defini como calcularemos a distância entre pares de clusters. Temos 4 medidas mais utilizadas em HACs:\n",
    "\n",
    "- **Maximum or complete linkage** minimiza a **distância máxima** entre pares de clusters a serem unidos.\n",
    "- **Average linkage**  minimiza a distância média entre observações de pares de clusters a serem unidos.\n",
    "- **Single linkage** minimiza a distância média entre todas todas as observações de um par de cluster a ser unido.\n",
    "- **Ward** minimiza a variância interna dos clusters a serem unidos.\n",
    "    - Produz resultados semelhantes à k-Means.\n",
    "\n",
    "### Utilizando HACs\n",
    "\n",
    "Vamos utilizar algoritmos hierarquicos para resolver o problema do LAB de terça-feira."
   ]
  },
  {
   "cell_type": "code",
   "execution_count": null,
   "id": "424945c9",
   "metadata": {},
   "outputs": [],
   "source": [
    "tb_wine = pd.read_csv('data/wine-clustering.csv')\n",
    "tb_wine.info()"
   ]
  },
  {
   "cell_type": "code",
   "execution_count": null,
   "id": "a7acad9d",
   "metadata": {},
   "outputs": [],
   "source": [
    "scaler = StandardScaler()\n",
    "scaler.fit(tb_wine)\n",
    "tb_sca_wine = pd.DataFrame(\n",
    "    scaler.transform(tb_wine),\n",
    "    columns = tb_wine.columns\n",
    ")\n",
    "tb_sca_wine.describe()"
   ]
  },
  {
   "cell_type": "markdown",
   "id": "eca5c998",
   "metadata": {},
   "source": [
    "Vamos utilizar um **dendograma** para visualizar a estrutura de clusterização criada por um HAC:"
   ]
  },
  {
   "cell_type": "code",
   "execution_count": null,
   "id": "7e5a8a98",
   "metadata": {},
   "outputs": [],
   "source": [
    "from scipy.cluster.hierarchy import dendrogram, linkage"
   ]
  },
  {
   "cell_type": "code",
   "execution_count": null,
   "id": "5e761033",
   "metadata": {},
   "outputs": [],
   "source": [
    "fig, ax = plt.subplots(1, 1, figsize = (15, 5))\n",
    "Z = linkage(tb_sca_wine, method='ward')\n",
    "dendogram_ = dendrogram(Z, no_labels=True, ax = ax)\n",
    "ax.set_xlabel('Observações (Vinhos)')\n",
    "ax.set_ylabel('Distancia')\n",
    "ax.set_title('Dendograma de Clusterização')"
   ]
  },
  {
   "cell_type": "markdown",
   "id": "61fb7011",
   "metadata": {},
   "source": [
    "Agora, vamos utilizar a biblioteca `sklearn` para extrair o vetor de `labels` dos nossos clusters:"
   ]
  },
  {
   "cell_type": "code",
   "execution_count": null,
   "id": "5bbc367d",
   "metadata": {},
   "outputs": [],
   "source": [
    "from sklearn.cluster import AgglomerativeClustering"
   ]
  },
  {
   "cell_type": "markdown",
   "id": "f85b6e7f",
   "metadata": {},
   "source": [
    "Vamos criar três soluções de clusterização: com 2 grupos, 3 e 6:"
   ]
  },
  {
   "cell_type": "code",
   "execution_count": null,
   "id": "69dbcdae",
   "metadata": {},
   "outputs": [],
   "source": [
    "ward_2 = AgglomerativeClustering(n_clusters = 2, linkage = 'ward')\n",
    "ward_2.fit(tb_sca_wine)\n",
    "\n",
    "ward_3 = AgglomerativeClustering(n_clusters = 3, linkage = 'ward')\n",
    "ward_3.fit(tb_sca_wine)\n",
    "\n",
    "ward_6 = AgglomerativeClustering(n_clusters = 6, linkage = 'ward')\n",
    "ward_6.fit(tb_sca_wine)"
   ]
  },
  {
   "cell_type": "markdown",
   "id": "40b4d250",
   "metadata": {},
   "source": [
    "Como nosso dataset contém mais do que 2 dimensões, vamos utilizar PCA para visualizar a nossa solução de clusterização"
   ]
  },
  {
   "cell_type": "code",
   "execution_count": null,
   "id": "bda78970",
   "metadata": {},
   "outputs": [],
   "source": [
    "pca_wine = PCA(n_components= 2)\n",
    "pca_wine.fit(tb_sca_wine)\n",
    "\n",
    "tb_pca_wine = pd.DataFrame(\n",
    "    pca_wine.transform(tb_sca_wine),\n",
    "    columns = ['PC_' + str(i) for i in range(pca_wine.n_components_)]\n",
    ")"
   ]
  },
  {
   "cell_type": "code",
   "execution_count": null,
   "id": "5a28324c",
   "metadata": {},
   "outputs": [],
   "source": [
    "tb_pca_wine['ward_2'] = [str(x) for x in ward_2.labels_]\n",
    "tb_pca_wine['ward_3'] = [str(x) for x in ward_3.labels_]\n",
    "tb_pca_wine['ward_6'] = [str(x) for x in ward_6.labels_]"
   ]
  },
  {
   "cell_type": "code",
   "execution_count": null,
   "id": "c1f175f1",
   "metadata": {},
   "outputs": [],
   "source": [
    "fig, ax = plt.subplots(1, 3, figsize = (15, 5))\n",
    "sns.scatterplot(data = tb_pca_wine, x = 'PC_0', y = 'PC_1', hue = 'ward_2', ax = ax[0])\n",
    "sns.scatterplot(data = tb_pca_wine, x = 'PC_0', y = 'PC_1', hue = 'ward_3', ax = ax[1])\n",
    "sns.scatterplot(data = tb_pca_wine, x = 'PC_0', y = 'PC_1', hue = 'ward_6', ax = ax[2])\n",
    "ax[0].set_title('2 Clusters')\n",
    "ax[1].set_title('3 Clusters')\n",
    "ax[2].set_title('6 Clusters')\n",
    "fig.suptitle('Utilizando PCA para Visualizar Solução de Clusterização')"
   ]
  },
  {
   "cell_type": "markdown",
   "id": "8d750765",
   "metadata": {},
   "source": [
    "### Escolhendo o Linkage\n",
    "\n",
    "Não existe forma pré-determinada de *saber* qual função de *linkage* devemos utilizar - temos que investigar diferentes solução e buscar um dendograma que seja **equilibrado** e razoavelmente simétrico."
   ]
  },
  {
   "cell_type": "code",
   "execution_count": null,
   "id": "cf718ffb",
   "metadata": {},
   "outputs": [],
   "source": [
    "fig, ax = plt.subplots(1, 1, figsize = (15, 5))\n",
    "Z = linkage(tb_sca_wine, method='single')\n",
    "dendogram_ = dendrogram(Z, no_labels=True, ax = ax)\n",
    "ax.set_xlabel('Observações (Vinhos)')\n",
    "ax.set_ylabel('Distancia')\n",
    "ax.set_title('Dendograma de Clusterização')"
   ]
  },
  {
   "cell_type": "markdown",
   "id": "fdaca5f6",
   "metadata": {},
   "source": [
    "## DBSCAN"
   ]
  },
  {
   "attachments": {
    "dbscan.png": {
     "image/png": "[encoded data removed]"
    }
   },
   "cell_type": "markdown",
   "id": "470599a2",
   "metadata": {},
   "source": [
    "![dbscan.png](attachment:dbscan.png)"
   ]
  },
  {
   "cell_type": "markdown",
   "id": "9aa12cba",
   "metadata": {},
   "source": [
    "Epsilon (eps) é o raio a partir da cada ponto no qual o algoritmo vai buscar vizinhos para cada ponto do dataset. Toda vez que o algoritmo encontra pelo menos N pontos (min_samples) nesta vizinhaça o ponto é marcado como **core**.\n",
    "\n",
    "Após marcar todos os pontos desta maneira, o algoritmo aglomera todas as vizinhanças que tenham uma intersecção em clusters. Os pontos que não se encaixaram em nenhuma vizinhança são classificados como 'outliers'.\n",
    "\n",
    "### Utilizando DBSCAN\n",
    "\n",
    "Uma das principais aplicações do algoritmo DBSCAN é a clusterização de pontos geográficos. Vamos utilizar este algoritmo para encontrar focos de assasinatos em Nova Iorque."
   ]
  },
  {
   "cell_type": "code",
   "execution_count": null,
   "id": "aced2052",
   "metadata": {},
   "outputs": [],
   "source": [
    "url = \"https://raw.githubusercontent.com/pedroteche-ih/DAFT_MEX_202209/main/data/nypd_murder_locations.csv\"\n",
    "tb_murder = pd.read_csv(url, parse_dates=[\"CMPLNT_FR_DT\"])\n",
    "tb_murder.info()"
   ]
  },
  {
   "cell_type": "code",
   "execution_count": null,
   "id": "dca543da",
   "metadata": {},
   "outputs": [],
   "source": [
    "tb_murder.head()"
   ]
  },
  {
   "cell_type": "code",
   "execution_count": null,
   "id": "5bf63534",
   "metadata": {},
   "outputs": [],
   "source": [
    "plt.figure(figsize=(10, 10))\n",
    "sns.scatterplot(\n",
    "    data=tb_murder, x=\"LAT\", y=\"LONG\", \n",
    "    hue=\"BORO_NM\", s = 50\n",
    ")\n",
    "plt.axis(\"equal\");"
   ]
  },
  {
   "cell_type": "markdown",
   "id": "3b891245",
   "metadata": {},
   "source": [
    "### Transformando nossos dados\n",
    "\n",
    "Como vamos clusterizar pontos geograficamente, podemos transformar as variáveis `LAT` e `LONG` em distâncias do ponto médio de nosso dataset."
   ]
  },
  {
   "cell_type": "code",
   "execution_count": null,
   "id": "e688d0e7",
   "metadata": {},
   "outputs": [],
   "source": [
    "tb_murder[\"LAT_DEMEAN\"] = tb_murder[\"LAT\"] - tb_murder[\"LAT\"].mean()\n",
    "tb_murder[\"LONG_DEMEAN\"] = tb_murder[\"LONG\"] - tb_murder[\"LONG\"].mean()\n",
    "tb_murder[\"LAT_DIST\"] = tb_murder[\"LAT_DEMEAN\"] * 113819 # Convertendo em metros da origem\n",
    "tb_murder[\"LONG_DIST\"] = tb_murder[\"LONG_DEMEAN\"] * 113819"
   ]
  },
  {
   "cell_type": "code",
   "execution_count": null,
   "id": "c92c1657",
   "metadata": {},
   "outputs": [],
   "source": [
    "plt.figure(figsize=(10, 10))\n",
    "sns.scatterplot(\n",
    "    data=tb_murder, x=\"LAT_DIST\", y=\"LONG_DIST\", \n",
    "    hue=\"BORO_NM\", style=\"LOC_OF_OCCUR_DESC\"\n",
    ")\n",
    "plt.axis(\"equal\");"
   ]
  },
  {
   "cell_type": "markdown",
   "id": "0f515206",
   "metadata": {},
   "source": [
    "#### Utilizando DBSCAN"
   ]
  },
  {
   "cell_type": "code",
   "execution_count": null,
   "id": "0f02a357",
   "metadata": {},
   "outputs": [],
   "source": [
    "from sklearn.cluster import DBSCAN"
   ]
  },
  {
   "cell_type": "code",
   "execution_count": null,
   "id": "2e09bd28",
   "metadata": {},
   "outputs": [],
   "source": [
    "db_fit = DBSCAN(eps = 1000, min_samples = 5)\n",
    "db_fit.fit(tb_murder[[\"LAT_DIST\", \"LONG_DIST\"]])"
   ]
  },
  {
   "cell_type": "code",
   "execution_count": null,
   "id": "a3d70b7c",
   "metadata": {},
   "outputs": [],
   "source": [
    "tb_murder[\"db_label\"] = [str(x) for x in db_fit.labels_]\n",
    "tb_murder[\"db_label\"].value_counts()"
   ]
  },
  {
   "cell_type": "code",
   "execution_count": null,
   "id": "b3503993",
   "metadata": {},
   "outputs": [],
   "source": [
    "fig, ax = plt.subplots(figsize = (10, 10))\n",
    "sns.scatterplot(\n",
    "    data=tb_murder, x=\"LAT_DIST\", y=\"LONG_DIST\", \n",
    "    hue=\"db_label\", style=\"LOC_OF_OCCUR_DESC\",\n",
    "    ax = ax, color = 'black'\n",
    ")\n",
    "sns.kdeplot(\n",
    "    data=tb_murder[tb_murder['db_label'] != -1], x=\"LAT_DIST\", y=\"LONG_DIST\", \n",
    "    hue=\"db_label\", alpha = 0.3, ax = ax\n",
    ")\n",
    "ax.set_ylim(-20000, 20000)\n",
    "ax.set_xlim(-20000, 20000);\n"
   ]
  },
  {
   "cell_type": "markdown",
   "id": "01a95b78",
   "metadata": {},
   "source": [
    "### Encontrando `eps` e `min_samples`\n",
    "\n",
    "Em nossa primeira aplicação do DBSCAN, utilizamos o conhecimento do fenômeno a ser modelado para determinar `eps` e `min_samples`. Infelizmente isso nem sempre é possível. Em problema onde não temos uma informação precisamos de um método para encontra-los (especialmente o parâmetro `eps`).\n",
    "\n",
    "Vamos utilizar o algoritmo de `NearestNeighbors` para visualizar a distribuição de possíveis `eps`. Ao invés de utilizar um dataset real, vamos utilizar um dataset sintético para entendermos melhor o que este algoritmo esta fazendo."
   ]
  },
  {
   "cell_type": "code",
   "execution_count": null,
   "id": "450f91ef",
   "metadata": {
    "ExecuteTime": {
     "end_time": "2022-03-26T11:33:25.007945Z",
     "start_time": "2022-03-26T11:33:24.994983Z"
    }
   },
   "outputs": [],
   "source": [
    "from sklearn.datasets import make_moons"
   ]
  },
  {
   "cell_type": "code",
   "execution_count": null,
   "id": "022a439f",
   "metadata": {
    "ExecuteTime": {
     "end_time": "2022-03-26T11:33:25.665970Z",
     "start_time": "2022-03-26T11:33:25.521340Z"
    }
   },
   "outputs": [],
   "source": [
    "X, y = make_moons(200, noise=.05, random_state=0)\n",
    "tb_moon = pd.DataFrame(X, columns = ['X1', 'X2'])\n",
    "sns.scatterplot(data=tb_moon, x = 'X1', y = 'X2')"
   ]
  },
  {
   "cell_type": "markdown",
   "id": "5465f12e",
   "metadata": {},
   "source": [
    "A solução real para o problema acima pode ser encontrada utilizando `eps = 0.3` e `min_samples = 5`:"
   ]
  },
  {
   "cell_type": "code",
   "execution_count": null,
   "id": "1b40f795",
   "metadata": {
    "ExecuteTime": {
     "end_time": "2022-03-26T11:33:26.893062Z",
     "start_time": "2022-03-26T11:33:26.883090Z"
    }
   },
   "outputs": [],
   "source": [
    "db = DBSCAN(eps=0.3, min_samples=5)\n",
    "tb_moon['clu_dbscan'] = [str(x) for x in db.fit_predict(X)]"
   ]
  },
  {
   "cell_type": "code",
   "execution_count": null,
   "id": "670c20b2",
   "metadata": {
    "ExecuteTime": {
     "end_time": "2022-03-26T11:33:27.902218Z",
     "start_time": "2022-03-26T11:33:27.704709Z"
    }
   },
   "outputs": [],
   "source": [
    "sns.scatterplot(data=tb_moon, x = 'X1', y = 'X2', hue = 'clu_dbscan')"
   ]
  },
  {
   "cell_type": "markdown",
   "id": "c806e04f",
   "metadata": {},
   "source": [
    "## Utilizando NearestNeighbors\n",
    "\n",
    "O algoritmo `NearestNeighbors` pode ser utilizado para calcular as distâncias de cada ponto de nosso dataset para seus n-vizinhos mais próximos. Essa operação é o contrário do que faz o DBSCAN: enquanto DBSCAN **procura `min_samples` em uma distância máxima `eps`**, o algoritmo NearestNeightbor **calcula a distância para os `n_neighbors` vizinhos mais próximos**!\n",
    "\n",
    "Podemos utiliza-lo para visualizar a distribuição, para um dado `min_samples`, da **% de pontos que formarão um core** - o que nos permite buscar um ponto ótimo para `eps` dado um `min_samples`."
   ]
  },
  {
   "cell_type": "code",
   "execution_count": null,
   "id": "02e6fb75",
   "metadata": {
    "ExecuteTime": {
     "end_time": "2022-03-26T11:33:28.414687Z",
     "start_time": "2022-03-26T11:33:28.402690Z"
    }
   },
   "outputs": [],
   "source": [
    "from sklearn.neighbors import NearestNeighbors"
   ]
  },
  {
   "cell_type": "code",
   "execution_count": null,
   "id": "031e6f7f",
   "metadata": {
    "ExecuteTime": {
     "end_time": "2022-03-26T11:33:29.235594Z",
     "start_time": "2022-03-26T11:33:29.212656Z"
    }
   },
   "outputs": [],
   "source": [
    "neighbors = 5\n",
    "nbrs = NearestNeighbors(n_neighbors=neighbors)\n",
    "nbrs.fit(tb_moon[['X1', 'X2']])"
   ]
  },
  {
   "cell_type": "markdown",
   "id": "e383e5a3",
   "metadata": {},
   "source": [
    "Vamos extrair as distâncias para os `5` vizinhos mais próximos de cada ponto em nosso dataset:"
   ]
  },
  {
   "cell_type": "code",
   "execution_count": null,
   "id": "8c808e35",
   "metadata": {
    "ExecuteTime": {
     "end_time": "2022-03-26T11:33:30.554965Z",
     "start_time": "2022-03-26T11:33:30.537014Z"
    }
   },
   "outputs": [],
   "source": [
    "distances, indices = nbrs.kneighbors(tb_moon[['X1', 'X2']])\n",
    "distances"
   ]
  },
  {
   "cell_type": "code",
   "execution_count": null,
   "id": "657b0c47",
   "metadata": {
    "ExecuteTime": {
     "end_time": "2022-03-26T11:33:31.253867Z",
     "start_time": "2022-03-26T11:33:31.127199Z"
    }
   },
   "outputs": [],
   "source": [
    "distance_desc = sorted(distances[:,-1], reverse=True)\n",
    "plt.plot(distance_desc)"
   ]
  },
  {
   "cell_type": "code",
   "execution_count": null,
   "id": "8f3d4356",
   "metadata": {
    "ExecuteTime": {
     "end_time": "2022-03-26T11:33:32.153912Z",
     "start_time": "2022-03-26T11:33:32.143939Z"
    }
   },
   "outputs": [],
   "source": [
    "from kneed import KneeLocator"
   ]
  },
  {
   "cell_type": "code",
   "execution_count": null,
   "id": "f4f73044",
   "metadata": {
    "ExecuteTime": {
     "end_time": "2022-03-26T11:33:33.130361Z",
     "start_time": "2022-03-26T11:33:32.964785Z"
    }
   },
   "outputs": [],
   "source": [
    "kneedle = KneeLocator(range(1,len(distance_desc)+1),  #x values\n",
    "                      distance_desc,\n",
    "                      S=0.5,\n",
    "                      curve=\"convex\",\n",
    "                      direction=\"decreasing\")\n",
    "kneedle.plot_knee();\n",
    "print(kneedle.knee_y)"
   ]
  },
  {
   "cell_type": "code",
   "execution_count": null,
   "id": "9b9ab231",
   "metadata": {},
   "outputs": [],
   "source": [
    "print(f'Neigh = {i}, eps = {kneedle.knee_y}, rank_eps = {kneedle.knee}')"
   ]
  },
  {
   "cell_type": "code",
   "execution_count": null,
   "id": "f21ae8ec",
   "metadata": {
    "ExecuteTime": {
     "end_time": "2022-03-26T11:34:00.145253Z",
     "start_time": "2022-03-26T11:34:00.049599Z"
    }
   },
   "outputs": [],
   "source": [
    "for i in range(3, 20):\n",
    "    neighbors = i\n",
    "    nbrs = NearestNeighbors(n_neighbors=neighbors ).fit(tb_moon[['X1', 'X2']])\n",
    "    distances, indices = nbrs.kneighbors(tb_moon[['X1', 'X2']])\n",
    "    distance_desc = sorted(distances[:,-1], reverse=True)\n",
    "    kneedle = KneeLocator(range(1,len(distance_desc)+1),  #x values\n",
    "                      distance_desc,\n",
    "                      S=0.5,\n",
    "                      curve=\"convex\",\n",
    "                      direction=\"decreasing\")\n",
    "    print(f'Neigh = {i}, eps = {kneedle.knee_y}, rank_eps = {kneedle.knee}')"
   ]
  },
  {
   "cell_type": "code",
   "execution_count": null,
   "id": "952b8457",
   "metadata": {
    "ExecuteTime": {
     "end_time": "2022-03-26T11:36:30.154267Z",
     "start_time": "2022-03-26T11:36:29.933870Z"
    }
   },
   "outputs": [],
   "source": [
    "db = DBSCAN(eps=0.2, min_samples=6)\n",
    "tb_moon['clu_dbscan'] = [str(x) for x in db.fit_predict(X)]\n",
    "sns.scatterplot(data=tb_moon, x = 'X1', y = 'X2', hue = 'clu_dbscan')"
   ]
  },
  {
   "cell_type": "markdown",
   "id": "2efa2186",
   "metadata": {},
   "source": [
    "# Notas finais"
   ]
  },
  {
   "cell_type": "markdown",
   "id": "cecaa99b",
   "metadata": {},
   "source": [
    "Nesta semana vimos 3 algoritmos diferentes para clusterização de observações:\n",
    "\n",
    "* KMeans\n",
    "* HACs\n",
    "* DBSCAN"
   ]
  },
  {
   "cell_type": "markdown",
   "id": "3c0a4d4e",
   "metadata": {},
   "source": [
    "## KMeans"
   ]
  },
  {
   "cell_type": "markdown",
   "id": "8dbe07c9",
   "metadata": {},
   "source": [
    "**Vantagens:** \n",
    "* algoritmo simples \n",
    "* único parâmetro\n",
    "\n",
    "**Desvantagens:** \n",
    "* estimar o # de clusters\n",
    "* não captura padrões complexos\n",
    "\n",
    "KMeans é um bom ponto de partida para qualquer tarefa de clusterização. Devemos tomar cuidado com a estrutura de covariância dos nossos dados: se tivermos muitas variáveis correlatas, o algoritmo não irá capturar bons padrões.\n",
    "\n",
    "**PADRÃO CAPTURADO: BLOBS**"
   ]
  },
  {
   "cell_type": "markdown",
   "id": "5c99863e",
   "metadata": {},
   "source": [
    "## HACs (Modelos Hierarquicos)"
   ]
  },
  {
   "cell_type": "markdown",
   "id": "06b9655f",
   "metadata": {},
   "source": [
    "**Vantagens:** \n",
    "* muito flexíveis\n",
    "* nenhum parâmetro\n",
    "* estima uma estrutura de clusterização hierarquica\n",
    "* bottom-up\n",
    "\n",
    "**Desvantagens:** \n",
    "* muito flexíveis\n",
    "* dependem muito de conhecermos bem o problema\n",
    "* custosos em termos de memória e processamento, inviáveis para dataset com mais que milhares de pontos.\n",
    "\n",
    "Modelos hierarquicos aglomerativos (HACs) são um tipo de algoritmo *bottom-up* capaz de capturar tanto estruturas simples quanto estruturas complexas. O problema é que essa flexibilidade gera uma enorme incerteza na hora de escolhermos uma função de linkage especifica (Ward, Single, Complete...) e uma função de distância específica.\n",
    "\n",
    "**PADRÃO CAPTURADO: Estruturas hierarquicas de clusters dentro de clusters**"
   ]
  },
  {
   "cell_type": "markdown",
   "id": "f71e1f78",
   "metadata": {},
   "source": [
    "## DBSCAN"
   ]
  },
  {
   "cell_type": "markdown",
   "id": "c9f0c413",
   "metadata": {},
   "source": [
    "**Vantagens:** \n",
    "* estima automaticamente o # de clusters\n",
    "* captura não só padrões de localização mas também padrões de densidade\n",
    "* não 'clusteriza' todos os pontos, detecta automaticamente outliers\n",
    "\n",
    "**Desvantagens:** \n",
    "* parametrização complexa\n",
    "* longo tempo para chegar em um resultado interessante\n",
    "\n",
    "Os modelos de densidade (DBSCAN, OPTICS, HDBSCAN) são modelos custosos computacionalmente mas extremamente flexíveis em termos dos padrões capturados. Embora as técnicas OPTICS e HDBSCAN sejam mais automaticas, esta automatização não é sem custo.\n",
    "\n",
    "**PADRÃO CAPTURADO: Regiões de alta densidade em nosso *feature space***"
   ]
  }
 ],
 "metadata": {
  "hide_input": false,
  "kernelspec": {
   "display_name": "Python 3.9.11 ('base')",
   "language": "python",
   "name": "python3"
  },
  "language_info": {
   "codemirror_mode": {
    "name": "ipython",
    "version": 3
   },
   "file_extension": ".py",
   "mimetype": "text/x-python",
   "name": "python",
   "nbconvert_exporter": "python",
   "pygments_lexer": "ipython3",
   "version": "3.9.11"
  },
  "toc": {
   "base_numbering": 1,
   "nav_menu": {},
   "number_sections": true,
   "sideBar": true,
   "skip_h1_title": false,
   "title_cell": "Table of Contents",
   "title_sidebar": "Contents",
   "toc_cell": true,
   "toc_position": {
    "height": "calc(100% - 180px)",
    "left": "10px",
    "top": "150px",
    "width": "346px"
   },
   "toc_section_display": true,
   "toc_window_display": true
  },
  "vscode": {
   "interpreter": {
    "hash": "014f4a4a5af8f0104b12c029e500f4146d6d785e8cf714d2a35b7a9514230cd3"
   }
  }
 },
 "nbformat": 4,
 "nbformat_minor": 5
}

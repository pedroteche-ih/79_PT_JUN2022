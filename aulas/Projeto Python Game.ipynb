{
 "cells": [
  {
   "cell_type": "markdown",
   "id": "1d7c2bc5",
   "metadata": {
    "toc": true
   },
   "source": [
    "<h1>Table of Contents<span class=\"tocSkip\"></span></h1>\n",
    "<div class=\"toc\"><ul class=\"toc-item\"><li><span><a href=\"#Projeto-Python-Game\" data-toc-modified-id=\"Projeto-Python-Game-1\"><span class=\"toc-item-num\">1&nbsp;&nbsp;</span>Projeto Python Game</a></span></li></ul></div>"
   ]
  },
  {
   "cell_type": "markdown",
   "id": "19c1ca92",
   "metadata": {},
   "source": [
    "# Projeto Python Game\n",
    "\n",
    "**Entregáveis:**\n",
    "1. Link do código fonte em seu repositório no GitHub;\n",
    "1. Utilize pelo menos uma função em seu jogo;\n",
    "1. Apresentação dia 07/09.\n",
    "\n",
    "Construa um jogo utilizando os conceitos de programação aprendidos até o momento. Não precisa ser complicado: diversos jogos, como forca ou jogo da velha, são simples de se implementar. Simples ou complexo, um jogo em Python em geral contém um loop do jogo (muitas vezes um loop ```while True```) com as etapas abaixo:\n",
    "\n",
    "1. Entrada do Usuário;\n",
    "1. Atualização do estado do jogo;\n",
    "1. Atualização das informações aos jogadores (via ```print``` por exemplo).\n",
    "\n",
    "Além dos jogos acima, podemos utilizar jogos de azar (roleta por exemplo), cujas regras em geral são simples, ou então jogos da Antiguidade, como os descritos no site https://www.ancientgames.org/games/"
   ]
  },
  {
   "cell_type": "code",
   "execution_count": 1,
   "id": "378ed9cc",
   "metadata": {},
   "outputs": [],
   "source": [
    "import numpy as np"
   ]
  },
  {
   "cell_type": "code",
   "execution_count": 11,
   "id": "2cdc22a4",
   "metadata": {},
   "outputs": [],
   "source": [
    "a = np.array([[1,2], [3,4]])"
   ]
  },
  {
   "cell_type": "code",
   "execution_count": null,
   "id": "53dfe35e",
   "metadata": {},
   "outputs": [],
   "source": []
  },
  {
   "cell_type": "code",
   "execution_count": 3,
   "id": "b7758c64",
   "metadata": {},
   "outputs": [
    {
     "name": "stdout",
     "output_type": "stream",
     "text": [
      "[[1 2]\n",
      " [3 4]]\n"
     ]
    }
   ],
   "source": [
    "print(a)"
   ]
  },
  {
   "cell_type": "code",
   "execution_count": 6,
   "id": "bc35e039",
   "metadata": {},
   "outputs": [],
   "source": [
    "def pretty_print_2x2(m):\n",
    "    return f'{m[0,0]} | {m[0,1]}\\n------\\n{m[1,0]} | {m[1,1]}'"
   ]
  },
  {
   "cell_type": "code",
   "execution_count": 7,
   "id": "5a9bca8d",
   "metadata": {},
   "outputs": [
    {
     "name": "stdout",
     "output_type": "stream",
     "text": [
      "1 | 2\n",
      "------\n",
      "3 | 4\n"
     ]
    }
   ],
   "source": [
    "print(pretty_print_2x2(a))"
   ]
  },
  {
   "cell_type": "code",
   "execution_count": 8,
   "id": "3e473181",
   "metadata": {},
   "outputs": [],
   "source": [
    "a = [1,2,3]"
   ]
  },
  {
   "cell_type": "code",
   "execution_count": 9,
   "id": "5927de10",
   "metadata": {},
   "outputs": [],
   "source": [
    "a[0] = 2 "
   ]
  },
  {
   "cell_type": "code",
   "execution_count": 18,
   "id": "92e628d9",
   "metadata": {},
   "outputs": [],
   "source": [
    "a[0,0] = 3"
   ]
  },
  {
   "cell_type": "code",
   "execution_count": 19,
   "id": "1df30faf",
   "metadata": {},
   "outputs": [
    {
     "name": "stdout",
     "output_type": "stream",
     "text": [
      "3 | 2\n",
      "------\n",
      "3 | 4\n"
     ]
    }
   ],
   "source": [
    "print(pretty_print_2x2(a))"
   ]
  },
  {
   "cell_type": "code",
   "execution_count": 3,
   "id": "1974269b",
   "metadata": {},
   "outputs": [],
   "source": [
    "import re\n",
    "str_model = '''1300 CHERRY ST\n",
    "KANSAS CITY, MO 64106\n",
    "(39.098312716000464, -94.5763166219997)'''"
   ]
  },
  {
   "cell_type": "code",
   "execution_count": 7,
   "id": "bfc23f81",
   "metadata": {},
   "outputs": [
    {
     "data": {
      "text/plain": [
       "39.098312716000464"
      ]
     },
     "execution_count": 7,
     "metadata": {},
     "output_type": "execute_result"
    }
   ],
   "source": [
    "pattern = r'\\([0-9]+.[0-9]+,'\n",
    "float(re.findall(pattern, str_model)[0].replace('(', '').replace(',', ''))"
   ]
  },
  {
   "cell_type": "code",
   "execution_count": null,
   "id": "fdba71fd",
   "metadata": {},
   "outputs": [],
   "source": []
  }
 ],
 "metadata": {
  "hide_input": false,
  "kernelspec": {
   "display_name": "Python 3.9.11 ('base')",
   "language": "python",
   "name": "python3"
  },
  "language_info": {
   "codemirror_mode": {
    "name": "ipython",
    "version": 3
   },
   "file_extension": ".py",
   "mimetype": "text/x-python",
   "name": "python",
   "nbconvert_exporter": "python",
   "pygments_lexer": "ipython3",
   "version": "3.9.11"
  },
  "toc": {
   "base_numbering": 1,
   "nav_menu": {},
   "number_sections": true,
   "sideBar": true,
   "skip_h1_title": false,
   "title_cell": "Table of Contents",
   "title_sidebar": "Contents",
   "toc_cell": true,
   "toc_position": {},
   "toc_section_display": true,
   "toc_window_display": true
  },
  "vscode": {
   "interpreter": {
    "hash": "014f4a4a5af8f0104b12c029e500f4146d6d785e8cf714d2a35b7a9514230cd3"
   }
  }
 },
 "nbformat": 4,
 "nbformat_minor": 5
}

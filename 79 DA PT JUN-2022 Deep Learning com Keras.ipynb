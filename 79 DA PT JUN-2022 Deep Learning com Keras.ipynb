{
  "nbformat": 4,
  "nbformat_minor": 0,
  "metadata": {
    "colab": {
      "provenance": [],
      "authorship_tag": "ABX9TyNOUkhWSo6EWclD95P9bGv/",
      "include_colab_link": true
    },
    "kernelspec": {
      "name": "python3",
      "display_name": "Python 3"
    },
    "language_info": {
      "name": "python"
    },
    "accelerator": "GPU",
    "gpuClass": "standard"
  },
  "cells": [
    {
      "cell_type": "markdown",
      "metadata": {
        "id": "view-in-github",
        "colab_type": "text"
      },
      "source": [
        "<a href=\"https://colab.research.google.com/github/pedroteche-ih/79_PT_JUN2022/blob/main/79%20DA%20PT%20JUN-2022%20Deep%20Learning%20com%20Keras.ipynb\" target=\"_parent\"><img src=\"https://colab.research.google.com/assets/colab-badge.svg\" alt=\"Open In Colab\"/></a>"
      ]
    },
    {
      "cell_type": "code",
      "execution_count": 54,
      "metadata": {
        "id": "2rBF3bjoVxOU"
      },
      "outputs": [],
      "source": [
        "import numpy as np\n",
        "import pandas as pd\n",
        "import seaborn as sns\n",
        "import matplotlib.pyplot as plt\n",
        "from sklearn.decomposition import TruncatedSVD\n",
        "from sklearn.preprocessing import StandardScaler, OneHotEncoder\n",
        "from sklearn.impute import KNNImputer, SimpleImputer\n",
        "from sklearn.model_selection import train_test_split"
      ]
    },
    {
      "cell_type": "markdown",
      "source": [
        "# Deep Learning\n",
        "\n",
        "## Modelos de Classificação"
      ],
      "metadata": {
        "id": "2QntZNF5WBi3"
      }
    },
    {
      "cell_type": "code",
      "source": [
        "url = 'https://raw.githubusercontent.com/pedroteche-ih/64_PT_NOV202111/main/aulas/data/tb_hotel_completa.csv'\n",
        "tb_hotel = pd.read_csv(url)\n"
      ],
      "metadata": {
        "id": "WS5sNYA5WCp0"
      },
      "execution_count": 55,
      "outputs": []
    },
    {
      "cell_type": "markdown",
      "source": [
        "## Construindo Pipelines"
      ],
      "metadata": {
        "id": "Xcdsg4--W3ED"
      }
    },
    {
      "cell_type": "code",
      "source": [
        "from sklearn.pipeline import Pipeline\n",
        "from sklearn.compose import ColumnTransformer"
      ],
      "metadata": {
        "id": "epyiPkQcW1ut"
      },
      "execution_count": 56,
      "outputs": []
    },
    {
      "cell_type": "code",
      "source": [
        "tb_hotel.select_dtypes(include = \"number\").columns"
      ],
      "metadata": {
        "colab": {
          "base_uri": "https://localhost:8080/"
        },
        "id": "6c_QUX-gXIYX",
        "outputId": "15c040f2-8f93-4158-bf5d-d2dc5fc33773"
      },
      "execution_count": 57,
      "outputs": [
        {
          "output_type": "execute_result",
          "data": {
            "text/plain": [
              "Index(['Unnamed: 0', 'is_canceled', 'lead_time', 'stays_in_weekend_nights',\n",
              "       'stays_in_week_nights', 'adults', 'children', 'babies',\n",
              "       'is_repeated_guest', 'previous_cancellations',\n",
              "       'previous_bookings_not_canceled', 'booking_changes', 'agent', 'company',\n",
              "       'days_in_waiting_list', 'adr', 'required_car_parking_spaces',\n",
              "       'total_of_special_requests', 'id_booking'],\n",
              "      dtype='object')"
            ]
          },
          "metadata": {},
          "execution_count": 57
        }
      ]
    },
    {
      "cell_type": "code",
      "source": [
        "cat_vars = [\n",
        "    'hotel', 'meal', 'country', \n",
        "    'market_segment', 'distribution_channel',\n",
        "    'reserved_room_type', 'assigned_room_type', \n",
        "    'deposit_type', 'customer_type'\n",
        "]\n",
        "num_vars = [\n",
        "    'lead_time', 'stays_in_weekend_nights',\n",
        "    'stays_in_week_nights', 'adults', 'children', 'babies',\n",
        "    'is_repeated_guest', 'previous_cancellations',\n",
        "    'previous_bookings_not_canceled','days_in_waiting_list', \n",
        "    'adr', 'required_car_parking_spaces',\n",
        "    'total_of_special_requests'\n",
        "]"
      ],
      "metadata": {
        "id": "yoyxDRtSW_Zs"
      },
      "execution_count": 58,
      "outputs": []
    },
    {
      "cell_type": "markdown",
      "source": [
        "#### Braço Numérico"
      ],
      "metadata": {
        "id": "3ZAikAUBX_f_"
      }
    },
    {
      "cell_type": "code",
      "source": [
        "num_imputer = KNNImputer(n_neighbors = 5, weights = 'distance')\n",
        "num_scaler = StandardScaler()\n",
        "num_pipeline = Pipeline([('IMPUTER', num_imputer), ('SCALER', num_scaler)])\n"
      ],
      "metadata": {
        "id": "_nfLFYHyXWYa"
      },
      "execution_count": 59,
      "outputs": []
    },
    {
      "cell_type": "markdown",
      "source": [
        "#### Braço Categórico"
      ],
      "metadata": {
        "id": "-5Wtzp2oYdwc"
      }
    },
    {
      "cell_type": "code",
      "source": [
        "cat_imputer = SimpleImputer(strategy = 'constant', fill_value = 'Unknown')\n",
        "ohe = OneHotEncoder(\n",
        "    drop = 'first', \n",
        "    handle_unknown = 'ignore',\n",
        "    sparse = False\n",
        ")\n",
        "cat_pipeline = Pipeline([('IMPUTER', cat_imputer), ('OHE', ohe)])"
      ],
      "metadata": {
        "id": "gTqr_03yYaKD"
      },
      "execution_count": 60,
      "outputs": []
    },
    {
      "cell_type": "markdown",
      "source": [
        "#### Pipeline Final"
      ],
      "metadata": {
        "id": "k1-azUowbqPr"
      }
    },
    {
      "cell_type": "code",
      "source": [
        "composed = ColumnTransformer([('CAT', cat_pipeline, cat_vars),\n",
        "                              ('NUM', num_pipeline, num_vars)])\n",
        "dataprep_pipeline = Pipeline([('DATAPREP', composed)])"
      ],
      "metadata": {
        "id": "0MJt3oNzZm7T"
      },
      "execution_count": 61,
      "outputs": []
    },
    {
      "cell_type": "code",
      "source": [
        "X = tb_hotel[cat_vars + num_vars]\n",
        "y = np.array(tb_hotel['is_canceled'])\n",
        "X_train, X_test, y_train, y_test = train_test_split(X, y, test_size = 0.2)"
      ],
      "metadata": {
        "id": "Y-N5pbs4b9pI"
      },
      "execution_count": 62,
      "outputs": []
    },
    {
      "cell_type": "code",
      "source": [
        "dataprep_pipeline.fit(X_train)\n",
        "X_train_trans = dataprep_pipeline.transform(X_train)\n",
        "X_test_trans = dataprep_pipeline.transform(X_test)"
      ],
      "metadata": {
        "colab": {
          "base_uri": "https://localhost:8080/"
        },
        "id": "iXWyrPAxcKtr",
        "outputId": "5f87e111-d14b-4115-ab65-2446d95a00f4"
      },
      "execution_count": 63,
      "outputs": [
        {
          "output_type": "stream",
          "name": "stderr",
          "text": [
            "/usr/local/lib/python3.7/dist-packages/sklearn/preprocessing/_encoders.py:174: UserWarning: Found unknown categories in columns [2] during transform. These unknown categories will be encoded as all zeros\n",
            "  UserWarning,\n"
          ]
        }
      ]
    },
    {
      "cell_type": "code",
      "source": [
        "num_features = X_train_trans.shape[1]\n",
        "print(num_features)"
      ],
      "metadata": {
        "colab": {
          "base_uri": "https://localhost:8080/"
        },
        "id": "iaU88bCfdGpa",
        "outputId": "c74c04dc-bc23-4aa1-b285-84632aa099f4"
      },
      "execution_count": 64,
      "outputs": [
        {
          "output_type": "stream",
          "name": "stdout",
          "text": [
            "225\n"
          ]
        }
      ]
    },
    {
      "cell_type": "markdown",
      "source": [
        "## Criando nossa Rede Neural"
      ],
      "metadata": {
        "id": "KfmeCAhocsR8"
      }
    },
    {
      "cell_type": "code",
      "source": [
        "import keras\n",
        "from keras.models import Sequential\n",
        "from keras.layers import Dense"
      ],
      "metadata": {
        "id": "kr0JIH_ycnoY"
      },
      "execution_count": 65,
      "outputs": []
    },
    {
      "cell_type": "markdown",
      "source": [
        "#### Definindo a topologia"
      ],
      "metadata": {
        "id": "2ZGLkqJZeaAk"
      }
    },
    {
      "cell_type": "code",
      "source": [
        "model = Sequential()\n",
        "model.add(Dense(30, input_dim=num_features, activation=\"relu\"))\n",
        "model.add(Dense(20, activation=\"relu\"))\n",
        "model.add(Dense(10, activation=\"relu\"))\n",
        "model.add(Dense(1, activation=\"sigmoid\"))"
      ],
      "metadata": {
        "id": "jjBP45v9czTz"
      },
      "execution_count": 66,
      "outputs": []
    },
    {
      "cell_type": "code",
      "source": [
        "model.compile(\n",
        "    loss='binary_crossentropy', \n",
        "    optimizer='adam', \n",
        "    metrics=['accuracy'])"
      ],
      "metadata": {
        "id": "pCKicf_VeMV1"
      },
      "execution_count": 67,
      "outputs": []
    },
    {
      "cell_type": "markdown",
      "source": [
        "#### Estimando pesos"
      ],
      "metadata": {
        "id": "syWl7V4Jecy9"
      }
    },
    {
      "cell_type": "code",
      "source": [
        "import tensorflow as tf"
      ],
      "metadata": {
        "id": "sCBvIjD_hxPo"
      },
      "execution_count": 68,
      "outputs": []
    },
    {
      "cell_type": "code",
      "source": [
        "device_name = tf.test.gpu_device_name()\n",
        "print(device_name)"
      ],
      "metadata": {
        "colab": {
          "base_uri": "https://localhost:8080/"
        },
        "id": "5cIgGWLth3z9",
        "outputId": "5efd9836-4b36-4da4-f790-73e8ca6c8b2b"
      },
      "execution_count": 69,
      "outputs": [
        {
          "output_type": "stream",
          "name": "stdout",
          "text": [
            "/device:GPU:0\n"
          ]
        }
      ]
    },
    {
      "cell_type": "code",
      "source": [
        "with tf.device('/device:GPU:0'):\n",
        "  h = model.fit(X_train_trans, y_train, epochs = 100, batch_size = 5000)"
      ],
      "metadata": {
        "colab": {
          "base_uri": "https://localhost:8080/"
        },
        "id": "pm8YmXqjeV2q",
        "outputId": "7c1987cb-dcd1-4fd5-c00a-f9741da2f5b1"
      },
      "execution_count": 70,
      "outputs": [
        {
          "output_type": "stream",
          "name": "stdout",
          "text": [
            "Epoch 1/100\n",
            "20/20 [==============================] - 1s 6ms/step - loss: 0.6745 - accuracy: 0.6144\n",
            "Epoch 2/100\n",
            "20/20 [==============================] - 0s 6ms/step - loss: 0.6248 - accuracy: 0.7062\n",
            "Epoch 3/100\n",
            "20/20 [==============================] - 0s 5ms/step - loss: 0.5681 - accuracy: 0.7385\n",
            "Epoch 4/100\n",
            "20/20 [==============================] - 0s 5ms/step - loss: 0.5150 - accuracy: 0.7697\n",
            "Epoch 5/100\n",
            "20/20 [==============================] - 0s 6ms/step - loss: 0.4664 - accuracy: 0.7935\n",
            "Epoch 6/100\n",
            "20/20 [==============================] - 0s 5ms/step - loss: 0.4290 - accuracy: 0.8078\n",
            "Epoch 7/100\n",
            "20/20 [==============================] - 0s 7ms/step - loss: 0.4062 - accuracy: 0.8127\n",
            "Epoch 8/100\n",
            "20/20 [==============================] - 0s 7ms/step - loss: 0.3940 - accuracy: 0.8143\n",
            "Epoch 9/100\n",
            "20/20 [==============================] - 0s 6ms/step - loss: 0.3856 - accuracy: 0.8169\n",
            "Epoch 10/100\n",
            "20/20 [==============================] - 0s 7ms/step - loss: 0.3793 - accuracy: 0.8199\n",
            "Epoch 11/100\n",
            "20/20 [==============================] - 0s 6ms/step - loss: 0.3739 - accuracy: 0.8218\n",
            "Epoch 12/100\n",
            "20/20 [==============================] - 0s 6ms/step - loss: 0.3692 - accuracy: 0.8239\n",
            "Epoch 13/100\n",
            "20/20 [==============================] - 0s 6ms/step - loss: 0.3652 - accuracy: 0.8252\n",
            "Epoch 14/100\n",
            "20/20 [==============================] - 0s 6ms/step - loss: 0.3619 - accuracy: 0.8261\n",
            "Epoch 15/100\n",
            "20/20 [==============================] - 0s 7ms/step - loss: 0.3590 - accuracy: 0.8269\n",
            "Epoch 16/100\n",
            "20/20 [==============================] - 0s 6ms/step - loss: 0.3565 - accuracy: 0.8274\n",
            "Epoch 17/100\n",
            "20/20 [==============================] - 0s 6ms/step - loss: 0.3542 - accuracy: 0.8282\n",
            "Epoch 18/100\n",
            "20/20 [==============================] - 0s 6ms/step - loss: 0.3525 - accuracy: 0.8286\n",
            "Epoch 19/100\n",
            "20/20 [==============================] - 0s 6ms/step - loss: 0.3506 - accuracy: 0.8298\n",
            "Epoch 20/100\n",
            "20/20 [==============================] - 0s 6ms/step - loss: 0.3492 - accuracy: 0.8306\n",
            "Epoch 21/100\n",
            "20/20 [==============================] - 0s 5ms/step - loss: 0.3477 - accuracy: 0.8311\n",
            "Epoch 22/100\n",
            "20/20 [==============================] - 0s 5ms/step - loss: 0.3466 - accuracy: 0.8319\n",
            "Epoch 23/100\n",
            "20/20 [==============================] - 0s 7ms/step - loss: 0.3455 - accuracy: 0.8318\n",
            "Epoch 24/100\n",
            "20/20 [==============================] - 0s 6ms/step - loss: 0.3446 - accuracy: 0.8325\n",
            "Epoch 25/100\n",
            "20/20 [==============================] - 0s 6ms/step - loss: 0.3437 - accuracy: 0.8333\n",
            "Epoch 26/100\n",
            "20/20 [==============================] - 0s 6ms/step - loss: 0.3428 - accuracy: 0.8336\n",
            "Epoch 27/100\n",
            "20/20 [==============================] - 0s 6ms/step - loss: 0.3420 - accuracy: 0.8340\n",
            "Epoch 28/100\n",
            "20/20 [==============================] - 0s 6ms/step - loss: 0.3411 - accuracy: 0.8339\n",
            "Epoch 29/100\n",
            "20/20 [==============================] - 0s 6ms/step - loss: 0.3405 - accuracy: 0.8356\n",
            "Epoch 30/100\n",
            "20/20 [==============================] - 0s 6ms/step - loss: 0.3396 - accuracy: 0.8365\n",
            "Epoch 31/100\n",
            "20/20 [==============================] - 0s 6ms/step - loss: 0.3387 - accuracy: 0.8365\n",
            "Epoch 32/100\n",
            "20/20 [==============================] - 0s 6ms/step - loss: 0.3382 - accuracy: 0.8363\n",
            "Epoch 33/100\n",
            "20/20 [==============================] - 0s 6ms/step - loss: 0.3374 - accuracy: 0.8375\n",
            "Epoch 34/100\n",
            "20/20 [==============================] - 0s 6ms/step - loss: 0.3371 - accuracy: 0.8373\n",
            "Epoch 35/100\n",
            "20/20 [==============================] - 0s 5ms/step - loss: 0.3365 - accuracy: 0.8379\n",
            "Epoch 36/100\n",
            "20/20 [==============================] - 0s 6ms/step - loss: 0.3357 - accuracy: 0.8387\n",
            "Epoch 37/100\n",
            "20/20 [==============================] - 0s 5ms/step - loss: 0.3355 - accuracy: 0.8379\n",
            "Epoch 38/100\n",
            "20/20 [==============================] - 0s 6ms/step - loss: 0.3352 - accuracy: 0.8387\n",
            "Epoch 39/100\n",
            "20/20 [==============================] - 0s 6ms/step - loss: 0.3349 - accuracy: 0.8387\n",
            "Epoch 40/100\n",
            "20/20 [==============================] - 0s 6ms/step - loss: 0.3344 - accuracy: 0.8392\n",
            "Epoch 41/100\n",
            "20/20 [==============================] - 0s 6ms/step - loss: 0.3339 - accuracy: 0.8398\n",
            "Epoch 42/100\n",
            "20/20 [==============================] - 0s 6ms/step - loss: 0.3338 - accuracy: 0.8392\n",
            "Epoch 43/100\n",
            "20/20 [==============================] - 0s 6ms/step - loss: 0.3330 - accuracy: 0.8401\n",
            "Epoch 44/100\n",
            "20/20 [==============================] - 0s 5ms/step - loss: 0.3327 - accuracy: 0.8405\n",
            "Epoch 45/100\n",
            "20/20 [==============================] - 0s 6ms/step - loss: 0.3323 - accuracy: 0.8402\n",
            "Epoch 46/100\n",
            "20/20 [==============================] - 0s 6ms/step - loss: 0.3319 - accuracy: 0.8409\n",
            "Epoch 47/100\n",
            "20/20 [==============================] - 0s 6ms/step - loss: 0.3319 - accuracy: 0.8407\n",
            "Epoch 48/100\n",
            "20/20 [==============================] - 0s 6ms/step - loss: 0.3315 - accuracy: 0.8407\n",
            "Epoch 49/100\n",
            "20/20 [==============================] - 0s 6ms/step - loss: 0.3314 - accuracy: 0.8406\n",
            "Epoch 50/100\n",
            "20/20 [==============================] - 0s 6ms/step - loss: 0.3310 - accuracy: 0.8414\n",
            "Epoch 51/100\n",
            "20/20 [==============================] - 0s 5ms/step - loss: 0.3308 - accuracy: 0.8421\n",
            "Epoch 52/100\n",
            "20/20 [==============================] - 0s 6ms/step - loss: 0.3304 - accuracy: 0.8413\n",
            "Epoch 53/100\n",
            "20/20 [==============================] - 0s 6ms/step - loss: 0.3303 - accuracy: 0.8416\n",
            "Epoch 54/100\n",
            "20/20 [==============================] - 0s 6ms/step - loss: 0.3300 - accuracy: 0.8416\n",
            "Epoch 55/100\n",
            "20/20 [==============================] - 0s 6ms/step - loss: 0.3297 - accuracy: 0.8419\n",
            "Epoch 56/100\n",
            "20/20 [==============================] - 0s 6ms/step - loss: 0.3296 - accuracy: 0.8424\n",
            "Epoch 57/100\n",
            "20/20 [==============================] - 0s 6ms/step - loss: 0.3292 - accuracy: 0.8421\n",
            "Epoch 58/100\n",
            "20/20 [==============================] - 0s 6ms/step - loss: 0.3292 - accuracy: 0.8418\n",
            "Epoch 59/100\n",
            "20/20 [==============================] - 0s 6ms/step - loss: 0.3290 - accuracy: 0.8420\n",
            "Epoch 60/100\n",
            "20/20 [==============================] - 0s 6ms/step - loss: 0.3286 - accuracy: 0.8424\n",
            "Epoch 61/100\n",
            "20/20 [==============================] - 0s 6ms/step - loss: 0.3287 - accuracy: 0.8431\n",
            "Epoch 62/100\n",
            "20/20 [==============================] - 0s 5ms/step - loss: 0.3285 - accuracy: 0.8422\n",
            "Epoch 63/100\n",
            "20/20 [==============================] - 0s 6ms/step - loss: 0.3281 - accuracy: 0.8422\n",
            "Epoch 64/100\n",
            "20/20 [==============================] - 0s 6ms/step - loss: 0.3281 - accuracy: 0.8426\n",
            "Epoch 65/100\n",
            "20/20 [==============================] - 0s 6ms/step - loss: 0.3278 - accuracy: 0.8432\n",
            "Epoch 66/100\n",
            "20/20 [==============================] - 0s 6ms/step - loss: 0.3281 - accuracy: 0.8429\n",
            "Epoch 67/100\n",
            "20/20 [==============================] - 0s 6ms/step - loss: 0.3278 - accuracy: 0.8424\n",
            "Epoch 68/100\n",
            "20/20 [==============================] - 0s 6ms/step - loss: 0.3272 - accuracy: 0.8435\n",
            "Epoch 69/100\n",
            "20/20 [==============================] - 0s 6ms/step - loss: 0.3272 - accuracy: 0.8434\n",
            "Epoch 70/100\n",
            "20/20 [==============================] - 0s 7ms/step - loss: 0.3271 - accuracy: 0.8435\n",
            "Epoch 71/100\n",
            "20/20 [==============================] - 0s 6ms/step - loss: 0.3267 - accuracy: 0.8440\n",
            "Epoch 72/100\n",
            "20/20 [==============================] - 0s 6ms/step - loss: 0.3268 - accuracy: 0.8432\n",
            "Epoch 73/100\n",
            "20/20 [==============================] - 0s 6ms/step - loss: 0.3264 - accuracy: 0.8444\n",
            "Epoch 74/100\n",
            "20/20 [==============================] - 0s 5ms/step - loss: 0.3265 - accuracy: 0.8433\n",
            "Epoch 75/100\n",
            "20/20 [==============================] - 0s 6ms/step - loss: 0.3265 - accuracy: 0.8440\n",
            "Epoch 76/100\n",
            "20/20 [==============================] - 0s 6ms/step - loss: 0.3263 - accuracy: 0.8442\n",
            "Epoch 77/100\n",
            "20/20 [==============================] - 0s 5ms/step - loss: 0.3260 - accuracy: 0.8435\n",
            "Epoch 78/100\n",
            "20/20 [==============================] - 0s 6ms/step - loss: 0.3260 - accuracy: 0.8441\n",
            "Epoch 79/100\n",
            "20/20 [==============================] - 0s 6ms/step - loss: 0.3256 - accuracy: 0.8439\n",
            "Epoch 80/100\n",
            "20/20 [==============================] - 0s 6ms/step - loss: 0.3255 - accuracy: 0.8443\n",
            "Epoch 81/100\n",
            "20/20 [==============================] - 0s 5ms/step - loss: 0.3255 - accuracy: 0.8442\n",
            "Epoch 82/100\n",
            "20/20 [==============================] - 0s 6ms/step - loss: 0.3252 - accuracy: 0.8451\n",
            "Epoch 83/100\n",
            "20/20 [==============================] - 0s 6ms/step - loss: 0.3248 - accuracy: 0.8448\n",
            "Epoch 84/100\n",
            "20/20 [==============================] - 0s 6ms/step - loss: 0.3247 - accuracy: 0.8446\n",
            "Epoch 85/100\n",
            "20/20 [==============================] - 0s 6ms/step - loss: 0.3246 - accuracy: 0.8450\n",
            "Epoch 86/100\n",
            "20/20 [==============================] - 0s 5ms/step - loss: 0.3243 - accuracy: 0.8449\n",
            "Epoch 87/100\n",
            "20/20 [==============================] - 0s 6ms/step - loss: 0.3243 - accuracy: 0.8448\n",
            "Epoch 88/100\n",
            "20/20 [==============================] - 0s 6ms/step - loss: 0.3240 - accuracy: 0.8449\n",
            "Epoch 89/100\n",
            "20/20 [==============================] - 0s 5ms/step - loss: 0.3240 - accuracy: 0.8453\n",
            "Epoch 90/100\n",
            "20/20 [==============================] - 0s 6ms/step - loss: 0.3238 - accuracy: 0.8450\n",
            "Epoch 91/100\n",
            "20/20 [==============================] - 0s 6ms/step - loss: 0.3235 - accuracy: 0.8457\n",
            "Epoch 92/100\n",
            "20/20 [==============================] - 0s 6ms/step - loss: 0.3232 - accuracy: 0.8455\n",
            "Epoch 93/100\n",
            "20/20 [==============================] - 0s 7ms/step - loss: 0.3232 - accuracy: 0.8461\n",
            "Epoch 94/100\n",
            "20/20 [==============================] - 0s 7ms/step - loss: 0.3230 - accuracy: 0.8459\n",
            "Epoch 95/100\n",
            "20/20 [==============================] - 0s 6ms/step - loss: 0.3228 - accuracy: 0.8462\n",
            "Epoch 96/100\n",
            "20/20 [==============================] - 0s 6ms/step - loss: 0.3230 - accuracy: 0.8461\n",
            "Epoch 97/100\n",
            "20/20 [==============================] - 0s 6ms/step - loss: 0.3229 - accuracy: 0.8456\n",
            "Epoch 98/100\n",
            "20/20 [==============================] - 0s 6ms/step - loss: 0.3226 - accuracy: 0.8460\n",
            "Epoch 99/100\n",
            "20/20 [==============================] - 0s 6ms/step - loss: 0.3223 - accuracy: 0.8464\n",
            "Epoch 100/100\n",
            "20/20 [==============================] - 0s 5ms/step - loss: 0.3221 - accuracy: 0.8463\n"
          ]
        }
      ]
    },
    {
      "cell_type": "code",
      "source": [
        "y_pred_prob = model.predict(X_test_trans)\n",
        "y_pred_prob"
      ],
      "metadata": {
        "colab": {
          "base_uri": "https://localhost:8080/"
        },
        "id": "A7V2EgLSeme_",
        "outputId": "bf6bbfb2-a8a7-432f-aecd-841ff36273e1"
      },
      "execution_count": 71,
      "outputs": [
        {
          "output_type": "stream",
          "name": "stdout",
          "text": [
            "747/747 [==============================] - 2s 3ms/step\n"
          ]
        },
        {
          "output_type": "execute_result",
          "data": {
            "text/plain": [
              "array([[1.4229027e-04],\n",
              "       [9.9902141e-01],\n",
              "       [8.9959905e-02],\n",
              "       ...,\n",
              "       [4.8795748e-01],\n",
              "       [9.9925596e-01],\n",
              "       [1.1499523e-01]], dtype=float32)"
            ]
          },
          "metadata": {},
          "execution_count": 71
        }
      ]
    },
    {
      "cell_type": "code",
      "source": [
        "y_pred = [1 if x > 0.5 else 0 for x in y_pred_prob]\n",
        "y_pred[0:10]"
      ],
      "metadata": {
        "colab": {
          "base_uri": "https://localhost:8080/"
        },
        "id": "orm3EW5zioFj",
        "outputId": "e1801e34-9596-4ea7-b3cb-a77fd9e579ba"
      },
      "execution_count": 72,
      "outputs": [
        {
          "output_type": "execute_result",
          "data": {
            "text/plain": [
              "[0, 1, 0, 1, 0, 1, 0, 0, 0, 1]"
            ]
          },
          "metadata": {},
          "execution_count": 72
        }
      ]
    },
    {
      "cell_type": "code",
      "source": [
        "from sklearn.metrics import f1_score\n",
        "f1_score(y_test, y_pred)"
      ],
      "metadata": {
        "colab": {
          "base_uri": "https://localhost:8080/"
        },
        "id": "URin8WMFiz1Z",
        "outputId": "b3b1f7cf-db1b-4dae-a6e8-3da6d789c504"
      },
      "execution_count": 73,
      "outputs": [
        {
          "output_type": "execute_result",
          "data": {
            "text/plain": [
              "0.782685408457331"
            ]
          },
          "metadata": {},
          "execution_count": 73
        }
      ]
    },
    {
      "cell_type": "markdown",
      "source": [
        "### Visualizando Overfitting"
      ],
      "metadata": {
        "id": "jf2fTHrrjRaU"
      }
    },
    {
      "cell_type": "code",
      "source": [
        "model = Sequential()\n",
        "model.add(Dense(10, input_dim=num_features, activation=\"relu\"))\n",
        "model.add(Dense(10, activation=\"relu\"))\n",
        "model.add(Dense(10, activation=\"relu\"))\n",
        "model.add(Dense(1, activation=\"sigmoid\"))\n",
        "model.compile(\n",
        "    loss='binary_crossentropy', \n",
        "    optimizer='adam', \n",
        "    metrics=['accuracy'])"
      ],
      "metadata": {
        "id": "ekpdbF6kjWuq"
      },
      "execution_count": 48,
      "outputs": []
    },
    {
      "cell_type": "code",
      "source": [
        "history = model.fit(\n",
        "    X_train_trans, y_train,\n",
        "    validation_data = (X_test_trans, y_test), \n",
        "    epochs=100, batch_size=5000, verbose = False)"
      ],
      "metadata": {
        "id": "N9ixf4T6jHiw"
      },
      "execution_count": 49,
      "outputs": []
    },
    {
      "cell_type": "code",
      "source": [
        "history.history.keys()"
      ],
      "metadata": {
        "colab": {
          "base_uri": "https://localhost:8080/"
        },
        "id": "wHuBn4PNkyke",
        "outputId": "cbe5f429-8551-4488-f768-ce92755fdaad"
      },
      "execution_count": 51,
      "outputs": [
        {
          "output_type": "execute_result",
          "data": {
            "text/plain": [
              "dict_keys(['loss', 'accuracy', 'val_loss', 'val_accuracy'])"
            ]
          },
          "metadata": {},
          "execution_count": 51
        }
      ]
    },
    {
      "cell_type": "code",
      "source": [
        "tb_eval = pd.DataFrame({'acc' : history.history['accuracy'], \n",
        "                        'val_acc': history.history['val_accuracy'],\n",
        "                        'epoch' : range(100)})"
      ],
      "metadata": {
        "id": "vphrGLkijg81"
      },
      "execution_count": 52,
      "outputs": []
    },
    {
      "cell_type": "code",
      "source": [
        "sns.lineplot(data = tb_eval, x = 'epoch', y = 'acc')\n",
        "sns.lineplot(data = tb_eval, x = 'epoch', y = 'val_acc')"
      ],
      "metadata": {
        "colab": {
          "base_uri": "https://localhost:8080/",
          "height": 317
        },
        "id": "kL3x6u7eki8v",
        "outputId": "193e3cb9-9ebc-4451-9e7b-119d1f9ac84e"
      },
      "execution_count": 53,
      "outputs": [
        {
          "output_type": "execute_result",
          "data": {
            "text/plain": [
              "<matplotlib.axes._subplots.AxesSubplot at 0x7f6c843b9d50>"
            ]
          },
          "metadata": {},
          "execution_count": 53
        },
        {
          "output_type": "display_data",
          "data": {
            "text/plain": [
              "<Figure size 432x288 with 1 Axes>"
            ],
            "image/png": "[encoded data removed]"
          },
          "metadata": {
            "needs_background": "light"
          }
        }
      ]
    },
    {
      "cell_type": "code",
      "source": [],
      "metadata": {
        "id": "nLJ-TeNEk-v1"
      },
      "execution_count": null,
      "outputs": []
    }
  ]
}
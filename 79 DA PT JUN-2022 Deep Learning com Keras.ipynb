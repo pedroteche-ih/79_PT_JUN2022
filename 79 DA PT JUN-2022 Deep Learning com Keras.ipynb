{
  "nbformat": 4,
  "nbformat_minor": 0,
  "metadata": {
    "colab": {
      "provenance": [],
      "machine_shape": "hm",
      "authorship_tag": "ABX9TyN0dCEA7RP753ZMSS8HG0eT",
      "include_colab_link": true
    },
    "kernelspec": {
      "name": "python3",
      "display_name": "Python 3"
    },
    "language_info": {
      "name": "python"
    },
    "accelerator": "TPU"
  },
  "cells": [
    {
      "cell_type": "markdown",
      "metadata": {
        "id": "view-in-github",
        "colab_type": "text"
      },
      "source": [
        "<a href=\"https://colab.research.google.com/github/pedroteche-ih/79_PT_JUN2022/blob/main/79%20DA%20PT%20JUN-2022%20Deep%20Learning%20com%20Keras.ipynb\" target=\"_parent\"><img src=\"https://colab.research.google.com/assets/colab-badge.svg\" alt=\"Open In Colab\"/></a>"
      ]
    },
    {
      "cell_type": "code",
      "execution_count": 1,
      "metadata": {
        "id": "2rBF3bjoVxOU"
      },
      "outputs": [],
      "source": [
        "import numpy as np\n",
        "import pandas as pd\n",
        "import seaborn as sns\n",
        "import matplotlib.pyplot as plt\n",
        "from sklearn.decomposition import TruncatedSVD\n",
        "from sklearn.preprocessing import StandardScaler, OneHotEncoder\n",
        "from sklearn.impute import KNNImputer, SimpleImputer\n",
        "from sklearn.model_selection import train_test_split"
      ]
    },
    {
      "cell_type": "markdown",
      "source": [
        "# Deep Learning\n",
        "\n",
        "## Modelos de Classificação"
      ],
      "metadata": {
        "id": "2QntZNF5WBi3"
      }
    },
    {
      "cell_type": "code",
      "source": [
        "url = 'https://raw.githubusercontent.com/pedroteche-ih/64_PT_NOV202111/main/aulas/data/tb_hotel_completa.csv'\n",
        "tb_hotel = pd.read_csv(url)\n",
        "tb_hotel['is_company'] = np.where(tb_hotel['company'].isna(), 0, 1)\n",
        "tb_hotel['is_agent'] = np.where(tb_hotel['agent'].isna(), 0, 1)"
      ],
      "metadata": {
        "id": "WS5sNYA5WCp0"
      },
      "execution_count": 2,
      "outputs": []
    },
    {
      "cell_type": "code",
      "source": [
        "tb_hotel.info()"
      ],
      "metadata": {
        "id": "s7oG7w97kDte",
        "outputId": "e7db4362-0051-412e-a425-ca778c849fad",
        "colab": {
          "base_uri": "https://localhost:8080/"
        }
      },
      "execution_count": 3,
      "outputs": [
        {
          "output_type": "stream",
          "name": "stdout",
          "text": [
            "<class 'pandas.core.frame.DataFrame'>\n",
            "RangeIndex: 119390 entries, 0 to 119389\n",
            "Data columns (total 33 columns):\n",
            " #   Column                          Non-Null Count   Dtype  \n",
            "---  ------                          --------------   -----  \n",
            " 0   Unnamed: 0                      119390 non-null  int64  \n",
            " 1   hotel                           119390 non-null  object \n",
            " 2   is_canceled                     119390 non-null  int64  \n",
            " 3   lead_time                       119390 non-null  int64  \n",
            " 4   stays_in_weekend_nights         119390 non-null  int64  \n",
            " 5   stays_in_week_nights            119390 non-null  int64  \n",
            " 6   adults                          119390 non-null  int64  \n",
            " 7   children                        119386 non-null  float64\n",
            " 8   babies                          119390 non-null  int64  \n",
            " 9   meal                            119390 non-null  object \n",
            " 10  country                         118902 non-null  object \n",
            " 11  market_segment                  119390 non-null  object \n",
            " 12  distribution_channel            119390 non-null  object \n",
            " 13  is_repeated_guest               119390 non-null  int64  \n",
            " 14  previous_cancellations          119390 non-null  int64  \n",
            " 15  previous_bookings_not_canceled  119390 non-null  int64  \n",
            " 16  reserved_room_type              119390 non-null  object \n",
            " 17  assigned_room_type              119390 non-null  object \n",
            " 18  booking_changes                 119390 non-null  int64  \n",
            " 19  deposit_type                    119390 non-null  object \n",
            " 20  agent                           103050 non-null  float64\n",
            " 21  company                         6797 non-null    float64\n",
            " 22  days_in_waiting_list            119390 non-null  int64  \n",
            " 23  customer_type                   119390 non-null  object \n",
            " 24  adr                             119390 non-null  float64\n",
            " 25  required_car_parking_spaces     119390 non-null  int64  \n",
            " 26  total_of_special_requests       119390 non-null  int64  \n",
            " 27  reservation_status              119390 non-null  object \n",
            " 28  reservation_status_date         119390 non-null  object \n",
            " 29  arrival_date                    119390 non-null  object \n",
            " 30  id_booking                      119390 non-null  int64  \n",
            " 31  is_company                      119390 non-null  int64  \n",
            " 32  is_agent                        119390 non-null  int64  \n",
            "dtypes: float64(4), int64(17), object(12)\n",
            "memory usage: 30.1+ MB\n"
          ]
        }
      ]
    },
    {
      "cell_type": "markdown",
      "source": [
        "## Construindo Pipelines"
      ],
      "metadata": {
        "id": "Xcdsg4--W3ED"
      }
    },
    {
      "cell_type": "code",
      "source": [
        "from sklearn.pipeline import Pipeline\n",
        "from sklearn.compose import ColumnTransformer"
      ],
      "metadata": {
        "id": "epyiPkQcW1ut"
      },
      "execution_count": 4,
      "outputs": []
    },
    {
      "cell_type": "code",
      "source": [
        "tb_hotel.select_dtypes(include = \"number\").columns"
      ],
      "metadata": {
        "id": "6c_QUX-gXIYX",
        "outputId": "452fd838-845f-4427-c545-e8dec797c637",
        "colab": {
          "base_uri": "https://localhost:8080/"
        }
      },
      "execution_count": 5,
      "outputs": [
        {
          "output_type": "execute_result",
          "data": {
            "text/plain": [
              "Index(['Unnamed: 0', 'is_canceled', 'lead_time', 'stays_in_weekend_nights',\n",
              "       'stays_in_week_nights', 'adults', 'children', 'babies',\n",
              "       'is_repeated_guest', 'previous_cancellations',\n",
              "       'previous_bookings_not_canceled', 'booking_changes', 'agent', 'company',\n",
              "       'days_in_waiting_list', 'adr', 'required_car_parking_spaces',\n",
              "       'total_of_special_requests', 'id_booking', 'is_company', 'is_agent'],\n",
              "      dtype='object')"
            ]
          },
          "metadata": {},
          "execution_count": 5
        }
      ]
    },
    {
      "cell_type": "code",
      "source": [
        "cat_vars = [\n",
        "    'hotel', 'meal', 'country', \n",
        "    'market_segment', 'distribution_channel',\n",
        "    'reserved_room_type', 'assigned_room_type', \n",
        "    'deposit_type', 'customer_type', 'is_company', 'is_agent'\n",
        "]\n",
        "num_vars = [\n",
        "    'lead_time', 'stays_in_weekend_nights',\n",
        "    'stays_in_week_nights', 'adults', 'children', 'babies',\n",
        "    'is_repeated_guest', 'previous_cancellations',\n",
        "    'previous_bookings_not_canceled','days_in_waiting_list', \n",
        "    'adr', 'required_car_parking_spaces',\n",
        "    'total_of_special_requests'\n",
        "]"
      ],
      "metadata": {
        "id": "yoyxDRtSW_Zs"
      },
      "execution_count": 6,
      "outputs": []
    },
    {
      "cell_type": "markdown",
      "source": [
        "#### Braço Numérico"
      ],
      "metadata": {
        "id": "3ZAikAUBX_f_"
      }
    },
    {
      "cell_type": "code",
      "source": [
        "num_imputer = KNNImputer(n_neighbors = 5, weights = 'distance')\n",
        "num_scaler = StandardScaler()\n",
        "num_pipeline = Pipeline([('IMPUTER', num_imputer), ('SCALER', num_scaler)])\n"
      ],
      "metadata": {
        "id": "_nfLFYHyXWYa"
      },
      "execution_count": 7,
      "outputs": []
    },
    {
      "cell_type": "markdown",
      "source": [
        "#### Braço Categórico"
      ],
      "metadata": {
        "id": "-5Wtzp2oYdwc"
      }
    },
    {
      "cell_type": "code",
      "source": [
        "cat_imputer = SimpleImputer(strategy = 'constant', fill_value = 'Unknown')\n",
        "ohe = OneHotEncoder(\n",
        "    drop = 'first', \n",
        "    handle_unknown = 'ignore',\n",
        "    min_frequency = 10\n",
        ")\n",
        "cat_pipeline = Pipeline([('IMPUTER', cat_imputer), ('OHE', ohe)])"
      ],
      "metadata": {
        "id": "gTqr_03yYaKD"
      },
      "execution_count": 8,
      "outputs": []
    },
    {
      "cell_type": "markdown",
      "source": [
        "#### Pipeline Final"
      ],
      "metadata": {
        "id": "k1-azUowbqPr"
      }
    },
    {
      "cell_type": "code",
      "source": [
        "composed = ColumnTransformer([('CAT', cat_pipeline, cat_vars),\n",
        "                              ('NUM', num_pipeline, num_vars)])\n",
        "dataprep_pipeline = Pipeline([('DATAPREP', composed)])"
      ],
      "metadata": {
        "id": "0MJt3oNzZm7T"
      },
      "execution_count": 9,
      "outputs": []
    },
    {
      "cell_type": "code",
      "source": [
        "X = tb_hotel[cat_vars + num_vars]\n",
        "y = np.array(tb_hotel['is_canceled'])\n",
        "X_train, X_test, y_train, y_test = train_test_split(X, y, test_size = 0.2)"
      ],
      "metadata": {
        "id": "Y-N5pbs4b9pI"
      },
      "execution_count": 10,
      "outputs": []
    },
    {
      "cell_type": "code",
      "source": [
        "dataprep_pipeline.fit(X_train)\n",
        "X_train_trans = dataprep_pipeline.transform(X_train)\n",
        "X_test_trans = dataprep_pipeline.transform(X_test)"
      ],
      "metadata": {
        "id": "iXWyrPAxcKtr",
        "outputId": "f46ad74b-9f1b-47a3-bed8-d1e3f5a75f58",
        "colab": {
          "base_uri": "https://localhost:8080/"
        }
      },
      "execution_count": 11,
      "outputs": [
        {
          "output_type": "stream",
          "name": "stderr",
          "text": [
            "/usr/local/lib/python3.10/dist-packages/sklearn/preprocessing/_encoders.py:202: UserWarning: Found unknown categories in columns [2] during transform. These unknown categories will be encoded as all zeros\n",
            "  warnings.warn(\n"
          ]
        }
      ]
    },
    {
      "cell_type": "code",
      "source": [
        "num_features = X_train_trans.shape[1]\n",
        "print(num_features)"
      ],
      "metadata": {
        "id": "iaU88bCfdGpa",
        "outputId": "7dd24d18-809d-4e29-a928-a81eb3a7c6da",
        "colab": {
          "base_uri": "https://localhost:8080/"
        }
      },
      "execution_count": 12,
      "outputs": [
        {
          "output_type": "stream",
          "name": "stdout",
          "text": [
            "146\n"
          ]
        }
      ]
    },
    {
      "cell_type": "markdown",
      "source": [
        "## Criando nossa Rede Neural"
      ],
      "metadata": {
        "id": "KfmeCAhocsR8"
      }
    },
    {
      "cell_type": "code",
      "source": [
        "import tensorflow as tf\n",
        "from tensorflow import keras\n",
        "from keras.models import Sequential\n",
        "from keras.layers import Dense, Dropout"
      ],
      "metadata": {
        "id": "kr0JIH_ycnoY"
      },
      "execution_count": 13,
      "outputs": []
    },
    {
      "cell_type": "code",
      "source": [
        "%load_ext tensorboard"
      ],
      "metadata": {
        "id": "UXVktARcffhB"
      },
      "execution_count": 14,
      "outputs": []
    },
    {
      "cell_type": "markdown",
      "source": [
        "#### Definindo a topologia\n",
        "\n",
        "Na definição da topologia precisamos prestar atenção à alguns parametros:\n",
        "\n",
        "1. `input_dim` na primeira camada deve ser o número de features em nosso modelo;\n",
        "1. `activation` nas camadas escondidas é hiperparâmetro a ser testado;\n",
        "1. `activation` na última camada é uma função do tipo de modelo que queremos construir:\n",
        "  * \"sigmoid\" para classificação binária;\n",
        "  * \"softmax\" para multi-classificação;\n",
        "  * não precisa ser especificada para problemas de regressão;\n",
        "1. o **tamanho da última camada** deve corresponder ao tipo de previsão que queremos fazer:\n",
        "  * **1** para problemas de classificação binária;\n",
        "  * **n** para problemas de classificação com *n* categorias;\n",
        "  * **1** para problemas de regressão.\n",
        "\n",
        "Além das camadas densas (como as camadas de um MLP) vamos adicionar uma camada de `Dropout`: \n",
        "\n",
        "1. Camadas de *dropout* tem uma probabilidade de não passar as informações de alguns neurônios de uma camada para a próxima - essa técnica ajuda redes profundas a evitar overfitting.\n",
        "1. O único hiperparâmetro de uma cada `Dropout` é *p*, a % de neurônios que são bloqueados em cada batch."
      ],
      "metadata": {
        "id": "2ZGLkqJZeaAk"
      }
    },
    {
      "cell_type": "code",
      "source": [
        "model = Sequential()\n",
        "model.add(Dense(30, input_dim=num_features, activation=\"relu\"))\n",
        "model.add(Dropout(0.2))\n",
        "model.add(Dense(20, activation=\"relu\"))\n",
        "model.add(Dropout(0.2))\n",
        "model.add(Dense(10, activation=\"relu\"))\n",
        "model.add(Dropout(0.2))\n",
        "model.add(Dense(1, activation=\"sigmoid\"))"
      ],
      "metadata": {
        "id": "jjBP45v9czTz"
      },
      "execution_count": 15,
      "outputs": []
    },
    {
      "cell_type": "markdown",
      "source": [
        "Agora podemos compilar nosso modelo. O parâmetro fundamental dessa função é a *loss function*, que é consequência do problema que queremos resolver:\n",
        "\n",
        "1. `binary_crossentropy` para problemas de classificação binária;\n",
        "1. `categorical_crossentropy` para problemas de multi-classificação;\n",
        "1. `mean_squared_error` para problemas de regressão.\n",
        "\n",
        "https://keras.io/api/losses/\n",
        "\n",
        "De forma semelhante, a métrica utilizada precisa refletir o tipo de problema que estamos resolvendo:\n",
        "\n",
        "https://keras.io/api/metrics/"
      ],
      "metadata": {
        "id": "qgWNSgPzm5Lf"
      }
    },
    {
      "cell_type": "code",
      "source": [
        "model.compile(\n",
        "    loss='binary_crossentropy', \n",
        "    optimizer='adam', \n",
        "    metrics=['accuracy'])"
      ],
      "metadata": {
        "id": "pCKicf_VeMV1"
      },
      "execution_count": 16,
      "outputs": []
    },
    {
      "cell_type": "markdown",
      "source": [
        "#### Estimando pesos\n",
        "\n",
        "O principal hiperparâmetro em um modelo de Deep Learning é o número de *épocas* (`epochs`) - que representa por quantas rodadas de otimização nossa rede passará. Um número maior de épocas melhora nosso modelo mas pode causar overfitting!"
      ],
      "metadata": {
        "id": "syWl7V4Jecy9"
      }
    },
    {
      "cell_type": "code",
      "source": [
        "h = model.fit(X_train_trans.toarray(), y_train, epochs = 25, batch_size = 64, validation_split = 0.1)"
      ],
      "metadata": {
        "id": "pm8YmXqjeV2q",
        "outputId": "db1c9ea7-17ca-491e-a8d3-3b0d709e7a4e",
        "colab": {
          "base_uri": "https://localhost:8080/"
        }
      },
      "execution_count": 17,
      "outputs": [
        {
          "output_type": "stream",
          "name": "stdout",
          "text": [
            "Epoch 1/25\n",
            "1344/1344 [==============================] - 4s 2ms/step - loss: 0.4228 - accuracy: 0.7988 - val_loss: 0.3463 - val_accuracy: 0.8372\n",
            "Epoch 2/25\n",
            "1344/1344 [==============================] - 2s 2ms/step - loss: 0.3606 - accuracy: 0.8299 - val_loss: 0.3365 - val_accuracy: 0.8424\n",
            "Epoch 3/25\n",
            "1344/1344 [==============================] - 2s 2ms/step - loss: 0.3489 - accuracy: 0.8364 - val_loss: 0.3253 - val_accuracy: 0.8459\n",
            "Epoch 4/25\n",
            "1344/1344 [==============================] - 2s 2ms/step - loss: 0.3410 - accuracy: 0.8397 - val_loss: 0.3220 - val_accuracy: 0.8468\n",
            "Epoch 5/25\n",
            "1344/1344 [==============================] - 2s 2ms/step - loss: 0.3377 - accuracy: 0.8403 - val_loss: 0.3187 - val_accuracy: 0.8500\n",
            "Epoch 6/25\n",
            "1344/1344 [==============================] - 2s 2ms/step - loss: 0.3332 - accuracy: 0.8445 - val_loss: 0.3167 - val_accuracy: 0.8510\n",
            "Epoch 7/25\n",
            "1344/1344 [==============================] - 2s 2ms/step - loss: 0.3307 - accuracy: 0.8456 - val_loss: 0.3126 - val_accuracy: 0.8527\n",
            "Epoch 8/25\n",
            "1344/1344 [==============================] - 2s 2ms/step - loss: 0.3285 - accuracy: 0.8458 - val_loss: 0.3147 - val_accuracy: 0.8498\n",
            "Epoch 9/25\n",
            "1344/1344 [==============================] - 2s 2ms/step - loss: 0.3277 - accuracy: 0.8477 - val_loss: 0.3116 - val_accuracy: 0.8533\n",
            "Epoch 10/25\n",
            "1344/1344 [==============================] - 2s 2ms/step - loss: 0.3247 - accuracy: 0.8489 - val_loss: 0.3117 - val_accuracy: 0.8515\n",
            "Epoch 11/25\n",
            "1344/1344 [==============================] - 2s 2ms/step - loss: 0.3238 - accuracy: 0.8478 - val_loss: 0.3105 - val_accuracy: 0.8519\n",
            "Epoch 12/25\n",
            "1344/1344 [==============================] - 2s 2ms/step - loss: 0.3226 - accuracy: 0.8493 - val_loss: 0.3127 - val_accuracy: 0.8524\n",
            "Epoch 13/25\n",
            "1344/1344 [==============================] - 2s 2ms/step - loss: 0.3216 - accuracy: 0.8494 - val_loss: 0.3117 - val_accuracy: 0.8552\n",
            "Epoch 14/25\n",
            "1344/1344 [==============================] - 2s 2ms/step - loss: 0.3206 - accuracy: 0.8498 - val_loss: 0.3128 - val_accuracy: 0.8519\n",
            "Epoch 15/25\n",
            "1344/1344 [==============================] - 2s 2ms/step - loss: 0.3198 - accuracy: 0.8491 - val_loss: 0.3083 - val_accuracy: 0.8542\n",
            "Epoch 16/25\n",
            "1344/1344 [==============================] - 2s 2ms/step - loss: 0.3194 - accuracy: 0.8492 - val_loss: 0.3087 - val_accuracy: 0.8543\n",
            "Epoch 17/25\n",
            "1344/1344 [==============================] - 2s 2ms/step - loss: 0.3182 - accuracy: 0.8505 - val_loss: 0.3088 - val_accuracy: 0.8540\n",
            "Epoch 18/25\n",
            "1344/1344 [==============================] - 2s 2ms/step - loss: 0.3180 - accuracy: 0.8500 - val_loss: 0.3081 - val_accuracy: 0.8525\n",
            "Epoch 19/25\n",
            "1344/1344 [==============================] - 2s 2ms/step - loss: 0.3175 - accuracy: 0.8509 - val_loss: 0.3083 - val_accuracy: 0.8540\n",
            "Epoch 20/25\n",
            "1344/1344 [==============================] - 2s 2ms/step - loss: 0.3170 - accuracy: 0.8510 - val_loss: 0.3111 - val_accuracy: 0.8541\n",
            "Epoch 21/25\n",
            "1344/1344 [==============================] - 2s 2ms/step - loss: 0.3169 - accuracy: 0.8516 - val_loss: 0.3091 - val_accuracy: 0.8548\n",
            "Epoch 22/25\n",
            "1344/1344 [==============================] - 2s 2ms/step - loss: 0.3159 - accuracy: 0.8518 - val_loss: 0.3089 - val_accuracy: 0.8573\n",
            "Epoch 23/25\n",
            "1344/1344 [==============================] - 2s 2ms/step - loss: 0.3156 - accuracy: 0.8520 - val_loss: 0.3086 - val_accuracy: 0.8552\n",
            "Epoch 24/25\n",
            "1344/1344 [==============================] - 2s 2ms/step - loss: 0.3152 - accuracy: 0.8518 - val_loss: 0.3089 - val_accuracy: 0.8575\n",
            "Epoch 25/25\n",
            "1344/1344 [==============================] - 2s 2ms/step - loss: 0.3145 - accuracy: 0.8535 - val_loss: 0.3096 - val_accuracy: 0.8550\n"
          ]
        }
      ]
    },
    {
      "cell_type": "code",
      "source": [
        "y_pred_prob = model.predict(X_test_trans)\n",
        "y_pred_prob"
      ],
      "metadata": {
        "id": "A7V2EgLSeme_",
        "outputId": "57022324-ed20-454a-de7a-c263d18ee28f",
        "colab": {
          "base_uri": "https://localhost:8080/"
        }
      },
      "execution_count": 18,
      "outputs": [
        {
          "output_type": "stream",
          "name": "stdout",
          "text": [
            "747/747 [==============================] - 1s 936us/step\n"
          ]
        },
        {
          "output_type": "execute_result",
          "data": {
            "text/plain": [
              "array([[1.5548855e-16],\n",
              "       [1.0000000e+00],\n",
              "       [3.9843023e-02],\n",
              "       ...,\n",
              "       [3.7726966e-01],\n",
              "       [6.2349039e-01],\n",
              "       [1.0000000e+00]], dtype=float32)"
            ]
          },
          "metadata": {},
          "execution_count": 18
        }
      ]
    },
    {
      "cell_type": "code",
      "source": [
        "y_pred = [1 if x > 0.5 else 0 for x in y_pred_prob]\n",
        "y_pred[0:10]"
      ],
      "metadata": {
        "id": "orm3EW5zioFj",
        "outputId": "f9fe3a9b-0afc-444e-dce2-b9dd0af45153",
        "colab": {
          "base_uri": "https://localhost:8080/"
        }
      },
      "execution_count": 28,
      "outputs": [
        {
          "output_type": "execute_result",
          "data": {
            "text/plain": [
              "[0, 1, 0, 0, 0, 0, 0, 0, 0, 1]"
            ]
          },
          "metadata": {},
          "execution_count": 28
        }
      ]
    },
    {
      "cell_type": "code",
      "source": [
        "from sklearn.metrics import f1_score\n",
        "print(f\"F1-Scoreo no Conjunto de Teste: {np.round(f1_score(y_test, y_pred), 3)}\")"
      ],
      "metadata": {
        "id": "URin8WMFiz1Z",
        "outputId": "9da1c710-2aad-4f45-d53c-b9c6a6e934d4",
        "colab": {
          "base_uri": "https://localhost:8080/"
        }
      },
      "execution_count": 20,
      "outputs": [
        {
          "output_type": "stream",
          "name": "stdout",
          "text": [
            "F1-Scoreo no Conjunto de Teste: 0.793\n"
          ]
        }
      ]
    },
    {
      "cell_type": "markdown",
      "source": [
        "### Visualizando Overfitting\n",
        "\n",
        "Para visualizar overfitting, vamos criar uma rede profunda, com mais camadas:"
      ],
      "metadata": {
        "id": "jf2fTHrrjRaU"
      }
    },
    {
      "cell_type": "code",
      "source": [
        "model_2 = Sequential()\n",
        "model_2.add(Dense(80, input_dim=num_features, activation=\"relu\"))\n",
        "model_2.add(Dropout(0.1))\n",
        "model_2.add(Dense(80, activation=\"relu\"))\n",
        "model_2.add(Dropout(0.1))\n",
        "model_2.add(Dense(80, activation=\"relu\"))\n",
        "model_2.add(Dropout(0.1))\n",
        "model_2.add(Dense(80, activation=\"relu\"))\n",
        "model_2.add(Dropout(0.1))\n",
        "model_2.add(Dense(80, activation=\"relu\"))\n",
        "model_2.add(Dropout(0.1))\n",
        "model_2.add(Dense(80, activation=\"relu\"))\n",
        "model_2.add(Dropout(0.1))\n",
        "model_2.add(Dense(80, activation=\"relu\"))\n",
        "model_2.add(Dropout(0.1))\n",
        "model_2.add(Dense(80, activation=\"relu\"))\n",
        "model_2.add(Dropout(0.1))\n",
        "model_2.add(Dense(80, activation=\"relu\"))\n",
        "model_2.add(Dropout(0.1))\n",
        "model_2.add(Dense(1, activation=\"sigmoid\"))\n",
        "model_2.compile(\n",
        "    loss='binary_crossentropy', \n",
        "    optimizer='adam', \n",
        "    metrics=[keras.metrics.Precision(), keras.metrics.Recall()])"
      ],
      "metadata": {
        "id": "ekpdbF6kjWuq"
      },
      "execution_count": 29,
      "outputs": []
    },
    {
      "cell_type": "code",
      "source": [
        "history = model_2.fit(\n",
        "    X_train_trans.toarray(), y_train,\n",
        "    validation_split = 0.1, \n",
        "    epochs=25, batch_size=64)"
      ],
      "metadata": {
        "id": "N9ixf4T6jHiw",
        "outputId": "1129d102-e19a-4b9b-9cfa-03d37310bcdb",
        "colab": {
          "base_uri": "https://localhost:8080/"
        }
      },
      "execution_count": 30,
      "outputs": [
        {
          "output_type": "stream",
          "name": "stdout",
          "text": [
            "Epoch 1/25\n",
            "1344/1344 [==============================] - 6s 3ms/step - loss: 0.3837 - precision_1: 0.8066 - recall_1: 0.6532 - val_loss: 0.3357 - val_precision_1: 0.8345 - val_recall_1: 0.7156\n",
            "Epoch 2/25\n",
            "1344/1344 [==============================] - 4s 3ms/step - loss: 0.3407 - precision_1: 0.8164 - recall_1: 0.7258 - val_loss: 0.3287 - val_precision_1: 0.8308 - val_recall_1: 0.7379\n",
            "Epoch 3/25\n",
            "1344/1344 [==============================] - 4s 3ms/step - loss: 0.3292 - precision_1: 0.8249 - recall_1: 0.7313 - val_loss: 0.3188 - val_precision_1: 0.8249 - val_recall_1: 0.7612\n",
            "Epoch 4/25\n",
            "1344/1344 [==============================] - 4s 3ms/step - loss: 0.3236 - precision_1: 0.8308 - recall_1: 0.7330 - val_loss: 0.3139 - val_precision_1: 0.8259 - val_recall_1: 0.7603\n",
            "Epoch 5/25\n",
            "1344/1344 [==============================] - 4s 3ms/step - loss: 0.3185 - precision_1: 0.8236 - recall_1: 0.7568 - val_loss: 0.3097 - val_precision_1: 0.8006 - val_recall_1: 0.8048\n",
            "Epoch 6/25\n",
            "1344/1344 [==============================] - 4s 3ms/step - loss: 0.3134 - precision_1: 0.8299 - recall_1: 0.7572 - val_loss: 0.3129 - val_precision_1: 0.8050 - val_recall_1: 0.7978\n",
            "Epoch 7/25\n",
            "1344/1344 [==============================] - 4s 3ms/step - loss: 0.3115 - precision_1: 0.8335 - recall_1: 0.7578 - val_loss: 0.3239 - val_precision_1: 0.8130 - val_recall_1: 0.8042\n",
            "Epoch 8/25\n",
            "1344/1344 [==============================] - 5s 3ms/step - loss: 0.3062 - precision_1: 0.8315 - recall_1: 0.7683 - val_loss: 0.3056 - val_precision_1: 0.8562 - val_recall_1: 0.7326\n",
            "Epoch 9/25\n",
            "1344/1344 [==============================] - 5s 3ms/step - loss: 0.3034 - precision_1: 0.8351 - recall_1: 0.7689 - val_loss: 0.3040 - val_precision_1: 0.8184 - val_recall_1: 0.7962\n",
            "Epoch 10/25\n",
            "1344/1344 [==============================] - 4s 3ms/step - loss: 0.3019 - precision_1: 0.8439 - recall_1: 0.7587 - val_loss: 0.3037 - val_precision_1: 0.8494 - val_recall_1: 0.7565\n",
            "Epoch 11/25\n",
            "1344/1344 [==============================] - 4s 3ms/step - loss: 0.2996 - precision_1: 0.8474 - recall_1: 0.7594 - val_loss: 0.3027 - val_precision_1: 0.8628 - val_recall_1: 0.7370\n",
            "Epoch 12/25\n",
            "1344/1344 [==============================] - 4s 3ms/step - loss: 0.2968 - precision_1: 0.8414 - recall_1: 0.7736 - val_loss: 0.3091 - val_precision_1: 0.8652 - val_recall_1: 0.7326\n",
            "Epoch 13/25\n",
            "1344/1344 [==============================] - 4s 3ms/step - loss: 0.2955 - precision_1: 0.8494 - recall_1: 0.7641 - val_loss: 0.2998 - val_precision_1: 0.8500 - val_recall_1: 0.7645\n",
            "Epoch 14/25\n",
            "1344/1344 [==============================] - 4s 3ms/step - loss: 0.2936 - precision_1: 0.8424 - recall_1: 0.7763 - val_loss: 0.3143 - val_precision_1: 0.8538 - val_recall_1: 0.7495\n",
            "Epoch 15/25\n",
            "1344/1344 [==============================] - 5s 3ms/step - loss: 0.2925 - precision_1: 0.8463 - recall_1: 0.7719 - val_loss: 0.3078 - val_precision_1: 0.8238 - val_recall_1: 0.7895\n",
            "Epoch 16/25\n",
            "1344/1344 [==============================] - 4s 3ms/step - loss: 0.2916 - precision_1: 0.8441 - recall_1: 0.7776 - val_loss: 0.3021 - val_precision_1: 0.8434 - val_recall_1: 0.7659\n",
            "Epoch 17/25\n",
            "1344/1344 [==============================] - 5s 3ms/step - loss: 0.2888 - precision_1: 0.8500 - recall_1: 0.7735 - val_loss: 0.3019 - val_precision_1: 0.8417 - val_recall_1: 0.7648\n",
            "Epoch 18/25\n",
            "1344/1344 [==============================] - 5s 3ms/step - loss: 0.2887 - precision_1: 0.8477 - recall_1: 0.7773 - val_loss: 0.2999 - val_precision_1: 0.8288 - val_recall_1: 0.7903\n",
            "Epoch 19/25\n",
            "1344/1344 [==============================] - 4s 3ms/step - loss: 0.2873 - precision_1: 0.8492 - recall_1: 0.7792 - val_loss: 0.3026 - val_precision_1: 0.8758 - val_recall_1: 0.7265\n",
            "Epoch 20/25\n",
            "1344/1344 [==============================] - 4s 3ms/step - loss: 0.2841 - precision_1: 0.8520 - recall_1: 0.7794 - val_loss: 0.3022 - val_precision_1: 0.8540 - val_recall_1: 0.7556\n",
            "Epoch 21/25\n",
            "1344/1344 [==============================] - 4s 3ms/step - loss: 0.2857 - precision_1: 0.8579 - recall_1: 0.7734 - val_loss: 0.2995 - val_precision_1: 0.8409 - val_recall_1: 0.7778\n",
            "Epoch 22/25\n",
            "1344/1344 [==============================] - 4s 3ms/step - loss: 0.2835 - precision_1: 0.8506 - recall_1: 0.7822 - val_loss: 0.2983 - val_precision_1: 0.8536 - val_recall_1: 0.7645\n",
            "Epoch 23/25\n",
            "1344/1344 [==============================] - 4s 3ms/step - loss: 0.2821 - precision_1: 0.8509 - recall_1: 0.7840 - val_loss: 0.3050 - val_precision_1: 0.8331 - val_recall_1: 0.7945\n",
            "Epoch 24/25\n",
            "1344/1344 [==============================] - 4s 3ms/step - loss: 0.2818 - precision_1: 0.8529 - recall_1: 0.7806 - val_loss: 0.2991 - val_precision_1: 0.8367 - val_recall_1: 0.7839\n",
            "Epoch 25/25\n",
            "1344/1344 [==============================] - 4s 3ms/step - loss: 0.2801 - precision_1: 0.8480 - recall_1: 0.7881 - val_loss: 0.2995 - val_precision_1: 0.8154 - val_recall_1: 0.8106\n"
          ]
        }
      ]
    },
    {
      "cell_type": "code",
      "source": [
        "history.history.keys()"
      ],
      "metadata": {
        "id": "wHuBn4PNkyke",
        "outputId": "8c457bd3-c561-467e-f007-8d62e879b890",
        "colab": {
          "base_uri": "https://localhost:8080/"
        }
      },
      "execution_count": 31,
      "outputs": [
        {
          "output_type": "execute_result",
          "data": {
            "text/plain": [
              "dict_keys(['loss', 'precision_1', 'recall_1', 'val_loss', 'val_precision_1', 'val_recall_1'])"
            ]
          },
          "metadata": {},
          "execution_count": 31
        }
      ]
    },
    {
      "cell_type": "code",
      "source": [
        "tb_eval = pd.DataFrame({'precision' : history.history['precision'], \n",
        "                        'recall' : history.history['recall'], \n",
        "                        'val_precision' : history.history['val_precision'], \n",
        "                        'val_recall' : history.history['val_recall'], \n",
        "                        'epoch' : range(25)})"
      ],
      "metadata": {
        "id": "vphrGLkijg81",
        "outputId": "476a3ff8-607a-47d4-8903-d5ddc6ac0abe",
        "colab": {
          "base_uri": "https://localhost:8080/",
          "height": 232
        }
      },
      "execution_count": 32,
      "outputs": [
        {
          "output_type": "error",
          "ename": "KeyError",
          "evalue": "ignored",
          "traceback": [
            "\u001b[0;31m---------------------------------------------------------------------------\u001b[0m",
            "\u001b[0;31mKeyError\u001b[0m                                  Traceback (most recent call last)",
            "\u001b[0;32m<ipython-input-32-392ca379a9a0>\u001b[0m in \u001b[0;36m<cell line: 1>\u001b[0;34m()\u001b[0m\n\u001b[0;32m----> 1\u001b[0;31m tb_eval = pd.DataFrame({'precision' : history.history['precision'], \n\u001b[0m\u001b[1;32m      2\u001b[0m                         \u001b[0;34m'recall'\u001b[0m \u001b[0;34m:\u001b[0m \u001b[0mhistory\u001b[0m\u001b[0;34m.\u001b[0m\u001b[0mhistory\u001b[0m\u001b[0;34m[\u001b[0m\u001b[0;34m'recall'\u001b[0m\u001b[0;34m]\u001b[0m\u001b[0;34m,\u001b[0m\u001b[0;34m\u001b[0m\u001b[0;34m\u001b[0m\u001b[0m\n\u001b[1;32m      3\u001b[0m                         \u001b[0;34m'val_precision'\u001b[0m \u001b[0;34m:\u001b[0m \u001b[0mhistory\u001b[0m\u001b[0;34m.\u001b[0m\u001b[0mhistory\u001b[0m\u001b[0;34m[\u001b[0m\u001b[0;34m'val_precision'\u001b[0m\u001b[0;34m]\u001b[0m\u001b[0;34m,\u001b[0m\u001b[0;34m\u001b[0m\u001b[0;34m\u001b[0m\u001b[0m\n\u001b[1;32m      4\u001b[0m                         \u001b[0;34m'val_recall'\u001b[0m \u001b[0;34m:\u001b[0m \u001b[0mhistory\u001b[0m\u001b[0;34m.\u001b[0m\u001b[0mhistory\u001b[0m\u001b[0;34m[\u001b[0m\u001b[0;34m'val_recall'\u001b[0m\u001b[0;34m]\u001b[0m\u001b[0;34m,\u001b[0m\u001b[0;34m\u001b[0m\u001b[0;34m\u001b[0m\u001b[0m\n\u001b[1;32m      5\u001b[0m                         'epoch' : range(25)})\n",
            "\u001b[0;31mKeyError\u001b[0m: 'precision'"
          ]
        }
      ]
    },
    {
      "cell_type": "code",
      "source": [
        "tb_eval['f1_score'] = 2 * (tb_eval['precision'] * tb_eval['recall'])/(tb_eval['precision'] + tb_eval['recall'])\n",
        "tb_eval['val_f1_score'] = 2 * (tb_eval['val_precision'] * tb_eval['val_recall'])/(tb_eval['val_precision'] + tb_eval['val_recall'])"
      ],
      "metadata": {
        "id": "ZmW6B8G3b2sG"
      },
      "execution_count": null,
      "outputs": []
    },
    {
      "cell_type": "code",
      "source": [
        "sns.lineplot(data = tb_eval, x = 'epoch', y = 'f1_score', label = \"Train\")\n",
        "sns.lineplot(data = tb_eval, x = 'epoch', y = 'val_f1_score', label = \"Test\")"
      ],
      "metadata": {
        "id": "kL3x6u7eki8v"
      },
      "execution_count": null,
      "outputs": []
    },
    {
      "cell_type": "code",
      "source": [
        "y_pred_prob = model_2.predict(X_test_trans)\n",
        "y_pred = [1 if x > 0.5 else 0 for x in y_pred_prob]\n",
        "print(f\"F1-Score no Conjunto de Teste: {np.round(f1_score(y_test, y_pred), 3)}\")"
      ],
      "metadata": {
        "id": "nLJ-TeNEk-v1",
        "outputId": "8a5b9020-f33f-4dfd-dd16-1821a2fd6650",
        "colab": {
          "base_uri": "https://localhost:8080/"
        }
      },
      "execution_count": 33,
      "outputs": [
        {
          "output_type": "stream",
          "name": "stdout",
          "text": [
            "747/747 [==============================] - 1s 1ms/step\n",
            "F1-Score no Conjunto de Teste: 0.81\n"
          ]
        }
      ]
    },
    {
      "cell_type": "code",
      "source": [
        "# "
      ],
      "metadata": {
        "id": "5do8SCNij5iO"
      },
      "execution_count": 27,
      "outputs": []
    }
  ]
}